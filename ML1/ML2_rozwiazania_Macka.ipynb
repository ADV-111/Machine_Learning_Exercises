{
 "cells": [
  {
   "cell_type": "markdown",
   "metadata": {},
   "source": [
    "# Miary oceny klasyfikatora\n",
    "\n",
    "W realnych problemach związanych z podejmowanie decyzji (np. klasyfikacja binarna) bardzo często różne błędy mają różną wagę. Przykład: orzekanie o winności podejrzanego -> skazanie niewinnej osoby jest uznawane za błąd dużo gorszy niż nie skazanie osoby winnej (w naszej kulturze).\n",
    "\n",
    "Dlatego w praktyce data science bardzo ważne jest dobranie odpowiedniej miary do problemu (rozumienie celu biznesowego!). Procent poprawnych klasyfikacji (*accuracy*) często nie jest właściwą miarą.\n",
    "\n",
    "W klasyfikacji binarnej w praktyce zawsze przyjmujemy, że klasa $1$ jest klasą wyróżnioną. Klasę $1$ nazywamy klasą \"positive\", a klasę $0$ - \"negative\".\n",
    "\n",
    "### Podstawowe pojęcia:\n",
    "\n",
    "<img src=\"Grafika/confusion_matrix.png\" style=\"width: 400px;\">\n",
    "\n",
    "\n",
    "## Najczęsciej stosowane miary (oprócz accuracy)\n",
    "\n",
    "**Precyzja** - mówi o tym, jak *precyzyjny* jest klasyfikator - tzn. jak często, to co klasyfikator wskazał jako pozytywne, w rzeczywistości jest pozytywne:\n",
    "\n",
    "$$precision = \\frac{TP}{TP + FP}$$\n",
    "\n",
    "**Czułość** - mówi o tym, jak *czuły* jest klasyfikator - tzn. w jakim stopniu wykrywa obserwacje, które są pozytywne:\n",
    "\n",
    "$$recall = \\frac{TP}{TP+FN}$$\n",
    "\n",
    "**Miara F1** - średnia harmoniczna z precyzji i czułości:\n",
    "\n",
    "$$F1 = \\frac{2}{\\frac{1}{precision} + \\frac{1}{recall}} = 2 \\cdot \\frac{precicion \\cdot recall}{precision + recall}$$\n",
    "\n",
    "*Do przemyślenia: dlaczego średnia harmoniczna, a nie po prostu średnia arytmetyczna?*\n",
    "\n",
    "#### Zadanie\n",
    "\n",
    "Do każdego przypadku zaproponuj miarę jakości klasyfikatora, którą powinniśmy maksymalizować.\n",
    "\n",
    "- robot żołnierz\n",
    " - Mamy robota, którego wysyłamy na woję, żeby walczył z ludźmi. Robot opiera swoje działanie przy użyciu klasyfikatora: widząć jakiegoś człowieka klasyfikuje go jako \"cywila\" (0) lub \"wrogiego żołnierza\" (1), i w drugim przypadku strzela do niego.\n",
    "- robot lekarz\n",
    " - Mamy automat, który na podstawie wyników badań przewiduje czy badany pacjent jest zagrożony pewną chorobą (1) czy nic mu nie grozi (0). Jeśli przewiduje, że tak, to kieruje pacjenta na dodatkowe badania dające pewny wynik.\n",
    "- robot sędzia\n",
    " - Zamiast sędziego w sądzie pracuje robot, który klasyfikuje podejrzanych jako winnych (1) lub nie (0).\n",
    "- wyszukiwanie informacji - klasyfikacja fragmentów tekstów jako istotne\n",
    " - mamy automat, który skanuje teksty pojawiające się w internecie i klasyfikuje poszczególne fragmenty jako dotyczące naszej firmy (1) lub nie (0), po to aby w zautomatyzowany sposób gromadzić wzmianki o naszej firmie. Później zgromadzone przez ten automat teksty trafiają do szefa, który zamierza je wszystkie przeczytać."
   ]
  },
  {
   "cell_type": "markdown",
   "metadata": {},
   "source": [
    "```\n",
    "y_true             y_pred\n",
    "1                  1          TP - true positive\n",
    "1                  0          FN - false negative\n",
    "0                  0          TN - true negative\n",
    "0                  1          FP - false positive\n",
    "```"
   ]
  },
  {
   "cell_type": "code",
   "execution_count": 1,
   "metadata": {},
   "outputs": [],
   "source": [
    "from sklearn.metrics import precision_score, recall_score, f1_score, classification_report"
   ]
  },
  {
   "cell_type": "code",
   "execution_count": 2,
   "metadata": {},
   "outputs": [
    {
     "data": {
      "text/plain": [
       "1.0"
      ]
     },
     "execution_count": 2,
     "metadata": {},
     "output_type": "execute_result"
    }
   ],
   "source": [
    "y_true = [0, 0, 1, 1, 1]\n",
    "y_pred = [0, 0, 0, 0, 1]\n",
    "\n",
    "precision_score(y_true, y_pred)"
   ]
  },
  {
   "cell_type": "code",
   "execution_count": 3,
   "metadata": {},
   "outputs": [
    {
     "data": {
      "text/plain": [
       "0.3333333333333333"
      ]
     },
     "execution_count": 3,
     "metadata": {},
     "output_type": "execute_result"
    }
   ],
   "source": [
    "y_true = [0, 0, 1, 1, 1]\n",
    "y_pred = [0, 0, 0, 0, 1]\n",
    "\n",
    "# kolejność ma znaczenie(!) zawsze lepiej zajrzeć do dokumentacji jaka jest kolejność\n",
    "precision_score(y_pred, y_true)"
   ]
  },
  {
   "cell_type": "code",
   "execution_count": 4,
   "metadata": {},
   "outputs": [
    {
     "data": {
      "text/plain": [
       "0.3333333333333333"
      ]
     },
     "execution_count": 4,
     "metadata": {},
     "output_type": "execute_result"
    }
   ],
   "source": [
    "y_true = [0, 0, 1, 1, 1]\n",
    "y_pred = [0, 0, 0, 0, 1]\n",
    "\n",
    "# w populacji było 3 chorych, udało nam się znaleźć jednego\n",
    "recall_score(y_true, y_pred)"
   ]
  },
  {
   "cell_type": "markdown",
   "metadata": {},
   "source": [
    "## Zwróćmy uwagę na to, że precision i recall mogą być niezdefiniowane w zdegenerowanych przypadkach"
   ]
  },
  {
   "cell_type": "code",
   "execution_count": 5,
   "metadata": {},
   "outputs": [
    {
     "name": "stderr",
     "output_type": "stream",
     "text": [
      "/home/kodolamacz/anaconda3/lib/python3.7/site-packages/sklearn/metrics/classification.py:1437: UndefinedMetricWarning: Precision is ill-defined and being set to 0.0 due to no predicted samples.\n",
      "  'precision', 'predicted', average, warn_for)\n"
     ]
    },
    {
     "data": {
      "text/plain": [
       "0.0"
      ]
     },
     "execution_count": 5,
     "metadata": {},
     "output_type": "execute_result"
    }
   ],
   "source": [
    "# precision jest nieokreślone gdy model nie zaklasyfikuje żadnej obserwacji jako 1\n",
    "\n",
    "y_true = [0, 0, 1, 1, 1]\n",
    "y_pred = [0, 0, 0, 0, 0]\n",
    "\n",
    "precision_score(y_true, y_pred)"
   ]
  },
  {
   "cell_type": "code",
   "execution_count": 6,
   "metadata": {},
   "outputs": [
    {
     "name": "stderr",
     "output_type": "stream",
     "text": [
      "/home/kodolamacz/anaconda3/lib/python3.7/site-packages/sklearn/metrics/classification.py:1439: UndefinedMetricWarning: Recall is ill-defined and being set to 0.0 due to no true samples.\n",
      "  'recall', 'true', average, warn_for)\n"
     ]
    },
    {
     "data": {
      "text/plain": [
       "0.0"
      ]
     },
     "execution_count": 6,
     "metadata": {},
     "output_type": "execute_result"
    }
   ],
   "source": [
    "# recall jest nieokreślone gdy nie ma w ogóle jedynek w populacji (tej prawdziwej)\n",
    "\n",
    "y_true = [0, 0, 0, 0, 0]\n",
    "y_pred = [0, 0, 0, 0, 1]\n",
    "\n",
    "recall_score(y_true, y_pred)"
   ]
  },
  {
   "cell_type": "code",
   "execution_count": 8,
   "metadata": {},
   "outputs": [
    {
     "data": {
      "text/plain": [
       "0.6666666666666666"
      ]
     },
     "execution_count": 8,
     "metadata": {},
     "output_type": "execute_result"
    }
   ],
   "source": [
    "y_true = [0, 0, 0, 1, 1]\n",
    "y_pred = [0, 0, 0, 0, 1]\n",
    "\n",
    "f1_score(y_true, y_pred)"
   ]
  },
  {
   "cell_type": "code",
   "execution_count": 9,
   "metadata": {},
   "outputs": [
    {
     "data": {
      "text/plain": [
       "0.3399999999999999"
      ]
     },
     "execution_count": 9,
     "metadata": {},
     "output_type": "execute_result"
    }
   ],
   "source": [
    "from sklearn.metrics import fbeta_score\n",
    "y_true = [0, 0, 0, 1, 1] # lepszy recall (0.5), gorszy precision (0.33)\n",
    "y_pred = [0, 1, 1, 0, 1]\n",
    "fbeta_score(y_true, y_pred, beta=0.25) # faworyzuje precision"
   ]
  },
  {
   "cell_type": "code",
   "execution_count": 10,
   "metadata": {},
   "outputs": [
    {
     "data": {
      "text/plain": [
       "0.4857142857142857"
      ]
     },
     "execution_count": 10,
     "metadata": {},
     "output_type": "execute_result"
    }
   ],
   "source": [
    "from sklearn.metrics import fbeta_score\n",
    "y_true = [0, 0, 0, 1, 1] # lepszy recall (0.5), gorszy precision (0.33)\n",
    "y_pred = [0, 1, 1, 0, 1]\n",
    "fbeta_score(y_true, y_pred, beta=4) # faworyzuje recall"
   ]
  },
  {
   "cell_type": "code",
   "execution_count": 11,
   "metadata": {},
   "outputs": [
    {
     "name": "stdout",
     "output_type": "stream",
     "text": [
      "              precision    recall  f1-score   support\n",
      "\n",
      "           0       0.50      0.33      0.40         3\n",
      "           1       0.33      0.50      0.40         2\n",
      "\n",
      "    accuracy                           0.40         5\n",
      "   macro avg       0.42      0.42      0.40         5\n",
      "weighted avg       0.43      0.40      0.40         5\n",
      "\n"
     ]
    }
   ],
   "source": [
    "print(classification_report(y_true, y_pred))"
   ]
  },
  {
   "cell_type": "markdown",
   "metadata": {},
   "source": [
    "# Czemu średnia harmoniczna, a nie znana i lubiana średnia arytmetyczna (chodzi o F-measure)?"
   ]
  },
  {
   "cell_type": "code",
   "execution_count": 16,
   "metadata": {},
   "outputs": [
    {
     "name": "stdout",
     "output_type": "stream",
     "text": [
      "prec=0.125\n",
      "recall=1.0\n",
      "f1 (harmoniczna)=0.2222222222222222\n",
      "srednia arytmetyczna=0.5625\n"
     ]
    }
   ],
   "source": [
    "# W przypadku, gdy jeden wynik (np. precision) jest wysoki,\n",
    "# a drugi (np. recall) jest niski, to średnia arytmetyczna \n",
    "# da nam całkiem niezły wynik. Średnia harmoniczna zaś\n",
    "# będzie ciążyć w stronę gorszego wyniku.\n",
    "# Dzięki temu mamy pewność że wysoki wynik na F-measure\n",
    "# świadczy o wysokich wartośćiach obu miar\n",
    "\n",
    "y_true = [0,0,0,0,0,0,0,1]\n",
    "y_pred = [1,1,1,1,1,1,1,1]\n",
    "\n",
    "prec = precision_score(y_true, y_pred)\n",
    "recall = recall_score(y_true, y_pred)\n",
    "print(f\"prec={prec}\")\n",
    "print(f\"recall={recall}\")\n",
    "print(f\"f1 (harmoniczna)={f1_score(y_true, y_pred)}\") # nizsza\n",
    "print(f\"srednia arytmetyczna={(prec+recall)/2}\") # wyzsza"
   ]
  },
  {
   "cell_type": "markdown",
   "metadata": {},
   "source": [
    "# Klasyfikator SVM - Support Vector Machines\n",
    "\n",
    "*W sklearn: SVC.* \n",
    "*Po polsku: maszyna wektorów nośnych.*\n",
    "\n",
    "![svm_intro1](Grafika/svm_intro1.jpg)\n",
    "![svm_intro2](Grafika/svm_intro2.jpg)\n",
    "\n",
    "Źródło: https://www.safaribooksonline.com/library/view/python-deeper-insights/9781787128576/ch03s04.html\n",
    "\n",
    "### Matematyka\n",
    "\n",
    "Zajmujemy się klasyfikacją binarną, ale przyjmujemy konwencję $Y\\in \\{-1,1\\}$. \n",
    "\n",
    "Rozważmy przypadek, gdy dane są liniowo separowalne.\n",
    "\n",
    "$ \\mathbf{w} \\cdot \\mathbf{x} = 0$ - równanie opisujące linię (hiperpłaszczyznę) rozdzielającą;\n",
    "\n",
    "$\n",
    "\\begin{equation}\n",
    "  \\left.\\begin{aligned}\n",
    "  \\mathbf{w} \\cdot \\mathbf{x} - b & = 1\\\\\n",
    "  \\mathbf{w} \\cdot \\mathbf{x} - b & = -1\n",
    "\\end{aligned}\\right\\} \\text{- równania marginesów.}\n",
    "\\end{equation}\n",
    "$\n",
    "\n",
    "Zatem SVM szuka takiej płaszczyzny (parametrów $\\mathbf{w}, b$), dla której:\n",
    "\n",
    "$\n",
    "\\begin{equation}\n",
    "  \\begin{aligned}\n",
    "  \\mathbf{w} \\cdot x_i - b & \\geq 1, \\ \\ \\text{ gdy } \\ y_i = 1, \\\\\n",
    "  \\mathbf{w} \\cdot x_i - b & \\leq -1 \\ \\ \\text{ gdy } \\ y_i = -1,\n",
    "\\end{aligned}\n",
    "\\end{equation}\n",
    "$\n",
    "\n",
    "Co można zapisać w skrócie warunkiem:\n",
    "\n",
    "$y_i ( \\mathbf{w} \\cdot x_i - b) \\geq 1.$\n",
    "\n",
    "A ponieważ odległość między marginesami (grubość płaszczyzny rozdzielającej klasy) wynosi $\\frac{2}{\\|\\mathbf{w}\\|}$, to ostatecznie uczenie klasyfikatora SVM można zdefiniować jako:\n",
    "\n",
    "$$\n",
    "\\begin{equation}\n",
    "  \\begin{aligned}\n",
    "  \\text{zminimalizuj } & \\ \\ \\ \\|\\mathbf{w}\\|, \\\\ \n",
    "  \\text{przy ograniczeniu: } & \\ \\ \\ y_i ( \\mathbf{w} \\cdot x_i - b) \\geq 1, \\ \\ \\ i = 1, \\ldots, n.\n",
    "\\end{aligned}\n",
    "\\end{equation}\n",
    "$$\n",
    "\n",
    "## Dane nieseparowalne \n",
    "\n",
    "![svm_intro1](Grafika/svm_nonlinear0.png)\n",
    "Źródło: http://inspirehep.net/record/1265323/plots\n",
    "\n",
    "Definiujemy zawiasową funkcję straty (*hinge loss*):\n",
    "\n",
    "$\\zeta _{i} = \\max{(0, 1 - y_i ( \\mathbf{w} \\cdot x_i - b))}.$\n",
    "\n",
    "Funkcja ta przyjmuje wartość $0$, gdy obserawcja $x_i$ leży po właściwej stronie hiperpłaszczyzny rozdzielającej, oraz jej wartość jest proporcjonalna do odległości do płaszczyzny w przypadku, gdy punkt leży po złej stronie.\n",
    "\n",
    "Uczenie klasyfikatora definiujemy jako minimalizacja funkcji:\n",
    "\n",
    "$$\\bigg[\\frac {1}{n}\\sum\\limits_{i=1}^{n}\\max (0,1-y_{i}({\\mathbf {w}}\\cdot {\\mathbf {x}}_{i}-b) )\\bigg] + \\lambda \\| {\\mathbf {w}}\\| ^{2}.$$\n",
    "\n",
    "Czyli jednocześnie maksymalizujemy odległość między marginesami (minimalizujemy $\\| {\\mathbf {w}}\\|$) oraz minimalizujemy karę za punkty leżące po złej stronie. $\\lambda$ - współczynnik ważący składowe opytmalizowanej funkcji.\n",
    "\n",
    "Uwaga: tak samo jak w regresji logistycznej w sklearn pojawia się parametr `C` - odpowiada on wartości $\\frac{1}{\\lambda}$. Zatem: im większe `C`, tym mniejszą wagę przywiązujemy do szerokości marginesu, a większą do położenia punktów po właściwych stronach, czyli margines będzie węższy ale lepiej dopasowany.\n",
    "\n",
    "<br>\n",
    "**Uwaga 1**: Czy SVM da nam prawdopodobieństwo przynależenia obserwacji do klas (jak $\\pi(x)$ w regresji logistycznej, czy empiryczny procent klas w liściu w drzewie decyzyjnym?\n",
    "\n",
    "<br>\n",
    "\n",
    "Z definicji nie. Ale w praktyce się to robi. Przyjmuje się, że $P(Y=1 \\mid x) = \\text{sigmoid}(x) = \\frac{1}{1+e^{-d(x)}}$, gdzie $d(x)$ - odległość punktu $x$ od hiperpłaszczyzny rozdzielającej. W `sklearn` musimy ustawić w konstruktorze SVC parametr `probability=True`, jeśli chcemy żeby klasyfikator wyliczył te prawdopodobieństwa.\n",
    "\n",
    "<br>\n",
    "**Uwaga 2**: Czy SVM można zastosować do klasyfikacji wieloklasowej?\n",
    "\n",
    "<br>\n",
    "\n",
    "Tak jak w regresji logistycznej, klasyfikator jest zdefiniowany dla problemu klasyfikacji binarnej, ale w praktyce oczywiście jest na to sposób i to się robi. Wykorzystuje się schemat *one-vs-one*.\n",
    "\n",
    "<br>\n",
    "\n",
    "**Uwaga 3**: Czy SVM wymaga jakiegoś przygotowania danych?\n",
    "\n",
    "Tak - skalowanie.\n",
    "\n",
    "\n",
    "## Kernels\n",
    "\n",
    "#### Jak można wykorzystać SVM do klasyfikacji w przypadku danych nieliniowych.\n",
    "\n",
    "![svm_intro1](Grafika/svm_nonlinear1.png)\n",
    "\n",
    "Rozważmy rysunek B. W przedstawionych danych mamy dwie zmienne: $x_1, x_2$. Czy da się zastosować tutaj klasyfikator SVM?\n",
    "\n",
    "<br>\n",
    "\n",
    "<br>\n",
    "\n",
    "Rozszerzmy ręcznie zbiór danych do następujących zmiennych:\n",
    "\n",
    "$$x_1, x_2, x_1^2, x_2^2.$$\n",
    "\n",
    "Gdybyśmy do takich zmiennych zastosowali SVM na tym zbiorze, to jak mogłaby wyglądać płaszczyzna rozdzielająca? Na przykład tak:\n",
    "\n",
    "$$ 0 \\cdot x_1 + 0 \\cdot x_2 + a \\cdot x_1^2 + b \\cdot x_2^2 + c= 0.$$\n",
    "\n",
    "Czyli $\\mathbf{w} = [0, 0 , a, b]$.\n",
    "\n",
    "Wszystko fajnie, ale skąd mamy wiedzieć jakie przekształcenia zmiennych dodać (np. na rysunku poniżej - pomijając już nawet fakt, że w rzeczywistych danych nawet nie będziemy w stanie spojrzeć na jakikolwiek rysunek...)? Możemy dodać dla każdej zmiennej dużo różnych transformacji, ale jeśli zmiennych pierwotnie będzie dużo, to z transfromacjami będzie ich $\\text{dużo}^2$...\n",
    "\n",
    "![svm_intro1](Grafika/svm_nonlinear2.png)\n",
    "\n",
    "Wróćmy do uczenia klasyfikatora, czyli rozwiązywania problemu optymalizacyjnego. \n",
    "\n",
    "Przyjmując oznaczenie $\\zeta _{i}=\\max (0,1-y_{i}(\\mathbf{w}\\cdot x_{i}-b))$, można go alternatywnie zapisać w postaci:\n",
    "\n",
    "$$\n",
    "\\begin{equation}\n",
    "  \\begin{aligned}\n",
    "  \\text{zminimalizuj } & \\ \\ \\ \\frac {1}{n}\\sum\\limits_{i=1}^{n} \\zeta_i + \\lambda \\|\\mathbf{w}\\|^2, \\\\ \n",
    "  \\text{przy ograniczeniu: } & \\ \\ \\ y_i ( \\mathbf{w} \\cdot x_i - b) \\geq 1 - \\zeta_i \\ \\text{oraz} \\ \\zeta_i \\geq 0, \\ \\ \\ i = 1, \\ldots, n.\n",
    "\\end{aligned}\n",
    "\\end{equation}\n",
    "$$\n",
    "\n",
    "\n",
    "Okazuje się (matematyka wyższa...), że problem ten można sformułować równoważnie jako problem maksymalizacji funkcji:\n",
    "\n",
    "\n",
    "$$f(c_1 \\ldots c_n) = \\sum\\limits_{i=1}^n c_i - \\frac{1}{2}\\sum\\limits_{i=1}^n \\sum\\limits_{j=1}^n y_i c_i (x_i\\cdot x_j) y_j c_j,\n",
    "$$\n",
    "\n",
    "przy pewnych ograniczeniach, dla pewnych $c_1, \\ldots, c_n$ (i tak się to w rzeczywistości odbywa). Widzimy zatem, że rozwiązanie zależy od iloczynów skalarnych obserwacji $x_i\\cdot x_j$.\n",
    "\n",
    "Rozważmy transformacje zmiennych i iloczyny sklarne. Przyjmijmy, że mamy dwie zmienne oryginalne: $x_1, x_2$. Załóżmy, że transformujemy dane do $x_1^2, x_1x_2, x_2x_1, x_2^2$. Czyli mamy przekształcenie $f(x_1,x_2) = (x_1^2, x_1x_2, x_2x_1, x_2^2)$. Weźmy przykładowo dwie obserwacje $a = (2,3), b = (4,5)$. Obserwacje te w nowej przestrzeni mają postać $f(a) = (4,6,6,9), \\ f(b) = (16,20,20,25)$. Przeanalizujmy iloczyn skalarny:\n",
    "\n",
    "$f(a) \\cdot f(b) = 4 \\cdot 16 + 6 \\cdot 20 + 6 \\cdot 20 + 9 \\cdot 25 = 529$.\n",
    "\n",
    "Teraz rozważmy funkcję $K(a) = a^2$ i spójrzmy na wynik działania tej funkcji na iloczynie $a \\cdot b$:\n",
    "\n",
    "$K(a \\cdot b) = K(2 \\cdot 4 + 3 \\cdot 5) = (2 \\cdot 4 + 3 \\cdot 5)^2 = (2 \\cdot 4)^2 + (2 \\cdot 4 \\cdot 3 \\cdot 5) +  (2 \\cdot 4 \\cdot 3 \\cdot 5) + (3 \\cdot 5)^2 = 4 \\cdot 16 + 6 \\cdot 20 + 6 \\cdot 20 + 9 \\cdot 25 = 529$.\n",
    "\n",
    "Wniosek?\n",
    "\n",
    "<br>\n",
    "\n",
    "<br>\n",
    "\n",
    "Zamiast transformować zmienne, wystarczy użyć pewnego przekształcenia $K(x_i \\cdot x_j)$ zamiast surowych iloczynów $x_i \\cdot x_j$.\n",
    "\n",
    "Dzięki temu:\n",
    "- koszt obliczeniowy jest dużo mniejszy.\n",
    "- pozbywamy się problemu szukania transformacji - w miejsce tego testujemy kilka przekształceń $K$.\n",
    "\n",
    "$K$ jest zwane **jądrem** (funkcją jądrową, ang. *kernel*).\n",
    "\n",
    "\n",
    "Jądra w sklearn:\n",
    "\n",
    "http://scikit-learn.org/stable/modules/svm.html#svm-kernels"
   ]
  },
  {
   "cell_type": "code",
   "execution_count": 5,
   "metadata": {},
   "outputs": [],
   "source": [
    "from sklearn.svm import SVC"
   ]
  },
  {
   "cell_type": "code",
   "execution_count": null,
   "metadata": {
    "collapsed": true
   },
   "outputs": [],
   "source": [
    "?SVC"
   ]
  },
  {
   "cell_type": "markdown",
   "metadata": {},
   "source": [
    "# Rysowanie SVM"
   ]
  },
  {
   "cell_type": "code",
   "execution_count": 1,
   "metadata": {},
   "outputs": [],
   "source": [
    "import numpy as np\n",
    "import pandas as pd\n",
    "import matplotlib.pyplot as plt\n",
    "x1_0 = np.random.normal(size=100, loc=0.5, scale=0.1)\n",
    "x2_0 = np.random.normal(size=100, loc=0.5, scale=0.1)\n",
    "\n",
    "x1_1 = np.r_[np.random.uniform(size=100, low = -0.1, high=0.1),\n",
    "     np.random.uniform(size=100, low = 0.9, high=1.1),\n",
    "     np.random.uniform(size=100, low = 0, high=1),\n",
    "     np.random.uniform(size=100, low = 0, high=1)]\n",
    "x2_1 = np.r_[np.random.uniform(size=100, low = 0, high=1),\n",
    "            np.random.uniform(size=100, low = 0, high=1),\n",
    "            np.random.uniform(size=100, low = 0.8, high=1.2),\n",
    "            np.random.uniform(size=100, low = -0.1, high=0.1)]\n",
    "\n",
    "y = np.r_[np.repeat(0, 100), np.repeat(1, 400)]\n",
    "\n",
    "dane = pd.DataFrame({\"x1\" : np.r_[x1_0, x1_1], \"x2\": np.r_[x2_0, x2_1], \"y\": y})"
   ]
  },
  {
   "cell_type": "code",
   "execution_count": 2,
   "metadata": {},
   "outputs": [
    {
     "data": {
      "image/png": "[encoded data removed]",
      "text/plain": [
       "<Figure size 432x288 with 1 Axes>"
      ]
     },
     "metadata": {
      "needs_background": "light"
     },
     "output_type": "display_data"
    }
   ],
   "source": [
    "plt.scatter(x1_0,x2_0)\n",
    "plt.scatter(x1_1,x2_1)\n",
    "plt.show()"
   ]
  },
  {
   "cell_type": "code",
   "execution_count": 60,
   "metadata": {},
   "outputs": [
    {
     "data": {
      "image/png": "[encoded data removed]",
      "text/plain": [
       "<Figure size 432x288 with 4 Axes>"
      ]
     },
     "metadata": {},
     "output_type": "display_data"
    }
   ],
   "source": [
    "# https://scikit-learn.org/stable/auto_examples/svm/plot_iris.html\n",
    "from sklearn.svm import SVC\n",
    "\n",
    "def make_meshgrid(x, y, h=.02):\n",
    "    \"\"\"Create a mesh of points to plot in\n",
    "\n",
    "    Parameters\n",
    "    ----------\n",
    "    x: data to base x-axis meshgrid on\n",
    "    y: data to base y-axis meshgrid on\n",
    "    h: stepsize for meshgrid, optional\n",
    "\n",
    "    Returns\n",
    "    -------\n",
    "    xx, yy : ndarray\n",
    "    \"\"\"\n",
    "    x_min, x_max = x.min() - 0.1, x.max() + 0.1\n",
    "    y_min, y_max = y.min() - 0.1, y.max() + 0.1\n",
    "    xx, yy = np.meshgrid(np.arange(x_min, x_max, h),\n",
    "                         np.arange(y_min, y_max, h))\n",
    "    return xx, yy\n",
    "\n",
    "\n",
    "def plot_contours(ax, clf, xx, yy, **params):\n",
    "    \"\"\"Plot the decision boundaries for a classifier.\n",
    "\n",
    "    Parameters\n",
    "    ----------\n",
    "    ax: matplotlib axes object\n",
    "    clf: a classifier\n",
    "    xx: meshgrid ndarray\n",
    "    yy: meshgrid ndarray\n",
    "    params: dictionary of params to pass to contourf, optional\n",
    "    \"\"\"\n",
    "    Z = clf.predict(np.c_[xx.ravel(), yy.ravel()])\n",
    "    Z = Z.reshape(xx.shape)\n",
    "    out = ax.contourf(xx, yy, Z, **params)\n",
    "    return out\n",
    "\n",
    "X = dane.iloc[:, :2].values\n",
    "y = dane.y\n",
    "\n",
    "models = (SVC(kernel='linear', C=1e3),\n",
    "          SVC(kernel='rbf', gamma=0.7, C=1),\n",
    "          SVC(kernel='rbf', gamma=10, C=1e3),\n",
    "          SVC(kernel='poly', degree=2, C=1e3))\n",
    "models = (clf.fit(X, y) for clf in models)\n",
    "\n",
    "titles = ('linear kernel',\n",
    "          'RBF kernel (g=0.7, c=1)',\n",
    "          'RBF kernel (g=10, c=1e3)',\n",
    "          'polynomial (degree 2) kernel')\n",
    "\n",
    "fig, sub = plt.subplots(2, 2)\n",
    "plt.subplots_adjust(wspace=0.4, hspace=0.4)\n",
    "\n",
    "X0, X1 = X[:, 0], X[:, 1]\n",
    "xx, yy = make_meshgrid(X0, X1)\n",
    "\n",
    "for clf, title, ax in zip(models, titles, sub.flatten()):\n",
    "    plot_contours(ax, clf, xx, yy,\n",
    "                  cmap=plt.cm.coolwarm, alpha=0.8)\n",
    "    ax.scatter(X0, X1, c=y, cmap=plt.cm.coolwarm, s=10, edgecolors='k')\n",
    "    ax.set_xlim(xx.min(), xx.max())\n",
    "    ax.set_ylim(yy.min(), yy.max())\n",
    "    ax.set_xticks(())\n",
    "    ax.set_yticks(())\n",
    "    ax.set_title(title)"
   ]
  },
  {
   "cell_type": "markdown",
   "metadata": {},
   "source": [
    "## Co SVM ma wspólnego z regresją logistyczną?\n",
    "\n",
    "### Reguła decyzyjna w SVM:\n",
    "\n",
    "$\n",
    "\\begin{equation}\n",
    "  \\begin{aligned}\n",
    "  \\hat{y_i} =  & \\ \\ \\ \\ 1, \\ \\ \\text{ gdy }\\mathbf{w} \\cdot x_i  \\geq 0, \\\\\n",
    "  \\hat{y_i} = & - 1, \\ \\ \\text{ gdy }\\mathbf{w} \\cdot x_i  < 0.\n",
    "\\end{aligned}\n",
    "\\end{equation}\n",
    "$\n",
    "\n",
    "\n",
    "### Reguła decyzyjna w regresji logistycznej\n",
    "\n",
    "$\n",
    "\\begin{equation}\n",
    "  \\begin{aligned}\n",
    "  \\hat{y_i} =  & \\ \\ \\ \\ 1, \\ \\ \\text{ gdy }\\frac{1}{1+e^{-\\beta x_i}} \\geq 0.5, \\\\\n",
    "  \\hat{y_i} = & - 1, \\ \\ \\text{ gdy } \\frac{1}{1+e^{-\\beta x_i}} < 0.5,\n",
    "\\end{aligned}\n",
    "\\end{equation}\n",
    "$\n",
    "\n",
    "Jest ona równoważna regule:\n",
    "\n",
    "$\n",
    "\\begin{equation}\n",
    "  \\begin{aligned}\n",
    "  \\hat{y_i} =  & \\ \\ \\ \\ 1, \\ \\ \\text{ gdy } \\beta x_i \\geq 0, \\\\\n",
    "  \\hat{y_i} = & - 1, \\ \\ \\text{ gdy } \\beta x_i < 0.\n",
    "\\end{aligned}\n",
    "\\end{equation}\n",
    "$\n",
    "\n",
    "Czyli oba klasyfikatory mają identyczną postać reguły decyzyjnej: __liniową__.\n",
    "\n",
    "Klasyfikatory o takiej postaci reguły decyzyjnej nazywają się klasyfikatorami liniowymi. Różnią się one sposobem wyznaczania hiperpłaszczyzny (np. prostej w przypadku 2D) rozdzielającej.\n",
    "\n",
    "Uwaga: pomimo tego, że są to klasyfikatory liniowe, to można objąć nimi nieliniowość (transformacje zmiennych, czy kernel trick w svm).\n",
    "\n",
    "<br>\n",
    "\n",
    "<br>\n",
    "\n",
    "<br>\n",
    "\n",
    "### Zadanie 1\n",
    "\n",
    "Rozszerzyć analizę porównawczą klasyfikatorów z poprzednich zajęć o klasyfikator SVM (w szukaniu optymalnych parametrów uwzględnić różne jądra).\n",
    "\n",
    "### Zadanie 2\n",
    "\n",
    "Dodać do analizy benchmarki klasyfikatorów: czas uczenia oraz czas predykcji."
   ]
  },
  {
   "cell_type": "code",
   "execution_count": 26,
   "metadata": {},
   "outputs": [
    {
     "name": "stdout",
     "output_type": "stream",
     "text": [
      "baseline = 0.976\n",
      "Tunowanie\n",
      "regresja\n",
      "Fitting 5 folds for each of 20 candidates, totalling 100 fits\n"
     ]
    },
    {
     "name": "stderr",
     "output_type": "stream",
     "text": [
      "[Parallel(n_jobs=3)]: Using backend LokyBackend with 3 concurrent workers.\n",
      "[Parallel(n_jobs=3)]: Done  35 tasks      | elapsed:    5.9s\n",
      "[Parallel(n_jobs=3)]: Done 100 out of 100 | elapsed:   12.6s finished\n"
     ]
    },
    {
     "name": "stdout",
     "output_type": "stream",
     "text": [
      "{'count__stop_words': None, 'regresja__C': 100, 'regresja__penalty': 'l2'}\n",
      "regresja\n",
      "Fitting 5 folds for each of 40 candidates, totalling 200 fits\n"
     ]
    },
    {
     "name": "stderr",
     "output_type": "stream",
     "text": [
      "[Parallel(n_jobs=3)]: Using backend LokyBackend with 3 concurrent workers.\n",
      "[Parallel(n_jobs=3)]: Done  35 tasks      | elapsed:    3.4s\n",
      "[Parallel(n_jobs=3)]: Done 156 tasks      | elapsed:   15.1s\n",
      "[Parallel(n_jobs=3)]: Done 200 out of 200 | elapsed:   20.0s finished\n"
     ]
    },
    {
     "name": "stdout",
     "output_type": "stream",
     "text": [
      "{'count__stop_words': None, 'regresja__C': 100, 'regresja__penalty': 'l2', 'scaler__with_std': False}\n",
      "drzewo\n",
      "Fitting 5 folds for each of 10 candidates, totalling 50 fits\n"
     ]
    },
    {
     "name": "stderr",
     "output_type": "stream",
     "text": [
      "[Parallel(n_jobs=3)]: Using backend LokyBackend with 3 concurrent workers.\n",
      "[Parallel(n_jobs=3)]: Done  35 tasks      | elapsed:    4.2s\n",
      "[Parallel(n_jobs=3)]: Done  50 out of  50 | elapsed:    6.2s finished\n"
     ]
    },
    {
     "name": "stdout",
     "output_type": "stream",
     "text": [
      "{'drzewo__criterion': 'gini', 'drzewo__max_depth': None}\n",
      "bayes\n",
      "Fitting 5 folds for each of 6 candidates, totalling 30 fits\n"
     ]
    },
    {
     "name": "stderr",
     "output_type": "stream",
     "text": [
      "[Parallel(n_jobs=3)]: Using backend LokyBackend with 3 concurrent workers.\n",
      "[Parallel(n_jobs=3)]: Done  30 out of  30 | elapsed:    2.7s finished\n"
     ]
    },
    {
     "name": "stdout",
     "output_type": "stream",
     "text": [
      "{'bayes__alpha': 0.8, 'bayes__fit_prior': True}\n",
      "SVC\n",
      "Fitting 5 folds for each of 16 candidates, totalling 80 fits\n"
     ]
    },
    {
     "name": "stderr",
     "output_type": "stream",
     "text": [
      "[Parallel(n_jobs=3)]: Using backend LokyBackend with 3 concurrent workers.\n",
      "[Parallel(n_jobs=3)]: Done  35 tasks      | elapsed:   23.0s\n",
      "[Parallel(n_jobs=3)]: Done  80 out of  80 | elapsed:  1.3min finished\n",
      "/home/kodolamacz/anaconda3/lib/python3.7/site-packages/sklearn/svm/base.py:193: FutureWarning: The default value of gamma will change from 'auto' to 'scale' in version 0.22 to account better for unscaled features. Set gamma explicitly to 'auto' or 'scale' to avoid this warning.\n",
      "  \"avoid this warning.\", FutureWarning)\n"
     ]
    },
    {
     "name": "stdout",
     "output_type": "stream",
     "text": [
      "{'SVC__kernel': 'sigmoid', 'count__stop_words': None}\n",
      "\n",
      "Testowanie\n",
      "regresja\n",
      "0.982\n",
      "regresja\n",
      "0.982\n",
      "drzewo\n",
      "0.97\n",
      "bayes\n",
      "0.979\n",
      "SVC\n",
      "0.977\n"
     ]
    }
   ],
   "source": [
    "from sklearn.pipeline import Pipeline\n",
    "from sklearn.preprocessing import MinMaxScaler\n",
    "from sklearn.linear_model import LogisticRegression\n",
    "from sklearn.tree import DecisionTreeClassifier\n",
    "from sklearn.naive_bayes import MultinomialNB\n",
    "from sklearn.preprocessing import MaxAbsScaler\n",
    "from sklearn.preprocessing import StandardScaler\n",
    "from sklearn.feature_extraction.text import CountVectorizer\n",
    "from sklearn.svm import SVC\n",
    "\n",
    "import pprint\n",
    "from sklearn.model_selection import GridSearchCV, train_test_split, cross_val_score\n",
    "\n",
    "from sklearn.metrics import accuracy_score\n",
    "import pandas as pd\n",
    "\n",
    "sms = pd.read_table('Dane/sms.tsv', header=None, names=['label', 'message'])\n",
    "sms[\"label\"] = sms.label.map({\"ham\": 0, \"spam\": 1})\n",
    "\n",
    "X_train, X_test, y_train, y_test = train_test_split(sms.message, sms.label, \n",
    "                                                    test_size=1000, \n",
    "                                                    random_state=456)\n",
    "\n",
    "pipe = Pipeline([(\"count\", CountVectorizer()),\n",
    "                 (\"regresja\", LogisticRegression(solver=\"liblinear\"))])\n",
    "pipe.fit(X_train, y_train)\n",
    "\n",
    "print(f\"baseline = {accuracy_score(pipe.predict(X_test), y_test)}\")\n",
    "\n",
    "modele = (\n",
    "\n",
    "#     (pipe,parametry),\n",
    "    (Pipeline([(\"count\", CountVectorizer()), (\"regresja\", LogisticRegression(solver=\"liblinear\"))]),\n",
    "    {\"count__stop_words\": [\"english\", None],\n",
    "    \"regresja__penalty\": [\"l1\", \"l2\"],\n",
    "    \"regresja__C\": [0.01, 0.1, 1, 10, 100]}),\n",
    "    \n",
    "    (Pipeline([(\"count\", CountVectorizer()), (\"scaler\", StandardScaler(with_mean=False)), (\"regresja\", LogisticRegression(solver=\"liblinear\"))]),\n",
    "    {\"count__stop_words\": [\"english\", None],\n",
    "     \"scaler__with_std\" : [True, False],\n",
    "    \"regresja__penalty\": [\"l1\", \"l2\"],\n",
    "    \"regresja__C\": [0.01, 0.1, 1, 10, 100]}),\n",
    "    \n",
    "    (Pipeline([(\"count\", CountVectorizer()), (\"drzewo\", DecisionTreeClassifier())]),\n",
    "    {\"drzewo__criterion\": [\"gini\", \"entropy\"],\n",
    "    \"drzewo__max_depth\": [2, 5, 10, 15, None]}),\n",
    "    \n",
    "    (Pipeline([(\"count\", CountVectorizer(stop_words=\"english\")),(\"bayes\", MultinomialNB())]),\n",
    "    {\"bayes__alpha\": [0.3, 0.5, 0.8],\n",
    "    \"bayes__fit_prior\": [True, False]}),\n",
    "    \n",
    "    (Pipeline([(\"count\", CountVectorizer(stop_words=\"english\")), (\"scaler\", StandardScaler(with_mean=False)), (\"SVC\", SVC())]),\n",
    "    [{\"count__stop_words\": [\"english\", None], \"SVC__kernel\": [\"linear\", \"sigmoid\"]},\n",
    "     {\"count__stop_words\": [\"english\", None], \"SVC__kernel\": [\"poly\"], \"SVC__degree\": [2,3,4]},\n",
    "     {\"count__stop_words\": [\"english\", None], \"SVC__kernel\": [\"rbf\"], \"SVC__gamma\": [0.1, 1, 10]}\n",
    "    ])\n",
    ")\n",
    "\n",
    "# w pętli uruchomić dla każdego modelu GridSearchCV\n",
    "# zapamiętać najlepsze modele/parametry dla każdego modelu\n",
    "\n",
    "print(\"Tunowanie\")\n",
    "najlepsze = []\n",
    "for model, parametry in modele:\n",
    "    print(model.steps[-1][0])\n",
    "    gs = GridSearchCV(model, parametry, cv=5, verbose=2, n_jobs=3)\n",
    "    # tutaj następuje podział na część treningową i walidacyjną\n",
    "    # całe te dane, X_train, więc także ta część walidacyjna,\n",
    "    # bierze udział w \"meta-nauce\" parametrów modelu, np. C w regresji\n",
    "    # więc są to dane \"skażone\", dlatego wydzieliliśmy też osobno X_test,\n",
    "    # na którym ostatecznie to testujemy\n",
    "    gs.fit(X_train, y_train)\n",
    "    najlepsze.append(gs.best_estimator_)\n",
    "    print(gs.best_params_)\n",
    "    \n",
    "print(\"\\nTestowanie\")\n",
    "# uruchomić każdego najlepszego na danych testowych\n",
    "for model in najlepsze:\n",
    "    print(model.steps[-1][0])\n",
    "    print(accuracy_score(model.predict(X_test), y_test))"
   ]
  },
  {
   "cell_type": "code",
   "execution_count": null,
   "metadata": {
    "collapsed": true
   },
   "outputs": [],
   "source": []
  },
  {
   "cell_type": "code",
   "execution_count": null,
   "metadata": {
    "collapsed": true
   },
   "outputs": [],
   "source": []
  },
  {
   "cell_type": "markdown",
   "metadata": {},
   "source": [
    "# Lasy losowe\n",
    "\n",
    "Wyobraźmy sobie, że mamy 100 klasyfikatorów i każdy z nich potrafi przewidywać $Y$ ze skutecznością $70\\%$. Pytanie: jaką skuteczność będzie miała procedura klasyfikacyjna polegająca na dokonaniu predykcji każdym klasyfikatorem, a następnie podjęcie ostatecznej decyzji demokratycznie - czyli finalna decyzja to klasa dominująca wśród predykcji tych stu klasyfikatorów?\n",
    "\n",
    "Jeżeli każdy klasyfikator ma skuteczność $70\\%$, to średnio 70 ze 100 klasyfikatorów podejmie prawidłową decyzję. Jakie jest prawdopodobieństwo, że więcej niż 50 się pomyli? \n",
    "\n",
    "Bardzo małe... Zatem mamy doskonałą metodę klasyfikacji: nauczmy dużo modeli i klasyfikujmy demokratycznie!\n",
    "\n",
    "Zatem po co ogóle uczyć się uczenia maszynowego, skoro możemy załatwić wszystko w ten prosty sposób?\n",
    "\n",
    "<br>\n",
    "\n",
    "<br>\n",
    "\n",
    "\n",
    "Po to, bo jest jeden haczyk: **niezależność**...\n",
    "\n",
    "Tak pięknie byłoby, gdyby te wszystkie klasyfikatory były niezależne. A nie są... Rozważmy sytuację, w które nauczyliśmy dwa modele: regresję logistyczną i SVM. Na czym polega zależność między tymi klasyfikatorami?\n",
    "\n",
    "1. Oba klasyfikatory uczone są na tych samych zmiennych - zatem wykryją podobne zależności w danych, co przekłada się na podobieństwo predykcji.\n",
    "\n",
    "2. Oba klasyfikatory są nauczone na tych samych obserwacjach.\n",
    "\n",
    "Ponadto w tym konkretnym przypadku oba klasyfikatory są to klasyfikatory liniowe, zatem podejmują decyzję na podstawie płaszczyzny rozdzielającej. Te płaszczyzny mogą być bardzo podobne... A nawet jeśli nie są bardzo podobne, to i tak predykcje obu klasyfikatorów w praktyce będą silnie skorelowane, tzn. oba klasyfikatory będą dawały bardzo podobne predykcje...\n",
    "\n",
    "Co możemy na to poradzić?\n",
    "\n",
    "- każdy klasyfikator uczyć na innych zmiennych -> w praktyce losowe podzbiory, \n",
    "- każdy klasyfikator uczyć na innym podzbiorze obserwacji (w praktyce ma to mniejsze znaczenie).\n",
    "\n",
    "W obu przypadkach pojedyncze klasyfikatory będą słabsze (bo wykorzystują mniej informacji), ale globalnie to pomoże!\n",
    "\n",
    "Czy dwa powyższe zabiegi zapewniają niezależność klasyfikacji między poszczególnymi klasyfikatorami?\n",
    "\n",
    "Nie, bo:\n",
    "- nawet jak różne klasyfikatory uczymy na różnych zmiennych, to te zmienne będą z reguły zależne. Do tego w praktyce i tak nie jesteśmy w stanie nauczyć poszczególnych modeli na rozłącznych zbiorach zmiennych, bo musielibyśmy mieć tych zmiennych bardzo dużo (no chyba, że w każdym modelu wykorzystamy bardzo mało zmiennych, ale wtedy te modele będą słabe),\n",
    "- nawet jak uczymy na różnych obserwacjach, to i tak w tych obserwacjach będą ukryte te same wzorce, które będą wykrywały modele.\n",
    "\n",
    "\n",
    "### Lasy losowe - komitet drzew uczonych na różnych podzbiorach zmiennych i (ewentualnie) obserwacji.\n",
    "\n",
    "Na marginesie: ciekawostką jest, że w praktyce przyjęło się, że mówiąc \"lasy losowe\" mamy na myśli **jeden** klasyfikator, czyli tak naprawdę \"LAS losowy\".\n",
    "\n",
    "W sklearn las losowy zdefiniowany jest trochę inaczej:"
   ]
  },
  {
   "cell_type": "code",
   "execution_count": null,
   "metadata": {
    "collapsed": true
   },
   "outputs": [],
   "source": [
    "from sklearn.ensemble import RandomForestClassifier"
   ]
  },
  {
   "cell_type": "code",
   "execution_count": null,
   "metadata": {
    "collapsed": true
   },
   "outputs": [],
   "source": [
    "?RandomForestClassifier"
   ]
  },
  {
   "cell_type": "markdown",
   "metadata": {},
   "source": [
    "W sklearnie drzewa nie są uczone na podzbiorach zmiennych. Randomizacja jest realizowana przez próbkowanie obserwacji (i ewentualnie ograniczanie przeszukiwania podziałów do losowego podzbioru zmiennych o zadanej liczbie).\n",
    "\n",
    "Opisaną powyżej wersję lasu losowego można otrzymać wykorzystując `BaggingClassifier` "
   ]
  },
  {
   "cell_type": "code",
   "execution_count": null,
   "metadata": {
    "collapsed": true
   },
   "outputs": [],
   "source": [
    "from sklearn.ensemble import BaggingClassifier"
   ]
  },
  {
   "cell_type": "code",
   "execution_count": null,
   "metadata": {},
   "outputs": [],
   "source": [
    "?BaggingClassifier"
   ]
  },
  {
   "cell_type": "markdown",
   "metadata": {},
   "source": [
    "# Pokaz mocy niezależnych klasyfikatorów"
   ]
  },
  {
   "cell_type": "code",
   "execution_count": 27,
   "metadata": {},
   "outputs": [
    {
     "data": {
      "text/plain": [
       "0.998549438523441"
      ]
     },
     "execution_count": 27,
     "metadata": {},
     "output_type": "execute_result"
    }
   ],
   "source": [
    "import scipy\n",
    "p = 0.65 # prawdopodobieństwo sukcesu\n",
    "n = 100\n",
    "\n",
    "# jakie są szanse, że w n próbach będzie ponad połowa sukcesów?\n",
    "\n",
    "s = 0\n",
    "for k in range(n//2+1, n+1):\n",
    "    # w tej wersji z definicji, poniżej przy użyciu gotowej funkcji\n",
    "    p_k = scipy.special.binom(n,k) * p ** k * (1-p)**(n-k)\n",
    "    s += p_k\n",
    "    \n",
    "s"
   ]
  },
  {
   "cell_type": "code",
   "execution_count": 28,
   "metadata": {},
   "outputs": [
    {
     "data": {
      "text/plain": [
       "0.9985494385234139"
      ]
     },
     "execution_count": 28,
     "metadata": {},
     "output_type": "execute_result"
    }
   ],
   "source": [
    "import scipy\n",
    "p = 0.65 # prawdopodobieństwo sukcesu\n",
    "n = 100\n",
    "\n",
    "# jakie są szanse, że w n próbach będzie ponad połowa sukcesów?\n",
    "\n",
    "s = 0\n",
    "for k in range(n//2+1, n+1):\n",
    "    p_k = scipy.stats.binom.pmf(k,n,p)\n",
    "    s += p_k\n",
    "    \n",
    "s"
   ]
  },
  {
   "cell_type": "markdown",
   "metadata": {},
   "source": [
    "#### Zadanie\n",
    "\n",
    "Zrealizować przy użyciu tej klasy las losowy o nominalnej definicji:\n",
    "- każde drzewo uczone jest na losowym podzbiorze zmiennych (np połowie),\n",
    "- każde drzewo uczone jest na losowym podzbiorze obserwacji (np. połowie),\n",
    "- obserwacje losowane są bez powtórzeń."
   ]
  },
  {
   "cell_type": "code",
   "execution_count": 29,
   "metadata": {},
   "outputs": [],
   "source": [
    "from sklearn.ensemble import RandomForestClassifier\n",
    "from sklearn.ensemble import BaggingClassifier"
   ]
  },
  {
   "cell_type": "code",
   "execution_count": null,
   "metadata": {},
   "outputs": [],
   "source": [
    "model = BaggingClassifier(DecisionTreeClassifier(),\n",
    "                          max_samples=0.5, \n",
    "                          max_features=0.5,\n",
    "                          bootstrap=False)"
   ]
  },
  {
   "cell_type": "markdown",
   "metadata": {},
   "source": [
    "#### Zadanie\n",
    "\n",
    "Rozszerz poprzednią analizę o model \"RandomForest\" z sklearn oraz o las losowy zdefiniowany przy użyciu \"BaggingClassifier\"."
   ]
  },
  {
   "cell_type": "code",
   "execution_count": 33,
   "metadata": {},
   "outputs": [
    {
     "name": "stdout",
     "output_type": "stream",
     "text": [
      "baseline = 0.976\n",
      "Tunowanie\n",
      "BaggingClassifier_drzewo\n",
      "Fitting 3 folds for each of 24 candidates, totalling 72 fits\n"
     ]
    },
    {
     "name": "stderr",
     "output_type": "stream",
     "text": [
      "[Parallel(n_jobs=3)]: Using backend LokyBackend with 3 concurrent workers.\n",
      "[Parallel(n_jobs=3)]: Done  35 tasks      | elapsed:   33.5s\n",
      "[Parallel(n_jobs=3)]: Done  72 out of  72 | elapsed:   44.2s finished\n"
     ]
    },
    {
     "name": "stdout",
     "output_type": "stream",
     "text": [
      "{'BaggingClassifier_drzewo__base_estimator__max_depth': None, 'BaggingClassifier_drzewo__bootstrap': True, 'BaggingClassifier_drzewo__max_features': 1.0, 'BaggingClassifier_drzewo__max_samples': 1.0, 'BaggingClassifier_drzewo__n_estimators': 100}\n",
      "BaggingClassifier_regresja\n",
      "Fitting 3 folds for each of 48 candidates, totalling 144 fits\n"
     ]
    },
    {
     "name": "stderr",
     "output_type": "stream",
     "text": [
      "[Parallel(n_jobs=3)]: Using backend LokyBackend with 3 concurrent workers.\n",
      "[Parallel(n_jobs=3)]: Done  35 tasks      | elapsed:   13.0s\n",
      "[Parallel(n_jobs=3)]: Done 144 out of 144 | elapsed:  1.6min finished\n",
      "/home/kodolamacz/anaconda3/lib/python3.7/site-packages/sklearn/linear_model/logistic.py:432: FutureWarning: Default solver will be changed to 'lbfgs' in 0.22. Specify a solver to silence this warning.\n",
      "  FutureWarning)\n"
     ]
    },
    {
     "name": "stdout",
     "output_type": "stream",
     "text": [
      "{'BaggingClassifier_regresja__base_estimator__C': 10, 'BaggingClassifier_regresja__base_estimator__penalty': 'l1', 'BaggingClassifier_regresja__bootstrap': True, 'BaggingClassifier_regresja__max_features': 0.8, 'BaggingClassifier_regresja__max_samples': 1.0, 'BaggingClassifier_regresja__n_estimators': 100}\n",
      "\n",
      "Testowanie\n",
      "BaggingClassifier_drzewo\n",
      "0.975\n",
      "BaggingClassifier_regresja\n",
      "0.982\n"
     ]
    }
   ],
   "source": [
    "from sklearn.pipeline import Pipeline\n",
    "from sklearn.preprocessing import MinMaxScaler\n",
    "from sklearn.linear_model import LogisticRegression\n",
    "from sklearn.tree import DecisionTreeClassifier\n",
    "from sklearn.naive_bayes import MultinomialNB\n",
    "from sklearn.preprocessing import MaxAbsScaler\n",
    "from sklearn.preprocessing import StandardScaler\n",
    "from sklearn.feature_extraction.text import CountVectorizer\n",
    "from sklearn.svm import SVC\n",
    "from sklearn.ensemble import RandomForestClassifier\n",
    "from sklearn.ensemble import BaggingClassifier\n",
    "\n",
    "import pprint\n",
    "from sklearn.model_selection import GridSearchCV, train_test_split, cross_val_score\n",
    "\n",
    "from sklearn.metrics import accuracy_score\n",
    "import pandas as pd\n",
    "\n",
    "sms = pd.read_table('Dane/sms.tsv', header=None, names=['label', 'message'])\n",
    "sms[\"label\"] = sms.label.map({\"ham\": 0, \"spam\": 1})\n",
    "\n",
    "X_train, X_test, y_train, y_test = train_test_split(sms.message, sms.label, \n",
    "                                                    test_size=1000, \n",
    "                                                    random_state=456)\n",
    "\n",
    "pipe = Pipeline([(\"count\", CountVectorizer()),\n",
    "                 (\"regresja\", LogisticRegression(solver=\"liblinear\"))])\n",
    "pipe.fit(X_train, y_train)\n",
    "\n",
    "print(f\"baseline = {accuracy_score(pipe.predict(X_test), y_test)}\")\n",
    "\n",
    "modele = (\n",
    "\n",
    "#     (pipe,parametry),\n",
    "#     (Pipeline([(\"count\", CountVectorizer()), (\"regresja\", LogisticRegression(solver=\"liblinear\"))]),\n",
    "#     {\"count__stop_words\": [\"english\", None],\n",
    "#     \"regresja__penalty\": [\"l1\", \"l2\"],\n",
    "#     \"regresja__C\": [0.01, 0.1, 1, 10, 100]}),\n",
    "    \n",
    "#     (Pipeline([(\"count\", CountVectorizer()), (\"scaler\", StandardScaler(with_mean=False)), (\"regresja\", LogisticRegression(solver=\"liblinear\"))]),\n",
    "#     {\"count__stop_words\": [\"english\", None],\n",
    "#      \"scaler__with_std\" : [True, False],\n",
    "#     \"regresja__penalty\": [\"l1\", \"l2\"],\n",
    "#     \"regresja__C\": [0.01, 0.1, 1, 10, 100]}),\n",
    "    \n",
    "#     (Pipeline([(\"count\", CountVectorizer()), (\"drzewo\", DecisionTreeClassifier())]),\n",
    "#     {\"drzewo__criterion\": [\"gini\", \"entropy\"],\n",
    "#     \"drzewo__max_depth\": [2, 5, 10, 15, None]}),\n",
    "    \n",
    "#     (Pipeline([(\"count\", CountVectorizer(stop_words=\"english\")),(\"bayes\", MultinomialNB())]),\n",
    "#     {\"bayes__alpha\": [0.3, 0.5, 0.8],\n",
    "#     \"bayes__fit_prior\": [True, False]}),\n",
    "    \n",
    "#     (Pipeline([(\"count\", CountVectorizer(stop_words=\"english\")), (\"scaler\", StandardScaler(with_mean=False)), (\"SVC\", SVC())]),\n",
    "#     [{\"count__stop_words\": [\"english\", None], \"SVC__kernel\": [\"linear\", \"sigmoid\"]},\n",
    "#      {\"count__stop_words\": [\"english\", None], \"SVC__kernel\": [\"poly\"], \"SVC__degree\": [2,3,4]},\n",
    "#      {\"count__stop_words\": [\"english\", None], \"SVC__kernel\": [\"rbf\"], \"SVC__gamma\": [0.1, 1, 10]}\n",
    "#     ]),\n",
    "    \n",
    "#     (Pipeline([(\"count\", CountVectorizer(stop_words=\"english\")), (\"RandomForest\", RandomForestClassifier())]),\n",
    "#     {\"RandomForest__n_estimators\": [1,10,100]}),\n",
    "    \n",
    "    (Pipeline([(\"count\", CountVectorizer(stop_words=\"english\")), (\"BaggingClassifier_drzewo\", BaggingClassifier(DecisionTreeClassifier()))]),\n",
    "    {\"BaggingClassifier_drzewo__n_estimators\": [10,100],\n",
    "     \"BaggingClassifier_drzewo__max_samples\" : [0.2, 1.0],\n",
    "     \"BaggingClassifier_drzewo__max_features\" : [0.2,  1.0],\n",
    "     \"BaggingClassifier_drzewo__bootstrap\" : [True],\n",
    "     \"BaggingClassifier_drzewo__base_estimator__max_depth\" : [None, 2, 4]\n",
    "    }),\n",
    "    \n",
    "    (Pipeline([(\"count\", CountVectorizer(stop_words=\"english\")), (\"BaggingClassifier_regresja\", BaggingClassifier(LogisticRegression()))]),\n",
    "    {\"BaggingClassifier_regresja__n_estimators\": [10,100],\n",
    "     \"BaggingClassifier_regresja__max_samples\" : [0.2, 1.0],\n",
    "     \"BaggingClassifier_regresja__max_features\" : [0.2, 0.8],\n",
    "     \"BaggingClassifier_regresja__bootstrap\" : [True],\n",
    "     \"BaggingClassifier_regresja__base_estimator__C\" : [0.1, 1, 10],\n",
    "     \"BaggingClassifier_regresja__base_estimator__penalty\" : [\"l1\", \"l2\"]\n",
    "    })\n",
    ")\n",
    "\n",
    "# w pętli uruchomić dla każdego modelu GridSearchCV\n",
    "# zapamiętać najlepsze modele/parametry dla każdego modelu\n",
    "\n",
    "print(\"Tunowanie\")\n",
    "najlepsze = []\n",
    "for model, parametry in modele:\n",
    "    print(model.steps[-1][0])\n",
    "    gs = GridSearchCV(model, parametry, cv=3, verbose=2, n_jobs=3)\n",
    "    # tutaj następuje podział na część treningową i walidacyjną\n",
    "    # całe te dane, X_train, więc także ta część walidacyjna,\n",
    "    # bierze udział w \"meta-nauce\" parametrów modelu, np. C w regresji\n",
    "    # więc są to dane \"skażone\", dlatego wydzieliliśmy też osobno X_test,\n",
    "    # na którym ostatecznie to testujemy\n",
    "    gs.fit(X_train, y_train)\n",
    "    najlepsze.append(gs.best_estimator_)\n",
    "    print(gs.best_params_)\n",
    "    \n",
    "print(\"\\nTestowanie\")\n",
    "# uruchomić każdego najlepszego na danych testowych\n",
    "for model in najlepsze:\n",
    "    print(model.steps[-1][0])\n",
    "    print(accuracy_score(model.predict(X_test), y_test))"
   ]
  },
  {
   "cell_type": "markdown",
   "metadata": {},
   "source": [
    "# Zmienne jakościowe - jak kodować?"
   ]
  },
  {
   "cell_type": "code",
   "execution_count": 34,
   "metadata": {},
   "outputs": [
    {
     "name": "stdout",
     "output_type": "stream",
     "text": [
      "<class 'pandas.core.frame.DataFrame'>\n",
      "RangeIndex: 5 entries, 0 to 4\n",
      "Data columns (total 2 columns):\n",
      "Kolor       5 non-null object\n",
      "Wartosci    5 non-null float64\n",
      "dtypes: float64(1), object(1)\n",
      "memory usage: 208.0+ bytes\n"
     ]
    }
   ],
   "source": [
    "import pandas as pd\n",
    "ramka = pd.DataFrame({\"Kolor\":[\"Blondyn\", \"Brunet\", \"Blondyn\", \"Szatyn\", \"Szatyn\"],\n",
    "                      \"Wartosci\":[1.24,2.56,3.45,6.54,7.68]})\n",
    "#ramka.Kolor = pd.Categorical(ramka.Kolor)\n",
    "ramka.info()"
   ]
  },
  {
   "cell_type": "code",
   "execution_count": 36,
   "metadata": {},
   "outputs": [
    {
     "data": {
      "text/html": [
       "<div>\n",
       "<style scoped>\n",
       "    .dataframe tbody tr th:only-of-type {\n",
       "        vertical-align: middle;\n",
       "    }\n",
       "\n",
       "    .dataframe tbody tr th {\n",
       "        vertical-align: top;\n",
       "    }\n",
       "\n",
       "    .dataframe thead th {\n",
       "        text-align: right;\n",
       "    }\n",
       "</style>\n",
       "<table border=\"1\" class=\"dataframe\">\n",
       "  <thead>\n",
       "    <tr style=\"text-align: right;\">\n",
       "      <th></th>\n",
       "      <th>Kolor</th>\n",
       "      <th>Wartosci</th>\n",
       "    </tr>\n",
       "  </thead>\n",
       "  <tbody>\n",
       "    <tr>\n",
       "      <td>0</td>\n",
       "      <td>Blondyn</td>\n",
       "      <td>1.24</td>\n",
       "    </tr>\n",
       "    <tr>\n",
       "      <td>1</td>\n",
       "      <td>Brunet</td>\n",
       "      <td>2.56</td>\n",
       "    </tr>\n",
       "    <tr>\n",
       "      <td>2</td>\n",
       "      <td>Blondyn</td>\n",
       "      <td>3.45</td>\n",
       "    </tr>\n",
       "    <tr>\n",
       "      <td>3</td>\n",
       "      <td>Szatyn</td>\n",
       "      <td>6.54</td>\n",
       "    </tr>\n",
       "    <tr>\n",
       "      <td>4</td>\n",
       "      <td>Szatyn</td>\n",
       "      <td>7.68</td>\n",
       "    </tr>\n",
       "  </tbody>\n",
       "</table>\n",
       "</div>"
      ],
      "text/plain": [
       "     Kolor  Wartosci\n",
       "0  Blondyn      1.24\n",
       "1   Brunet      2.56\n",
       "2  Blondyn      3.45\n",
       "3   Szatyn      6.54\n",
       "4   Szatyn      7.68"
      ]
     },
     "execution_count": 36,
     "metadata": {},
     "output_type": "execute_result"
    }
   ],
   "source": [
    "ramka"
   ]
  },
  {
   "cell_type": "markdown",
   "metadata": {},
   "source": [
    "## Podejście 1: get_dummies()"
   ]
  },
  {
   "cell_type": "code",
   "execution_count": 37,
   "metadata": {},
   "outputs": [
    {
     "data": {
      "text/html": [
       "<div>\n",
       "<style scoped>\n",
       "    .dataframe tbody tr th:only-of-type {\n",
       "        vertical-align: middle;\n",
       "    }\n",
       "\n",
       "    .dataframe tbody tr th {\n",
       "        vertical-align: top;\n",
       "    }\n",
       "\n",
       "    .dataframe thead th {\n",
       "        text-align: right;\n",
       "    }\n",
       "</style>\n",
       "<table border=\"1\" class=\"dataframe\">\n",
       "  <thead>\n",
       "    <tr style=\"text-align: right;\">\n",
       "      <th></th>\n",
       "      <th>Wartosci</th>\n",
       "      <th>Kolor_Blondyn</th>\n",
       "      <th>Kolor_Brunet</th>\n",
       "      <th>Kolor_Szatyn</th>\n",
       "    </tr>\n",
       "  </thead>\n",
       "  <tbody>\n",
       "    <tr>\n",
       "      <td>0</td>\n",
       "      <td>1.24</td>\n",
       "      <td>1</td>\n",
       "      <td>0</td>\n",
       "      <td>0</td>\n",
       "    </tr>\n",
       "    <tr>\n",
       "      <td>1</td>\n",
       "      <td>2.56</td>\n",
       "      <td>0</td>\n",
       "      <td>1</td>\n",
       "      <td>0</td>\n",
       "    </tr>\n",
       "    <tr>\n",
       "      <td>2</td>\n",
       "      <td>3.45</td>\n",
       "      <td>1</td>\n",
       "      <td>0</td>\n",
       "      <td>0</td>\n",
       "    </tr>\n",
       "    <tr>\n",
       "      <td>3</td>\n",
       "      <td>6.54</td>\n",
       "      <td>0</td>\n",
       "      <td>0</td>\n",
       "      <td>1</td>\n",
       "    </tr>\n",
       "    <tr>\n",
       "      <td>4</td>\n",
       "      <td>7.68</td>\n",
       "      <td>0</td>\n",
       "      <td>0</td>\n",
       "      <td>1</td>\n",
       "    </tr>\n",
       "  </tbody>\n",
       "</table>\n",
       "</div>"
      ],
      "text/plain": [
       "   Wartosci  Kolor_Blondyn  Kolor_Brunet  Kolor_Szatyn\n",
       "0      1.24              1             0             0\n",
       "1      2.56              0             1             0\n",
       "2      3.45              1             0             0\n",
       "3      6.54              0             0             1\n",
       "4      7.68              0             0             1"
      ]
     },
     "execution_count": 37,
     "metadata": {},
     "output_type": "execute_result"
    }
   ],
   "source": [
    "data = pd.get_dummies(ramka)\n",
    "data"
   ]
  },
  {
   "cell_type": "code",
   "execution_count": 40,
   "metadata": {},
   "outputs": [
    {
     "data": {
      "text/html": [
       "<div>\n",
       "<style scoped>\n",
       "    .dataframe tbody tr th:only-of-type {\n",
       "        vertical-align: middle;\n",
       "    }\n",
       "\n",
       "    .dataframe tbody tr th {\n",
       "        vertical-align: top;\n",
       "    }\n",
       "\n",
       "    .dataframe thead th {\n",
       "        text-align: right;\n",
       "    }\n",
       "</style>\n",
       "<table border=\"1\" class=\"dataframe\">\n",
       "  <thead>\n",
       "    <tr style=\"text-align: right;\">\n",
       "      <th></th>\n",
       "      <th>Wartosci</th>\n",
       "      <th>Kolor_Brunet</th>\n",
       "      <th>Kolor_Szatyn</th>\n",
       "    </tr>\n",
       "  </thead>\n",
       "  <tbody>\n",
       "    <tr>\n",
       "      <td>0</td>\n",
       "      <td>1.24</td>\n",
       "      <td>0</td>\n",
       "      <td>0</td>\n",
       "    </tr>\n",
       "    <tr>\n",
       "      <td>1</td>\n",
       "      <td>2.56</td>\n",
       "      <td>1</td>\n",
       "      <td>0</td>\n",
       "    </tr>\n",
       "    <tr>\n",
       "      <td>2</td>\n",
       "      <td>3.45</td>\n",
       "      <td>0</td>\n",
       "      <td>0</td>\n",
       "    </tr>\n",
       "    <tr>\n",
       "      <td>3</td>\n",
       "      <td>6.54</td>\n",
       "      <td>0</td>\n",
       "      <td>1</td>\n",
       "    </tr>\n",
       "    <tr>\n",
       "      <td>4</td>\n",
       "      <td>7.68</td>\n",
       "      <td>0</td>\n",
       "      <td>1</td>\n",
       "    </tr>\n",
       "  </tbody>\n",
       "</table>\n",
       "</div>"
      ],
      "text/plain": [
       "   Wartosci  Kolor_Brunet  Kolor_Szatyn\n",
       "0      1.24             0             0\n",
       "1      2.56             1             0\n",
       "2      3.45             0             0\n",
       "3      6.54             0             1\n",
       "4      7.68             0             1"
      ]
     },
     "execution_count": 40,
     "metadata": {},
     "output_type": "execute_result"
    }
   ],
   "source": [
    "data = pd.get_dummies(ramka, drop_first=True)\n",
    "data"
   ]
  },
  {
   "cell_type": "markdown",
   "metadata": {},
   "source": [
    "## Podejście 2: LabelEncoder, OneHotEncoder"
   ]
  },
  {
   "cell_type": "code",
   "execution_count": 41,
   "metadata": {},
   "outputs": [],
   "source": [
    "from sklearn.preprocessing import LabelEncoder\n",
    "from sklearn.preprocessing import OneHotEncoder"
   ]
  },
  {
   "cell_type": "code",
   "execution_count": 42,
   "metadata": {},
   "outputs": [
    {
     "data": {
      "text/html": [
       "<div>\n",
       "<style scoped>\n",
       "    .dataframe tbody tr th:only-of-type {\n",
       "        vertical-align: middle;\n",
       "    }\n",
       "\n",
       "    .dataframe tbody tr th {\n",
       "        vertical-align: top;\n",
       "    }\n",
       "\n",
       "    .dataframe thead th {\n",
       "        text-align: right;\n",
       "    }\n",
       "</style>\n",
       "<table border=\"1\" class=\"dataframe\">\n",
       "  <thead>\n",
       "    <tr style=\"text-align: right;\">\n",
       "      <th></th>\n",
       "      <th>Kolor</th>\n",
       "    </tr>\n",
       "  </thead>\n",
       "  <tbody>\n",
       "    <tr>\n",
       "      <td>0</td>\n",
       "      <td>Blondyn</td>\n",
       "    </tr>\n",
       "    <tr>\n",
       "      <td>1</td>\n",
       "      <td>Brunet</td>\n",
       "    </tr>\n",
       "    <tr>\n",
       "      <td>2</td>\n",
       "      <td>Blondyn</td>\n",
       "    </tr>\n",
       "    <tr>\n",
       "      <td>3</td>\n",
       "      <td>Szatyn</td>\n",
       "    </tr>\n",
       "    <tr>\n",
       "      <td>4</td>\n",
       "      <td>Szatyn</td>\n",
       "    </tr>\n",
       "  </tbody>\n",
       "</table>\n",
       "</div>"
      ],
      "text/plain": [
       "     Kolor\n",
       "0  Blondyn\n",
       "1   Brunet\n",
       "2  Blondyn\n",
       "3   Szatyn\n",
       "4   Szatyn"
      ]
     },
     "execution_count": 42,
     "metadata": {},
     "output_type": "execute_result"
    }
   ],
   "source": [
    "ramka = pd.DataFrame({\"Kolor\":[\"Blondyn\", \"Brunet\", \"Blondyn\", \"Szatyn\", \"Szatyn\"], \"Wartosci\":[1.24,2.56,3.45,6.54,7.68]})\n",
    "# ramka.Kolor = pd.Categorical(ramka.Kolor)\n",
    "ramka.select_dtypes(include=[object])"
   ]
  },
  {
   "cell_type": "code",
   "execution_count": 43,
   "metadata": {},
   "outputs": [
    {
     "data": {
      "text/html": [
       "<div>\n",
       "<style scoped>\n",
       "    .dataframe tbody tr th:only-of-type {\n",
       "        vertical-align: middle;\n",
       "    }\n",
       "\n",
       "    .dataframe tbody tr th {\n",
       "        vertical-align: top;\n",
       "    }\n",
       "\n",
       "    .dataframe thead th {\n",
       "        text-align: right;\n",
       "    }\n",
       "</style>\n",
       "<table border=\"1\" class=\"dataframe\">\n",
       "  <thead>\n",
       "    <tr style=\"text-align: right;\">\n",
       "      <th></th>\n",
       "      <th>Kolor</th>\n",
       "      <th>Wartosci</th>\n",
       "    </tr>\n",
       "  </thead>\n",
       "  <tbody>\n",
       "    <tr>\n",
       "      <td>0</td>\n",
       "      <td>0</td>\n",
       "      <td>1.24</td>\n",
       "    </tr>\n",
       "    <tr>\n",
       "      <td>1</td>\n",
       "      <td>1</td>\n",
       "      <td>2.56</td>\n",
       "    </tr>\n",
       "    <tr>\n",
       "      <td>2</td>\n",
       "      <td>0</td>\n",
       "      <td>3.45</td>\n",
       "    </tr>\n",
       "    <tr>\n",
       "      <td>3</td>\n",
       "      <td>2</td>\n",
       "      <td>6.54</td>\n",
       "    </tr>\n",
       "    <tr>\n",
       "      <td>4</td>\n",
       "      <td>2</td>\n",
       "      <td>7.68</td>\n",
       "    </tr>\n",
       "  </tbody>\n",
       "</table>\n",
       "</div>"
      ],
      "text/plain": [
       "   Kolor  Wartosci\n",
       "0      0      1.24\n",
       "1      1      2.56\n",
       "2      0      3.45\n",
       "3      2      6.54\n",
       "4      2      7.68"
      ]
     },
     "execution_count": 43,
     "metadata": {},
     "output_type": "execute_result"
    }
   ],
   "source": [
    "ramka = pd.DataFrame({\"Kolor\":[\"Blondyn\", \"Brunet\", \"Blondyn\", \"Szatyn\", \"Szatyn\"], \"Wartosci\":[1.24,2.56,3.45,6.54,7.68]})\n",
    "# ramka.Kolor = pd.Categorical(ramka.Kolor)\n",
    "\n",
    "# tak naprawdę ten przykład trochę nie ma sensu:\n",
    "# w przypadku kolorów włosów nie ma sensu dawać liczb typu 0, 1, 2, 3...\n",
    "# bo sugerujemy, że włosy 0 są bliżej do włosów 1, niż do włosów 2 (a tak nie jest)\n",
    "# Ten przykład lepiej by działał dla wykształcenia, wag bokserskich (gdzie można\n",
    "# wprowadzić pewien porządek, że coś jest mniejsze od czegoś, np. wykształcenie średnie\n",
    "# od wyższego)\n",
    "le = LabelEncoder()\n",
    "ramka.Kolor = le.fit_transform(ramka.Kolor)\n",
    "# ramka = ramka.apply(le.fit_transform) # cała ramka\n",
    "ramka"
   ]
  },
  {
   "cell_type": "code",
   "execution_count": 49,
   "metadata": {},
   "outputs": [
    {
     "name": "stderr",
     "output_type": "stream",
     "text": [
      "/home/kodolamacz/anaconda3/lib/python3.7/site-packages/sklearn/preprocessing/_encoders.py:451: DeprecationWarning: The 'categorical_features' keyword is deprecated in version 0.20 and will be removed in 0.22. You can use the ColumnTransformer instead.\n",
      "  \"use the ColumnTransformer instead.\", DeprecationWarning)\n"
     ]
    },
    {
     "data": {
      "text/plain": [
       "array([[1.  , 0.  , 0.  , 1.24],\n",
       "       [0.  , 1.  , 0.  , 2.56],\n",
       "       [1.  , 0.  , 0.  , 3.45],\n",
       "       [0.  , 0.  , 1.  , 6.54],\n",
       "       [0.  , 0.  , 1.  , 7.68]])"
      ]
     },
     "execution_count": 49,
     "metadata": {},
     "output_type": "execute_result"
    }
   ],
   "source": [
    "enc = OneHotEncoder(handle_unknown='ignore', categorical_features=[0], sparse=False)\n",
    "# sparse to ta sama rzadkość co przy zliczaniu słów wczoraj: czyli jak czujemy,\n",
    "# że będzie mnóstwo zer, to macierz rzadka, żeby oszczędzać pamięć (przechowujemy\n",
    "# informację tylko o wartościach niezerowych)\n",
    "enc.fit(ramka)\n",
    "enc.transform(ramka)"
   ]
  },
  {
   "cell_type": "markdown",
   "metadata": {},
   "source": [
    "## Case study: Titanic\n",
    "\n",
    "Znaleźć najlepszy klasyfikator, który będzie przewidywał czy dana osoba przetrwa.\n",
    "\n",
    "moze przydać się funkcja pd.get_dummies()"
   ]
  },
  {
   "cell_type": "code",
   "execution_count": null,
   "metadata": {},
   "outputs": [],
   "source": [
    "# 1. Zakodowanie zmiennych jakościowych\n",
    "# 2. Uzupełnianie braków danych:\n",
    "#   a. Jeżeli w kolumnie w ogóle lub prawie w ogóle nie ma sensownych danych, no to usunąć\n",
    "#   b. Jeżeli w kolumnie jest sporo danych, i tylko czasami czegoś brakuje, to są dwa podejścia:\n",
    "#      b1. wersja minimum: albo policzyć średnią (kolumna ilościowa) z kolumny i wstawić, a w przypadku kolumny jakościowej wstawić najczęstszą wartość (modę)\n",
    "#      b2. wersja rozbudowana: robimy osobny model, gdzie przewidywaną kolumną (Y) jest kolumna z brakami danych. Następnie model przewiduje co wstawić w brakujące miejsca tej kolumny\n",
    "# 3. Poszukać obserwacji odstających, czyli np. ktoś ma wiek ujemny, ktoś ma wiek równy 1000 - narysować wykres skrzynkowy (boxplot), ew. histogram\n",
    "# 4. Można postarać się ręcznie porobić wykresy, jak układa się rozkład zmiennej w rozbiciu na klasy, które przewidujemy\n",
    "# 5. Inżynieria featurów: może jest jakaś cecha, w której są pewne dane, ale np. w środku tekstu, więc trzeba je wydobyć i zakodować jako zmienną jakościową? - typowy przykład to adres: wydobyć województwo, miasto, ulicę czy kod pocztowy\n",
    "# 6. Być może od razu wiadomo że jakaś kolumna jest zbędna i nie rokuje? Usunąć.\n",
    "# 7. Selekcja cech: to też jest osobny temat, tak jak uzupełnianie braków danych, zrobienie tego dokładnie jest poza możliwościami obliczeniowymi (dla 100 cech trzeba rozważyć 2^100 podzbiorów),\n",
    "#    są tutaj różne heurystyki (metody przybliżone), choćby L1 w regularyzacji w regresji, słowa kluczowe: AIC, BIC\n",
    "# 8. Czasami pomaga agregacja: czyli zamiast wzrostu 1.75, to trzy poziomy: niski, średni, wysoki\n",
    "# 9. Trochę a propos 7.: można porobić pairploty, popatrzeć na korelacje pomiędzy cechami. Jak dwie cechy są mocno skorelowane, to może jedną usunąć?\n",
    "# 10. Popatrzeć na korelacje cech z kolumną którą przewidujemy"
   ]
  },
  {
   "cell_type": "code",
   "execution_count": 1,
   "metadata": {},
   "outputs": [],
   "source": [
    "import pandas as pd"
   ]
  },
  {
   "cell_type": "code",
   "execution_count": 68,
   "metadata": {},
   "outputs": [],
   "source": [
    "data = pd.read_csv(\"Dane/titanic.csv\",decimal=\",\")"
   ]
  },
  {
   "cell_type": "code",
   "execution_count": 53,
   "metadata": {},
   "outputs": [
    {
     "data": {
      "text/html": [
       "<div>\n",
       "<style scoped>\n",
       "    .dataframe tbody tr th:only-of-type {\n",
       "        vertical-align: middle;\n",
       "    }\n",
       "\n",
       "    .dataframe tbody tr th {\n",
       "        vertical-align: top;\n",
       "    }\n",
       "\n",
       "    .dataframe thead th {\n",
       "        text-align: right;\n",
       "    }\n",
       "</style>\n",
       "<table border=\"1\" class=\"dataframe\">\n",
       "  <thead>\n",
       "    <tr style=\"text-align: right;\">\n",
       "      <th></th>\n",
       "      <th>pclass</th>\n",
       "      <th>survived</th>\n",
       "      <th>name</th>\n",
       "      <th>sex</th>\n",
       "      <th>age</th>\n",
       "      <th>sibsp</th>\n",
       "      <th>parch</th>\n",
       "      <th>ticket</th>\n",
       "      <th>fare</th>\n",
       "      <th>cabin</th>\n",
       "      <th>embarked</th>\n",
       "      <th>home.dest</th>\n",
       "    </tr>\n",
       "  </thead>\n",
       "  <tbody>\n",
       "    <tr>\n",
       "      <td>0</td>\n",
       "      <td>3</td>\n",
       "      <td>0</td>\n",
       "      <td>Abbing, Mr. Anthony</td>\n",
       "      <td>male</td>\n",
       "      <td>42.0</td>\n",
       "      <td>0</td>\n",
       "      <td>0</td>\n",
       "      <td>C.A. 5547</td>\n",
       "      <td>7.55</td>\n",
       "      <td>NaN</td>\n",
       "      <td>S</td>\n",
       "      <td>NaN</td>\n",
       "    </tr>\n",
       "    <tr>\n",
       "      <td>1</td>\n",
       "      <td>3</td>\n",
       "      <td>0</td>\n",
       "      <td>Abbott, Master. Eugene Joseph</td>\n",
       "      <td>male</td>\n",
       "      <td>13.0</td>\n",
       "      <td>0</td>\n",
       "      <td>2</td>\n",
       "      <td>C.A. 2673</td>\n",
       "      <td>20.25</td>\n",
       "      <td>NaN</td>\n",
       "      <td>S</td>\n",
       "      <td>East Providence, RI</td>\n",
       "    </tr>\n",
       "    <tr>\n",
       "      <td>2</td>\n",
       "      <td>3</td>\n",
       "      <td>0</td>\n",
       "      <td>Abbott, Mr. Rossmore Edward</td>\n",
       "      <td>male</td>\n",
       "      <td>16.0</td>\n",
       "      <td>1</td>\n",
       "      <td>1</td>\n",
       "      <td>C.A. 2673</td>\n",
       "      <td>20.25</td>\n",
       "      <td>NaN</td>\n",
       "      <td>S</td>\n",
       "      <td>East Providence, RI</td>\n",
       "    </tr>\n",
       "    <tr>\n",
       "      <td>3</td>\n",
       "      <td>3</td>\n",
       "      <td>1</td>\n",
       "      <td>Abbott, Mrs. Stanton (Rosa Hunt)</td>\n",
       "      <td>female</td>\n",
       "      <td>35.0</td>\n",
       "      <td>1</td>\n",
       "      <td>1</td>\n",
       "      <td>C.A. 2673</td>\n",
       "      <td>20.25</td>\n",
       "      <td>NaN</td>\n",
       "      <td>S</td>\n",
       "      <td>East Providence, RI</td>\n",
       "    </tr>\n",
       "    <tr>\n",
       "      <td>4</td>\n",
       "      <td>3</td>\n",
       "      <td>1</td>\n",
       "      <td>Abelseth, Miss. Karen Marie</td>\n",
       "      <td>female</td>\n",
       "      <td>16.0</td>\n",
       "      <td>0</td>\n",
       "      <td>0</td>\n",
       "      <td>348125</td>\n",
       "      <td>7.65</td>\n",
       "      <td>NaN</td>\n",
       "      <td>S</td>\n",
       "      <td>Norway Los Angeles, CA</td>\n",
       "    </tr>\n",
       "  </tbody>\n",
       "</table>\n",
       "</div>"
      ],
      "text/plain": [
       "   pclass  survived                              name     sex   age  sibsp  \\\n",
       "0       3         0               Abbing, Mr. Anthony    male  42.0      0   \n",
       "1       3         0     Abbott, Master. Eugene Joseph    male  13.0      0   \n",
       "2       3         0       Abbott, Mr. Rossmore Edward    male  16.0      1   \n",
       "3       3         1  Abbott, Mrs. Stanton (Rosa Hunt)  female  35.0      1   \n",
       "4       3         1       Abelseth, Miss. Karen Marie  female  16.0      0   \n",
       "\n",
       "   parch     ticket   fare cabin embarked               home.dest  \n",
       "0      0  C.A. 5547   7.55   NaN        S                     NaN  \n",
       "1      2  C.A. 2673  20.25   NaN        S     East Providence, RI  \n",
       "2      1  C.A. 2673  20.25   NaN        S     East Providence, RI  \n",
       "3      1  C.A. 2673  20.25   NaN        S     East Providence, RI  \n",
       "4      0     348125   7.65   NaN        S  Norway Los Angeles, CA  "
      ]
     },
     "execution_count": 53,
     "metadata": {},
     "output_type": "execute_result"
    }
   ],
   "source": [
    "data.head()"
   ]
  },
  {
   "cell_type": "code",
   "execution_count": 52,
   "metadata": {},
   "outputs": [
    {
     "data": {
      "text/plain": [
       "(1046, 12)"
      ]
     },
     "execution_count": 52,
     "metadata": {},
     "output_type": "execute_result"
    }
   ],
   "source": [
    "data.shape"
   ]
  },
  {
   "cell_type": "code",
   "execution_count": 55,
   "metadata": {},
   "outputs": [
    {
     "name": "stdout",
     "output_type": "stream",
     "text": [
      "<class 'pandas.core.frame.DataFrame'>\n",
      "RangeIndex: 1046 entries, 0 to 1045\n",
      "Data columns (total 12 columns):\n",
      "pclass       1046 non-null int64\n",
      "survived     1046 non-null int64\n",
      "name         1046 non-null object\n",
      "sex          1046 non-null object\n",
      "age          1046 non-null float64\n",
      "sibsp        1046 non-null int64\n",
      "parch        1046 non-null int64\n",
      "ticket       1046 non-null object\n",
      "fare         1045 non-null float64\n",
      "cabin        272 non-null object\n",
      "embarked     1044 non-null object\n",
      "home.dest    685 non-null object\n",
      "dtypes: float64(2), int64(4), object(6)\n",
      "memory usage: 98.2+ KB\n"
     ]
    }
   ],
   "source": [
    "data.info()"
   ]
  },
  {
   "cell_type": "code",
   "execution_count": null,
   "metadata": {},
   "outputs": [],
   "source": []
  },
  {
   "cell_type": "markdown",
   "metadata": {},
   "source": [
    "## Fare"
   ]
  },
  {
   "cell_type": "code",
   "execution_count": 57,
   "metadata": {},
   "outputs": [
    {
     "data": {
      "text/html": [
       "<div>\n",
       "<style scoped>\n",
       "    .dataframe tbody tr th:only-of-type {\n",
       "        vertical-align: middle;\n",
       "    }\n",
       "\n",
       "    .dataframe tbody tr th {\n",
       "        vertical-align: top;\n",
       "    }\n",
       "\n",
       "    .dataframe thead th {\n",
       "        text-align: right;\n",
       "    }\n",
       "</style>\n",
       "<table border=\"1\" class=\"dataframe\">\n",
       "  <thead>\n",
       "    <tr style=\"text-align: right;\">\n",
       "      <th></th>\n",
       "      <th>pclass</th>\n",
       "      <th>survived</th>\n",
       "      <th>name</th>\n",
       "      <th>sex</th>\n",
       "      <th>age</th>\n",
       "      <th>sibsp</th>\n",
       "      <th>parch</th>\n",
       "      <th>ticket</th>\n",
       "      <th>fare</th>\n",
       "      <th>cabin</th>\n",
       "      <th>embarked</th>\n",
       "      <th>home.dest</th>\n",
       "    </tr>\n",
       "  </thead>\n",
       "  <tbody>\n",
       "    <tr>\n",
       "      <td>921</td>\n",
       "      <td>3</td>\n",
       "      <td>0</td>\n",
       "      <td>Storey, Mr. Thomas</td>\n",
       "      <td>male</td>\n",
       "      <td>60.5</td>\n",
       "      <td>0</td>\n",
       "      <td>0</td>\n",
       "      <td>3701</td>\n",
       "      <td>NaN</td>\n",
       "      <td>NaN</td>\n",
       "      <td>S</td>\n",
       "      <td>NaN</td>\n",
       "    </tr>\n",
       "  </tbody>\n",
       "</table>\n",
       "</div>"
      ],
      "text/plain": [
       "     pclass  survived                name   sex   age  sibsp  parch ticket  \\\n",
       "921       3         0  Storey, Mr. Thomas  male  60.5      0      0   3701   \n",
       "\n",
       "     fare cabin embarked home.dest  \n",
       "921   NaN   NaN        S       NaN  "
      ]
     },
     "execution_count": 57,
     "metadata": {},
     "output_type": "execute_result"
    }
   ],
   "source": [
    "data[data.fare.isna()]"
   ]
  },
  {
   "cell_type": "code",
   "execution_count": 58,
   "metadata": {},
   "outputs": [
    {
     "data": {
      "text/plain": [
       "1"
      ]
     },
     "execution_count": 58,
     "metadata": {},
     "output_type": "execute_result"
    }
   ],
   "source": [
    "data.fare.isna().sum()"
   ]
  },
  {
   "cell_type": "code",
   "execution_count": 69,
   "metadata": {},
   "outputs": [],
   "source": [
    "data.loc[data.fare.isna(), \"fare\"] = data.fare[data.pclass==3].mean()"
   ]
  },
  {
   "cell_type": "markdown",
   "metadata": {},
   "source": [
    "## Embarked"
   ]
  },
  {
   "cell_type": "code",
   "execution_count": 79,
   "metadata": {},
   "outputs": [
    {
     "data": {
      "text/plain": [
       "S    782\n",
       "C    212\n",
       "Q     50\n",
       "Name: embarked, dtype: int64"
      ]
     },
     "execution_count": 79,
     "metadata": {},
     "output_type": "execute_result"
    }
   ],
   "source": [
    "data.embarked.value_counts()"
   ]
  },
  {
   "cell_type": "code",
   "execution_count": 80,
   "metadata": {},
   "outputs": [
    {
     "data": {
      "text/plain": [
       "2"
      ]
     },
     "execution_count": 80,
     "metadata": {},
     "output_type": "execute_result"
    }
   ],
   "source": [
    "data.embarked.isna().sum()"
   ]
  },
  {
   "cell_type": "code",
   "execution_count": 82,
   "metadata": {},
   "outputs": [
    {
     "data": {
      "text/plain": [
       "S    151\n",
       "C    128\n",
       "Q      3\n",
       "Name: embarked, dtype: int64"
      ]
     },
     "execution_count": 82,
     "metadata": {},
     "output_type": "execute_result"
    }
   ],
   "source": [
    "data[data.pclass==1].embarked.value_counts()"
   ]
  },
  {
   "cell_type": "code",
   "execution_count": 83,
   "metadata": {},
   "outputs": [
    {
     "data": {
      "text/html": [
       "<div>\n",
       "<style scoped>\n",
       "    .dataframe tbody tr th:only-of-type {\n",
       "        vertical-align: middle;\n",
       "    }\n",
       "\n",
       "    .dataframe tbody tr th {\n",
       "        vertical-align: top;\n",
       "    }\n",
       "\n",
       "    .dataframe thead th {\n",
       "        text-align: right;\n",
       "    }\n",
       "</style>\n",
       "<table border=\"1\" class=\"dataframe\">\n",
       "  <thead>\n",
       "    <tr style=\"text-align: right;\">\n",
       "      <th></th>\n",
       "      <th>pclass</th>\n",
       "      <th>survived</th>\n",
       "      <th>name</th>\n",
       "      <th>sex</th>\n",
       "      <th>age</th>\n",
       "      <th>sibsp</th>\n",
       "      <th>parch</th>\n",
       "      <th>ticket</th>\n",
       "      <th>fare</th>\n",
       "      <th>cabin</th>\n",
       "      <th>embarked</th>\n",
       "      <th>home.dest</th>\n",
       "    </tr>\n",
       "  </thead>\n",
       "  <tbody>\n",
       "    <tr>\n",
       "      <td>519</td>\n",
       "      <td>1</td>\n",
       "      <td>1</td>\n",
       "      <td>Icard, Miss. Amelie</td>\n",
       "      <td>female</td>\n",
       "      <td>38.0</td>\n",
       "      <td>0</td>\n",
       "      <td>0</td>\n",
       "      <td>113572</td>\n",
       "      <td>80.0</td>\n",
       "      <td>B28</td>\n",
       "      <td>NaN</td>\n",
       "      <td>NaN</td>\n",
       "    </tr>\n",
       "    <tr>\n",
       "      <td>920</td>\n",
       "      <td>1</td>\n",
       "      <td>1</td>\n",
       "      <td>Stone, Mrs. George Nelson (Martha Evelyn)</td>\n",
       "      <td>female</td>\n",
       "      <td>62.0</td>\n",
       "      <td>0</td>\n",
       "      <td>0</td>\n",
       "      <td>113572</td>\n",
       "      <td>80.0</td>\n",
       "      <td>B28</td>\n",
       "      <td>NaN</td>\n",
       "      <td>Cincinatti, OH</td>\n",
       "    </tr>\n",
       "  </tbody>\n",
       "</table>\n",
       "</div>"
      ],
      "text/plain": [
       "     pclass  survived                                       name     sex  \\\n",
       "519       1         1                        Icard, Miss. Amelie  female   \n",
       "920       1         1  Stone, Mrs. George Nelson (Martha Evelyn)  female   \n",
       "\n",
       "      age  sibsp  parch  ticket  fare cabin embarked       home.dest  \n",
       "519  38.0      0      0  113572  80.0   B28      NaN             NaN  \n",
       "920  62.0      0      0  113572  80.0   B28      NaN  Cincinatti, OH  "
      ]
     },
     "execution_count": 83,
     "metadata": {},
     "output_type": "execute_result"
    }
   ],
   "source": [
    "data[data.embarked.isna()]"
   ]
  },
  {
   "cell_type": "code",
   "execution_count": 84,
   "metadata": {},
   "outputs": [],
   "source": [
    "data.loc[data.embarked.isna(), \"embarked\"] = \"S\""
   ]
  },
  {
   "cell_type": "code",
   "execution_count": 85,
   "metadata": {},
   "outputs": [
    {
     "data": {
      "text/html": [
       "<div>\n",
       "<style scoped>\n",
       "    .dataframe tbody tr th:only-of-type {\n",
       "        vertical-align: middle;\n",
       "    }\n",
       "\n",
       "    .dataframe tbody tr th {\n",
       "        vertical-align: top;\n",
       "    }\n",
       "\n",
       "    .dataframe thead th {\n",
       "        text-align: right;\n",
       "    }\n",
       "</style>\n",
       "<table border=\"1\" class=\"dataframe\">\n",
       "  <thead>\n",
       "    <tr style=\"text-align: right;\">\n",
       "      <th></th>\n",
       "      <th>pclass</th>\n",
       "      <th>survived</th>\n",
       "      <th>name</th>\n",
       "      <th>sex</th>\n",
       "      <th>age</th>\n",
       "      <th>sibsp</th>\n",
       "      <th>parch</th>\n",
       "      <th>ticket</th>\n",
       "      <th>fare</th>\n",
       "      <th>cabin</th>\n",
       "      <th>embarked</th>\n",
       "      <th>home.dest</th>\n",
       "    </tr>\n",
       "  </thead>\n",
       "  <tbody>\n",
       "    <tr>\n",
       "      <td>519</td>\n",
       "      <td>1</td>\n",
       "      <td>1</td>\n",
       "      <td>Icard, Miss. Amelie</td>\n",
       "      <td>female</td>\n",
       "      <td>38.0</td>\n",
       "      <td>0</td>\n",
       "      <td>0</td>\n",
       "      <td>113572</td>\n",
       "      <td>80.0</td>\n",
       "      <td>B28</td>\n",
       "      <td>S</td>\n",
       "      <td>NaN</td>\n",
       "    </tr>\n",
       "    <tr>\n",
       "      <td>920</td>\n",
       "      <td>1</td>\n",
       "      <td>1</td>\n",
       "      <td>Stone, Mrs. George Nelson (Martha Evelyn)</td>\n",
       "      <td>female</td>\n",
       "      <td>62.0</td>\n",
       "      <td>0</td>\n",
       "      <td>0</td>\n",
       "      <td>113572</td>\n",
       "      <td>80.0</td>\n",
       "      <td>B28</td>\n",
       "      <td>S</td>\n",
       "      <td>Cincinatti, OH</td>\n",
       "    </tr>\n",
       "  </tbody>\n",
       "</table>\n",
       "</div>"
      ],
      "text/plain": [
       "     pclass  survived                                       name     sex  \\\n",
       "519       1         1                        Icard, Miss. Amelie  female   \n",
       "920       1         1  Stone, Mrs. George Nelson (Martha Evelyn)  female   \n",
       "\n",
       "      age  sibsp  parch  ticket  fare cabin embarked       home.dest  \n",
       "519  38.0      0      0  113572  80.0   B28        S             NaN  \n",
       "920  62.0      0      0  113572  80.0   B28        S  Cincinatti, OH  "
      ]
     },
     "execution_count": 85,
     "metadata": {},
     "output_type": "execute_result"
    }
   ],
   "source": [
    "data.loc[[519,920]]"
   ]
  },
  {
   "cell_type": "markdown",
   "metadata": {},
   "source": [
    "## Cabin"
   ]
  },
  {
   "cell_type": "markdown",
   "metadata": {},
   "source": [
    "http://www.paullee.com/titanic/Isham.php"
   ]
  },
  {
   "cell_type": "code",
   "execution_count": 71,
   "metadata": {
    "collapsed": true
   },
   "outputs": [
    {
     "data": {
      "text/plain": [
       "C23 C25 C27        6\n",
       "B57 B59 B63 B66    5\n",
       "G6                 5\n",
       "C22 C26            4\n",
       "B96 B98            4\n",
       "                  ..\n",
       "B73                1\n",
       "C30                1\n",
       "E58                1\n",
       "E39 E41            1\n",
       "C45                1\n",
       "Name: cabin, Length: 174, dtype: int64"
      ]
     },
     "execution_count": 71,
     "metadata": {},
     "output_type": "execute_result"
    }
   ],
   "source": [
    "# decydujemy się na usunięcie\n",
    "# innym posunięciem mogłoby być wyciągnięcie pierwszej litery (tam gdzie jest), a tam gdzie nie ma wstawić np. \"X\" (osobna kategoria)\n",
    "data.cabin.value_counts()"
   ]
  },
  {
   "cell_type": "code",
   "execution_count": 73,
   "metadata": {},
   "outputs": [
    {
     "data": {
      "text/plain": [
       "G6       5\n",
       "F G73    2\n",
       "E121     2\n",
       "F G63    2\n",
       "E10      1\n",
       "F E57    1\n",
       "Name: cabin, dtype: int64"
      ]
     },
     "execution_count": 73,
     "metadata": {},
     "output_type": "execute_result"
    }
   ],
   "source": [
    "data.cabin[data.pclass==3].value_counts()"
   ]
  },
  {
   "cell_type": "code",
   "execution_count": 74,
   "metadata": {},
   "outputs": [
    {
     "data": {
      "text/plain": [
       "F33     4\n",
       "F2      4\n",
       "F4      4\n",
       "D       3\n",
       "E101    2\n",
       "F       1\n",
       "D38     1\n",
       "E77     1\n",
       "D56     1\n",
       "Name: cabin, dtype: int64"
      ]
     },
     "execution_count": 74,
     "metadata": {},
     "output_type": "execute_result"
    }
   ],
   "source": [
    "data.cabin[data.pclass==2].value_counts()"
   ]
  },
  {
   "cell_type": "code",
   "execution_count": 75,
   "metadata": {},
   "outputs": [
    {
     "data": {
      "text/plain": [
       "C23 C25 C27        6\n",
       "B57 B59 B63 B66    5\n",
       "C22 C26            4\n",
       "B96 B98            4\n",
       "C78                4\n",
       "                  ..\n",
       "B36                1\n",
       "B73                1\n",
       "C30                1\n",
       "E58                1\n",
       "C45                1\n",
       "Name: cabin, Length: 159, dtype: int64"
      ]
     },
     "execution_count": 75,
     "metadata": {},
     "output_type": "execute_result"
    }
   ],
   "source": [
    "data.cabin[data.pclass==1].value_counts()"
   ]
  },
  {
   "cell_type": "markdown",
   "metadata": {},
   "source": [
    "## Name\n",
    "\n",
    "Pomysły: sprawdzić płeć, sprawdzić małżeństwo\n",
    "\n",
    "Innym jest wyciągnięcie tytułu sprzed nazwiska, te tytuły które pojawiają się tylko raz zgrupować w kategorię Rare. Zrobić zmienną jakościową.\n"
   ]
  },
  {
   "cell_type": "markdown",
   "metadata": {},
   "source": [
    "## Kolumny do usunięcia"
   ]
  },
  {
   "cell_type": "code",
   "execution_count": null,
   "metadata": {},
   "outputs": [],
   "source": [
    "# cabin, ticket, home.dest, name"
   ]
  },
  {
   "cell_type": "code",
   "execution_count": 86,
   "metadata": {},
   "outputs": [
    {
     "name": "stdout",
     "output_type": "stream",
     "text": [
      "<class 'pandas.core.frame.DataFrame'>\n",
      "RangeIndex: 1046 entries, 0 to 1045\n",
      "Data columns (total 12 columns):\n",
      "pclass       1046 non-null int64\n",
      "survived     1046 non-null int64\n",
      "name         1046 non-null object\n",
      "sex          1046 non-null object\n",
      "age          1046 non-null float64\n",
      "sibsp        1046 non-null int64\n",
      "parch        1046 non-null int64\n",
      "ticket       1046 non-null object\n",
      "fare         1046 non-null float64\n",
      "cabin        272 non-null object\n",
      "embarked     1046 non-null object\n",
      "home.dest    685 non-null object\n",
      "dtypes: float64(2), int64(4), object(6)\n",
      "memory usage: 98.2+ KB\n"
     ]
    }
   ],
   "source": [
    "data.info()"
   ]
  },
  {
   "cell_type": "code",
   "execution_count": 88,
   "metadata": {},
   "outputs": [],
   "source": [
    "data_prepared = data.drop(columns=[\"cabin\", \"ticket\", \"home.dest\", \"name\"])\n",
    "data_prepared = pd.get_dummies(data_prepared, drop_first=True)"
   ]
  },
  {
   "cell_type": "markdown",
   "metadata": {},
   "source": [
    "# Mamy gotowe dane"
   ]
  },
  {
   "cell_type": "code",
   "execution_count": 109,
   "metadata": {
    "collapsed": true
   },
   "outputs": [
    {
     "data": {
      "text/html": [
       "<div>\n",
       "<style scoped>\n",
       "    .dataframe tbody tr th:only-of-type {\n",
       "        vertical-align: middle;\n",
       "    }\n",
       "\n",
       "    .dataframe tbody tr th {\n",
       "        vertical-align: top;\n",
       "    }\n",
       "\n",
       "    .dataframe thead th {\n",
       "        text-align: right;\n",
       "    }\n",
       "</style>\n",
       "<table border=\"1\" class=\"dataframe\">\n",
       "  <thead>\n",
       "    <tr style=\"text-align: right;\">\n",
       "      <th></th>\n",
       "      <th>pclass</th>\n",
       "      <th>survived</th>\n",
       "      <th>age</th>\n",
       "      <th>sibsp</th>\n",
       "      <th>parch</th>\n",
       "      <th>fare</th>\n",
       "      <th>sex_male</th>\n",
       "      <th>embarked_Q</th>\n",
       "      <th>embarked_S</th>\n",
       "    </tr>\n",
       "  </thead>\n",
       "  <tbody>\n",
       "    <tr>\n",
       "      <td>0</td>\n",
       "      <td>3</td>\n",
       "      <td>0</td>\n",
       "      <td>42.0</td>\n",
       "      <td>0</td>\n",
       "      <td>0</td>\n",
       "      <td>7.5500</td>\n",
       "      <td>1</td>\n",
       "      <td>0</td>\n",
       "      <td>1</td>\n",
       "    </tr>\n",
       "    <tr>\n",
       "      <td>1</td>\n",
       "      <td>3</td>\n",
       "      <td>0</td>\n",
       "      <td>13.0</td>\n",
       "      <td>0</td>\n",
       "      <td>2</td>\n",
       "      <td>20.2500</td>\n",
       "      <td>1</td>\n",
       "      <td>0</td>\n",
       "      <td>1</td>\n",
       "    </tr>\n",
       "    <tr>\n",
       "      <td>2</td>\n",
       "      <td>3</td>\n",
       "      <td>0</td>\n",
       "      <td>16.0</td>\n",
       "      <td>1</td>\n",
       "      <td>1</td>\n",
       "      <td>20.2500</td>\n",
       "      <td>1</td>\n",
       "      <td>0</td>\n",
       "      <td>1</td>\n",
       "    </tr>\n",
       "    <tr>\n",
       "      <td>3</td>\n",
       "      <td>3</td>\n",
       "      <td>1</td>\n",
       "      <td>35.0</td>\n",
       "      <td>1</td>\n",
       "      <td>1</td>\n",
       "      <td>20.2500</td>\n",
       "      <td>0</td>\n",
       "      <td>0</td>\n",
       "      <td>1</td>\n",
       "    </tr>\n",
       "    <tr>\n",
       "      <td>4</td>\n",
       "      <td>3</td>\n",
       "      <td>1</td>\n",
       "      <td>16.0</td>\n",
       "      <td>0</td>\n",
       "      <td>0</td>\n",
       "      <td>7.6500</td>\n",
       "      <td>0</td>\n",
       "      <td>0</td>\n",
       "      <td>1</td>\n",
       "    </tr>\n",
       "    <tr>\n",
       "      <td>...</td>\n",
       "      <td>...</td>\n",
       "      <td>...</td>\n",
       "      <td>...</td>\n",
       "      <td>...</td>\n",
       "      <td>...</td>\n",
       "      <td>...</td>\n",
       "      <td>...</td>\n",
       "      <td>...</td>\n",
       "      <td>...</td>\n",
       "    </tr>\n",
       "    <tr>\n",
       "      <td>1041</td>\n",
       "      <td>2</td>\n",
       "      <td>0</td>\n",
       "      <td>24.0</td>\n",
       "      <td>0</td>\n",
       "      <td>0</td>\n",
       "      <td>13.0000</td>\n",
       "      <td>0</td>\n",
       "      <td>0</td>\n",
       "      <td>1</td>\n",
       "    </tr>\n",
       "    <tr>\n",
       "      <td>1042</td>\n",
       "      <td>3</td>\n",
       "      <td>0</td>\n",
       "      <td>14.5</td>\n",
       "      <td>1</td>\n",
       "      <td>0</td>\n",
       "      <td>14.4542</td>\n",
       "      <td>0</td>\n",
       "      <td>0</td>\n",
       "      <td>0</td>\n",
       "    </tr>\n",
       "    <tr>\n",
       "      <td>1043</td>\n",
       "      <td>3</td>\n",
       "      <td>0</td>\n",
       "      <td>26.5</td>\n",
       "      <td>0</td>\n",
       "      <td>0</td>\n",
       "      <td>7.2250</td>\n",
       "      <td>1</td>\n",
       "      <td>0</td>\n",
       "      <td>0</td>\n",
       "    </tr>\n",
       "    <tr>\n",
       "      <td>1044</td>\n",
       "      <td>3</td>\n",
       "      <td>0</td>\n",
       "      <td>27.0</td>\n",
       "      <td>0</td>\n",
       "      <td>0</td>\n",
       "      <td>7.2250</td>\n",
       "      <td>1</td>\n",
       "      <td>0</td>\n",
       "      <td>0</td>\n",
       "    </tr>\n",
       "    <tr>\n",
       "      <td>1045</td>\n",
       "      <td>3</td>\n",
       "      <td>0</td>\n",
       "      <td>29.0</td>\n",
       "      <td>0</td>\n",
       "      <td>0</td>\n",
       "      <td>7.8750</td>\n",
       "      <td>1</td>\n",
       "      <td>0</td>\n",
       "      <td>1</td>\n",
       "    </tr>\n",
       "  </tbody>\n",
       "</table>\n",
       "<p>1046 rows × 9 columns</p>\n",
       "</div>"
      ],
      "text/plain": [
       "      pclass  survived   age  sibsp  parch     fare  sex_male  embarked_Q  \\\n",
       "0          3         0  42.0      0      0   7.5500         1           0   \n",
       "1          3         0  13.0      0      2  20.2500         1           0   \n",
       "2          3         0  16.0      1      1  20.2500         1           0   \n",
       "3          3         1  35.0      1      1  20.2500         0           0   \n",
       "4          3         1  16.0      0      0   7.6500         0           0   \n",
       "...      ...       ...   ...    ...    ...      ...       ...         ...   \n",
       "1041       2         0  24.0      0      0  13.0000         0           0   \n",
       "1042       3         0  14.5      1      0  14.4542         0           0   \n",
       "1043       3         0  26.5      0      0   7.2250         1           0   \n",
       "1044       3         0  27.0      0      0   7.2250         1           0   \n",
       "1045       3         0  29.0      0      0   7.8750         1           0   \n",
       "\n",
       "      embarked_S  \n",
       "0              1  \n",
       "1              1  \n",
       "2              1  \n",
       "3              1  \n",
       "4              1  \n",
       "...          ...  \n",
       "1041           1  \n",
       "1042           0  \n",
       "1043           0  \n",
       "1044           0  \n",
       "1045           1  \n",
       "\n",
       "[1046 rows x 9 columns]"
      ]
     },
     "execution_count": 109,
     "metadata": {},
     "output_type": "execute_result"
    }
   ],
   "source": [
    "data_prepared"
   ]
  },
  {
   "cell_type": "code",
   "execution_count": 111,
   "metadata": {},
   "outputs": [],
   "source": [
    "X = data_prepared.drop(columns=\"survived\")\n",
    "X = data_prepared[[\"pclass\",\"sex_male\"]] # w ramach eksperymentu: regresja z regularyzacją L1 wskazała te dwie kolumny\n",
    "y = data_prepared[\"survived\"]\n",
    "\n",
    "X_train, X_test, y_train, y_test = train_test_split(X, y, \n",
    "                                                    test_size=0.1, \n",
    "                                                    random_state=432)"
   ]
  },
  {
   "cell_type": "code",
   "execution_count": null,
   "metadata": {},
   "outputs": [],
   "source": []
  },
  {
   "cell_type": "markdown",
   "metadata": {},
   "source": [
    "# Zbalansowanie"
   ]
  },
  {
   "cell_type": "code",
   "execution_count": 91,
   "metadata": {},
   "outputs": [
    {
     "data": {
      "text/plain": [
       "0.40822179732313574"
      ]
     },
     "execution_count": 91,
     "metadata": {},
     "output_type": "execute_result"
    }
   ],
   "source": [
    "y.mean()"
   ]
  },
  {
   "cell_type": "markdown",
   "metadata": {},
   "source": [
    "# Baseline"
   ]
  },
  {
   "cell_type": "code",
   "execution_count": 112,
   "metadata": {},
   "outputs": [
    {
     "data": {
      "text/plain": [
       "Pipeline(memory=None,\n",
       "         steps=[('skalowanie',\n",
       "                 StandardScaler(copy=True, with_mean=True, with_std=True)),\n",
       "                ('regresja',\n",
       "                 LogisticRegression(C=1.0, class_weight=None, dual=False,\n",
       "                                    fit_intercept=True, intercept_scaling=1,\n",
       "                                    l1_ratio=None, max_iter=100,\n",
       "                                    multi_class='warn', n_jobs=None,\n",
       "                                    penalty='l2', random_state=None,\n",
       "                                    solver='liblinear', tol=0.0001, verbose=0,\n",
       "                                    warm_start=False))],\n",
       "         verbose=False)"
      ]
     },
     "execution_count": 112,
     "metadata": {},
     "output_type": "execute_result"
    }
   ],
   "source": [
    "pipe = Pipeline([(\"skalowanie\", StandardScaler()), (\"regresja\", LogisticRegression(solver=\"liblinear\"))])\n",
    "pipe.fit(X_train, y_train)"
   ]
  },
  {
   "cell_type": "code",
   "execution_count": 113,
   "metadata": {},
   "outputs": [
    {
     "data": {
      "text/plain": [
       "0.7714285714285715"
      ]
     },
     "execution_count": 113,
     "metadata": {},
     "output_type": "execute_result"
    }
   ],
   "source": [
    "accuracy_score(pipe.predict(X_test), y_test)"
   ]
  },
  {
   "cell_type": "markdown",
   "metadata": {},
   "source": [
    "# Tunowanie"
   ]
  },
  {
   "cell_type": "code",
   "execution_count": 114,
   "metadata": {},
   "outputs": [
    {
     "name": "stdout",
     "output_type": "stream",
     "text": [
      "Tunowanie\n",
      "regresja\n",
      "Fitting 3 folds for each of 10 candidates, totalling 30 fits\n"
     ]
    },
    {
     "name": "stderr",
     "output_type": "stream",
     "text": [
      "[Parallel(n_jobs=3)]: Using backend LokyBackend with 3 concurrent workers.\n",
      "[Parallel(n_jobs=3)]: Done  30 out of  30 | elapsed:    2.8s finished\n",
      "[Parallel(n_jobs=3)]: Using backend LokyBackend with 3 concurrent workers.\n"
     ]
    },
    {
     "name": "stdout",
     "output_type": "stream",
     "text": [
      "{'regresja__C': 0.1, 'regresja__penalty': 'l1'}\n",
      "test=0.7714285714285715\n",
      "regresja\n",
      "Fitting 3 folds for each of 20 candidates, totalling 60 fits\n"
     ]
    },
    {
     "name": "stderr",
     "output_type": "stream",
     "text": [
      "[Parallel(n_jobs=3)]: Done  60 out of  60 | elapsed:    0.5s finished\n",
      "[Parallel(n_jobs=3)]: Using backend LokyBackend with 3 concurrent workers.\n"
     ]
    },
    {
     "name": "stdout",
     "output_type": "stream",
     "text": [
      "{'regresja__C': 0.1, 'regresja__penalty': 'l1', 'scaler__with_std': True}\n",
      "test=0.7714285714285715\n",
      "drzewo\n",
      "Fitting 3 folds for each of 10 candidates, totalling 30 fits\n"
     ]
    },
    {
     "name": "stderr",
     "output_type": "stream",
     "text": [
      "[Parallel(n_jobs=3)]: Done  30 out of  30 | elapsed:    0.2s finished\n",
      "[Parallel(n_jobs=3)]: Using backend LokyBackend with 3 concurrent workers.\n"
     ]
    },
    {
     "name": "stdout",
     "output_type": "stream",
     "text": [
      "{'drzewo__criterion': 'gini', 'drzewo__max_depth': 2}\n",
      "test=0.7714285714285715\n",
      "bayes\n",
      "Fitting 3 folds for each of 6 candidates, totalling 18 fits\n"
     ]
    },
    {
     "name": "stderr",
     "output_type": "stream",
     "text": [
      "[Parallel(n_jobs=3)]: Done  18 out of  18 | elapsed:    0.2s finished\n",
      "[Parallel(n_jobs=3)]: Using backend LokyBackend with 3 concurrent workers.\n"
     ]
    },
    {
     "name": "stdout",
     "output_type": "stream",
     "text": [
      "{'bayes__alpha': 0.3, 'bayes__fit_prior': False}\n",
      "test=0.7714285714285715\n",
      "SVC\n",
      "Fitting 3 folds for each of 8 candidates, totalling 24 fits\n"
     ]
    },
    {
     "name": "stderr",
     "output_type": "stream",
     "text": [
      "[Parallel(n_jobs=3)]: Done  24 out of  24 | elapsed:    0.5s finished\n",
      "/home/kodolamacz/anaconda3/lib/python3.7/site-packages/sklearn/svm/base.py:193: FutureWarning: The default value of gamma will change from 'auto' to 'scale' in version 0.22 to account better for unscaled features. Set gamma explicitly to 'auto' or 'scale' to avoid this warning.\n",
      "  \"avoid this warning.\", FutureWarning)\n",
      "[Parallel(n_jobs=3)]: Using backend LokyBackend with 3 concurrent workers.\n"
     ]
    },
    {
     "name": "stdout",
     "output_type": "stream",
     "text": [
      "{'SVC__degree': 4, 'SVC__kernel': 'poly'}\n",
      "test=0.7714285714285715\n",
      "RandomForest\n",
      "Fitting 3 folds for each of 84 candidates, totalling 252 fits\n"
     ]
    },
    {
     "name": "stderr",
     "output_type": "stream",
     "text": [
      "[Parallel(n_jobs=3)]: Done 131 tasks      | elapsed:   28.8s\n",
      "[Parallel(n_jobs=3)]: Done 252 out of 252 | elapsed:   58.0s finished\n"
     ]
    },
    {
     "name": "stdout",
     "output_type": "stream",
     "text": [
      "{'RandomForest__criterion': 'gini', 'RandomForest__max_depth': None, 'RandomForest__n_estimators': 100}\n",
      "test=0.7714285714285715\n",
      "BaggingClassifier_drzewo\n",
      "Fitting 3 folds for each of 600 candidates, totalling 1800 fits\n"
     ]
    },
    {
     "name": "stderr",
     "output_type": "stream",
     "text": [
      "[Parallel(n_jobs=3)]: Using backend LokyBackend with 3 concurrent workers.\n",
      "[Parallel(n_jobs=3)]: Done  81 tasks      | elapsed:   11.3s\n",
      "[Parallel(n_jobs=3)]: Done 202 tasks      | elapsed:   27.6s\n",
      "[Parallel(n_jobs=3)]: Done 405 tasks      | elapsed:   57.0s\n"
     ]
    },
    {
     "ename": "KeyboardInterrupt",
     "evalue": "",
     "output_type": "error",
     "traceback": [
      "\u001b[0;31m---------------------------------------------------------------------------\u001b[0m",
      "\u001b[0;31mKeyboardInterrupt\u001b[0m                         Traceback (most recent call last)",
      "\u001b[0;32m<ipython-input-114-d40f3c674da5>\u001b[0m in \u001b[0;36m<module>\u001b[0;34m\u001b[0m\n\u001b[1;32m     82\u001b[0m     \u001b[0;31m# więc są to dane \"skażone\", dlatego wydzieliliśmy też osobno X_test,\u001b[0m\u001b[0;34m\u001b[0m\u001b[0;34m\u001b[0m\u001b[0;34m\u001b[0m\u001b[0m\n\u001b[1;32m     83\u001b[0m     \u001b[0;31m# na którym ostatecznie to testujemy\u001b[0m\u001b[0;34m\u001b[0m\u001b[0;34m\u001b[0m\u001b[0;34m\u001b[0m\u001b[0m\n\u001b[0;32m---> 84\u001b[0;31m     \u001b[0mgs\u001b[0m\u001b[0;34m.\u001b[0m\u001b[0mfit\u001b[0m\u001b[0;34m(\u001b[0m\u001b[0mX_train\u001b[0m\u001b[0;34m,\u001b[0m \u001b[0my_train\u001b[0m\u001b[0;34m)\u001b[0m\u001b[0;34m\u001b[0m\u001b[0;34m\u001b[0m\u001b[0m\n\u001b[0m\u001b[1;32m     85\u001b[0m     \u001b[0mnajlepsze\u001b[0m\u001b[0;34m.\u001b[0m\u001b[0mappend\u001b[0m\u001b[0;34m(\u001b[0m\u001b[0mgs\u001b[0m\u001b[0;34m.\u001b[0m\u001b[0mbest_estimator_\u001b[0m\u001b[0;34m)\u001b[0m\u001b[0;34m\u001b[0m\u001b[0;34m\u001b[0m\u001b[0m\n\u001b[1;32m     86\u001b[0m     \u001b[0mprint\u001b[0m\u001b[0;34m(\u001b[0m\u001b[0mgs\u001b[0m\u001b[0;34m.\u001b[0m\u001b[0mbest_params_\u001b[0m\u001b[0;34m)\u001b[0m\u001b[0;34m\u001b[0m\u001b[0;34m\u001b[0m\u001b[0m\n",
      "\u001b[0;32m~/anaconda3/lib/python3.7/site-packages/sklearn/model_selection/_search.py\u001b[0m in \u001b[0;36mfit\u001b[0;34m(self, X, y, groups, **fit_params)\u001b[0m\n\u001b[1;32m    686\u001b[0m                 \u001b[0;32mreturn\u001b[0m \u001b[0mresults\u001b[0m\u001b[0;34m\u001b[0m\u001b[0;34m\u001b[0m\u001b[0m\n\u001b[1;32m    687\u001b[0m \u001b[0;34m\u001b[0m\u001b[0m\n\u001b[0;32m--> 688\u001b[0;31m             \u001b[0mself\u001b[0m\u001b[0;34m.\u001b[0m\u001b[0m_run_search\u001b[0m\u001b[0;34m(\u001b[0m\u001b[0mevaluate_candidates\u001b[0m\u001b[0;34m)\u001b[0m\u001b[0;34m\u001b[0m\u001b[0;34m\u001b[0m\u001b[0m\n\u001b[0m\u001b[1;32m    689\u001b[0m \u001b[0;34m\u001b[0m\u001b[0m\n\u001b[1;32m    690\u001b[0m         \u001b[0;31m# For multi-metric evaluation, store the best_index_, best_params_ and\u001b[0m\u001b[0;34m\u001b[0m\u001b[0;34m\u001b[0m\u001b[0;34m\u001b[0m\u001b[0m\n",
      "\u001b[0;32m~/anaconda3/lib/python3.7/site-packages/sklearn/model_selection/_search.py\u001b[0m in \u001b[0;36m_run_search\u001b[0;34m(self, evaluate_candidates)\u001b[0m\n\u001b[1;32m   1147\u001b[0m     \u001b[0;32mdef\u001b[0m \u001b[0m_run_search\u001b[0m\u001b[0;34m(\u001b[0m\u001b[0mself\u001b[0m\u001b[0;34m,\u001b[0m \u001b[0mevaluate_candidates\u001b[0m\u001b[0;34m)\u001b[0m\u001b[0;34m:\u001b[0m\u001b[0;34m\u001b[0m\u001b[0;34m\u001b[0m\u001b[0m\n\u001b[1;32m   1148\u001b[0m         \u001b[0;34m\"\"\"Search all candidates in param_grid\"\"\"\u001b[0m\u001b[0;34m\u001b[0m\u001b[0;34m\u001b[0m\u001b[0m\n\u001b[0;32m-> 1149\u001b[0;31m         \u001b[0mevaluate_candidates\u001b[0m\u001b[0;34m(\u001b[0m\u001b[0mParameterGrid\u001b[0m\u001b[0;34m(\u001b[0m\u001b[0mself\u001b[0m\u001b[0;34m.\u001b[0m\u001b[0mparam_grid\u001b[0m\u001b[0;34m)\u001b[0m\u001b[0;34m)\u001b[0m\u001b[0;34m\u001b[0m\u001b[0;34m\u001b[0m\u001b[0m\n\u001b[0m\u001b[1;32m   1150\u001b[0m \u001b[0;34m\u001b[0m\u001b[0m\n\u001b[1;32m   1151\u001b[0m \u001b[0;34m\u001b[0m\u001b[0m\n",
      "\u001b[0;32m~/anaconda3/lib/python3.7/site-packages/sklearn/model_selection/_search.py\u001b[0m in \u001b[0;36mevaluate_candidates\u001b[0;34m(candidate_params)\u001b[0m\n\u001b[1;32m    665\u001b[0m                                \u001b[0;32mfor\u001b[0m \u001b[0mparameters\u001b[0m\u001b[0;34m,\u001b[0m \u001b[0;34m(\u001b[0m\u001b[0mtrain\u001b[0m\u001b[0;34m,\u001b[0m \u001b[0mtest\u001b[0m\u001b[0;34m)\u001b[0m\u001b[0;34m\u001b[0m\u001b[0;34m\u001b[0m\u001b[0m\n\u001b[1;32m    666\u001b[0m                                in product(candidate_params,\n\u001b[0;32m--> 667\u001b[0;31m                                           cv.split(X, y, groups)))\n\u001b[0m\u001b[1;32m    668\u001b[0m \u001b[0;34m\u001b[0m\u001b[0m\n\u001b[1;32m    669\u001b[0m                 \u001b[0;32mif\u001b[0m \u001b[0mlen\u001b[0m\u001b[0;34m(\u001b[0m\u001b[0mout\u001b[0m\u001b[0;34m)\u001b[0m \u001b[0;34m<\u001b[0m \u001b[0;36m1\u001b[0m\u001b[0;34m:\u001b[0m\u001b[0;34m\u001b[0m\u001b[0;34m\u001b[0m\u001b[0m\n",
      "\u001b[0;32m~/anaconda3/lib/python3.7/site-packages/joblib/parallel.py\u001b[0m in \u001b[0;36m__call__\u001b[0;34m(self, iterable)\u001b[0m\n\u001b[1;32m    932\u001b[0m \u001b[0;34m\u001b[0m\u001b[0m\n\u001b[1;32m    933\u001b[0m             \u001b[0;32mwith\u001b[0m \u001b[0mself\u001b[0m\u001b[0;34m.\u001b[0m\u001b[0m_backend\u001b[0m\u001b[0;34m.\u001b[0m\u001b[0mretrieval_context\u001b[0m\u001b[0;34m(\u001b[0m\u001b[0;34m)\u001b[0m\u001b[0;34m:\u001b[0m\u001b[0;34m\u001b[0m\u001b[0;34m\u001b[0m\u001b[0m\n\u001b[0;32m--> 934\u001b[0;31m                 \u001b[0mself\u001b[0m\u001b[0;34m.\u001b[0m\u001b[0mretrieve\u001b[0m\u001b[0;34m(\u001b[0m\u001b[0;34m)\u001b[0m\u001b[0;34m\u001b[0m\u001b[0;34m\u001b[0m\u001b[0m\n\u001b[0m\u001b[1;32m    935\u001b[0m             \u001b[0;31m# Make sure that we get a last message telling us we are done\u001b[0m\u001b[0;34m\u001b[0m\u001b[0;34m\u001b[0m\u001b[0;34m\u001b[0m\u001b[0m\n\u001b[1;32m    936\u001b[0m             \u001b[0melapsed_time\u001b[0m \u001b[0;34m=\u001b[0m \u001b[0mtime\u001b[0m\u001b[0;34m.\u001b[0m\u001b[0mtime\u001b[0m\u001b[0;34m(\u001b[0m\u001b[0;34m)\u001b[0m \u001b[0;34m-\u001b[0m \u001b[0mself\u001b[0m\u001b[0;34m.\u001b[0m\u001b[0m_start_time\u001b[0m\u001b[0;34m\u001b[0m\u001b[0;34m\u001b[0m\u001b[0m\n",
      "\u001b[0;32m~/anaconda3/lib/python3.7/site-packages/joblib/parallel.py\u001b[0m in \u001b[0;36mretrieve\u001b[0;34m(self)\u001b[0m\n\u001b[1;32m    831\u001b[0m             \u001b[0;32mtry\u001b[0m\u001b[0;34m:\u001b[0m\u001b[0;34m\u001b[0m\u001b[0;34m\u001b[0m\u001b[0m\n\u001b[1;32m    832\u001b[0m                 \u001b[0;32mif\u001b[0m \u001b[0mgetattr\u001b[0m\u001b[0;34m(\u001b[0m\u001b[0mself\u001b[0m\u001b[0;34m.\u001b[0m\u001b[0m_backend\u001b[0m\u001b[0;34m,\u001b[0m \u001b[0;34m'supports_timeout'\u001b[0m\u001b[0;34m,\u001b[0m \u001b[0;32mFalse\u001b[0m\u001b[0;34m)\u001b[0m\u001b[0;34m:\u001b[0m\u001b[0;34m\u001b[0m\u001b[0;34m\u001b[0m\u001b[0m\n\u001b[0;32m--> 833\u001b[0;31m                     \u001b[0mself\u001b[0m\u001b[0;34m.\u001b[0m\u001b[0m_output\u001b[0m\u001b[0;34m.\u001b[0m\u001b[0mextend\u001b[0m\u001b[0;34m(\u001b[0m\u001b[0mjob\u001b[0m\u001b[0;34m.\u001b[0m\u001b[0mget\u001b[0m\u001b[0;34m(\u001b[0m\u001b[0mtimeout\u001b[0m\u001b[0;34m=\u001b[0m\u001b[0mself\u001b[0m\u001b[0;34m.\u001b[0m\u001b[0mtimeout\u001b[0m\u001b[0;34m)\u001b[0m\u001b[0;34m)\u001b[0m\u001b[0;34m\u001b[0m\u001b[0;34m\u001b[0m\u001b[0m\n\u001b[0m\u001b[1;32m    834\u001b[0m                 \u001b[0;32melse\u001b[0m\u001b[0;34m:\u001b[0m\u001b[0;34m\u001b[0m\u001b[0;34m\u001b[0m\u001b[0m\n\u001b[1;32m    835\u001b[0m                     \u001b[0mself\u001b[0m\u001b[0;34m.\u001b[0m\u001b[0m_output\u001b[0m\u001b[0;34m.\u001b[0m\u001b[0mextend\u001b[0m\u001b[0;34m(\u001b[0m\u001b[0mjob\u001b[0m\u001b[0;34m.\u001b[0m\u001b[0mget\u001b[0m\u001b[0;34m(\u001b[0m\u001b[0;34m)\u001b[0m\u001b[0;34m)\u001b[0m\u001b[0;34m\u001b[0m\u001b[0;34m\u001b[0m\u001b[0m\n",
      "\u001b[0;32m~/anaconda3/lib/python3.7/site-packages/joblib/_parallel_backends.py\u001b[0m in \u001b[0;36mwrap_future_result\u001b[0;34m(future, timeout)\u001b[0m\n\u001b[1;32m    519\u001b[0m         AsyncResults.get from multiprocessing.\"\"\"\n\u001b[1;32m    520\u001b[0m         \u001b[0;32mtry\u001b[0m\u001b[0;34m:\u001b[0m\u001b[0;34m\u001b[0m\u001b[0;34m\u001b[0m\u001b[0m\n\u001b[0;32m--> 521\u001b[0;31m             \u001b[0;32mreturn\u001b[0m \u001b[0mfuture\u001b[0m\u001b[0;34m.\u001b[0m\u001b[0mresult\u001b[0m\u001b[0;34m(\u001b[0m\u001b[0mtimeout\u001b[0m\u001b[0;34m=\u001b[0m\u001b[0mtimeout\u001b[0m\u001b[0;34m)\u001b[0m\u001b[0;34m\u001b[0m\u001b[0;34m\u001b[0m\u001b[0m\n\u001b[0m\u001b[1;32m    522\u001b[0m         \u001b[0;32mexcept\u001b[0m \u001b[0mLokyTimeoutError\u001b[0m\u001b[0;34m:\u001b[0m\u001b[0;34m\u001b[0m\u001b[0;34m\u001b[0m\u001b[0m\n\u001b[1;32m    523\u001b[0m             \u001b[0;32mraise\u001b[0m \u001b[0mTimeoutError\u001b[0m\u001b[0;34m(\u001b[0m\u001b[0;34m)\u001b[0m\u001b[0;34m\u001b[0m\u001b[0;34m\u001b[0m\u001b[0m\n",
      "\u001b[0;32m~/anaconda3/lib/python3.7/concurrent/futures/_base.py\u001b[0m in \u001b[0;36mresult\u001b[0;34m(self, timeout)\u001b[0m\n\u001b[1;32m    428\u001b[0m                 \u001b[0;32mreturn\u001b[0m \u001b[0mself\u001b[0m\u001b[0;34m.\u001b[0m\u001b[0m__get_result\u001b[0m\u001b[0;34m(\u001b[0m\u001b[0;34m)\u001b[0m\u001b[0;34m\u001b[0m\u001b[0;34m\u001b[0m\u001b[0m\n\u001b[1;32m    429\u001b[0m \u001b[0;34m\u001b[0m\u001b[0m\n\u001b[0;32m--> 430\u001b[0;31m             \u001b[0mself\u001b[0m\u001b[0;34m.\u001b[0m\u001b[0m_condition\u001b[0m\u001b[0;34m.\u001b[0m\u001b[0mwait\u001b[0m\u001b[0;34m(\u001b[0m\u001b[0mtimeout\u001b[0m\u001b[0;34m)\u001b[0m\u001b[0;34m\u001b[0m\u001b[0;34m\u001b[0m\u001b[0m\n\u001b[0m\u001b[1;32m    431\u001b[0m \u001b[0;34m\u001b[0m\u001b[0m\n\u001b[1;32m    432\u001b[0m             \u001b[0;32mif\u001b[0m \u001b[0mself\u001b[0m\u001b[0;34m.\u001b[0m\u001b[0m_state\u001b[0m \u001b[0;32min\u001b[0m \u001b[0;34m[\u001b[0m\u001b[0mCANCELLED\u001b[0m\u001b[0;34m,\u001b[0m \u001b[0mCANCELLED_AND_NOTIFIED\u001b[0m\u001b[0;34m]\u001b[0m\u001b[0;34m:\u001b[0m\u001b[0;34m\u001b[0m\u001b[0;34m\u001b[0m\u001b[0m\n",
      "\u001b[0;32m~/anaconda3/lib/python3.7/threading.py\u001b[0m in \u001b[0;36mwait\u001b[0;34m(self, timeout)\u001b[0m\n\u001b[1;32m    294\u001b[0m         \u001b[0;32mtry\u001b[0m\u001b[0;34m:\u001b[0m    \u001b[0;31m# restore state no matter what (e.g., KeyboardInterrupt)\u001b[0m\u001b[0;34m\u001b[0m\u001b[0;34m\u001b[0m\u001b[0m\n\u001b[1;32m    295\u001b[0m             \u001b[0;32mif\u001b[0m \u001b[0mtimeout\u001b[0m \u001b[0;32mis\u001b[0m \u001b[0;32mNone\u001b[0m\u001b[0;34m:\u001b[0m\u001b[0;34m\u001b[0m\u001b[0;34m\u001b[0m\u001b[0m\n\u001b[0;32m--> 296\u001b[0;31m                 \u001b[0mwaiter\u001b[0m\u001b[0;34m.\u001b[0m\u001b[0macquire\u001b[0m\u001b[0;34m(\u001b[0m\u001b[0;34m)\u001b[0m\u001b[0;34m\u001b[0m\u001b[0;34m\u001b[0m\u001b[0m\n\u001b[0m\u001b[1;32m    297\u001b[0m                 \u001b[0mgotit\u001b[0m \u001b[0;34m=\u001b[0m \u001b[0;32mTrue\u001b[0m\u001b[0;34m\u001b[0m\u001b[0;34m\u001b[0m\u001b[0m\n\u001b[1;32m    298\u001b[0m             \u001b[0;32melse\u001b[0m\u001b[0;34m:\u001b[0m\u001b[0;34m\u001b[0m\u001b[0;34m\u001b[0m\u001b[0m\n",
      "\u001b[0;31mKeyboardInterrupt\u001b[0m: "
     ]
    }
   ],
   "source": [
    "from sklearn.pipeline import Pipeline\n",
    "from sklearn.preprocessing import MinMaxScaler\n",
    "from sklearn.linear_model import LogisticRegression\n",
    "from sklearn.tree import DecisionTreeClassifier\n",
    "from sklearn.naive_bayes import MultinomialNB\n",
    "from sklearn.preprocessing import MaxAbsScaler\n",
    "from sklearn.preprocessing import StandardScaler\n",
    "from sklearn.feature_extraction.text import CountVectorizer\n",
    "from sklearn.svm import SVC\n",
    "from sklearn.ensemble import RandomForestClassifier\n",
    "from sklearn.ensemble import BaggingClassifier\n",
    "\n",
    "import pprint\n",
    "from sklearn.model_selection import GridSearchCV, train_test_split, cross_val_score\n",
    "\n",
    "from sklearn.metrics import accuracy_score\n",
    "import pandas as pd\n",
    "\n",
    "modele = (\n",
    "\n",
    "#     (pipe,parametry),\n",
    "    (Pipeline([(\"regresja\", LogisticRegression(solver=\"liblinear\"))]),\n",
    "    {\n",
    "    \"regresja__penalty\": [\"l1\", \"l2\"],\n",
    "    \"regresja__C\": [0.01, 0.1, 1, 10, 100]}),\n",
    "    \n",
    "    (Pipeline([ (\"scaler\", StandardScaler(with_mean=False)), (\"regresja\", LogisticRegression(solver=\"liblinear\"))]),\n",
    "    {\n",
    "     \"scaler__with_std\" : [True, False],\n",
    "    \"regresja__penalty\": [\"l1\", \"l2\"],\n",
    "    \"regresja__C\": [0.01, 0.1, 1, 10, 100]}),\n",
    "    \n",
    "    (Pipeline([ (\"drzewo\", DecisionTreeClassifier())]),\n",
    "    {\"drzewo__criterion\": [\"gini\", \"entropy\"],\n",
    "    \"drzewo__max_depth\": [2, 5, 10, 15, None]}),\n",
    "    \n",
    "    (Pipeline([(\"bayes\", MultinomialNB())]),\n",
    "    {\"bayes__alpha\": [0.3, 0.5, 0.8],\n",
    "    \"bayes__fit_prior\": [True, False]}),\n",
    "    \n",
    "    (Pipeline([ (\"scaler\", StandardScaler(with_mean=False)), (\"SVC\", SVC())]),\n",
    "    [{\"SVC__kernel\": [\"linear\", \"sigmoid\"]},\n",
    "     {\"SVC__kernel\": [\"poly\"], \"SVC__degree\": [2,3,4]},\n",
    "     {\"SVC__kernel\": [\"rbf\"], \"SVC__gamma\": [0.1, 1, 10]}\n",
    "    ]),\n",
    "    \n",
    "    (Pipeline([(\"RandomForest\", RandomForestClassifier())]),\n",
    "    {\"RandomForest__n_estimators\": [1,10,100, 200, 300, 500],\n",
    "     \"RandomForest__criterion\": [\"gini\", \"entropy\"],\n",
    "     \"RandomForest__max_depth\": [None, 2, 4, 8, 10, 16, 32]\n",
    "    }),\n",
    "    \n",
    "    (Pipeline([(\"BaggingClassifier_drzewo\", BaggingClassifier(DecisionTreeClassifier()))]),\n",
    "    {\"BaggingClassifier_drzewo__n_estimators\": [10,100, 200],\n",
    "     \"BaggingClassifier_drzewo__max_samples\" : [0.2, 0.3, 0.6, 0.8, 1.0],\n",
    "     \"BaggingClassifier_drzewo__max_features\" : [0.2, 0.3, 0.6, 0.8, 1.0],\n",
    "     \"BaggingClassifier_drzewo__bootstrap\" : [False, True],\n",
    "     \"BaggingClassifier_drzewo__base_estimator__max_depth\" : [None, 2, 4, 8]\n",
    "    }),\n",
    "    \n",
    "    (Pipeline([(\"BaggingClassifier_regresja\", BaggingClassifier(LogisticRegression()))]),\n",
    "    {\"BaggingClassifier_regresja__n_estimators\": [10, 100, 200],\n",
    "     \"BaggingClassifier_regresja__max_samples\" : [0.2,  0.6, 0.8, 1.0],\n",
    "     \"BaggingClassifier_regresja__max_features\" : [0.2, 0.6, 0.8, 1.0],\n",
    "     \"BaggingClassifier_regresja__bootstrap\" : [True],\n",
    "     \"BaggingClassifier_regresja__base_estimator__C\" : [0.1, 10],\n",
    "     \"BaggingClassifier_regresja__base_estimator__penalty\" : [\"l1\", \"l2\"]\n",
    "    })\n",
    ")\n",
    "\n",
    "# w pętli uruchomić dla każdego modelu GridSearchCV\n",
    "# zapamiętać najlepsze modele/parametry dla każdego modelu\n",
    "\n",
    "print(\"Tunowanie\")\n",
    "najlepsze = []\n",
    "for model, parametry in modele:\n",
    "    print(model.steps[-1][0])\n",
    "    gs = GridSearchCV(model, parametry, cv=3, verbose=2, n_jobs=3)\n",
    "    # tutaj następuje podział na część treningową i walidacyjną\n",
    "    # całe te dane, X_train, więc także ta część walidacyjna,\n",
    "    # bierze udział w \"meta-nauce\" parametrów modelu, np. C w regresji\n",
    "    # więc są to dane \"skażone\", dlatego wydzieliliśmy też osobno X_test,\n",
    "    # na którym ostatecznie to testujemy\n",
    "    gs.fit(X_train, y_train)\n",
    "    najlepsze.append(gs.best_estimator_)\n",
    "    print(gs.best_params_)\n",
    "    print(f\"test={accuracy_score(gs.best_estimator_.predict(X_test), y_test)}\")\n",
    "    \n",
    "# print(\"\\nTestowanie\")\n",
    "# # uruchomić każdego najlepszego na danych testowych\n",
    "# for model in najlepsze:\n",
    "#     print(model.steps[-1][0])\n",
    "#     print(accuracy_score(model.predict(X_test), y_test))"
   ]
  },
  {
   "cell_type": "code",
   "execution_count": 104,
   "metadata": {},
   "outputs": [
    {
     "data": {
      "text/plain": [
       "Pipeline(memory=None,\n",
       "         steps=[('skalowanie',\n",
       "                 StandardScaler(copy=True, with_mean=True, with_std=True)),\n",
       "                ('regresja',\n",
       "                 LogisticRegression(C=0.01, class_weight=None, dual=False,\n",
       "                                    fit_intercept=True, intercept_scaling=1,\n",
       "                                    l1_ratio=None, max_iter=100,\n",
       "                                    multi_class='warn', n_jobs=None,\n",
       "                                    penalty='l1', random_state=None,\n",
       "                                    solver='liblinear', tol=0.0001, verbose=0,\n",
       "                                    warm_start=False))],\n",
       "         verbose=False)"
      ]
     },
     "execution_count": 104,
     "metadata": {},
     "output_type": "execute_result"
    }
   ],
   "source": [
    "pipe = Pipeline([(\"skalowanie\", StandardScaler()), (\"regresja\", LogisticRegression(solver=\"liblinear\", C=0.01, penalty=\"l1\"))])\n",
    "pipe.fit(X_train, y_train)"
   ]
  },
  {
   "cell_type": "code",
   "execution_count": 102,
   "metadata": {},
   "outputs": [
    {
     "data": {
      "text/plain": [
       "Index(['pclass', 'age', 'sibsp', 'parch', 'fare', 'sex_male', 'embarked_Q',\n",
       "       'embarked_S'],\n",
       "      dtype='object')"
      ]
     },
     "execution_count": 102,
     "metadata": {},
     "output_type": "execute_result"
    }
   ],
   "source": [
    "X_train.columns"
   ]
  },
  {
   "cell_type": "code",
   "execution_count": 105,
   "metadata": {},
   "outputs": [
    {
     "data": {
      "text/plain": [
       "array([[-0.10305961,  0.        ,  0.        ,  0.        ,  0.        ,\n",
       "        -0.6472197 ,  0.        ,  0.        ]])"
      ]
     },
     "execution_count": 105,
     "metadata": {},
     "output_type": "execute_result"
    }
   ],
   "source": [
    "pipe[\"regresja\"].coef_"
   ]
  },
  {
   "cell_type": "code",
   "execution_count": 107,
   "metadata": {},
   "outputs": [
    {
     "data": {
      "text/plain": [
       "0.7714285714285715"
      ]
     },
     "execution_count": 107,
     "metadata": {},
     "output_type": "execute_result"
    }
   ],
   "source": [
    "accuracy_score(pipe.predict(X_test), y_test)"
   ]
  }
 ],
 "metadata": {
  "kernelspec": {
   "display_name": "Python 3",
   "language": "python",
   "name": "python3"
  },
  "language_info": {
   "codemirror_mode": {
    "name": "ipython",
    "version": 3
   },
   "file_extension": ".py",
   "mimetype": "text/x-python",
   "name": "python",
   "nbconvert_exporter": "python",
   "pygments_lexer": "ipython3",
   "version": "3.7.4"
  }
 },
 "nbformat": 4,
 "nbformat_minor": 2
}

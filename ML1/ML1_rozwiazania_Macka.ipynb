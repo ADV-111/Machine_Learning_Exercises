{
 "cells": [
  {
   "cell_type": "markdown",
   "metadata": {},
   "source": [
    "# <center>Uczenie maszynowe</center>\n",
    "\n",
    "<br>\n",
    "\n",
    "<br>\n",
    "\n",
    "## <center>Proces rozwiązywania problemów z zastosowaniem uczenia maszynowego</center>\n",
    "\n",
    "<img src=\"Grafika/CRISP_DM_Process_Diagram.png\" width=\"350\">\n",
    "Źródło: https://upload.wikimedia.org/wikipedia/commons/thumb/b/b9/CRISP-DM_Process_Diagram.png/897px-CRISP-DM_Process_Diagram.png\n",
    "\n",
    "<br>\n",
    "\n",
    "<br>\n",
    "\n",
    "<br>\n",
    "\n",
    "<br>\n",
    "\n",
    "<br>\n",
    "\n",
    "\n",
    "\n",
    "\n",
    " <br>\n",
    "\n",
    "## Kilka faktów na temat uczenia maszynowego\n",
    "\n",
    "* ML to zarówno nauka jak i sztuka.\n",
    "\n",
    "* Nie istnieje metoda \"najlepsza\" - każdy problem wymaga indywidualnego podejścia.\n",
    "\n",
    "* Rozwiązanie problemu ML = reprezentacja danych + algorytm.\n",
    "\n",
    "  - w codziennej praktyce pierwszy czynnik często niedoceniany. Przetworzanie danych jest równie ważne jak same algorytmy, a nawet często dane są ważniejsze od algorytmu - często większy wpływ na wyniki ma postać danych (ich przygotowanie/przetworzenie) niż wybór konkretnego algorytmu.\n",
    "\n",
    "* Bardzo ważne jest zdefiniowanie celu jaki chcemy osiągnąć i rozumienie jak dane i algorytmy z tym celem się wiążą.\n",
    "\n",
    "\n",
    " <br>\n",
    " \n",
    " <br>\n",
    " \n",
    " <br>\n",
    " \n",
    " <br>\n",
    " \n",
    " <br>\n",
    " \n",
    " <br>\n",
    " \n",
    " <br>\n",
    " \n",
    " <br>\n",
    " \n",
    " ## Dwa główne nurty uczenia maszynowego:\n",
    "* uczenie nadzorowane (*supervised learning*)\n",
    "* uczenie nienadzorowane (*unsupervised learning*)\n",
    "\n",
    "  <br>\n",
    " \n",
    " <br>\n",
    " \n",
    " <br>\n",
    " \n",
    " <br>\n",
    " \n",
    " <br>\n",
    " \n",
    " <br>\n",
    " \n",
    " <br>\n",
    " \n",
    "## Uczenie nadzorowane\n",
    "\n",
    "Dla znanych par (X,Y) szukamy zależności między X a Y - budujemy model, który na podstawie X przewidzi Y.\n",
    " \n",
    "\n",
    "* regresja: Y jest zmienną rzeczywistą\n",
    "\n",
    "* klasyfikacja: Y jest zmienną dyskretną (np. binarną - o wartościach 0 i 1)\n",
    "\n",
    " <br>\n",
    " \n",
    " <br>\n",
    " \n",
    " <br>\n",
    " \n",
    " <br>\n",
    " \n",
    " <br>\n",
    " \n",
    " <br>\n",
    " \n",
    " <br>\n",
    " \n",
    "## Zagadnienie klasyfikacji - przykłady:\n",
    "- predykcja churnu - przewidywanie na podstawie cech klienta (opisujących m.in. jego zachowanie) czy klient odejdzie w najbliższym czasie (np. w ciągu miesiąca);\n",
    "- scoring kredytowy - przewidywanie czy klient ubiegający się o kredyt spłaci go w terminie;\n",
    "- rozpoznawanie choroby - rozpoznawanie na podstawie parametrów medycznych czy pacjent zachoruje/jest chory;\n",
    "- klasyfikacja tematyczna tekstu;\n",
    "- klasyfikacja wydźwięku opini;\n",
    "- rozpoznawanie zawartosci obrazów."
   ]
  },
  {
   "cell_type": "markdown",
   "metadata": {},
   "source": [
    "# Regresja logistyczna\n",
    "\n",
    "Rozważamy problem klasyfikacji binarnej: $X \\in \\mathbb{R}^p$, $Y \\in \\{0, 1\\}$.\n",
    "\n",
    "Założenia modelu:\n",
    "\n",
    "$$\n",
    "Y =\n",
    "\\begin{cases}\n",
    "1, \\text{ z prawdopodobieństwem } \\pi(x)\\\\\n",
    "0, \\text{ z prawdopodobieństwem } 1-\\pi(x).\\\\\n",
    "\\end{cases}$$\n",
    "\n",
    ", gdzie\n",
    "\n",
    "$\\pi(x)=P(Y=1 \\mid x)$.\n",
    "\n",
    "Czyli innymi słowy:\n",
    "\n",
    "$$\\large Y \\sim B(\\pi(x)),$$\n",
    "\n",
    "\n",
    "B($\\cdot$) - rozkład dwupunktowy, \n",
    "\n",
    "\n",
    "Model:\n",
    "\n",
    "$$\\large \\pi(x) = \\frac{1}{1+e^{-\\beta x}},$$\n",
    "\n",
    "$\\beta = (\\beta_0,\\beta_1, \\ldots, \\beta_p),$   $\\beta x = \\beta_0 + \\beta_1 x_1 + \\ldots + \\beta_p x_p.$\n",
    "\n",
    " <br>\n",
    " \n",
    " <br>\n",
    " \n",
    "Predykcja wartości Y przy użyciu regresji logistycznej:\n",
    "\n",
    "$$\n",
    "\\hat{y} =\n",
    "\\begin{cases}\n",
    "1, \\text{ gdy } \\pi(x) > 0.5\\\\\n",
    "0, \\text{ gdy } \\pi(x) \\leq 0.5\\\\\n",
    "\\end{cases}\n",
    "$$\n",
    " \n",
    " <br>\n",
    " \n",
    " <br>\n",
    " \n",
    " <br>\n",
    "\n",
    "Dopasowanie modelu = znalezienie optymalnych wartości współczynników wektora $\\beta$, czyli takich, które najlepiej opisują zależność $Y$ od $X$. \n",
    "\n",
    " <br>\n",
    " \n",
    " <br>\n",
    " \n",
    " <br>\n",
    " \n",
    "Najlepiej czyli jak?\n",
    " \n",
    "## Metoda największej wiarogodności\n",
    " \n",
    "Rozważmy sytuację binarną. tzn. $y \\in \\{0,1\\}$. Logarytm funkcji wiarogodności wygląda następująco (X zbiór obserwacji, Y - zbiór etykiet):\n",
    "\n",
    "$ \n",
    "\\begin{align}\n",
    "L(\\beta \\ | \\ X,Y) & = \\log \\prod\\limits_{i=1}^n P(Y_i=y_i \\ | \\ x_i) \\\\\n",
    "       & = \\log \\prod\\limits_{i=1}^n \\pi(x_i)^{y_i}(1-\\pi(x_i))^{1-y_i} \\\\\n",
    "       & = \\sum\\limits_{i=1}^n \\log\\big( \\pi(x_i)^{y_i}(1-\\pi(x_i))^{1-y_i}\\big) \\\\\n",
    "       & = \\sum\\limits_{i=1}^n y_i\\log(\\pi(x_i)) + (1-y_i)\\log(1-\\pi(x_i)) .\n",
    "\\end{align}\n",
    "$\n",
    "\n",
    "Przyjmijmy oznaczenie: $h(\\pi(x),y) = y\\log{(\\pi(x))} + (1-y)\\log{(1-\\pi(x))}.$\n",
    "Zauważmy, że:\n",
    "\n",
    "$h(\\pi(x),1) = \\log{(\\pi(x))}$\n",
    "\n",
    "$h(\\pi(x),0) = \\log{(1-\\pi(x))}$\n",
    "\n",
    "Jeżeli $y=1$ to model jest tym lepszy im $\\pi(x)$ jest większe. Jeżeli $y=0$, to model jest tym lepszy im $\\pi(x)$ jest mniejsze, czyli $1 - \\pi(x)$ większe.\n",
    "\n",
    "Dopasowywanie modelu regresji logistycznej polega na maksymalizacji funkcji wiarogodności (technicznie - jej logarytmu) - szukamy (numerycznie) takiego wektora $\\beta$, dla którego wiarogodność jest największa.\n"
   ]
  },
  {
   "cell_type": "code",
   "execution_count": 1,
   "metadata": {},
   "outputs": [
    {
     "data": {
      "text/plain": [
       "0.3775406687981454"
      ]
     },
     "execution_count": 1,
     "metadata": {},
     "output_type": "execute_result"
    }
   ],
   "source": [
    "import numpy as np\n",
    "\n",
    "x1 = 0.5\n",
    "x2 = 0.5\n",
    "beta = np.array([-0.5, 2, -2])\n",
    "\n",
    "prob = 1 / (1 + np.exp(-beta[0]-beta[1]*x1 - beta[2]*x2))\n",
    "prob"
   ]
  },
  {
   "cell_type": "code",
   "execution_count": 2,
   "metadata": {},
   "outputs": [
    {
     "data": {
      "text/plain": [
       "0.8175744761936437"
      ]
     },
     "execution_count": 2,
     "metadata": {},
     "output_type": "execute_result"
    }
   ],
   "source": [
    "x1 = 1.5\n",
    "x2 = 0.5\n",
    "beta = np.array([-0.5, 2, -2])\n",
    "\n",
    "prob = 1 / (1 + np.exp(-beta[0]-beta[1]*x1 - beta[2]*x2))\n",
    "prob"
   ]
  },
  {
   "cell_type": "code",
   "execution_count": 3,
   "metadata": {},
   "outputs": [
    {
     "data": {
      "text/plain": [
       "0.07585818002124355"
      ]
     },
     "execution_count": 3,
     "metadata": {},
     "output_type": "execute_result"
    }
   ],
   "source": [
    "x1 = 0.5\n",
    "x2 = 1.5\n",
    "beta = np.array([-0.5, 2, -2])\n",
    "\n",
    "# wzrost wartości cechy przy dodatnim współczynniku beta powoduje wzrost prawdopodobieństwa\n",
    "# wzrost wartości cechy przy ujemnym współczynniku beta powoduje spadek prawdopodobieńswa\n",
    "prob = 1 / (1 + np.exp(-beta[0]-beta[1]*x1 - beta[2]*x2))\n",
    "prob"
   ]
  },
  {
   "cell_type": "code",
   "execution_count": 10,
   "metadata": {},
   "outputs": [
    {
     "data": {
      "image/png": "[encoded data removed]",
      "text/plain": [
       "<Figure size 432x288 with 1 Axes>"
      ]
     },
     "metadata": {
      "needs_background": "light"
     },
     "output_type": "display_data"
    }
   ],
   "source": [
    "import matplotlib.pyplot as plt\n",
    "x = np.linspace(-10,10,1000)\n",
    "prob = 1 / (1 + np.exp(-x))\n",
    "plt.plot(x, prob)\n",
    "plt.show()"
   ]
  },
  {
   "cell_type": "markdown",
   "metadata": {},
   "source": [
    "# Zrozumienie współczynnika beta -- pojęcie szansy (ang. odds)"
   ]
  },
  {
   "cell_type": "markdown",
   "metadata": {},
   "source": [
    "Często pada pytanie (np. na rozmowie o pracę): jaka jest interpretacja współczynników beta? Co możemy powiedzieć o wzroście prawdopodobieństwa wraz ze wzrostem cechy, gdy beta jest równa np. 2?"
   ]
  },
  {
   "cell_type": "code",
   "execution_count": 11,
   "metadata": {},
   "outputs": [
    {
     "data": {
      "text/plain": [
       "0.07585818002124355"
      ]
     },
     "execution_count": 11,
     "metadata": {},
     "output_type": "execute_result"
    }
   ],
   "source": [
    "x1 = 0.5\n",
    "x2 = 1.5\n",
    "beta = np.array([-0.5, 2, -2])\n",
    "\n",
    "# wzrost wartości cechy przy dodatnim współczynniku beta powoduje wzrost prawdopodobieństwa\n",
    "# wzrost wartości cechy przy ujemnym współczynniku beta powoduje spadek prawdopodobieńswa\n",
    "prob = 1 / (1 + np.exp(-beta[0]-beta[1]*x1 - beta[2]*x2))\n",
    "prob"
   ]
  },
  {
   "cell_type": "markdown",
   "metadata": {},
   "source": [
    "Załóżmy, że mamy prawdopodobieństwo 20%. Możemy powiedzieć, że szansa to 1 : 4. Dochodzimy do tego w ten sposób, że to jest jak 20% : 80%."
   ]
  },
  {
   "cell_type": "code",
   "execution_count": 12,
   "metadata": {},
   "outputs": [
    {
     "data": {
      "text/plain": [
       "0.25"
      ]
     },
     "execution_count": 12,
     "metadata": {},
     "output_type": "execute_result"
    }
   ],
   "source": [
    "p = 0.2\n",
    "szansa = p / (1-p)\n",
    "szansa"
   ]
  },
  {
   "cell_type": "markdown",
   "metadata": {},
   "source": [
    "Pokazujemy wartość prawdopodopodobieństwa oraz szansy dla jakichś ustalonych x1 i x2"
   ]
  },
  {
   "cell_type": "code",
   "execution_count": 16,
   "metadata": {},
   "outputs": [
    {
     "name": "stdout",
     "output_type": "stream",
     "text": [
      "0.3775406687981454\n",
      "0.6065306597126333\n"
     ]
    }
   ],
   "source": [
    "x1 = 0.5\n",
    "x2 = 0.5\n",
    "beta = np.array([-0.5, 2, -2])\n",
    "\n",
    "prob = 1 / (1 + np.exp(-beta[0]-beta[1]*x1 - beta[2]*x2))\n",
    "print(prob)\n",
    "szansa1 = prob/(1-prob)\n",
    "print(szansa1)"
   ]
  },
  {
   "cell_type": "markdown",
   "metadata": {},
   "source": [
    "Teraz zwiększę x1 dokładnie o 1."
   ]
  },
  {
   "cell_type": "code",
   "execution_count": 15,
   "metadata": {},
   "outputs": [
    {
     "name": "stdout",
     "output_type": "stream",
     "text": [
      "0.8175744761936437\n",
      "4.4816890703380645\n"
     ]
    }
   ],
   "source": [
    "x1 = 1.5\n",
    "x2 = 0.5\n",
    "beta = np.array([-0.5, 2, -2])\n",
    "\n",
    "prob = 1 / (1 + np.exp(-beta[0]-beta[1]*x1 - beta[2]*x2))\n",
    "print(prob)\n",
    "szansa2 = prob/(1-prob)\n",
    "print(szansa2)"
   ]
  },
  {
   "cell_type": "code",
   "execution_count": 17,
   "metadata": {},
   "outputs": [
    {
     "data": {
      "text/plain": [
       "7.389056098930651"
      ]
     },
     "execution_count": 17,
     "metadata": {},
     "output_type": "execute_result"
    }
   ],
   "source": [
    "szansa2/szansa1"
   ]
  },
  {
   "cell_type": "code",
   "execution_count": 18,
   "metadata": {},
   "outputs": [
    {
     "data": {
      "text/plain": [
       "7.38905609893065"
      ]
     },
     "execution_count": 18,
     "metadata": {},
     "output_type": "execute_result"
    }
   ],
   "source": [
    "np.exp(2)"
   ]
  },
  {
   "cell_type": "markdown",
   "metadata": {},
   "source": [
    "Podsumowując: szansa wzrasta $e^{\\beta_1}$ razy, gdy $x_1$ wzrasta o $1$."
   ]
  },
  {
   "cell_type": "markdown",
   "metadata": {},
   "source": [
    "# Jak uruchomić model"
   ]
  },
  {
   "cell_type": "code",
   "execution_count": 19,
   "metadata": {},
   "outputs": [],
   "source": [
    "from sklearn.datasets import load_breast_cancer\n",
    "\n",
    "data = load_breast_cancer()\n",
    "X, y = data.data, data.target"
   ]
  },
  {
   "cell_type": "code",
   "execution_count": 20,
   "metadata": {},
   "outputs": [
    {
     "data": {
      "text/plain": [
       "array(['mean radius', 'mean texture', 'mean perimeter', 'mean area',\n",
       "       'mean smoothness', 'mean compactness', 'mean concavity',\n",
       "       'mean concave points', 'mean symmetry', 'mean fractal dimension',\n",
       "       'radius error', 'texture error', 'perimeter error', 'area error',\n",
       "       'smoothness error', 'compactness error', 'concavity error',\n",
       "       'concave points error', 'symmetry error',\n",
       "       'fractal dimension error', 'worst radius', 'worst texture',\n",
       "       'worst perimeter', 'worst area', 'worst smoothness',\n",
       "       'worst compactness', 'worst concavity', 'worst concave points',\n",
       "       'worst symmetry', 'worst fractal dimension'], dtype='<U23')"
      ]
     },
     "execution_count": 20,
     "metadata": {},
     "output_type": "execute_result"
    }
   ],
   "source": [
    "data.feature_names"
   ]
  },
  {
   "cell_type": "code",
   "execution_count": 22,
   "metadata": {
    "collapsed": true
   },
   "outputs": [
    {
     "data": {
      "text/plain": [
       "array([[1.799e+01, 1.038e+01, 1.228e+02, ..., 2.654e-01, 4.601e-01,\n",
       "        1.189e-01],\n",
       "       [2.057e+01, 1.777e+01, 1.329e+02, ..., 1.860e-01, 2.750e-01,\n",
       "        8.902e-02],\n",
       "       [1.969e+01, 2.125e+01, 1.300e+02, ..., 2.430e-01, 3.613e-01,\n",
       "        8.758e-02],\n",
       "       ...,\n",
       "       [1.660e+01, 2.808e+01, 1.083e+02, ..., 1.418e-01, 2.218e-01,\n",
       "        7.820e-02],\n",
       "       [2.060e+01, 2.933e+01, 1.401e+02, ..., 2.650e-01, 4.087e-01,\n",
       "        1.240e-01],\n",
       "       [7.760e+00, 2.454e+01, 4.792e+01, ..., 0.000e+00, 2.871e-01,\n",
       "        7.039e-02]])"
      ]
     },
     "execution_count": 22,
     "metadata": {},
     "output_type": "execute_result"
    }
   ],
   "source": [
    "X"
   ]
  },
  {
   "cell_type": "code",
   "execution_count": 23,
   "metadata": {},
   "outputs": [
    {
     "data": {
      "text/plain": [
       "(569, 30)"
      ]
     },
     "execution_count": 23,
     "metadata": {},
     "output_type": "execute_result"
    }
   ],
   "source": [
    "X.shape"
   ]
  },
  {
   "cell_type": "code",
   "execution_count": 27,
   "metadata": {
    "collapsed": true
   },
   "outputs": [
    {
     "data": {
      "text/plain": [
       "array([0, 0, 0, 0, 0, 0, 0, 0, 0, 0, 0, 0, 0, 0, 0, 0, 0, 0, 0, 1, 1, 1,\n",
       "       0, 0, 0, 0, 0, 0, 0, 0, 0, 0, 0, 0, 0, 0, 0, 1, 0, 0, 0, 0, 0, 0,\n",
       "       0, 0, 1, 0, 1, 1, 1, 1, 1, 0, 0, 1, 0, 0, 1, 1, 1, 1, 0, 1, 0, 0,\n",
       "       1, 1, 1, 1, 0, 1, 0, 0, 1, 0, 1, 0, 0, 1, 1, 1, 0, 0, 1, 0, 0, 0,\n",
       "       1, 1, 1, 0, 1, 1, 0, 0, 1, 1, 1, 0, 0, 1, 1, 1, 1, 0, 1, 1, 0, 1,\n",
       "       1, 1, 1, 1, 1, 1, 1, 0, 0, 0, 1, 0, 0, 1, 1, 1, 0, 0, 1, 0, 1, 0,\n",
       "       0, 1, 0, 0, 1, 1, 0, 1, 1, 0, 1, 1, 1, 1, 0, 1, 1, 1, 1, 1, 1, 1,\n",
       "       1, 1, 0, 1, 1, 1, 1, 0, 0, 1, 0, 1, 1, 0, 0, 1, 1, 0, 0, 1, 1, 1,\n",
       "       1, 0, 1, 1, 0, 0, 0, 1, 0, 1, 0, 1, 1, 1, 0, 1, 1, 0, 0, 1, 0, 0,\n",
       "       0, 0, 1, 0, 0, 0, 1, 0, 1, 0, 1, 1, 0, 1, 0, 0, 0, 0, 1, 1, 0, 0,\n",
       "       1, 1, 1, 0, 1, 1, 1, 1, 1, 0, 0, 1, 1, 0, 1, 1, 0, 0, 1, 0, 1, 1,\n",
       "       1, 1, 0, 1, 1, 1, 1, 1, 0, 1, 0, 0, 0, 0, 0, 0, 0, 0, 0, 0, 0, 0,\n",
       "       0, 0, 1, 1, 1, 1, 1, 1, 0, 1, 0, 1, 1, 0, 1, 1, 0, 1, 0, 0, 1, 1,\n",
       "       1, 1, 1, 1, 1, 1, 1, 1, 1, 1, 1, 0, 1, 1, 0, 1, 0, 1, 1, 1, 1, 1,\n",
       "       1, 1, 1, 1, 1, 1, 1, 1, 1, 0, 1, 1, 1, 0, 1, 0, 1, 1, 1, 1, 0, 0,\n",
       "       0, 1, 1, 1, 1, 0, 1, 0, 1, 0, 1, 1, 1, 0, 1, 1, 1, 1, 1, 1, 1, 0,\n",
       "       0, 0, 1, 1, 1, 1, 1, 1, 1, 1, 1, 1, 1, 0, 0, 1, 0, 0, 0, 1, 0, 0,\n",
       "       1, 1, 1, 1, 1, 0, 1, 1, 1, 1, 1, 0, 1, 1, 1, 0, 1, 1, 0, 0, 1, 1,\n",
       "       1, 1, 1, 1, 0, 1, 1, 1, 1, 1, 1, 1, 0, 1, 1, 1, 1, 1, 0, 1, 1, 0,\n",
       "       1, 1, 1, 1, 1, 1, 1, 1, 1, 1, 1, 1, 0, 1, 0, 0, 1, 0, 1, 1, 1, 1,\n",
       "       1, 0, 1, 1, 0, 1, 0, 1, 1, 0, 1, 0, 1, 1, 1, 1, 1, 1, 1, 1, 0, 0,\n",
       "       1, 1, 1, 1, 1, 1, 0, 1, 1, 1, 1, 1, 1, 1, 1, 1, 1, 0, 1, 1, 1, 1,\n",
       "       1, 1, 1, 0, 1, 0, 1, 1, 0, 1, 1, 1, 1, 1, 0, 0, 1, 0, 1, 0, 1, 1,\n",
       "       1, 1, 1, 0, 1, 1, 0, 1, 0, 1, 0, 0, 1, 1, 1, 0, 1, 1, 1, 1, 1, 1,\n",
       "       1, 1, 1, 1, 1, 0, 1, 0, 0, 1, 1, 1, 1, 1, 1, 1, 1, 1, 1, 1, 1, 1,\n",
       "       1, 1, 1, 1, 1, 1, 1, 1, 1, 1, 1, 1, 0, 0, 0, 0, 0, 0, 1])"
      ]
     },
     "execution_count": 27,
     "metadata": {},
     "output_type": "execute_result"
    }
   ],
   "source": [
    "y"
   ]
  },
  {
   "cell_type": "markdown",
   "metadata": {},
   "source": [
    "dobrą praktyką jest upewnić się, czy problem jest zbalansowany (czyli czy obserwacji klasy 0 jest podobna liczba co obserwacji klasy 1)"
   ]
  },
  {
   "cell_type": "code",
   "execution_count": 26,
   "metadata": {},
   "outputs": [
    {
     "data": {
      "text/plain": [
       "0.6274165202108963"
      ]
     },
     "execution_count": 26,
     "metadata": {},
     "output_type": "execute_result"
    }
   ],
   "source": [
    "y.mean() # 62% obserwacji klasy 1"
   ]
  },
  {
   "cell_type": "code",
   "execution_count": 31,
   "metadata": {},
   "outputs": [],
   "source": [
    "from sklearn.linear_model import LogisticRegression\n",
    "\n",
    "# tworzymy zmienną reprezentującą regresję\n",
    "# możemy tu podać wartości parametrów, czyli ogólne zasady jak ma się zachowywać\n",
    "# na tym etapie regresja nie widziała żadnych danych, więc nawet nie wie ile\n",
    "# współczynników beta będzie jej potrzebnych, a co dopiero ich wartości\n",
    "model = LogisticRegression(solver=\"liblinear\")"
   ]
  },
  {
   "cell_type": "code",
   "execution_count": 33,
   "metadata": {},
   "outputs": [
    {
     "data": {
      "text/plain": [
       "LogisticRegression(C=1.0, class_weight=None, dual=False, fit_intercept=True,\n",
       "                   intercept_scaling=1, l1_ratio=None, max_iter=100,\n",
       "                   multi_class='warn', n_jobs=None, penalty='l2',\n",
       "                   random_state=None, solver='liblinear', tol=0.0001, verbose=0,\n",
       "                   warm_start=False)"
      ]
     },
     "execution_count": 33,
     "metadata": {},
     "output_type": "execute_result"
    }
   ],
   "source": [
    "# metoda fit() jest zawsze taka sama w kazdym modelu sklearn\n",
    "model.fit(X, y) # to jest ten najdłuższy moment, gdy model się uczy, czyli optymalizuje wektor beta"
   ]
  },
  {
   "cell_type": "code",
   "execution_count": 34,
   "metadata": {},
   "outputs": [
    {
     "data": {
      "text/plain": [
       "array([0.37996671])"
      ]
     },
     "execution_count": 34,
     "metadata": {},
     "output_type": "execute_result"
    }
   ],
   "source": [
    "model.intercept_ # wyraz wolny"
   ]
  },
  {
   "cell_type": "code",
   "execution_count": 35,
   "metadata": {},
   "outputs": [
    {
     "data": {
      "text/plain": [
       "array([[ 2.06662839,  0.10495124, -0.06178838, -0.00275815, -0.14955575,\n",
       "        -0.39403464, -0.63119065, -0.33211252, -0.22007734, -0.0261762 ,\n",
       "        -0.02940355,  1.21668229, -0.02698377, -0.08977716, -0.01641751,\n",
       "         0.00481291, -0.04811354, -0.03936309, -0.04127676,  0.00589578,\n",
       "         1.21398238, -0.32840819, -0.11598269, -0.02443232, -0.277363  ,\n",
       "        -1.10397218, -1.54429359, -0.64022016, -0.67330168, -0.11105572]])"
      ]
     },
     "execution_count": 35,
     "metadata": {},
     "output_type": "execute_result"
    }
   ],
   "source": [
    "model.coef_"
   ]
  },
  {
   "cell_type": "code",
   "execution_count": 37,
   "metadata": {},
   "outputs": [
    {
     "data": {
      "text/plain": [
       "(1, 30)"
      ]
     },
     "execution_count": 37,
     "metadata": {},
     "output_type": "execute_result"
    }
   ],
   "source": [
    "model.coef_.shape"
   ]
  },
  {
   "cell_type": "markdown",
   "metadata": {},
   "source": [
    "### Dygresja: ponieważ model zazwyczaj uczy się długo, to po jego nauczeniu warto go zapisać na dysku twardym. Można to zrobić przy użyciu pakietu pickle"
   ]
  },
  {
   "cell_type": "code",
   "execution_count": 38,
   "metadata": {},
   "outputs": [],
   "source": [
    "import pickle\n",
    "\n",
    "with open(\"regresja.pkl\", \"wb\") as f:\n",
    "    pickle.dump(model, f)"
   ]
  },
  {
   "cell_type": "code",
   "execution_count": 39,
   "metadata": {},
   "outputs": [],
   "source": [
    "with open(\"regresja.pkl\", \"rb\") as f:\n",
    "    moj_ulubiony_model = pickle.load(f)"
   ]
  },
  {
   "cell_type": "code",
   "execution_count": 40,
   "metadata": {},
   "outputs": [
    {
     "data": {
      "text/plain": [
       "array([[ 2.06662839,  0.10495124, -0.06178838, -0.00275815, -0.14955575,\n",
       "        -0.39403464, -0.63119065, -0.33211252, -0.22007734, -0.0261762 ,\n",
       "        -0.02940355,  1.21668229, -0.02698377, -0.08977716, -0.01641751,\n",
       "         0.00481291, -0.04811354, -0.03936309, -0.04127676,  0.00589578,\n",
       "         1.21398238, -0.32840819, -0.11598269, -0.02443232, -0.277363  ,\n",
       "        -1.10397218, -1.54429359, -0.64022016, -0.67330168, -0.11105572]])"
      ]
     },
     "execution_count": 40,
     "metadata": {},
     "output_type": "execute_result"
    }
   ],
   "source": [
    "moj_ulubiony_model.coef_"
   ]
  },
  {
   "cell_type": "code",
   "execution_count": 41,
   "metadata": {
    "collapsed": true
   },
   "outputs": [
    {
     "data": {
      "text/plain": [
       "array([0, 0, 0, 1, 0, 0, 0, 0, 0, 0, 0, 0, 0, 1, 0, 0, 0, 0, 0, 1, 1, 1,\n",
       "       0, 0, 0, 0, 0, 0, 0, 0, 0, 0, 0, 0, 0, 0, 0, 1, 1, 1, 0, 0, 0, 0,\n",
       "       1, 0, 1, 0, 1, 1, 1, 1, 1, 0, 0, 1, 0, 0, 1, 1, 1, 1, 0, 1, 0, 0,\n",
       "       1, 1, 1, 1, 0, 1, 0, 1, 1, 0, 1, 0, 0, 1, 1, 1, 0, 0, 1, 0, 1, 0,\n",
       "       1, 1, 1, 1, 1, 1, 0, 0, 1, 1, 1, 0, 0, 1, 1, 1, 1, 0, 1, 1, 0, 1,\n",
       "       1, 1, 1, 1, 1, 1, 1, 0, 0, 0, 1, 0, 0, 1, 1, 1, 0, 0, 1, 0, 1, 0,\n",
       "       0, 1, 0, 1, 1, 1, 0, 1, 1, 0, 1, 1, 1, 1, 1, 1, 1, 1, 1, 1, 1, 1,\n",
       "       1, 1, 0, 0, 1, 1, 1, 0, 0, 1, 0, 1, 1, 0, 0, 1, 1, 0, 0, 1, 1, 1,\n",
       "       1, 0, 1, 1, 0, 0, 0, 1, 0, 1, 0, 1, 1, 1, 0, 1, 1, 0, 0, 1, 0, 0,\n",
       "       0, 0, 1, 0, 0, 0, 1, 0, 1, 0, 1, 1, 0, 1, 0, 0, 0, 1, 1, 1, 0, 0,\n",
       "       1, 1, 1, 0, 1, 1, 1, 1, 1, 0, 0, 1, 1, 0, 1, 1, 0, 0, 0, 0, 1, 1,\n",
       "       1, 1, 0, 1, 1, 1, 1, 1, 0, 1, 0, 0, 0, 0, 0, 0, 0, 0, 0, 0, 0, 0,\n",
       "       0, 0, 1, 1, 1, 1, 1, 1, 0, 1, 0, 1, 1, 0, 1, 1, 0, 1, 0, 0, 1, 1,\n",
       "       1, 1, 1, 1, 0, 1, 1, 1, 1, 1, 1, 1, 1, 1, 0, 1, 0, 1, 1, 1, 1, 1,\n",
       "       1, 1, 1, 1, 1, 1, 1, 1, 1, 0, 1, 1, 1, 0, 1, 0, 1, 1, 1, 1, 0, 0,\n",
       "       0, 1, 1, 1, 1, 0, 1, 0, 1, 0, 1, 1, 1, 0, 1, 1, 1, 1, 1, 1, 1, 0,\n",
       "       0, 0, 1, 1, 1, 1, 1, 1, 1, 1, 1, 1, 1, 0, 0, 1, 0, 0, 0, 1, 0, 0,\n",
       "       1, 1, 1, 1, 1, 0, 1, 1, 1, 1, 1, 1, 1, 1, 1, 0, 1, 1, 0, 0, 1, 1,\n",
       "       1, 1, 1, 1, 0, 1, 1, 1, 1, 1, 1, 1, 0, 1, 1, 1, 1, 0, 0, 1, 1, 0,\n",
       "       1, 1, 1, 1, 1, 1, 1, 1, 1, 1, 1, 1, 0, 1, 0, 0, 1, 0, 1, 1, 1, 1,\n",
       "       1, 0, 1, 1, 0, 1, 0, 1, 1, 0, 1, 0, 1, 1, 1, 0, 1, 1, 1, 1, 0, 0,\n",
       "       1, 1, 1, 0, 1, 1, 0, 1, 1, 1, 1, 1, 1, 1, 0, 1, 1, 0, 1, 1, 1, 1,\n",
       "       1, 1, 1, 0, 1, 0, 1, 0, 0, 1, 1, 1, 1, 1, 0, 0, 1, 0, 1, 0, 1, 1,\n",
       "       1, 1, 1, 0, 1, 1, 0, 1, 0, 1, 0, 0, 1, 1, 1, 0, 1, 1, 1, 1, 1, 1,\n",
       "       1, 1, 1, 1, 1, 0, 1, 0, 1, 1, 1, 1, 1, 0, 1, 1, 1, 1, 1, 1, 1, 1,\n",
       "       1, 1, 1, 1, 1, 1, 1, 1, 1, 1, 1, 1, 0, 0, 0, 0, 0, 0, 1])"
      ]
     },
     "execution_count": 41,
     "metadata": {},
     "output_type": "execute_result"
    }
   ],
   "source": [
    "# dokonujemy predykcji\n",
    "# model przewiduje\n",
    "# metoda predict() jest zawsze taka sama w kazdym modelu sklearn\n",
    "model.predict(X)"
   ]
  },
  {
   "cell_type": "code",
   "execution_count": 45,
   "metadata": {},
   "outputs": [
    {
     "data": {
      "text/plain": [
       "array([[1.00000000e+00, 4.42482274e-15],\n",
       "       [9.99999978e-01, 2.20502493e-08],\n",
       "       [9.99999949e-01, 5.05068441e-08],\n",
       "       [4.79096820e-01, 5.20903180e-01],\n",
       "       [9.99989627e-01, 1.03728294e-05]])"
      ]
     },
     "execution_count": 45,
     "metadata": {},
     "output_type": "execute_result"
    }
   ],
   "source": [
    "# w zerowej kolumnie prawdopodobienstwo przynaleznosci do klasy 0\n",
    "# w pierwszej kolumnie prawdopodobienstwo przynaleznosci do klasy 1\n",
    "# \"proba\" to skrot od probability\n",
    "model.predict_proba(X)[:5,:]"
   ]
  },
  {
   "cell_type": "markdown",
   "metadata": {},
   "source": [
    "## Oceniamy klasyfikator - procent poprawnych klasyfikacji"
   ]
  },
  {
   "cell_type": "code",
   "execution_count": 46,
   "metadata": {},
   "outputs": [
    {
     "data": {
      "text/plain": [
       "0.9595782073813708"
      ]
     },
     "execution_count": 46,
     "metadata": {},
     "output_type": "execute_result"
    }
   ],
   "source": [
    "from sklearn.metrics import accuracy_score\n",
    "\n",
    "# badamy liczbę poprawnych zgadnięć (nie rozróżniamy 0 i 1, trafienie to trafienie)\n",
    "accuracy_score(model.predict(X), y)"
   ]
  },
  {
   "cell_type": "markdown",
   "metadata": {},
   "source": [
    "Tak naprawdę my tutaj dokonaliśmy predykcji na dokładnie tych samych danych, na których się uczyliśmy. Czy to źle?\n",
    "\n",
    "Niekoniecznie. Trzeba po prostu pamiętać, że to co tutaj otrzymaliśmy, to miara **dopasowania**. Pozwala ona stwierdzić, czy model w ogóle umie dopasować się do danych. Mogą być takie sytuacje, że albo dane są bardzo złe i w ogóle nie da się wyciągnąć sensownej zależności Y od X, albo też sam model może być bardzo zły dla tych konkretnych danych."
   ]
  },
  {
   "cell_type": "code",
   "execution_count": 47,
   "metadata": {},
   "outputs": [],
   "source": [
    "# from sklearn.model_selection import GridSearchCV, train_test_split, cross_val_score\n",
    "from sklearn.model_selection import train_test_split\n",
    "X_train, X_test, y_train, y_test = train_test_split(X, y, test_size=0.33)"
   ]
  },
  {
   "cell_type": "code",
   "execution_count": 48,
   "metadata": {},
   "outputs": [
    {
     "data": {
      "text/plain": [
       "(569, 30)"
      ]
     },
     "execution_count": 48,
     "metadata": {},
     "output_type": "execute_result"
    }
   ],
   "source": [
    "X.shape"
   ]
  },
  {
   "cell_type": "code",
   "execution_count": 49,
   "metadata": {},
   "outputs": [
    {
     "data": {
      "text/plain": [
       "(381, 30)"
      ]
     },
     "execution_count": 49,
     "metadata": {},
     "output_type": "execute_result"
    }
   ],
   "source": [
    "X_train.shape"
   ]
  },
  {
   "cell_type": "code",
   "execution_count": 51,
   "metadata": {},
   "outputs": [
    {
     "data": {
      "text/plain": [
       "(188, 30)"
      ]
     },
     "execution_count": 51,
     "metadata": {},
     "output_type": "execute_result"
    }
   ],
   "source": [
    "X_test.shape"
   ]
  },
  {
   "cell_type": "code",
   "execution_count": 52,
   "metadata": {},
   "outputs": [
    {
     "data": {
      "text/plain": [
       "0.3304042179261863"
      ]
     },
     "execution_count": 52,
     "metadata": {},
     "output_type": "execute_result"
    }
   ],
   "source": [
    "188/(381+188)"
   ]
  },
  {
   "cell_type": "code",
   "execution_count": 54,
   "metadata": {},
   "outputs": [
    {
     "data": {
      "text/plain": [
       "LogisticRegression(C=1.0, class_weight=None, dual=False, fit_intercept=True,\n",
       "                   intercept_scaling=1, l1_ratio=None, max_iter=100,\n",
       "                   multi_class='warn', n_jobs=None, penalty='l2',\n",
       "                   random_state=None, solver='liblinear', tol=0.0001, verbose=0,\n",
       "                   warm_start=False)"
      ]
     },
     "execution_count": 54,
     "metadata": {},
     "output_type": "execute_result"
    }
   ],
   "source": [
    "# biorę zmienną, która już była nauczona\n",
    "# ale w wyniku wywołania kolejnego fit, zapominamy co było\n",
    "# i teraz mamy zupełnie nowe współczynniki\n",
    "model.fit(X_train, y_train)"
   ]
  },
  {
   "cell_type": "code",
   "execution_count": 56,
   "metadata": {},
   "outputs": [
    {
     "data": {
      "text/plain": [
       "0.973404255319149"
      ]
     },
     "execution_count": 56,
     "metadata": {},
     "output_type": "execute_result"
    }
   ],
   "source": [
    "accuracy_score(model.predict(X_test), y_test) # miara predykcji, co innego niż dopasowanie"
   ]
  },
  {
   "cell_type": "markdown",
   "metadata": {},
   "source": [
    "Zazwyczaj w zdrowej sytuacji model ma wysoką miarę dopasowania i lekko niższą miarę predykcji. Jeśli predykcja jest dużo niższa niż dopasowanie, to znaczy że model nie umie ogólnić danych. Oznacza to z grubsza że miał dużo stopni swobody, wygiął się do danych, ale jest to bezużyteczne dla nowych danych."
   ]
  },
  {
   "cell_type": "markdown",
   "metadata": {},
   "source": [
    "## Podzielić 10 razy dane na część treningową i testową, obliczyć miarę predykcji i wyprintować, zobaczyć, czy będzie taka sama za każdym razem"
   ]
  },
  {
   "cell_type": "code",
   "execution_count": 57,
   "metadata": {},
   "outputs": [
    {
     "name": "stdout",
     "output_type": "stream",
     "text": [
      "0.9468085106382979\n",
      "0.9414893617021277\n",
      "0.9893617021276596\n",
      "0.9574468085106383\n",
      "0.9202127659574468\n",
      "0.925531914893617\n",
      "0.973404255319149\n",
      "0.9521276595744681\n",
      "0.9468085106382979\n",
      "0.9148936170212766\n"
     ]
    }
   ],
   "source": [
    "for i in range(10):\n",
    "    X_train, X_test, y_train, y_test = train_test_split(X, y, test_size=0.33)\n",
    "    model = LogisticRegression(solver=\"liblinear\")\n",
    "    model.fit(X_train, y_train)\n",
    "    y_pred = model.predict(X_test)\n",
    "    print(accuracy_score(y_pred, y_test))"
   ]
  },
  {
   "cell_type": "markdown",
   "metadata": {},
   "source": [
    "### Ponieważ jak widać wyniki potrafią mocno się różnić w zależności od tego które obserwacje trafią do treningu a które na test, trzeba sobie jakoś radzić. Odpowiedzią jest cross-validacja."
   ]
  },
  {
   "cell_type": "code",
   "execution_count": 58,
   "metadata": {},
   "outputs": [],
   "source": [
    "# from sklearn.model_selection import GridSearchCV, train_test_split, cross_val_score\n",
    "from sklearn.model_selection import cross_val_score"
   ]
  },
  {
   "cell_type": "code",
   "execution_count": 59,
   "metadata": {},
   "outputs": [
    {
     "data": {
      "text/plain": [
       "array([0.94827586, 0.9137931 , 0.92982456, 0.94736842, 0.96491228,\n",
       "       0.98245614, 0.94736842, 0.94642857, 0.96428571, 0.96428571])"
      ]
     },
     "execution_count": 59,
     "metadata": {},
     "output_type": "execute_result"
    }
   ],
   "source": [
    "regresja = LogisticRegression(solver=\"liblinear\")\n",
    "cs = cross_val_score(regresja, X, y, cv=10) # dzielimy na 10 części\n",
    "cs"
   ]
  },
  {
   "cell_type": "code",
   "execution_count": 60,
   "metadata": {},
   "outputs": [
    {
     "data": {
      "text/plain": [
       "0.9508998790078644"
      ]
     },
     "execution_count": 60,
     "metadata": {},
     "output_type": "execute_result"
    }
   ],
   "source": [
    "cs.mean()"
   ]
  },
  {
   "cell_type": "markdown",
   "metadata": {},
   "source": [
    "# Regularyzacja\n",
    "\n",
    "Regularyzacja - zabezpieczenie przed przeuczeniem.\n",
    "\n",
    "### Dopasowanie modelu\n",
    "\n",
    "<img src=\"Grafika/regularization.jpg\" width=\"600\">\n",
    "Źródło: https://i.ytimg.com/vi/nmHNXsDPPFQ/maxresdefault.jpg\n",
    "\n",
    "\n",
    "## Regularyzacja w regresji logistycznej\n",
    "\n",
    "Regularyzacja w regresji logistycznej polega na dodaniu do celu optymalizacyjnego kary za wielkości współczynników w $\\beta$.\n",
    "\n",
    "Przypomnijmy, że w regresji logistycznej estymator wektora $\\beta$ ma postać:\n",
    "\n",
    "$$\\hat{\\beta} = arg \\max\\limits_{\\beta} \\sum\\limits_{i=1}^n h(\\pi(x_i),y_i).$$\n",
    "\n",
    "W oczywisty sposób jest to równoważne rozwiązywaniu problemu:\n",
    "\n",
    "$$\\hat{\\beta} = arg \\min\\limits_{\\beta} -\\sum\\limits_{i=1}^n h(\\pi(x_i),y_i).$$\n",
    "\n",
    "### Regresja z regularyzacją L2:\n",
    "\n",
    "$$\\hat{\\beta} = arg \\min\\limits_{\\beta} \\big( -\\sum\\limits_{i=1}^n h(\\pi(x_i),y_i) + \\lambda\\|\\beta\\|_2^2 \\big),$$\n",
    "\n",
    "$\\|\\beta\\|_2$ - norma l2 wektora $\\beta$: $\\sqrt{\\sum\\limits_{i=1}^p\\beta_i^2}$,\n",
    "\n",
    "$\\lambda$ - współczynnik regularyzacji.\n",
    "\n",
    "Skąd wziąć wartość $\\lambda$? Trzeba wyznaczyć sobie empirycznie - przetestować model  z różnymi wartościami i wybrać tę, dla której wyniki są najlepsze.\n",
    "\n",
    "\n",
    "\n",
    "### Równie często stosowana jest norma l1: $\\sum\\limits_{i=1}^p|\\beta_i|$. \n",
    "\n",
    "#### Uwaga: Norma L1 zeruje współczynniki! \n",
    "\n",
    "\n",
    "Na marginesie: w modelach w uczeniu maszynowym pojawiają sie bardzo różne formy regularyzacji, których często nawet nie będziemy świadomi."
   ]
  },
  {
   "cell_type": "markdown",
   "metadata": {},
   "source": [
    "### Jak stwierdzić czy model jest dobrze dopasowany? Czy nie za słabo, ani za mocno?\n",
    "\n",
    "1. Gdy na zbiorze testowym niski procent poprawnych predykcji (np. 60%), a na treningowym model bardzo dobrze dopasowany (np. 90%) -> model przeuczony\n",
    "\n",
    "2. Gdy na zbiorze treningowym model bardzo nisko dopasowany (np. rzędu pięćdziesiąt kilka procent) -> model słabo dopasowany.\n",
    "\n",
    "Co to jest niskie dopasowanie? -> zależy od danych...\n",
    "\n",
    "Co to jest duża różnica? -> zależy od danych... (i ich wielkości - istotność statystyczna!). Realnie, wyniki na testowym powinny być trochę niższe od dopasowania na treningowym (lub podobne). Klasyfikator w oczywisty sposób nie może działać lepiej niż dopasowanie na zbiorze treningowym - bo dopasowanie pokazuje jak dużo zależności wykrył w danych, na podstawie których będzie klasyfikował. Zatem jeżeli mamy dopasowanie na zbiorze treningowym np. 90%, to maksymalna moc predykcyjna jakiej możemy oczekiwać to 90%."
   ]
  },
  {
   "cell_type": "markdown",
   "metadata": {},
   "source": [
    "* arg max - argumenty, dla których udało się znaleźć największą wartość\n",
    "* max - największa wartość, którą dało się znaleźć"
   ]
  },
  {
   "cell_type": "markdown",
   "metadata": {},
   "source": [
    "Najpierw zakładamy pewne idealne współczynniki beta. Potem generujemy obserwacje na ich podstawie (zgodnie z prawdopodobieństwem $\\pi$ wynikającym z wektora beta). Później wprowadzimy szum w postaci zbędnych kolumn: kolejnych potęg x. Zobaczymy, jak to wpłynie na dopasowanie z i bez regularyzacji"
   ]
  },
  {
   "cell_type": "code",
   "execution_count": 63,
   "metadata": {},
   "outputs": [
    {
     "data": {
      "text/plain": [
       "array([-1.        , -0.97979798, -0.95959596, -0.93939394, -0.91919192,\n",
       "       -0.8989899 , -0.87878788, -0.85858586, -0.83838384, -0.81818182,\n",
       "       -0.7979798 , -0.77777778, -0.75757576, -0.73737374, -0.71717172,\n",
       "       -0.6969697 , -0.67676768, -0.65656566, -0.63636364, -0.61616162,\n",
       "       -0.5959596 , -0.57575758, -0.55555556, -0.53535354, -0.51515152,\n",
       "       -0.49494949, -0.47474747, -0.45454545, -0.43434343, -0.41414141,\n",
       "       -0.39393939, -0.37373737, -0.35353535, -0.33333333, -0.31313131,\n",
       "       -0.29292929, -0.27272727, -0.25252525, -0.23232323, -0.21212121,\n",
       "       -0.19191919, -0.17171717, -0.15151515, -0.13131313, -0.11111111,\n",
       "       -0.09090909, -0.07070707, -0.05050505, -0.03030303, -0.01010101,\n",
       "        0.01010101,  0.03030303,  0.05050505,  0.07070707,  0.09090909,\n",
       "        0.11111111,  0.13131313,  0.15151515,  0.17171717,  0.19191919,\n",
       "        0.21212121,  0.23232323,  0.25252525,  0.27272727,  0.29292929,\n",
       "        0.31313131,  0.33333333,  0.35353535,  0.37373737,  0.39393939,\n",
       "        0.41414141,  0.43434343,  0.45454545,  0.47474747,  0.49494949,\n",
       "        0.51515152,  0.53535354,  0.55555556,  0.57575758,  0.5959596 ,\n",
       "        0.61616162,  0.63636364,  0.65656566,  0.67676768,  0.6969697 ,\n",
       "        0.71717172,  0.73737374,  0.75757576,  0.77777778,  0.7979798 ,\n",
       "        0.81818182,  0.83838384,  0.85858586,  0.87878788,  0.8989899 ,\n",
       "        0.91919192,  0.93939394,  0.95959596,  0.97979798,  1.        ])"
      ]
     },
     "execution_count": 63,
     "metadata": {},
     "output_type": "execute_result"
    }
   ],
   "source": [
    "x = np.linspace(start=-1, stop=1, num = 100)\n",
    "x"
   ]
  },
  {
   "cell_type": "code",
   "execution_count": 64,
   "metadata": {},
   "outputs": [],
   "source": [
    "beta = np.array([-0.5, 5]) # idealne bety, które próbujemy odtworzyć. Wziąłem je z sufitu"
   ]
  },
  {
   "cell_type": "code",
   "execution_count": 65,
   "metadata": {
    "collapsed": true
   },
   "outputs": [
    {
     "data": {
      "text/plain": [
       "array([0.00407014, 0.0045008 , 0.0049768 , 0.00550286, 0.00608419,\n",
       "       0.00672651, 0.00743614, 0.00822001, 0.00908576, 0.01004177,\n",
       "       0.01109725, 0.01226229, 0.01354796, 0.01496639, 0.01653084,\n",
       "       0.01825579, 0.02015705, 0.02225182, 0.02455883, 0.0270984 ,\n",
       "       0.02989254, 0.03296501, 0.03634146, 0.04004942, 0.04411838,\n",
       "       0.04857982, 0.05346719, 0.05881586, 0.06466303, 0.07104762,\n",
       "       0.07801003, 0.08559186, 0.09383557, 0.10278402, 0.11247991,\n",
       "       0.12296507, 0.13427977, 0.14646172, 0.15954517, 0.1735597 ,\n",
       "       0.18852913, 0.20447023, 0.22139149, 0.23929188, 0.25815971,\n",
       "       0.27797161, 0.29869176, 0.32027131, 0.34264818, 0.36574724,\n",
       "       0.38948085, 0.41374989, 0.43844515, 0.46344916, 0.48863832,\n",
       "       0.51388532, 0.53906165, 0.56404027, 0.58869807, 0.61291832,\n",
       "       0.63659276, 0.65962334, 0.68192365, 0.70341983, 0.72405114,\n",
       "       0.74377004, 0.76254197, 0.78034479, 0.79716791, 0.81301132,\n",
       "       0.82788438, 0.84180463, 0.85479651, 0.86689013, 0.87812013,\n",
       "       0.88852452, 0.89814375, 0.90701981, 0.91519541, 0.92271339,\n",
       "       0.92961616, 0.93594521, 0.94174081, 0.9470417 , 0.95188492,\n",
       "       0.95630564, 0.96033712, 0.96401063, 0.96735548, 0.97039899,\n",
       "       0.97316663, 0.97568198, 0.97796689, 0.98004149, 0.98192437,\n",
       "       0.98363258, 0.9851818 , 0.98658637, 0.98785946, 0.98901306])"
      ]
     },
     "execution_count": 65,
     "metadata": {},
     "output_type": "execute_result"
    }
   ],
   "source": [
    "prob = 1 / (1 + np.exp(-beta[0]-beta[1]*x))\n",
    "prob"
   ]
  },
  {
   "cell_type": "code",
   "execution_count": 66,
   "metadata": {},
   "outputs": [
    {
     "data": {
      "text/plain": [
       "array([0, 0, 0, 0, 0, 0, 0, 0, 0, 0, 0, 0, 0, 0, 0, 0, 0, 0, 0, 0, 0, 0,\n",
       "       0, 0, 0, 0, 0, 0, 0, 0, 0, 0, 0, 0, 0, 0, 1, 0, 1, 0, 0, 1, 0, 0,\n",
       "       1, 1, 1, 0, 0, 0, 1, 0, 0, 0, 0, 1, 0, 1, 1, 1, 1, 1, 0, 1, 1, 0,\n",
       "       1, 1, 1, 1, 1, 1, 0, 1, 0, 1, 1, 1, 1, 1, 1, 1, 1, 1, 1, 1, 1, 1,\n",
       "       0, 1, 1, 1, 1, 1, 1, 1, 1, 1, 1, 1])"
      ]
     },
     "execution_count": 66,
     "metadata": {},
     "output_type": "execute_result"
    }
   ],
   "source": [
    "# losujemy 100 liczb. Będzie to 1 lub 0. Prawdopodobieństwo wylosowania 1 na i-tej pozycji\n",
    "# jest dane w i-tym elemencie wektora prob\n",
    "y = np.random.binomial(1, prob)\n",
    "y"
   ]
  },
  {
   "cell_type": "code",
   "execution_count": 67,
   "metadata": {},
   "outputs": [
    {
     "data": {
      "image/png": "[encoded data removed]",
      "text/plain": [
       "<Figure size 432x288 with 1 Axes>"
      ]
     },
     "metadata": {
      "needs_background": "light"
     },
     "output_type": "display_data"
    }
   ],
   "source": [
    "import matplotlib.pyplot as plt\n",
    "plt.plot(x, prob)\n",
    "plt.scatter(x, y)\n",
    "plt.show()"
   ]
  },
  {
   "cell_type": "code",
   "execution_count": 68,
   "metadata": {},
   "outputs": [
    {
     "data": {
      "text/plain": [
       "(100, 19)"
      ]
     },
     "execution_count": 68,
     "metadata": {},
     "output_type": "execute_result"
    }
   ],
   "source": [
    "X = np.vstack([x**p for p in range(1, 20)]).T\n",
    "X.shape # mam tutaj zaszumione dane (ze zbędnymi kolumnami/cechami)"
   ]
  },
  {
   "cell_type": "code",
   "execution_count": 69,
   "metadata": {
    "collapsed": true
   },
   "outputs": [
    {
     "data": {
      "text/plain": [
       "array([[-1.        ,  1.        , -1.        , ..., -1.        ,\n",
       "         1.        , -1.        ],\n",
       "       [-0.97979798,  0.96000408, -0.94061006, ..., -0.70684009,\n",
       "         0.69256049, -0.67856937],\n",
       "       [-0.95959596,  0.92082441, -0.88361938, ..., -0.49602433,\n",
       "         0.47598295, -0.45675131],\n",
       "       ...,\n",
       "       [ 0.95959596,  0.92082441,  0.88361938, ...,  0.49602433,\n",
       "         0.47598295,  0.45675131],\n",
       "       [ 0.97979798,  0.96000408,  0.94061006, ...,  0.70684009,\n",
       "         0.69256049,  0.67856937],\n",
       "       [ 1.        ,  1.        ,  1.        , ...,  1.        ,\n",
       "         1.        ,  1.        ]])"
      ]
     },
     "execution_count": 69,
     "metadata": {},
     "output_type": "execute_result"
    }
   ],
   "source": [
    "X"
   ]
  },
  {
   "cell_type": "code",
   "execution_count": 70,
   "metadata": {},
   "outputs": [
    {
     "data": {
      "text/plain": [
       "(array([-0.3865468]), array([[4.69921464]]))"
      ]
     },
     "execution_count": 70,
     "metadata": {},
     "output_type": "execute_result"
    }
   ],
   "source": [
    "# regularyzacją sterujemy przez parametr C. C to 1/lambda z poprzednich wzorów. \n",
    "# Oznacza to, że duże C to brak regularyzacji, a małe C to duża regularyzacja\n",
    "model = LogisticRegression(C=100000, solver=\"liblinear\") # bez regularyzacji\n",
    "model.fit(X[:,:1], y)\n",
    "model.intercept_, model.coef_"
   ]
  },
  {
   "cell_type": "code",
   "execution_count": 71,
   "metadata": {},
   "outputs": [
    {
     "data": {
      "text/plain": [
       "(array([-0.25676226]), array([[3.11187346]]))"
      ]
     },
     "execution_count": 71,
     "metadata": {},
     "output_type": "execute_result"
    }
   ],
   "source": [
    "model = LogisticRegression(C=1, solver=\"liblinear\") # z regularyzacja, ale w granicach zdrowego rozsadku\n",
    "model.fit(X[:,:1], y)\n",
    "model.intercept_, model.coef_"
   ]
  },
  {
   "cell_type": "code",
   "execution_count": 72,
   "metadata": {},
   "outputs": [
    {
     "data": {
      "text/plain": [
       "(array([-3.99963816e-05]), array([[0.00021634]]))"
      ]
     },
     "execution_count": 72,
     "metadata": {},
     "output_type": "execute_result"
    }
   ],
   "source": [
    "model = LogisticRegression(C=0.00001, solver=\"liblinear\") # z b. silną regularyzacja, nie dopasowuje sie do danych\n",
    "model.fit(X[:,:1], y)\n",
    "model.intercept_, model.coef_"
   ]
  },
  {
   "cell_type": "code",
   "execution_count": 73,
   "metadata": {},
   "outputs": [
    {
     "data": {
      "text/plain": [
       "(array([-0.28907675]),\n",
       " array([[   1.46458373,   13.48745043,   13.68270126, -145.403741  ,\n",
       "          180.42825523,   28.30854092,   -0.93759676,  -63.79077069,\n",
       "          -72.65595499,  -65.32217265,  -42.00468096,  -14.07685288,\n",
       "           12.62294341,   36.21428781,   53.69774544,   66.78180876,\n",
       "           74.01889548,   78.15131522,   78.06497439]]))"
      ]
     },
     "execution_count": 73,
     "metadata": {},
     "output_type": "execute_result"
    }
   ],
   "source": [
    "model = LogisticRegression(C=100000,solver=\"liblinear\") # bez regularyzacji, na wszystkich cechach\n",
    "model.fit(X, y)\n",
    "# widzimy, że współczynniki przy zbędnych kolumnach (które są tylko szumem)\n",
    "# są mocno różne od zera\n",
    "model.intercept_, model.coef_"
   ]
  },
  {
   "cell_type": "code",
   "execution_count": 74,
   "metadata": {},
   "outputs": [
    {
     "data": {
      "text/plain": [
       "(array([-0.21603191]),\n",
       " array([[ 2.68256933e+00, -2.58875185e-01,  9.10629808e-01,\n",
       "         -1.10070689e-01,  4.26907189e-01, -3.55312633e-02,\n",
       "          2.58488321e-01, -3.37142933e-04,  1.85458652e-01,\n",
       "          1.80460911e-02,  1.47019027e-01,  2.74605186e-02,\n",
       "          1.23004665e-01,  3.16047658e-02,  1.05939561e-01,\n",
       "          3.26685771e-02,  9.27972832e-02,  3.20233544e-02,\n",
       "          8.22206396e-02]]))"
      ]
     },
     "execution_count": 74,
     "metadata": {},
     "output_type": "execute_result"
    }
   ],
   "source": [
    "model = LogisticRegression(C=1,solver=\"liblinear\") # bez regularyzacji, na wszystkich cechach\n",
    "model.fit(X, y)\n",
    "# widzimy, że współczynniki przy zbędnych kolumnach (które są tylko szumem)\n",
    "# są mocno różne od zera\n",
    "model.intercept_, model.coef_"
   ]
  },
  {
   "cell_type": "code",
   "execution_count": 75,
   "metadata": {},
   "outputs": [
    {
     "data": {
      "text/plain": [
       "(array([-0.03144254]),\n",
       " array([[ 1.87691719e-01, -7.59115320e-03,  1.01129456e-01,\n",
       "         -2.79072894e-03,  6.85113581e-02, -1.02515120e-03,\n",
       "          5.20415542e-02, -2.53209580e-04,  4.22055288e-02,\n",
       "          1.32154101e-04,  3.56806192e-02,  3.32285920e-04,\n",
       "          3.10347552e-02,  4.32696277e-04,  2.75574645e-02,\n",
       "          4.77190013e-04,  2.48580055e-02,  4.90364732e-04,\n",
       "          2.27036304e-02]]))"
      ]
     },
     "execution_count": 75,
     "metadata": {},
     "output_type": "execute_result"
    }
   ],
   "source": [
    "model = LogisticRegression(C=0.01,solver=\"liblinear\")\n",
    "model.fit(X, y)\n",
    "# widzimy, że współczynniki przy zbędnych kolumnach (które są tylko szumem)\n",
    "# są mocno różne od zera\n",
    "model.intercept_, model.coef_"
   ]
  },
  {
   "cell_type": "code",
   "execution_count": 77,
   "metadata": {},
   "outputs": [
    {
     "data": {
      "text/plain": [
       "array([-0.5,  5. ])"
      ]
     },
     "execution_count": 77,
     "metadata": {},
     "output_type": "execute_result"
    }
   ],
   "source": [
    "beta"
   ]
  },
  {
   "cell_type": "code",
   "execution_count": 76,
   "metadata": {},
   "outputs": [
    {
     "data": {
      "text/plain": [
       "(array([-0.25125206]),\n",
       " array([[4.00551583, 0.        , 0.        , 0.        , 0.        ,\n",
       "         0.        , 0.        , 0.        , 0.        , 0.        ,\n",
       "         0.        , 0.        , 0.        , 0.        , 0.        ,\n",
       "         0.        , 0.        , 0.        , 0.        ]]))"
      ]
     },
     "execution_count": 76,
     "metadata": {},
     "output_type": "execute_result"
    }
   ],
   "source": [
    "model = LogisticRegression(C=1, solver=\"liblinear\", penalty='l1') \n",
    "model.fit(X, y)\n",
    "# widzimy, że współczynniki przy zbędnych kolumnach (które są tylko szumem)\n",
    "# są mocno różne od zera\n",
    "model.intercept_, model.coef_"
   ]
  },
  {
   "cell_type": "code",
   "execution_count": 79,
   "metadata": {},
   "outputs": [
    {
     "data": {
      "text/plain": [
       "LogisticRegression(C=10000, class_weight=None, dual=False, fit_intercept=True,\n",
       "                   intercept_scaling=1, l1_ratio=None, max_iter=100,\n",
       "                   multi_class='warn', n_jobs=None, penalty='l2',\n",
       "                   random_state=None, solver='liblinear', tol=0.0001, verbose=0,\n",
       "                   warm_start=False)"
      ]
     },
     "execution_count": 79,
     "metadata": {},
     "output_type": "execute_result"
    }
   ],
   "source": [
    "model = LogisticRegression(C=10000, solver=\"liblinear\", penalty='l2') \n",
    "model.fit(X, y)"
   ]
  },
  {
   "cell_type": "code",
   "execution_count": 80,
   "metadata": {
    "scrolled": true
   },
   "outputs": [
    {
     "data": {
      "image/png": "[encoded data removed]",
      "text/plain": [
       "<Figure size 432x288 with 1 Axes>"
      ]
     },
     "metadata": {
      "needs_background": "light"
     },
     "output_type": "display_data"
    }
   ],
   "source": [
    "plt.plot(x, 1/(1+np.exp(-model.intercept_ - np.dot(X, model.coef_.T))))\n",
    "plt.plot(x, prob)\n",
    "plt.scatter(x,y)\n",
    "plt.show()"
   ]
  },
  {
   "cell_type": "markdown",
   "metadata": {},
   "source": [
    "# Rysujemy te krzywe dla różnych C. W plot() należy podać argument \"label\", a potem wywołać plt.legend()"
   ]
  },
  {
   "cell_type": "code",
   "execution_count": 81,
   "metadata": {},
   "outputs": [
    {
     "name": "stderr",
     "output_type": "stream",
     "text": [
      "/home/kodolamacz/anaconda3/lib/python3.7/site-packages/ipykernel_launcher.py:4: RuntimeWarning: overflow encountered in exp\n",
      "  after removing the cwd from sys.path.\n"
     ]
    },
    {
     "data": {
      "image/png": "[encoded data removed]",
      "text/plain": [
       "<Figure size 432x288 with 1 Axes>"
      ]
     },
     "metadata": {
      "needs_background": "light"
     },
     "output_type": "display_data"
    }
   ],
   "source": [
    "for c in [0.001, 1, 10, 1000, 10000000]:\n",
    "    model = LogisticRegression(C=c, solver=\"liblinear\")\n",
    "    model.fit(X, y)\n",
    "    plt.plot(x, 1/(1+np.exp(-model.intercept_ - np.dot(X, model.coef_.T))),\n",
    "            label=f\"C={c}\")\n",
    "\n",
    "plt.plot(x, prob, label=\"prawdziwe\")\n",
    "plt.scatter(x,y)\n",
    "plt.legend()\n",
    "plt.show()"
   ]
  },
  {
   "cell_type": "markdown",
   "metadata": {},
   "source": [
    "## Przygotowanie danych - bardzo ważna sprawa!!!\n",
    "\n",
    "Czy wartości zmiennych mają wpływ na wynik modelu?\n",
    "\n",
    "Wyobraźmy sobie dwie zmienne, gdzie jedna ma wielkości rzędu 1, a druga rzędu 100, a rzeczywisty współczynnik przy pierwszej wynosi 1, a przy drugiej 0.01.\n",
    "\n",
    "Jak konsekwencje będzie miało zastosowanie regularyzacji?\n",
    "\n",
    "Zmienna pierwsza zostanie dużo mocniej \"ukarana\" niż druga, tzn. model mocno \"ściągnie\" współczynnik przy pierwszej, a zostawi przy drugiej...\n",
    "\n",
    "Jak temu zaradzić? -> skalowanie, standaryzacja"
   ]
  },
  {
   "cell_type": "markdown",
   "metadata": {},
   "source": [
    "* zarobki: 5000 -> 5001 - niewielka zmiana, niewielki wzrost szansy, więc i beta mała\n",
    "* wzrost: 1.67 -> 2.67 - wielka zmiana, wielki wzrost szansy, więc i beta duża"
   ]
  },
  {
   "cell_type": "code",
   "execution_count": 82,
   "metadata": {},
   "outputs": [],
   "source": [
    "from sklearn.preprocessing import StandardScaler\n",
    "sc = StandardScaler()"
   ]
  },
  {
   "cell_type": "code",
   "execution_count": 83,
   "metadata": {},
   "outputs": [
    {
     "data": {
      "text/plain": [
       "StandardScaler(copy=True, with_mean=True, with_std=True)"
      ]
     },
     "execution_count": 83,
     "metadata": {},
     "output_type": "execute_result"
    }
   ],
   "source": [
    "# do tej model miał dwie metody: fit i predict (ew. fit_predict)\n",
    "# teraz poznajemy pierwszego transformera\n",
    "# a te mają dwie metody: fit i transform (i ew. fit_transform)\n",
    "# tu po raz pierwszy może być przeciek danych: średniej i odchylenia standardowego\n",
    "# musimy nauczyć się na zbiorze treningowym zarówno średniej jak i odchylenia. Od tego jest metoda fit()\n",
    "# a potem na testowej nadal używamy średniej i odchylenia z treningowej (podczas transform())\n",
    "sc.fit(X_train)"
   ]
  },
  {
   "cell_type": "code",
   "execution_count": 86,
   "metadata": {},
   "outputs": [
    {
     "data": {
      "text/plain": [
       "array([1.39897743e+01, 1.93637533e+01, 9.10664304e+01, 6.43409186e+02,\n",
       "       9.63575853e-02, 1.03800131e-01, 8.72950071e-02, 4.79530472e-02,\n",
       "       1.81055118e-01, 6.30433858e-02, 4.08242257e-01, 1.26486903e+00,\n",
       "       2.88772940e+00, 4.02480551e+01, 7.21472966e-03, 2.57907953e-02,\n",
       "       3.22173850e-02, 1.18954278e-02, 2.06690236e-02, 3.87028898e-03,\n",
       "       1.61221339e+01, 2.58372703e+01, 1.06268871e+02, 8.66785564e+02,\n",
       "       1.32340866e-01, 2.51834068e-01, 2.67805732e-01, 1.12866879e-01,\n",
       "       2.89015223e-01, 8.41710761e-02])"
      ]
     },
     "execution_count": 86,
     "metadata": {},
     "output_type": "execute_result"
    }
   ],
   "source": [
    "# możemy odzyskać nauczoną średnią i odchylenie\n",
    "sc.mean_"
   ]
  },
  {
   "cell_type": "code",
   "execution_count": 87,
   "metadata": {},
   "outputs": [
    {
     "data": {
      "text/plain": [
       "array([3.53555464e+00, 4.23548692e+00, 2.44190642e+01, 3.49959353e+02,\n",
       "       1.36500856e-02, 5.26293143e-02, 8.02161753e-02, 3.84686214e-02,\n",
       "       2.76173764e-02, 6.94698136e-03, 2.76369621e-01, 5.87272231e-01,\n",
       "       2.00182625e+00, 4.38680921e+01, 3.20968678e-03, 1.79405614e-02,\n",
       "       3.28387894e-02, 6.60781965e-03, 8.10806322e-03, 2.78184928e-03,\n",
       "       4.88377551e+00, 6.02062168e+00, 3.40049473e+01, 5.68246179e+02,\n",
       "       2.17026913e-02, 1.52180931e-01, 2.09253249e-01, 6.55225443e-02,\n",
       "       5.92166836e-02, 1.77492797e-02])"
      ]
     },
     "execution_count": 87,
     "metadata": {},
     "output_type": "execute_result"
    }
   ],
   "source": [
    "sc.scale_ # odchylenia standardowe"
   ]
  },
  {
   "cell_type": "code",
   "execution_count": 89,
   "metadata": {},
   "outputs": [
    {
     "data": {
      "text/plain": [
       "array([[ 0.73827899,  2.05790902,  0.70574242, ...,  0.44157505,\n",
       "        -1.1350724 , -0.33641231],\n",
       "       [-0.70138197,  1.07809251, -0.67760297, ..., -0.24933219,\n",
       "        -1.31407601,  0.17741136],\n",
       "       [ 0.18391053, -0.59349806,  0.12873424, ..., -0.52786227,\n",
       "        -0.73484735, -1.02601775],\n",
       "       ...,\n",
       "       [-0.1470135 , -1.25221808, -0.15342236, ...,  0.31490109,\n",
       "         0.5688393 ,  0.51207283],\n",
       "       [ 1.49346461,  1.67778743,  1.50839398, ...,  1.00168761,\n",
       "         1.32031671,  1.58479241],\n",
       "       [-1.41131302, -1.17194395, -1.42128421, ..., -1.51057747,\n",
       "         0.17030297, -0.34542676]])"
      ]
     },
     "execution_count": 89,
     "metadata": {},
     "output_type": "execute_result"
    }
   ],
   "source": [
    "sc.transform(X_train) # użycie w praktyce: dostajemy być może nowe dane i je przekształcamy, tak jak się nauczyliśmy wcześniej na danych treningowych"
   ]
  },
  {
   "cell_type": "code",
   "execution_count": 90,
   "metadata": {},
   "outputs": [
    {
     "data": {
      "text/plain": [
       "array([-4.75326981e-15, -3.22226935e-15, -2.71582115e-16,  7.22664856e-17,\n",
       "        4.88556410e-15, -5.05282605e-16, -4.54579506e-16,  9.27225634e-16,\n",
       "        1.89670385e-15, -7.12465957e-16, -3.00721827e-16,  7.51986691e-16,\n",
       "        4.61281640e-16,  1.27049144e-16, -4.70788471e-17, -2.52349905e-16,\n",
       "        8.98085922e-16,  6.67882197e-16, -2.29008996e-15,  2.98973444e-16,\n",
       "        2.96292591e-15,  3.87936985e-15, -1.73847521e-15, -9.02748276e-16,\n",
       "        3.32076157e-15,  4.01545230e-16,  8.85264449e-16,  3.35689481e-16,\n",
       "       -9.25185854e-18, -2.28397062e-15])"
      ]
     },
     "execution_count": 90,
     "metadata": {},
     "output_type": "execute_result"
    }
   ],
   "source": [
    "sc.transform(X_train).mean(axis=0)"
   ]
  },
  {
   "cell_type": "code",
   "execution_count": 91,
   "metadata": {},
   "outputs": [
    {
     "data": {
      "text/plain": [
       "array([1., 1., 1., 1., 1., 1., 1., 1., 1., 1., 1., 1., 1., 1., 1., 1., 1.,\n",
       "       1., 1., 1., 1., 1., 1., 1., 1., 1., 1., 1., 1., 1.])"
      ]
     },
     "execution_count": 91,
     "metadata": {},
     "output_type": "execute_result"
    }
   ],
   "source": [
    "sc.transform(X_train).std(axis=0)"
   ]
  },
  {
   "cell_type": "code",
   "execution_count": 92,
   "metadata": {},
   "outputs": [
    {
     "data": {
      "text/plain": [
       "(array([ 0.11772121, -0.05295382,  0.11187219,  0.09928316,  0.00059775,\n",
       "         0.03110326,  0.05675831,  0.07600974,  0.01169819, -0.10707738,\n",
       "        -0.03362257, -0.24745562, -0.0327635 ,  0.00614204, -0.16383944,\n",
       "        -0.05274554, -0.02983101, -0.04547838, -0.04730413, -0.08201747,\n",
       "         0.09113419, -0.08045648,  0.08832291,  0.07348866,  0.00386685,\n",
       "         0.04834759,  0.0633912 ,  0.0803432 ,  0.05419495, -0.038411  ]),\n",
       " array([0.98273548, 1.04261309, 0.97808936, 1.01090398, 1.0866217 ,\n",
       "        1.00753738, 0.97736838, 1.02153772, 0.9748417 , 1.04231888,\n",
       "        1.00726327, 0.77346976, 1.02699579, 1.1055934 , 0.77413019,\n",
       "        0.99091938, 0.72503836, 0.77874053, 1.05466294, 0.83812006,\n",
       "        0.96276627, 1.05723963, 0.95831862, 1.00144308, 1.14778225,\n",
       "        1.09603456, 0.98684084, 1.00485683, 1.12661351, 1.04920888]))"
      ]
     },
     "execution_count": 92,
     "metadata": {},
     "output_type": "execute_result"
    }
   ],
   "source": [
    "sc.transform(X_test).mean(axis=0), sc.transform(X_test).std(axis=0)"
   ]
  },
  {
   "cell_type": "markdown",
   "metadata": {},
   "source": [
    "## Pipeline\n",
    "\n",
    "Gdy budowanie modelu składa się w rzeczywistości z dwóch kroków lub więcej - np. transformacja zmiennych, a potem dopasowanie modelu, to przydają się pipeline'y."
   ]
  },
  {
   "cell_type": "code",
   "execution_count": 94,
   "metadata": {},
   "outputs": [
    {
     "data": {
      "text/plain": [
       "Pipeline(memory=None,\n",
       "         steps=[('standaryzacja',\n",
       "                 StandardScaler(copy=True, with_mean=True, with_std=True)),\n",
       "                ('regresja',\n",
       "                 LogisticRegression(C=1.0, class_weight=None, dual=False,\n",
       "                                    fit_intercept=True, intercept_scaling=1,\n",
       "                                    l1_ratio=None, max_iter=100,\n",
       "                                    multi_class='warn', n_jobs=None,\n",
       "                                    penalty='l2', random_state=None,\n",
       "                                    solver='liblinear', tol=0.0001, verbose=0,\n",
       "                                    warm_start=False))],\n",
       "         verbose=False)"
      ]
     },
     "execution_count": 94,
     "metadata": {},
     "output_type": "execute_result"
    }
   ],
   "source": [
    "from sklearn.pipeline import Pipeline\n",
    "pipe = Pipeline([(\"standaryzacja\", StandardScaler()),\n",
    "                 (\"regresja\", LogisticRegression(solver=\"liblinear\"))])\n",
    "# pipe zachowuje się jak zwykły model, ma metody fit() i predict()\n",
    "pipe.fit(X_train, y_train) # uruchamia się fit ze Scalera i z Regresji"
   ]
  },
  {
   "cell_type": "code",
   "execution_count": 95,
   "metadata": {},
   "outputs": [
    {
     "data": {
      "text/plain": [
       "array([1, 0, 1, 0, 1, 1, 0, 1, 0, 1, 1, 1, 1, 1, 1, 1, 0, 1, 1, 1, 0, 1,\n",
       "       0, 1, 1, 0, 0, 1, 0, 1, 0, 0, 1, 1, 1, 0, 1, 1, 1, 1, 1, 0, 0, 1,\n",
       "       1, 1, 1, 1, 1, 0, 0, 1, 1, 0, 1, 1, 1, 0, 1, 0, 0, 1, 1, 0, 0, 1,\n",
       "       1, 0, 0, 1, 0, 0, 1, 1, 1, 0, 0, 1, 0, 0, 1, 1, 1, 1, 1, 1, 0, 0,\n",
       "       1, 0, 0, 1, 1, 1, 1, 1, 1, 0, 1, 1, 1, 1, 0, 1, 1, 0, 1, 1, 1, 0,\n",
       "       1, 0, 0, 1, 0, 0, 0, 1, 1, 1, 1, 0, 1, 0, 1, 1, 1, 0, 1, 0, 1, 0,\n",
       "       1, 0, 0, 0, 0, 0, 1, 0, 1, 0, 0, 1, 0, 0, 1, 0, 0, 0, 1, 0, 0, 1,\n",
       "       1, 0, 0, 1, 0, 1, 1, 1, 0, 1, 0, 0, 1, 1, 1, 1, 0, 0, 0, 1, 1, 1,\n",
       "       1, 0, 1, 1, 1, 1, 1, 0, 0, 1, 1, 0])"
      ]
     },
     "execution_count": 95,
     "metadata": {},
     "output_type": "execute_result"
    }
   ],
   "source": [
    "pipe.predict(X_test) # pod spodem uruchamia się transform ze Scalera i predict z Regresji"
   ]
  },
  {
   "cell_type": "code",
   "execution_count": 96,
   "metadata": {},
   "outputs": [
    {
     "data": {
      "text/plain": [
       "[('standaryzacja', StandardScaler(copy=True, with_mean=True, with_std=True)),\n",
       " ('regresja',\n",
       "  LogisticRegression(C=1.0, class_weight=None, dual=False, fit_intercept=True,\n",
       "                     intercept_scaling=1, l1_ratio=None, max_iter=100,\n",
       "                     multi_class='warn', n_jobs=None, penalty='l2',\n",
       "                     random_state=None, solver='liblinear', tol=0.0001, verbose=0,\n",
       "                     warm_start=False))]"
      ]
     },
     "execution_count": 96,
     "metadata": {},
     "output_type": "execute_result"
    }
   ],
   "source": [
    "# jak odzyskać średnią i std z nauczonego scalera w pipeline?\n",
    "\n",
    "pipe.steps"
   ]
  },
  {
   "cell_type": "code",
   "execution_count": 97,
   "metadata": {},
   "outputs": [
    {
     "data": {
      "text/plain": [
       "('standaryzacja', StandardScaler(copy=True, with_mean=True, with_std=True))"
      ]
     },
     "execution_count": 97,
     "metadata": {},
     "output_type": "execute_result"
    }
   ],
   "source": [
    "pipe.steps[0] # krotka, więc jeszcze nie to co chcemy"
   ]
  },
  {
   "cell_type": "code",
   "execution_count": 99,
   "metadata": {},
   "outputs": [
    {
     "data": {
      "text/plain": [
       "StandardScaler(copy=True, with_mean=True, with_std=True)"
      ]
     },
     "execution_count": 99,
     "metadata": {},
     "output_type": "execute_result"
    }
   ],
   "source": [
    "pipe.steps[0][1]"
   ]
  },
  {
   "cell_type": "code",
   "execution_count": 100,
   "metadata": {},
   "outputs": [
    {
     "data": {
      "text/plain": [
       "array([1.39897743e+01, 1.93637533e+01, 9.10664304e+01, 6.43409186e+02,\n",
       "       9.63575853e-02, 1.03800131e-01, 8.72950071e-02, 4.79530472e-02,\n",
       "       1.81055118e-01, 6.30433858e-02, 4.08242257e-01, 1.26486903e+00,\n",
       "       2.88772940e+00, 4.02480551e+01, 7.21472966e-03, 2.57907953e-02,\n",
       "       3.22173850e-02, 1.18954278e-02, 2.06690236e-02, 3.87028898e-03,\n",
       "       1.61221339e+01, 2.58372703e+01, 1.06268871e+02, 8.66785564e+02,\n",
       "       1.32340866e-01, 2.51834068e-01, 2.67805732e-01, 1.12866879e-01,\n",
       "       2.89015223e-01, 8.41710761e-02])"
      ]
     },
     "execution_count": 100,
     "metadata": {},
     "output_type": "execute_result"
    }
   ],
   "source": [
    "pipe.steps[0][1].mean_"
   ]
  },
  {
   "cell_type": "code",
   "execution_count": 101,
   "metadata": {},
   "outputs": [
    {
     "data": {
      "text/plain": [
       "array([1.39897743e+01, 1.93637533e+01, 9.10664304e+01, 6.43409186e+02,\n",
       "       9.63575853e-02, 1.03800131e-01, 8.72950071e-02, 4.79530472e-02,\n",
       "       1.81055118e-01, 6.30433858e-02, 4.08242257e-01, 1.26486903e+00,\n",
       "       2.88772940e+00, 4.02480551e+01, 7.21472966e-03, 2.57907953e-02,\n",
       "       3.22173850e-02, 1.18954278e-02, 2.06690236e-02, 3.87028898e-03,\n",
       "       1.61221339e+01, 2.58372703e+01, 1.06268871e+02, 8.66785564e+02,\n",
       "       1.32340866e-01, 2.51834068e-01, 2.67805732e-01, 1.12866879e-01,\n",
       "       2.89015223e-01, 8.41710761e-02])"
      ]
     },
     "execution_count": 101,
     "metadata": {},
     "output_type": "execute_result"
    }
   ],
   "source": [
    "pipe[\"standaryzacja\"].mean_ # można też po nazwie"
   ]
  },
  {
   "cell_type": "code",
   "execution_count": 102,
   "metadata": {},
   "outputs": [
    {
     "data": {
      "text/plain": [
       "array([[-4.98760487e-01, -3.97620157e-01, -4.80870085e-01,\n",
       "        -5.74511978e-01, -6.18175233e-02,  5.92721825e-01,\n",
       "        -5.13124599e-01, -7.57779872e-01, -1.07023747e-01,\n",
       "         4.31971996e-01, -1.12301960e+00, -3.34525946e-02,\n",
       "        -8.25392659e-01, -8.22960300e-01, -1.66235789e-01,\n",
       "         6.69090347e-01, -1.10420787e-03, -3.52966695e-01,\n",
       "         6.51374648e-01,  5.01799317e-01, -8.97866293e-01,\n",
       "        -1.05305549e+00, -8.42293268e-01, -9.05379628e-01,\n",
       "        -5.15219377e-01,  2.94146470e-02, -6.86209193e-01,\n",
       "        -1.07958470e+00, -9.19839378e-01, -2.58473520e-01]])"
      ]
     },
     "execution_count": 102,
     "metadata": {},
     "output_type": "execute_result"
    }
   ],
   "source": [
    "pipe[\"regresja\"].coef_ # można też po nazwie"
   ]
  },
  {
   "cell_type": "markdown",
   "metadata": {},
   "source": [
    "# Optymalizacja parametrów\n",
    "\n",
    "GridSearch - próbowanie wszystkich możliwych kombinacji parametrów dla modelu"
   ]
  },
  {
   "cell_type": "code",
   "execution_count": 107,
   "metadata": {
    "collapsed": true
   },
   "outputs": [
    {
     "name": "stderr",
     "output_type": "stream",
     "text": [
      "/home/kodolamacz/anaconda3/lib/python3.7/site-packages/sklearn/model_selection/_search.py:814: DeprecationWarning: The default of the `iid` parameter will change from True to False in version 0.22 and will be removed in 0.24. This will change numeric results when test-set sizes are unequal.\n",
      "  DeprecationWarning)\n"
     ]
    },
    {
     "data": {
      "text/plain": [
       "GridSearchCV(cv=5, error_score='raise-deprecating',\n",
       "             estimator=Pipeline(memory=None,\n",
       "                                steps=[('standaryzacja',\n",
       "                                        StandardScaler(copy=True,\n",
       "                                                       with_mean=True,\n",
       "                                                       with_std=True)),\n",
       "                                       ('regresja',\n",
       "                                        LogisticRegression(C=1.0,\n",
       "                                                           class_weight=None,\n",
       "                                                           dual=False,\n",
       "                                                           fit_intercept=True,\n",
       "                                                           intercept_scaling=1,\n",
       "                                                           l1_ratio=None,\n",
       "                                                           max_iter=100,\n",
       "                                                           multi_class='warn',\n",
       "                                                           n_jobs=None,\n",
       "                                                           penalty='l2',\n",
       "                                                           random_state=None,\n",
       "                                                           solver='liblinear',\n",
       "                                                           tol=0.0001,\n",
       "                                                           verbose=0,\n",
       "                                                           warm_start=False))],\n",
       "                                verbose=False),\n",
       "             iid='warn', n_jobs=None,\n",
       "             param_grid={'regresja__C': array([ 0.01,  0.1 ,  1.  , 10.  ]),\n",
       "                         'regresja__penalty': ['l1', 'l2'],\n",
       "                         'standaryzacja__with_mean': [True, False]},\n",
       "             pre_dispatch='2*n_jobs', refit=True, return_train_score=False,\n",
       "             scoring=None, verbose=0)"
      ]
     },
     "execution_count": 107,
     "metadata": {},
     "output_type": "execute_result"
    }
   ],
   "source": [
    "from sklearn.model_selection import GridSearchCV\n",
    "\n",
    "# tu tak naprawdę definiujemy rodzinę modeli - po prostu scaler+regresja\n",
    "pipe = Pipeline([(\"standaryzacja\", StandardScaler()),\n",
    "                 (\"regresja\", LogisticRegression(solver=\"liblinear\"))])\n",
    "\n",
    "# tu definiujemy, dla jakich różnych wartości parametrów będziemy testować naszą rodzinę\n",
    "# każda możliwa kombinacja będzie testowana\n",
    "# tutaj jest 2*2*4 kombinacji i tyle też będzie wyników\n",
    "param_grid = {\"standaryzacja__with_mean\": [True, False],\n",
    "              \"regresja__penalty\": [\"l1\", \"l2\"],\n",
    "              \"regresja__C\": 10.0**np.arange(-2, 2, 1)\n",
    "             }\n",
    "\n",
    "# tutaj definiujemy: rodzinę modeli i możliwe wartości parametrów\n",
    "# a także cv (na ile dzielimy części zbiór, tak jak w cross-validacji)\n",
    "\n",
    "# ważny parametr: refit (domyślnie ustawiony na True, czyli tak jak chcemy)\n",
    "# oznacza on, że dla najlepszej kombinacji parametrów model jest jeszcze raz\n",
    "# przeuczany na całym zbiorze danych\n",
    "gs = GridSearchCV(pipe, param_grid, cv=5)\n",
    "\n",
    "# dla każdej kombinacji parametrów będziemy:\n",
    "#    robić cross-validację (dzielenie na cv części, większość do treningowej, jedna do testowej)\n",
    "#    zapisywać uśredniony wynik cross-validacji dla danej kombinacji parametrów\n",
    "# to jest ta czasochłonna metoda\n",
    "gs.fit(X, y)"
   ]
  },
  {
   "cell_type": "code",
   "execution_count": 109,
   "metadata": {
    "collapsed": true
   },
   "outputs": [
    {
     "data": {
      "text/plain": [
       "{'mean_fit_time': array([0.00184507, 0.00195999, 0.00198774, 0.00209827, 0.00187569,\n",
       "        0.0022768 , 0.00162354, 0.00154777, 0.00171895, 0.00180407,\n",
       "        0.00192399, 0.00188923, 0.00292645, 0.00239382, 0.0018393 ,\n",
       "        0.00202312]),\n",
       " 'std_fit_time': array([0.0003048 , 0.00016249, 0.00029178, 0.00029559, 0.0003643 ,\n",
       "        0.00028604, 0.00017549, 0.00013559, 0.00025606, 0.0002987 ,\n",
       "        0.00045071, 0.00044461, 0.00100114, 0.00080952, 0.00035387,\n",
       "        0.00048404]),\n",
       " 'mean_score_time': array([0.00060015, 0.00063782, 0.00072889, 0.00078006, 0.00066323,\n",
       "        0.00068111, 0.00048399, 0.00052347, 0.00057364, 0.00050125,\n",
       "        0.00060177, 0.00051684, 0.00061092, 0.00047455, 0.00052276,\n",
       "        0.00059853]),\n",
       " 'std_score_time': array([1.71135348e-04, 1.33451328e-04, 8.57198052e-05, 2.95935582e-04,\n",
       "        2.55963033e-04, 1.60855303e-04, 4.92115815e-05, 1.15864620e-04,\n",
       "        1.46523687e-04, 6.65283709e-05, 1.26833396e-04, 4.98066398e-05,\n",
       "        6.55696347e-05, 6.63346473e-05, 1.57468250e-04, 3.11717338e-04]),\n",
       " 'param_regresja__C': masked_array(data=[0.01, 0.01, 0.01, 0.01, 0.1, 0.1, 0.1, 0.1, 1.0, 1.0,\n",
       "                    1.0, 1.0, 10.0, 10.0, 10.0, 10.0],\n",
       "              mask=[False, False, False, False, False, False, False, False,\n",
       "                    False, False, False, False, False, False, False, False],\n",
       "        fill_value='?',\n",
       "             dtype=object),\n",
       " 'param_regresja__penalty': masked_array(data=['l1', 'l1', 'l2', 'l2', 'l1', 'l1', 'l2', 'l2', 'l1',\n",
       "                    'l1', 'l2', 'l2', 'l1', 'l1', 'l2', 'l2'],\n",
       "              mask=[False, False, False, False, False, False, False, False,\n",
       "                    False, False, False, False, False, False, False, False],\n",
       "        fill_value='?',\n",
       "             dtype=object),\n",
       " 'param_standaryzacja__with_mean': masked_array(data=[True, False, True, False, True, False, True, False,\n",
       "                    True, False, True, False, True, False, True, False],\n",
       "              mask=[False, False, False, False, False, False, False, False,\n",
       "                    False, False, False, False, False, False, False, False],\n",
       "        fill_value='?',\n",
       "             dtype=object),\n",
       " 'params': [{'regresja__C': 0.01,\n",
       "   'regresja__penalty': 'l1',\n",
       "   'standaryzacja__with_mean': True},\n",
       "  {'regresja__C': 0.01,\n",
       "   'regresja__penalty': 'l1',\n",
       "   'standaryzacja__with_mean': False},\n",
       "  {'regresja__C': 0.01,\n",
       "   'regresja__penalty': 'l2',\n",
       "   'standaryzacja__with_mean': True},\n",
       "  {'regresja__C': 0.01,\n",
       "   'regresja__penalty': 'l2',\n",
       "   'standaryzacja__with_mean': False},\n",
       "  {'regresja__C': 0.1,\n",
       "   'regresja__penalty': 'l1',\n",
       "   'standaryzacja__with_mean': True},\n",
       "  {'regresja__C': 0.1,\n",
       "   'regresja__penalty': 'l1',\n",
       "   'standaryzacja__with_mean': False},\n",
       "  {'regresja__C': 0.1,\n",
       "   'regresja__penalty': 'l2',\n",
       "   'standaryzacja__with_mean': True},\n",
       "  {'regresja__C': 0.1,\n",
       "   'regresja__penalty': 'l2',\n",
       "   'standaryzacja__with_mean': False},\n",
       "  {'regresja__C': 1.0,\n",
       "   'regresja__penalty': 'l1',\n",
       "   'standaryzacja__with_mean': True},\n",
       "  {'regresja__C': 1.0,\n",
       "   'regresja__penalty': 'l1',\n",
       "   'standaryzacja__with_mean': False},\n",
       "  {'regresja__C': 1.0,\n",
       "   'regresja__penalty': 'l2',\n",
       "   'standaryzacja__with_mean': True},\n",
       "  {'regresja__C': 1.0,\n",
       "   'regresja__penalty': 'l2',\n",
       "   'standaryzacja__with_mean': False},\n",
       "  {'regresja__C': 10.0,\n",
       "   'regresja__penalty': 'l1',\n",
       "   'standaryzacja__with_mean': True},\n",
       "  {'regresja__C': 10.0,\n",
       "   'regresja__penalty': 'l1',\n",
       "   'standaryzacja__with_mean': False},\n",
       "  {'regresja__C': 10.0,\n",
       "   'regresja__penalty': 'l2',\n",
       "   'standaryzacja__with_mean': True},\n",
       "  {'regresja__C': 10.0,\n",
       "   'regresja__penalty': 'l2',\n",
       "   'standaryzacja__with_mean': False}],\n",
       " 'split0_test_score': array([0.52380952, 0.52380952, 0.52380952, 0.57142857, 0.61904762,\n",
       "        0.71428571, 0.52380952, 0.52380952, 0.52380952, 0.52380952,\n",
       "        0.52380952, 0.52380952, 0.52380952, 0.52380952, 0.52380952,\n",
       "        0.52380952]),\n",
       " 'split1_test_score': array([0.55, 0.55, 0.6 , 1.  , 1.  , 1.  , 0.75, 0.95, 1.  , 1.  , 0.95,\n",
       "        1.  , 0.95, 0.85, 1.  , 1.  ]),\n",
       " 'split2_test_score': array([0.55, 0.55, 1.  , 1.  , 1.  , 1.  , 1.  , 1.  , 1.  , 1.  , 1.  ,\n",
       "        1.  , 1.  , 1.  , 1.  , 1.  ]),\n",
       " 'split3_test_score': array([0.55, 0.55, 0.65, 1.  , 0.85, 1.  , 0.75, 0.85, 0.85, 0.9 , 0.75,\n",
       "        0.8 , 0.65, 0.6 , 0.75, 0.75]),\n",
       " 'split4_test_score': array([0.52631579, 0.52631579, 0.47368421, 0.47368421, 0.47368421,\n",
       "        0.47368421, 0.47368421, 0.47368421, 0.47368421, 0.47368421,\n",
       "        0.47368421, 0.47368421, 0.47368421, 0.47368421, 0.47368421,\n",
       "        0.47368421]),\n",
       " 'mean_test_score': array([0.54, 0.54, 0.65, 0.81, 0.79, 0.84, 0.7 , 0.76, 0.77, 0.78, 0.74,\n",
       "        0.76, 0.72, 0.69, 0.75, 0.75]),\n",
       " 'std_test_score': array([0.012273  , 0.012273  , 0.18506925, 0.2347403 , 0.20858516,\n",
       "        0.21017715, 0.1877515 , 0.21829023, 0.22770733, 0.23205738,\n",
       "        0.21366007, 0.22505694, 0.21645006, 0.20162001, 0.22416652,\n",
       "        0.22416652]),\n",
       " 'rank_test_score': array([15, 15, 14,  2,  3,  1, 12,  6,  5,  4, 10,  6, 11, 13,  8,  8],\n",
       "       dtype=int32)}"
      ]
     },
     "execution_count": 109,
     "metadata": {},
     "output_type": "execute_result"
    }
   ],
   "source": [
    "gs.cv_results_"
   ]
  },
  {
   "cell_type": "code",
   "execution_count": 108,
   "metadata": {},
   "outputs": [
    {
     "data": {
      "text/plain": [
       "array([0.54, 0.54, 0.65, 0.81, 0.79, 0.84, 0.7 , 0.76, 0.77, 0.78, 0.74,\n",
       "       0.76, 0.72, 0.69, 0.75, 0.75])"
      ]
     },
     "execution_count": 108,
     "metadata": {},
     "output_type": "execute_result"
    }
   ],
   "source": [
    "# to są uśrednione wartości mean z cross-validacji dla każdej kombinacji parametrów 2*2*4\n",
    "gs.cv_results_[\"mean_test_score\"]"
   ]
  },
  {
   "cell_type": "code",
   "execution_count": 110,
   "metadata": {},
   "outputs": [
    {
     "data": {
      "text/plain": [
       "array([0.012273  , 0.012273  , 0.18506925, 0.2347403 , 0.20858516,\n",
       "       0.21017715, 0.1877515 , 0.21829023, 0.22770733, 0.23205738,\n",
       "       0.21366007, 0.22505694, 0.21645006, 0.20162001, 0.22416652,\n",
       "       0.22416652])"
      ]
     },
     "execution_count": 110,
     "metadata": {},
     "output_type": "execute_result"
    }
   ],
   "source": [
    "# to są uśrednione wartości odchylenia std. z cross-validacji dla każdej kombinacji parametrów 2*2*4\n",
    "gs.cv_results_[\"std_test_score\"]"
   ]
  },
  {
   "cell_type": "code",
   "execution_count": 112,
   "metadata": {
    "scrolled": true
   },
   "outputs": [
    {
     "data": {
      "text/plain": [
       "[{'regresja__C': 0.01,\n",
       "  'regresja__penalty': 'l1',\n",
       "  'standaryzacja__with_mean': True},\n",
       " {'regresja__C': 0.01,\n",
       "  'regresja__penalty': 'l1',\n",
       "  'standaryzacja__with_mean': False},\n",
       " {'regresja__C': 0.01,\n",
       "  'regresja__penalty': 'l2',\n",
       "  'standaryzacja__with_mean': True},\n",
       " {'regresja__C': 0.01,\n",
       "  'regresja__penalty': 'l2',\n",
       "  'standaryzacja__with_mean': False},\n",
       " {'regresja__C': 0.1,\n",
       "  'regresja__penalty': 'l1',\n",
       "  'standaryzacja__with_mean': True},\n",
       " {'regresja__C': 0.1,\n",
       "  'regresja__penalty': 'l1',\n",
       "  'standaryzacja__with_mean': False},\n",
       " {'regresja__C': 0.1,\n",
       "  'regresja__penalty': 'l2',\n",
       "  'standaryzacja__with_mean': True},\n",
       " {'regresja__C': 0.1,\n",
       "  'regresja__penalty': 'l2',\n",
       "  'standaryzacja__with_mean': False},\n",
       " {'regresja__C': 1.0,\n",
       "  'regresja__penalty': 'l1',\n",
       "  'standaryzacja__with_mean': True},\n",
       " {'regresja__C': 1.0,\n",
       "  'regresja__penalty': 'l1',\n",
       "  'standaryzacja__with_mean': False},\n",
       " {'regresja__C': 1.0,\n",
       "  'regresja__penalty': 'l2',\n",
       "  'standaryzacja__with_mean': True},\n",
       " {'regresja__C': 1.0,\n",
       "  'regresja__penalty': 'l2',\n",
       "  'standaryzacja__with_mean': False},\n",
       " {'regresja__C': 10.0,\n",
       "  'regresja__penalty': 'l1',\n",
       "  'standaryzacja__with_mean': True},\n",
       " {'regresja__C': 10.0,\n",
       "  'regresja__penalty': 'l1',\n",
       "  'standaryzacja__with_mean': False},\n",
       " {'regresja__C': 10.0,\n",
       "  'regresja__penalty': 'l2',\n",
       "  'standaryzacja__with_mean': True},\n",
       " {'regresja__C': 10.0,\n",
       "  'regresja__penalty': 'l2',\n",
       "  'standaryzacja__with_mean': False}]"
      ]
     },
     "execution_count": 112,
     "metadata": {},
     "output_type": "execute_result"
    }
   ],
   "source": [
    "gs.cv_results_[\"params\"]"
   ]
  },
  {
   "cell_type": "code",
   "execution_count": 111,
   "metadata": {},
   "outputs": [
    {
     "data": {
      "text/plain": [
       "{'regresja__C': 0.01,\n",
       " 'regresja__penalty': 'l1',\n",
       " 'standaryzacja__with_mean': True}"
      ]
     },
     "execution_count": 111,
     "metadata": {},
     "output_type": "execute_result"
    }
   ],
   "source": [
    "gs.cv_results_[\"params\"][0]"
   ]
  },
  {
   "cell_type": "code",
   "execution_count": 113,
   "metadata": {},
   "outputs": [
    {
     "data": {
      "text/plain": [
       "{'regresja__C': 0.1,\n",
       " 'regresja__penalty': 'l1',\n",
       " 'standaryzacja__with_mean': False}"
      ]
     },
     "execution_count": 113,
     "metadata": {},
     "output_type": "execute_result"
    }
   ],
   "source": [
    "gs.cv_results_[\"params\"][np.argmax(gs.cv_results_[\"mean_test_score\"])]"
   ]
  },
  {
   "cell_type": "code",
   "execution_count": 114,
   "metadata": {},
   "outputs": [
    {
     "data": {
      "text/plain": [
       "Pipeline(memory=None,\n",
       "         steps=[('standaryzacja',\n",
       "                 StandardScaler(copy=True, with_mean=False, with_std=True)),\n",
       "                ('regresja',\n",
       "                 LogisticRegression(C=0.1, class_weight=None, dual=False,\n",
       "                                    fit_intercept=True, intercept_scaling=1,\n",
       "                                    l1_ratio=None, max_iter=100,\n",
       "                                    multi_class='warn', n_jobs=None,\n",
       "                                    penalty='l1', random_state=None,\n",
       "                                    solver='liblinear', tol=0.0001, verbose=0,\n",
       "                                    warm_start=False))],\n",
       "         verbose=False)"
      ]
     },
     "execution_count": 114,
     "metadata": {},
     "output_type": "execute_result"
    }
   ],
   "source": [
    "gs.best_estimator_ # najlepszy estymator, jeśli refit=True (domyślnie jest), to został od nowa nauczony na pełnym zbiorze"
   ]
  },
  {
   "cell_type": "code",
   "execution_count": 115,
   "metadata": {},
   "outputs": [
    {
     "data": {
      "text/plain": [
       "{'regresja__C': 0.1,\n",
       " 'regresja__penalty': 'l1',\n",
       " 'standaryzacja__with_mean': False}"
      ]
     },
     "execution_count": 115,
     "metadata": {},
     "output_type": "execute_result"
    }
   ],
   "source": [
    "gs.best_params_ # parametry najlepszego estymatora"
   ]
  },
  {
   "cell_type": "markdown",
   "metadata": {},
   "source": [
    "# Drzewo decyzyjne\n",
    "\n",
    "Załóżmy, że mamy dwie zmienne ($X[0], X[1]$) i problem klasyfikacji binarnej ($Y \\in \\{0,1\\}$).\n",
    "\n",
    "![Drzewo decyzyjne](Grafika/decision_tree.png)\n",
    "\n",
    "## Jak rośnie drzewno?\n",
    "\n",
    "Drzewo rośnie od korzenia - tzn. budujemy model od góry. Będąc w aktualnym węźle szukamy najlepszego podziału - rozpatrujemy wszystkie zmienne ze wszystkimi możliwymi podziałami i tworzymy rozgałęzienie według najlepszej opcji.\n",
    "\n",
    "Co to znaczy najlpszy podział? Rozważmy klasyfikację binarną.\n",
    "\n",
    "<br>\n",
    "\n",
    "<br>\n",
    "\n",
    "Opcja nr 1: Gini impurity (Miara Gini'ego niespójności węzła):\n",
    "- wybieramy podział, który minimalizuje ważoną miarę Giniego $g(p) = 2p(1-p)$:\n",
    "\n",
    "$$\\frac{n_1}{N}g(p_1) + \\frac{n_2}{N}g(p_2),$$\n",
    "\n",
    "gdzie $n_1, n_2$ liczności w pierwszym i drugim dziecku, $N = n_1 + n_2$, $p_1, p_2$ - procent obserwacji, dla których $Y=1$ w dzieciach 1 i 2.\n",
    "\n",
    "![Drzewo decyzyjne](Grafika/gini_entropy.png)\n",
    "\n",
    "<br>\n",
    "\n",
    "Opcja nr 2: Entropia.\n",
    "- wybieramy podział, który daje najmniejszą wartość ważonej entropii $h(p) = -p\\log{(p)} - (1-p)\\log{(1-p)}$:\n",
    "\n",
    "$$\\frac{n_1}{N} h(p_1) + \\frac{n_2}{N}h(p_2),$$\n",
    "\n",
    "gdzie $p_1, p_2$ - procent obserwacji, dla których $Y=1$ w dzieciach 1 i 2.\n",
    "\n",
    "## Do kiedy tworzymy nowe podziały? \n",
    "\n",
    "Możliwe są różne warunki stopu. Najpopularniejsze to:\n",
    "\n",
    "- maksymalna głębokość drzewa,\n",
    "- minimalna liczba obserwacji w liściu.\n",
    "\n",
    "Często stosowane w połączeniu."
   ]
  },
  {
   "cell_type": "markdown",
   "metadata": {},
   "source": [
    "## Drzewo jest odporne na różne zakresy zmiennych, innymi słowy nie trzeba robić standaryzacji/skalowania."
   ]
  },
  {
   "cell_type": "markdown",
   "metadata": {},
   "source": [
    "## Gini"
   ]
  },
  {
   "cell_type": "code",
   "execution_count": 117,
   "metadata": {},
   "outputs": [
    {
     "data": {
      "text/plain": [
       "0.4992"
      ]
     },
     "execution_count": 117,
     "metadata": {},
     "output_type": "execute_result"
    }
   ],
   "source": [
    "x1 = 96\n",
    "x2 = 104\n",
    "p = x1/(x1+x2)\n",
    "gini = 2 * p * (1-p)\n",
    "gini"
   ]
  },
  {
   "cell_type": "code",
   "execution_count": 118,
   "metadata": {},
   "outputs": [
    {
     "data": {
      "text/plain": [
       "0.21875"
      ]
     },
     "execution_count": 118,
     "metadata": {},
     "output_type": "execute_result"
    }
   ],
   "source": [
    "x1 = 25\n",
    "x2 = 175\n",
    "p = x1/(x1+x2)\n",
    "gini = 2 * p * (1-p)\n",
    "gini"
   ]
  },
  {
   "cell_type": "code",
   "execution_count": 119,
   "metadata": {},
   "outputs": [
    {
     "data": {
      "text/plain": [
       "0.04875"
      ]
     },
     "execution_count": 119,
     "metadata": {},
     "output_type": "execute_result"
    }
   ],
   "source": [
    "x1 = 5\n",
    "x2 = 195\n",
    "p = x1/(x1+x2)\n",
    "gini = 2 * p * (1-p)\n",
    "gini"
   ]
  },
  {
   "cell_type": "markdown",
   "metadata": {},
   "source": [
    "# Rysowanie drzewa decyzyjnego"
   ]
  },
  {
   "cell_type": "markdown",
   "metadata": {},
   "source": [
    "# Python"
   ]
  },
  {
   "cell_type": "code",
   "execution_count": 116,
   "metadata": {},
   "outputs": [],
   "source": [
    "import sklearn\n",
    "from sklearn.tree import DecisionTreeClassifier\n",
    "model = DecisionTreeClassifier()\n",
    "model.fit(X,y)\n",
    "sklearn.tree.export_graphviz(model,out_file='tree.dot') "
   ]
  },
  {
   "cell_type": "markdown",
   "metadata": {},
   "source": [
    "# Terminal"
   ]
  },
  {
   "cell_type": "markdown",
   "metadata": {},
   "source": [
    "## Instalacja"
   ]
  },
  {
   "cell_type": "markdown",
   "metadata": {},
   "source": [
    "```\n",
    "sudo apt install graphviz\n",
    "sudo apt-get -f install\n",
    "sudo apt install graphviz\n",
    "```"
   ]
  },
  {
   "cell_type": "markdown",
   "metadata": {},
   "source": [
    "## Wygenerowanie rysunku"
   ]
  },
  {
   "cell_type": "markdown",
   "metadata": {},
   "source": [
    "``` \n",
    "dot -Tpng tree.dot -o tree.png\n",
    "```"
   ]
  },
  {
   "cell_type": "markdown",
   "metadata": {
    "collapsed": true
   },
   "source": [
    "#### Zadanie \n",
    "\n",
    "Wczytaj zbiór `zbiór1.txt` (funkcja loadtxt w numpy) i podziel go na część uczącą (200 obserwacji) i testową (100). Dopasuj model regresji logistycznej na zbiorze uczącym i oblicz accuracy na zbiorze testowym. Następnie oblicz procent poprawnych dopasowań na zbiorze treningowym.\n",
    "\n",
    "Następnie narysuj 4 histogramy wartości obu zmiennych w pozbiorach wyznaczonych przez wartość $Y$. Czy widzisz jakąś zależność między zmiennymi objaśniającymi a zmienną objaśnianą?\n",
    "\n",
    "Następnie zbuduje drzewo klasyfikacyjne i policz dla niego accuracy."
   ]
  },
  {
   "cell_type": "code",
   "execution_count": 120,
   "metadata": {},
   "outputs": [],
   "source": [
    "dane = np.loadtxt(\"Dane/zbior1.txt\")"
   ]
  },
  {
   "cell_type": "code",
   "execution_count": 122,
   "metadata": {},
   "outputs": [
    {
     "data": {
      "text/plain": [
       "(300, 3)"
      ]
     },
     "execution_count": 122,
     "metadata": {},
     "output_type": "execute_result"
    }
   ],
   "source": [
    "dane.shape"
   ]
  },
  {
   "cell_type": "code",
   "execution_count": 126,
   "metadata": {},
   "outputs": [],
   "source": [
    "X = dane[:, :2]\n",
    "y = dane[:, 2]"
   ]
  },
  {
   "cell_type": "code",
   "execution_count": 130,
   "metadata": {},
   "outputs": [],
   "source": [
    "X_train, X_test, y_train, y_test = train_test_split(X, y, test_size=100)"
   ]
  },
  {
   "cell_type": "code",
   "execution_count": 140,
   "metadata": {},
   "outputs": [
    {
     "data": {
      "text/plain": [
       "0.68"
      ]
     },
     "execution_count": 140,
     "metadata": {},
     "output_type": "execute_result"
    }
   ],
   "source": [
    "regresja = LogisticRegression(solver=\"liblinear\")\n",
    "regresja.fit(X, y)\n",
    "accuracy_score(regresja.predict(X), y)"
   ]
  },
  {
   "cell_type": "code",
   "execution_count": 131,
   "metadata": {},
   "outputs": [
    {
     "data": {
      "text/plain": [
       "0.4"
      ]
     },
     "execution_count": 131,
     "metadata": {},
     "output_type": "execute_result"
    }
   ],
   "source": [
    "regresja = LogisticRegression(solver=\"liblinear\")\n",
    "regresja.fit(X_train, y_train)\n",
    "accuracy_score(regresja.predict(X_test), y_test)"
   ]
  },
  {
   "cell_type": "code",
   "execution_count": 141,
   "metadata": {},
   "outputs": [
    {
     "data": {
      "text/plain": [
       "1.0"
      ]
     },
     "execution_count": 141,
     "metadata": {},
     "output_type": "execute_result"
    }
   ],
   "source": [
    "drzewo = DecisionTreeClassifier()\n",
    "drzewo.fit(X, y)\n",
    "accuracy_score(drzewo.predict(X), y)"
   ]
  },
  {
   "cell_type": "code",
   "execution_count": 142,
   "metadata": {},
   "outputs": [
    {
     "data": {
      "text/plain": [
       "0.98"
      ]
     },
     "execution_count": 142,
     "metadata": {},
     "output_type": "execute_result"
    }
   ],
   "source": [
    "drzewo = DecisionTreeClassifier()\n",
    "drzewo.fit(X_train, y_train)\n",
    "accuracy_score(drzewo.predict(X_test), y_test)"
   ]
  },
  {
   "cell_type": "code",
   "execution_count": 147,
   "metadata": {},
   "outputs": [
    {
     "data": {
      "image/png": "[encoded data removed]",
      "text/plain": [
       "<Figure size 432x288 with 2 Axes>"
      ]
     },
     "metadata": {
      "needs_background": "light"
     },
     "output_type": "display_data"
    }
   ],
   "source": [
    "plt.subplot(1, 2, 1)\n",
    "plt.scatter(X[:,1], y)\n",
    "plt.ylabel('X1')\n",
    "plt.subplot(1, 2, 2)\n",
    "plt.scatter(X[:,0], y)\n",
    "plt.ylabel('X0')\n",
    "plt.show()"
   ]
  },
  {
   "cell_type": "code",
   "execution_count": 150,
   "metadata": {},
   "outputs": [
    {
     "data": {
      "image/png": "[encoded data removed]",
      "text/plain": [
       "<Figure size 432x288 with 4 Axes>"
      ]
     },
     "metadata": {
      "needs_background": "light"
     },
     "output_type": "display_data"
    }
   ],
   "source": [
    "plt.subplot(221)\n",
    "plt.hist(X[y==0,0],)\n",
    "plt.text(20,5,\"1\")\n",
    "plt.subplot(222)\n",
    "plt.hist(X[y==1,0],)\n",
    "plt.text(12.5,5,\"2\")\n",
    "\n",
    "plt.subplot(223)\n",
    "plt.hist(X[y==0,1],)\n",
    "plt.subplot(224)\n",
    "plt.hist(X[y==1,1],)\n",
    "plt.show()"
   ]
  },
  {
   "cell_type": "code",
   "execution_count": 151,
   "metadata": {},
   "outputs": [
    {
     "data": {
      "image/png": "[encoded data removed]",
      "text/plain": [
       "<Figure size 432x288 with 1 Axes>"
      ]
     },
     "metadata": {
      "needs_background": "light"
     },
     "output_type": "display_data"
    }
   ],
   "source": [
    "plt.scatter(X[:,1], X[:,0], c=y)\n",
    "plt.ylabel('X1')\n",
    "plt.xlabel('X0')\n",
    "plt.show()"
   ]
  },
  {
   "cell_type": "markdown",
   "metadata": {},
   "source": [
    "### Bardzo ważna sprawa: wnioskowanie o zależności zmiennych na podstawie analizy jednowymiarowej nie nie ma większego sensu!\n",
    "\n",
    "- jeśli nie widać zależności, to nie znaczy, że jej nie ma,\n",
    "- jeżeli widać zależność, to wcale nie musi oznaczać zależności przyczynowo-skutkowej (dana cecha może być skorelowana z inną cechą, która faktycznie wpływa na y).\n",
    "- zjawisko fałszywej korelacji - statystycznie rzecz biorąc, regularnie zdarzaja się sytuacje, kiedy zmienne wyglądają na zależne, a tak naprawde nie są...\n",
    "\n",
    "#### Naturalnie analiza wielowymiarowa (model) też może nie wykryć zależności... Sztuka analizy danych polega między innymi na szukaniu tych zależności."
   ]
  },
  {
   "cell_type": "markdown",
   "metadata": {},
   "source": [
    "# Klasyfikacja wieloklasowa\n",
    "\n",
    "## Regresja logistyczna\n",
    "\n",
    "*(dokładniejszy opis: https://en.wikipedia.org/wiki/Multinomial_logistic_regression)*\n",
    "\n",
    "\n",
    "\\begin{align}\n",
    "\\Pr(Y_i=1) &= \\frac{1}{1+Z} e^{\\boldsymbol\\beta_1 \\cdot \\mathbf{X}_i} \\, \\\\\n",
    "\\Pr(Y_i=2) &= \\frac{1}{1+Z} e^{\\boldsymbol\\beta_2 \\cdot \\mathbf{X}_i} \\, \\\\\n",
    "\\cdots & \\cdots \\\\\n",
    "\\Pr(Y_i=K-1) &= \\frac{1}{1+Z} e^{\\boldsymbol\\beta_{K-1} \\cdot \\mathbf{X}_i} \\, \\\\\n",
    "\\Pr(Y_i=K) &= \\frac{1}{1+Z} \\, \\\\\n",
    "\\end{align}\n",
    "\n",
    "\n",
    "$Z = \\sum_{k=1}^{K-1} e^{\\boldsymbol\\beta_k \\cdot \\mathbf{X}_i}$\n",
    "\n",
    "### Definicja alternatywna\n",
    ":\n",
    "\n",
    "$$[P(Y=1), P(Y=2), \\ldots , P(Y=K)] = softmax([\\beta_1x_1, \\beta_2x_2, \\ldots , \\beta_Kx_K]) = \n",
    "[\\frac{e^{\\beta_1x_1}}{\\sum_{k=1}^{K}e^{\\beta_kx_k}}, \\frac{e^{\\beta_2x_2}}{\\sum_{k=1}^{K}e^{\\beta_kx_k}}, \\ldots, \\frac{e^{\\beta_Kx_K}}{\\sum_{k=1}^{K}e^{\\beta_k x_k}}]$$\n",
    "\n",
    "Na marginesie: w uczeniu maszynowym często pojawia sie funkcja \"softmax\".\n",
    "\n",
    "$$softmax(\\mathbf{x}) = [\\frac{e^{x_1}}{\\sum_{k=1}^{p}e^{x_k}}, \\frac{e^{x_2}}{\\sum_{k=1}^{p}e^{x_k}}, \\ldots, \\frac{e^{x_p}}{\\sum_{k=1}^{p}e^{x_k}}]$$\n",
    "\n",
    "\n",
    "\n",
    "## Drzewo decyzyjne\n",
    "\n",
    "Przyjmujemy oznaczenie: $p = (p_1, p_2, \\ldots, p_K)$ wektor prawdopodobieństw poszczególnych klas (procent obserwacji danej klasy).\n",
    "\n",
    "Opcja nr 1: Gini impurity (Miara Gini'ego niespójności węzła):\n",
    "- wybieramy podział, który minimalizuje ważoną miarę Gini'ego $g(p) = \\big( 1 - \\sum\\limits_{k=1}^K p_k^2 \\big)$:\n",
    "\n",
    "$$\\frac{n_1}{N} g(p_1) + \\frac{n_2}{N} g(p_2),$$\n",
    "\n",
    "gdzie $n_1, n_2$ liczności w pierwszym i drugim dziecku, $p_1, p_2$ - rozkłady klas w dzieciach.\n",
    "\n",
    "<br>\n",
    "\n",
    "Opcja nr 2: Entropia.\n",
    "- wybieramy podział, który daje najmniejszą wartość ważonej entropii $h(p) = -\\sum\\limits_{k=1}^K p_k\\log p_k$:\n",
    "\n",
    "$$\\frac{n_1}{n}\\sum\\limits_{i=1}^{n_1} h(p_1) + \\frac{n_2}{n}\\sum\\limits_{i=1}^{n_2} h(p_2)$$\n"
   ]
  },
  {
   "cell_type": "markdown",
   "metadata": {},
   "source": [
    "# Jeszcze raz to samo:\n",
    "\n",
    "Jak mamy model, który w swej naturze ładnie się uogólnia do wielu klas (np. drzewo decyzyjne), to nie musimy korzystać z żadnych sztuczek. Po prostu trenujemy jeden model, który obsługuje wiele klas i już.\n",
    "\n",
    "A jak mamy model, który w swej naturze jest tylko dla problemu binarnego (np. regresja logistyczna, ale jutro poznamy też SVM), to musimy uciekać się do sztuczek, żeby z problemu klasyfikacji binarnego przejść do wieloklasowego (kosztem wytrenowania większej liczby modeli, a to kosztuje nas czas):\n",
    "\n",
    "Niech liczba klas to $k$:\n",
    "\n",
    "* one-vs-rest: tyle modeli, ile klas (czyli k), a potem wybieramy najbardziej pewny swej odpowiedzi model (np. 1 vs nie 1, 2 vs nie 2, gdzie \"nie 2\" to np. {1,3})\n",
    "* one-vs-one: modeli jest $\\frac{k*(k-1)}{2}$, i uczą się one rozróżniać 1 od 2, 1 od 3, 2 od 3. Potem wybieramy klasę z największą liczbą głosów"
   ]
  },
  {
   "cell_type": "markdown",
   "metadata": {},
   "source": [
    "#### Zadanie\n",
    "\n",
    "Wygenerować predykcje kroswalidacyjnie dla regresji logistycznej i drzewa decyzyjnego (użyj `cross_val_predict`), a następnie wypisz accuracy i przedstaw tablicę klasyfikacji (`confusion_matrix` z `sklearn.metrics`) dla obu modeli."
   ]
  },
  {
   "cell_type": "code",
   "execution_count": 154,
   "metadata": {},
   "outputs": [
    {
     "data": {
      "text/plain": [
       "array([0, 0, 0, 0, 0, 0, 0, 0, 0, 0, 0, 0, 0, 0, 0, 0, 0, 0, 0, 0, 0, 0,\n",
       "       0, 0, 0, 0, 0, 0, 0, 0, 0, 0, 0, 0, 0, 0, 0, 0, 0, 0, 0, 0, 0, 0,\n",
       "       0, 0, 0, 0, 0, 0, 1, 1, 1, 1, 1, 1, 1, 1, 1, 1, 1, 1, 1, 1, 1, 1,\n",
       "       1, 1, 1, 1, 1, 1, 1, 1, 1, 1, 1, 1, 1, 1, 1, 1, 1, 1, 1, 1, 1, 1,\n",
       "       1, 1, 1, 1, 1, 1, 1, 1, 1, 1, 1, 1, 2, 2, 2, 2, 2, 2, 2, 2, 2, 2,\n",
       "       2, 2, 2, 2, 2, 2, 2, 2, 2, 2, 2, 2, 2, 2, 2, 2, 2, 2, 2, 2, 2, 2,\n",
       "       2, 2, 2, 2, 2, 2, 2, 2, 2, 2, 2, 2, 2, 2, 2, 2, 2, 2])"
      ]
     },
     "execution_count": 154,
     "metadata": {},
     "output_type": "execute_result"
    }
   ],
   "source": [
    "from sklearn import datasets\n",
    "iris = datasets.load_iris()\n",
    "X = iris.data\n",
    "y = iris.target\n",
    "y"
   ]
  },
  {
   "cell_type": "code",
   "execution_count": 155,
   "metadata": {
    "collapsed": true
   },
   "outputs": [
    {
     "data": {
      "text/plain": [
       "array([[5.1, 3.5, 1.4, 0.2],\n",
       "       [4.9, 3. , 1.4, 0.2],\n",
       "       [4.7, 3.2, 1.3, 0.2],\n",
       "       [4.6, 3.1, 1.5, 0.2],\n",
       "       [5. , 3.6, 1.4, 0.2],\n",
       "       [5.4, 3.9, 1.7, 0.4],\n",
       "       [4.6, 3.4, 1.4, 0.3],\n",
       "       [5. , 3.4, 1.5, 0.2],\n",
       "       [4.4, 2.9, 1.4, 0.2],\n",
       "       [4.9, 3.1, 1.5, 0.1],\n",
       "       [5.4, 3.7, 1.5, 0.2],\n",
       "       [4.8, 3.4, 1.6, 0.2],\n",
       "       [4.8, 3. , 1.4, 0.1],\n",
       "       [4.3, 3. , 1.1, 0.1],\n",
       "       [5.8, 4. , 1.2, 0.2],\n",
       "       [5.7, 4.4, 1.5, 0.4],\n",
       "       [5.4, 3.9, 1.3, 0.4],\n",
       "       [5.1, 3.5, 1.4, 0.3],\n",
       "       [5.7, 3.8, 1.7, 0.3],\n",
       "       [5.1, 3.8, 1.5, 0.3],\n",
       "       [5.4, 3.4, 1.7, 0.2],\n",
       "       [5.1, 3.7, 1.5, 0.4],\n",
       "       [4.6, 3.6, 1. , 0.2],\n",
       "       [5.1, 3.3, 1.7, 0.5],\n",
       "       [4.8, 3.4, 1.9, 0.2],\n",
       "       [5. , 3. , 1.6, 0.2],\n",
       "       [5. , 3.4, 1.6, 0.4],\n",
       "       [5.2, 3.5, 1.5, 0.2],\n",
       "       [5.2, 3.4, 1.4, 0.2],\n",
       "       [4.7, 3.2, 1.6, 0.2],\n",
       "       [4.8, 3.1, 1.6, 0.2],\n",
       "       [5.4, 3.4, 1.5, 0.4],\n",
       "       [5.2, 4.1, 1.5, 0.1],\n",
       "       [5.5, 4.2, 1.4, 0.2],\n",
       "       [4.9, 3.1, 1.5, 0.2],\n",
       "       [5. , 3.2, 1.2, 0.2],\n",
       "       [5.5, 3.5, 1.3, 0.2],\n",
       "       [4.9, 3.6, 1.4, 0.1],\n",
       "       [4.4, 3. , 1.3, 0.2],\n",
       "       [5.1, 3.4, 1.5, 0.2],\n",
       "       [5. , 3.5, 1.3, 0.3],\n",
       "       [4.5, 2.3, 1.3, 0.3],\n",
       "       [4.4, 3.2, 1.3, 0.2],\n",
       "       [5. , 3.5, 1.6, 0.6],\n",
       "       [5.1, 3.8, 1.9, 0.4],\n",
       "       [4.8, 3. , 1.4, 0.3],\n",
       "       [5.1, 3.8, 1.6, 0.2],\n",
       "       [4.6, 3.2, 1.4, 0.2],\n",
       "       [5.3, 3.7, 1.5, 0.2],\n",
       "       [5. , 3.3, 1.4, 0.2],\n",
       "       [7. , 3.2, 4.7, 1.4],\n",
       "       [6.4, 3.2, 4.5, 1.5],\n",
       "       [6.9, 3.1, 4.9, 1.5],\n",
       "       [5.5, 2.3, 4. , 1.3],\n",
       "       [6.5, 2.8, 4.6, 1.5],\n",
       "       [5.7, 2.8, 4.5, 1.3],\n",
       "       [6.3, 3.3, 4.7, 1.6],\n",
       "       [4.9, 2.4, 3.3, 1. ],\n",
       "       [6.6, 2.9, 4.6, 1.3],\n",
       "       [5.2, 2.7, 3.9, 1.4],\n",
       "       [5. , 2. , 3.5, 1. ],\n",
       "       [5.9, 3. , 4.2, 1.5],\n",
       "       [6. , 2.2, 4. , 1. ],\n",
       "       [6.1, 2.9, 4.7, 1.4],\n",
       "       [5.6, 2.9, 3.6, 1.3],\n",
       "       [6.7, 3.1, 4.4, 1.4],\n",
       "       [5.6, 3. , 4.5, 1.5],\n",
       "       [5.8, 2.7, 4.1, 1. ],\n",
       "       [6.2, 2.2, 4.5, 1.5],\n",
       "       [5.6, 2.5, 3.9, 1.1],\n",
       "       [5.9, 3.2, 4.8, 1.8],\n",
       "       [6.1, 2.8, 4. , 1.3],\n",
       "       [6.3, 2.5, 4.9, 1.5],\n",
       "       [6.1, 2.8, 4.7, 1.2],\n",
       "       [6.4, 2.9, 4.3, 1.3],\n",
       "       [6.6, 3. , 4.4, 1.4],\n",
       "       [6.8, 2.8, 4.8, 1.4],\n",
       "       [6.7, 3. , 5. , 1.7],\n",
       "       [6. , 2.9, 4.5, 1.5],\n",
       "       [5.7, 2.6, 3.5, 1. ],\n",
       "       [5.5, 2.4, 3.8, 1.1],\n",
       "       [5.5, 2.4, 3.7, 1. ],\n",
       "       [5.8, 2.7, 3.9, 1.2],\n",
       "       [6. , 2.7, 5.1, 1.6],\n",
       "       [5.4, 3. , 4.5, 1.5],\n",
       "       [6. , 3.4, 4.5, 1.6],\n",
       "       [6.7, 3.1, 4.7, 1.5],\n",
       "       [6.3, 2.3, 4.4, 1.3],\n",
       "       [5.6, 3. , 4.1, 1.3],\n",
       "       [5.5, 2.5, 4. , 1.3],\n",
       "       [5.5, 2.6, 4.4, 1.2],\n",
       "       [6.1, 3. , 4.6, 1.4],\n",
       "       [5.8, 2.6, 4. , 1.2],\n",
       "       [5. , 2.3, 3.3, 1. ],\n",
       "       [5.6, 2.7, 4.2, 1.3],\n",
       "       [5.7, 3. , 4.2, 1.2],\n",
       "       [5.7, 2.9, 4.2, 1.3],\n",
       "       [6.2, 2.9, 4.3, 1.3],\n",
       "       [5.1, 2.5, 3. , 1.1],\n",
       "       [5.7, 2.8, 4.1, 1.3],\n",
       "       [6.3, 3.3, 6. , 2.5],\n",
       "       [5.8, 2.7, 5.1, 1.9],\n",
       "       [7.1, 3. , 5.9, 2.1],\n",
       "       [6.3, 2.9, 5.6, 1.8],\n",
       "       [6.5, 3. , 5.8, 2.2],\n",
       "       [7.6, 3. , 6.6, 2.1],\n",
       "       [4.9, 2.5, 4.5, 1.7],\n",
       "       [7.3, 2.9, 6.3, 1.8],\n",
       "       [6.7, 2.5, 5.8, 1.8],\n",
       "       [7.2, 3.6, 6.1, 2.5],\n",
       "       [6.5, 3.2, 5.1, 2. ],\n",
       "       [6.4, 2.7, 5.3, 1.9],\n",
       "       [6.8, 3. , 5.5, 2.1],\n",
       "       [5.7, 2.5, 5. , 2. ],\n",
       "       [5.8, 2.8, 5.1, 2.4],\n",
       "       [6.4, 3.2, 5.3, 2.3],\n",
       "       [6.5, 3. , 5.5, 1.8],\n",
       "       [7.7, 3.8, 6.7, 2.2],\n",
       "       [7.7, 2.6, 6.9, 2.3],\n",
       "       [6. , 2.2, 5. , 1.5],\n",
       "       [6.9, 3.2, 5.7, 2.3],\n",
       "       [5.6, 2.8, 4.9, 2. ],\n",
       "       [7.7, 2.8, 6.7, 2. ],\n",
       "       [6.3, 2.7, 4.9, 1.8],\n",
       "       [6.7, 3.3, 5.7, 2.1],\n",
       "       [7.2, 3.2, 6. , 1.8],\n",
       "       [6.2, 2.8, 4.8, 1.8],\n",
       "       [6.1, 3. , 4.9, 1.8],\n",
       "       [6.4, 2.8, 5.6, 2.1],\n",
       "       [7.2, 3. , 5.8, 1.6],\n",
       "       [7.4, 2.8, 6.1, 1.9],\n",
       "       [7.9, 3.8, 6.4, 2. ],\n",
       "       [6.4, 2.8, 5.6, 2.2],\n",
       "       [6.3, 2.8, 5.1, 1.5],\n",
       "       [6.1, 2.6, 5.6, 1.4],\n",
       "       [7.7, 3. , 6.1, 2.3],\n",
       "       [6.3, 3.4, 5.6, 2.4],\n",
       "       [6.4, 3.1, 5.5, 1.8],\n",
       "       [6. , 3. , 4.8, 1.8],\n",
       "       [6.9, 3.1, 5.4, 2.1],\n",
       "       [6.7, 3.1, 5.6, 2.4],\n",
       "       [6.9, 3.1, 5.1, 2.3],\n",
       "       [5.8, 2.7, 5.1, 1.9],\n",
       "       [6.8, 3.2, 5.9, 2.3],\n",
       "       [6.7, 3.3, 5.7, 2.5],\n",
       "       [6.7, 3. , 5.2, 2.3],\n",
       "       [6.3, 2.5, 5. , 1.9],\n",
       "       [6.5, 3. , 5.2, 2. ],\n",
       "       [6.2, 3.4, 5.4, 2.3],\n",
       "       [5.9, 3. , 5.1, 1.8]])"
      ]
     },
     "execution_count": 155,
     "metadata": {},
     "output_type": "execute_result"
    }
   ],
   "source": [
    "X"
   ]
  },
  {
   "cell_type": "code",
   "execution_count": 157,
   "metadata": {},
   "outputs": [
    {
     "name": "stderr",
     "output_type": "stream",
     "text": [
      "/home/kodolamacz/anaconda3/lib/python3.7/site-packages/sklearn/linear_model/logistic.py:469: FutureWarning: Default multi_class will be changed to 'auto' in 0.22. Specify the multi_class option to silence this warning.\n",
      "  \"this warning.\", FutureWarning)\n"
     ]
    },
    {
     "data": {
      "text/plain": [
       "LogisticRegression(C=1.0, class_weight=None, dual=False, fit_intercept=True,\n",
       "                   intercept_scaling=1, l1_ratio=None, max_iter=100,\n",
       "                   multi_class='warn', n_jobs=None, penalty='l2',\n",
       "                   random_state=None, solver='liblinear', tol=0.0001, verbose=0,\n",
       "                   warm_start=False)"
      ]
     },
     "execution_count": 157,
     "metadata": {},
     "output_type": "execute_result"
    }
   ],
   "source": [
    "m = LogisticRegression(solver=\"liblinear\")\n",
    "m.fit(X,y)"
   ]
  },
  {
   "cell_type": "code",
   "execution_count": 159,
   "metadata": {},
   "outputs": [
    {
     "data": {
      "text/plain": [
       "array([ 0.26421853,  1.09392467, -1.21470917])"
      ]
     },
     "execution_count": 159,
     "metadata": {},
     "output_type": "execute_result"
    }
   ],
   "source": [
    "m.intercept_ # są wytrenowane 3 regresje (bo są 3 klasy, one-vs-rest), każda ma swój wyraz wolny"
   ]
  },
  {
   "cell_type": "code",
   "execution_count": 160,
   "metadata": {},
   "outputs": [
    {
     "data": {
      "text/plain": [
       "array([[ 0.41021713,  1.46416217, -2.26003266, -1.02103509],\n",
       "       [ 0.4275087 , -1.61211605,  0.5758173 , -1.40617325],\n",
       "       [-1.70751526, -1.53427768,  2.47096755,  2.55537041]])"
      ]
     },
     "execution_count": 160,
     "metadata": {},
     "output_type": "execute_result"
    }
   ],
   "source": [
    "m.coef_ # pierwszy wiersz to wektor beta dla pierwszej regresji (1 vs nie 1)"
   ]
  },
  {
   "cell_type": "code",
   "execution_count": 161,
   "metadata": {},
   "outputs": [
    {
     "data": {
      "text/plain": [
       "array([0, 0, 0, 0, 0, 0, 0, 0, 0, 0, 0, 0, 0, 0, 0, 0, 0, 0, 0, 0, 0, 0,\n",
       "       0, 0, 0, 0, 0, 0, 0, 0, 0, 0, 0, 0, 0, 0, 0, 0, 0, 0, 0, 0, 0, 0,\n",
       "       0, 0, 0, 0, 0, 0, 1, 1, 1, 1, 1, 1, 1, 1, 1, 1, 1, 1, 1, 1, 1, 1,\n",
       "       2, 1, 1, 1, 2, 1, 1, 1, 1, 1, 1, 1, 1, 1, 1, 1, 1, 2, 2, 2, 1, 1,\n",
       "       1, 1, 1, 1, 1, 1, 1, 1, 1, 1, 1, 1, 2, 2, 2, 2, 2, 2, 2, 2, 2, 2,\n",
       "       2, 2, 2, 2, 2, 2, 2, 2, 2, 2, 2, 2, 2, 2, 2, 2, 2, 2, 2, 1, 2, 2,\n",
       "       2, 2, 2, 2, 2, 2, 2, 2, 2, 2, 2, 2, 2, 2, 2, 2, 2, 2])"
      ]
     },
     "execution_count": 161,
     "metadata": {},
     "output_type": "execute_result"
    }
   ],
   "source": [
    "m.predict(X)"
   ]
  },
  {
   "cell_type": "code",
   "execution_count": 163,
   "metadata": {},
   "outputs": [
    {
     "data": {
      "text/plain": [
       "0.96"
      ]
     },
     "execution_count": 163,
     "metadata": {},
     "output_type": "execute_result"
    }
   ],
   "source": [
    "accuracy_score(m.predict(X), y)"
   ]
  },
  {
   "cell_type": "code",
   "execution_count": 164,
   "metadata": {},
   "outputs": [],
   "source": [
    "from sklearn.model_selection import cross_val_predict"
   ]
  },
  {
   "cell_type": "code",
   "execution_count": 166,
   "metadata": {
    "collapsed": true
   },
   "outputs": [
    {
     "name": "stderr",
     "output_type": "stream",
     "text": [
      "/home/kodolamacz/anaconda3/lib/python3.7/site-packages/sklearn/linear_model/logistic.py:432: FutureWarning: Default solver will be changed to 'lbfgs' in 0.22. Specify a solver to silence this warning.\n",
      "  FutureWarning)\n",
      "/home/kodolamacz/anaconda3/lib/python3.7/site-packages/sklearn/linear_model/logistic.py:469: FutureWarning: Default multi_class will be changed to 'auto' in 0.22. Specify the multi_class option to silence this warning.\n",
      "  \"this warning.\", FutureWarning)\n",
      "/home/kodolamacz/anaconda3/lib/python3.7/site-packages/sklearn/linear_model/logistic.py:432: FutureWarning: Default solver will be changed to 'lbfgs' in 0.22. Specify a solver to silence this warning.\n",
      "  FutureWarning)\n",
      "/home/kodolamacz/anaconda3/lib/python3.7/site-packages/sklearn/linear_model/logistic.py:469: FutureWarning: Default multi_class will be changed to 'auto' in 0.22. Specify the multi_class option to silence this warning.\n",
      "  \"this warning.\", FutureWarning)\n",
      "/home/kodolamacz/anaconda3/lib/python3.7/site-packages/sklearn/linear_model/logistic.py:432: FutureWarning: Default solver will be changed to 'lbfgs' in 0.22. Specify a solver to silence this warning.\n",
      "  FutureWarning)\n",
      "/home/kodolamacz/anaconda3/lib/python3.7/site-packages/sklearn/linear_model/logistic.py:469: FutureWarning: Default multi_class will be changed to 'auto' in 0.22. Specify the multi_class option to silence this warning.\n",
      "  \"this warning.\", FutureWarning)\n"
     ]
    }
   ],
   "source": [
    "pred1 = cross_val_predict(LogisticRegression(), X, y, cv=3)\n",
    "pred2 = cross_val_predict(DecisionTreeClassifier(), X, y, cv=3)"
   ]
  },
  {
   "cell_type": "code",
   "execution_count": 167,
   "metadata": {},
   "outputs": [
    {
     "data": {
      "text/plain": [
       "array([0, 0, 0, 0, 0, 0, 0, 0, 0, 0, 0, 0, 0, 0, 0, 0, 0, 0, 0, 0, 0, 0,\n",
       "       0, 0, 0, 0, 0, 0, 0, 0, 0, 0, 0, 0, 0, 0, 0, 0, 0, 0, 0, 0, 0, 0,\n",
       "       0, 0, 0, 0, 0, 0, 1, 1, 1, 1, 1, 1, 2, 1, 1, 1, 1, 1, 1, 1, 1, 1,\n",
       "       2, 1, 1, 1, 2, 1, 1, 1, 1, 1, 1, 1, 1, 1, 1, 1, 1, 2, 2, 2, 1, 1,\n",
       "       1, 1, 1, 1, 1, 1, 1, 1, 1, 1, 1, 1, 2, 2, 2, 2, 2, 2, 2, 2, 2, 2,\n",
       "       2, 2, 2, 2, 2, 2, 2, 2, 2, 2, 2, 2, 2, 2, 2, 2, 2, 2, 2, 1, 2, 2,\n",
       "       2, 1, 2, 2, 2, 2, 2, 2, 2, 2, 2, 2, 2, 2, 2, 2, 2, 2])"
      ]
     },
     "execution_count": 167,
     "metadata": {},
     "output_type": "execute_result"
    }
   ],
   "source": [
    "pred1"
   ]
  },
  {
   "cell_type": "code",
   "execution_count": 168,
   "metadata": {},
   "outputs": [],
   "source": [
    "from sklearn.metrics import confusion_matrix"
   ]
  },
  {
   "cell_type": "code",
   "execution_count": 169,
   "metadata": {},
   "outputs": [
    {
     "data": {
      "text/plain": [
       "array([[50,  0,  0],\n",
       "       [ 0, 44,  6],\n",
       "       [ 0,  2, 48]])"
      ]
     },
     "execution_count": 169,
     "metadata": {},
     "output_type": "execute_result"
    }
   ],
   "source": [
    "confusion_matrix(y, pred1)"
   ]
  },
  {
   "cell_type": "markdown",
   "metadata": {},
   "source": [
    "# Naiwny klasyfikator Bayes'a\n",
    "\n",
    "Rozważmy klasyfikację wieloklasową - $Y \\in \\{1, 2, \\ldots, K\\}$. \n",
    "\n",
    "Naiwny klasyfikator Bayesa klasyfikuje obserwacje na podstawie prawdopodobieństwa:\n",
    "\n",
    "$$p(Y = k \\mid x_1, \\dots, x_p)  = p(C_k \\mid x_1, \\dots, x_p).$$\n",
    "\n",
    "Predykcja klasyfikatora to najbardziej prawdopodobna klasa.\n",
    "\n",
    "Skąd klasyfikator bierze to prawdopodobieństwo? Oblicza je przyjmując pewne założenia...\n",
    "\n",
    "Z twierdzenia Bayesa:\n",
    "\n",
    "\n",
    "$$p(C_k \\mid \\mathbf{x}) = \\frac{p(C_k) \\ p(\\mathbf{x} \\mid C_k)}{p(\\mathbf{x})}.$$\n",
    "\n",
    "Zauważmy, że $p(\\mathbf{x})$, czyli rozkład X, jest nieistotny dla klasyfikatora, zatem: \n",
    "\n",
    "$$p(C_k \\mid \\mathbf{x}) \\sim p(C_k) \\ p(\\mathbf{x} \\mid C_k).$$\n",
    "\n",
    "$p(C_k)$ - prawdopodobieśtwo a priori klasy $C_k$ - czyli procent obserwacji w danych, dla których $Y = k$.\n",
    "\n",
    "$p(\\mathbf{x} \\mid C_k) = p(x_1, x_2, \\ldots, x_p \\mid C_k)$ - rozkład cech w pozbiorze danych, dla których $Y = C_k$.\n",
    "\n",
    "\n",
    "(**Naiwne**) założenie modelu:\n",
    "\n",
    "$$p(x_1, x_2, \\ldots, x_p \\mid C_k) = p(x_1 \\mid C_k)\\cdot p(x_2\\mid C_k) \\cdot \\ldots \\cdot p(x_p \\mid C_k)$$\n",
    "\n",
    "Zatem predykcja klasyfikatora ma postać:\n",
    "\n",
    "$$\\hat{y} = arg \\max\\limits_k  p(C_k \\mid \\mathbf{x}) = arg \\max\\limits_k p(C_k) \\prod\\limits_{i=1}^p p(x_i\\mid C_k)$$\n",
    "\n",
    "Skąd bierzemy $p(x_i\\mid C_k)$?\n",
    "\n",
    "Z postaci danych:\n",
    "- jeżeli zmienna $x_i$ jest binarna, to zakładamy, że rozkład jest dwupunktowy - prawdopodobieństwo sukcesu model wylicza empirycznie z danych,\n",
    "- jeżeli zmienna $x_i$ jest licznością, to zakładamy, że rozkład jest wielomianowy - prawdopodobieństwa poszczególnych wartości model wylicza empirycznie z danych,\n",
    "- jeżeli zmienna $x_i$ jest rzeczywista, to zakładamy, że rozkład jest normalny - parametry (średnią i wariancję) model estymuje z danych.\n",
    "\n",
    "Uwaga: ostatnie wersja w praktyce z reguły działa słabo."
   ]
  },
  {
   "cell_type": "code",
   "execution_count": 38,
   "metadata": {},
   "outputs": [],
   "source": [
    "from sklearn.naive_bayes import MultinomialNB # wersja wielomianowa"
   ]
  },
  {
   "cell_type": "code",
   "execution_count": null,
   "metadata": {},
   "outputs": [],
   "source": [
    "?MultinomialNB"
   ]
  },
  {
   "cell_type": "markdown",
   "metadata": {},
   "source": [
    "# Case study\n",
    "\n",
    "Dane\n",
    "\n",
    "http://www.ritchieng.com/machine-learning-multinomial-naive-bayes-vectorization/"
   ]
  },
  {
   "cell_type": "code",
   "execution_count": 170,
   "metadata": {},
   "outputs": [
    {
     "data": {
      "text/plain": [
       "(5572, 2)"
      ]
     },
     "execution_count": 170,
     "metadata": {},
     "output_type": "execute_result"
    }
   ],
   "source": [
    "import pandas as pd\n",
    "\n",
    "sms = pd.read_table('Dane/sms.tsv', header=None, names=['label', 'message'])\n",
    "\n",
    "sms.shape"
   ]
  },
  {
   "cell_type": "code",
   "execution_count": 171,
   "metadata": {
    "collapsed": true
   },
   "outputs": [
    {
     "data": {
      "text/html": [
       "<div>\n",
       "<style scoped>\n",
       "    .dataframe tbody tr th:only-of-type {\n",
       "        vertical-align: middle;\n",
       "    }\n",
       "\n",
       "    .dataframe tbody tr th {\n",
       "        vertical-align: top;\n",
       "    }\n",
       "\n",
       "    .dataframe thead th {\n",
       "        text-align: right;\n",
       "    }\n",
       "</style>\n",
       "<table border=\"1\" class=\"dataframe\">\n",
       "  <thead>\n",
       "    <tr style=\"text-align: right;\">\n",
       "      <th></th>\n",
       "      <th>label</th>\n",
       "      <th>message</th>\n",
       "    </tr>\n",
       "  </thead>\n",
       "  <tbody>\n",
       "    <tr>\n",
       "      <td>0</td>\n",
       "      <td>ham</td>\n",
       "      <td>Go until jurong point, crazy.. Available only ...</td>\n",
       "    </tr>\n",
       "    <tr>\n",
       "      <td>1</td>\n",
       "      <td>ham</td>\n",
       "      <td>Ok lar... Joking wif u oni...</td>\n",
       "    </tr>\n",
       "    <tr>\n",
       "      <td>2</td>\n",
       "      <td>spam</td>\n",
       "      <td>Free entry in 2 a wkly comp to win FA Cup fina...</td>\n",
       "    </tr>\n",
       "    <tr>\n",
       "      <td>3</td>\n",
       "      <td>ham</td>\n",
       "      <td>U dun say so early hor... U c already then say...</td>\n",
       "    </tr>\n",
       "    <tr>\n",
       "      <td>4</td>\n",
       "      <td>ham</td>\n",
       "      <td>Nah I don't think he goes to usf, he lives aro...</td>\n",
       "    </tr>\n",
       "    <tr>\n",
       "      <td>...</td>\n",
       "      <td>...</td>\n",
       "      <td>...</td>\n",
       "    </tr>\n",
       "    <tr>\n",
       "      <td>5567</td>\n",
       "      <td>spam</td>\n",
       "      <td>This is the 2nd time we have tried 2 contact u...</td>\n",
       "    </tr>\n",
       "    <tr>\n",
       "      <td>5568</td>\n",
       "      <td>ham</td>\n",
       "      <td>Will ü b going to esplanade fr home?</td>\n",
       "    </tr>\n",
       "    <tr>\n",
       "      <td>5569</td>\n",
       "      <td>ham</td>\n",
       "      <td>Pity, * was in mood for that. So...any other s...</td>\n",
       "    </tr>\n",
       "    <tr>\n",
       "      <td>5570</td>\n",
       "      <td>ham</td>\n",
       "      <td>The guy did some bitching but I acted like i'd...</td>\n",
       "    </tr>\n",
       "    <tr>\n",
       "      <td>5571</td>\n",
       "      <td>ham</td>\n",
       "      <td>Rofl. Its true to its name</td>\n",
       "    </tr>\n",
       "  </tbody>\n",
       "</table>\n",
       "<p>5572 rows × 2 columns</p>\n",
       "</div>"
      ],
      "text/plain": [
       "     label                                            message\n",
       "0      ham  Go until jurong point, crazy.. Available only ...\n",
       "1      ham                      Ok lar... Joking wif u oni...\n",
       "2     spam  Free entry in 2 a wkly comp to win FA Cup fina...\n",
       "3      ham  U dun say so early hor... U c already then say...\n",
       "4      ham  Nah I don't think he goes to usf, he lives aro...\n",
       "...    ...                                                ...\n",
       "5567  spam  This is the 2nd time we have tried 2 contact u...\n",
       "5568   ham               Will ü b going to esplanade fr home?\n",
       "5569   ham  Pity, * was in mood for that. So...any other s...\n",
       "5570   ham  The guy did some bitching but I acted like i'd...\n",
       "5571   ham                         Rofl. Its true to its name\n",
       "\n",
       "[5572 rows x 2 columns]"
      ]
     },
     "execution_count": 171,
     "metadata": {},
     "output_type": "execute_result"
    }
   ],
   "source": [
    "sms"
   ]
  },
  {
   "cell_type": "code",
   "execution_count": 174,
   "metadata": {},
   "outputs": [
    {
     "name": "stdout",
     "output_type": "stream",
     "text": [
      "{'sky': 2, 'blue': 0, 'sun': 3, 'bright': 1}\n"
     ]
    },
    {
     "data": {
      "text/plain": [
       "matrix([[3, 0, 1, 0],\n",
       "        [0, 1, 0, 1]])"
      ]
     },
     "execution_count": 174,
     "metadata": {},
     "output_type": "execute_result"
    }
   ],
   "source": [
    "from sklearn.feature_extraction.text import CountVectorizer\n",
    "# będziemy zliczać słowa w poszczególnych dokumentach (u nas wiadomość)\n",
    "# to jest ta sama kategoria co StandardScaler: ma fit i ma transform\n",
    "train_set = (\"The sky is blue blue blue.\", \"The sun is bright.\")\n",
    "# test_set = (\"The sun in the sky is bright.\", \n",
    "#     \"We can see the shining sun, the bright sun.\")\n",
    "\n",
    "# stop words to często występujące słowa, które wiele nie wnoszą\n",
    "# np. she, is, a, or, and\n",
    "# podając argument stop_words='english' eliminujemy stop words z angielskiego, np. nie ma \"is\"\n",
    "# Dla ciekawskich: doprowadzanie do formy podstawowej: lematyzacja, stemming\n",
    "vectorizer = CountVectorizer(stop_words='english')\n",
    "\n",
    "# równie dobrze można nie podawać:\n",
    "# vectorizer = CountVectorizer()\n",
    "\n",
    "\n",
    "# w wierszach dokumenty\n",
    "# w kolumnach słowa (terms)\n",
    "# np. liczba w 1 wierszu i 3 kolumnie to liczba wystąpień 3 słowa w 1 dokumencie\n",
    "document_term_matrix = vectorizer.fit_transform(train_set)\n",
    "\n",
    "# ta macierz jest rzadka. Oznacza to, że nie trzymamy zer\n",
    "# trzymamy tylko namiary na wartości niezerowe, np.\n",
    "# w 1 wierszu w 3 kolumnie trzymaj 8\n",
    "# pozwala to bardzo zaoszczędzić pamięć (bo tych wartości niezerowych jest powiedzmy 1-3%)\n",
    "document_term_matrix\n",
    "\n",
    "# tłumaczenie, które słowo jest zliczane w której kolumnie \n",
    "print(vectorizer.vocabulary_)\n",
    "\n",
    "# metoda poglądowa: zmień macierz rzadką na gęstą, wtedy wszystko widać na pierwszy rzut oka\n",
    "# za to zajmuje dużo RAMu\n",
    "document_term_matrix.todense()"
   ]
  },
  {
   "cell_type": "markdown",
   "metadata": {
    "collapsed": true
   },
   "source": [
    "# Cel: zaimplementować w pełni zautomatyzowane znajdowanie najlepszego modelu\n",
    "\n",
    "Na samym początku wydzielić 1000 obserwacji na zbiór testowy, na którym na samym końcu przetestujemy najlepszy model. Podczas szukania najlepszego modelu nie dotykamy tego zbioru!\n",
    "\n",
    "Wejście:\n",
    "- lista modeli w postaci ogólnie, którą podaje się do funkcji Pipeline (czyili listy krotek dwuelementwych),\n",
    "- lista siatek parametrów, które chcemy zbadać, dla odpowiadająych modeli,\n",
    "\n",
    "Wyjście \n",
    "- na zbiorze testowym policzyć accuracy najlepszego modelu.\n",
    "\n",
    "**Ważne** Każdą analizę (szukanie najlepszego modelu) zawsze należy zacząć od wyznaczenia punktu odniesienia. Czym powinien być punkt odniesienia? Jest to <u>prosta</u> metoda predykcji lub wręcz trywialna. Opcja 1: prosty klasyfikator z parametrami domyślnymi. Opcja 2. Predykcja trywialna - bezmodelowa, np. predykcja stała klasą dominującą (przykładowo jeżeli w danych jest np. $70\\%$ oberwacji klasy 1, to predykcja stała równa 1 będzie miała accuracy $70\\%$).\n",
    "\n",
    "Zatem krok pierwszy - obliczenie baseline."
   ]
  },
  {
   "cell_type": "code",
   "execution_count": 48,
   "metadata": {},
   "outputs": [],
   "source": [
    "from sklearn.pipeline import Pipeline\n",
    "from sklearn.preprocessing import MinMaxScaler\n",
    "from sklearn.linear_model import LogisticRegression\n",
    "from sklearn.tree import DecisionTreeClassifier\n",
    "from sklearn.naive_bayes import MultinomialNB\n",
    "from sklearn.preprocessing import MaxAbsScaler\n",
    "\n",
    "from sklearn.feature_extraction.text import CountVectorizer\n",
    "\n",
    "import pprint\n",
    "from sklearn.model_selection import GridSearchCV, train_test_split, cross_val_score\n",
    "\n",
    "from sklearn.metrics import accuracy_score\n"
   ]
  },
  {
   "cell_type": "code",
   "execution_count": 175,
   "metadata": {
    "collapsed": true
   },
   "outputs": [
    {
     "data": {
      "text/html": [
       "<div>\n",
       "<style scoped>\n",
       "    .dataframe tbody tr th:only-of-type {\n",
       "        vertical-align: middle;\n",
       "    }\n",
       "\n",
       "    .dataframe tbody tr th {\n",
       "        vertical-align: top;\n",
       "    }\n",
       "\n",
       "    .dataframe thead th {\n",
       "        text-align: right;\n",
       "    }\n",
       "</style>\n",
       "<table border=\"1\" class=\"dataframe\">\n",
       "  <thead>\n",
       "    <tr style=\"text-align: right;\">\n",
       "      <th></th>\n",
       "      <th>label</th>\n",
       "      <th>message</th>\n",
       "    </tr>\n",
       "  </thead>\n",
       "  <tbody>\n",
       "    <tr>\n",
       "      <td>0</td>\n",
       "      <td>0</td>\n",
       "      <td>Go until jurong point, crazy.. Available only ...</td>\n",
       "    </tr>\n",
       "    <tr>\n",
       "      <td>1</td>\n",
       "      <td>0</td>\n",
       "      <td>Ok lar... Joking wif u oni...</td>\n",
       "    </tr>\n",
       "    <tr>\n",
       "      <td>2</td>\n",
       "      <td>1</td>\n",
       "      <td>Free entry in 2 a wkly comp to win FA Cup fina...</td>\n",
       "    </tr>\n",
       "    <tr>\n",
       "      <td>3</td>\n",
       "      <td>0</td>\n",
       "      <td>U dun say so early hor... U c already then say...</td>\n",
       "    </tr>\n",
       "    <tr>\n",
       "      <td>4</td>\n",
       "      <td>0</td>\n",
       "      <td>Nah I don't think he goes to usf, he lives aro...</td>\n",
       "    </tr>\n",
       "    <tr>\n",
       "      <td>...</td>\n",
       "      <td>...</td>\n",
       "      <td>...</td>\n",
       "    </tr>\n",
       "    <tr>\n",
       "      <td>5567</td>\n",
       "      <td>1</td>\n",
       "      <td>This is the 2nd time we have tried 2 contact u...</td>\n",
       "    </tr>\n",
       "    <tr>\n",
       "      <td>5568</td>\n",
       "      <td>0</td>\n",
       "      <td>Will ü b going to esplanade fr home?</td>\n",
       "    </tr>\n",
       "    <tr>\n",
       "      <td>5569</td>\n",
       "      <td>0</td>\n",
       "      <td>Pity, * was in mood for that. So...any other s...</td>\n",
       "    </tr>\n",
       "    <tr>\n",
       "      <td>5570</td>\n",
       "      <td>0</td>\n",
       "      <td>The guy did some bitching but I acted like i'd...</td>\n",
       "    </tr>\n",
       "    <tr>\n",
       "      <td>5571</td>\n",
       "      <td>0</td>\n",
       "      <td>Rofl. Its true to its name</td>\n",
       "    </tr>\n",
       "  </tbody>\n",
       "</table>\n",
       "<p>5572 rows × 2 columns</p>\n",
       "</div>"
      ],
      "text/plain": [
       "      label                                            message\n",
       "0         0  Go until jurong point, crazy.. Available only ...\n",
       "1         0                      Ok lar... Joking wif u oni...\n",
       "2         1  Free entry in 2 a wkly comp to win FA Cup fina...\n",
       "3         0  U dun say so early hor... U c already then say...\n",
       "4         0  Nah I don't think he goes to usf, he lives aro...\n",
       "...     ...                                                ...\n",
       "5567      1  This is the 2nd time we have tried 2 contact u...\n",
       "5568      0               Will ü b going to esplanade fr home?\n",
       "5569      0  Pity, * was in mood for that. So...any other s...\n",
       "5570      0  The guy did some bitching but I acted like i'd...\n",
       "5571      0                         Rofl. Its true to its name\n",
       "\n",
       "[5572 rows x 2 columns]"
      ]
     },
     "execution_count": 175,
     "metadata": {},
     "output_type": "execute_result"
    }
   ],
   "source": [
    "# przerabiamy na 0 i 1 w klasie, którą przewidujemy\n",
    "sms[\"label\"] = sms.label.map({\"ham\": 0, \"spam\": 1})\n",
    "sms"
   ]
  },
  {
   "cell_type": "markdown",
   "metadata": {},
   "source": [
    "# Sprawdzamy zbalansowanie problemu"
   ]
  },
  {
   "cell_type": "code",
   "execution_count": 176,
   "metadata": {},
   "outputs": [
    {
     "data": {
      "text/plain": [
       "0.13406317300789664"
      ]
     },
     "execution_count": 176,
     "metadata": {},
     "output_type": "execute_result"
    }
   ],
   "source": [
    "sms.label.mean()"
   ]
  },
  {
   "cell_type": "code",
   "execution_count": 177,
   "metadata": {},
   "outputs": [
    {
     "data": {
      "text/plain": [
       "0    4825\n",
       "1     747\n",
       "Name: label, dtype: int64"
      ]
     },
     "execution_count": 177,
     "metadata": {},
     "output_type": "execute_result"
    }
   ],
   "source": [
    "sms.label.value_counts()"
   ]
  },
  {
   "cell_type": "code",
   "execution_count": 178,
   "metadata": {},
   "outputs": [
    {
     "data": {
      "text/plain": [
       "0    0.865937\n",
       "1    0.134063\n",
       "Name: label, dtype: float64"
      ]
     },
     "execution_count": 178,
     "metadata": {},
     "output_type": "execute_result"
    }
   ],
   "source": [
    "sms.label.value_counts(normalize=True)"
   ]
  },
  {
   "cell_type": "code",
   "execution_count": 179,
   "metadata": {},
   "outputs": [
    {
     "data": {
      "text/plain": [
       "(5572, 2)"
      ]
     },
     "execution_count": 179,
     "metadata": {},
     "output_type": "execute_result"
    }
   ],
   "source": [
    "sms.shape"
   ]
  },
  {
   "cell_type": "markdown",
   "metadata": {},
   "source": [
    "# Dzielimy na treningową i testową: crossvalidacja będzie tylko na treningowej, a testowej nie ruszamy aż nie uzyskamy najlepszych wersji modeli"
   ]
  },
  {
   "cell_type": "code",
   "execution_count": 180,
   "metadata": {},
   "outputs": [],
   "source": [
    "X_train, X_test, y_train, y_test = train_test_split(sms.message, sms.label, \n",
    "                                                    test_size=1000, \n",
    "                                                    random_state=123)"
   ]
  },
  {
   "cell_type": "markdown",
   "metadata": {},
   "source": [
    "# Robimy baseline: biorę pierwszy lepszy model, uruchamiam, nie tunuje parametrów, chcę się tylko przekonać, czy problem (dane) jest łatwy czy trudny"
   ]
  },
  {
   "cell_type": "code",
   "execution_count": 181,
   "metadata": {
    "collapsed": true
   },
   "outputs": [
    {
     "data": {
      "text/plain": [
       "Pipeline(memory=None,\n",
       "         steps=[('count',\n",
       "                 CountVectorizer(analyzer='word', binary=False,\n",
       "                                 decode_error='strict',\n",
       "                                 dtype=<class 'numpy.int64'>, encoding='utf-8',\n",
       "                                 input='content', lowercase=True, max_df=1.0,\n",
       "                                 max_features=None, min_df=1,\n",
       "                                 ngram_range=(1, 1), preprocessor=None,\n",
       "                                 stop_words=None, strip_accents=None,\n",
       "                                 token_pattern='(?u)\\\\b\\\\w\\\\w+\\\\b',\n",
       "                                 tokenizer=None, vocabulary=None)),\n",
       "                ('regresja',\n",
       "                 LogisticRegression(C=1.0, class_weight=None, dual=False,\n",
       "                                    fit_intercept=True, intercept_scaling=1,\n",
       "                                    l1_ratio=None, max_iter=100,\n",
       "                                    multi_class='warn', n_jobs=None,\n",
       "                                    penalty='l2', random_state=None,\n",
       "                                    solver='liblinear', tol=0.0001, verbose=0,\n",
       "                                    warm_start=False))],\n",
       "         verbose=False)"
      ]
     },
     "execution_count": 181,
     "metadata": {},
     "output_type": "execute_result"
    }
   ],
   "source": [
    "pipe = Pipeline([(\"count\", CountVectorizer()),\n",
    "                 (\"regresja\", LogisticRegression(solver=\"liblinear\"))])\n",
    "pipe.fit(X_train, y_train)"
   ]
  },
  {
   "cell_type": "code",
   "execution_count": 182,
   "metadata": {},
   "outputs": [
    {
     "data": {
      "text/plain": [
       "0.984"
      ]
     },
     "execution_count": 182,
     "metadata": {},
     "output_type": "execute_result"
    }
   ],
   "source": [
    "accuracy_score(pipe.predict(X_test), y_test)"
   ]
  },
  {
   "cell_type": "code",
   "execution_count": null,
   "metadata": {},
   "outputs": [],
   "source": [
    "# wydzielić treningową i testową\n",
    "# obliczyć baseline - bierzemy prosty model, uczymy na treningowym, testujemy na testowym\n",
    "# zdefiniować modele (pipeliny)\n",
    "# zdefiniować parametry które testujemy w tych modelach\n",
    "# w pętli uruchomić dla każdego modelu GridSearchCV\n",
    "# zapamiętać najlepsze modele/parametry dla każdego modelu\n",
    "# uruchomić każdego najlepszego na danych testowych"
   ]
  },
  {
   "cell_type": "code",
   "execution_count": null,
   "metadata": {},
   "outputs": [],
   "source": [
    "modele = (\n",
    "\n",
    "#     (pipe,parametry),\n",
    "    (Pipeline([(\"count\", CountVectorizer()), (\"regresja\", LogisticRegression(solver=\"liblinear\"))]),\n",
    "    {\"count__stop_words\": [\"english\", None],\n",
    "    \"regresja__penalty\": [\"l1\", \"l2\"],\n",
    "    \"regresja__C\": [0.01, 0.1, 1, 10, 100]}),\n",
    "    \n",
    "    (Pipeline([(\"count\", CountVectorizer()), (\"scaler\", StandardScaler(with_mean=False)), (\"regresja\", LogisticRegression(solver=\"liblinear\"))]),\n",
    "    {\"count__stop_words\": [\"english\", None],\n",
    "     \"scaler__with_std\" : [True, False],\n",
    "    \"regresja__penalty\": [\"l1\", \"l2\"],\n",
    "    \"regresja__C\": [0.01, 0.1, 1, 10, 100]}),\n",
    "    \n",
    "    (Pipeline([(\"count\", CountVectorizer()), (\"drzewo\", DecisionTreeClassifier())]),\n",
    "    {\"drzewo__criterion\": [\"gini\", \"entropy\"],\n",
    "    \"drzewo__max_depth\": [2, 5, 10, 15, None]}),\n",
    "    \n",
    "    (Pipeline([(\"count\", CountVectorizer(stop_words=\"english\")),(\"bayes\", MultinomialNB())]),\n",
    "    {\"bayes__alpha\": [0.3, 0.5, 0.8],\n",
    "    \"bayes__fit_prior\": [True, False]})\n",
    ")"
   ]
  }
 ],
 "metadata": {
  "kernelspec": {
   "display_name": "Python 3",
   "language": "python",
   "name": "python3"
  },
  "language_info": {
   "codemirror_mode": {
    "name": "ipython",
    "version": 3
   },
   "file_extension": ".py",
   "mimetype": "text/x-python",
   "name": "python",
   "nbconvert_exporter": "python",
   "pygments_lexer": "ipython3",
   "version": "3.7.4"
  }
 },
 "nbformat": 4,
 "nbformat_minor": 2
}

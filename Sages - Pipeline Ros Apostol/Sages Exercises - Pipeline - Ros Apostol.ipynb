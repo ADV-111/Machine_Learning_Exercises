{
 "cells": [
  {
   "cell_type": "markdown",
   "metadata": {},
   "source": [
    "### Environment Set Up"
   ]
  },
  {
   "cell_type": "code",
   "execution_count": 35,
   "metadata": {},
   "outputs": [],
   "source": [
    "# data manipulation\n",
    "import pandas as pd\n",
    "import numpy as np\n",
    "\n",
    "# data visualization\n",
    "import seaborn as sns\n",
    "import matplotlib.pyplot as plt\n",
    "\n",
    "# pipeline construction\n",
    "from sklearn.pipeline import FeatureUnion, Pipeline\n",
    "from sklearn.base import BaseEstimator, TransformerMixin\n",
    "from sklearn.compose import ColumnTransformer\n",
    "from sklearn.decomposition import PCA\n",
    "\n",
    "\n",
    "# data processing\n",
    "from sklearn.impute import SimpleImputer\n",
    "from sklearn.preprocessing import MinMaxScaler, StandardScaler\n",
    "from sklearn.preprocessing import OneHotEncoder\n",
    "\n",
    "# models trainng\n",
    "from sklearn.model_selection import train_test_split, GridSearchCV\n",
    "from sklearn.linear_model import LogisticRegression\n",
    "\n",
    "# models validation\n",
    "from sklearn.metrics import accuracy_score, precision_score, recall_score, f1_score\n",
    "\n",
    "# remove annoying warnings\n",
    "import warnings\n",
    "warnings.filterwarnings('ignore')"
   ]
  },
  {
   "cell_type": "code",
   "execution_count": 2,
   "metadata": {},
   "outputs": [
    {
     "data": {
      "text/html": [
       "<div>\n",
       "<style scoped>\n",
       "    .dataframe tbody tr th:only-of-type {\n",
       "        vertical-align: middle;\n",
       "    }\n",
       "\n",
       "    .dataframe tbody tr th {\n",
       "        vertical-align: top;\n",
       "    }\n",
       "\n",
       "    .dataframe thead th {\n",
       "        text-align: right;\n",
       "    }\n",
       "</style>\n",
       "<table border=\"1\" class=\"dataframe\">\n",
       "  <thead>\n",
       "    <tr style=\"text-align: right;\">\n",
       "      <th></th>\n",
       "      <th>survived</th>\n",
       "      <th>pclass</th>\n",
       "      <th>sex</th>\n",
       "      <th>age</th>\n",
       "      <th>sibsp</th>\n",
       "      <th>parch</th>\n",
       "      <th>fare</th>\n",
       "      <th>embarked</th>\n",
       "      <th>class</th>\n",
       "      <th>who</th>\n",
       "      <th>adult_male</th>\n",
       "      <th>deck</th>\n",
       "      <th>embark_town</th>\n",
       "      <th>alive</th>\n",
       "      <th>alone</th>\n",
       "    </tr>\n",
       "  </thead>\n",
       "  <tbody>\n",
       "    <tr>\n",
       "      <th>0</th>\n",
       "      <td>0</td>\n",
       "      <td>3</td>\n",
       "      <td>male</td>\n",
       "      <td>22.0</td>\n",
       "      <td>1</td>\n",
       "      <td>0</td>\n",
       "      <td>7.2500</td>\n",
       "      <td>S</td>\n",
       "      <td>Third</td>\n",
       "      <td>man</td>\n",
       "      <td>True</td>\n",
       "      <td>NaN</td>\n",
       "      <td>Southampton</td>\n",
       "      <td>no</td>\n",
       "      <td>False</td>\n",
       "    </tr>\n",
       "    <tr>\n",
       "      <th>1</th>\n",
       "      <td>1</td>\n",
       "      <td>1</td>\n",
       "      <td>female</td>\n",
       "      <td>38.0</td>\n",
       "      <td>1</td>\n",
       "      <td>0</td>\n",
       "      <td>71.2833</td>\n",
       "      <td>C</td>\n",
       "      <td>First</td>\n",
       "      <td>woman</td>\n",
       "      <td>False</td>\n",
       "      <td>C</td>\n",
       "      <td>Cherbourg</td>\n",
       "      <td>yes</td>\n",
       "      <td>False</td>\n",
       "    </tr>\n",
       "    <tr>\n",
       "      <th>2</th>\n",
       "      <td>1</td>\n",
       "      <td>3</td>\n",
       "      <td>female</td>\n",
       "      <td>26.0</td>\n",
       "      <td>0</td>\n",
       "      <td>0</td>\n",
       "      <td>7.9250</td>\n",
       "      <td>S</td>\n",
       "      <td>Third</td>\n",
       "      <td>woman</td>\n",
       "      <td>False</td>\n",
       "      <td>NaN</td>\n",
       "      <td>Southampton</td>\n",
       "      <td>yes</td>\n",
       "      <td>True</td>\n",
       "    </tr>\n",
       "    <tr>\n",
       "      <th>3</th>\n",
       "      <td>1</td>\n",
       "      <td>1</td>\n",
       "      <td>female</td>\n",
       "      <td>35.0</td>\n",
       "      <td>1</td>\n",
       "      <td>0</td>\n",
       "      <td>53.1000</td>\n",
       "      <td>S</td>\n",
       "      <td>First</td>\n",
       "      <td>woman</td>\n",
       "      <td>False</td>\n",
       "      <td>C</td>\n",
       "      <td>Southampton</td>\n",
       "      <td>yes</td>\n",
       "      <td>False</td>\n",
       "    </tr>\n",
       "    <tr>\n",
       "      <th>4</th>\n",
       "      <td>0</td>\n",
       "      <td>3</td>\n",
       "      <td>male</td>\n",
       "      <td>35.0</td>\n",
       "      <td>0</td>\n",
       "      <td>0</td>\n",
       "      <td>8.0500</td>\n",
       "      <td>S</td>\n",
       "      <td>Third</td>\n",
       "      <td>man</td>\n",
       "      <td>True</td>\n",
       "      <td>NaN</td>\n",
       "      <td>Southampton</td>\n",
       "      <td>no</td>\n",
       "      <td>True</td>\n",
       "    </tr>\n",
       "  </tbody>\n",
       "</table>\n",
       "</div>"
      ],
      "text/plain": [
       "   survived  pclass     sex   age  sibsp  parch     fare embarked  class  \\\n",
       "0         0       3    male  22.0      1      0   7.2500        S  Third   \n",
       "1         1       1  female  38.0      1      0  71.2833        C  First   \n",
       "2         1       3  female  26.0      0      0   7.9250        S  Third   \n",
       "3         1       1  female  35.0      1      0  53.1000        S  First   \n",
       "4         0       3    male  35.0      0      0   8.0500        S  Third   \n",
       "\n",
       "     who  adult_male deck  embark_town alive  alone  \n",
       "0    man        True  NaN  Southampton    no  False  \n",
       "1  woman       False    C    Cherbourg   yes  False  \n",
       "2  woman       False  NaN  Southampton   yes   True  \n",
       "3  woman       False    C  Southampton   yes  False  \n",
       "4    man        True  NaN  Southampton    no   True  "
      ]
     },
     "execution_count": 2,
     "metadata": {},
     "output_type": "execute_result"
    }
   ],
   "source": [
    "df_raw = sns.load_dataset('titanic')\n",
    "df_raw.head()"
   ]
  },
  {
   "cell_type": "code",
   "execution_count": 3,
   "metadata": {},
   "outputs": [
    {
     "data": {
      "text/html": [
       "<div>\n",
       "<style scoped>\n",
       "    .dataframe tbody tr th:only-of-type {\n",
       "        vertical-align: middle;\n",
       "    }\n",
       "\n",
       "    .dataframe tbody tr th {\n",
       "        vertical-align: top;\n",
       "    }\n",
       "\n",
       "    .dataframe thead th {\n",
       "        text-align: right;\n",
       "    }\n",
       "</style>\n",
       "<table border=\"1\" class=\"dataframe\">\n",
       "  <thead>\n",
       "    <tr style=\"text-align: right;\">\n",
       "      <th></th>\n",
       "      <th>survived</th>\n",
       "      <th>pclass</th>\n",
       "      <th>sex</th>\n",
       "      <th>age</th>\n",
       "      <th>sibsp</th>\n",
       "      <th>parch</th>\n",
       "      <th>fare</th>\n",
       "      <th>embarked</th>\n",
       "      <th>class</th>\n",
       "      <th>who</th>\n",
       "      <th>adult_male</th>\n",
       "      <th>deck</th>\n",
       "      <th>embark_town</th>\n",
       "      <th>alive</th>\n",
       "      <th>alone</th>\n",
       "    </tr>\n",
       "  </thead>\n",
       "  <tbody>\n",
       "    <tr>\n",
       "      <th>0</th>\n",
       "      <td>0</td>\n",
       "      <td>3</td>\n",
       "      <td>male</td>\n",
       "      <td>51.0</td>\n",
       "      <td>0</td>\n",
       "      <td>0</td>\n",
       "      <td>7.7500</td>\n",
       "      <td>S</td>\n",
       "      <td>Third</td>\n",
       "      <td>man</td>\n",
       "      <td>True</td>\n",
       "      <td>NaN</td>\n",
       "      <td>Southampton</td>\n",
       "      <td>no</td>\n",
       "      <td>True</td>\n",
       "    </tr>\n",
       "    <tr>\n",
       "      <th>1</th>\n",
       "      <td>0</td>\n",
       "      <td>3</td>\n",
       "      <td>female</td>\n",
       "      <td>NaN</td>\n",
       "      <td>3</td>\n",
       "      <td>1</td>\n",
       "      <td>25.4667</td>\n",
       "      <td>S</td>\n",
       "      <td>Third</td>\n",
       "      <td>woman</td>\n",
       "      <td>False</td>\n",
       "      <td>NaN</td>\n",
       "      <td>Southampton</td>\n",
       "      <td>no</td>\n",
       "      <td>False</td>\n",
       "    </tr>\n",
       "    <tr>\n",
       "      <th>2</th>\n",
       "      <td>1</td>\n",
       "      <td>2</td>\n",
       "      <td>female</td>\n",
       "      <td>50.0</td>\n",
       "      <td>0</td>\n",
       "      <td>1</td>\n",
       "      <td>26.0000</td>\n",
       "      <td>S</td>\n",
       "      <td>Second</td>\n",
       "      <td>woman</td>\n",
       "      <td>False</td>\n",
       "      <td>NaN</td>\n",
       "      <td>Southampton</td>\n",
       "      <td>yes</td>\n",
       "      <td>False</td>\n",
       "    </tr>\n",
       "    <tr>\n",
       "      <th>3</th>\n",
       "      <td>0</td>\n",
       "      <td>2</td>\n",
       "      <td>male</td>\n",
       "      <td>29.0</td>\n",
       "      <td>1</td>\n",
       "      <td>0</td>\n",
       "      <td>27.7208</td>\n",
       "      <td>C</td>\n",
       "      <td>Second</td>\n",
       "      <td>man</td>\n",
       "      <td>True</td>\n",
       "      <td>NaN</td>\n",
       "      <td>Cherbourg</td>\n",
       "      <td>no</td>\n",
       "      <td>False</td>\n",
       "    </tr>\n",
       "    <tr>\n",
       "      <th>4</th>\n",
       "      <td>0</td>\n",
       "      <td>3</td>\n",
       "      <td>female</td>\n",
       "      <td>8.0</td>\n",
       "      <td>3</td>\n",
       "      <td>1</td>\n",
       "      <td>21.0750</td>\n",
       "      <td>S</td>\n",
       "      <td>Third</td>\n",
       "      <td>child</td>\n",
       "      <td>False</td>\n",
       "      <td>NaN</td>\n",
       "      <td>Southampton</td>\n",
       "      <td>no</td>\n",
       "      <td>False</td>\n",
       "    </tr>\n",
       "  </tbody>\n",
       "</table>\n",
       "</div>"
      ],
      "text/plain": [
       "   survived  pclass     sex   age  sibsp  parch     fare embarked   class  \\\n",
       "0         0       3    male  51.0      0      0   7.7500        S   Third   \n",
       "1         0       3  female   NaN      3      1  25.4667        S   Third   \n",
       "2         1       2  female  50.0      0      1  26.0000        S  Second   \n",
       "3         0       2    male  29.0      1      0  27.7208        C  Second   \n",
       "4         0       3  female   8.0      3      1  21.0750        S   Third   \n",
       "\n",
       "     who  adult_male deck  embark_town alive  alone  \n",
       "0    man        True  NaN  Southampton    no   True  \n",
       "1  woman       False  NaN  Southampton    no  False  \n",
       "2  woman       False  NaN  Southampton   yes  False  \n",
       "3    man        True  NaN    Cherbourg    no  False  \n",
       "4  child       False  NaN  Southampton    no  False  "
      ]
     },
     "execution_count": 3,
     "metadata": {},
     "output_type": "execute_result"
    }
   ],
   "source": [
    "# shuffle data is a good practice\n",
    "df_raw = df_raw.sample(frac=1).reset_index(drop=True)\n",
    "df_raw.head()"
   ]
  },
  {
   "cell_type": "code",
   "execution_count": 4,
   "metadata": {},
   "outputs": [
    {
     "data": {
      "text/plain": [
       "(891, 15)"
      ]
     },
     "execution_count": 4,
     "metadata": {},
     "output_type": "execute_result"
    }
   ],
   "source": [
    "df_raw.shape"
   ]
  },
  {
   "cell_type": "code",
   "execution_count": 93,
   "metadata": {},
   "outputs": [],
   "source": [
    "#split data into training and test set\n",
    "X_train, X_test, y_train, y_test = train_test_split(df_raw.drop('survived', axis=1),\n",
    "                                                   df_raw['survived'], #target column\n",
    "                                                   test_size=0.2,\n",
    "                                                   stratify=df_raw['survived'], #dla danych niezbalansowanych - jeżeli dane są niezbalansowane czyli część danych jest częstsza niż inne to dostaniemy dane w próbce w tej samej proporcji jak w oryginalnym datasecie\n",
    "                                                   random_state=42)"
   ]
  },
  {
   "cell_type": "markdown",
   "metadata": {},
   "source": [
    "### Basic Exploratory Data Analysis"
   ]
  },
  {
   "cell_type": "code",
   "execution_count": 7,
   "metadata": {},
   "outputs": [
    {
     "name": "stdout",
     "output_type": "stream",
     "text": [
      "<class 'pandas.core.frame.DataFrame'>\n",
      "RangeIndex: 891 entries, 0 to 890\n",
      "Data columns (total 15 columns):\n",
      " #   Column       Non-Null Count  Dtype   \n",
      "---  ------       --------------  -----   \n",
      " 0   survived     891 non-null    int64   \n",
      " 1   pclass       891 non-null    int64   \n",
      " 2   sex          891 non-null    object  \n",
      " 3   age          714 non-null    float64 \n",
      " 4   sibsp        891 non-null    int64   \n",
      " 5   parch        891 non-null    int64   \n",
      " 6   fare         891 non-null    float64 \n",
      " 7   embarked     889 non-null    object  \n",
      " 8   class        891 non-null    category\n",
      " 9   who          891 non-null    object  \n",
      " 10  adult_male   891 non-null    bool    \n",
      " 11  deck         203 non-null    category\n",
      " 12  embark_town  889 non-null    object  \n",
      " 13  alive        891 non-null    object  \n",
      " 14  alone        891 non-null    bool    \n",
      "dtypes: bool(2), category(2), float64(2), int64(4), object(5)\n",
      "memory usage: 80.6+ KB\n"
     ]
    }
   ],
   "source": [
    "#column type\n",
    "df_raw.info()"
   ]
  },
  {
   "cell_type": "code",
   "execution_count": 8,
   "metadata": {},
   "outputs": [
    {
     "data": {
      "text/html": [
       "<div>\n",
       "<style scoped>\n",
       "    .dataframe tbody tr th:only-of-type {\n",
       "        vertical-align: middle;\n",
       "    }\n",
       "\n",
       "    .dataframe tbody tr th {\n",
       "        vertical-align: top;\n",
       "    }\n",
       "\n",
       "    .dataframe thead th {\n",
       "        text-align: right;\n",
       "    }\n",
       "</style>\n",
       "<table border=\"1\" class=\"dataframe\">\n",
       "  <thead>\n",
       "    <tr style=\"text-align: right;\">\n",
       "      <th></th>\n",
       "      <th>survived</th>\n",
       "      <th>pclass</th>\n",
       "      <th>age</th>\n",
       "      <th>sibsp</th>\n",
       "      <th>parch</th>\n",
       "      <th>fare</th>\n",
       "    </tr>\n",
       "  </thead>\n",
       "  <tbody>\n",
       "    <tr>\n",
       "      <th>count</th>\n",
       "      <td>891.000000</td>\n",
       "      <td>891.000000</td>\n",
       "      <td>714.000000</td>\n",
       "      <td>891.000000</td>\n",
       "      <td>891.000000</td>\n",
       "      <td>891.000000</td>\n",
       "    </tr>\n",
       "    <tr>\n",
       "      <th>mean</th>\n",
       "      <td>0.383838</td>\n",
       "      <td>2.308642</td>\n",
       "      <td>29.699118</td>\n",
       "      <td>0.523008</td>\n",
       "      <td>0.381594</td>\n",
       "      <td>32.204208</td>\n",
       "    </tr>\n",
       "    <tr>\n",
       "      <th>std</th>\n",
       "      <td>0.486592</td>\n",
       "      <td>0.836071</td>\n",
       "      <td>14.526497</td>\n",
       "      <td>1.102743</td>\n",
       "      <td>0.806057</td>\n",
       "      <td>49.693429</td>\n",
       "    </tr>\n",
       "    <tr>\n",
       "      <th>min</th>\n",
       "      <td>0.000000</td>\n",
       "      <td>1.000000</td>\n",
       "      <td>0.420000</td>\n",
       "      <td>0.000000</td>\n",
       "      <td>0.000000</td>\n",
       "      <td>0.000000</td>\n",
       "    </tr>\n",
       "    <tr>\n",
       "      <th>25%</th>\n",
       "      <td>0.000000</td>\n",
       "      <td>2.000000</td>\n",
       "      <td>20.125000</td>\n",
       "      <td>0.000000</td>\n",
       "      <td>0.000000</td>\n",
       "      <td>7.910400</td>\n",
       "    </tr>\n",
       "    <tr>\n",
       "      <th>50%</th>\n",
       "      <td>0.000000</td>\n",
       "      <td>3.000000</td>\n",
       "      <td>28.000000</td>\n",
       "      <td>0.000000</td>\n",
       "      <td>0.000000</td>\n",
       "      <td>14.454200</td>\n",
       "    </tr>\n",
       "    <tr>\n",
       "      <th>75%</th>\n",
       "      <td>1.000000</td>\n",
       "      <td>3.000000</td>\n",
       "      <td>38.000000</td>\n",
       "      <td>1.000000</td>\n",
       "      <td>0.000000</td>\n",
       "      <td>31.000000</td>\n",
       "    </tr>\n",
       "    <tr>\n",
       "      <th>max</th>\n",
       "      <td>1.000000</td>\n",
       "      <td>3.000000</td>\n",
       "      <td>80.000000</td>\n",
       "      <td>8.000000</td>\n",
       "      <td>6.000000</td>\n",
       "      <td>512.329200</td>\n",
       "    </tr>\n",
       "  </tbody>\n",
       "</table>\n",
       "</div>"
      ],
      "text/plain": [
       "         survived      pclass         age       sibsp       parch        fare\n",
       "count  891.000000  891.000000  714.000000  891.000000  891.000000  891.000000\n",
       "mean     0.383838    2.308642   29.699118    0.523008    0.381594   32.204208\n",
       "std      0.486592    0.836071   14.526497    1.102743    0.806057   49.693429\n",
       "min      0.000000    1.000000    0.420000    0.000000    0.000000    0.000000\n",
       "25%      0.000000    2.000000   20.125000    0.000000    0.000000    7.910400\n",
       "50%      0.000000    3.000000   28.000000    0.000000    0.000000   14.454200\n",
       "75%      1.000000    3.000000   38.000000    1.000000    0.000000   31.000000\n",
       "max      1.000000    3.000000   80.000000    8.000000    6.000000  512.329200"
      ]
     },
     "execution_count": 8,
     "metadata": {},
     "output_type": "execute_result"
    }
   ],
   "source": [
    "#basic statistics - describe() wyciaga tylko columny numeryczne\n",
    "df_raw.describe()"
   ]
  },
  {
   "cell_type": "markdown",
   "metadata": {},
   "source": [
    "### Unique values per column"
   ]
  },
  {
   "cell_type": "code",
   "execution_count": 9,
   "metadata": {},
   "outputs": [
    {
     "name": "stdout",
     "output_type": "stream",
     "text": [
      "survived - 2\n",
      "[0 1]\n",
      "\n",
      "pclass - 3\n",
      "[3 2 1]\n",
      "\n",
      "sex - 2\n",
      "['male' 'female']\n",
      "\n",
      "age - 89\n",
      "[51.     nan 50.   29.    8.   32.   35.   18.   38.   42.   16.   20.\n",
      " 48.   31.   37.   21.   27.   30.   19.   40.   22.   52.   45.   28.\n",
      "  0.75 54.   26.   62.   39.    2.   43.   23.   55.   11.    9.   46.\n",
      " 32.5  17.   41.   34.   28.5   0.83 63.   47.   60.   45.5  24.    3.\n",
      "  5.    4.   61.   49.   33.   56.   23.5  36.   30.5  15.    1.   40.5\n",
      " 55.5  44.   25.   36.5  20.5   7.   58.   65.   71.   57.   14.5  14.\n",
      " 53.    6.   10.    0.92 24.5  80.   34.5  59.   70.5   0.42 12.   64.\n",
      " 74.   70.   13.    0.67 66.  ]\n",
      "\n",
      "sibsp - 7\n",
      "[0 3 1 2 4 8 5]\n",
      "\n",
      "parch - 7\n",
      "[0 1 5 6 2 3 4]\n",
      "\n",
      "fare - 248\n",
      "[  7.75    25.4667  26.      27.7208  21.075   13.     146.5208  15.1\n",
      "  53.1     20.2125 512.3292   7.05     7.7333   8.6625  25.9292  10.5\n",
      "  29.7     73.5      7.2292   7.8958  86.5     14.5     15.75     7.125\n",
      "  13.5      9.5875  39.4     26.25    14.4     19.2583  51.8625  18.7875\n",
      " 227.525   31.275    8.05    46.9      7.55    16.     113.275   82.1708\n",
      "  29.125   17.8     15.5     15.85    20.525   69.55    12.475   26.55\n",
      "  79.2     30.0708  30.       7.8542 211.3375  18.75    77.9583   9.5\n",
      "  15.     262.375   39.     247.5208   8.4583   7.225    8.1375   7.7958\n",
      "  31.3875  32.3208 110.8833   7.8792  24.15     0.      23.       7.925\n",
      "  15.9     31.       7.775  221.7792  14.4583  15.05    83.1583  15.2458\n",
      "  26.2875   9.475    8.7125   7.3125 151.55    93.5     13.7917   8.4333\n",
      "   7.65    78.85   263.      30.6958   8.1125  14.4542  71.     120.\n",
      "  78.2667  76.7292  49.5042   7.25    57.      79.65    39.6875 153.4625\n",
      "  34.375   40.125   90.      71.2833  16.1     39.6      9.825   12.65\n",
      "   6.75    23.45    25.5875  77.2875  52.5542  83.475   13.8625  12.525\n",
      "   8.6833   7.8875   9.4833  11.5     38.5     12.35     9.225    6.2375\n",
      "  21.6792   7.875   17.4      8.0292  26.3875  20.25     9.35    13.8583\n",
      "  21.      55.     106.425   33.      15.0458  41.5792 135.6333  16.7\n",
      "   7.8292  30.5     36.75     7.725    7.1417  65.      22.3583  52.\n",
      "  51.4792  35.5     12.      24.     134.5     27.9     37.0042  26.2833\n",
      "  55.9     56.9292  56.4958  15.55    80.      57.9792   7.5208   5.\n",
      "   7.0458   6.975   14.1083  10.4625  61.175  133.65     9.      47.1\n",
      "   6.4375  50.4958   6.95     8.5167  69.3     11.2417  13.4167   4.0125\n",
      "  91.0792  22.025    7.4958  59.4     27.       6.4958 164.8667  23.25\n",
      "  76.2917   7.0542   9.8458   9.8417  11.1333  12.2875  34.6542  89.1042\n",
      "  14.       7.7292  19.9667  66.6      8.3625  50.     211.5     19.5\n",
      "   8.85   108.9      9.8375  12.275    7.7375  61.3792   7.6292  20.575\n",
      "  32.5     27.75    63.3583  28.5      7.8     55.4417  61.9792  81.8583\n",
      "  10.1708  10.5167   6.45     8.1583  33.5     35.      75.25    49.5\n",
      "  25.925    8.4042  28.7125  22.525   15.7417   6.8583  42.4     12.875\n",
      "   8.6542  34.0208   7.7417  18.       8.3      7.7875   9.2167  29.    ]\n",
      "\n",
      "embarked - 4\n",
      "['S' 'C' 'Q' nan]\n",
      "\n",
      "class - 3\n",
      "[Third, Second, First]\n",
      "Categories (3, object): [Third, Second, First]\n",
      "\n",
      "who - 3\n",
      "['man' 'woman' 'child']\n",
      "\n",
      "adult_male - 2\n",
      "[ True False]\n",
      "\n",
      "deck - 8\n",
      "[NaN, B, C, D, E, A, F, G]\n",
      "Categories (7, object): [B, C, D, E, A, F, G]\n",
      "\n",
      "embark_town - 4\n",
      "['Southampton' 'Cherbourg' 'Queenstown' nan]\n",
      "\n",
      "alive - 2\n",
      "['no' 'yes']\n",
      "\n",
      "alone - 2\n",
      "[ True False]\n",
      "\n"
     ]
    }
   ],
   "source": [
    "for column in df_raw:\n",
    "    print(f'{column} - {len(df_raw[column].unique())}')\n",
    "    print(df_raw[column].unique())\n",
    "    print()"
   ]
  },
  {
   "cell_type": "markdown",
   "metadata": {},
   "source": [
    "### Missing values"
   ]
  },
  {
   "cell_type": "code",
   "execution_count": 13,
   "metadata": {},
   "outputs": [
    {
     "data": {
      "text/plain": [
       "age            19.865320\n",
       "embarked        0.224467\n",
       "deck           77.216611\n",
       "embark_town     0.224467\n",
       "dtype: float64"
      ]
     },
     "execution_count": 13,
     "metadata": {},
     "output_type": "execute_result"
    }
   ],
   "source": [
    "a = df_raw.isna().mean()*100\n",
    "a[a>0]\n",
    "\n",
    "# jeżeli jest poniżej 20% to warto zostawić jeżeli powyżej to bardziej sie oplaca ja usunac"
   ]
  },
  {
   "cell_type": "code",
   "execution_count": 12,
   "metadata": {},
   "outputs": [
    {
     "data": {
      "text/plain": [
       "age            177\n",
       "embarked         2\n",
       "deck           688\n",
       "embark_town      2\n",
       "dtype: int64"
      ]
     },
     "execution_count": 12,
     "metadata": {},
     "output_type": "execute_result"
    }
   ],
   "source": [
    "a = df_raw.isna().sum()\n",
    "a[a>0]"
   ]
  },
  {
   "cell_type": "markdown",
   "metadata": {},
   "source": [
    "### Distributions"
   ]
  },
  {
   "cell_type": "code",
   "execution_count": 14,
   "metadata": {},
   "outputs": [
    {
     "data": {
      "text/plain": [
       "Index(['survived', 'pclass', 'age', 'sibsp', 'parch', 'fare'], dtype='object')"
      ]
     },
     "execution_count": 14,
     "metadata": {},
     "output_type": "execute_result"
    }
   ],
   "source": [
    "numeric_columns = df_raw.select_dtypes(include=np.number).columns\n",
    "numeric_columns"
   ]
  },
  {
   "cell_type": "code",
   "execution_count": 15,
   "metadata": {},
   "outputs": [
    {
     "data": {
      "text/plain": [
       "Index(['survived', 'pclass', 'age', 'sibsp', 'parch', 'fare'], dtype='object')"
      ]
     },
     "execution_count": 15,
     "metadata": {},
     "output_type": "execute_result"
    }
   ],
   "source": [
    "non_numeric_columns = df_raw.select_dtypes(exclude=np.number).columns\n",
    "numeric_columns"
   ]
  },
  {
   "cell_type": "markdown",
   "metadata": {},
   "source": [
    "### Numeric columns"
   ]
  },
  {
   "cell_type": "code",
   "execution_count": 17,
   "metadata": {},
   "outputs": [
    {
     "name": "stdout",
     "output_type": "stream",
     "text": [
      "Column: survived\n",
      "Unique values: 2\n"
     ]
    },
    {
     "data": {
      "image/png": "[encoded data removed]",
      "text/plain": [
       "<Figure size 432x288 with 1 Axes>"
      ]
     },
     "metadata": {
      "needs_background": "light"
     },
     "output_type": "display_data"
    },
    {
     "name": "stdout",
     "output_type": "stream",
     "text": [
      "Column: pclass\n",
      "Unique values: 3\n"
     ]
    },
    {
     "data": {
      "image/png": "[encoded data removed]",
      "text/plain": [
       "<Figure size 432x288 with 1 Axes>"
      ]
     },
     "metadata": {
      "needs_background": "light"
     },
     "output_type": "display_data"
    },
    {
     "name": "stdout",
     "output_type": "stream",
     "text": [
      "Column: age\n",
      "Unique values: 89\n"
     ]
    },
    {
     "data": {
      "image/png": "[encoded data removed]",
      "text/plain": [
       "<Figure size 432x288 with 1 Axes>"
      ]
     },
     "metadata": {
      "needs_background": "light"
     },
     "output_type": "display_data"
    },
    {
     "name": "stdout",
     "output_type": "stream",
     "text": [
      "Column: sibsp\n",
      "Unique values: 7\n"
     ]
    },
    {
     "data": {
      "image/png": "[encoded data removed]",
      "text/plain": [
       "<Figure size 432x288 with 1 Axes>"
      ]
     },
     "metadata": {
      "needs_background": "light"
     },
     "output_type": "display_data"
    },
    {
     "name": "stdout",
     "output_type": "stream",
     "text": [
      "Column: parch\n",
      "Unique values: 7\n"
     ]
    },
    {
     "data": {
      "image/png": "[encoded data removed]",
      "text/plain": [
       "<Figure size 432x288 with 1 Axes>"
      ]
     },
     "metadata": {
      "needs_background": "light"
     },
     "output_type": "display_data"
    },
    {
     "name": "stdout",
     "output_type": "stream",
     "text": [
      "Column: fare\n",
      "Unique values: 248\n"
     ]
    },
    {
     "data": {
      "image/png": "[encoded data removed]",
      "text/plain": [
       "<Figure size 432x288 with 1 Axes>"
      ]
     },
     "metadata": {
      "needs_background": "light"
     },
     "output_type": "display_data"
    }
   ],
   "source": [
    "for column in numeric_columns:\n",
    "    print(f'Column: {column}')\n",
    "    print(f'Unique values: {len(df_raw[column].unique())}')\n",
    "    df_raw[column].plot.hist(bins=20)\n",
    "    plt.show()"
   ]
  },
  {
   "cell_type": "code",
   "execution_count": 18,
   "metadata": {},
   "outputs": [
    {
     "data": {
      "image/png": "[encoded data removed]",
      "text/plain": [
       "<Figure size 1080x1080 with 42 Axes>"
      ]
     },
     "metadata": {
      "needs_background": "light"
     },
     "output_type": "display_data"
    }
   ],
   "source": [
    "# mututal dependencies\n",
    "df_numeric = df_raw.select_dtypes(include=np.number)\n",
    "sns.pairplot(df_numeric, kind='reg')\n",
    "plt.show()"
   ]
  },
  {
   "cell_type": "markdown",
   "metadata": {},
   "source": [
    "### Categorical columns\n"
   ]
  },
  {
   "cell_type": "code",
   "execution_count": 19,
   "metadata": {},
   "outputs": [
    {
     "name": "stdout",
     "output_type": "stream",
     "text": [
      "Column: sex\n",
      "Unique values: 2\n"
     ]
    },
    {
     "data": {
      "image/png": "[encoded data removed]",
      "text/plain": [
       "<Figure size 432x288 with 1 Axes>"
      ]
     },
     "metadata": {
      "needs_background": "light"
     },
     "output_type": "display_data"
    },
    {
     "name": "stdout",
     "output_type": "stream",
     "text": [
      "Column: embarked\n",
      "Unique values: 4\n"
     ]
    },
    {
     "data": {
      "image/png": "[encoded data removed]",
      "text/plain": [
       "<Figure size 432x288 with 1 Axes>"
      ]
     },
     "metadata": {
      "needs_background": "light"
     },
     "output_type": "display_data"
    },
    {
     "name": "stdout",
     "output_type": "stream",
     "text": [
      "Column: class\n",
      "Unique values: 3\n"
     ]
    },
    {
     "data": {
      "image/png": "[encoded data removed]",
      "text/plain": [
       "<Figure size 432x288 with 1 Axes>"
      ]
     },
     "metadata": {
      "needs_background": "light"
     },
     "output_type": "display_data"
    },
    {
     "name": "stdout",
     "output_type": "stream",
     "text": [
      "Column: who\n",
      "Unique values: 3\n"
     ]
    },
    {
     "data": {
      "image/png": "[encoded data removed]",
      "text/plain": [
       "<Figure size 432x288 with 1 Axes>"
      ]
     },
     "metadata": {
      "needs_background": "light"
     },
     "output_type": "display_data"
    },
    {
     "name": "stdout",
     "output_type": "stream",
     "text": [
      "Column: adult_male\n",
      "Unique values: 2\n"
     ]
    },
    {
     "data": {
      "image/png": "[encoded data removed]",
      "text/plain": [
       "<Figure size 432x288 with 1 Axes>"
      ]
     },
     "metadata": {
      "needs_background": "light"
     },
     "output_type": "display_data"
    },
    {
     "name": "stdout",
     "output_type": "stream",
     "text": [
      "Column: deck\n",
      "Unique values: 8\n"
     ]
    },
    {
     "data": {
      "image/png": "[encoded data removed]",
      "text/plain": [
       "<Figure size 432x288 with 1 Axes>"
      ]
     },
     "metadata": {
      "needs_background": "light"
     },
     "output_type": "display_data"
    },
    {
     "name": "stdout",
     "output_type": "stream",
     "text": [
      "Column: embark_town\n",
      "Unique values: 4\n"
     ]
    },
    {
     "data": {
      "image/png": "[encoded data removed]",
      "text/plain": [
       "<Figure size 432x288 with 1 Axes>"
      ]
     },
     "metadata": {
      "needs_background": "light"
     },
     "output_type": "display_data"
    },
    {
     "name": "stdout",
     "output_type": "stream",
     "text": [
      "Column: alive\n",
      "Unique values: 2\n"
     ]
    },
    {
     "data": {
      "image/png": "[encoded data removed]",
      "text/plain": [
       "<Figure size 432x288 with 1 Axes>"
      ]
     },
     "metadata": {
      "needs_background": "light"
     },
     "output_type": "display_data"
    },
    {
     "name": "stdout",
     "output_type": "stream",
     "text": [
      "Column: alone\n",
      "Unique values: 2\n"
     ]
    },
    {
     "data": {
      "image/png": "[encoded data removed]",
      "text/plain": [
       "<Figure size 432x288 with 1 Axes>"
      ]
     },
     "metadata": {
      "needs_background": "light"
     },
     "output_type": "display_data"
    }
   ],
   "source": [
    "for column in non_numeric_columns:\n",
    "    print(f'Column: {column}')\n",
    "    print(f'Unique values: {len(df_raw[column].unique())}')\n",
    "    df_raw[column].value_counts().plot.bar()\n",
    "    plt.show()"
   ]
  },
  {
   "cell_type": "code",
   "execution_count": 21,
   "metadata": {},
   "outputs": [
    {
     "data": {
      "text/html": [
       "<div>\n",
       "<style scoped>\n",
       "    .dataframe tbody tr th:only-of-type {\n",
       "        vertical-align: middle;\n",
       "    }\n",
       "\n",
       "    .dataframe tbody tr th {\n",
       "        vertical-align: top;\n",
       "    }\n",
       "\n",
       "    .dataframe thead th {\n",
       "        text-align: right;\n",
       "    }\n",
       "</style>\n",
       "<table border=\"1\" class=\"dataframe\">\n",
       "  <thead>\n",
       "    <tr style=\"text-align: right;\">\n",
       "      <th></th>\n",
       "      <th>survived</th>\n",
       "      <th>pclass</th>\n",
       "      <th>sex</th>\n",
       "      <th>age</th>\n",
       "      <th>sibsp</th>\n",
       "      <th>parch</th>\n",
       "      <th>fare</th>\n",
       "      <th>embarked</th>\n",
       "      <th>class</th>\n",
       "      <th>who</th>\n",
       "      <th>adult_male</th>\n",
       "      <th>deck</th>\n",
       "      <th>embark_town</th>\n",
       "      <th>alive</th>\n",
       "      <th>alone</th>\n",
       "    </tr>\n",
       "  </thead>\n",
       "  <tbody>\n",
       "    <tr>\n",
       "      <th>0</th>\n",
       "      <td>0</td>\n",
       "      <td>3</td>\n",
       "      <td>male</td>\n",
       "      <td>51.0</td>\n",
       "      <td>0</td>\n",
       "      <td>0</td>\n",
       "      <td>7.7500</td>\n",
       "      <td>S</td>\n",
       "      <td>Third</td>\n",
       "      <td>man</td>\n",
       "      <td>True</td>\n",
       "      <td>NaN</td>\n",
       "      <td>Southampton</td>\n",
       "      <td>no</td>\n",
       "      <td>True</td>\n",
       "    </tr>\n",
       "    <tr>\n",
       "      <th>1</th>\n",
       "      <td>0</td>\n",
       "      <td>3</td>\n",
       "      <td>female</td>\n",
       "      <td>NaN</td>\n",
       "      <td>3</td>\n",
       "      <td>1</td>\n",
       "      <td>25.4667</td>\n",
       "      <td>S</td>\n",
       "      <td>Third</td>\n",
       "      <td>woman</td>\n",
       "      <td>False</td>\n",
       "      <td>NaN</td>\n",
       "      <td>Southampton</td>\n",
       "      <td>no</td>\n",
       "      <td>False</td>\n",
       "    </tr>\n",
       "  </tbody>\n",
       "</table>\n",
       "</div>"
      ],
      "text/plain": [
       "   survived  pclass     sex   age  sibsp  parch     fare embarked  class  \\\n",
       "0         0       3    male  51.0      0      0   7.7500        S  Third   \n",
       "1         0       3  female   NaN      3      1  25.4667        S  Third   \n",
       "\n",
       "     who  adult_male deck  embark_town alive  alone  \n",
       "0    man        True  NaN  Southampton    no   True  \n",
       "1  woman       False  NaN  Southampton    no  False  "
      ]
     },
     "execution_count": 21,
     "metadata": {},
     "output_type": "execute_result"
    }
   ],
   "source": [
    "df_raw.head(2)"
   ]
  },
  {
   "cell_type": "markdown",
   "metadata": {},
   "source": [
    "### Conclusions\n",
    "* there are duplicated columns - survived and alive, pclass and class, embark and embark town: **to be removed**\n",
    "* there are columns with too many missing values: 'deck. 'Age can be kept and imputed\n",
    "* numeric columns are skewed. For linear algorithms it ca be a problem. Log or Yeo Jonson transformation may help\n",
    "* binary column 'alone' should be truned to 0-1\n",
    "* categorical columns should be encoded using one - hot encoding\n",
    "\n",
    "#### Consider:\n",
    "* 'who' can be truned to 'adult' and 'child' => 'adult_male' can be then removed as a reduntant one\n",
    "* on to remove 'deck' with new category e.g. 'Missing'\n",
    "* create new features (multiplication of class and sex; multiplication of sex and age)"
   ]
  },
  {
   "cell_type": "markdown",
   "metadata": {},
   "source": [
    "## Simplest Pipeline"
   ]
  },
  {
   "cell_type": "code",
   "execution_count": 22,
   "metadata": {},
   "outputs": [
    {
     "data": {
      "text/plain": [
       "array([0, 0, 0, 0, 0])"
      ]
     },
     "execution_count": 22,
     "metadata": {},
     "output_type": "execute_result"
    }
   ],
   "source": [
    "# data\n",
    "X_1 = pd.DataFrame(df_raw['pclass']) # dlatego dataframe bo na Series nie da się trenować\n",
    "y_1 = df_raw['survived']\n",
    "\n",
    "# steps of the pipeline\n",
    "\n",
    "steps = [\n",
    "    ('scaler', MinMaxScaler()), # pierszy element krotki to dowolna własna nazwa - 'scaler' bo sobie będę skalował\n",
    "    # if the pipeline has the model, it MUST be the last step\n",
    "    ('model', LogisticRegression())\n",
    "    \n",
    "    # however, the pipeline can be only for features transforming, not for prediction\n",
    "]\n",
    "\n",
    "# pipeline definition\n",
    "pipeline_1 = Pipeline(steps=steps)\n",
    "\n",
    "#pipeline training / fitting\n",
    "pipeline_1.fit(X_1, y_1)\n",
    "\n",
    "preds = pipeline_1.predict(X_1)\n",
    "preds[:5]"
   ]
  },
  {
   "cell_type": "code",
   "execution_count": 23,
   "metadata": {},
   "outputs": [
    {
     "data": {
      "text/plain": [
       "0.6790123456790124"
      ]
     },
     "execution_count": 23,
     "metadata": {},
     "output_type": "execute_result"
    }
   ],
   "source": [
    "# pipeline evaluation\n",
    "pipeline_1.score(X_1, y_1)"
   ]
  },
  {
   "cell_type": "code",
   "execution_count": 24,
   "metadata": {},
   "outputs": [
    {
     "data": {
      "text/plain": [
       "{'memory': None,\n",
       " 'steps': [('scaler', MinMaxScaler()), ('model', LogisticRegression())],\n",
       " 'verbose': False,\n",
       " 'scaler': MinMaxScaler(),\n",
       " 'model': LogisticRegression(),\n",
       " 'scaler__copy': True,\n",
       " 'scaler__feature_range': (0, 1),\n",
       " 'model__C': 1.0,\n",
       " 'model__class_weight': None,\n",
       " 'model__dual': False,\n",
       " 'model__fit_intercept': True,\n",
       " 'model__intercept_scaling': 1,\n",
       " 'model__l1_ratio': None,\n",
       " 'model__max_iter': 100,\n",
       " 'model__multi_class': 'auto',\n",
       " 'model__n_jobs': None,\n",
       " 'model__penalty': 'l2',\n",
       " 'model__random_state': None,\n",
       " 'model__solver': 'lbfgs',\n",
       " 'model__tol': 0.0001,\n",
       " 'model__verbose': 0,\n",
       " 'model__warm_start': False}"
      ]
     },
     "execution_count": 24,
     "metadata": {},
     "output_type": "execute_result"
    }
   ],
   "source": [
    "pipeline_1.get_params() # dostajemy się do wszystkich paramteerów jakie mamay w pipeline"
   ]
  },
  {
   "cell_type": "code",
   "execution_count": 25,
   "metadata": {},
   "outputs": [
    {
     "data": {
      "text/plain": [
       "{'scaler': MinMaxScaler(), 'model': LogisticRegression()}"
      ]
     },
     "execution_count": 25,
     "metadata": {},
     "output_type": "execute_result"
    }
   ],
   "source": [
    "pipeline_1.named_steps"
   ]
  },
  {
   "cell_type": "code",
   "execution_count": 26,
   "metadata": {},
   "outputs": [
    {
     "data": {
      "text/plain": [
       "MinMaxScaler()"
      ]
     },
     "execution_count": 26,
     "metadata": {},
     "output_type": "execute_result"
    }
   ],
   "source": [
    "pipeline_1.named_steps['scaler']"
   ]
  },
  {
   "cell_type": "code",
   "execution_count": 27,
   "metadata": {},
   "outputs": [
    {
     "data": {
      "text/plain": [
       "[('scaler', MinMaxScaler()), ('model', LogisticRegression())]"
      ]
     },
     "execution_count": 27,
     "metadata": {},
     "output_type": "execute_result"
    }
   ],
   "source": [
    "pipeline_1.steps"
   ]
  },
  {
   "cell_type": "markdown",
   "metadata": {},
   "source": [
    "# Task 1 - data transformation\n",
    "\n",
    "* as a features, take class and fare\n",
    "* Add Standard Scaler\n",
    "* Add PCA step to the pipeline with the only component\n",
    "* Show transformed features\n",
    "\n",
    "# Task 2 - prediction\n",
    "\n",
    "* as a features, take class and fare\n",
    "* add Standard Scaler\n",
    "* add PCA step to the pipeline with the only component\n",
    "* add the estimator at the end of the pipeline\n",
    "* Evaluate the model"
   ]
  },
  {
   "cell_type": "code",
   "execution_count": 43,
   "metadata": {},
   "outputs": [
    {
     "data": {
      "text/plain": [
       "array([[-0.93320776],\n",
       "       [-0.68096848],\n",
       "       [ 0.17284876],\n",
       "       [ 0.19734843],\n",
       "       [-0.74349475]])"
      ]
     },
     "execution_count": 43,
     "metadata": {},
     "output_type": "execute_result"
    }
   ],
   "source": [
    "# data transforation\n",
    "from sklearn.decomposition import PCA\n",
    "\n",
    "X_2 = df_raw[['pclass', 'fare']] # dlatego dataframe bo na Series nie da się trenować\n",
    "y_2 = df_raw['survived']\n",
    "\n",
    "# steps of the pipeline\n",
    "\n",
    "steps = [\n",
    "    ('scaler', StandardScaler()), # pierszy element krotki to dowolna własna nazwa - 'scaler' bo sobie będę skalował\n",
    "    # if the pipeline has the model, it MUST be the last step\n",
    "    ('pca', PCA(1)),\n",
    "\n",
    "    \n",
    "    # however, the pipeline can be only for features transforming, not for prediction\n",
    "]\n",
    "\n",
    "# pipeline definition\n",
    "pipeline_2 = Pipeline(steps=steps)\n",
    "\n",
    "#pipeline training / fitting\n",
    "pipeline_2.fit(X_2, y_2)\n",
    "pipeline_2.transform(X_2)[:5]\n"
   ]
  },
  {
   "cell_type": "code",
   "execution_count": 44,
   "metadata": {},
   "outputs": [
    {
     "data": {
      "text/plain": [
       "-2.6581455440316315"
      ]
     },
     "execution_count": 44,
     "metadata": {},
     "output_type": "execute_result"
    }
   ],
   "source": [
    "# prediction\n",
    "step = [\n",
    "    ('scaler', StandardScaler),\n",
    "    ('pca', PCA(1)),\n",
    "    ('model', LogisticRegression())\n",
    "]\n",
    "\n",
    "pipeline_2= Pipeline(steps=steps)\n",
    "pipeline_2.fit(X_2, y_2)\n",
    "\n",
    "pipeline_2.score(X_2, y_2)"
   ]
  },
  {
   "cell_type": "markdown",
   "metadata": {},
   "source": [
    "## Custom Transformers\n",
    "* allows to implement any logic on features\n",
    "* can be included as a step into the pipeline\n",
    "\n",
    "### Transformer for removing columns from the dataset\n",
    "* no fit method implementation"
   ]
  },
  {
   "cell_type": "code",
   "execution_count": 45,
   "metadata": {},
   "outputs": [],
   "source": [
    "# transformer mus be defined as a class\n",
    "# implementing two methods: fit and transform\n",
    "\n",
    "class RemoveColumnsTransformer(BaseEstimator, TransformerMixin):\n",
    "    def __init__(self, columns_to_remove: list):\n",
    "        self.columns_to_remove = columns_to_remove\n",
    "        \n",
    "    # even if nothing to fit, this method must return self\n",
    "    def fit(self, X, y = None):\n",
    "        return self\n",
    "    \n",
    "    def transform(self, X, y = None):\n",
    "        return X.drop(self.columns_to_remove, axis=1)"
   ]
  },
  {
   "cell_type": "code",
   "execution_count": 47,
   "metadata": {},
   "outputs": [
    {
     "data": {
      "text/html": [
       "<div>\n",
       "<style scoped>\n",
       "    .dataframe tbody tr th:only-of-type {\n",
       "        vertical-align: middle;\n",
       "    }\n",
       "\n",
       "    .dataframe tbody tr th {\n",
       "        vertical-align: top;\n",
       "    }\n",
       "\n",
       "    .dataframe thead th {\n",
       "        text-align: right;\n",
       "    }\n",
       "</style>\n",
       "<table border=\"1\" class=\"dataframe\">\n",
       "  <thead>\n",
       "    <tr style=\"text-align: right;\">\n",
       "      <th></th>\n",
       "      <th>pclass</th>\n",
       "    </tr>\n",
       "  </thead>\n",
       "  <tbody>\n",
       "    <tr>\n",
       "      <th>0</th>\n",
       "      <td>3</td>\n",
       "    </tr>\n",
       "    <tr>\n",
       "      <th>1</th>\n",
       "      <td>3</td>\n",
       "    </tr>\n",
       "    <tr>\n",
       "      <th>2</th>\n",
       "      <td>2</td>\n",
       "    </tr>\n",
       "    <tr>\n",
       "      <th>3</th>\n",
       "      <td>2</td>\n",
       "    </tr>\n",
       "    <tr>\n",
       "      <th>4</th>\n",
       "      <td>3</td>\n",
       "    </tr>\n",
       "  </tbody>\n",
       "</table>\n",
       "</div>"
      ],
      "text/plain": [
       "   pclass\n",
       "0       3\n",
       "1       3\n",
       "2       2\n",
       "3       2\n",
       "4       3"
      ]
     },
     "execution_count": 47,
     "metadata": {},
     "output_type": "execute_result"
    }
   ],
   "source": [
    "# define test dataset\n",
    "X_2 = df_raw[['pclass', 'fare']]\n",
    "\n",
    "# initialize the transformer\n",
    "rc = RemoveColumnsTransformer(columns_to_remove=['fare'])\n",
    "\n",
    "# fit and transform transformer\n",
    "rc.fit(X_2)\n",
    "transformed_df = rc.transform(X_2)\n",
    "transformed_df.head()"
   ]
  },
  {
   "cell_type": "markdown",
   "metadata": {},
   "source": [
    "### Task 3\n",
    "* create custom transformer SelectColumnsTransformer which can select spefied columns from the dataset\n",
    "* return pclass and fare"
   ]
  },
  {
   "cell_type": "code",
   "execution_count": 48,
   "metadata": {},
   "outputs": [],
   "source": [
    "class SelectColumnsTransformer(BaseEstimator, TransformerMixin):\n",
    "    def __init__(self, columns_to_select: list):\n",
    "        self.columns_to_select = columns_to_select\n",
    "        \n",
    "    # even if nothing to fit, this method must return self\n",
    "    def fit(self, X, y = None):\n",
    "        return self\n",
    "    \n",
    "    def transform(self, X, y = None):\n",
    "        return X[self.columns_to_select]"
   ]
  },
  {
   "cell_type": "code",
   "execution_count": 49,
   "metadata": {},
   "outputs": [
    {
     "data": {
      "text/html": [
       "<div>\n",
       "<style scoped>\n",
       "    .dataframe tbody tr th:only-of-type {\n",
       "        vertical-align: middle;\n",
       "    }\n",
       "\n",
       "    .dataframe tbody tr th {\n",
       "        vertical-align: top;\n",
       "    }\n",
       "\n",
       "    .dataframe thead th {\n",
       "        text-align: right;\n",
       "    }\n",
       "</style>\n",
       "<table border=\"1\" class=\"dataframe\">\n",
       "  <thead>\n",
       "    <tr style=\"text-align: right;\">\n",
       "      <th></th>\n",
       "      <th>pclass</th>\n",
       "      <th>fare</th>\n",
       "    </tr>\n",
       "  </thead>\n",
       "  <tbody>\n",
       "    <tr>\n",
       "      <th>0</th>\n",
       "      <td>3</td>\n",
       "      <td>7.7500</td>\n",
       "    </tr>\n",
       "    <tr>\n",
       "      <th>1</th>\n",
       "      <td>3</td>\n",
       "      <td>25.4667</td>\n",
       "    </tr>\n",
       "    <tr>\n",
       "      <th>2</th>\n",
       "      <td>2</td>\n",
       "      <td>26.0000</td>\n",
       "    </tr>\n",
       "    <tr>\n",
       "      <th>3</th>\n",
       "      <td>2</td>\n",
       "      <td>27.7208</td>\n",
       "    </tr>\n",
       "    <tr>\n",
       "      <th>4</th>\n",
       "      <td>3</td>\n",
       "      <td>21.0750</td>\n",
       "    </tr>\n",
       "  </tbody>\n",
       "</table>\n",
       "</div>"
      ],
      "text/plain": [
       "   pclass     fare\n",
       "0       3   7.7500\n",
       "1       3  25.4667\n",
       "2       2  26.0000\n",
       "3       2  27.7208\n",
       "4       3  21.0750"
      ]
     },
     "execution_count": 49,
     "metadata": {},
     "output_type": "execute_result"
    }
   ],
   "source": [
    "X_3 = df_raw\n",
    "sc = SelectColumnsTransformer(columns_to_select=['pclass', 'fare'])\n",
    "\n",
    "sc.fit(X_3)\n",
    "transformed_df = sc.transform(X_3)\n",
    "transformed_df.head()"
   ]
  },
  {
   "cell_type": "markdown",
   "metadata": {},
   "source": [
    "### Task 3.1\n",
    "* create transformer SelectColumnsByTypeTransformer which can select columns by type - 'numeric' or 'object'"
   ]
  },
  {
   "cell_type": "code",
   "execution_count": 57,
   "metadata": {},
   "outputs": [],
   "source": [
    "class SelectColumnsByTypeTransformer(BaseEstimator, TransformerMixin):\n",
    "    def __init__(self, type_to_select):\n",
    "        self.type_to_select = type_to_select\n",
    "        \n",
    "    # even if nothing to fit, this method must return self\n",
    "    def fit(self, X, y = None):\n",
    "        return self\n",
    "    \n",
    "    def transform(self, X, y = None):\n",
    "        if self.type_to_select == 'numeric':\n",
    "            return X.select_dtypes(include = np.number)\n",
    "        else:\n",
    "            return X.select_dtypes(exclude=np.number)"
   ]
  },
  {
   "cell_type": "code",
   "execution_count": 59,
   "metadata": {},
   "outputs": [
    {
     "data": {
      "text/html": [
       "<div>\n",
       "<style scoped>\n",
       "    .dataframe tbody tr th:only-of-type {\n",
       "        vertical-align: middle;\n",
       "    }\n",
       "\n",
       "    .dataframe tbody tr th {\n",
       "        vertical-align: top;\n",
       "    }\n",
       "\n",
       "    .dataframe thead th {\n",
       "        text-align: right;\n",
       "    }\n",
       "</style>\n",
       "<table border=\"1\" class=\"dataframe\">\n",
       "  <thead>\n",
       "    <tr style=\"text-align: right;\">\n",
       "      <th></th>\n",
       "      <th>sex</th>\n",
       "      <th>embarked</th>\n",
       "      <th>class</th>\n",
       "      <th>who</th>\n",
       "      <th>adult_male</th>\n",
       "      <th>deck</th>\n",
       "      <th>embark_town</th>\n",
       "      <th>alive</th>\n",
       "      <th>alone</th>\n",
       "    </tr>\n",
       "  </thead>\n",
       "  <tbody>\n",
       "    <tr>\n",
       "      <th>0</th>\n",
       "      <td>male</td>\n",
       "      <td>S</td>\n",
       "      <td>Third</td>\n",
       "      <td>man</td>\n",
       "      <td>True</td>\n",
       "      <td>NaN</td>\n",
       "      <td>Southampton</td>\n",
       "      <td>no</td>\n",
       "      <td>True</td>\n",
       "    </tr>\n",
       "    <tr>\n",
       "      <th>1</th>\n",
       "      <td>female</td>\n",
       "      <td>S</td>\n",
       "      <td>Third</td>\n",
       "      <td>woman</td>\n",
       "      <td>False</td>\n",
       "      <td>NaN</td>\n",
       "      <td>Southampton</td>\n",
       "      <td>no</td>\n",
       "      <td>False</td>\n",
       "    </tr>\n",
       "    <tr>\n",
       "      <th>2</th>\n",
       "      <td>female</td>\n",
       "      <td>S</td>\n",
       "      <td>Second</td>\n",
       "      <td>woman</td>\n",
       "      <td>False</td>\n",
       "      <td>NaN</td>\n",
       "      <td>Southampton</td>\n",
       "      <td>yes</td>\n",
       "      <td>False</td>\n",
       "    </tr>\n",
       "    <tr>\n",
       "      <th>3</th>\n",
       "      <td>male</td>\n",
       "      <td>C</td>\n",
       "      <td>Second</td>\n",
       "      <td>man</td>\n",
       "      <td>True</td>\n",
       "      <td>NaN</td>\n",
       "      <td>Cherbourg</td>\n",
       "      <td>no</td>\n",
       "      <td>False</td>\n",
       "    </tr>\n",
       "    <tr>\n",
       "      <th>4</th>\n",
       "      <td>female</td>\n",
       "      <td>S</td>\n",
       "      <td>Third</td>\n",
       "      <td>child</td>\n",
       "      <td>False</td>\n",
       "      <td>NaN</td>\n",
       "      <td>Southampton</td>\n",
       "      <td>no</td>\n",
       "      <td>False</td>\n",
       "    </tr>\n",
       "  </tbody>\n",
       "</table>\n",
       "</div>"
      ],
      "text/plain": [
       "      sex embarked   class    who  adult_male deck  embark_town alive  alone\n",
       "0    male        S   Third    man        True  NaN  Southampton    no   True\n",
       "1  female        S   Third  woman       False  NaN  Southampton    no  False\n",
       "2  female        S  Second  woman       False  NaN  Southampton   yes  False\n",
       "3    male        C  Second    man        True  NaN    Cherbourg    no  False\n",
       "4  female        S   Third  child       False  NaN  Southampton    no  False"
      ]
     },
     "execution_count": 59,
     "metadata": {},
     "output_type": "execute_result"
    }
   ],
   "source": [
    "X_3 = df_raw\n",
    "sc = SelectColumnsByTypeTransformer(type_to_select='object')\n",
    "\n",
    "sc.fit(X_3)\n",
    "transformed_df = sc.transform(X_3)\n",
    "transformed_df.head()"
   ]
  },
  {
   "cell_type": "markdown",
   "metadata": {},
   "source": [
    "### Transformer for missing data imputation\n",
    "* fit method implemetation"
   ]
  },
  {
   "cell_type": "code",
   "execution_count": 60,
   "metadata": {},
   "outputs": [],
   "source": [
    "class ImputeNumColsTransformer(BaseEstimator, TransformerMixin):\n",
    "    def __init__(self, method='mean'):\n",
    "        self.method = method\n",
    "        # for keeping values to impute any specified column\n",
    "        self.impute_values = {}\n",
    "    \n",
    "    def fit(self, X, y = None):\n",
    "        if self.method == 'mean':\n",
    "            for col in X:\n",
    "                mean = X[col].mean()\n",
    "                self.impute_values[col] = mean\n",
    "        return self\n",
    "    \n",
    "    def transform(self, X, y = None):\n",
    "        for col in X:\n",
    "            value_to_impute = self.impute_values[col]\n",
    "            X[col] = X[col].fillna(value_to_impute)\n",
    "        return X"
   ]
  },
  {
   "cell_type": "code",
   "execution_count": 61,
   "metadata": {},
   "outputs": [
    {
     "data": {
      "text/plain": [
       "pclass    0.000000\n",
       "age       0.198653\n",
       "dtype: float64"
      ]
     },
     "execution_count": 61,
     "metadata": {},
     "output_type": "execute_result"
    }
   ],
   "source": [
    "# testing data with missing values\n",
    "X_4 = df_raw[['pclass', 'age']]\n",
    "X_4.isna().mean()"
   ]
  },
  {
   "cell_type": "code",
   "execution_count": 62,
   "metadata": {},
   "outputs": [
    {
     "data": {
      "text/plain": [
       "ImputeNumColsTransformer()"
      ]
     },
     "execution_count": 62,
     "metadata": {},
     "output_type": "execute_result"
    }
   ],
   "source": [
    "# fitting imputer\n",
    "imputer = ImputeNumColsTransformer()\n",
    "imputer.fit(X_4)"
   ]
  },
  {
   "cell_type": "code",
   "execution_count": 63,
   "metadata": {},
   "outputs": [
    {
     "data": {
      "text/plain": [
       "{'pclass': 2.308641975308642, 'age': 29.69911764705882}"
      ]
     },
     "execution_count": 63,
     "metadata": {},
     "output_type": "execute_result"
    }
   ],
   "source": [
    "imputer.impute_values"
   ]
  },
  {
   "cell_type": "code",
   "execution_count": 65,
   "metadata": {},
   "outputs": [
    {
     "data": {
      "text/plain": [
       "pclass    0\n",
       "age       0\n",
       "dtype: int64"
      ]
     },
     "execution_count": 65,
     "metadata": {},
     "output_type": "execute_result"
    }
   ],
   "source": [
    "# transforming columns => as a result we except no missing values in the columns\n",
    "X_4_filled = imputer.transform(X_4)\n",
    "X_4_filled.isna().sum()"
   ]
  },
  {
   "cell_type": "markdown",
   "metadata": {},
   "source": [
    "### Task 4\n",
    "* extent the ImputeNumColsTransformer so that numeric column can be imputed by **median** value"
   ]
  },
  {
   "cell_type": "code",
   "execution_count": 68,
   "metadata": {},
   "outputs": [],
   "source": [
    "class ImputeNumColsTransformer(BaseEstimator, TransformerMixin):\n",
    "    def __init__(self, method='mean'):\n",
    "        self.method = method\n",
    "        # for keeping values to impute any specified column\n",
    "        self.impute_values = {}\n",
    "    \n",
    "    def fit(self, X, y = None):\n",
    "        if self.method == 'mean':\n",
    "            for col in X:\n",
    "                mean = X[col].mean()\n",
    "                self.impute_values[col] = mean\n",
    "        elif self.method == 'median':\n",
    "            for col in X:\n",
    "                median = X[col].median()\n",
    "                self.impute_values[col] = median\n",
    "        return self\n",
    "    \n",
    "    def transform(self, X, y = None):\n",
    "        for col in X:\n",
    "            value_to_impute = self.impute_values[col]\n",
    "            X[col] = X[col].fillna(value_to_impute)\n",
    "        return X"
   ]
  },
  {
   "cell_type": "code",
   "execution_count": 70,
   "metadata": {},
   "outputs": [
    {
     "data": {
      "text/plain": [
       "pclass    0.000000\n",
       "age       0.198653\n",
       "dtype: float64"
      ]
     },
     "execution_count": 70,
     "metadata": {},
     "output_type": "execute_result"
    }
   ],
   "source": [
    "X_5 = df_raw[['pclass', 'age']]\n",
    "X_5.isna().mean()"
   ]
  },
  {
   "cell_type": "code",
   "execution_count": 71,
   "metadata": {},
   "outputs": [
    {
     "data": {
      "text/plain": [
       "{'pclass': 3.0, 'age': 28.0}"
      ]
     },
     "execution_count": 71,
     "metadata": {},
     "output_type": "execute_result"
    }
   ],
   "source": [
    "imputer = ImputeNumColsTransformer(method='median')\n",
    "imputer.fit(X_5)\n",
    "imputer.impute_values"
   ]
  },
  {
   "cell_type": "markdown",
   "metadata": {},
   "source": [
    "### Task 5\n",
    "* implement ImputeCatColsTransformer for imputing missing values for categorical columns\n",
    "* there are two options for imputing: by mode or my new category 'missing'"
   ]
  },
  {
   "cell_type": "code",
   "execution_count": 82,
   "metadata": {},
   "outputs": [],
   "source": [
    "class ImputeCatColsTransformer(BaseEstimator, TransformerMixin):\n",
    "    def __init__(self, method='mode'):\n",
    "        self.method = method\n",
    "        self.imputed_values = {}\n",
    "        \n",
    "    def fit(self, X, y=None):\n",
    "        if self.method == 'mode':\n",
    "            for col in X:\n",
    "                mode = X[col].mode()\n",
    "                self.imputed_values[col] = mode[0]\n",
    "        elif self.method == 'missing':\n",
    "            for col in X:\n",
    "                self.imputed_values[col] = 'missing'\n",
    "        return self\n",
    "    \n",
    "    def transform(self, X, y=None):\n",
    "        for col in X:\n",
    "            value_to_impute = self.imputed_values[col]\n",
    "            X[col] = X[col].astype('object')\n",
    "            X[col] = X[col].fillna(value_to_impute)\n",
    "        return X"
   ]
  },
  {
   "cell_type": "code",
   "execution_count": null,
   "metadata": {},
   "outputs": [],
   "source": []
  },
  {
   "cell_type": "code",
   "execution_count": 74,
   "metadata": {},
   "outputs": [
    {
     "data": {
      "text/plain": [
       "SelectColumnsByTypeTransformer(type_to_select='object')"
      ]
     },
     "execution_count": 74,
     "metadata": {},
     "output_type": "execute_result"
    }
   ],
   "source": []
  },
  {
   "cell_type": "code",
   "execution_count": 76,
   "metadata": {},
   "outputs": [
    {
     "data": {
      "text/html": [
       "<div>\n",
       "<style scoped>\n",
       "    .dataframe tbody tr th:only-of-type {\n",
       "        vertical-align: middle;\n",
       "    }\n",
       "\n",
       "    .dataframe tbody tr th {\n",
       "        vertical-align: top;\n",
       "    }\n",
       "\n",
       "    .dataframe thead th {\n",
       "        text-align: right;\n",
       "    }\n",
       "</style>\n",
       "<table border=\"1\" class=\"dataframe\">\n",
       "  <thead>\n",
       "    <tr style=\"text-align: right;\">\n",
       "      <th></th>\n",
       "      <th>sex</th>\n",
       "      <th>embarked</th>\n",
       "      <th>class</th>\n",
       "      <th>who</th>\n",
       "      <th>adult_male</th>\n",
       "      <th>deck</th>\n",
       "      <th>embark_town</th>\n",
       "      <th>alive</th>\n",
       "      <th>alone</th>\n",
       "    </tr>\n",
       "  </thead>\n",
       "  <tbody>\n",
       "    <tr>\n",
       "      <th>0</th>\n",
       "      <td>male</td>\n",
       "      <td>S</td>\n",
       "      <td>Third</td>\n",
       "      <td>man</td>\n",
       "      <td>True</td>\n",
       "      <td>NaN</td>\n",
       "      <td>Southampton</td>\n",
       "      <td>no</td>\n",
       "      <td>True</td>\n",
       "    </tr>\n",
       "    <tr>\n",
       "      <th>1</th>\n",
       "      <td>female</td>\n",
       "      <td>S</td>\n",
       "      <td>Third</td>\n",
       "      <td>woman</td>\n",
       "      <td>False</td>\n",
       "      <td>NaN</td>\n",
       "      <td>Southampton</td>\n",
       "      <td>no</td>\n",
       "      <td>False</td>\n",
       "    </tr>\n",
       "    <tr>\n",
       "      <th>2</th>\n",
       "      <td>female</td>\n",
       "      <td>S</td>\n",
       "      <td>Second</td>\n",
       "      <td>woman</td>\n",
       "      <td>False</td>\n",
       "      <td>NaN</td>\n",
       "      <td>Southampton</td>\n",
       "      <td>yes</td>\n",
       "      <td>False</td>\n",
       "    </tr>\n",
       "    <tr>\n",
       "      <th>3</th>\n",
       "      <td>male</td>\n",
       "      <td>C</td>\n",
       "      <td>Second</td>\n",
       "      <td>man</td>\n",
       "      <td>True</td>\n",
       "      <td>NaN</td>\n",
       "      <td>Cherbourg</td>\n",
       "      <td>no</td>\n",
       "      <td>False</td>\n",
       "    </tr>\n",
       "    <tr>\n",
       "      <th>4</th>\n",
       "      <td>female</td>\n",
       "      <td>S</td>\n",
       "      <td>Third</td>\n",
       "      <td>child</td>\n",
       "      <td>False</td>\n",
       "      <td>NaN</td>\n",
       "      <td>Southampton</td>\n",
       "      <td>no</td>\n",
       "      <td>False</td>\n",
       "    </tr>\n",
       "    <tr>\n",
       "      <th>...</th>\n",
       "      <td>...</td>\n",
       "      <td>...</td>\n",
       "      <td>...</td>\n",
       "      <td>...</td>\n",
       "      <td>...</td>\n",
       "      <td>...</td>\n",
       "      <td>...</td>\n",
       "      <td>...</td>\n",
       "      <td>...</td>\n",
       "    </tr>\n",
       "    <tr>\n",
       "      <th>886</th>\n",
       "      <td>male</td>\n",
       "      <td>S</td>\n",
       "      <td>First</td>\n",
       "      <td>man</td>\n",
       "      <td>True</td>\n",
       "      <td>C</td>\n",
       "      <td>Southampton</td>\n",
       "      <td>yes</td>\n",
       "      <td>True</td>\n",
       "    </tr>\n",
       "    <tr>\n",
       "      <th>887</th>\n",
       "      <td>male</td>\n",
       "      <td>C</td>\n",
       "      <td>First</td>\n",
       "      <td>man</td>\n",
       "      <td>True</td>\n",
       "      <td>A</td>\n",
       "      <td>Cherbourg</td>\n",
       "      <td>yes</td>\n",
       "      <td>False</td>\n",
       "    </tr>\n",
       "    <tr>\n",
       "      <th>888</th>\n",
       "      <td>female</td>\n",
       "      <td>S</td>\n",
       "      <td>Third</td>\n",
       "      <td>child</td>\n",
       "      <td>False</td>\n",
       "      <td>NaN</td>\n",
       "      <td>Southampton</td>\n",
       "      <td>no</td>\n",
       "      <td>False</td>\n",
       "    </tr>\n",
       "    <tr>\n",
       "      <th>889</th>\n",
       "      <td>male</td>\n",
       "      <td>C</td>\n",
       "      <td>First</td>\n",
       "      <td>man</td>\n",
       "      <td>True</td>\n",
       "      <td>B</td>\n",
       "      <td>Cherbourg</td>\n",
       "      <td>yes</td>\n",
       "      <td>False</td>\n",
       "    </tr>\n",
       "    <tr>\n",
       "      <th>890</th>\n",
       "      <td>male</td>\n",
       "      <td>S</td>\n",
       "      <td>Third</td>\n",
       "      <td>child</td>\n",
       "      <td>False</td>\n",
       "      <td>NaN</td>\n",
       "      <td>Southampton</td>\n",
       "      <td>no</td>\n",
       "      <td>False</td>\n",
       "    </tr>\n",
       "  </tbody>\n",
       "</table>\n",
       "<p>891 rows × 9 columns</p>\n",
       "</div>"
      ],
      "text/plain": [
       "        sex embarked   class    who  adult_male deck  embark_town alive  alone\n",
       "0      male        S   Third    man        True  NaN  Southampton    no   True\n",
       "1    female        S   Third  woman       False  NaN  Southampton    no  False\n",
       "2    female        S  Second  woman       False  NaN  Southampton   yes  False\n",
       "3      male        C  Second    man        True  NaN    Cherbourg    no  False\n",
       "4    female        S   Third  child       False  NaN  Southampton    no  False\n",
       "..      ...      ...     ...    ...         ...  ...          ...   ...    ...\n",
       "886    male        S   First    man        True    C  Southampton   yes   True\n",
       "887    male        C   First    man        True    A    Cherbourg   yes  False\n",
       "888  female        S   Third  child       False  NaN  Southampton    no  False\n",
       "889    male        C   First    man        True    B    Cherbourg   yes  False\n",
       "890    male        S   Third  child       False  NaN  Southampton    no  False\n",
       "\n",
       "[891 rows x 9 columns]"
      ]
     },
     "execution_count": 76,
     "metadata": {},
     "output_type": "execute_result"
    }
   ],
   "source": [
    "transformed_df"
   ]
  },
  {
   "cell_type": "code",
   "execution_count": 84,
   "metadata": {},
   "outputs": [
    {
     "data": {
      "text/plain": [
       "{'sex': 'missing',\n",
       " 'embarked': 'missing',\n",
       " 'class': 'missing',\n",
       " 'who': 'missing',\n",
       " 'adult_male': 'missing',\n",
       " 'deck': 'missing',\n",
       " 'embark_town': 'missing',\n",
       " 'alive': 'missing',\n",
       " 'alone': 'missing'}"
      ]
     },
     "execution_count": 84,
     "metadata": {},
     "output_type": "execute_result"
    }
   ],
   "source": [
    "imputer = ImputeCatColsTransformer(method='missing')\n",
    "imputer.fit(transformed_df)\n",
    "imputer.imputed_values"
   ]
  },
  {
   "cell_type": "code",
   "execution_count": 85,
   "metadata": {},
   "outputs": [
    {
     "data": {
      "text/plain": [
       "sex            0\n",
       "embarked       0\n",
       "class          0\n",
       "who            0\n",
       "adult_male     0\n",
       "deck           0\n",
       "embark_town    0\n",
       "alive          0\n",
       "alone          0\n",
       "dtype: int64"
      ]
     },
     "execution_count": 85,
     "metadata": {},
     "output_type": "execute_result"
    }
   ],
   "source": [
    "X_transformed = imputer.transform(transformed_df)\n",
    "X_transformed.isna().sum()"
   ]
  },
  {
   "cell_type": "code",
   "execution_count": 86,
   "metadata": {},
   "outputs": [
    {
     "data": {
      "text/plain": [
       "<matplotlib.axes._subplots.AxesSubplot at 0x7fd5677a55b0>"
      ]
     },
     "execution_count": 86,
     "metadata": {},
     "output_type": "execute_result"
    },
    {
     "data": {
      "image/png": "[encoded data removed]",
      "text/plain": [
       "<Figure size 432x288 with 1 Axes>"
      ]
     },
     "metadata": {
      "needs_background": "light"
     },
     "output_type": "display_data"
    }
   ],
   "source": [
    "X_transformed['deck'].value_counts().plot.bar()"
   ]
  },
  {
   "cell_type": "markdown",
   "metadata": {},
   "source": [
    "## Not So Simple Pipeline\n",
    "* take only numeric columns\n",
    "* fill missing values by median\n",
    "* scale with standard scaler \n",
    "* reduce dimensionality\n",
    "* train model\n",
    "* evaluate"
   ]
  },
  {
   "cell_type": "code",
   "execution_count": 95,
   "metadata": {},
   "outputs": [
    {
     "data": {
      "text/plain": [
       "0.6703910614525139"
      ]
     },
     "execution_count": 95,
     "metadata": {},
     "output_type": "execute_result"
    }
   ],
   "source": [
    "steps = [\n",
    "    ('selector', SelectColumnsByTypeTransformer(type_to_select='numeric')),\n",
    "    ('imputer', ImputeNumColsTransformer(method='median')),\n",
    "    ('scaler', StandardScaler()),\n",
    "    ('pca', PCA()),\n",
    "    ('model', LogisticRegression())\n",
    "]\n",
    "\n",
    "pipeline_2 = Pipeline(steps=steps)\n",
    "pipeline_2.fit(X_train, y_train)\n",
    "pipeline_2.predict(X_test)\n",
    "pipeline_2.score(X_test, y_test)"
   ]
  },
  {
   "cell_type": "markdown",
   "metadata": {},
   "source": [
    "### Task 6\n",
    "* create a pipeline:\n",
    "* select two columns - ages and class\n",
    "* impute missing data with mean\n",
    "* scale data with MinMaxScaler\n",
    "* reduce dimensionality to 2 dimensions\n",
    "* train the model"
   ]
  },
  {
   "cell_type": "code",
   "execution_count": 96,
   "metadata": {},
   "outputs": [
    {
     "data": {
      "text/plain": [
       "0.6983240223463687"
      ]
     },
     "execution_count": 96,
     "metadata": {},
     "output_type": "execute_result"
    }
   ],
   "source": [
    "steps = [\n",
    "    ('selector', SelectColumnsTransformer(['pclass', 'age'])),\n",
    "    ('imputer', ImputeNumColsTransformer(method='mean')),\n",
    "    ('scaler', MinMaxScaler()),\n",
    "    ('pca', PCA(2)),\n",
    "    ('model', LogisticRegression())\n",
    "]\n",
    "pipeline_3 = Pipeline(steps=steps)\n",
    "pipeline_3.fit(X_train, y_train)\n",
    "pipeline_3.score(X_test, y_test)"
   ]
  },
  {
   "cell_type": "markdown",
   "metadata": {},
   "source": [
    "### Feature Union\n",
    "\n",
    "#### Pipeline structure using Feature Union and custom transformers\n",
    "\n",
    "1. Remove unnecesarry or reduntandt columns\n",
    "2. Divide all columns inot groups with similar handling procedured: ** categorical columns, numerical columns\n",
    "\n",
    "\n",
    "For categorical columns:\n",
    "* imput missing values\n",
    "* scale data\n"
   ]
  },
  {
   "cell_type": "markdown",
   "metadata": {},
   "source": [
    "### Utility\n"
   ]
  },
  {
   "cell_type": "code",
   "execution_count": 97,
   "metadata": {},
   "outputs": [],
   "source": [
    "# result of FeatureUnion is numpy array => turn back to pandas dataframe to enhance readability\n",
    "\n",
    "def make_df(array, columns):\n",
    "    return pd.DataFrame(array, columns=columns)"
   ]
  },
  {
   "cell_type": "markdown",
   "metadata": {},
   "source": [
    "#### How to combine pipelines together?"
   ]
  },
  {
   "cell_type": "code",
   "execution_count": 98,
   "metadata": {},
   "outputs": [],
   "source": [
    "numeric_columns = ['pclass', 'age']\n",
    "cat_columns = ['sex', 'embarked']"
   ]
  },
  {
   "cell_type": "markdown",
   "metadata": {},
   "source": [
    "#### Numerical pipeline"
   ]
  },
  {
   "cell_type": "code",
   "execution_count": 106,
   "metadata": {},
   "outputs": [
    {
     "data": {
      "text/html": [
       "<div>\n",
       "<style scoped>\n",
       "    .dataframe tbody tr th:only-of-type {\n",
       "        vertical-align: middle;\n",
       "    }\n",
       "\n",
       "    .dataframe tbody tr th {\n",
       "        vertical-align: top;\n",
       "    }\n",
       "\n",
       "    .dataframe thead th {\n",
       "        text-align: right;\n",
       "    }\n",
       "</style>\n",
       "<table border=\"1\" class=\"dataframe\">\n",
       "  <thead>\n",
       "    <tr style=\"text-align: right;\">\n",
       "      <th></th>\n",
       "      <th>pclass</th>\n",
       "      <th>age</th>\n",
       "    </tr>\n",
       "  </thead>\n",
       "  <tbody>\n",
       "    <tr>\n",
       "      <th>0</th>\n",
       "      <td>3</td>\n",
       "      <td>51.0</td>\n",
       "    </tr>\n",
       "    <tr>\n",
       "      <th>1</th>\n",
       "      <td>3</td>\n",
       "      <td>NaN</td>\n",
       "    </tr>\n",
       "    <tr>\n",
       "      <th>2</th>\n",
       "      <td>2</td>\n",
       "      <td>50.0</td>\n",
       "    </tr>\n",
       "    <tr>\n",
       "      <th>3</th>\n",
       "      <td>2</td>\n",
       "      <td>29.0</td>\n",
       "    </tr>\n",
       "    <tr>\n",
       "      <th>4</th>\n",
       "      <td>3</td>\n",
       "      <td>8.0</td>\n",
       "    </tr>\n",
       "  </tbody>\n",
       "</table>\n",
       "</div>"
      ],
      "text/plain": [
       "   pclass   age\n",
       "0       3  51.0\n",
       "1       3   NaN\n",
       "2       2  50.0\n",
       "3       2  29.0\n",
       "4       3   8.0"
      ]
     },
     "execution_count": 106,
     "metadata": {},
     "output_type": "execute_result"
    }
   ],
   "source": [
    "num_steps = [('select_num_columns', SelectColumnsTransformer(numeric_columns))]\n",
    "num_pipeline = Pipeline(steps=num_steps)\n",
    "num_pipeline.transform(df_raw).head()"
   ]
  },
  {
   "cell_type": "markdown",
   "metadata": {},
   "source": [
    "#### Categorical Pipeline\n"
   ]
  },
  {
   "cell_type": "code",
   "execution_count": 105,
   "metadata": {},
   "outputs": [
    {
     "data": {
      "text/html": [
       "<div>\n",
       "<style scoped>\n",
       "    .dataframe tbody tr th:only-of-type {\n",
       "        vertical-align: middle;\n",
       "    }\n",
       "\n",
       "    .dataframe tbody tr th {\n",
       "        vertical-align: top;\n",
       "    }\n",
       "\n",
       "    .dataframe thead th {\n",
       "        text-align: right;\n",
       "    }\n",
       "</style>\n",
       "<table border=\"1\" class=\"dataframe\">\n",
       "  <thead>\n",
       "    <tr style=\"text-align: right;\">\n",
       "      <th></th>\n",
       "      <th>sex</th>\n",
       "      <th>embarked</th>\n",
       "    </tr>\n",
       "  </thead>\n",
       "  <tbody>\n",
       "    <tr>\n",
       "      <th>0</th>\n",
       "      <td>male</td>\n",
       "      <td>S</td>\n",
       "    </tr>\n",
       "    <tr>\n",
       "      <th>1</th>\n",
       "      <td>female</td>\n",
       "      <td>S</td>\n",
       "    </tr>\n",
       "    <tr>\n",
       "      <th>2</th>\n",
       "      <td>female</td>\n",
       "      <td>S</td>\n",
       "    </tr>\n",
       "    <tr>\n",
       "      <th>3</th>\n",
       "      <td>male</td>\n",
       "      <td>C</td>\n",
       "    </tr>\n",
       "    <tr>\n",
       "      <th>4</th>\n",
       "      <td>female</td>\n",
       "      <td>S</td>\n",
       "    </tr>\n",
       "  </tbody>\n",
       "</table>\n",
       "</div>"
      ],
      "text/plain": [
       "      sex embarked\n",
       "0    male        S\n",
       "1  female        S\n",
       "2  female        S\n",
       "3    male        C\n",
       "4  female        S"
      ]
     },
     "execution_count": 105,
     "metadata": {},
     "output_type": "execute_result"
    }
   ],
   "source": [
    "cat_steps = [('select_num_columns', SelectColumnsTransformer(cat_columns))]\n",
    "cat_pipeline = Pipeline(steps=cat_steps)\n",
    "cat_pipeline.transform(df_raw).head()"
   ]
  },
  {
   "cell_type": "markdown",
   "metadata": {},
   "source": [
    "### Combine two pipelines into single bigger one"
   ]
  },
  {
   "cell_type": "code",
   "execution_count": 107,
   "metadata": {},
   "outputs": [
    {
     "data": {
      "text/plain": [
       "array([['male', 'S', 3.0, 51.0],\n",
       "       ['female', 'S', 3.0, nan],\n",
       "       ['female', 'S', 2.0, 50.0],\n",
       "       ...,\n",
       "       ['female', 'S', 3.0, 6.0],\n",
       "       ['male', 'C', 1.0, 25.0],\n",
       "       ['male', 'S', 3.0, 4.0]], dtype=object)"
      ]
     },
     "execution_count": 107,
     "metadata": {},
     "output_type": "execute_result"
    }
   ],
   "source": [
    "#list of pipelines\n",
    "#in our case we have to: numeric and cat. Can be more\n",
    "transformer_list = [\n",
    "    ('categorical_pipeline', cat_pipeline),\n",
    "    ('numerical_pipeline', num_pipeline)\n",
    "]\n",
    "\n",
    "# list of pipelines is passed to FeatureUnion\n",
    "combined_pipeline = FeatureUnion(transformer_list=transformer_list)\n",
    "\n",
    "# the result will be 4 columns => firstly 2 cat columns , then 2 numeric columns\n",
    "\n",
    "df_combined = combined_pipeline.fit_transform(df_raw)\n",
    "df_combined"
   ]
  },
  {
   "cell_type": "code",
   "execution_count": 108,
   "metadata": {},
   "outputs": [
    {
     "data": {
      "text/plain": [
       "array([['male', 'S', 3.0, nan],\n",
       "       ['male', 'S', 2.0, 54.0],\n",
       "       ['male', 'Q', 3.0, nan],\n",
       "       ['male', 'S', 2.0, 23.0],\n",
       "       ['female', 'C', 1.0, 39.0]], dtype=object)"
      ]
     },
     "execution_count": 108,
     "metadata": {},
     "output_type": "execute_result"
    }
   ],
   "source": [
    "combined_pipeline.fit(X_train)\n",
    "combined_pipeline.transform(X_test)[:5]"
   ]
  },
  {
   "cell_type": "markdown",
   "metadata": {},
   "source": [
    "'combined_pipeline' can be used then as a step in the pipeline with estimator:\n",
    "- 1 step - combined_pipeline\n",
    "- 2 step - estimator (e.g. Logisitic regression)"
   ]
  },
  {
   "cell_type": "markdown",
   "metadata": {},
   "source": [
    "### Task 7\n",
    "* the first pipeline for numeric columns: age, pclass\n",
    "* the secodn pipeline for categorical columns: sex, embarked\n",
    "* numeric pipeline does: feature selection, missing values imputation by median, scaling, dimensionality reduction\n",
    "* categorical pipieline does: fetature selection, missing values imputation, one hot encoding\n",
    "* two subsets are combined togherer using FeatureUnion\n",
    "* final dataset is used to trani the logistic regression model => new pipeline containing two steps: feature union and logistic regression \n",
    "* evaluate the model\n",
    "\n",
    "**NOTE:**\n",
    "1. OneHotEncoder(sparse=False,handle_unknown='ignore')\n",
    "2. Pipeline shoul be fitted on X_train, y_train and validated on X_test, y_test"
   ]
  },
  {
   "cell_type": "code",
   "execution_count": 110,
   "metadata": {},
   "outputs": [
    {
     "data": {
      "text/plain": [
       "0.776536312849162"
      ]
     },
     "execution_count": 110,
     "metadata": {},
     "output_type": "execute_result"
    }
   ],
   "source": [
    "steps_numeric_pipeline = [\n",
    "    ('select_num_columns', SelectColumnsTransformer(numeric_columns)),\n",
    "    ('missing_values_imput', ImputeNumColsTransformer(method='median')),\n",
    "    ('scaling', MinMaxScaler()),\n",
    "    ('pca', PCA(2))\n",
    "]\n",
    "\n",
    "steps_cat_pipeline = [\n",
    "    ('select_cat_columns', SelectColumnsTransformer(cat_columns)),\n",
    "    ('missing_values_imput', ImputeCatColsTransformer(method='mode')),\n",
    "    ('encoding', OneHotEncoder(sparse=False, handle_unknown='ignore'))\n",
    "]\n",
    "\n",
    "num_pipeline = Pipeline(steps_numeric_pipeline)\n",
    "cat_pipeline = Pipeline(steps_cat_pipeline)\n",
    "\n",
    "transformer_list = [\n",
    "    ('categorical_pipeline', cat_pipeline),\n",
    "    ('numeric_pipeline', num_pipeline)\n",
    "]\n",
    "\n",
    "combined_pipeline = FeatureUnion(transformer_list)\n",
    "\n",
    "final_pipeline = Pipeline(steps= [\n",
    "    ('combined_pipeline', combined_pipeline),\n",
    "    ('log_reg', LogisticRegression())\n",
    "])\n",
    "\n",
    "final_pipeline.fit(X_train, y_train)\n",
    "\n",
    "final_pipeline.score(X_test, y_test)"
   ]
  },
  {
   "cell_type": "code",
   "execution_count": 111,
   "metadata": {},
   "outputs": [
    {
     "data": {
      "text/plain": [
       "array([0, 0, 0, 0, 1, 1, 1, 0, 1, 0, 1, 0, 1, 0, 0, 0, 0, 0, 1, 1, 0, 1,\n",
       "       0, 0, 0, 1, 0, 1, 0, 0, 0, 0, 0, 0, 0, 1, 0, 0, 0, 0, 0, 0, 0, 1,\n",
       "       1, 0, 0, 0, 1, 0, 1, 0, 1, 1, 1, 0, 1, 1, 0, 1, 0, 1, 1, 0, 1, 0,\n",
       "       1, 1, 0, 0, 0, 0, 1, 1, 0, 0, 0, 0, 1, 0, 0, 0, 0, 1, 0, 0, 0, 1,\n",
       "       0, 0, 1, 0, 1, 0, 0, 1, 1, 0, 1, 1, 0, 0, 0, 1, 0, 1, 0, 0, 1, 0,\n",
       "       0, 0, 0, 0, 0, 0, 0, 1, 0, 0, 0, 1, 0, 0, 0, 0, 0, 0, 0, 1, 0, 0,\n",
       "       1, 0, 1, 0, 1, 1, 1, 1, 0, 0, 0, 1, 0, 1, 0, 0, 1, 1, 1, 0, 1, 1,\n",
       "       0, 1, 0, 1, 0, 1, 1, 1, 0, 1, 0, 0, 1, 0, 0, 0, 0, 0, 1, 0, 0, 0,\n",
       "       0, 0, 0])"
      ]
     },
     "execution_count": 111,
     "metadata": {},
     "output_type": "execute_result"
    }
   ],
   "source": [
    "final_pipeline.predict(X_test)"
   ]
  },
  {
   "cell_type": "markdown",
   "metadata": {},
   "source": [
    "## Columns Transformer"
   ]
  },
  {
   "cell_type": "code",
   "execution_count": 113,
   "metadata": {},
   "outputs": [
    {
     "data": {
      "text/plain": [
       "Pipeline(steps=[('preprocessor',\n",
       "                 ColumnTransformer(transformers=[('num',\n",
       "                                                  Pipeline(steps=[('impute_num_columns',\n",
       "                                                                   SimpleImputer()),\n",
       "                                                                  ('scale_data',\n",
       "                                                                   MinMaxScaler())]),\n",
       "                                                  ['pclass', 'age', 'sibsp',\n",
       "                                                   'parch', 'fare']),\n",
       "                                                 ('cat',\n",
       "                                                  Pipeline(steps=[('cat_imputer',\n",
       "                                                                   SimpleImputer(strategy='most_frequent')),\n",
       "                                                                  ('encoder',\n",
       "                                                                   OneHotEncoder(handle_unknown='ignore',\n",
       "                                                                                 sparse=False))]),\n",
       "                                                  ['sex', 'embarked', 'who',\n",
       "                                                   'alone'])])),\n",
       "                ('classifier', LogisticRegression())])"
      ]
     },
     "execution_count": 113,
     "metadata": {},
     "output_type": "execute_result"
    }
   ],
   "source": [
    "# numeric pipeline\n",
    "numeric_columns = ['pclass', 'age', 'sibsp', 'parch', 'fare']\n",
    "numeric_transform = Pipeline(steps=[\n",
    "    #SimpleImputer is ready to use class from sklearn\n",
    "    ('impute_num_columns', SimpleImputer(strategy='mean')),\n",
    "    ('scale_data', MinMaxScaler())\n",
    "])\n",
    "\n",
    "# categorical pipeline\n",
    "cat_columns = ['sex', 'embarked', 'who', 'alone']\n",
    "categorical_transformer = Pipeline(steps=[\n",
    "    ('cat_imputer', SimpleImputer(strategy='most_frequent')),\n",
    "    ('encoder', OneHotEncoder(sparse=False, handle_unknown='ignore'))\n",
    "])\n",
    "\n",
    "# transformer = numerical + categorical\n",
    "transformer = ColumnTransformer(transformers=[\n",
    "    ('num', numeric_transform, numeric_columns),\n",
    "    ('cat', categorical_transformer, cat_columns)\n",
    "])\n",
    "\n",
    "#final pipeline with model\n",
    "pipeline = Pipeline(steps=[\n",
    "    ('preprocessor', transformer),\n",
    "    ('classifier', LogisticRegression())\n",
    "])\n",
    "\n",
    "pipeline.fit(X_train, y_train)"
   ]
  },
  {
   "cell_type": "code",
   "execution_count": 114,
   "metadata": {},
   "outputs": [
    {
     "data": {
      "text/plain": [
       "0.7988826815642458"
      ]
     },
     "execution_count": 114,
     "metadata": {},
     "output_type": "execute_result"
    }
   ],
   "source": [
    "pipeline.score(X_test, y_test)"
   ]
  },
  {
   "cell_type": "code",
   "execution_count": 116,
   "metadata": {},
   "outputs": [
    {
     "name": "stdout",
     "output_type": "stream",
     "text": [
      "Accuracy: 0.799\n",
      "Precission: 0.71\n",
      "Recall: 0.754\n",
      "F1: 0.731\n"
     ]
    }
   ],
   "source": [
    "preds = pipeline.predict(X_test)\n",
    "\n",
    "metrics = [accuracy_score, precision_score, recall_score, f1_score]\n",
    "metrics_name = ['Accuracy', 'Precission', 'Recall', 'F1']\n",
    "for metric, name in zip(metrics, metrics_name):\n",
    "    print(f'{name}: {round(metric(preds, y_test),3)}')"
   ]
  },
  {
   "cell_type": "code",
   "execution_count": 118,
   "metadata": {},
   "outputs": [
    {
     "data": {
      "text/html": [
       "<div>\n",
       "<style scoped>\n",
       "    .dataframe tbody tr th:only-of-type {\n",
       "        vertical-align: middle;\n",
       "    }\n",
       "\n",
       "    .dataframe tbody tr th {\n",
       "        vertical-align: top;\n",
       "    }\n",
       "\n",
       "    .dataframe thead th {\n",
       "        text-align: right;\n",
       "    }\n",
       "</style>\n",
       "<table border=\"1\" class=\"dataframe\">\n",
       "  <thead>\n",
       "    <tr style=\"text-align: right;\">\n",
       "      <th></th>\n",
       "      <th>survived</th>\n",
       "      <th>pclass</th>\n",
       "      <th>sex</th>\n",
       "      <th>age</th>\n",
       "      <th>sibsp</th>\n",
       "      <th>parch</th>\n",
       "      <th>fare</th>\n",
       "      <th>embarked</th>\n",
       "      <th>class</th>\n",
       "      <th>who</th>\n",
       "      <th>adult_male</th>\n",
       "      <th>deck</th>\n",
       "      <th>embark_town</th>\n",
       "      <th>alive</th>\n",
       "      <th>alone</th>\n",
       "    </tr>\n",
       "  </thead>\n",
       "  <tbody>\n",
       "    <tr>\n",
       "      <th>0</th>\n",
       "      <td>0</td>\n",
       "      <td>3</td>\n",
       "      <td>male</td>\n",
       "      <td>51.0</td>\n",
       "      <td>0</td>\n",
       "      <td>0</td>\n",
       "      <td>7.75</td>\n",
       "      <td>S</td>\n",
       "      <td>Third</td>\n",
       "      <td>man</td>\n",
       "      <td>True</td>\n",
       "      <td>NaN</td>\n",
       "      <td>Southampton</td>\n",
       "      <td>no</td>\n",
       "      <td>True</td>\n",
       "    </tr>\n",
       "  </tbody>\n",
       "</table>\n",
       "</div>"
      ],
      "text/plain": [
       "   survived  pclass   sex   age  sibsp  parch  fare embarked  class  who  \\\n",
       "0         0       3  male  51.0      0      0  7.75        S  Third  man   \n",
       "\n",
       "   adult_male deck  embark_town alive  alone  \n",
       "0        True  NaN  Southampton    no   True  "
      ]
     },
     "execution_count": 118,
     "metadata": {},
     "output_type": "execute_result"
    }
   ],
   "source": [
    "df_raw.head(1)"
   ]
  },
  {
   "cell_type": "markdown",
   "metadata": {},
   "source": [
    "### Task 8\n",
    "* implemnet transformer for log transformation (if value = 0 => else log of value)"
   ]
  },
  {
   "cell_type": "code",
   "execution_count": 119,
   "metadata": {},
   "outputs": [],
   "source": [
    "class LogTransformer(BaseEstimator, TransformerMixin):\n",
    "    def __init__(self):\n",
    "        pass\n",
    "    \n",
    "    def fit(self, X, y = None):\n",
    "        return self\n",
    "            \n",
    "    \n",
    "    def transform(self, X, y = None):\n",
    "        def log_transform(x):\n",
    "            return 0 if x == 0 else np.log(x)\n",
    "        \n",
    "        X = pd.DataFrame(X)\n",
    "        for col in X:\n",
    "            X[col] = X[col].apply(log_transform)\n",
    "        return X"
   ]
  },
  {
   "cell_type": "code",
   "execution_count": 122,
   "metadata": {},
   "outputs": [
    {
     "data": {
      "text/plain": [
       "LogTransformer()"
      ]
     },
     "execution_count": 122,
     "metadata": {},
     "output_type": "execute_result"
    }
   ],
   "source": [
    "x_log = df_raw['fare'] # has zero values\n",
    "log_transformer = LogTransformer()\n",
    "log_transformer.fit(x_log)"
   ]
  },
  {
   "cell_type": "code",
   "execution_count": 123,
   "metadata": {},
   "outputs": [
    {
     "data": {
      "text/html": [
       "<div>\n",
       "<style scoped>\n",
       "    .dataframe tbody tr th:only-of-type {\n",
       "        vertical-align: middle;\n",
       "    }\n",
       "\n",
       "    .dataframe tbody tr th {\n",
       "        vertical-align: top;\n",
       "    }\n",
       "\n",
       "    .dataframe thead th {\n",
       "        text-align: right;\n",
       "    }\n",
       "</style>\n",
       "<table border=\"1\" class=\"dataframe\">\n",
       "  <thead>\n",
       "    <tr style=\"text-align: right;\">\n",
       "      <th></th>\n",
       "      <th>fare</th>\n",
       "    </tr>\n",
       "  </thead>\n",
       "  <tbody>\n",
       "    <tr>\n",
       "      <th>0</th>\n",
       "      <td>2.047693</td>\n",
       "    </tr>\n",
       "    <tr>\n",
       "      <th>1</th>\n",
       "      <td>3.237372</td>\n",
       "    </tr>\n",
       "    <tr>\n",
       "      <th>2</th>\n",
       "      <td>3.258097</td>\n",
       "    </tr>\n",
       "    <tr>\n",
       "      <th>3</th>\n",
       "      <td>3.322183</td>\n",
       "    </tr>\n",
       "    <tr>\n",
       "      <th>4</th>\n",
       "      <td>3.048088</td>\n",
       "    </tr>\n",
       "  </tbody>\n",
       "</table>\n",
       "</div>"
      ],
      "text/plain": [
       "       fare\n",
       "0  2.047693\n",
       "1  3.237372\n",
       "2  3.258097\n",
       "3  3.322183\n",
       "4  3.048088"
      ]
     },
     "execution_count": 123,
     "metadata": {},
     "output_type": "execute_result"
    }
   ],
   "source": [
    "log_transformer.transform(x_log)[:5]"
   ]
  },
  {
   "cell_type": "code",
   "execution_count": 128,
   "metadata": {},
   "outputs": [
    {
     "data": {
      "text/plain": [
       "(-6.6875, 64.8125)"
      ]
     },
     "execution_count": 128,
     "metadata": {},
     "output_type": "execute_result"
    }
   ],
   "source": [
    "# outliers for 'age' column\n",
    "age = df_raw['age']\n",
    "iqr = np.nanpercentile(age, 75) - np.nanpercentile(age, 25)\n",
    "lower, upper = (np.nanpercentile(age, 25) - 1.5 * iqr) , (np.nanpercentile(age, 75) + 1.5 * iqr)\n",
    "\n",
    "lower, upper\n"
   ]
  },
  {
   "cell_type": "markdown",
   "metadata": {},
   "source": [
    "In ther transformer's method fit, for each column of the dataset X it should learn two values: low and high\n",
    "Next, in the transform method:\n",
    "* if the value is higher than upper, make it equal to upper\n",
    "* if the value is lower than lower, make it equal to lower\n",
    "\n",
    "The values ccan be stored in the transformer's atrribute **self.boundaries** in the form like this\n",
    "\n",
    "`{\n",
    "'column_name_1': [lower_value_1, upper_value_1],\n",
    "'column_name_2': [lower_value_2, upper_value_2],\n",
    "...\n",
    "}`"
   ]
  },
  {
   "cell_type": "markdown",
   "metadata": {},
   "source": [
    "### Task 8.1 (optional)\n",
    "* implement transformer for removing outliers from numeric columns"
   ]
  },
  {
   "cell_type": "code",
   "execution_count": 130,
   "metadata": {},
   "outputs": [],
   "source": [
    "class RemoveOutliersTransformer(BaseEstimator, TransformerMixin):\n",
    "    def __init__(self):\n",
    "        self.boundaries = {}\n",
    "        \n",
    "    def fit( self, X, y = None ):\n",
    "        for col in X:\n",
    "            iqr = np.nanpercentile(X[col], 75) - np.nanpercentile(X[col], 25)\n",
    "            lower, upper = (np.nanpercentile(X[col], 25) - 1.5 * iqr), (np.nanpercentile(X[col], 75) + 1.5 * iqr)\n",
    "            self.boundaries[col] = [lower, upper]\n",
    "        return self\n",
    "    \n",
    "    def transform( self, X, y = None ):\n",
    "        for col in X:\n",
    "            # if values are smaller than lower, make them lower\n",
    "            X.loc[X[col] < self.boundaries[col][0], col] = self.boundaries[col][0]\n",
    "            # if values are bigger than upper, make them upper\n",
    "            X.loc[X[col] > self.boundaries[col][1], col] = self.boundaries[col][1]\n",
    "        return X"
   ]
  },
  {
   "cell_type": "markdown",
   "metadata": {},
   "source": [
    "### Task 9\n",
    "Using ColumnsTransformer, implement the pipeline:\n",
    "* first sub_pipeline takes columns: fare, sibsp, parch\n",
    "* transformations: missing values by median, removing outliers, logtranformation, scaling\n",
    "\n",
    "* second sub_pipeline takes columns: age, pclass\n",
    "* transformations: missing values by mean, scaling\n",
    "\n",
    "* third sub_pipeline takes columns: sex, embarked, alone\n",
    "* transformations: missing values by mode, OHE\n",
    "\n",
    "* final pipeline to train using Logistic Regression"
   ]
  },
  {
   "cell_type": "code",
   "execution_count": 131,
   "metadata": {},
   "outputs": [
    {
     "ename": "TypeError",
     "evalue": "__init__() missing 1 required positional argument: 'steps'",
     "output_type": "error",
     "traceback": [
      "\u001b[0;31m---------------------------------------------------------------------------\u001b[0m",
      "\u001b[0;31mTypeError\u001b[0m                                 Traceback (most recent call last)",
      "\u001b[0;32m<ipython-input-131-be02a1c292a5>\u001b[0m in \u001b[0;36m<module>\u001b[0;34m\u001b[0m\n\u001b[1;32m     17\u001b[0m ]\n\u001b[1;32m     18\u001b[0m \u001b[0;34m\u001b[0m\u001b[0m\n\u001b[0;32m---> 19\u001b[0;31m \u001b[0msub_pipeline_1\u001b[0m \u001b[0;34m=\u001b[0m \u001b[0mPipeline\u001b[0m\u001b[0;34m(\u001b[0m\u001b[0;34m)\u001b[0m\u001b[0;34m\u001b[0m\u001b[0;34m\u001b[0m\u001b[0m\n\u001b[0m",
      "\u001b[0;32m/Library/Frameworks/Python.framework/Versions/3.8/lib/python3.8/site-packages/sklearn/utils/validation.py\u001b[0m in \u001b[0;36minner_f\u001b[0;34m(*args, **kwargs)\u001b[0m\n\u001b[1;32m     71\u001b[0m                           FutureWarning)\n\u001b[1;32m     72\u001b[0m         \u001b[0mkwargs\u001b[0m\u001b[0;34m.\u001b[0m\u001b[0mupdate\u001b[0m\u001b[0;34m(\u001b[0m\u001b[0;34m{\u001b[0m\u001b[0mk\u001b[0m\u001b[0;34m:\u001b[0m \u001b[0marg\u001b[0m \u001b[0;32mfor\u001b[0m \u001b[0mk\u001b[0m\u001b[0;34m,\u001b[0m \u001b[0marg\u001b[0m \u001b[0;32min\u001b[0m \u001b[0mzip\u001b[0m\u001b[0;34m(\u001b[0m\u001b[0msig\u001b[0m\u001b[0;34m.\u001b[0m\u001b[0mparameters\u001b[0m\u001b[0;34m,\u001b[0m \u001b[0margs\u001b[0m\u001b[0;34m)\u001b[0m\u001b[0;34m}\u001b[0m\u001b[0;34m)\u001b[0m\u001b[0;34m\u001b[0m\u001b[0;34m\u001b[0m\u001b[0m\n\u001b[0;32m---> 73\u001b[0;31m         \u001b[0;32mreturn\u001b[0m \u001b[0mf\u001b[0m\u001b[0;34m(\u001b[0m\u001b[0;34m**\u001b[0m\u001b[0mkwargs\u001b[0m\u001b[0;34m)\u001b[0m\u001b[0;34m\u001b[0m\u001b[0;34m\u001b[0m\u001b[0m\n\u001b[0m\u001b[1;32m     74\u001b[0m     \u001b[0;32mreturn\u001b[0m \u001b[0minner_f\u001b[0m\u001b[0;34m\u001b[0m\u001b[0;34m\u001b[0m\u001b[0m\n\u001b[1;32m     75\u001b[0m \u001b[0;34m\u001b[0m\u001b[0m\n",
      "\u001b[0;31mTypeError\u001b[0m: __init__() missing 1 required positional argument: 'steps'"
     ]
    }
   ],
   "source": [
    "steps_sub_1 = [\n",
    "    ('column_selection', SelectColumnsTransformer(['fare', 'sibsp', 'parch'])),\n",
    "    ('missing_values', SimpleImputer(strategy='median')),\n",
    "    ('removing_outliers', RemoveOutliersTransformer()),\n",
    "    ('log_transformation', LogTransformer()),\n",
    "    ('scaling', MinMaxScaler())\n",
    "]\n",
    "\n",
    "steps_sub_2 = [\n",
    "    ('column_selection', SelectColumnsTransformer(['age', 'pclass'])),\n",
    "    ('missing_values', SimpleImputer(strategy='mean')),\n",
    "    ('scaling', MinMaxScaler())\n",
    "]\n",
    "\n",
    "steps_sub_3 = [\n",
    "    \n",
    "]\n",
    "\n",
    "sub_pipeline_1 = Pipeline()"
   ]
  },
  {
   "cell_type": "code",
   "execution_count": 132,
   "metadata": {},
   "outputs": [
    {
     "data": {
      "text/plain": [
       "Pipeline(steps=[('preprocessor',\n",
       "                 ColumnTransformer(transformers=[('num_1',\n",
       "                                                  Pipeline(steps=[('impute_num_columns',\n",
       "                                                                   ImputeNumColsTransformer(method='median')),\n",
       "                                                                  ('remove_outliers',\n",
       "                                                                   RemoveOutliersTransformer()),\n",
       "                                                                  ('log_transform',\n",
       "                                                                   LogTransformer()),\n",
       "                                                                  ('scale_data',\n",
       "                                                                   MinMaxScaler())]),\n",
       "                                                  ['fare', 'sibsp', 'parch']),\n",
       "                                                 ('num_2',\n",
       "                                                  Pipeline(steps=[('impute_num_columns',\n",
       "                                                                   ImputeNumColsTransformer()),\n",
       "                                                                  ('scale_data',\n",
       "                                                                   MinMaxScaler())]),\n",
       "                                                  ['age', 'pclass']),\n",
       "                                                 ('cat_1',\n",
       "                                                  Pipeline(steps=[('impute_cat_columns',\n",
       "                                                                   ImputeCatColsTransformer()),\n",
       "                                                                  ('ohe',\n",
       "                                                                   OneHotEncoder(handle_unknown='ignore',\n",
       "                                                                                 sparse=False))]),\n",
       "                                                  ['sex', 'embarked',\n",
       "                                                   'alone'])])),\n",
       "                ('classifier', LogisticRegression())])"
      ]
     },
     "execution_count": 132,
     "metadata": {},
     "output_type": "execute_result"
    }
   ],
   "source": [
    "# sub_pipeline_1 implemented\n",
    "cols_1 = ['fare', 'sibsp', 'parch']\n",
    "transformer_1 = Pipeline(steps=[\n",
    "    ('impute_num_columns', ImputeNumColsTransformer(method='median')),\n",
    "    ('remove_outliers', RemoveOutliersTransformer()),\n",
    "    ('log_transform', LogTransformer()),\n",
    "    ('scale_data', MinMaxScaler())\n",
    "])\n",
    "# sub_pipeline_2 implemented\n",
    "cols_2 = ['age', 'pclass']\n",
    "transformer_2 = Pipeline(steps = [\n",
    "    ('impute_num_columns', ImputeNumColsTransformer(method='mean')),\n",
    "    ('scale_data', MinMaxScaler())\n",
    "])\n",
    "# sub_pipeline_3 implemented\n",
    "cols_3 = ['sex', 'embarked', 'alone']\n",
    "transformer_3 = Pipeline(steps = [\n",
    "    ('impute_cat_columns', ImputeCatColsTransformer(method='mode')),\n",
    "    ('ohe', OneHotEncoder(sparse=False ,handle_unknown='ignore'))\n",
    "])\n",
    "# transformer = numerical + categorical\n",
    "transformer = ColumnTransformer(transformers=[\n",
    "    ('num_1', transformer_1, cols_1),\n",
    "    ('num_2', transformer_2, cols_2),\n",
    "    ('cat_1', transformer_3, cols_3),\n",
    "])\n",
    "# final pipeline with model\n",
    "pipeline = Pipeline(steps=[('preprocessor', transformer),\n",
    "                      ('classifier', LogisticRegression())])\n",
    "pipeline.fit(X_train, y_train)"
   ]
  },
  {
   "cell_type": "code",
   "execution_count": 134,
   "metadata": {},
   "outputs": [
    {
     "data": {
      "text/plain": [
       "0.776536312849162"
      ]
     },
     "execution_count": 134,
     "metadata": {},
     "output_type": "execute_result"
    }
   ],
   "source": [
    "pipeline.score(X_test, y_test)"
   ]
  },
  {
   "cell_type": "code",
   "execution_count": null,
   "metadata": {},
   "outputs": [],
   "source": []
  }
 ],
 "metadata": {
  "kernelspec": {
   "display_name": "Python 3",
   "language": "python",
   "name": "python3"
  },
  "language_info": {
   "codemirror_mode": {
    "name": "ipython",
    "version": 3
   },
   "file_extension": ".py",
   "mimetype": "text/x-python",
   "name": "python",
   "nbconvert_exporter": "python",
   "pygments_lexer": "ipython3",
   "version": "3.8.1"
  },
  "toc": {
   "base_numbering": 1,
   "nav_menu": {},
   "number_sections": true,
   "sideBar": true,
   "skip_h1_title": false,
   "title_cell": "Table of Contents",
   "title_sidebar": "Contents",
   "toc_cell": false,
   "toc_position": {},
   "toc_section_display": true,
   "toc_window_display": true
  }
 },
 "nbformat": 4,
 "nbformat_minor": 4
}

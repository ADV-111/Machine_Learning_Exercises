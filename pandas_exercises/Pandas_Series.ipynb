{
 "cells": [
  {
   "cell_type": "markdown",
   "metadata": {
    "collapsed": true,
    "pycharm": {
     "name": "#%% md\n"
    }
   },
   "source": [
    "### Series create\n",
    "\n"
   ]
  },
  {
   "cell_type": "code",
   "execution_count": 4,
   "outputs": [],
   "source": [
    "import pandas as pd\n",
    "import numpy as np\n",
    "\n"
   ],
   "metadata": {
    "collapsed": false,
    "pycharm": {
     "name": "#%%\n"
    }
   }
  },
  {
   "cell_type": "code",
   "execution_count": 2,
   "outputs": [
    {
     "data": {
      "text/plain": "0    1\n1    2\n2    3\n3    4\ndtype: int64"
     },
     "execution_count": 2,
     "metadata": {},
     "output_type": "execute_result"
    }
   ],
   "source": [
    "pd.Series([1,2,3,4])\n"
   ],
   "metadata": {
    "collapsed": false,
    "pycharm": {
     "name": "#%%\n"
    }
   }
  },
  {
   "cell_type": "code",
   "execution_count": 3,
   "outputs": [
    {
     "data": {
      "text/plain": "0    1.0\n1    2.0\n2    3.0\n3    4.0\ndtype: float64"
     },
     "execution_count": 3,
     "metadata": {},
     "output_type": "execute_result"
    }
   ],
   "source": [
    "pd.Series([1.,2.,3.,4.])\n"
   ],
   "metadata": {
    "collapsed": false,
    "pycharm": {
     "name": "#%%\n"
    }
   }
  },
  {
   "cell_type": "code",
   "execution_count": 4,
   "outputs": [
    {
     "data": {
      "text/plain": "0    1.0\n1    3.0\n2    NaN\n3    4.0\ndtype: float64"
     },
     "execution_count": 4,
     "metadata": {},
     "output_type": "execute_result"
    }
   ],
   "source": [
    "pd.Series([1,3,None, 4])"
   ],
   "metadata": {
    "collapsed": false,
    "pycharm": {
     "name": "#%%\n"
    }
   }
  },
  {
   "cell_type": "code",
   "execution_count": 5,
   "outputs": [
    {
     "data": {
      "text/plain": "0    a\n1    b\n2    c\n3    d\ndtype: object"
     },
     "execution_count": 5,
     "metadata": {},
     "output_type": "execute_result"
    }
   ],
   "source": [
    "pd.Series(['a', 'b', 'c', 'd'])"
   ],
   "metadata": {
    "collapsed": false,
    "pycharm": {
     "name": "#%%\n"
    }
   }
  },
  {
   "cell_type": "code",
   "execution_count": 6,
   "outputs": [
    {
     "data": {
      "text/plain": "0    a\n1    b\n2    c\n3    d\ndtype: object"
     },
     "execution_count": 6,
     "metadata": {},
     "output_type": "execute_result"
    }
   ],
   "source": [
    "list('abcd')\n",
    "pd.Series(list('abcd'))"
   ],
   "metadata": {
    "collapsed": false,
    "pycharm": {
     "name": "#%%\n"
    }
   }
  },
  {
   "cell_type": "code",
   "execution_count": 7,
   "outputs": [
    {
     "data": {
      "text/plain": "0    0\n1    1\n2    2\n3    3\ndtype: int64"
     },
     "execution_count": 7,
     "metadata": {},
     "output_type": "execute_result"
    }
   ],
   "source": [
    "pd.Series(range(4))"
   ],
   "metadata": {
    "collapsed": false,
    "pycharm": {
     "name": "#%%\n"
    }
   }
  },
  {
   "cell_type": "code",
   "execution_count": 8,
   "outputs": [
    {
     "data": {
      "text/plain": "0    0.0\n1    1.0\n2    2.0\n3    3.0\ndtype: float64"
     },
     "execution_count": 8,
     "metadata": {},
     "output_type": "execute_result"
    }
   ],
   "source": [
    "pd.Series(np.arange(4.))\n"
   ],
   "metadata": {
    "collapsed": false,
    "pycharm": {
     "name": "#%%\n"
    }
   }
  },
  {
   "cell_type": "code",
   "execution_count": 9,
   "outputs": [
    {
     "data": {
      "text/plain": "366"
     },
     "execution_count": 9,
     "metadata": {},
     "output_type": "execute_result"
    }
   ],
   "source": [
    "date_range = pd.Series(pd.date_range(start='2020-09-21', end='2021-09-21'))\n",
    "len(date_range)"
   ],
   "metadata": {
    "collapsed": false,
    "pycharm": {
     "name": "#%%\n"
    }
   }
  },
  {
   "cell_type": "markdown",
   "source": [
    "### Series Create Float\n",
    "\n"
   ],
   "metadata": {
    "collapsed": false,
    "pycharm": {
     "name": "#%% md\n"
    }
   }
  },
  {
   "cell_type": "code",
   "execution_count": 11,
   "outputs": [
    {
     "data": {
      "text/plain": "0    1.0\n1    3.0\n2    NaN\n3    5.0\n4    7.0\ndtype: float64"
     },
     "execution_count": 11,
     "metadata": {},
     "output_type": "execute_result"
    }
   ],
   "source": [
    "five_floats = pd.Series([1., 3., None, 5., 7.])\n",
    "five_floats"
   ],
   "metadata": {
    "collapsed": false,
    "pycharm": {
     "name": "#%%\n"
    }
   }
  },
  {
   "cell_type": "code",
   "execution_count": 17,
   "outputs": [
    {
     "data": {
      "text/plain": "0    5\n1    0\n2    3\n3    3\n4    7\n5    9\n6    3\n7    5\n8    2\n9    4\ndtype: int64"
     },
     "execution_count": 17,
     "metadata": {},
     "output_type": "execute_result"
    }
   ],
   "source": [
    "np.random.seed(0)\n",
    "\n",
    "arr = pd.Series(np.random.randint(0,10, size=10))\n",
    "arr"
   ],
   "metadata": {
    "collapsed": false,
    "pycharm": {
     "name": "#%%\n"
    }
   }
  },
  {
   "cell_type": "code",
   "execution_count": 20,
   "outputs": [
    {
     "data": {
      "text/plain": "0     0\n1     2\n2     4\n3     6\n4     8\n5    10\n6    12\n7    14\n8    16\n9    18\ndtype: int64"
     },
     "execution_count": 20,
     "metadata": {},
     "output_type": "execute_result"
    }
   ],
   "source": [
    "# create even\n",
    "np.random.seed(0)\n",
    "\n",
    "ten_even_no = np.arange(0, 20, 2)\n",
    "pd.Series(ten_even_no)"
   ],
   "metadata": {
    "collapsed": false,
    "pycharm": {
     "name": "#%%\n"
    }
   }
  },
  {
   "cell_type": "code",
   "execution_count": 27,
   "outputs": [
    {
     "name": "stdout",
     "output_type": "stream",
     "text": [
      "The number of days spent between to lunches 3023\n",
      "0      1961-04-12\n",
      "1      1961-04-13\n",
      "2      1961-04-14\n",
      "3      1961-04-15\n",
      "4      1961-04-16\n",
      "          ...    \n",
      "3018   1969-07-17\n",
      "3019   1969-07-18\n",
      "3020   1969-07-19\n",
      "3021   1969-07-20\n",
      "3022   1969-07-21\n",
      "Length: 3023, dtype: datetime64[ns]\n"
     ]
    }
   ],
   "source": [
    "#Create dates\n",
    "\n",
    "gagarin = pd.Timestamp('1961-04-12')\n",
    "armstrong = pd.Timestamp('1969-07-21')\n",
    "days_between = pd.date_range(gagarin, armstrong)\n",
    "number_of_days = len(days_between)\n",
    "series_of_days = pd.Series(days_between)\n",
    "\n",
    "print(f'The number of days spent between to launches {number_of_days}')\n",
    "print(series_of_days)"
   ],
   "metadata": {
    "collapsed": false,
    "pycharm": {
     "name": "#%%\n"
    }
   }
  },
  {
   "cell_type": "code",
   "execution_count": 35,
   "outputs": [
    {
     "name": "stdout",
     "output_type": "stream",
     "text": [
      "0      1961-04-12\n",
      "1      1961-04-13\n",
      "2      1961-04-14\n",
      "3      1961-04-15\n",
      "4      1961-04-16\n",
      "          ...    \n",
      "3018   1969-07-17\n",
      "3019   1969-07-18\n",
      "3020   1969-07-19\n",
      "3021   1969-07-20\n",
      "3022   1969-07-21\n",
      "Length: 3023, dtype: datetime64[ns]\n",
      "3023\n"
     ]
    }
   ],
   "source": [
    "# another solution\n",
    "date = pd.date_range('1961-04-12', '1969-07-21', freq='D')\n",
    "print(pd.Series(date))\n",
    "print(len(date))"
   ],
   "metadata": {
    "collapsed": false,
    "pycharm": {
     "name": "#%%\n"
    }
   }
  },
  {
   "cell_type": "markdown",
   "source": [
    "## Series Attributes"
   ],
   "metadata": {
    "collapsed": false,
    "pycharm": {
     "name": "#%% md\n"
    }
   }
  },
  {
   "cell_type": "code",
   "execution_count": 36,
   "outputs": [],
   "source": [
    "s = pd.Series(['a', 'b', 'c'])"
   ],
   "metadata": {
    "collapsed": false,
    "pycharm": {
     "name": "#%%\n"
    }
   }
  },
  {
   "cell_type": "code",
   "execution_count": 41,
   "outputs": [
    {
     "data": {
      "text/plain": "array(['a', 'b', 'c'], dtype=object)"
     },
     "execution_count": 41,
     "metadata": {},
     "output_type": "execute_result"
    }
   ],
   "source": [
    "s.shape\n",
    "s.size\n",
    "s.ndim\n",
    "s.index\n",
    "s.values"
   ],
   "metadata": {
    "collapsed": false,
    "pycharm": {
     "name": "#%%\n"
    }
   }
  },
  {
   "cell_type": "markdown",
   "source": [
    "### Series Sample"
   ],
   "metadata": {
    "collapsed": false,
    "pycharm": {
     "name": "#%% md\n"
    }
   }
  },
  {
   "cell_type": "code",
   "execution_count": 59,
   "outputs": [
    {
     "name": "stdout",
     "output_type": "stream",
     "text": [
      "2000-01-01    1.764052\n",
      "Freq: D, dtype: float64\n",
      "2000-04-05    0.706573\n",
      "2000-04-06    0.010500\n",
      "2000-04-07    1.785870\n",
      "2000-04-08    0.126912\n",
      "2000-04-09    0.401989\n",
      "Freq: D, dtype: float64\n",
      "2000-01-01    1.764052\n",
      "2000-01-02    0.400157\n",
      "2000-01-03    0.978738\n",
      "2000-01-04    2.240893\n",
      "2000-01-05    1.867558\n",
      "2000-01-06   -0.977278\n",
      "2000-01-07    0.950088\n",
      "2000-01-08   -0.151357\n",
      "2000-01-09   -0.103219\n",
      "Freq: D, dtype: float64\n",
      "2000-04-01    1.222445\n",
      "2000-04-02    0.208275\n",
      "2000-04-03    0.976639\n",
      "2000-04-04    0.356366\n",
      "2000-04-05    0.706573\n",
      "2000-04-06    0.010500\n",
      "2000-04-07    1.785870\n",
      "2000-04-08    0.126912\n",
      "2000-04-09    0.401989\n",
      "Freq: D, dtype: float64\n",
      "2000-01-20   -0.854096\n",
      "2000-01-07    0.950088\n",
      "2000-02-15   -0.438074\n",
      "dtype: float64\n",
      "2000-03-07   -1.630198\n",
      "2000-04-01    1.222445\n",
      "2000-03-26    1.895889\n",
      "2000-02-09   -0.302303\n",
      "2000-02-09   -0.302303\n",
      "                ...   \n",
      "2000-01-08   -0.151357\n",
      "2000-03-21   -1.165150\n",
      "2000-01-23    0.864436\n",
      "2000-03-20    0.056165\n",
      "2000-03-30    1.054452\n",
      "Length: 125, dtype: float64\n"
     ]
    }
   ],
   "source": [
    "np.random.seed(0)\n",
    "sample_normal_d = np.random.randn(100)\n",
    "index_dates = pd.date_range('2000-01-01', freq='D', periods=100)\n",
    "s = pd.Series(data=sample_normal_d, index=index_dates)\n",
    "\n",
    "print(s.head(1))\n",
    "print(s.tail(5))\n",
    "# print(s[:14])\n",
    "print(s.first('2W'))\n",
    "print(s.last('M'))\n",
    "print(s.sample(n=3))\n",
    "print(s.sample(frac=1.25, replace=True))"
   ],
   "metadata": {
    "collapsed": false,
    "pycharm": {
     "name": "#%%\n"
    }
   }
  },
  {
   "cell_type": "code",
   "execution_count": 61,
   "outputs": [
    {
     "name": "stdout",
     "output_type": "stream",
     "text": [
      "3.3\n",
      "nan\n"
     ]
    }
   ],
   "source": [
    "s = pd.Series(\n",
    "    data = [1.1, 2.2, 3.3, None, 5.5],\n",
    "    index = [1, 0, 3.3, 99, -1])\n",
    "\n",
    "print(s[3.3])\n",
    "print(s[99])"
   ],
   "metadata": {
    "collapsed": false,
    "pycharm": {
     "name": "#%%\n"
    }
   }
  },
  {
   "cell_type": "code",
   "execution_count": 66,
   "outputs": [
    {
     "name": "stdout",
     "output_type": "stream",
     "text": [
      "3.3\n",
      "3.3\n",
      "5.5\n"
     ]
    }
   ],
   "source": [
    "s = pd.Series(\n",
    "    data = [1.1, 2.2, 3.3, None, 5.5],\n",
    "    index = ['a', 'b', 'c', 'd', 'e'])\n",
    "\n",
    "print(s.c)\n",
    "print(s['c'])\n",
    "print(s['e'])"
   ],
   "metadata": {
    "collapsed": false,
    "pycharm": {
     "name": "#%%\n"
    }
   }
  },
  {
   "cell_type": "code",
   "execution_count": 75,
   "outputs": [
    {
     "name": "stdout",
     "output_type": "stream",
     "text": [
      "1.1\n",
      "1.1\n",
      "DatetimeIndex(['1999-12-30', '1999-12-31', '2000-01-01', '2000-01-02',\n",
      "               '2000-01-03'],\n",
      "              dtype='datetime64[ns]', freq='D')\n",
      "1999-12-30    1.1\n",
      "1999-12-31    2.2\n",
      "Freq: D, dtype: float64\n",
      "2000-01-01    3.3\n",
      "2000-01-02    NaN\n",
      "2000-01-03    5.5\n",
      "Freq: D, dtype: float64\n"
     ]
    }
   ],
   "source": [
    "s = pd.Series(\n",
    "    data = [1.1, 2.2, 3.3, None, 5.5],\n",
    "    index = pd.date_range('1999-12-30', periods=5))\n",
    "\n",
    "print(s[0])\n",
    "print(s['1999-12-30'])\n",
    "print(s.index)\n",
    "print(s['1999'])\n",
    "print(s['2000-01'])"
   ],
   "metadata": {
    "collapsed": false,
    "pycharm": {
     "name": "#%%\n"
    }
   }
  },
  {
   "cell_type": "code",
   "execution_count": 93,
   "outputs": [
    {
     "name": "stdout",
     "output_type": "stream",
     "text": [
      "-0.3627411659871381\n",
      "2000-01-01    1.764052\n",
      "Freq: D, dtype: float64\n",
      "2000-04-09    0.401989\n",
      "Freq: D, dtype: float64\n",
      "-0.8954665611936756\n",
      "1.764052345967664\n",
      "0.40198936344470165\n",
      "-0.8954665611936756\n"
     ]
    }
   ],
   "source": [
    "# Series getitem\n",
    "np.random.seed(0)\n",
    "sample_random_normal = np.random.randn(100)\n",
    "index_dates = pd.date_range('2000-01-01', freq='D', periods=100)\n",
    "s = pd.Series(data=sample_random_normal, index=index_dates)\n",
    "\n",
    "print(s['2000-02-29'])\n",
    "print(s.first('D'))\n",
    "print(s.last('D'))\n",
    "print(s[int(len(s)/2)])\n",
    "\n",
    "print(s[0])\n",
    "print(s[-1])\n",
    "print(s[s.size // 2])"
   ],
   "metadata": {
    "collapsed": false,
    "pycharm": {
     "name": "#%%\n"
    }
   }
  },
  {
   "cell_type": "code",
   "execution_count": 99,
   "outputs": [],
   "source": [
    "s = pd.Series(np.arange(1., 6.))"
   ],
   "metadata": {
    "collapsed": false,
    "pycharm": {
     "name": "#%%\n"
    }
   }
  },
  {
   "cell_type": "code",
   "execution_count": 100,
   "outputs": [
    {
     "data": {
      "text/plain": "0    1.0\n1    2.0\ndtype: float64"
     },
     "execution_count": 100,
     "metadata": {},
     "output_type": "execute_result"
    }
   ],
   "source": [
    "s[:2]"
   ],
   "metadata": {
    "collapsed": false,
    "pycharm": {
     "name": "#%%\n"
    }
   }
  },
  {
   "cell_type": "code",
   "execution_count": 101,
   "outputs": [
    {
     "data": {
      "text/plain": "2    3.0\n3    4.0\n4    5.0\ndtype: float64"
     },
     "execution_count": 101,
     "metadata": {},
     "output_type": "execute_result"
    }
   ],
   "source": [
    "s[2:]"
   ],
   "metadata": {
    "collapsed": false,
    "pycharm": {
     "name": "#%%\n"
    }
   }
  },
  {
   "cell_type": "code",
   "execution_count": 102,
   "outputs": [
    {
     "data": {
      "text/plain": "aaa    1.0\nbbb    2.0\ndtype: float64"
     },
     "execution_count": 102,
     "metadata": {},
     "output_type": "execute_result"
    }
   ],
   "source": [
    "s = pd.Series(\n",
    "    data = [1.0, 2.0, 3.0, 4.0, 5.0],\n",
    "    index = ['aaa', 'bbb', 'ccc', 'ddd', 'eee'])\n",
    "\n",
    "s['a':'c']"
   ],
   "metadata": {
    "collapsed": false,
    "pycharm": {
     "name": "#%%\n"
    }
   }
  },
  {
   "cell_type": "code",
   "execution_count": 107,
   "outputs": [],
   "source": [
    "np.random.seed(0)\n",
    "normal_sample = np.random.randn(100)\n",
    "index_dates = pd.date_range('2000', freq='D', periods=100)\n",
    "s = pd.Series(data=normal_sample, index=index_dates)"
   ],
   "metadata": {
    "collapsed": false,
    "pycharm": {
     "name": "#%%\n"
    }
   }
  },
  {
   "cell_type": "code",
   "execution_count": 109,
   "outputs": [
    {
     "data": {
      "text/plain": "2000-02-14   -0.509652\n2000-02-15   -0.438074\n2000-02-16   -1.252795\n2000-02-17    0.777490\n2000-02-18   -1.613898\n2000-02-19   -0.212740\n2000-02-20   -0.895467\n2000-02-21    0.386902\n2000-02-22   -0.510805\n2000-02-23   -1.180632\n2000-02-24   -0.028182\n2000-02-25    0.428332\n2000-02-26    0.066517\n2000-02-27    0.302472\n2000-02-28   -0.634322\n2000-02-29   -0.362741\nFreq: D, dtype: float64"
     },
     "execution_count": 109,
     "metadata": {},
     "output_type": "execute_result"
    }
   ],
   "source": [
    "s['2000-02-14':'2000-02']"
   ],
   "metadata": {
    "collapsed": false,
    "pycharm": {
     "name": "#%%\n"
    }
   }
  },
  {
   "cell_type": "code",
   "execution_count": 117,
   "outputs": [
    {
     "data": {
      "text/plain": "j    97\nk    80\nl    98\nm    98\nn    22\no    68\np    75\ndtype: int64"
     },
     "execution_count": 117,
     "metadata": {},
     "output_type": "execute_result"
    }
   ],
   "source": [
    "np.random.seed(0)\n",
    "ascii_lowercase = 'abcdefghijklmnopqrstuvwxyz'\n",
    "ascii_lowercase = list(ascii_lowercase)\n",
    "random_sample = np.random.randint(10, 100, size=26)\n",
    "s = pd.Series(data=random_sample, index=ascii_lowercase)\n",
    "happy_middle = len(ascii_lowercase) // 2\n",
    "s[happy_middle -4: happy_middle +3]"
   ],
   "metadata": {
    "collapsed": false,
    "pycharm": {
     "name": "#%%\n"
    }
   }
  },
  {
   "cell_type": "code",
   "execution_count": 137,
   "outputs": [
    {
     "data": {
      "text/plain": "0    1.000000\n1    2.333333\n2    3.666667\n3    5.000000\n4    5.500000\n5    6.000000\ndtype: float64"
     },
     "execution_count": 137,
     "metadata": {},
     "output_type": "execute_result"
    }
   ],
   "source": [
    "s = pd.Series([1.0, None, None, 5.0, None, 6.0])\n",
    "\n",
    "s.dropna()\n",
    "s.interpolate('linear')"
   ],
   "metadata": {
    "collapsed": false,
    "pycharm": {
     "name": "#%%\n"
    }
   }
  },
  {
   "cell_type": "code",
   "execution_count": 147,
   "outputs": [
    {
     "data": {
      "text/plain": "0    1.0\n1    0.0\n2    5.0\n3    1.0\n4    2.0\n5    1.0\ndtype: float64"
     },
     "execution_count": 147,
     "metadata": {},
     "output_type": "execute_result"
    }
   ],
   "source": [
    "# 5.10.11.a. Series NA\n",
    "DATA = [1, None, 5, None, 1, 2, 1]\n",
    "s = pd.Series(DATA)\n",
    "s.fillna(0, limit=1).dropna().reset_index(drop=True)\n"
   ],
   "metadata": {
    "collapsed": false,
    "pycharm": {
     "name": "#%%\n"
    }
   }
  },
  {
   "cell_type": "markdown",
   "source": [
    "### Series Alter\n"
   ],
   "metadata": {
    "collapsed": false,
    "pycharm": {
     "name": "#%% md\n"
    }
   }
  },
  {
   "cell_type": "code",
   "execution_count": 150,
   "outputs": [
    {
     "data": {
      "text/plain": "0    1.0\n1    NaN\n2    2.0\ndtype: float64"
     },
     "execution_count": 150,
     "metadata": {},
     "output_type": "execute_result"
    }
   ],
   "source": [
    "DATA = [1, None, 5, None, 1, 2, 1]\n",
    "\n",
    "s = pd.Series(DATA)\n",
    "s.drop([2,4,6]).drop_duplicates().reset_index(drop=True)"
   ],
   "metadata": {
    "collapsed": false,
    "pycharm": {
     "name": "#%%\n"
    }
   }
  },
  {
   "cell_type": "code",
   "execution_count": 158,
   "outputs": [
    {
     "data": {
      "text/plain": " 6     -5.99\n-4      0.00\n 99     3.14\n 2     77.10\n 0     99.90\ndtype: float64"
     },
     "execution_count": 158,
     "metadata": {},
     "output_type": "execute_result"
    }
   ],
   "source": [
    "# 5.12.1 Sort Values\n",
    "s = pd.Series(\n",
    "    data = [99.9, 3.14, -5.99, 0.0, 77.1],\n",
    "    index = [0, 99, 6, -4, 2])\n",
    "\n",
    "s.sort_values()"
   ],
   "metadata": {
    "collapsed": false,
    "pycharm": {
     "name": "#%%\n"
    }
   }
  },
  {
   "cell_type": "code",
   "execution_count": 159,
   "outputs": [
    {
     "data": {
      "text/plain": " 0     99.90\n 2     77.10\n 99     3.14\n-4      0.00\n 6     -5.99\ndtype: float64"
     },
     "execution_count": 159,
     "metadata": {},
     "output_type": "execute_result"
    }
   ],
   "source": [
    "s.sort_values(ascending=False)"
   ],
   "metadata": {
    "collapsed": false,
    "pycharm": {
     "name": "#%%\n"
    }
   }
  },
  {
   "cell_type": "code",
   "execution_count": 161,
   "outputs": [
    {
     "data": {
      "text/plain": " 99     3.14\n 6     -5.99\n 2     77.10\n 0     99.90\n-4      0.00\ndtype: float64"
     },
     "execution_count": 161,
     "metadata": {},
     "output_type": "execute_result"
    }
   ],
   "source": [
    "s.sort_index(ascending=False)"
   ],
   "metadata": {
    "collapsed": false,
    "pycharm": {
     "name": "#%%\n"
    }
   }
  },
  {
   "cell_type": "markdown",
   "source": [
    "### 5.13 Series Arithmetic"
   ],
   "metadata": {
    "collapsed": false,
    "pycharm": {
     "name": "#%% md\n"
    }
   }
  },
  {
   "cell_type": "code",
   "execution_count": 163,
   "outputs": [],
   "source": [
    "#5.13.1 Vectorizes Operations\n",
    "s = pd.Series(\n",
    "    data = [1.1, 2.2, np.nan, 4.4],\n",
    "    index = ['a', 'b', 'c', 'd'])"
   ],
   "metadata": {
    "collapsed": false,
    "pycharm": {
     "name": "#%%\n"
    }
   }
  },
  {
   "cell_type": "code",
   "execution_count": 170,
   "outputs": [
    {
     "data": {
      "text/plain": "a    3.1\nb    4.2\nc    2.0\nd    6.4\ndtype: float64"
     },
     "execution_count": 170,
     "metadata": {},
     "output_type": "execute_result"
    }
   ],
   "source": [
    "s.fillna(value=0) + 2"
   ],
   "metadata": {
    "collapsed": false,
    "pycharm": {
     "name": "#%%\n"
    }
   }
  },
  {
   "cell_type": "code",
   "execution_count": 173,
   "outputs": [
    {
     "data": {
      "text/plain": "a   -0.9\nb    0.2\nc   -2.0\nd    2.4\ndtype: float64"
     },
     "execution_count": 173,
     "metadata": {},
     "output_type": "execute_result"
    }
   ],
   "source": [
    "s.sub(2)\n",
    "s.subtract(2)"
   ],
   "metadata": {
    "collapsed": false,
    "pycharm": {
     "name": "#%%\n"
    }
   }
  },
  {
   "cell_type": "code",
   "execution_count": 1,
   "outputs": [
    {
     "ename": "NameError",
     "evalue": "name 'np' is not defined",
     "output_type": "error",
     "traceback": [
      "\u001B[0;31m---------------------------------------------------------------------------\u001B[0m",
      "\u001B[0;31mNameError\u001B[0m                                 Traceback (most recent call last)",
      "\u001B[0;32m<ipython-input-1-022f42d24d23>\u001B[0m in \u001B[0;36m<module>\u001B[0;34m\u001B[0m\n\u001B[1;32m      1\u001B[0m \u001B[0;31m# 5.13.3.a. Series Arithmetic\u001B[0m\u001B[0;34m\u001B[0m\u001B[0;34m\u001B[0m\u001B[0;34m\u001B[0m\u001B[0m\n\u001B[0;32m----> 2\u001B[0;31m \u001B[0mnp\u001B[0m\u001B[0;34m.\u001B[0m\u001B[0mrandom\u001B[0m\u001B[0;34m.\u001B[0m\u001B[0mseed\u001B[0m\u001B[0;34m(\u001B[0m\u001B[0;36m0\u001B[0m\u001B[0;34m)\u001B[0m\u001B[0;34m\u001B[0m\u001B[0;34m\u001B[0m\u001B[0m\n\u001B[0m\u001B[1;32m      3\u001B[0m \u001B[0mdata\u001B[0m \u001B[0;34m=\u001B[0m \u001B[0mnp\u001B[0m\u001B[0;34m.\u001B[0m\u001B[0mrandom\u001B[0m\u001B[0;34m.\u001B[0m\u001B[0mrandint\u001B[0m\u001B[0;34m(\u001B[0m\u001B[0;36m0\u001B[0m\u001B[0;34m,\u001B[0m\u001B[0;36m9\u001B[0m\u001B[0;34m,\u001B[0m \u001B[0msize\u001B[0m\u001B[0;34m=\u001B[0m\u001B[0;36m5\u001B[0m\u001B[0;34m)\u001B[0m\u001B[0;34m\u001B[0m\u001B[0;34m\u001B[0m\u001B[0m\n\u001B[1;32m      4\u001B[0m \u001B[0midx\u001B[0m \u001B[0;34m=\u001B[0m \u001B[0mlist\u001B[0m\u001B[0;34m(\u001B[0m\u001B[0;34m'abcde'\u001B[0m\u001B[0;34m)\u001B[0m\u001B[0;34m\u001B[0m\u001B[0;34m\u001B[0m\u001B[0m\n\u001B[1;32m      5\u001B[0m \u001B[0ms\u001B[0m \u001B[0;34m=\u001B[0m \u001B[0mpd\u001B[0m\u001B[0;34m.\u001B[0m\u001B[0mSeries\u001B[0m\u001B[0;34m(\u001B[0m\u001B[0mdata\u001B[0m\u001B[0;34m,\u001B[0m \u001B[0midx\u001B[0m\u001B[0;34m)\u001B[0m\u001B[0;34m\u001B[0m\u001B[0;34m\u001B[0m\u001B[0m\n",
      "\u001B[0;31mNameError\u001B[0m: name 'np' is not defined"
     ]
    }
   ],
   "source": [
    "# 5.13.3.a. Series Arithmetic\n",
    "np.random.seed(0)\n",
    "data = np.random.randint(0,9, size=5)\n",
    "idx = list('abcde')\n",
    "s = pd.Series(data, idx)\n",
    "(s * 10) * s"
   ],
   "metadata": {
    "collapsed": false,
    "pycharm": {
     "name": "#%%\n"
    }
   }
  },
  {
   "cell_type": "markdown",
   "source": [
    "### Series Statistics\n",
    "\n"
   ],
   "metadata": {
    "collapsed": false,
    "pycharm": {
     "name": "#%% md\n"
    }
   }
  },
  {
   "cell_type": "code",
   "execution_count": 6,
   "outputs": [],
   "source": [
    "s = pd.Series(\n",
    "    data = [1.0, 2.0, 3.0, np.nan, 5.0, 5],\n",
    "    index = ['a', 'b', 'c', 'd', 'e', 'f'])"
   ],
   "metadata": {
    "collapsed": false,
    "pycharm": {
     "name": "#%%\n"
    }
   }
  },
  {
   "cell_type": "code",
   "execution_count": 8,
   "outputs": [
    {
     "data": {
      "text/plain": "5.0    2\n3.0    1\n2.0    1\n1.0    1\ndtype: int64"
     },
     "execution_count": 8,
     "metadata": {},
     "output_type": "execute_result"
    }
   ],
   "source": [
    "s.value_counts()\n"
   ],
   "metadata": {
    "collapsed": false,
    "pycharm": {
     "name": "#%%\n"
    }
   }
  },
  {
   "cell_type": "code",
   "execution_count": 10,
   "outputs": [
    {
     "data": {
      "text/plain": "5"
     },
     "execution_count": 10,
     "metadata": {},
     "output_type": "execute_result"
    }
   ],
   "source": [
    "s.size\n",
    "s.count()"
   ],
   "metadata": {
    "collapsed": false,
    "pycharm": {
     "name": "#%%\n"
    }
   }
  },
  {
   "cell_type": "code",
   "execution_count": 13,
   "outputs": [
    {
     "data": {
      "text/plain": "4"
     },
     "execution_count": 13,
     "metadata": {},
     "output_type": "execute_result"
    }
   ],
   "source": [
    "s.nunique()"
   ],
   "metadata": {
    "collapsed": false,
    "pycharm": {
     "name": "#%%\n"
    }
   }
  },
  {
   "cell_type": "code",
   "execution_count": 15,
   "outputs": [
    {
     "data": {
      "text/plain": "16.0"
     },
     "execution_count": 15,
     "metadata": {},
     "output_type": "execute_result"
    }
   ],
   "source": [
    "s.sum()"
   ],
   "metadata": {
    "collapsed": false,
    "pycharm": {
     "name": "#%%\n"
    }
   }
  },
  {
   "cell_type": "code",
   "execution_count": 20,
   "outputs": [
    {
     "data": {
      "text/plain": "'e'"
     },
     "execution_count": 20,
     "metadata": {},
     "output_type": "execute_result"
    }
   ],
   "source": [
    "s.cumsum()\n",
    "s.cummax()\n",
    "s.cumprod()\n",
    "s.cummin()\n",
    "s.idxmax()"
   ],
   "metadata": {
    "collapsed": false,
    "pycharm": {
     "name": "#%%\n"
    }
   }
  },
  {
   "cell_type": "code",
   "execution_count": 22,
   "outputs": [
    {
     "data": {
      "text/plain": "4"
     },
     "execution_count": 22,
     "metadata": {},
     "output_type": "execute_result"
    }
   ],
   "source": [
    "s.argmax()"
   ],
   "metadata": {
    "collapsed": false,
    "pycharm": {
     "name": "#%%\n"
    }
   }
  },
  {
   "cell_type": "code",
   "execution_count": 26,
   "outputs": [
    {
     "data": {
      "text/plain": "0    5.0\ndtype: float64"
     },
     "execution_count": 26,
     "metadata": {},
     "output_type": "execute_result"
    }
   ],
   "source": [
    "s.mean()\n",
    "s.median()\n",
    "s.mode()"
   ],
   "metadata": {
    "collapsed": false,
    "pycharm": {
     "name": "#%%\n"
    }
   }
  },
  {
   "cell_type": "code",
   "execution_count": 29,
   "outputs": [
    {
     "data": {
      "text/plain": "a    NaN\nb    1.5\nc    2.5\nd    NaN\ne    NaN\nf    5.0\ndtype: float64"
     },
     "execution_count": 29,
     "metadata": {},
     "output_type": "execute_result"
    }
   ],
   "source": [
    "s.rolling(window=2).mean()"
   ],
   "metadata": {
    "collapsed": false,
    "pycharm": {
     "name": "#%%\n"
    }
   }
  },
  {
   "cell_type": "code",
   "execution_count": 31,
   "outputs": [
    {
     "data": {
      "text/plain": "1.7888543819998317"
     },
     "execution_count": 31,
     "metadata": {},
     "output_type": "execute_result"
    }
   ],
   "source": [
    "s.std()"
   ],
   "metadata": {
    "collapsed": false,
    "pycharm": {
     "name": "#%%\n"
    }
   }
  },
  {
   "cell_type": "code",
   "execution_count": 31,
   "outputs": [],
   "source": [],
   "metadata": {
    "collapsed": false,
    "pycharm": {
     "name": "#%%\n"
    }
   }
  }
 ],
 "metadata": {
  "kernelspec": {
   "display_name": "Python 3",
   "language": "python",
   "name": "python3"
  },
  "language_info": {
   "codemirror_mode": {
    "name": "ipython",
    "version": 2
   },
   "file_extension": ".py",
   "mimetype": "text/x-python",
   "name": "python",
   "nbconvert_exporter": "python",
   "pygments_lexer": "ipython2",
   "version": "2.7.6"
  }
 },
 "nbformat": 4,
 "nbformat_minor": 0
}
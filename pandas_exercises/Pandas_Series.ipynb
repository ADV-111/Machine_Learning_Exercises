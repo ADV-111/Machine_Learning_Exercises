{
 "cells": [
  {
   "cell_type": "markdown",
   "metadata": {
    "collapsed": true,
    "pycharm": {
     "name": "#%% md\n"
    }
   },
   "source": [
    "### Series create\n",
    "\n"
   ]
  },
  {
   "cell_type": "code",
   "execution_count": 1,
   "metadata": {
    "pycharm": {
     "name": "#%%\n"
    }
   },
   "outputs": [],
   "source": [
    "import pandas as pd\n",
    "import numpy as np\n",
    "\n"
   ]
  },
  {
   "cell_type": "code",
   "execution_count": 2,
   "metadata": {
    "pycharm": {
     "name": "#%%\n"
    }
   },
   "outputs": [
    {
     "data": {
      "text/plain": [
       "0    1\n",
       "1    2\n",
       "2    3\n",
       "3    4\n",
       "dtype: int64"
      ]
     },
     "execution_count": 2,
     "metadata": {},
     "output_type": "execute_result"
    }
   ],
   "source": [
    "pd.Series([1,2,3,4])\n"
   ]
  },
  {
   "cell_type": "code",
   "execution_count": 3,
   "metadata": {
    "pycharm": {
     "name": "#%%\n"
    }
   },
   "outputs": [
    {
     "data": {
      "text/plain": [
       "0    1.0\n",
       "1    2.0\n",
       "2    3.0\n",
       "3    4.0\n",
       "dtype: float64"
      ]
     },
     "execution_count": 3,
     "metadata": {},
     "output_type": "execute_result"
    }
   ],
   "source": [
    "pd.Series([1.,2.,3.,4.])\n"
   ]
  },
  {
   "cell_type": "code",
   "execution_count": 4,
   "metadata": {
    "pycharm": {
     "name": "#%%\n"
    }
   },
   "outputs": [
    {
     "data": {
      "text/plain": [
       "0    1.0\n",
       "1    3.0\n",
       "2    NaN\n",
       "3    4.0\n",
       "dtype: float64"
      ]
     },
     "execution_count": 4,
     "metadata": {},
     "output_type": "execute_result"
    }
   ],
   "source": [
    "pd.Series([1,3,None, 4])"
   ]
  },
  {
   "cell_type": "code",
   "execution_count": 5,
   "metadata": {
    "pycharm": {
     "name": "#%%\n"
    }
   },
   "outputs": [
    {
     "data": {
      "text/plain": [
       "0    a\n",
       "1    b\n",
       "2    c\n",
       "3    d\n",
       "dtype: object"
      ]
     },
     "execution_count": 5,
     "metadata": {},
     "output_type": "execute_result"
    }
   ],
   "source": [
    "pd.Series(['a', 'b', 'c', 'd'])"
   ]
  },
  {
   "cell_type": "code",
   "execution_count": 6,
   "metadata": {
    "pycharm": {
     "name": "#%%\n"
    }
   },
   "outputs": [
    {
     "data": {
      "text/plain": [
       "0    a\n",
       "1    b\n",
       "2    c\n",
       "3    d\n",
       "dtype: object"
      ]
     },
     "execution_count": 6,
     "metadata": {},
     "output_type": "execute_result"
    }
   ],
   "source": [
    "list('abcd')\n",
    "pd.Series(list('abcd'))"
   ]
  },
  {
   "cell_type": "code",
   "execution_count": 7,
   "metadata": {
    "pycharm": {
     "name": "#%%\n"
    }
   },
   "outputs": [
    {
     "data": {
      "text/plain": [
       "0    0\n",
       "1    1\n",
       "2    2\n",
       "3    3\n",
       "dtype: int64"
      ]
     },
     "execution_count": 7,
     "metadata": {},
     "output_type": "execute_result"
    }
   ],
   "source": [
    "pd.Series(range(4))"
   ]
  },
  {
   "cell_type": "code",
   "execution_count": 8,
   "metadata": {
    "pycharm": {
     "name": "#%%\n"
    }
   },
   "outputs": [
    {
     "data": {
      "text/plain": [
       "0    0.0\n",
       "1    1.0\n",
       "2    2.0\n",
       "3    3.0\n",
       "dtype: float64"
      ]
     },
     "execution_count": 8,
     "metadata": {},
     "output_type": "execute_result"
    }
   ],
   "source": [
    "pd.Series(np.arange(4.))\n"
   ]
  },
  {
   "cell_type": "code",
   "execution_count": 9,
   "metadata": {
    "pycharm": {
     "name": "#%%\n"
    }
   },
   "outputs": [
    {
     "data": {
      "text/plain": [
       "366"
      ]
     },
     "execution_count": 9,
     "metadata": {},
     "output_type": "execute_result"
    }
   ],
   "source": [
    "date_range = pd.Series(pd.date_range(start='2020-09-21', end='2021-09-21'))\n",
    "len(date_range)"
   ]
  },
  {
   "cell_type": "markdown",
   "metadata": {
    "pycharm": {
     "name": "#%% md\n"
    }
   },
   "source": [
    "### Series Create Float\n",
    "\n"
   ]
  },
  {
   "cell_type": "code",
   "execution_count": 11,
   "metadata": {
    "pycharm": {
     "name": "#%%\n"
    }
   },
   "outputs": [
    {
     "data": {
      "text/plain": [
       "0    1.0\n",
       "1    3.0\n",
       "2    NaN\n",
       "3    5.0\n",
       "4    7.0\n",
       "dtype: float64"
      ]
     },
     "execution_count": 11,
     "metadata": {},
     "output_type": "execute_result"
    }
   ],
   "source": [
    "five_floats = pd.Series([1., 3., None, 5., 7.])\n",
    "five_floats"
   ]
  },
  {
   "cell_type": "code",
   "execution_count": 17,
   "metadata": {
    "pycharm": {
     "name": "#%%\n"
    }
   },
   "outputs": [
    {
     "data": {
      "text/plain": [
       "0    5\n",
       "1    0\n",
       "2    3\n",
       "3    3\n",
       "4    7\n",
       "5    9\n",
       "6    3\n",
       "7    5\n",
       "8    2\n",
       "9    4\n",
       "dtype: int64"
      ]
     },
     "execution_count": 17,
     "metadata": {},
     "output_type": "execute_result"
    }
   ],
   "source": [
    "np.random.seed(0)\n",
    "\n",
    "arr = pd.Series(np.random.randint(0,10, size=10))\n",
    "arr"
   ]
  },
  {
   "cell_type": "code",
   "execution_count": 20,
   "metadata": {
    "pycharm": {
     "name": "#%%\n"
    }
   },
   "outputs": [
    {
     "data": {
      "text/plain": [
       "0     0\n",
       "1     2\n",
       "2     4\n",
       "3     6\n",
       "4     8\n",
       "5    10\n",
       "6    12\n",
       "7    14\n",
       "8    16\n",
       "9    18\n",
       "dtype: int64"
      ]
     },
     "execution_count": 20,
     "metadata": {},
     "output_type": "execute_result"
    }
   ],
   "source": [
    "# create even\n",
    "np.random.seed(0)\n",
    "\n",
    "ten_even_no = np.arange(0, 20, 2)\n",
    "pd.Series(ten_even_no)"
   ]
  },
  {
   "cell_type": "code",
   "execution_count": 27,
   "metadata": {
    "pycharm": {
     "name": "#%%\n"
    }
   },
   "outputs": [
    {
     "name": "stdout",
     "output_type": "stream",
     "text": [
      "The number of days spent between to lunches 3023\n",
      "0      1961-04-12\n",
      "1      1961-04-13\n",
      "2      1961-04-14\n",
      "3      1961-04-15\n",
      "4      1961-04-16\n",
      "          ...    \n",
      "3018   1969-07-17\n",
      "3019   1969-07-18\n",
      "3020   1969-07-19\n",
      "3021   1969-07-20\n",
      "3022   1969-07-21\n",
      "Length: 3023, dtype: datetime64[ns]\n"
     ]
    }
   ],
   "source": [
    "#Create dates\n",
    "\n",
    "gagarin = pd.Timestamp('1961-04-12')\n",
    "armstrong = pd.Timestamp('1969-07-21')\n",
    "days_between = pd.date_range(gagarin, armstrong)\n",
    "number_of_days = len(days_between)\n",
    "series_of_days = pd.Series(days_between)\n",
    "\n",
    "print(f'The number of days spent between to launches {number_of_days}')\n",
    "print(series_of_days)"
   ]
  },
  {
   "cell_type": "code",
   "execution_count": 35,
   "metadata": {
    "pycharm": {
     "name": "#%%\n"
    }
   },
   "outputs": [
    {
     "name": "stdout",
     "output_type": "stream",
     "text": [
      "0      1961-04-12\n",
      "1      1961-04-13\n",
      "2      1961-04-14\n",
      "3      1961-04-15\n",
      "4      1961-04-16\n",
      "          ...    \n",
      "3018   1969-07-17\n",
      "3019   1969-07-18\n",
      "3020   1969-07-19\n",
      "3021   1969-07-20\n",
      "3022   1969-07-21\n",
      "Length: 3023, dtype: datetime64[ns]\n",
      "3023\n"
     ]
    }
   ],
   "source": [
    "# another solution\n",
    "date = pd.date_range('1961-04-12', '1969-07-21', freq='D')\n",
    "print(pd.Series(date))\n",
    "print(len(date))"
   ]
  },
  {
   "cell_type": "markdown",
   "metadata": {
    "pycharm": {
     "name": "#%% md\n"
    }
   },
   "source": [
    "## Series Attributes"
   ]
  },
  {
   "cell_type": "code",
   "execution_count": 36,
   "metadata": {
    "pycharm": {
     "name": "#%%\n"
    }
   },
   "outputs": [],
   "source": [
    "s = pd.Series(['a', 'b', 'c'])"
   ]
  },
  {
   "cell_type": "code",
   "execution_count": 41,
   "metadata": {
    "pycharm": {
     "name": "#%%\n"
    }
   },
   "outputs": [
    {
     "data": {
      "text/plain": [
       "array(['a', 'b', 'c'], dtype=object)"
      ]
     },
     "execution_count": 41,
     "metadata": {},
     "output_type": "execute_result"
    }
   ],
   "source": [
    "s.shape\n",
    "s.size\n",
    "s.ndim\n",
    "s.index\n",
    "s.values"
   ]
  },
  {
   "cell_type": "markdown",
   "metadata": {
    "pycharm": {
     "name": "#%% md\n"
    }
   },
   "source": [
    "### Series Sample"
   ]
  },
  {
   "cell_type": "code",
   "execution_count": 59,
   "metadata": {
    "pycharm": {
     "name": "#%%\n"
    }
   },
   "outputs": [
    {
     "name": "stdout",
     "output_type": "stream",
     "text": [
      "2000-01-01    1.764052\n",
      "Freq: D, dtype: float64\n",
      "2000-04-05    0.706573\n",
      "2000-04-06    0.010500\n",
      "2000-04-07    1.785870\n",
      "2000-04-08    0.126912\n",
      "2000-04-09    0.401989\n",
      "Freq: D, dtype: float64\n",
      "2000-01-01    1.764052\n",
      "2000-01-02    0.400157\n",
      "2000-01-03    0.978738\n",
      "2000-01-04    2.240893\n",
      "2000-01-05    1.867558\n",
      "2000-01-06   -0.977278\n",
      "2000-01-07    0.950088\n",
      "2000-01-08   -0.151357\n",
      "2000-01-09   -0.103219\n",
      "Freq: D, dtype: float64\n",
      "2000-04-01    1.222445\n",
      "2000-04-02    0.208275\n",
      "2000-04-03    0.976639\n",
      "2000-04-04    0.356366\n",
      "2000-04-05    0.706573\n",
      "2000-04-06    0.010500\n",
      "2000-04-07    1.785870\n",
      "2000-04-08    0.126912\n",
      "2000-04-09    0.401989\n",
      "Freq: D, dtype: float64\n",
      "2000-01-20   -0.854096\n",
      "2000-01-07    0.950088\n",
      "2000-02-15   -0.438074\n",
      "dtype: float64\n",
      "2000-03-07   -1.630198\n",
      "2000-04-01    1.222445\n",
      "2000-03-26    1.895889\n",
      "2000-02-09   -0.302303\n",
      "2000-02-09   -0.302303\n",
      "                ...   \n",
      "2000-01-08   -0.151357\n",
      "2000-03-21   -1.165150\n",
      "2000-01-23    0.864436\n",
      "2000-03-20    0.056165\n",
      "2000-03-30    1.054452\n",
      "Length: 125, dtype: float64\n"
     ]
    }
   ],
   "source": [
    "np.random.seed(0)\n",
    "sample_normal_d = np.random.randn(100)\n",
    "index_dates = pd.date_range('2000-01-01', freq='D', periods=100)\n",
    "s = pd.Series(data=sample_normal_d, index=index_dates)\n",
    "\n",
    "print(s.head(1))\n",
    "print(s.tail(5))\n",
    "# print(s[:14])\n",
    "print(s.first('2W'))\n",
    "print(s.last('M'))\n",
    "print(s.sample(n=3))\n",
    "print(s.sample(frac=1.25, replace=True))"
   ]
  },
  {
   "cell_type": "code",
   "execution_count": 61,
   "metadata": {
    "pycharm": {
     "name": "#%%\n"
    }
   },
   "outputs": [
    {
     "name": "stdout",
     "output_type": "stream",
     "text": [
      "3.3\n",
      "nan\n"
     ]
    }
   ],
   "source": [
    "s = pd.Series(\n",
    "    data = [1.1, 2.2, 3.3, None, 5.5],\n",
    "    index = [1, 0, 3.3, 99, -1])\n",
    "\n",
    "print(s[3.3])\n",
    "print(s[99])"
   ]
  },
  {
   "cell_type": "code",
   "execution_count": 66,
   "metadata": {
    "pycharm": {
     "name": "#%%\n"
    }
   },
   "outputs": [
    {
     "name": "stdout",
     "output_type": "stream",
     "text": [
      "3.3\n",
      "3.3\n",
      "5.5\n"
     ]
    }
   ],
   "source": [
    "s = pd.Series(\n",
    "    data = [1.1, 2.2, 3.3, None, 5.5],\n",
    "    index = ['a', 'b', 'c', 'd', 'e'])\n",
    "\n",
    "print(s.c)\n",
    "print(s['c'])\n",
    "print(s['e'])"
   ]
  },
  {
   "cell_type": "code",
   "execution_count": 75,
   "metadata": {
    "pycharm": {
     "name": "#%%\n"
    }
   },
   "outputs": [
    {
     "name": "stdout",
     "output_type": "stream",
     "text": [
      "1.1\n",
      "1.1\n",
      "DatetimeIndex(['1999-12-30', '1999-12-31', '2000-01-01', '2000-01-02',\n",
      "               '2000-01-03'],\n",
      "              dtype='datetime64[ns]', freq='D')\n",
      "1999-12-30    1.1\n",
      "1999-12-31    2.2\n",
      "Freq: D, dtype: float64\n",
      "2000-01-01    3.3\n",
      "2000-01-02    NaN\n",
      "2000-01-03    5.5\n",
      "Freq: D, dtype: float64\n"
     ]
    }
   ],
   "source": [
    "s = pd.Series(\n",
    "    data = [1.1, 2.2, 3.3, None, 5.5],\n",
    "    index = pd.date_range('1999-12-30', periods=5))\n",
    "\n",
    "print(s[0])\n",
    "print(s['1999-12-30'])\n",
    "print(s.index)\n",
    "print(s['1999'])\n",
    "print(s['2000-01'])"
   ]
  },
  {
   "cell_type": "code",
   "execution_count": 93,
   "metadata": {
    "pycharm": {
     "name": "#%%\n"
    }
   },
   "outputs": [
    {
     "name": "stdout",
     "output_type": "stream",
     "text": [
      "-0.3627411659871381\n",
      "2000-01-01    1.764052\n",
      "Freq: D, dtype: float64\n",
      "2000-04-09    0.401989\n",
      "Freq: D, dtype: float64\n",
      "-0.8954665611936756\n",
      "1.764052345967664\n",
      "0.40198936344470165\n",
      "-0.8954665611936756\n"
     ]
    }
   ],
   "source": [
    "# Series getitem\n",
    "np.random.seed(0)\n",
    "sample_random_normal = np.random.randn(100)\n",
    "index_dates = pd.date_range('2000-01-01', freq='D', periods=100)\n",
    "s = pd.Series(data=sample_random_normal, index=index_dates)\n",
    "\n",
    "print(s['2000-02-29'])\n",
    "print(s.first('D'))\n",
    "print(s.last('D'))\n",
    "print(s[int(len(s)/2)])\n",
    "\n",
    "print(s[0])\n",
    "print(s[-1])\n",
    "print(s[s.size // 2])"
   ]
  },
  {
   "cell_type": "code",
   "execution_count": 99,
   "metadata": {
    "pycharm": {
     "name": "#%%\n"
    }
   },
   "outputs": [],
   "source": [
    "s = pd.Series(np.arange(1., 6.))"
   ]
  },
  {
   "cell_type": "code",
   "execution_count": 100,
   "metadata": {
    "pycharm": {
     "name": "#%%\n"
    }
   },
   "outputs": [
    {
     "data": {
      "text/plain": [
       "0    1.0\n",
       "1    2.0\n",
       "dtype: float64"
      ]
     },
     "execution_count": 100,
     "metadata": {},
     "output_type": "execute_result"
    }
   ],
   "source": [
    "s[:2]"
   ]
  },
  {
   "cell_type": "code",
   "execution_count": 101,
   "metadata": {
    "pycharm": {
     "name": "#%%\n"
    }
   },
   "outputs": [
    {
     "data": {
      "text/plain": [
       "2    3.0\n",
       "3    4.0\n",
       "4    5.0\n",
       "dtype: float64"
      ]
     },
     "execution_count": 101,
     "metadata": {},
     "output_type": "execute_result"
    }
   ],
   "source": [
    "s[2:]"
   ]
  },
  {
   "cell_type": "code",
   "execution_count": 102,
   "metadata": {
    "pycharm": {
     "name": "#%%\n"
    }
   },
   "outputs": [
    {
     "data": {
      "text/plain": [
       "aaa    1.0\n",
       "bbb    2.0\n",
       "dtype: float64"
      ]
     },
     "execution_count": 102,
     "metadata": {},
     "output_type": "execute_result"
    }
   ],
   "source": [
    "s = pd.Series(\n",
    "    data = [1.0, 2.0, 3.0, 4.0, 5.0],\n",
    "    index = ['aaa', 'bbb', 'ccc', 'ddd', 'eee'])\n",
    "\n",
    "s['a':'c']"
   ]
  },
  {
   "cell_type": "code",
   "execution_count": 107,
   "metadata": {
    "pycharm": {
     "name": "#%%\n"
    }
   },
   "outputs": [],
   "source": [
    "np.random.seed(0)\n",
    "normal_sample = np.random.randn(100)\n",
    "index_dates = pd.date_range('2000', freq='D', periods=100)\n",
    "s = pd.Series(data=normal_sample, index=index_dates)"
   ]
  },
  {
   "cell_type": "code",
   "execution_count": 109,
   "metadata": {
    "pycharm": {
     "name": "#%%\n"
    }
   },
   "outputs": [
    {
     "data": {
      "text/plain": [
       "2000-02-14   -0.509652\n",
       "2000-02-15   -0.438074\n",
       "2000-02-16   -1.252795\n",
       "2000-02-17    0.777490\n",
       "2000-02-18   -1.613898\n",
       "2000-02-19   -0.212740\n",
       "2000-02-20   -0.895467\n",
       "2000-02-21    0.386902\n",
       "2000-02-22   -0.510805\n",
       "2000-02-23   -1.180632\n",
       "2000-02-24   -0.028182\n",
       "2000-02-25    0.428332\n",
       "2000-02-26    0.066517\n",
       "2000-02-27    0.302472\n",
       "2000-02-28   -0.634322\n",
       "2000-02-29   -0.362741\n",
       "Freq: D, dtype: float64"
      ]
     },
     "execution_count": 109,
     "metadata": {},
     "output_type": "execute_result"
    }
   ],
   "source": [
    "s['2000-02-14':'2000-02']"
   ]
  },
  {
   "cell_type": "code",
   "execution_count": 117,
   "metadata": {
    "pycharm": {
     "name": "#%%\n"
    }
   },
   "outputs": [
    {
     "data": {
      "text/plain": [
       "j    97\n",
       "k    80\n",
       "l    98\n",
       "m    98\n",
       "n    22\n",
       "o    68\n",
       "p    75\n",
       "dtype: int64"
      ]
     },
     "execution_count": 117,
     "metadata": {},
     "output_type": "execute_result"
    }
   ],
   "source": [
    "np.random.seed(0)\n",
    "ascii_lowercase = 'abcdefghijklmnopqrstuvwxyz'\n",
    "ascii_lowercase = list(ascii_lowercase)\n",
    "random_sample = np.random.randint(10, 100, size=26)\n",
    "s = pd.Series(data=random_sample, index=ascii_lowercase)\n",
    "happy_middle = len(ascii_lowercase) // 2\n",
    "s[happy_middle -4: happy_middle +3]"
   ]
  },
  {
   "cell_type": "code",
   "execution_count": 137,
   "metadata": {
    "pycharm": {
     "name": "#%%\n"
    }
   },
   "outputs": [
    {
     "data": {
      "text/plain": [
       "0    1.000000\n",
       "1    2.333333\n",
       "2    3.666667\n",
       "3    5.000000\n",
       "4    5.500000\n",
       "5    6.000000\n",
       "dtype: float64"
      ]
     },
     "execution_count": 137,
     "metadata": {},
     "output_type": "execute_result"
    }
   ],
   "source": [
    "s = pd.Series([1.0, None, None, 5.0, None, 6.0])\n",
    "\n",
    "s.dropna()\n",
    "s.interpolate('linear')"
   ]
  },
  {
   "cell_type": "code",
   "execution_count": 147,
   "metadata": {
    "pycharm": {
     "name": "#%%\n"
    }
   },
   "outputs": [
    {
     "data": {
      "text/plain": [
       "0    1.0\n",
       "1    0.0\n",
       "2    5.0\n",
       "3    1.0\n",
       "4    2.0\n",
       "5    1.0\n",
       "dtype: float64"
      ]
     },
     "execution_count": 147,
     "metadata": {},
     "output_type": "execute_result"
    }
   ],
   "source": [
    "# 5.10.11.a. Series NA\n",
    "DATA = [1, None, 5, None, 1, 2, 1]\n",
    "s = pd.Series(DATA)\n",
    "s.fillna(0, limit=1).dropna().reset_index(drop=True)\n"
   ]
  },
  {
   "cell_type": "markdown",
   "metadata": {
    "pycharm": {
     "name": "#%% md\n"
    }
   },
   "source": [
    "### Series Alter\n"
   ]
  },
  {
   "cell_type": "code",
   "execution_count": 150,
   "metadata": {
    "pycharm": {
     "name": "#%%\n"
    }
   },
   "outputs": [
    {
     "data": {
      "text/plain": [
       "0    1.0\n",
       "1    NaN\n",
       "2    2.0\n",
       "dtype: float64"
      ]
     },
     "execution_count": 150,
     "metadata": {},
     "output_type": "execute_result"
    }
   ],
   "source": [
    "DATA = [1, None, 5, None, 1, 2, 1]\n",
    "\n",
    "s = pd.Series(DATA)\n",
    "s.drop([2,4,6]).drop_duplicates().reset_index(drop=True)"
   ]
  },
  {
   "cell_type": "code",
   "execution_count": 158,
   "metadata": {
    "pycharm": {
     "name": "#%%\n"
    }
   },
   "outputs": [
    {
     "data": {
      "text/plain": [
       " 6     -5.99\n",
       "-4      0.00\n",
       " 99     3.14\n",
       " 2     77.10\n",
       " 0     99.90\n",
       "dtype: float64"
      ]
     },
     "execution_count": 158,
     "metadata": {},
     "output_type": "execute_result"
    }
   ],
   "source": [
    "# 5.12.1 Sort Values\n",
    "s = pd.Series(\n",
    "    data = [99.9, 3.14, -5.99, 0.0, 77.1],\n",
    "    index = [0, 99, 6, -4, 2])\n",
    "\n",
    "s.sort_values()"
   ]
  },
  {
   "cell_type": "code",
   "execution_count": 159,
   "metadata": {
    "pycharm": {
     "name": "#%%\n"
    }
   },
   "outputs": [
    {
     "data": {
      "text/plain": [
       " 0     99.90\n",
       " 2     77.10\n",
       " 99     3.14\n",
       "-4      0.00\n",
       " 6     -5.99\n",
       "dtype: float64"
      ]
     },
     "execution_count": 159,
     "metadata": {},
     "output_type": "execute_result"
    }
   ],
   "source": [
    "s.sort_values(ascending=False)"
   ]
  },
  {
   "cell_type": "code",
   "execution_count": 161,
   "metadata": {
    "pycharm": {
     "name": "#%%\n"
    }
   },
   "outputs": [
    {
     "data": {
      "text/plain": [
       " 99     3.14\n",
       " 6     -5.99\n",
       " 2     77.10\n",
       " 0     99.90\n",
       "-4      0.00\n",
       "dtype: float64"
      ]
     },
     "execution_count": 161,
     "metadata": {},
     "output_type": "execute_result"
    }
   ],
   "source": [
    "s.sort_index(ascending=False)"
   ]
  },
  {
   "cell_type": "markdown",
   "metadata": {
    "pycharm": {
     "name": "#%% md\n"
    }
   },
   "source": [
    "### 5.13 Series Arithmetic"
   ]
  },
  {
   "cell_type": "code",
   "execution_count": 163,
   "metadata": {
    "pycharm": {
     "name": "#%%\n"
    }
   },
   "outputs": [],
   "source": [
    "#5.13.1 Vectorizes Operations\n",
    "s = pd.Series(\n",
    "    data = [1.1, 2.2, np.nan, 4.4],\n",
    "    index = ['a', 'b', 'c', 'd'])"
   ]
  },
  {
   "cell_type": "code",
   "execution_count": 170,
   "metadata": {
    "pycharm": {
     "name": "#%%\n"
    }
   },
   "outputs": [
    {
     "data": {
      "text/plain": [
       "a    3.1\n",
       "b    4.2\n",
       "c    2.0\n",
       "d    6.4\n",
       "dtype: float64"
      ]
     },
     "execution_count": 170,
     "metadata": {},
     "output_type": "execute_result"
    }
   ],
   "source": [
    "s.fillna(value=0) + 2"
   ]
  },
  {
   "cell_type": "code",
   "execution_count": 173,
   "metadata": {
    "pycharm": {
     "name": "#%%\n"
    }
   },
   "outputs": [
    {
     "data": {
      "text/plain": [
       "a   -0.9\n",
       "b    0.2\n",
       "c   -2.0\n",
       "d    2.4\n",
       "dtype: float64"
      ]
     },
     "execution_count": 173,
     "metadata": {},
     "output_type": "execute_result"
    }
   ],
   "source": [
    "s.sub(2)\n",
    "s.subtract(2)"
   ]
  },
  {
   "cell_type": "code",
   "execution_count": 1,
   "metadata": {
    "pycharm": {
     "name": "#%%\n"
    }
   },
   "outputs": [
    {
     "ename": "NameError",
     "evalue": "name 'np' is not defined",
     "output_type": "error",
     "traceback": [
      "\u001B[0;31m---------------------------------------------------------------------------\u001B[0m",
      "\u001B[0;31mNameError\u001B[0m                                 Traceback (most recent call last)",
      "\u001B[0;32m<ipython-input-1-022f42d24d23>\u001B[0m in \u001B[0;36m<module>\u001B[0;34m\u001B[0m\n\u001B[1;32m      1\u001B[0m \u001B[0;31m# 5.13.3.a. Series Arithmetic\u001B[0m\u001B[0;34m\u001B[0m\u001B[0;34m\u001B[0m\u001B[0;34m\u001B[0m\u001B[0m\n\u001B[0;32m----> 2\u001B[0;31m \u001B[0mnp\u001B[0m\u001B[0;34m.\u001B[0m\u001B[0mrandom\u001B[0m\u001B[0;34m.\u001B[0m\u001B[0mseed\u001B[0m\u001B[0;34m(\u001B[0m\u001B[0;36m0\u001B[0m\u001B[0;34m)\u001B[0m\u001B[0;34m\u001B[0m\u001B[0;34m\u001B[0m\u001B[0m\n\u001B[0m\u001B[1;32m      3\u001B[0m \u001B[0mdata\u001B[0m \u001B[0;34m=\u001B[0m \u001B[0mnp\u001B[0m\u001B[0;34m.\u001B[0m\u001B[0mrandom\u001B[0m\u001B[0;34m.\u001B[0m\u001B[0mrandint\u001B[0m\u001B[0;34m(\u001B[0m\u001B[0;36m0\u001B[0m\u001B[0;34m,\u001B[0m\u001B[0;36m9\u001B[0m\u001B[0;34m,\u001B[0m \u001B[0msize\u001B[0m\u001B[0;34m=\u001B[0m\u001B[0;36m5\u001B[0m\u001B[0;34m)\u001B[0m\u001B[0;34m\u001B[0m\u001B[0;34m\u001B[0m\u001B[0m\n\u001B[1;32m      4\u001B[0m \u001B[0midx\u001B[0m \u001B[0;34m=\u001B[0m \u001B[0mlist\u001B[0m\u001B[0;34m(\u001B[0m\u001B[0;34m'abcde'\u001B[0m\u001B[0;34m)\u001B[0m\u001B[0;34m\u001B[0m\u001B[0;34m\u001B[0m\u001B[0m\n\u001B[1;32m      5\u001B[0m \u001B[0ms\u001B[0m \u001B[0;34m=\u001B[0m \u001B[0mpd\u001B[0m\u001B[0;34m.\u001B[0m\u001B[0mSeries\u001B[0m\u001B[0;34m(\u001B[0m\u001B[0mdata\u001B[0m\u001B[0;34m,\u001B[0m \u001B[0midx\u001B[0m\u001B[0;34m)\u001B[0m\u001B[0;34m\u001B[0m\u001B[0;34m\u001B[0m\u001B[0m\n",
      "\u001B[0;31mNameError\u001B[0m: name 'np' is not defined"
     ]
    }
   ],
   "source": [
    "# 5.13.3.a. Series Arithmetic\n",
    "np.random.seed(0)\n",
    "data = np.random.randint(0,9, size=5)\n",
    "idx = list('abcde')\n",
    "s = pd.Series(data, idx)\n",
    "(s * 10) * s"
   ]
  },
  {
   "cell_type": "markdown",
   "metadata": {
    "pycharm": {
     "name": "#%% md\n"
    }
   },
   "source": [
    "### Series Statistics\n",
    "\n"
   ]
  },
  {
   "cell_type": "code",
   "execution_count": 2,
   "metadata": {
    "pycharm": {
     "name": "#%%\n"
    }
   },
   "outputs": [],
   "source": [
    "s = pd.Series(\n",
    "    data = [1.0, 2.0, 3.0, np.nan, 5.0, 5],\n",
    "    index = ['a', 'b', 'c', 'd', 'e', 'f'])"
   ]
  },
  {
   "cell_type": "code",
   "execution_count": 8,
   "metadata": {
    "pycharm": {
     "name": "#%%\n"
    }
   },
   "outputs": [
    {
     "data": {
      "text/plain": [
       "5.0    2\n",
       "3.0    1\n",
       "2.0    1\n",
       "1.0    1\n",
       "dtype: int64"
      ]
     },
     "execution_count": 8,
     "metadata": {},
     "output_type": "execute_result"
    }
   ],
   "source": [
    "s.value_counts()\n"
   ]
  },
  {
   "cell_type": "code",
   "execution_count": 10,
   "metadata": {
    "pycharm": {
     "name": "#%%\n"
    }
   },
   "outputs": [
    {
     "data": {
      "text/plain": [
       "5"
      ]
     },
     "execution_count": 10,
     "metadata": {},
     "output_type": "execute_result"
    }
   ],
   "source": [
    "s.size\n",
    "s.count()"
   ]
  },
  {
   "cell_type": "code",
   "execution_count": 13,
   "metadata": {
    "pycharm": {
     "name": "#%%\n"
    }
   },
   "outputs": [
    {
     "data": {
      "text/plain": [
       "4"
      ]
     },
     "execution_count": 13,
     "metadata": {},
     "output_type": "execute_result"
    }
   ],
   "source": [
    "s.nunique()"
   ]
  },
  {
   "cell_type": "code",
   "execution_count": 15,
   "metadata": {
    "pycharm": {
     "name": "#%%\n"
    }
   },
   "outputs": [
    {
     "data": {
      "text/plain": [
       "16.0"
      ]
     },
     "execution_count": 15,
     "metadata": {},
     "output_type": "execute_result"
    }
   ],
   "source": [
    "s.sum()"
   ]
  },
  {
   "cell_type": "code",
   "execution_count": 20,
   "metadata": {
    "pycharm": {
     "name": "#%%\n"
    }
   },
   "outputs": [
    {
     "data": {
      "text/plain": [
       "'e'"
      ]
     },
     "execution_count": 20,
     "metadata": {},
     "output_type": "execute_result"
    }
   ],
   "source": [
    "s.cumsum()\n",
    "s.cummax()\n",
    "s.cumprod()\n",
    "s.cummin()\n",
    "s.idxmax()"
   ]
  },
  {
   "cell_type": "code",
   "execution_count": 22,
   "metadata": {
    "pycharm": {
     "name": "#%%\n"
    }
   },
   "outputs": [
    {
     "data": {
      "text/plain": [
       "4"
      ]
     },
     "execution_count": 22,
     "metadata": {},
     "output_type": "execute_result"
    }
   ],
   "source": [
    "s.argmax()"
   ]
  },
  {
   "cell_type": "code",
   "execution_count": 26,
   "metadata": {
    "pycharm": {
     "name": "#%%\n"
    }
   },
   "outputs": [
    {
     "data": {
      "text/plain": [
       "0    5.0\n",
       "dtype: float64"
      ]
     },
     "execution_count": 26,
     "metadata": {},
     "output_type": "execute_result"
    }
   ],
   "source": [
    "s.mean()\n",
    "s.median()\n",
    "s.mode()"
   ]
  },
  {
   "cell_type": "code",
   "execution_count": 29,
   "metadata": {
    "pycharm": {
     "name": "#%%\n"
    }
   },
   "outputs": [
    {
     "data": {
      "text/plain": [
       "a    NaN\n",
       "b    1.5\n",
       "c    2.5\n",
       "d    NaN\n",
       "e    NaN\n",
       "f    5.0\n",
       "dtype: float64"
      ]
     },
     "execution_count": 29,
     "metadata": {},
     "output_type": "execute_result"
    }
   ],
   "source": [
    "s.rolling(window=2).mean()"
   ]
  },
  {
   "cell_type": "code",
   "execution_count": 31,
   "metadata": {
    "pycharm": {
     "name": "#%%\n"
    }
   },
   "outputs": [
    {
     "data": {
      "text/plain": [
       "1.7888543819998317"
      ]
     },
     "execution_count": 31,
     "metadata": {},
     "output_type": "execute_result"
    }
   ],
   "source": [
    "s.std()"
   ]
  },
  {
   "cell_type": "code",
   "execution_count": 4,
   "outputs": [
    {
     "data": {
      "text/plain": "count    5.000000\nmean     3.200000\nstd      1.788854\nmin      1.000000\n25%      2.000000\n50%      3.000000\n75%      5.000000\nmax      5.000000\ndtype: float64"
     },
     "execution_count": 4,
     "metadata": {},
     "output_type": "execute_result"
    }
   ],
   "source": [
    "s.describe()"
   ],
   "metadata": {
    "collapsed": false,
    "pycharm": {
     "name": "#%%\n"
    }
   }
  },
  {
   "cell_type": "markdown",
   "metadata": {
    "pycharm": {
     "name": "#%% md\n"
    }
   },
   "source": [
    "### 5.15 Series Mapping\n",
    "#### 5.15.2 Apply"
   ]
  },
  {
   "cell_type": "code",
   "execution_count": 8,
   "outputs": [
    {
     "data": {
      "text/plain": "2000-01-01    1.764052\n2000-01-02    0.400157\n2000-01-03    0.978738\n2000-01-04    2.240893\nFreq: D, dtype: float64"
     },
     "execution_count": 8,
     "metadata": {},
     "output_type": "execute_result"
    }
   ],
   "source": [
    "np.random.seed(0)\n",
    "s = pd.Series(data=np.random.randn(4),\n",
    "              index=pd.date_range('2000-01-01', periods=4))\n",
    "s"
   ],
   "metadata": {
    "collapsed": false,
    "pycharm": {
     "name": "#%%\n"
    }
   }
  },
  {
   "cell_type": "code",
   "execution_count": 9,
   "outputs": [
    {
     "data": {
      "text/plain": "2000-01-01    1\n2000-01-02    0\n2000-01-03    0\n2000-01-04    2\nFreq: D, dtype: int64"
     },
     "execution_count": 9,
     "metadata": {},
     "output_type": "execute_result"
    }
   ],
   "source": [
    "s.apply(int)"
   ],
   "metadata": {
    "collapsed": false,
    "pycharm": {
     "name": "#%%\n"
    }
   }
  },
  {
   "cell_type": "code",
   "execution_count": 10,
   "outputs": [
    {
     "data": {
      "text/plain": "2000-01-01    3.528105\n2000-01-02    0.800314\n2000-01-03    1.957476\n2000-01-04    4.481786\nFreq: D, dtype: float64"
     },
     "execution_count": 10,
     "metadata": {},
     "output_type": "execute_result"
    }
   ],
   "source": [
    "s.apply(lambda x: x*2)"
   ],
   "metadata": {
    "collapsed": false,
    "pycharm": {
     "name": "#%%\n"
    }
   }
  },
  {
   "cell_type": "code",
   "execution_count": 12,
   "outputs": [
    {
     "data": {
      "text/plain": "2000-01-01    1.76\n2000-01-02    0.40\n2000-01-03    0.98\n2000-01-04    2.24\nFreq: D, dtype: float64"
     },
     "execution_count": 12,
     "metadata": {},
     "output_type": "execute_result"
    }
   ],
   "source": [
    "s.apply(round, ndigits=2)"
   ],
   "metadata": {
    "collapsed": false,
    "pycharm": {
     "name": "#%%\n"
    }
   }
  },
  {
   "cell_type": "code",
   "execution_count": 15,
   "outputs": [
    {
     "data": {
      "text/plain": "2000-01-01    1.76\n2000-01-02    0.40\n2000-01-03    0.98\n2000-01-04    2.24\nFreq: D, dtype: float64"
     },
     "execution_count": 15,
     "metadata": {},
     "output_type": "execute_result"
    }
   ],
   "source": [
    "s.apply(round, args=(2,))"
   ],
   "metadata": {
    "collapsed": false,
    "pycharm": {
     "name": "#%%\n"
    }
   }
  },
  {
   "cell_type": "code",
   "execution_count": 16,
   "outputs": [
    {
     "data": {
      "text/plain": "0        Watney\n1    Twardowski\n2          <NA>\n3         Lewis\ndtype: object"
     },
     "execution_count": 16,
     "metadata": {},
     "output_type": "execute_result"
    }
   ],
   "source": [
    "s = pd.Series(['Watney', 'Twardowski', pd.NA, 'Lewis'])\n",
    "s"
   ],
   "metadata": {
    "collapsed": false,
    "pycharm": {
     "name": "#%%\n"
    }
   }
  },
  {
   "cell_type": "code",
   "execution_count": 18,
   "outputs": [
    {
     "data": {
      "text/plain": "0    Mark\n1     Jan\n2     NaN\n3     NaN\ndtype: object"
     },
     "execution_count": 18,
     "metadata": {},
     "output_type": "execute_result"
    }
   ],
   "source": [
    "s.map({'Watney': 'Mark', 'Twardowski': 'Jan'})"
   ],
   "metadata": {
    "collapsed": false,
    "pycharm": {
     "name": "#%%\n"
    }
   }
  },
  {
   "cell_type": "code",
   "execution_count": 26,
   "outputs": [
    {
     "data": {
      "text/plain": "0        My name is Watney\n1    My name is Twardowski\n2                     <NA>\n3         My name is Lewis\ndtype: object"
     },
     "execution_count": 26,
     "metadata": {},
     "output_type": "execute_result"
    }
   ],
   "source": [
    "s.map('My name is {}'.format, na_action='ignore')"
   ],
   "metadata": {
    "collapsed": false,
    "pycharm": {
     "name": "#%%\n"
    }
   }
  },
  {
   "cell_type": "code",
   "execution_count": 50,
   "outputs": [],
   "source": [
    "#5.15.6.a. Series Mapping Clean\n",
    "\n",
    "DATA = [\n",
    "    'ul.Mieszka II',\n",
    "    'UL. Zygmunta III WaZY',\n",
    "    '  bolesława chrobrego ',\n",
    "    'ul Jana III SobIESkiego',\n",
    "    '\\tul. Jana trzeciego Sobieskiego',\n",
    "    'ulicaJana III Sobieskiego',\n",
    "    'UL. JA    NA 3 SOBIES  KIEGO',\n",
    "    'ULICA JANA III SOBIESKIEGO  ',\n",
    "    'ULICA. JANA III SOBIeskieGO',\n",
    "    ' Jana 3 Sobieskiego  ',\n",
    "    'Jana III Sobi  eskiego ',\n",
    "]\n",
    "\n",
    "\n",
    "def clean_text(text: str):\n",
    "    text = text.lower()\n",
    "    text = text.replace('ulica.', '').replace('ulica','').replace('ul.','').replace('ul','')\n",
    "    text = text.replace('  ', '')\n",
    "    text = text.strip().title().replace('Iii', 'III').replace('3', 'III').replace('Ii', 'II').replace('Trzeciego', 'III')\n",
    "    return text"
   ],
   "metadata": {
    "collapsed": false,
    "pycharm": {
     "name": "#%%\n"
    }
   }
  },
  {
   "cell_type": "code",
   "execution_count": 51,
   "outputs": [
    {
     "data": {
      "text/plain": "0               Mieszka II\n1        Zygmunta III Wazy\n2      Bolesława Chrobrego\n3     Jana III Sobieskiego\n4     Jana III Sobieskiego\n5     Jana III Sobieskiego\n6     Jana III Sobieskiego\n7     Jana III Sobieskiego\n8     Jana III Sobieskiego\n9     Jana III Sobieskiego\n10    Jana III Sobieskiego\ndtype: object"
     },
     "execution_count": 51,
     "metadata": {},
     "output_type": "execute_result"
    }
   ],
   "source": [
    "s = pd.Series(DATA)\n",
    "s.apply(clean_text)"
   ],
   "metadata": {
    "collapsed": false,
    "pycharm": {
     "name": "#%%\n"
    }
   }
  },
  {
   "cell_type": "code",
   "execution_count": null,
   "outputs": [],
   "source": [],
   "metadata": {
    "collapsed": false,
    "pycharm": {
     "name": "#%%\n"
    }
   }
  },
  {
   "cell_type": "code",
   "execution_count": null,
   "metadata": {},
   "outputs": [],
   "source": []
  }
 ],
 "metadata": {
  "kernelspec": {
   "display_name": "Python 3",
   "language": "python",
   "name": "python3"
  },
  "language_info": {
   "codemirror_mode": {
    "name": "ipython",
    "version": 3
   },
   "file_extension": ".py",
   "mimetype": "text/x-python",
   "name": "python",
   "nbconvert_exporter": "python",
   "pygments_lexer": "ipython3",
   "version": "3.8.1"
  },
  "toc": {
   "base_numbering": 1,
   "nav_menu": {},
   "number_sections": true,
   "sideBar": true,
   "skip_h1_title": false,
   "title_cell": "Table of Contents",
   "title_sidebar": "Contents",
   "toc_cell": false,
   "toc_position": {},
   "toc_section_display": true,
   "toc_window_display": false
  }
 },
 "nbformat": 4,
 "nbformat_minor": 1
}
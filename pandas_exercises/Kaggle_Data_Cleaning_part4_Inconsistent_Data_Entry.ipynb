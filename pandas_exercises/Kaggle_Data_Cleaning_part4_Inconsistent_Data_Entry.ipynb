{
 "cells": [
  {
   "cell_type": "markdown",
   "metadata": {
    "collapsed": true,
    "pycharm": {
     "name": "#%% md\n"
    }
   },
   "source": [
    "Environment set up\n"
   ]
  },
  {
   "cell_type": "code",
   "execution_count": 1,
   "outputs": [
    {
     "name": "stderr",
     "output_type": "stream",
     "text": [
      "/Users/dravik/PycharmProjects/JupyterPycharm/lib/python3.8/site-packages/fuzzywuzzy/fuzz.py:11: UserWarning: Using slow pure-python SequenceMatcher. Install python-Levenshtein to remove this warning\n",
      "  warnings.warn('Using slow pure-python SequenceMatcher. Install python-Levenshtein to remove this warning')\n"
     ]
    }
   ],
   "source": [
    "import pandas as pd\n",
    "import numpy as np\n",
    "\n",
    "import fuzzywuzzy\n",
    "from fuzzywuzzy import process\n",
    "import chardet\n",
    "\n",
    "DATA = '/Users/dravik/Downloads/pakistan_intellectual_capital.csv'\n",
    "professors = pd.read_csv(DATA)\n",
    "\n",
    "np.random.seed(0)"
   ],
   "metadata": {
    "collapsed": false,
    "pycharm": {
     "name": "#%%\n"
    }
   }
  },
  {
   "cell_type": "code",
   "execution_count": 2,
   "outputs": [
    {
     "data": {
      "text/plain": "   Unnamed: 0  S#         Teacher Name  \\\n0           2   3      Dr. Abdul Basit   \n1           4   5      Dr. Waheed Noor   \n2           5   6     Dr. Junaid Baber   \n3           6   7  Dr. Maheen Bakhtyar   \n4          24  25          Samina Azim   \n\n            University Currently Teaching             Department  \\\n0               University of Balochistan  Computer Science & IT   \n1               University of Balochistan  Computer Science & IT   \n2               University of Balochistan  Computer Science & IT   \n3               University of Balochistan  Computer Science & IT   \n4  Sardar Bahadur Khan Women's University       Computer Science   \n\n  Province University Located          Designation Terminal Degree  \\\n0                 Balochistan  Assistant Professor             PhD   \n1                 Balochistan  Assistant Professor             PhD   \n2                 Balochistan  Assistant Professor             PhD   \n3                 Balochistan  Assistant Professor             PhD   \n4                 Balochistan             Lecturer              BS   \n\n                                      Graduated from   Country    Year  \\\n0                      Asian Institute of Technology  Thailand     NaN   \n1                      Asian Institute of Technology  Thailand     NaN   \n2                      Asian Institute of Technology  Thailand     NaN   \n3                      Asian Institute of Technology  Thailand     NaN   \n4  Balochistan University of Information Technolo...  Pakistan  2005.0   \n\n           Area of Specialization/Research Interests Other Information  \n0                        Software Engineering & DBMS               NaN  \n1                                               DBMS               NaN  \n2          Information processing, Multimedia mining               NaN  \n3  NLP, Information Retrieval, Question Answering...               NaN  \n4                      VLSI Electronics DLD Database               NaN  ",
      "text/html": "<div>\n<style scoped>\n    .dataframe tbody tr th:only-of-type {\n        vertical-align: middle;\n    }\n\n    .dataframe tbody tr th {\n        vertical-align: top;\n    }\n\n    .dataframe thead th {\n        text-align: right;\n    }\n</style>\n<table border=\"1\" class=\"dataframe\">\n  <thead>\n    <tr style=\"text-align: right;\">\n      <th></th>\n      <th>Unnamed: 0</th>\n      <th>S#</th>\n      <th>Teacher Name</th>\n      <th>University Currently Teaching</th>\n      <th>Department</th>\n      <th>Province University Located</th>\n      <th>Designation</th>\n      <th>Terminal Degree</th>\n      <th>Graduated from</th>\n      <th>Country</th>\n      <th>Year</th>\n      <th>Area of Specialization/Research Interests</th>\n      <th>Other Information</th>\n    </tr>\n  </thead>\n  <tbody>\n    <tr>\n      <th>0</th>\n      <td>2</td>\n      <td>3</td>\n      <td>Dr. Abdul Basit</td>\n      <td>University of Balochistan</td>\n      <td>Computer Science &amp; IT</td>\n      <td>Balochistan</td>\n      <td>Assistant Professor</td>\n      <td>PhD</td>\n      <td>Asian Institute of Technology</td>\n      <td>Thailand</td>\n      <td>NaN</td>\n      <td>Software Engineering &amp; DBMS</td>\n      <td>NaN</td>\n    </tr>\n    <tr>\n      <th>1</th>\n      <td>4</td>\n      <td>5</td>\n      <td>Dr. Waheed Noor</td>\n      <td>University of Balochistan</td>\n      <td>Computer Science &amp; IT</td>\n      <td>Balochistan</td>\n      <td>Assistant Professor</td>\n      <td>PhD</td>\n      <td>Asian Institute of Technology</td>\n      <td>Thailand</td>\n      <td>NaN</td>\n      <td>DBMS</td>\n      <td>NaN</td>\n    </tr>\n    <tr>\n      <th>2</th>\n      <td>5</td>\n      <td>6</td>\n      <td>Dr. Junaid Baber</td>\n      <td>University of Balochistan</td>\n      <td>Computer Science &amp; IT</td>\n      <td>Balochistan</td>\n      <td>Assistant Professor</td>\n      <td>PhD</td>\n      <td>Asian Institute of Technology</td>\n      <td>Thailand</td>\n      <td>NaN</td>\n      <td>Information processing, Multimedia mining</td>\n      <td>NaN</td>\n    </tr>\n    <tr>\n      <th>3</th>\n      <td>6</td>\n      <td>7</td>\n      <td>Dr. Maheen Bakhtyar</td>\n      <td>University of Balochistan</td>\n      <td>Computer Science &amp; IT</td>\n      <td>Balochistan</td>\n      <td>Assistant Professor</td>\n      <td>PhD</td>\n      <td>Asian Institute of Technology</td>\n      <td>Thailand</td>\n      <td>NaN</td>\n      <td>NLP, Information Retrieval, Question Answering...</td>\n      <td>NaN</td>\n    </tr>\n    <tr>\n      <th>4</th>\n      <td>24</td>\n      <td>25</td>\n      <td>Samina Azim</td>\n      <td>Sardar Bahadur Khan Women's University</td>\n      <td>Computer Science</td>\n      <td>Balochistan</td>\n      <td>Lecturer</td>\n      <td>BS</td>\n      <td>Balochistan University of Information Technolo...</td>\n      <td>Pakistan</td>\n      <td>2005.0</td>\n      <td>VLSI Electronics DLD Database</td>\n      <td>NaN</td>\n    </tr>\n  </tbody>\n</table>\n</div>"
     },
     "execution_count": 2,
     "metadata": {},
     "output_type": "execute_result"
    }
   ],
   "source": [
    "professors.head()"
   ],
   "metadata": {
    "collapsed": false,
    "pycharm": {
     "name": "#%%\n"
    }
   }
  },
  {
   "cell_type": "code",
   "execution_count": 7,
   "outputs": [
    {
     "data": {
      "text/plain": "array([' Germany', ' New Zealand', ' Sweden', ' USA', 'Australia',\n       'Austria', 'Canada', 'China', 'Finland', 'France', 'Greece',\n       'HongKong', 'Ireland', 'Italy', 'Japan', 'Macau', 'Malaysia',\n       'Mauritius', 'Netherland', 'New Zealand', 'Norway', 'Pakistan',\n       'Portugal', 'Russian Federation', 'Saudi Arabia', 'Scotland',\n       'Singapore', 'South Korea', 'SouthKorea', 'Spain', 'Sweden',\n       'Thailand', 'Turkey', 'UK', 'USA', 'USofA', 'Urbana', 'germany'],\n      dtype=object)"
     },
     "execution_count": 7,
     "metadata": {},
     "output_type": "execute_result"
    }
   ],
   "source": [
    "countries = professors['Country'].unique()\n",
    "countries.sort()\n",
    "countries"
   ],
   "metadata": {
    "collapsed": false,
    "pycharm": {
     "name": "#%%\n"
    }
   }
  },
  {
   "cell_type": "code",
   "execution_count": 8,
   "outputs": [],
   "source": [
    "professors['Country'] = professors['Country'].str.lower()\n",
    "professors['Country'] = professors['Country'].str.strip()\n"
   ],
   "metadata": {
    "collapsed": false,
    "pycharm": {
     "name": "#%%\n"
    }
   }
  },
  {
   "cell_type": "code",
   "execution_count": 12,
   "outputs": [
    {
     "data": {
      "text/plain": "array(['australia', 'austria', 'canada', 'china', 'finland', 'france',\n       'germany', 'greece', 'hongkong', 'ireland', 'italy', 'japan',\n       'macau', 'malaysia', 'mauritius', 'netherland', 'new zealand',\n       'norway', 'pakistan', 'portugal', 'russian federation',\n       'saudi arabia', 'scotland', 'singapore', 'south korea',\n       'southkorea', 'spain', 'sweden', 'thailand', 'turkey', 'uk',\n       'urbana', 'usa', 'usofa'], dtype=object)"
     },
     "execution_count": 12,
     "metadata": {},
     "output_type": "execute_result"
    }
   ],
   "source": [
    "countries = professors['Country'].unique()\n",
    "countries.sort()\n",
    "countries"
   ],
   "metadata": {
    "collapsed": false,
    "pycharm": {
     "name": "#%%\n"
    }
   }
  },
  {
   "cell_type": "markdown",
   "source": [
    "> Fuzzy matching: The process of automatically finding text strings that are very similar to the target string. In general,\n",
    "> a string is considered 'closer' to another one the fewer characters you'd need to change if you were transforming one string\n",
    "> into another. So 'apple' and 'snapple' are two changes away from each other (add 's' and 'n') while 'in' and 'on' and one\n",
    ">change away (replace 'i' with 'o'). You won't always be able to rely on fuzzy matching 100%, but it will usually end up\n",
    ">saving you at least a little time.\n"
   ],
   "metadata": {
    "collapsed": false,
    "pycharm": {
     "name": "#%% md\n"
    }
   }
  },
  {
   "cell_type": "code",
   "execution_count": 13,
   "outputs": [
    {
     "data": {
      "text/plain": "[('south korea', 100),\n ('southkorea', 48),\n ('saudi arabia', 43),\n ('norway', 35),\n ('ireland', 33),\n ('portugal', 32),\n ('singapore', 30),\n ('netherland', 29),\n ('macau', 25),\n ('usofa', 25)]"
     },
     "execution_count": 13,
     "metadata": {},
     "output_type": "execute_result"
    }
   ],
   "source": [
    "# get the top 10 closest matches to 'south korea'\n",
    "matches = fuzzywuzzy.process.extract('south korea', countries, limit=10, scorer=fuzzywuzzy.fuzz.token_sort_ratio)\n",
    "matches"
   ],
   "metadata": {
    "collapsed": false,
    "pycharm": {
     "name": "#%%\n"
    }
   }
  },
  {
   "cell_type": "code",
   "execution_count": 15,
   "outputs": [],
   "source": [
    "# function to replace rows in the provided column of the provided dataframe\n",
    "# that match the provided string above the provided ratio with the provided string\n",
    "def replace_matches_in_column(df, column, string_to_match, min_ratio = 47):\n",
    "    # get a list of unique strings\n",
    "    strings = df[column].unique()\n",
    "\n",
    "    # get the top 10 closest matches to our input string\n",
    "    matches = fuzzywuzzy.process.extract(string_to_match, strings,\n",
    "                                         limit=10, scorer=fuzzywuzzy.fuzz.token_sort_ratio)\n",
    "\n",
    "    # only get matches with a ratio > 90\n",
    "    close_matches = [matches[0] for matches in matches if matches[1] >= min_ratio]\n",
    "\n",
    "    # get the rows of all the close matches in our dataframe\n",
    "    rows_with_matches = df[column].isin(close_matches)\n",
    "\n",
    "    # replace all rows with close matches with the input matches\n",
    "    df.loc[rows_with_matches, column] = string_to_match\n",
    "\n",
    "    # let us know the function's done\n",
    "    print(\"All done!\")\n"
   ],
   "metadata": {
    "collapsed": false,
    "pycharm": {
     "name": "#%%\n"
    }
   }
  },
  {
   "cell_type": "code",
   "execution_count": 16,
   "outputs": [
    {
     "name": "stdout",
     "output_type": "stream",
     "text": [
      "All done!\n"
     ]
    }
   ],
   "source": [
    "replace_matches_in_column(df=professors, column='Country', string_to_match='south korea')"
   ],
   "metadata": {
    "collapsed": false,
    "pycharm": {
     "name": "#%%\n"
    }
   }
  },
  {
   "cell_type": "code",
   "execution_count": 35,
   "outputs": [
    {
     "data": {
      "text/plain": "array(['australia', 'austria', 'canada', 'china', 'finland', 'france',\n       'germany', 'greece', 'hongkong', 'ireland', 'italy', 'japan',\n       'macau', 'malaysia', 'mauritius', 'netherland', 'new zealand',\n       'norway', 'pakistan', 'portugal', 'russian federation',\n       'saudi arabia', 'scotland', 'singapore', 'south korea', 'spain',\n       'sweden', 'thailand', 'turkey', 'uk', 'urbana', 'usa'],\n      dtype=object)"
     },
     "execution_count": 35,
     "metadata": {},
     "output_type": "execute_result"
    }
   ],
   "source": [
    "countries = professors['Country'].unique()\n",
    "countries.sort()\n",
    "countries\n"
   ],
   "metadata": {
    "collapsed": false,
    "pycharm": {
     "name": "#%%\n"
    }
   }
  },
  {
   "cell_type": "markdown",
   "source": [
    "## Exercises\n",
    "\n"
   ],
   "metadata": {
    "collapsed": false,
    "pycharm": {
     "name": "#%% md\n"
    }
   }
  },
  {
   "cell_type": "code",
   "execution_count": 28,
   "outputs": [],
   "source": [
    "professors['Graduated from'] = professors['Graduated from'].str.lower()\n",
    "professors['Graduated from'] = professors['Graduated from'].str.strip()"
   ],
   "metadata": {
    "collapsed": false,
    "pycharm": {
     "name": "#%%\n"
    }
   }
  },
  {
   "cell_type": "code",
   "execution_count": 34,
   "outputs": [
    {
     "data": {
      "text/plain": "0                                      abasyn university\n1                     abdul wali khan university, mardan\n2      abdus salam school of mathematical sciences,gc...\n3                       agricultural university peshawar\n4                           allama iqbal open university\n5                          asian institute of technology\n6                           aston university, birmingham\n7              australian national university, caneberra\n8                          bahauddin zakariya university\n9                                      bahria university\n10                           bahria university,islamabad\n11     balochistan university of information technolo...\n12            barani institute of information technology\n13                       beaconhouse national university\n14                                    beihang university\n15                       beijing institute of technology\n16               beijing institute of technology beijing\n17      beijing university of posts & telecommunications\n18     biztek institute of business & technology,karachi\n19                      blekinge institute of technology\n20                               brock university canada\n21                                     brunel university\n22                                                  bukc\n23            capital university of science & technology\n24          capital university of science and technology\n25                carnegie mellon university, pittsburgh\n26     cecos university of information technology and...\n27            centre for advanced studies in engineering\n28                     chalmers university of technology\n29                           chinese academy of sciences\n30                                     chosun university\n31             city university of science and technology\n32                         colorado technical university\n33                                   columbia university\n34           comsats institute of information technology\n35     comsats institute of information technology,is...\n36     comsats institute of information technology,la...\n37     comsats institute of information technology,ve...\n38     comsats institute of information technology,wa...\n39                         concordia university,montreal\n40                                   coventry university\n41                                  cranfield university\n42                        delft university of technology\n43                            depaul university, chicago\n44             dresden university of technology, dresden\n45                                          duet,karachi\n46             eindhoven university of technology (tu/e)\n47     fast– national university of computer and emer...\n48     fast– national university of computer and emer...\n49     fast– national university of computer and emer...\n50     fast– national university of computer and emer...\n51     fast– national university of computer and emer...\n52            fatima jinnah women university, rawalpindi\n53                                fedral urdu university\n54                           florida atlantic university\n55                                 foundation university\n56                         galilée - université paris 13\n57                               george mason university\n58                          george washington university\n59                              georgetown university,dc\n60     ghulam ishaq khan institute of science and tec...\n61                                      gomal university\n62                         government college university\n63             government college university, faisalabad\n64              government college university,faisalabad\n65                         graz university of technology\n66                                              grenoble\n67                                   griffith university\n68                     griffith university,nathan campus\n69                                             guildford\n70           gwangju institute of science and technology\n71                      hamburg university of technology\n72                                    hamdard university\n73                             hanyang university, ansan\n74                        harbin institute of technology\n75                               hitec university,taxila\n76                                     hongik university\n77     huazhong university of science and technology ...\n78              ibms kp agricultural university peshawar\n79                      illinois institute of technology\n80                      ilmenau university of technology\n81                imperial college, university of london\n82               information technology university (itu)\n83                            inria saclay ile-de-france\n84                                   insa de lyon, rhone\n85                  institute of business administration\n86          institute of business administration,karachi\n87           institute of business administration,sukkur\n88            institute of management sciences, peshawar\n89             institute of managment sciences, peshawar\n90                      international islamic university\n91            international islamic university,islamabad\n92                                 iowa state university\n93                                       iqra university\n94                             iqra university,islamabad\n95                               iqra university,karachi\n96                            islamia college university\n97                                       isra university\n98                           jinnah university for women\n99                                                   jku\n100                                                  jnu\n101                    john moorse university, liverpool\n102                                 jonkoping university\n103    king abdullah university of science and techno...\n104                           kingston university london\n105      kohat university of science & technology, kohat\n106                    kth royal institute of technology\n107                                 kyung hee university\n108                        kyungpook national university\n109                            kyushu university,fukuoka\n110                  lahore college for women university\n111                              lahore leads university\n112             lahore university of management sciences\n113                                 linköping university\n114                     liverpool john moores university\n115                                    london university\n116                              loughborough university\n117                   manchester metropolitan university\n118                                manchester university\n119                massachusetts institute of technology\n120            max planck institute for computer science\n121        mehran university of engineering & technology\n122                                mid sweden university\n123                     middle east technical university\n124                                 middlesex university\n125                             minhaj university lahore\n126                       mohammad ali jinnah university\n127                                    monash university\n128             muroran institute of technology,hokkaido\n129                                   myongji university\n130                                   nancy 2 university\n131                              nanyang tech university\n132                     nanyang technological university\n133    national college of business administration an...\n134                          national textile university\n135              national university of modern languages\n136    national university of modern languages,islamabad\n137       national university of sciences and technology\n138    national university of sciences and technology...\n139                     national university of singapore\n140                                                 ncsu\n141         ned university of engineering and technology\n142                     new york institute of technology\n143                       northeastern university,boston\n144    norwegian university of science and technology...\n145                          nottingham trent university\n146                            oxford brookes university\n147                            pace university, new york\n148    paf-karachi institute of economics and technology\n149    pakistan institute of engineering and applied ...\n150                           paris descartes university\n151                     paris tech university of eurecom\n152        pir mehr ali shah arid agriculture university\n153          pohang university of science and technology\n154                                politecnico di milano\n155                                politecnico di torino\n156                    pompeu fabra university barcelona\n157                                              preston\n158    punjab university college of information techn...\n159                                    purdue university\n160    quaid-e-awam university of engineering, scienc...\n161                              quaid-i-azam university\n162                      queen mary university of london\n163    razak school of engineering and advanced techn...\n164                      riphah international university\n165           riphah international university,faisalabad\n166           rutgers state university of new jersey, nj\n167                               rwth aachen university\n168                                  saarland university\n169                          sapienza university of rome\n170               sardar bahadur khan women's university\n171                            seoul national university\n172                shah abdul latif university, khairpur\n173    shaheed zulfikar ali bhutto institute of scien...\n174    shaheed zulfikar ali bhutto institute of scien...\n175                         sindh agriculture university\n176                                     sindh university\n177    sir syed university of engineering and technology\n178        skolkovo institute of science and technology,\n179                               south asian university\n180                            srh hochschule heidelberg\n181                        ssindh agriculture university\n182                             staffordshire university\n183                                  stanford university\n184                  state university of new york system\n185                                 stockholm university\n186                              sungkyunkwan university\n187                          superior university, lahore\n188                                              swansea\n189    swedish university of agricultural sciences, u...\n190                   swinburne university of technology\n191                 technical university of braunschweig\n192                         technical university of graz\n193                                    temple university\n194                 the islamia university of bahawalpur\n195                            the ohio state university\n196                     the queens university of belfast\n197                   the state university of new jersey\n198                           the university of auckland\n199                         the university of birmingham\n200                          the university of cambridge\n201                              the university of leeds\n202                         the university of manchester\n203                         the university of queensland\n204                    the university of texas at austin\n205                               the university of york\n206                                   tilburg university\n207                        tokyo institute of technology\n208                                  tsinghua university\n209                                            tu berlin\n210                                              tu wien\n211    united nations university international instit...\n212    univ of porto/univ of aveiro portugal/uni of m...\n213                      universite d'evry val d'essonne\n214                      universiti putra malaysia putra\n215                                universiti technologi\n216                        universiti teknologi petronas\n217                  universiti tun hussein onn malaysia\n218       university institute of information technology\n219                         university of abertay dundee\n220                            university of agriculture\n221                 university of agriculture faisalabad\n222                university of agriculture, faisalabad\n223                       university of arid agriculture\n224                            university of balochistan\n225                                   university of bath\n226                               university of bayreuth\n227                           university of bedfordshire\n228                                 university of bergen\n229                             university of birmingham\n230                                university of bologna\n231                                   university of bonn\n232                               university of bradford\n233                                university of bristol\n234                       university of british columbia\n235                                   university of caen\n236                             university of canterbury\n237                        university of central florida\n238                         university of central punjab\n239                               university of colorado\n240                                 university of dundee\n241               university of engineering & technology\n242             university of engineering and technology\n243    university of engineering and technology,peshawar\n244      university of engineering and technology,taxila\n245                                  university of essex\n246                                university of florida\n247                               university of freiburg\n248                                 university of genova\n249                                university of glasgow\n250                               university of grenoble\n251                                 university of gujrat\n252                           university of huddersfield\n253                               university of illinois\n254                              university of innsbruck\n255                                university of karachi\n256                                   university of kent\n257                               university of konstanz\n258                           university of kuala lumpur\n259                                 university of lahore\n260                                  university of leeds\n261                              university of leicester\n262                               university of limerick\n263                              university of liverpool\n264                                 university of malaga\n265                                 university of malaya\n266              university of management and technology\n267                             university of manchester\n268    university of manchester institute of science ...\n269                            university of mississippi\n270                university of new south wales, sydney\n271                 university of nice, sophia antipolis\n272                            university of northampton\n273                     university of notre dame indiana\n274                                university of orleans\n275                                   university of oslo\n276                                 university of oviedo\n277                                university of paisley\n278                                  university of paris\n279                              university of paris-est\n280                                 university of patras\n281                               university of peshawar\n282                             university of pittsburgh\n283                               university of plymouth\n284                                  university of porto\n285                                 university of regina\n286                              university of rochester\n287                       university of rome tor vergata\n288                               university of saarland\n289                                university of salford\n290    university of shanghai for science and technology\n291                        university of south australia\n292                         university of south brittany\n293                          university of south florida\n294                            university of southampton\n295                    university of southern california\n296                               university of stirling\n297                              university of stuttgart\n298                             university of sunderland\n299                                 university of surrey\n300                                 university of sussex\n301                             university of technology\n302               university of texas at arlington (uta)\n303                             university of the punjab\n304                  university of the punjab,gujranwala\n305                      university of the west scotland\n306                                 university of trento\n307                                 university of turbat\n308                                  university of turin\n309                                    university of ulm\n310                                 university of vienna\n311                                  university of wales\n312                      university of wales,aberystwyth\n313                               university of waterloo\n314                            university of westminster\n315                                university of windsor\n316                                   university of york\n317       university of liverpool john moores university\n318                                     university paris\n319                                 universität salzburg\n320                            université de la rochelle\n321                  université henri poincaré, nancy 1,\n322                                universtiy of karachi\n323                                 universtiy of lahore\n324                                   uppsala university\n325                                                  usa\n326                        usman institute of technology\n327    usman institute of technology (hamdard univers...\n328                      vienna university of technology\n329                       virtual university of pakistan\n330                          vrije university, amsterdam\n331                               wayne state university\n332                                    xiamen university\n333                                  zhejiang university\n334                              åbo akademi university,\ndtype: object"
     },
     "execution_count": 34,
     "metadata": {},
     "output_type": "execute_result"
    }
   ],
   "source": [
    "graduates = professors['Graduated from'].unique()\n",
    "graduates.sort()\n",
    "pd.options.display.max_rows = 2000\n",
    "pd.Series(graduates)\n",
    "\n",
    "\n"
   ],
   "metadata": {
    "collapsed": false,
    "pycharm": {
     "name": "#%%\n"
    }
   }
  }
 ],
 "metadata": {
  "kernelspec": {
   "display_name": "Python 3",
   "language": "python",
   "name": "python3"
  },
  "language_info": {
   "codemirror_mode": {
    "name": "ipython",
    "version": 2
   },
   "file_extension": ".py",
   "mimetype": "text/x-python",
   "name": "python",
   "nbconvert_exporter": "python",
   "pygments_lexer": "ipython2",
   "version": "2.7.6"
  }
 },
 "nbformat": 4,
 "nbformat_minor": 0
}
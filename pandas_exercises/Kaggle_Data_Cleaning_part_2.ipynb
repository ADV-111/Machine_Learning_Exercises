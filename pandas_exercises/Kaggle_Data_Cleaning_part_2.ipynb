{
 "cells": [
  {
   "cell_type": "markdown",
   "metadata": {
    "collapsed": true,
    "pycharm": {
     "name": "#%% md\n"
    }
   },
   "source": [
    "## 3. Parsing Dates\n",
    "\n"
   ]
  },
  {
   "cell_type": "markdown",
   "source": [
    "#### Environment setup\n",
    "\n"
   ],
   "metadata": {
    "collapsed": false,
    "pycharm": {
     "name": "#%% md\n"
    }
   }
  },
  {
   "cell_type": "code",
   "execution_count": 2,
   "outputs": [],
   "source": [
    "import pandas as pd\n",
    "import numpy as np\n",
    "import seaborn as sns\n",
    "import datetime\n",
    "\n",
    "DATA_URL = '/Users/dravik/Downloads/catalog.csv'\n",
    "\n",
    "landslides = pd.read_csv(DATA_URL)\n",
    "\n",
    "np.random.seed(0)"
   ],
   "metadata": {
    "collapsed": false,
    "pycharm": {
     "name": "#%%\n"
    }
   }
  },
  {
   "cell_type": "code",
   "execution_count": 3,
   "outputs": [
    {
     "data": {
      "text/plain": "        id     date   time continent_code   country_name country_code  \\\n0       34   3/2/07  Night            NaN  United States           US   \n1       42  3/22/07    NaN            NaN  United States           US   \n2       56   4/6/07    NaN            NaN  United States           US   \n3       59  4/14/07    NaN            NaN         Canada           CA   \n4       61  4/15/07    NaN            NaN  United States           US   \n...    ...      ...    ...            ...            ...          ...   \n1688  7535  12/7/15    NaN            NaN  United States           US   \n1689  7537  2/22/16   0:00            NaN  United States           US   \n1690  7539  2/23/16    NaN            NaN  United States           US   \n1691  7540  2/26/16  21:06            NaN  United States           US   \n1692  7541   3/2/16   8:00            NaN  United States           US   \n\n      state/province  population         city/town  distance  ...  \\\n0           Virginia       16000       Cherry Hill   3.40765  ...   \n1               Ohio       17288  New Philadelphia   3.33522  ...   \n2       Pennsylvania       15930       Wilkinsburg   2.91977  ...   \n3             Quebec       42786       Châteauguay   2.98682  ...   \n4           Kentucky        6903         Pikeville   5.66542  ...   \n...              ...         ...               ...       ...  ...   \n1688  North Carolina        1646             Tryon   7.80866  ...   \n1689   West Virginia       51400        Charleston   6.84721  ...   \n1690   West Virginia        2406             Welch  14.19735  ...   \n1691   West Virginia        1048            Athens  12.00678  ...   \n1692         Vermont        2066           Windsor   1.78429  ...   \n\n                                    geolocation  hazard_type  \\\n0     (38.600900000000003, -77.268199999999993)    Landslide   \n1     (40.517499999999998, -81.430499999999995)    Landslide   \n2                (40.4377, -79.915999999999997)    Landslide   \n3     (45.322600000000001, -73.777100000000004)    Landslide   \n4     (37.432499999999997, -82.493099999999998)    Landslide   \n...                                         ...          ...   \n1688  (35.221899999999998, -82.322599999999994)    Landslide   \n1689  (38.398699999999998, -81.584800000000001)    Landslide   \n1690             (37.409599999999998, -81.4268)    Landslide   \n1691  (37.501100000000001, -81.109300000000005)    Landslide   \n1692             (43.4771, -72.406599999999997)    Landslide   \n\n          landslide_type landslide_size   trigger storm_name injuries  \\\n0              Landslide          Small      Rain        NaN      NaN   \n1              Landslide          Small      Rain        NaN      NaN   \n2              Landslide          Small      Rain        NaN      NaN   \n3     Riverbank collapse          Small      Rain        NaN      NaN   \n4              Landslide          Small  Downpour        NaN      NaN   \n...                  ...            ...       ...        ...      ...   \n1688            Rockfall          Small       NaN        NaN      0.0   \n1689            Mudslide          Small   Unknown        NaN      0.0   \n1690           Landslide          Small      Rain        NaN      0.0   \n1691            Rockfall          Small   Unknown        NaN      0.0   \n1692            Rockfall          Small   Unknown        NaN      0.0   \n\n     fatalities                 source_name  \\\n0           NaN                  NBC 4 news   \n1           NaN              Canton Rep.com   \n2           NaN  The Pittsburgh Channel.com   \n3           NaN                   Le Soleil   \n4           0.0      Matthew Crawford (KGS)   \n...         ...                         ...   \n1688        0.0        Tryon Daily Bulletin   \n1689        0.0          Charleston Gazette   \n1690        0.0   Bluefield Daily Telegraph   \n1691        0.0   Bluefield Daily Telegraph   \n1692        0.0                 Valley News   \n\n                                            source_link  \n0         http://www.nbc4.com/news/11186871/detail.html  \n1     http://www.cantonrep.com/index.php?ID=345054&C...  \n2     https://web.archive.org/web/20080423132842/htt...  \n3     http://www.hebdos.net/lsc/edition162007/articl...  \n4                                                   NaN  \n...                                                 ...  \n1688  http://www.tryondailybulletin.com/2016/02/26/u...  \n1689  http://www.wvgazettemail.com/news/20160222/us-...  \n1690  http://www.bdtonline.com/news/officials-cautio...  \n1691  http://www.bdtonline.com/news/rockslide-snarls...  \n1692  http://www.vnews.com/home/21353539-95/loose-ledge  \n\n[1693 rows x 23 columns]",
      "text/html": "<div>\n<style scoped>\n    .dataframe tbody tr th:only-of-type {\n        vertical-align: middle;\n    }\n\n    .dataframe tbody tr th {\n        vertical-align: top;\n    }\n\n    .dataframe thead th {\n        text-align: right;\n    }\n</style>\n<table border=\"1\" class=\"dataframe\">\n  <thead>\n    <tr style=\"text-align: right;\">\n      <th></th>\n      <th>id</th>\n      <th>date</th>\n      <th>time</th>\n      <th>continent_code</th>\n      <th>country_name</th>\n      <th>country_code</th>\n      <th>state/province</th>\n      <th>population</th>\n      <th>city/town</th>\n      <th>distance</th>\n      <th>...</th>\n      <th>geolocation</th>\n      <th>hazard_type</th>\n      <th>landslide_type</th>\n      <th>landslide_size</th>\n      <th>trigger</th>\n      <th>storm_name</th>\n      <th>injuries</th>\n      <th>fatalities</th>\n      <th>source_name</th>\n      <th>source_link</th>\n    </tr>\n  </thead>\n  <tbody>\n    <tr>\n      <th>0</th>\n      <td>34</td>\n      <td>3/2/07</td>\n      <td>Night</td>\n      <td>NaN</td>\n      <td>United States</td>\n      <td>US</td>\n      <td>Virginia</td>\n      <td>16000</td>\n      <td>Cherry Hill</td>\n      <td>3.40765</td>\n      <td>...</td>\n      <td>(38.600900000000003, -77.268199999999993)</td>\n      <td>Landslide</td>\n      <td>Landslide</td>\n      <td>Small</td>\n      <td>Rain</td>\n      <td>NaN</td>\n      <td>NaN</td>\n      <td>NaN</td>\n      <td>NBC 4 news</td>\n      <td>http://www.nbc4.com/news/11186871/detail.html</td>\n    </tr>\n    <tr>\n      <th>1</th>\n      <td>42</td>\n      <td>3/22/07</td>\n      <td>NaN</td>\n      <td>NaN</td>\n      <td>United States</td>\n      <td>US</td>\n      <td>Ohio</td>\n      <td>17288</td>\n      <td>New Philadelphia</td>\n      <td>3.33522</td>\n      <td>...</td>\n      <td>(40.517499999999998, -81.430499999999995)</td>\n      <td>Landslide</td>\n      <td>Landslide</td>\n      <td>Small</td>\n      <td>Rain</td>\n      <td>NaN</td>\n      <td>NaN</td>\n      <td>NaN</td>\n      <td>Canton Rep.com</td>\n      <td>http://www.cantonrep.com/index.php?ID=345054&amp;C...</td>\n    </tr>\n    <tr>\n      <th>2</th>\n      <td>56</td>\n      <td>4/6/07</td>\n      <td>NaN</td>\n      <td>NaN</td>\n      <td>United States</td>\n      <td>US</td>\n      <td>Pennsylvania</td>\n      <td>15930</td>\n      <td>Wilkinsburg</td>\n      <td>2.91977</td>\n      <td>...</td>\n      <td>(40.4377, -79.915999999999997)</td>\n      <td>Landslide</td>\n      <td>Landslide</td>\n      <td>Small</td>\n      <td>Rain</td>\n      <td>NaN</td>\n      <td>NaN</td>\n      <td>NaN</td>\n      <td>The Pittsburgh Channel.com</td>\n      <td>https://web.archive.org/web/20080423132842/htt...</td>\n    </tr>\n    <tr>\n      <th>3</th>\n      <td>59</td>\n      <td>4/14/07</td>\n      <td>NaN</td>\n      <td>NaN</td>\n      <td>Canada</td>\n      <td>CA</td>\n      <td>Quebec</td>\n      <td>42786</td>\n      <td>Châteauguay</td>\n      <td>2.98682</td>\n      <td>...</td>\n      <td>(45.322600000000001, -73.777100000000004)</td>\n      <td>Landslide</td>\n      <td>Riverbank collapse</td>\n      <td>Small</td>\n      <td>Rain</td>\n      <td>NaN</td>\n      <td>NaN</td>\n      <td>NaN</td>\n      <td>Le Soleil</td>\n      <td>http://www.hebdos.net/lsc/edition162007/articl...</td>\n    </tr>\n    <tr>\n      <th>4</th>\n      <td>61</td>\n      <td>4/15/07</td>\n      <td>NaN</td>\n      <td>NaN</td>\n      <td>United States</td>\n      <td>US</td>\n      <td>Kentucky</td>\n      <td>6903</td>\n      <td>Pikeville</td>\n      <td>5.66542</td>\n      <td>...</td>\n      <td>(37.432499999999997, -82.493099999999998)</td>\n      <td>Landslide</td>\n      <td>Landslide</td>\n      <td>Small</td>\n      <td>Downpour</td>\n      <td>NaN</td>\n      <td>NaN</td>\n      <td>0.0</td>\n      <td>Matthew Crawford (KGS)</td>\n      <td>NaN</td>\n    </tr>\n    <tr>\n      <th>...</th>\n      <td>...</td>\n      <td>...</td>\n      <td>...</td>\n      <td>...</td>\n      <td>...</td>\n      <td>...</td>\n      <td>...</td>\n      <td>...</td>\n      <td>...</td>\n      <td>...</td>\n      <td>...</td>\n      <td>...</td>\n      <td>...</td>\n      <td>...</td>\n      <td>...</td>\n      <td>...</td>\n      <td>...</td>\n      <td>...</td>\n      <td>...</td>\n      <td>...</td>\n      <td>...</td>\n    </tr>\n    <tr>\n      <th>1688</th>\n      <td>7535</td>\n      <td>12/7/15</td>\n      <td>NaN</td>\n      <td>NaN</td>\n      <td>United States</td>\n      <td>US</td>\n      <td>North Carolina</td>\n      <td>1646</td>\n      <td>Tryon</td>\n      <td>7.80866</td>\n      <td>...</td>\n      <td>(35.221899999999998, -82.322599999999994)</td>\n      <td>Landslide</td>\n      <td>Rockfall</td>\n      <td>Small</td>\n      <td>NaN</td>\n      <td>NaN</td>\n      <td>0.0</td>\n      <td>0.0</td>\n      <td>Tryon Daily Bulletin</td>\n      <td>http://www.tryondailybulletin.com/2016/02/26/u...</td>\n    </tr>\n    <tr>\n      <th>1689</th>\n      <td>7537</td>\n      <td>2/22/16</td>\n      <td>0:00</td>\n      <td>NaN</td>\n      <td>United States</td>\n      <td>US</td>\n      <td>West Virginia</td>\n      <td>51400</td>\n      <td>Charleston</td>\n      <td>6.84721</td>\n      <td>...</td>\n      <td>(38.398699999999998, -81.584800000000001)</td>\n      <td>Landslide</td>\n      <td>Mudslide</td>\n      <td>Small</td>\n      <td>Unknown</td>\n      <td>NaN</td>\n      <td>0.0</td>\n      <td>0.0</td>\n      <td>Charleston Gazette</td>\n      <td>http://www.wvgazettemail.com/news/20160222/us-...</td>\n    </tr>\n    <tr>\n      <th>1690</th>\n      <td>7539</td>\n      <td>2/23/16</td>\n      <td>NaN</td>\n      <td>NaN</td>\n      <td>United States</td>\n      <td>US</td>\n      <td>West Virginia</td>\n      <td>2406</td>\n      <td>Welch</td>\n      <td>14.19735</td>\n      <td>...</td>\n      <td>(37.409599999999998, -81.4268)</td>\n      <td>Landslide</td>\n      <td>Landslide</td>\n      <td>Small</td>\n      <td>Rain</td>\n      <td>NaN</td>\n      <td>0.0</td>\n      <td>0.0</td>\n      <td>Bluefield Daily Telegraph</td>\n      <td>http://www.bdtonline.com/news/officials-cautio...</td>\n    </tr>\n    <tr>\n      <th>1691</th>\n      <td>7540</td>\n      <td>2/26/16</td>\n      <td>21:06</td>\n      <td>NaN</td>\n      <td>United States</td>\n      <td>US</td>\n      <td>West Virginia</td>\n      <td>1048</td>\n      <td>Athens</td>\n      <td>12.00678</td>\n      <td>...</td>\n      <td>(37.501100000000001, -81.109300000000005)</td>\n      <td>Landslide</td>\n      <td>Rockfall</td>\n      <td>Small</td>\n      <td>Unknown</td>\n      <td>NaN</td>\n      <td>0.0</td>\n      <td>0.0</td>\n      <td>Bluefield Daily Telegraph</td>\n      <td>http://www.bdtonline.com/news/rockslide-snarls...</td>\n    </tr>\n    <tr>\n      <th>1692</th>\n      <td>7541</td>\n      <td>3/2/16</td>\n      <td>8:00</td>\n      <td>NaN</td>\n      <td>United States</td>\n      <td>US</td>\n      <td>Vermont</td>\n      <td>2066</td>\n      <td>Windsor</td>\n      <td>1.78429</td>\n      <td>...</td>\n      <td>(43.4771, -72.406599999999997)</td>\n      <td>Landslide</td>\n      <td>Rockfall</td>\n      <td>Small</td>\n      <td>Unknown</td>\n      <td>NaN</td>\n      <td>0.0</td>\n      <td>0.0</td>\n      <td>Valley News</td>\n      <td>http://www.vnews.com/home/21353539-95/loose-ledge</td>\n    </tr>\n  </tbody>\n</table>\n<p>1693 rows × 23 columns</p>\n</div>"
     },
     "execution_count": 3,
     "metadata": {},
     "output_type": "execute_result"
    }
   ],
   "source": [
    "landslides\n"
   ],
   "metadata": {
    "collapsed": false,
    "pycharm": {
     "name": "#%%\n"
    }
   }
  },
  {
   "cell_type": "code",
   "execution_count": 17,
   "outputs": [
    {
     "data": {
      "text/plain": "id                         0\ndate                       3\ntime                    1064\ncontinent_code          1529\ncountry_name               0\ncountry_code               0\nstate/province             1\npopulation                 0\ncity/town                  4\ndistance                   1\nlocation_description    1142\nlatitude                   1\nlongitude                  1\ngeolocation                1\nhazard_type                0\nlandslide_type             1\nlandslide_size             1\ntrigger                    2\nstorm_name              1561\ninjuries                1178\nfatalities               247\nsource_name              821\nsource_link              100\ndtype: int64"
     },
     "execution_count": 17,
     "metadata": {},
     "output_type": "execute_result"
    }
   ],
   "source": [
    "landslides.isnull().sum()"
   ],
   "metadata": {
    "collapsed": false,
    "pycharm": {
     "name": "#%%\n"
    }
   }
  },
  {
   "cell_type": "code",
   "execution_count": 18,
   "outputs": [
    {
     "data": {
      "text/plain": "   id     date   time continent_code   country_name country_code  \\\n0  34   3/2/07  Night            NaN  United States           US   \n1  42  3/22/07    NaN            NaN  United States           US   \n2  56   4/6/07    NaN            NaN  United States           US   \n3  59  4/14/07    NaN            NaN         Canada           CA   \n4  61  4/15/07    NaN            NaN  United States           US   \n\n  state/province  population         city/town  distance  ...  \\\n0       Virginia       16000       Cherry Hill   3.40765  ...   \n1           Ohio       17288  New Philadelphia   3.33522  ...   \n2   Pennsylvania       15930       Wilkinsburg   2.91977  ...   \n3         Quebec       42786       Châteauguay   2.98682  ...   \n4       Kentucky        6903         Pikeville   5.66542  ...   \n\n                                 geolocation  hazard_type      landslide_type  \\\n0  (38.600900000000003, -77.268199999999993)    Landslide           Landslide   \n1  (40.517499999999998, -81.430499999999995)    Landslide           Landslide   \n2             (40.4377, -79.915999999999997)    Landslide           Landslide   \n3  (45.322600000000001, -73.777100000000004)    Landslide  Riverbank collapse   \n4  (37.432499999999997, -82.493099999999998)    Landslide           Landslide   \n\n  landslide_size   trigger storm_name injuries fatalities  \\\n0          Small      Rain        NaN      NaN        NaN   \n1          Small      Rain        NaN      NaN        NaN   \n2          Small      Rain        NaN      NaN        NaN   \n3          Small      Rain        NaN      NaN        NaN   \n4          Small  Downpour        NaN      NaN        0.0   \n\n                  source_name  \\\n0                  NBC 4 news   \n1              Canton Rep.com   \n2  The Pittsburgh Channel.com   \n3                   Le Soleil   \n4      Matthew Crawford (KGS)   \n\n                                         source_link  \n0      http://www.nbc4.com/news/11186871/detail.html  \n1  http://www.cantonrep.com/index.php?ID=345054&C...  \n2  https://web.archive.org/web/20080423132842/htt...  \n3  http://www.hebdos.net/lsc/edition162007/articl...  \n4                                                NaN  \n\n[5 rows x 23 columns]",
      "text/html": "<div>\n<style scoped>\n    .dataframe tbody tr th:only-of-type {\n        vertical-align: middle;\n    }\n\n    .dataframe tbody tr th {\n        vertical-align: top;\n    }\n\n    .dataframe thead th {\n        text-align: right;\n    }\n</style>\n<table border=\"1\" class=\"dataframe\">\n  <thead>\n    <tr style=\"text-align: right;\">\n      <th></th>\n      <th>id</th>\n      <th>date</th>\n      <th>time</th>\n      <th>continent_code</th>\n      <th>country_name</th>\n      <th>country_code</th>\n      <th>state/province</th>\n      <th>population</th>\n      <th>city/town</th>\n      <th>distance</th>\n      <th>...</th>\n      <th>geolocation</th>\n      <th>hazard_type</th>\n      <th>landslide_type</th>\n      <th>landslide_size</th>\n      <th>trigger</th>\n      <th>storm_name</th>\n      <th>injuries</th>\n      <th>fatalities</th>\n      <th>source_name</th>\n      <th>source_link</th>\n    </tr>\n  </thead>\n  <tbody>\n    <tr>\n      <th>0</th>\n      <td>34</td>\n      <td>3/2/07</td>\n      <td>Night</td>\n      <td>NaN</td>\n      <td>United States</td>\n      <td>US</td>\n      <td>Virginia</td>\n      <td>16000</td>\n      <td>Cherry Hill</td>\n      <td>3.40765</td>\n      <td>...</td>\n      <td>(38.600900000000003, -77.268199999999993)</td>\n      <td>Landslide</td>\n      <td>Landslide</td>\n      <td>Small</td>\n      <td>Rain</td>\n      <td>NaN</td>\n      <td>NaN</td>\n      <td>NaN</td>\n      <td>NBC 4 news</td>\n      <td>http://www.nbc4.com/news/11186871/detail.html</td>\n    </tr>\n    <tr>\n      <th>1</th>\n      <td>42</td>\n      <td>3/22/07</td>\n      <td>NaN</td>\n      <td>NaN</td>\n      <td>United States</td>\n      <td>US</td>\n      <td>Ohio</td>\n      <td>17288</td>\n      <td>New Philadelphia</td>\n      <td>3.33522</td>\n      <td>...</td>\n      <td>(40.517499999999998, -81.430499999999995)</td>\n      <td>Landslide</td>\n      <td>Landslide</td>\n      <td>Small</td>\n      <td>Rain</td>\n      <td>NaN</td>\n      <td>NaN</td>\n      <td>NaN</td>\n      <td>Canton Rep.com</td>\n      <td>http://www.cantonrep.com/index.php?ID=345054&amp;C...</td>\n    </tr>\n    <tr>\n      <th>2</th>\n      <td>56</td>\n      <td>4/6/07</td>\n      <td>NaN</td>\n      <td>NaN</td>\n      <td>United States</td>\n      <td>US</td>\n      <td>Pennsylvania</td>\n      <td>15930</td>\n      <td>Wilkinsburg</td>\n      <td>2.91977</td>\n      <td>...</td>\n      <td>(40.4377, -79.915999999999997)</td>\n      <td>Landslide</td>\n      <td>Landslide</td>\n      <td>Small</td>\n      <td>Rain</td>\n      <td>NaN</td>\n      <td>NaN</td>\n      <td>NaN</td>\n      <td>The Pittsburgh Channel.com</td>\n      <td>https://web.archive.org/web/20080423132842/htt...</td>\n    </tr>\n    <tr>\n      <th>3</th>\n      <td>59</td>\n      <td>4/14/07</td>\n      <td>NaN</td>\n      <td>NaN</td>\n      <td>Canada</td>\n      <td>CA</td>\n      <td>Quebec</td>\n      <td>42786</td>\n      <td>Châteauguay</td>\n      <td>2.98682</td>\n      <td>...</td>\n      <td>(45.322600000000001, -73.777100000000004)</td>\n      <td>Landslide</td>\n      <td>Riverbank collapse</td>\n      <td>Small</td>\n      <td>Rain</td>\n      <td>NaN</td>\n      <td>NaN</td>\n      <td>NaN</td>\n      <td>Le Soleil</td>\n      <td>http://www.hebdos.net/lsc/edition162007/articl...</td>\n    </tr>\n    <tr>\n      <th>4</th>\n      <td>61</td>\n      <td>4/15/07</td>\n      <td>NaN</td>\n      <td>NaN</td>\n      <td>United States</td>\n      <td>US</td>\n      <td>Kentucky</td>\n      <td>6903</td>\n      <td>Pikeville</td>\n      <td>5.66542</td>\n      <td>...</td>\n      <td>(37.432499999999997, -82.493099999999998)</td>\n      <td>Landslide</td>\n      <td>Landslide</td>\n      <td>Small</td>\n      <td>Downpour</td>\n      <td>NaN</td>\n      <td>NaN</td>\n      <td>0.0</td>\n      <td>Matthew Crawford (KGS)</td>\n      <td>NaN</td>\n    </tr>\n  </tbody>\n</table>\n<p>5 rows × 23 columns</p>\n</div>"
     },
     "execution_count": 18,
     "metadata": {},
     "output_type": "execute_result"
    }
   ],
   "source": [
    "landslides.head()\n"
   ],
   "metadata": {
    "collapsed": false,
    "pycharm": {
     "name": "#%%\n"
    }
   }
  },
  {
   "cell_type": "code",
   "execution_count": 19,
   "outputs": [
    {
     "name": "stdout",
     "output_type": "stream",
     "text": [
      "0     3/2/07\n",
      "1    3/22/07\n",
      "2     4/6/07\n",
      "3    4/14/07\n",
      "4    4/15/07\n",
      "Name: date, dtype: object\n"
     ]
    }
   ],
   "source": [
    "print(landslides['date'].head())\n"
   ],
   "metadata": {
    "collapsed": false,
    "pycharm": {
     "name": "#%%\n"
    }
   }
  },
  {
   "cell_type": "code",
   "execution_count": 20,
   "outputs": [
    {
     "data": {
      "text/plain": "dtype('O')"
     },
     "execution_count": 20,
     "metadata": {},
     "output_type": "execute_result"
    }
   ],
   "source": [
    "landslides.date.dtype"
   ],
   "metadata": {
    "collapsed": false,
    "pycharm": {
     "name": "#%%\n"
    }
   }
  },
  {
   "cell_type": "code",
   "execution_count": 24,
   "outputs": [
    {
     "data": {
      "text/plain": "0      2007-03-02\n1      2007-03-22\n2      2007-04-06\n3      2007-04-14\n4      2007-04-15\n          ...    \n1688   2015-12-07\n1689   2016-02-22\n1690   2016-02-23\n1691   2016-02-26\n1692   2016-03-02\nName: date_parsed, Length: 1693, dtype: datetime64[ns]"
     },
     "execution_count": 24,
     "metadata": {},
     "output_type": "execute_result"
    }
   ],
   "source": [
    "landslides['date_parsed'] = pd.to_datetime(landslides['date'], format='%m/%d/%y')\n",
    "# landslides['date_parsed'] = pd.to_datetime(landslides['date'], format='%m/%d/%y', infer_datetime_format=True) # shouldn't be use always as it slows down the process\n",
    "landslides.date_parsed"
   ],
   "metadata": {
    "collapsed": false,
    "pycharm": {
     "name": "#%%\n"
    }
   }
  },
  {
   "cell_type": "code",
   "execution_count": 28,
   "outputs": [
    {
     "data": {
      "text/plain": "0        2.0\n1       22.0\n2        6.0\n3       14.0\n4       15.0\n        ... \n1688     7.0\n1689    22.0\n1690    23.0\n1691    26.0\n1692     2.0\nName: date_parsed, Length: 1693, dtype: float64"
     },
     "execution_count": 28,
     "metadata": {},
     "output_type": "execute_result"
    }
   ],
   "source": [
    "day_of_month_landslides = landslides['date_parsed'].dt.day\n",
    "day_of_month_landslides"
   ],
   "metadata": {
    "collapsed": false,
    "pycharm": {
     "name": "#%%\n"
    }
   }
  },
  {
   "cell_type": "markdown",
   "source": [
    "#### **Plot the day of the month to check the date parsing**\n"
   ],
   "metadata": {
    "collapsed": false,
    "pycharm": {
     "name": "#%% md\n"
    }
   }
  },
  {
   "cell_type": "code",
   "execution_count": 29,
   "outputs": [],
   "source": [
    "day_of_month_landslides = day_of_month_landslides.dropna()\n"
   ],
   "metadata": {
    "collapsed": false,
    "pycharm": {
     "name": "#%%\n"
    }
   }
  },
  {
   "cell_type": "code",
   "execution_count": 36,
   "outputs": [
    {
     "name": "stderr",
     "output_type": "stream",
     "text": [
      "/Users/dravik/PycharmProjects/JupyterPycharm/lib/python3.8/site-packages/seaborn/distributions.py:2551: FutureWarning: `distplot` is a deprecated function and will be removed in a future version. Please adapt your code to use either `displot` (a figure-level function with similar flexibility) or `histplot` (an axes-level function for histograms).\n",
      "  warnings.warn(msg, FutureWarning)\n"
     ]
    },
    {
     "data": {
      "text/plain": "<AxesSubplot:xlabel='date_parsed'>"
     },
     "execution_count": 36,
     "metadata": {},
     "output_type": "execute_result"
    },
    {
     "data": {
      "text/plain": "<Figure size 432x288 with 1 Axes>",
      "image/png": "[encoded data removed]"
     },
     "metadata": {
      "needs_background": "light"
     },
     "output_type": "display_data"
    }
   ],
   "source": [
    "sns.distplot(day_of_month_landslides, kde=False, bins=31)"
   ],
   "metadata": {
    "collapsed": false,
    "pycharm": {
     "name": "#%%\n"
    }
   }
  },
  {
   "cell_type": "markdown",
   "source": [
    "### Exercise: Parsing Dates\n"
   ],
   "metadata": {
    "collapsed": false,
    "pycharm": {
     "name": "#%% md\n"
    }
   }
  },
  {
   "cell_type": "code",
   "execution_count": 39,
   "outputs": [
    {
     "data": {
      "text/plain": "         Date      Time  Latitude  Longitude        Type  Depth  Depth Error  \\\n0  01/02/1965  13:44:18    19.246    145.616  Earthquake  131.6          NaN   \n1  01/04/1965  11:29:49     1.863    127.352  Earthquake   80.0          NaN   \n2  01/05/1965  18:05:58   -20.579   -173.972  Earthquake   20.0          NaN   \n3  01/08/1965  18:49:43   -59.076    -23.557  Earthquake   15.0          NaN   \n4  01/09/1965  13:32:50    11.938    126.427  Earthquake   15.0          NaN   \n\n   Depth Seismic Stations  Magnitude Magnitude Type  ...  \\\n0                     NaN        6.0             MW  ...   \n1                     NaN        5.8             MW  ...   \n2                     NaN        6.2             MW  ...   \n3                     NaN        5.8             MW  ...   \n4                     NaN        5.8             MW  ...   \n\n   Magnitude Seismic Stations  Azimuthal Gap  Horizontal Distance  \\\n0                         NaN            NaN                  NaN   \n1                         NaN            NaN                  NaN   \n2                         NaN            NaN                  NaN   \n3                         NaN            NaN                  NaN   \n4                         NaN            NaN                  NaN   \n\n   Horizontal Error  Root Mean Square            ID  Source Location Source  \\\n0               NaN               NaN  ISCGEM860706  ISCGEM          ISCGEM   \n1               NaN               NaN  ISCGEM860737  ISCGEM          ISCGEM   \n2               NaN               NaN  ISCGEM860762  ISCGEM          ISCGEM   \n3               NaN               NaN  ISCGEM860856  ISCGEM          ISCGEM   \n4               NaN               NaN  ISCGEM860890  ISCGEM          ISCGEM   \n\n  Magnitude Source     Status  \n0           ISCGEM  Automatic  \n1           ISCGEM  Automatic  \n2           ISCGEM  Automatic  \n3           ISCGEM  Automatic  \n4           ISCGEM  Automatic  \n\n[5 rows x 21 columns]",
      "text/html": "<div>\n<style scoped>\n    .dataframe tbody tr th:only-of-type {\n        vertical-align: middle;\n    }\n\n    .dataframe tbody tr th {\n        vertical-align: top;\n    }\n\n    .dataframe thead th {\n        text-align: right;\n    }\n</style>\n<table border=\"1\" class=\"dataframe\">\n  <thead>\n    <tr style=\"text-align: right;\">\n      <th></th>\n      <th>Date</th>\n      <th>Time</th>\n      <th>Latitude</th>\n      <th>Longitude</th>\n      <th>Type</th>\n      <th>Depth</th>\n      <th>Depth Error</th>\n      <th>Depth Seismic Stations</th>\n      <th>Magnitude</th>\n      <th>Magnitude Type</th>\n      <th>...</th>\n      <th>Magnitude Seismic Stations</th>\n      <th>Azimuthal Gap</th>\n      <th>Horizontal Distance</th>\n      <th>Horizontal Error</th>\n      <th>Root Mean Square</th>\n      <th>ID</th>\n      <th>Source</th>\n      <th>Location Source</th>\n      <th>Magnitude Source</th>\n      <th>Status</th>\n    </tr>\n  </thead>\n  <tbody>\n    <tr>\n      <th>0</th>\n      <td>01/02/1965</td>\n      <td>13:44:18</td>\n      <td>19.246</td>\n      <td>145.616</td>\n      <td>Earthquake</td>\n      <td>131.6</td>\n      <td>NaN</td>\n      <td>NaN</td>\n      <td>6.0</td>\n      <td>MW</td>\n      <td>...</td>\n      <td>NaN</td>\n      <td>NaN</td>\n      <td>NaN</td>\n      <td>NaN</td>\n      <td>NaN</td>\n      <td>ISCGEM860706</td>\n      <td>ISCGEM</td>\n      <td>ISCGEM</td>\n      <td>ISCGEM</td>\n      <td>Automatic</td>\n    </tr>\n    <tr>\n      <th>1</th>\n      <td>01/04/1965</td>\n      <td>11:29:49</td>\n      <td>1.863</td>\n      <td>127.352</td>\n      <td>Earthquake</td>\n      <td>80.0</td>\n      <td>NaN</td>\n      <td>NaN</td>\n      <td>5.8</td>\n      <td>MW</td>\n      <td>...</td>\n      <td>NaN</td>\n      <td>NaN</td>\n      <td>NaN</td>\n      <td>NaN</td>\n      <td>NaN</td>\n      <td>ISCGEM860737</td>\n      <td>ISCGEM</td>\n      <td>ISCGEM</td>\n      <td>ISCGEM</td>\n      <td>Automatic</td>\n    </tr>\n    <tr>\n      <th>2</th>\n      <td>01/05/1965</td>\n      <td>18:05:58</td>\n      <td>-20.579</td>\n      <td>-173.972</td>\n      <td>Earthquake</td>\n      <td>20.0</td>\n      <td>NaN</td>\n      <td>NaN</td>\n      <td>6.2</td>\n      <td>MW</td>\n      <td>...</td>\n      <td>NaN</td>\n      <td>NaN</td>\n      <td>NaN</td>\n      <td>NaN</td>\n      <td>NaN</td>\n      <td>ISCGEM860762</td>\n      <td>ISCGEM</td>\n      <td>ISCGEM</td>\n      <td>ISCGEM</td>\n      <td>Automatic</td>\n    </tr>\n    <tr>\n      <th>3</th>\n      <td>01/08/1965</td>\n      <td>18:49:43</td>\n      <td>-59.076</td>\n      <td>-23.557</td>\n      <td>Earthquake</td>\n      <td>15.0</td>\n      <td>NaN</td>\n      <td>NaN</td>\n      <td>5.8</td>\n      <td>MW</td>\n      <td>...</td>\n      <td>NaN</td>\n      <td>NaN</td>\n      <td>NaN</td>\n      <td>NaN</td>\n      <td>NaN</td>\n      <td>ISCGEM860856</td>\n      <td>ISCGEM</td>\n      <td>ISCGEM</td>\n      <td>ISCGEM</td>\n      <td>Automatic</td>\n    </tr>\n    <tr>\n      <th>4</th>\n      <td>01/09/1965</td>\n      <td>13:32:50</td>\n      <td>11.938</td>\n      <td>126.427</td>\n      <td>Earthquake</td>\n      <td>15.0</td>\n      <td>NaN</td>\n      <td>NaN</td>\n      <td>5.8</td>\n      <td>MW</td>\n      <td>...</td>\n      <td>NaN</td>\n      <td>NaN</td>\n      <td>NaN</td>\n      <td>NaN</td>\n      <td>NaN</td>\n      <td>ISCGEM860890</td>\n      <td>ISCGEM</td>\n      <td>ISCGEM</td>\n      <td>ISCGEM</td>\n      <td>Automatic</td>\n    </tr>\n  </tbody>\n</table>\n<p>5 rows × 21 columns</p>\n</div>"
     },
     "execution_count": 39,
     "metadata": {},
     "output_type": "execute_result"
    }
   ],
   "source": [
    "EARTHQUAKES = '/Users/dravik/Downloads/database.csv'\n",
    "\n",
    "earthquakes = pd.read_csv(EARTHQUAKES)\n",
    "earthquakes.head()"
   ],
   "metadata": {
    "collapsed": false,
    "pycharm": {
     "name": "#%%\n"
    }
   }
  },
  {
   "cell_type": "code",
   "execution_count": 41,
   "outputs": [
    {
     "data": {
      "text/plain": "dtype('O')"
     },
     "execution_count": 41,
     "metadata": {},
     "output_type": "execute_result"
    }
   ],
   "source": [
    "#checking out the \"Date\" column type. Is it datetime or object type\n",
    "earthquakes['Date'].dtype"
   ],
   "metadata": {
    "collapsed": false,
    "pycharm": {
     "name": "#%%\n"
    }
   }
  },
  {
   "cell_type": "code",
   "execution_count": 43,
   "outputs": [
    {
     "data": {
      "text/plain": "                          Date                      Time  Latitude  Longitude  \\\n3378  1975-02-23T02:58:41.000Z  1975-02-23T02:58:41.000Z     8.017    124.075   \n3379                02/23/1975                  03:53:36   -21.727    -71.356   \n3380                02/23/1975                  07:34:11   -10.879    166.667   \n3381                02/25/1975                  05:20:05    -7.388    149.798   \n3382                02/26/1975                  04:48:55    85.047     97.969   \n\n            Type  Depth  Depth Error  Depth Seismic Stations  Magnitude  \\\n3378  Earthquake  623.0          NaN                     NaN        5.6   \n3379  Earthquake   33.0          NaN                     NaN        5.6   \n3380  Earthquake   33.0          NaN                     NaN        5.5   \n3381  Earthquake   33.0          NaN                     NaN        5.5   \n3382  Earthquake   33.0          NaN                     NaN        5.6   \n\n     Magnitude Type  ...  Magnitude Seismic Stations  Azimuthal Gap  \\\n3378             MB  ...                         NaN            NaN   \n3379             MB  ...                         NaN            NaN   \n3380             MS  ...                         NaN            NaN   \n3381             MB  ...                         NaN            NaN   \n3382             MS  ...                         NaN            NaN   \n\n      Horizontal Distance  Horizontal Error  Root Mean Square          ID  \\\n3378                  NaN               NaN               NaN  USP0000A09   \n3379                  NaN               NaN               NaN  USP0000A0A   \n3380                  NaN               NaN               NaN  USP0000A0C   \n3381                  NaN               NaN               NaN  USP0000A12   \n3382                  NaN               NaN               NaN  USP0000A1H   \n\n     Source Location Source Magnitude Source    Status  \n3378     US              US               US  Reviewed  \n3379     US              US               US  Reviewed  \n3380     US              US               US  Reviewed  \n3381     US              US               US  Reviewed  \n3382     US              US               US  Reviewed  \n\n[5 rows x 21 columns]",
      "text/html": "<div>\n<style scoped>\n    .dataframe tbody tr th:only-of-type {\n        vertical-align: middle;\n    }\n\n    .dataframe tbody tr th {\n        vertical-align: top;\n    }\n\n    .dataframe thead th {\n        text-align: right;\n    }\n</style>\n<table border=\"1\" class=\"dataframe\">\n  <thead>\n    <tr style=\"text-align: right;\">\n      <th></th>\n      <th>Date</th>\n      <th>Time</th>\n      <th>Latitude</th>\n      <th>Longitude</th>\n      <th>Type</th>\n      <th>Depth</th>\n      <th>Depth Error</th>\n      <th>Depth Seismic Stations</th>\n      <th>Magnitude</th>\n      <th>Magnitude Type</th>\n      <th>...</th>\n      <th>Magnitude Seismic Stations</th>\n      <th>Azimuthal Gap</th>\n      <th>Horizontal Distance</th>\n      <th>Horizontal Error</th>\n      <th>Root Mean Square</th>\n      <th>ID</th>\n      <th>Source</th>\n      <th>Location Source</th>\n      <th>Magnitude Source</th>\n      <th>Status</th>\n    </tr>\n  </thead>\n  <tbody>\n    <tr>\n      <th>3378</th>\n      <td>1975-02-23T02:58:41.000Z</td>\n      <td>1975-02-23T02:58:41.000Z</td>\n      <td>8.017</td>\n      <td>124.075</td>\n      <td>Earthquake</td>\n      <td>623.0</td>\n      <td>NaN</td>\n      <td>NaN</td>\n      <td>5.6</td>\n      <td>MB</td>\n      <td>...</td>\n      <td>NaN</td>\n      <td>NaN</td>\n      <td>NaN</td>\n      <td>NaN</td>\n      <td>NaN</td>\n      <td>USP0000A09</td>\n      <td>US</td>\n      <td>US</td>\n      <td>US</td>\n      <td>Reviewed</td>\n    </tr>\n    <tr>\n      <th>3379</th>\n      <td>02/23/1975</td>\n      <td>03:53:36</td>\n      <td>-21.727</td>\n      <td>-71.356</td>\n      <td>Earthquake</td>\n      <td>33.0</td>\n      <td>NaN</td>\n      <td>NaN</td>\n      <td>5.6</td>\n      <td>MB</td>\n      <td>...</td>\n      <td>NaN</td>\n      <td>NaN</td>\n      <td>NaN</td>\n      <td>NaN</td>\n      <td>NaN</td>\n      <td>USP0000A0A</td>\n      <td>US</td>\n      <td>US</td>\n      <td>US</td>\n      <td>Reviewed</td>\n    </tr>\n    <tr>\n      <th>3380</th>\n      <td>02/23/1975</td>\n      <td>07:34:11</td>\n      <td>-10.879</td>\n      <td>166.667</td>\n      <td>Earthquake</td>\n      <td>33.0</td>\n      <td>NaN</td>\n      <td>NaN</td>\n      <td>5.5</td>\n      <td>MS</td>\n      <td>...</td>\n      <td>NaN</td>\n      <td>NaN</td>\n      <td>NaN</td>\n      <td>NaN</td>\n      <td>NaN</td>\n      <td>USP0000A0C</td>\n      <td>US</td>\n      <td>US</td>\n      <td>US</td>\n      <td>Reviewed</td>\n    </tr>\n    <tr>\n      <th>3381</th>\n      <td>02/25/1975</td>\n      <td>05:20:05</td>\n      <td>-7.388</td>\n      <td>149.798</td>\n      <td>Earthquake</td>\n      <td>33.0</td>\n      <td>NaN</td>\n      <td>NaN</td>\n      <td>5.5</td>\n      <td>MB</td>\n      <td>...</td>\n      <td>NaN</td>\n      <td>NaN</td>\n      <td>NaN</td>\n      <td>NaN</td>\n      <td>NaN</td>\n      <td>USP0000A12</td>\n      <td>US</td>\n      <td>US</td>\n      <td>US</td>\n      <td>Reviewed</td>\n    </tr>\n    <tr>\n      <th>3382</th>\n      <td>02/26/1975</td>\n      <td>04:48:55</td>\n      <td>85.047</td>\n      <td>97.969</td>\n      <td>Earthquake</td>\n      <td>33.0</td>\n      <td>NaN</td>\n      <td>NaN</td>\n      <td>5.6</td>\n      <td>MS</td>\n      <td>...</td>\n      <td>NaN</td>\n      <td>NaN</td>\n      <td>NaN</td>\n      <td>NaN</td>\n      <td>NaN</td>\n      <td>USP0000A1H</td>\n      <td>US</td>\n      <td>US</td>\n      <td>US</td>\n      <td>Reviewed</td>\n    </tr>\n  </tbody>\n</table>\n<p>5 rows × 21 columns</p>\n</div>"
     },
     "execution_count": 43,
     "metadata": {},
     "output_type": "execute_result"
    }
   ],
   "source": [
    "# there's an issue with consistency with date format\n",
    "earthquakes[3378:3383]\n"
   ],
   "metadata": {
    "collapsed": false,
    "pycharm": {
     "name": "#%%\n"
    }
   }
  },
  {
   "cell_type": "code",
   "execution_count": 47,
   "outputs": [
    {
     "data": {
      "text/plain": "10    23409\n24        3\nName: Date, dtype: int64"
     },
     "execution_count": 47,
     "metadata": {},
     "output_type": "execute_result"
    }
   ],
   "source": [
    "date_lengths = earthquakes['Date'].str.len()\n",
    "date_lengths.value_counts()"
   ],
   "metadata": {
    "collapsed": false,
    "pycharm": {
     "name": "#%%\n"
    }
   }
  },
  {
   "cell_type": "code",
   "execution_count": 71,
   "outputs": [
    {
     "data": {
      "text/plain": "                           Date                      Time  Latitude  \\\n3378   1975-02-23T02:58:41.000Z  1975-02-23T02:58:41.000Z     8.017   \n7512   1985-04-28T02:53:41.530Z  1985-04-28T02:53:41.530Z   -32.998   \n20650  2011-03-13T02:23:34.520Z  2011-03-13T02:23:34.520Z    36.344   \n\n       Longitude        Type  Depth  Depth Error  Depth Seismic Stations  \\\n3378     124.075  Earthquake  623.0          NaN                     NaN   \n7512     -71.766  Earthquake   33.0          NaN                     NaN   \n20650    142.344  Earthquake   10.1         13.9                   289.0   \n\n       Magnitude Magnitude Type  ...  Azimuthal Gap  Horizontal Distance  \\\n3378         5.6             MB  ...            NaN                  NaN   \n7512         5.6             MW  ...            NaN                  NaN   \n20650        5.8            MWC  ...           32.3                  NaN   \n\n       Horizontal Error  Root Mean Square          ID  Source Location Source  \\\n3378                NaN               NaN  USP0000A09      US              US   \n7512                NaN              1.30  USP0002E81      US              US   \n20650               NaN              1.06  USP000HWQP      US              US   \n\n      Magnitude Source    Status                       date_parsed  \n3378                US  Reviewed         1975-02-23 02:58:41+00:00  \n7512               HRV  Reviewed  1985-04-28 02:53:41.530000+00:00  \n20650             GCMT  Reviewed  2011-03-13 02:23:34.520000+00:00  \n\n[3 rows x 22 columns]",
      "text/html": "<div>\n<style scoped>\n    .dataframe tbody tr th:only-of-type {\n        vertical-align: middle;\n    }\n\n    .dataframe tbody tr th {\n        vertical-align: top;\n    }\n\n    .dataframe thead th {\n        text-align: right;\n    }\n</style>\n<table border=\"1\" class=\"dataframe\">\n  <thead>\n    <tr style=\"text-align: right;\">\n      <th></th>\n      <th>Date</th>\n      <th>Time</th>\n      <th>Latitude</th>\n      <th>Longitude</th>\n      <th>Type</th>\n      <th>Depth</th>\n      <th>Depth Error</th>\n      <th>Depth Seismic Stations</th>\n      <th>Magnitude</th>\n      <th>Magnitude Type</th>\n      <th>...</th>\n      <th>Azimuthal Gap</th>\n      <th>Horizontal Distance</th>\n      <th>Horizontal Error</th>\n      <th>Root Mean Square</th>\n      <th>ID</th>\n      <th>Source</th>\n      <th>Location Source</th>\n      <th>Magnitude Source</th>\n      <th>Status</th>\n      <th>date_parsed</th>\n    </tr>\n  </thead>\n  <tbody>\n    <tr>\n      <th>3378</th>\n      <td>1975-02-23T02:58:41.000Z</td>\n      <td>1975-02-23T02:58:41.000Z</td>\n      <td>8.017</td>\n      <td>124.075</td>\n      <td>Earthquake</td>\n      <td>623.0</td>\n      <td>NaN</td>\n      <td>NaN</td>\n      <td>5.6</td>\n      <td>MB</td>\n      <td>...</td>\n      <td>NaN</td>\n      <td>NaN</td>\n      <td>NaN</td>\n      <td>NaN</td>\n      <td>USP0000A09</td>\n      <td>US</td>\n      <td>US</td>\n      <td>US</td>\n      <td>Reviewed</td>\n      <td>1975-02-23 02:58:41+00:00</td>\n    </tr>\n    <tr>\n      <th>7512</th>\n      <td>1985-04-28T02:53:41.530Z</td>\n      <td>1985-04-28T02:53:41.530Z</td>\n      <td>-32.998</td>\n      <td>-71.766</td>\n      <td>Earthquake</td>\n      <td>33.0</td>\n      <td>NaN</td>\n      <td>NaN</td>\n      <td>5.6</td>\n      <td>MW</td>\n      <td>...</td>\n      <td>NaN</td>\n      <td>NaN</td>\n      <td>NaN</td>\n      <td>1.30</td>\n      <td>USP0002E81</td>\n      <td>US</td>\n      <td>US</td>\n      <td>HRV</td>\n      <td>Reviewed</td>\n      <td>1985-04-28 02:53:41.530000+00:00</td>\n    </tr>\n    <tr>\n      <th>20650</th>\n      <td>2011-03-13T02:23:34.520Z</td>\n      <td>2011-03-13T02:23:34.520Z</td>\n      <td>36.344</td>\n      <td>142.344</td>\n      <td>Earthquake</td>\n      <td>10.1</td>\n      <td>13.9</td>\n      <td>289.0</td>\n      <td>5.8</td>\n      <td>MWC</td>\n      <td>...</td>\n      <td>32.3</td>\n      <td>NaN</td>\n      <td>NaN</td>\n      <td>1.06</td>\n      <td>USP000HWQP</td>\n      <td>US</td>\n      <td>US</td>\n      <td>GCMT</td>\n      <td>Reviewed</td>\n      <td>2011-03-13 02:23:34.520000+00:00</td>\n    </tr>\n  </tbody>\n</table>\n<p>3 rows × 22 columns</p>\n</div>"
     },
     "execution_count": 71,
     "metadata": {},
     "output_type": "execute_result"
    }
   ],
   "source": [
    "indices = np.where([date_lengths == 24])[1]\n",
    "earthquakes.loc[indices]"
   ],
   "metadata": {
    "collapsed": false,
    "pycharm": {
     "name": "#%%\n"
    }
   }
  },
  {
   "cell_type": "code",
   "execution_count": 80,
   "outputs": [
    {
     "ename": "AttributeError",
     "evalue": "'Series' object has no attribute 'len'",
     "output_type": "error",
     "traceback": [
      "\u001B[0;31m---------------------------------------------------------------------------\u001B[0m",
      "\u001B[0;31mAttributeError\u001B[0m                            Traceback (most recent call last)",
      "\u001B[0;32m<ipython-input-80-094dab926a60>\u001B[0m in \u001B[0;36m<module>\u001B[0;34m\u001B[0m\n\u001B[1;32m      3\u001B[0m \u001B[0mearthquakes\u001B[0m\u001B[0;34m.\u001B[0m\u001B[0mloc\u001B[0m\u001B[0;34m[\u001B[0m\u001B[0;36m20650\u001B[0m\u001B[0;34m,\u001B[0m \u001B[0;34m'Date'\u001B[0m\u001B[0;34m]\u001B[0m \u001B[0;34m=\u001B[0m \u001B[0;34m'03/13/2011'\u001B[0m\u001B[0;34m\u001B[0m\u001B[0;34m\u001B[0m\u001B[0m\n\u001B[1;32m      4\u001B[0m \u001B[0mearthquakes\u001B[0m\u001B[0;34m[\u001B[0m\u001B[0;34m'date_parsed'\u001B[0m\u001B[0;34m]\u001B[0m \u001B[0;34m=\u001B[0m \u001B[0mpd\u001B[0m\u001B[0;34m.\u001B[0m\u001B[0mto_datetime\u001B[0m\u001B[0;34m(\u001B[0m\u001B[0mearthquakes\u001B[0m\u001B[0;34m[\u001B[0m\u001B[0;34m'Date'\u001B[0m\u001B[0;34m]\u001B[0m\u001B[0;34m,\u001B[0m \u001B[0mformat\u001B[0m\u001B[0;34m=\u001B[0m\u001B[0;34m'%m/%d/%Y'\u001B[0m\u001B[0;34m)\u001B[0m\u001B[0;34m\u001B[0m\u001B[0;34m\u001B[0m\u001B[0m\n\u001B[0;32m----> 5\u001B[0;31m \u001B[0mearthquakes\u001B[0m\u001B[0;34m[\u001B[0m\u001B[0;34m'date_parsed'\u001B[0m\u001B[0;34m]\u001B[0m\u001B[0;34m.\u001B[0m\u001B[0mlen\u001B[0m\u001B[0;34m(\u001B[0m\u001B[0;34m)\u001B[0m\u001B[0;34m\u001B[0m\u001B[0;34m\u001B[0m\u001B[0m\n\u001B[0m",
      "\u001B[0;32m~/PycharmProjects/JupyterPycharm/lib/python3.8/site-packages/pandas/core/generic.py\u001B[0m in \u001B[0;36m__getattr__\u001B[0;34m(self, name)\u001B[0m\n\u001B[1;32m   5128\u001B[0m             \u001B[0;32mif\u001B[0m \u001B[0mself\u001B[0m\u001B[0;34m.\u001B[0m\u001B[0m_info_axis\u001B[0m\u001B[0;34m.\u001B[0m\u001B[0m_can_hold_identifiers_and_holds_name\u001B[0m\u001B[0;34m(\u001B[0m\u001B[0mname\u001B[0m\u001B[0;34m)\u001B[0m\u001B[0;34m:\u001B[0m\u001B[0;34m\u001B[0m\u001B[0;34m\u001B[0m\u001B[0m\n\u001B[1;32m   5129\u001B[0m                 \u001B[0;32mreturn\u001B[0m \u001B[0mself\u001B[0m\u001B[0;34m[\u001B[0m\u001B[0mname\u001B[0m\u001B[0;34m]\u001B[0m\u001B[0;34m\u001B[0m\u001B[0;34m\u001B[0m\u001B[0m\n\u001B[0;32m-> 5130\u001B[0;31m             \u001B[0;32mreturn\u001B[0m \u001B[0mobject\u001B[0m\u001B[0;34m.\u001B[0m\u001B[0m__getattribute__\u001B[0m\u001B[0;34m(\u001B[0m\u001B[0mself\u001B[0m\u001B[0;34m,\u001B[0m \u001B[0mname\u001B[0m\u001B[0;34m)\u001B[0m\u001B[0;34m\u001B[0m\u001B[0;34m\u001B[0m\u001B[0m\n\u001B[0m\u001B[1;32m   5131\u001B[0m \u001B[0;34m\u001B[0m\u001B[0m\n\u001B[1;32m   5132\u001B[0m     \u001B[0;32mdef\u001B[0m \u001B[0m__setattr__\u001B[0m\u001B[0;34m(\u001B[0m\u001B[0mself\u001B[0m\u001B[0;34m,\u001B[0m \u001B[0mname\u001B[0m\u001B[0;34m:\u001B[0m \u001B[0mstr\u001B[0m\u001B[0;34m,\u001B[0m \u001B[0mvalue\u001B[0m\u001B[0;34m)\u001B[0m \u001B[0;34m->\u001B[0m \u001B[0;32mNone\u001B[0m\u001B[0;34m:\u001B[0m\u001B[0;34m\u001B[0m\u001B[0;34m\u001B[0m\u001B[0m\n",
      "\u001B[0;31mAttributeError\u001B[0m: 'Series' object has no attribute 'len'"
     ]
    }
   ],
   "source": [
    "earthquakes.loc[3378, 'Date'] = '02/23/1975'\n",
    "earthquakes.loc[7512, 'Date'] = '04/28/1985'\n",
    "earthquakes.loc[20650, 'Date'] = '03/13/2011'\n",
    "earthquakes['date_parsed'] = pd.to_datetime(earthquakes['Date'], format='%m/%d/%Y')\n",
    "earthquakes['date_parsed']"
   ],
   "metadata": {
    "collapsed": false,
    "pycharm": {
     "name": "#%%\n"
    }
   }
  },
  {
   "cell_type": "code",
   "execution_count": 83,
   "outputs": [
    {
     "name": "stderr",
     "output_type": "stream",
     "text": [
      "/Users/dravik/PycharmProjects/JupyterPycharm/lib/python3.8/site-packages/seaborn/distributions.py:2551: FutureWarning: `distplot` is a deprecated function and will be removed in a future version. Please adapt your code to use either `displot` (a figure-level function with similar flexibility) or `histplot` (an axes-level function for histograms).\n",
      "  warnings.warn(msg, FutureWarning)\n"
     ]
    },
    {
     "data": {
      "text/plain": "<AxesSubplot:xlabel='date_parsed'>"
     },
     "execution_count": 83,
     "metadata": {},
     "output_type": "execute_result"
    },
    {
     "data": {
      "text/plain": "<Figure size 432x288 with 1 Axes>",
      "image/png": "[encoded data removed]"
     },
     "metadata": {
      "needs_background": "light"
     },
     "output_type": "display_data"
    }
   ],
   "source": [
    "earthquakes['date_parsed'] = earthquakes['date_parsed'].dropna()\n",
    "day_of_month_earthquakes = earthquakes['date_parsed'].dt.day\n",
    "\n",
    "sns.distplot(day_of_month_earthquakes, kde=False, bins=31)"
   ],
   "metadata": {
    "collapsed": false,
    "pycharm": {
     "name": "#%%\n"
    }
   }
  },
  {
   "cell_type": "code",
   "execution_count": null,
   "outputs": [],
   "source": [
    "#there are bonus challenges in this exercises"
   ],
   "metadata": {
    "collapsed": false,
    "pycharm": {
     "name": "#%%\n"
    }
   }
  }
 ],
 "metadata": {
  "kernelspec": {
   "display_name": "Python 3",
   "language": "python",
   "name": "python3"
  },
  "language_info": {
   "codemirror_mode": {
    "name": "ipython",
    "version": 2
   },
   "file_extension": ".py",
   "mimetype": "text/x-python",
   "name": "python",
   "nbconvert_exporter": "python",
   "pygments_lexer": "ipython2",
   "version": "2.7.6"
  }
 },
 "nbformat": 4,
 "nbformat_minor": 0
}
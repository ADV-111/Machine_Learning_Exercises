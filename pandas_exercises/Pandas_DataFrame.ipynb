{
 "cells": [
  {
   "cell_type": "markdown",
   "metadata": {
    "collapsed": true,
    "pycharm": {
     "name": "#%% md\n"
    }
   },
   "source": [
    "### Pandas DataFrame\n"
   ]
  },
  {
   "cell_type": "code",
   "execution_count": 75,
   "outputs": [],
   "source": [
    "import pandas as pd\n",
    "import numpy as np\n",
    "import requests\n",
    "from io import StringIO"
   ],
   "metadata": {
    "collapsed": false,
    "pycharm": {
     "name": "#%%\n"
    }
   }
  },
  {
   "cell_type": "code",
   "execution_count": 2,
   "outputs": [
    {
     "data": {
      "text/plain": "     A    B\n0  1.0  2.0\n1  3.0  4.0",
      "text/html": "<div>\n<style scoped>\n    .dataframe tbody tr th:only-of-type {\n        vertical-align: middle;\n    }\n\n    .dataframe tbody tr th {\n        vertical-align: top;\n    }\n\n    .dataframe thead th {\n        text-align: right;\n    }\n</style>\n<table border=\"1\" class=\"dataframe\">\n  <thead>\n    <tr style=\"text-align: right;\">\n      <th></th>\n      <th>A</th>\n      <th>B</th>\n    </tr>\n  </thead>\n  <tbody>\n    <tr>\n      <th>0</th>\n      <td>1.0</td>\n      <td>2.0</td>\n    </tr>\n    <tr>\n      <th>1</th>\n      <td>3.0</td>\n      <td>4.0</td>\n    </tr>\n  </tbody>\n</table>\n</div>"
     },
     "execution_count": 2,
     "metadata": {},
     "output_type": "execute_result"
    }
   ],
   "source": [
    "pd.DataFrame([\n",
    "    {'A': 1., 'B':2.},\n",
    "    {'A': 3., 'B':4.}\n",
    "])"
   ],
   "metadata": {
    "collapsed": false,
    "pycharm": {
     "name": "#%%\n"
    }
   }
  },
  {
   "cell_type": "code",
   "execution_count": 3,
   "outputs": [
    {
     "data": {
      "text/plain": "     A    B    C\n0  1.0  2.0  NaN\n1  3.0  NaN  4.0",
      "text/html": "<div>\n<style scoped>\n    .dataframe tbody tr th:only-of-type {\n        vertical-align: middle;\n    }\n\n    .dataframe tbody tr th {\n        vertical-align: top;\n    }\n\n    .dataframe thead th {\n        text-align: right;\n    }\n</style>\n<table border=\"1\" class=\"dataframe\">\n  <thead>\n    <tr style=\"text-align: right;\">\n      <th></th>\n      <th>A</th>\n      <th>B</th>\n      <th>C</th>\n    </tr>\n  </thead>\n  <tbody>\n    <tr>\n      <th>0</th>\n      <td>1.0</td>\n      <td>2.0</td>\n      <td>NaN</td>\n    </tr>\n    <tr>\n      <th>1</th>\n      <td>3.0</td>\n      <td>NaN</td>\n      <td>4.0</td>\n    </tr>\n  </tbody>\n</table>\n</div>"
     },
     "execution_count": 3,
     "metadata": {},
     "output_type": "execute_result"
    }
   ],
   "source": [
    "pd.DataFrame([\n",
    "    {'A': 1., 'B':2.},\n",
    "    {'A': 3., 'C':4.}\n",
    "])\n"
   ],
   "metadata": {
    "collapsed": false,
    "pycharm": {
     "name": "#%%\n"
    }
   }
  },
  {
   "cell_type": "code",
   "execution_count": 6,
   "outputs": [
    {
     "data": {
      "text/plain": "          0         1         2         3\n0 -0.607940 -0.816053 -0.006477 -0.815874\n1 -0.197567  0.070642 -1.853213 -0.652114\n2  1.235923  2.225046 -0.161837 -0.754992\n3  0.387114 -1.007201  0.369530 -0.474273\n4 -0.615717 -0.106054  0.044633 -0.428035\n5  0.326475  0.518761  0.046492 -3.430642\n6  0.299144 -0.204465  0.753026 -0.907726",
      "text/html": "<div>\n<style scoped>\n    .dataframe tbody tr th:only-of-type {\n        vertical-align: middle;\n    }\n\n    .dataframe tbody tr th {\n        vertical-align: top;\n    }\n\n    .dataframe thead th {\n        text-align: right;\n    }\n</style>\n<table border=\"1\" class=\"dataframe\">\n  <thead>\n    <tr style=\"text-align: right;\">\n      <th></th>\n      <th>0</th>\n      <th>1</th>\n      <th>2</th>\n      <th>3</th>\n    </tr>\n  </thead>\n  <tbody>\n    <tr>\n      <th>0</th>\n      <td>-0.607940</td>\n      <td>-0.816053</td>\n      <td>-0.006477</td>\n      <td>-0.815874</td>\n    </tr>\n    <tr>\n      <th>1</th>\n      <td>-0.197567</td>\n      <td>0.070642</td>\n      <td>-1.853213</td>\n      <td>-0.652114</td>\n    </tr>\n    <tr>\n      <th>2</th>\n      <td>1.235923</td>\n      <td>2.225046</td>\n      <td>-0.161837</td>\n      <td>-0.754992</td>\n    </tr>\n    <tr>\n      <th>3</th>\n      <td>0.387114</td>\n      <td>-1.007201</td>\n      <td>0.369530</td>\n      <td>-0.474273</td>\n    </tr>\n    <tr>\n      <th>4</th>\n      <td>-0.615717</td>\n      <td>-0.106054</td>\n      <td>0.044633</td>\n      <td>-0.428035</td>\n    </tr>\n    <tr>\n      <th>5</th>\n      <td>0.326475</td>\n      <td>0.518761</td>\n      <td>0.046492</td>\n      <td>-3.430642</td>\n    </tr>\n    <tr>\n      <th>6</th>\n      <td>0.299144</td>\n      <td>-0.204465</td>\n      <td>0.753026</td>\n      <td>-0.907726</td>\n    </tr>\n  </tbody>\n</table>\n</div>"
     },
     "execution_count": 6,
     "metadata": {},
     "output_type": "execute_result"
    }
   ],
   "source": [
    "df = pd.DataFrame(np.random.randn(7, 4))\n",
    "df"
   ],
   "metadata": {
    "collapsed": false,
    "pycharm": {
     "name": "#%%\n"
    }
   }
  },
  {
   "cell_type": "code",
   "execution_count": 18,
   "outputs": [
    {
     "data": {
      "text/plain": "Index(['Morning', 'Noon', 'Evening', 'Midnight'], dtype='object')"
     },
     "execution_count": 18,
     "metadata": {},
     "output_type": "execute_result"
    }
   ],
   "source": [
    "df = pd.DataFrame(\n",
    "    columns=['Morning', 'Noon', 'Evening', 'Midnight'],\n",
    "    index=pd.date_range('2020-09-24', periods=5),\n",
    "    data=np.random.randn(5, 4)\n",
    ")\n",
    "df.columns"
   ],
   "metadata": {
    "collapsed": false,
    "pycharm": {
     "name": "#%%\n"
    }
   }
  },
  {
   "cell_type": "code",
   "execution_count": 19,
   "outputs": [],
   "source": [
    "df.columns = list('ABCD')"
   ],
   "metadata": {
    "collapsed": false,
    "pycharm": {
     "name": "#%%\n"
    }
   }
  },
  {
   "cell_type": "code",
   "execution_count": 20,
   "outputs": [
    {
     "data": {
      "text/plain": "Index(['A', 'B', 'C', 'D'], dtype='object')"
     },
     "execution_count": 20,
     "metadata": {},
     "output_type": "execute_result"
    }
   ],
   "source": [
    "df.columns"
   ],
   "metadata": {
    "collapsed": false,
    "pycharm": {
     "name": "#%%\n"
    }
   }
  },
  {
   "cell_type": "code",
   "execution_count": 22,
   "outputs": [
    {
     "data": {
      "text/plain": "DatetimeIndex(['2020-09-24', '2020-09-25', '2020-09-26', '2020-09-27',\n               '2020-09-28'],\n              dtype='datetime64[ns]', freq='D')"
     },
     "execution_count": 22,
     "metadata": {},
     "output_type": "execute_result"
    }
   ],
   "source": [
    "df.index"
   ],
   "metadata": {
    "collapsed": false,
    "pycharm": {
     "name": "#%%\n"
    }
   }
  },
  {
   "cell_type": "code",
   "execution_count": 28,
   "outputs": [
    {
     "data": {
      "text/plain": "RangeIndex(start=0, stop=5, step=1)"
     },
     "execution_count": 28,
     "metadata": {},
     "output_type": "execute_result"
    }
   ],
   "source": [
    "df.index = range(5)\n",
    "df.index"
   ],
   "metadata": {
    "collapsed": false,
    "pycharm": {
     "name": "#%%\n"
    }
   }
  },
  {
   "cell_type": "code",
   "execution_count": 36,
   "outputs": [],
   "source": [
    "df.index = np.arange(5)"
   ],
   "metadata": {
    "collapsed": false,
    "pycharm": {
     "name": "#%%\n"
    }
   }
  },
  {
   "cell_type": "code",
   "execution_count": 37,
   "outputs": [
    {
     "data": {
      "text/plain": "          A         B         C         D\n0 -0.590680  0.009749 -0.490213 -1.975293\n1 -1.961075  2.135082  0.572441 -0.320040\n2 -0.698094  0.778763 -0.533326  0.899198\n3  1.376455 -0.479584 -0.597979 -1.629882\n4  1.587326 -0.183862  0.216455 -0.325588",
      "text/html": "<div>\n<style scoped>\n    .dataframe tbody tr th:only-of-type {\n        vertical-align: middle;\n    }\n\n    .dataframe tbody tr th {\n        vertical-align: top;\n    }\n\n    .dataframe thead th {\n        text-align: right;\n    }\n</style>\n<table border=\"1\" class=\"dataframe\">\n  <thead>\n    <tr style=\"text-align: right;\">\n      <th></th>\n      <th>A</th>\n      <th>B</th>\n      <th>C</th>\n      <th>D</th>\n    </tr>\n  </thead>\n  <tbody>\n    <tr>\n      <th>0</th>\n      <td>-0.590680</td>\n      <td>0.009749</td>\n      <td>-0.490213</td>\n      <td>-1.975293</td>\n    </tr>\n    <tr>\n      <th>1</th>\n      <td>-1.961075</td>\n      <td>2.135082</td>\n      <td>0.572441</td>\n      <td>-0.320040</td>\n    </tr>\n    <tr>\n      <th>2</th>\n      <td>-0.698094</td>\n      <td>0.778763</td>\n      <td>-0.533326</td>\n      <td>0.899198</td>\n    </tr>\n    <tr>\n      <th>3</th>\n      <td>1.376455</td>\n      <td>-0.479584</td>\n      <td>-0.597979</td>\n      <td>-1.629882</td>\n    </tr>\n    <tr>\n      <th>4</th>\n      <td>1.587326</td>\n      <td>-0.183862</td>\n      <td>0.216455</td>\n      <td>-0.325588</td>\n    </tr>\n  </tbody>\n</table>\n</div>"
     },
     "execution_count": 37,
     "metadata": {},
     "output_type": "execute_result"
    }
   ],
   "source": [
    "df"
   ],
   "metadata": {
    "collapsed": false,
    "pycharm": {
     "name": "#%%\n"
    }
   }
  },
  {
   "cell_type": "code",
   "execution_count": 38,
   "outputs": [
    {
     "data": {
      "text/plain": "array([[-0.59068028,  0.00974869, -0.49021262, -1.97529259],\n       [-1.96107532,  2.13508211,  0.57244074, -0.32004029],\n       [-0.69809398,  0.77876285, -0.53332576,  0.89919798],\n       [ 1.37645481, -0.4795844 , -0.59797928, -1.6298824 ],\n       [ 1.58732647, -0.18386161,  0.21645474, -0.32558774]])"
     },
     "execution_count": 38,
     "metadata": {},
     "output_type": "execute_result"
    }
   ],
   "source": [
    "df.values"
   ],
   "metadata": {
    "collapsed": false,
    "pycharm": {
     "name": "#%%\n"
    }
   }
  },
  {
   "cell_type": "code",
   "execution_count": 48,
   "outputs": [
    {
     "data": {
      "text/plain": "              A         B         C         D\ncount  5.000000  5.000000  5.000000  5.000000\nmean  -0.057214  0.452030 -0.166524 -0.670321\nstd    1.506645  1.049678  0.528728  1.154192\nmin   -1.961075 -0.479584 -0.597979 -1.975293\n25%   -0.698094 -0.183862 -0.533326 -1.629882\n50%   -0.590680  0.009749 -0.490213 -0.325588\n75%    1.376455  0.778763  0.216455 -0.320040\nmax    1.587326  2.135082  0.572441  0.899198",
      "text/html": "<div>\n<style scoped>\n    .dataframe tbody tr th:only-of-type {\n        vertical-align: middle;\n    }\n\n    .dataframe tbody tr th {\n        vertical-align: top;\n    }\n\n    .dataframe thead th {\n        text-align: right;\n    }\n</style>\n<table border=\"1\" class=\"dataframe\">\n  <thead>\n    <tr style=\"text-align: right;\">\n      <th></th>\n      <th>A</th>\n      <th>B</th>\n      <th>C</th>\n      <th>D</th>\n    </tr>\n  </thead>\n  <tbody>\n    <tr>\n      <th>count</th>\n      <td>5.000000</td>\n      <td>5.000000</td>\n      <td>5.000000</td>\n      <td>5.000000</td>\n    </tr>\n    <tr>\n      <th>mean</th>\n      <td>-0.057214</td>\n      <td>0.452030</td>\n      <td>-0.166524</td>\n      <td>-0.670321</td>\n    </tr>\n    <tr>\n      <th>std</th>\n      <td>1.506645</td>\n      <td>1.049678</td>\n      <td>0.528728</td>\n      <td>1.154192</td>\n    </tr>\n    <tr>\n      <th>min</th>\n      <td>-1.961075</td>\n      <td>-0.479584</td>\n      <td>-0.597979</td>\n      <td>-1.975293</td>\n    </tr>\n    <tr>\n      <th>25%</th>\n      <td>-0.698094</td>\n      <td>-0.183862</td>\n      <td>-0.533326</td>\n      <td>-1.629882</td>\n    </tr>\n    <tr>\n      <th>50%</th>\n      <td>-0.590680</td>\n      <td>0.009749</td>\n      <td>-0.490213</td>\n      <td>-0.325588</td>\n    </tr>\n    <tr>\n      <th>75%</th>\n      <td>1.376455</td>\n      <td>0.778763</td>\n      <td>0.216455</td>\n      <td>-0.320040</td>\n    </tr>\n    <tr>\n      <th>max</th>\n      <td>1.587326</td>\n      <td>2.135082</td>\n      <td>0.572441</td>\n      <td>0.899198</td>\n    </tr>\n  </tbody>\n</table>\n</div>"
     },
     "execution_count": 48,
     "metadata": {},
     "output_type": "execute_result"
    }
   ],
   "source": [
    "df.describe()"
   ],
   "metadata": {
    "collapsed": false,
    "pycharm": {
     "name": "#%%\n"
    }
   }
  },
  {
   "cell_type": "code",
   "execution_count": 55,
   "outputs": [
    {
     "data": {
      "text/plain": "-2.210147883663728"
     },
     "execution_count": 55,
     "metadata": {},
     "output_type": "execute_result"
    }
   ],
   "source": [
    "df['A'].sum() + df['B'].sum() + df['C'].sum() + df['D'].sum()"
   ],
   "metadata": {
    "collapsed": false,
    "pycharm": {
     "name": "#%%\n"
    }
   }
  },
  {
   "cell_type": "code",
   "execution_count": 57,
   "outputs": [],
   "source": [
    "values = np.zeros_like(df.values)"
   ],
   "metadata": {
    "collapsed": false,
    "pycharm": {
     "name": "#%%\n"
    }
   }
  },
  {
   "cell_type": "code",
   "execution_count": 58,
   "outputs": [
    {
     "data": {
      "text/plain": "array([[0., 0., 0., 0.],\n       [0., 0., 0., 0.],\n       [0., 0., 0., 0.],\n       [0., 0., 0., 0.],\n       [0., 0., 0., 0.]])"
     },
     "execution_count": 58,
     "metadata": {},
     "output_type": "execute_result"
    }
   ],
   "source": [
    "values"
   ],
   "metadata": {
    "collapsed": false,
    "pycharm": {
     "name": "#%%\n"
    }
   }
  },
  {
   "cell_type": "code",
   "execution_count": 61,
   "outputs": [
    {
     "data": {
      "text/plain": "   sepal_length  sepal_width  petal_length  petal_width     species\n0           5.4          3.9           1.3          0.4      setosa\n1           5.9          3.0           5.1          1.8   virginica\n2           6.0          3.4           4.5          1.6  versicolor\n3           7.3          2.9           6.3          1.8   virginica\n4           5.6          2.5           3.9          1.1  versicolor\n5           5.4          3.9           1.3          0.4      setosa",
      "text/html": "<div>\n<style scoped>\n    .dataframe tbody tr th:only-of-type {\n        vertical-align: middle;\n    }\n\n    .dataframe tbody tr th {\n        vertical-align: top;\n    }\n\n    .dataframe thead th {\n        text-align: right;\n    }\n</style>\n<table border=\"1\" class=\"dataframe\">\n  <thead>\n    <tr style=\"text-align: right;\">\n      <th></th>\n      <th>sepal_length</th>\n      <th>sepal_width</th>\n      <th>petal_length</th>\n      <th>petal_width</th>\n      <th>species</th>\n    </tr>\n  </thead>\n  <tbody>\n    <tr>\n      <th>0</th>\n      <td>5.4</td>\n      <td>3.9</td>\n      <td>1.3</td>\n      <td>0.4</td>\n      <td>setosa</td>\n    </tr>\n    <tr>\n      <th>1</th>\n      <td>5.9</td>\n      <td>3.0</td>\n      <td>5.1</td>\n      <td>1.8</td>\n      <td>virginica</td>\n    </tr>\n    <tr>\n      <th>2</th>\n      <td>6.0</td>\n      <td>3.4</td>\n      <td>4.5</td>\n      <td>1.6</td>\n      <td>versicolor</td>\n    </tr>\n    <tr>\n      <th>3</th>\n      <td>7.3</td>\n      <td>2.9</td>\n      <td>6.3</td>\n      <td>1.8</td>\n      <td>virginica</td>\n    </tr>\n    <tr>\n      <th>4</th>\n      <td>5.6</td>\n      <td>2.5</td>\n      <td>3.9</td>\n      <td>1.1</td>\n      <td>versicolor</td>\n    </tr>\n    <tr>\n      <th>5</th>\n      <td>5.4</td>\n      <td>3.9</td>\n      <td>1.3</td>\n      <td>0.4</td>\n      <td>setosa</td>\n    </tr>\n  </tbody>\n</table>\n</div>"
     },
     "execution_count": 61,
     "metadata": {},
     "output_type": "execute_result"
    }
   ],
   "source": [
    "DATA = [\n",
    "    {'sepal_length': 5.4, 'sepal_width': 3.9, 'petal_length': 1.3, 'petal_width': 0.4, 'species': 'setosa'},\n",
    "    {'sepal_length': 5.9, 'sepal_width': 3.0, 'petal_length': 5.1, 'petal_width': 1.8, 'species': 'virginica'},\n",
    "    {'sepal_length': 6.0, 'sepal_width': 3.4, 'petal_length': 4.5, 'petal_width': 1.6, 'species': 'versicolor'},\n",
    "    {'sepal_length': 7.3, 'sepal_width': 2.9, 'petal_length': 6.3, 'petal_width': 1.8, 'species': 'virginica'},\n",
    "    {'sepal_length': 5.6, 'sepal_width': 2.5, 'petal_length': 3.9, 'petal_width': 1.1, 'species': 'versicolor'},\n",
    "    {'sepal_length': 5.4, 'sepal_width': 3.9, 'petal_length': 1.3, 'petal_width': 0.4, 'species': 'setosa'}\n",
    "]\n",
    "\n",
    "df = pd.DataFrame(DATA)\n",
    "df"
   ],
   "metadata": {
    "collapsed": false,
    "pycharm": {
     "name": "#%%\n"
    }
   }
  },
  {
   "cell_type": "code",
   "execution_count": 69,
   "outputs": [],
   "source": [
    "selected = df.sample(frac=0.02)"
   ],
   "metadata": {
    "collapsed": false,
    "pycharm": {
     "name": "#%%\n"
    }
   }
  },
  {
   "cell_type": "code",
   "execution_count": 70,
   "outputs": [
    {
     "data": {
      "text/plain": "Empty DataFrame\nColumns: [sepal_length, sepal_width, petal_length, petal_width, species]\nIndex: []",
      "text/html": "<div>\n<style scoped>\n    .dataframe tbody tr th:only-of-type {\n        vertical-align: middle;\n    }\n\n    .dataframe tbody tr th {\n        vertical-align: top;\n    }\n\n    .dataframe thead th {\n        text-align: right;\n    }\n</style>\n<table border=\"1\" class=\"dataframe\">\n  <thead>\n    <tr style=\"text-align: right;\">\n      <th></th>\n      <th>sepal_length</th>\n      <th>sepal_width</th>\n      <th>petal_length</th>\n      <th>petal_width</th>\n      <th>species</th>\n    </tr>\n  </thead>\n  <tbody>\n  </tbody>\n</table>\n</div>"
     },
     "execution_count": 70,
     "metadata": {},
     "output_type": "execute_result"
    }
   ],
   "source": [
    "selected"
   ],
   "metadata": {
    "collapsed": false,
    "pycharm": {
     "name": "#%%\n"
    }
   }
  },
  {
   "cell_type": "code",
   "execution_count": 71,
   "outputs": [],
   "source": [
    "\"\"\"\n",
    "Polish\n",
    "Użyj danych z sekcji \"Input\" (patrz poniżej)\n",
    "\n",
    "Wczytaj dane z DATA jako astro_flights: pd.DataFrame\n",
    "\n",
    "W danych kolumna \"Order\":\n",
    "\n",
    "określa kolejność astronauty/kosmonauty w kosmosie\n",
    "\n",
    "Czasami kilka osób leciało tym samym statkiem i ich numery powinny być takie same, a w danych jest NaN.\n",
    "\n",
    "Wypełnij brakujące indeksy stosując df.ffill()\n",
    "\n",
    "Ustaw wszystkie wiersze w losowej kolejności\n",
    "\n",
    "Zresetuj index nie pozostawiając kopii zapasowej starego\n",
    "\n",
    "Wypisz\n",
    "\n",
    "Pierwsze trzy wiersze\n",
    "\n",
    "Ostatnie 10% wierszy\n",
    "\"\"\"\n",
    "DATA = 'https://python.astrotech.io/_static/astro-flights.csv'"
   ],
   "metadata": {
    "collapsed": false,
    "pycharm": {
     "name": "#%%\n"
    }
   }
  },
  {
   "cell_type": "code",
   "execution_count": 78,
   "outputs": [],
   "source": [
    "resp = requests.get(DATA)"
   ],
   "metadata": {
    "collapsed": false,
    "pycharm": {
     "name": "#%%\n"
    }
   }
  },
  {
   "cell_type": "code",
   "execution_count": 82,
   "outputs": [],
   "source": [
    "data = StringIO(resp.text)\n",
    "astro_flights = pd.read_csv(data)"
   ],
   "metadata": {
    "collapsed": false,
    "pycharm": {
     "name": "#%%\n"
    }
   }
  },
  {
   "cell_type": "code",
   "execution_count": 83,
   "outputs": [
    {
     "data": {
      "text/plain": "     Order           Astronaut         Date       Mission\n0      1.0        Yuri Gagarin   1961-04-12        Vostok\n1      2.0       Gherman Titov   1961-08-06      Vostok 2\n2      3.0   Andrian Nikolayev   1962-08-11      Vostok 3\n3      4.0      Pavel Popovich   1962-08-12      Vostok 4\n4      5.0     Valeri Bykovsky   1963-06-14      Vostok 5\n..     ...                 ...          ...           ...\n530  531.0      Thomas Pesquet   2016-11-17   Soyuz MS-03\n531  532.0        Jack Fischer   2017-04-20   Soyuz MS-04\n532  533.0      Mark Vande Hei   2017-09-12   Soyuz MS-06\n533  534.0     Norishige Kanai   2017-12-17   Soyuz MS-07\n534    NaN        Scott Tingle   2017-12-17   Soyuz MS-07\n\n[535 rows x 4 columns]",
      "text/html": "<div>\n<style scoped>\n    .dataframe tbody tr th:only-of-type {\n        vertical-align: middle;\n    }\n\n    .dataframe tbody tr th {\n        vertical-align: top;\n    }\n\n    .dataframe thead th {\n        text-align: right;\n    }\n</style>\n<table border=\"1\" class=\"dataframe\">\n  <thead>\n    <tr style=\"text-align: right;\">\n      <th></th>\n      <th>Order</th>\n      <th>Astronaut</th>\n      <th>Date</th>\n      <th>Mission</th>\n    </tr>\n  </thead>\n  <tbody>\n    <tr>\n      <th>0</th>\n      <td>1.0</td>\n      <td>Yuri Gagarin</td>\n      <td>1961-04-12</td>\n      <td>Vostok</td>\n    </tr>\n    <tr>\n      <th>1</th>\n      <td>2.0</td>\n      <td>Gherman Titov</td>\n      <td>1961-08-06</td>\n      <td>Vostok 2</td>\n    </tr>\n    <tr>\n      <th>2</th>\n      <td>3.0</td>\n      <td>Andrian Nikolayev</td>\n      <td>1962-08-11</td>\n      <td>Vostok 3</td>\n    </tr>\n    <tr>\n      <th>3</th>\n      <td>4.0</td>\n      <td>Pavel Popovich</td>\n      <td>1962-08-12</td>\n      <td>Vostok 4</td>\n    </tr>\n    <tr>\n      <th>4</th>\n      <td>5.0</td>\n      <td>Valeri Bykovsky</td>\n      <td>1963-06-14</td>\n      <td>Vostok 5</td>\n    </tr>\n    <tr>\n      <th>...</th>\n      <td>...</td>\n      <td>...</td>\n      <td>...</td>\n      <td>...</td>\n    </tr>\n    <tr>\n      <th>530</th>\n      <td>531.0</td>\n      <td>Thomas Pesquet</td>\n      <td>2016-11-17</td>\n      <td>Soyuz MS-03</td>\n    </tr>\n    <tr>\n      <th>531</th>\n      <td>532.0</td>\n      <td>Jack Fischer</td>\n      <td>2017-04-20</td>\n      <td>Soyuz MS-04</td>\n    </tr>\n    <tr>\n      <th>532</th>\n      <td>533.0</td>\n      <td>Mark Vande Hei</td>\n      <td>2017-09-12</td>\n      <td>Soyuz MS-06</td>\n    </tr>\n    <tr>\n      <th>533</th>\n      <td>534.0</td>\n      <td>Norishige Kanai</td>\n      <td>2017-12-17</td>\n      <td>Soyuz MS-07</td>\n    </tr>\n    <tr>\n      <th>534</th>\n      <td>NaN</td>\n      <td>Scott Tingle</td>\n      <td>2017-12-17</td>\n      <td>Soyuz MS-07</td>\n    </tr>\n  </tbody>\n</table>\n<p>535 rows × 4 columns</p>\n</div>"
     },
     "execution_count": 83,
     "metadata": {},
     "output_type": "execute_result"
    }
   ],
   "source": [
    "astro_flights"
   ],
   "metadata": {
    "collapsed": false,
    "pycharm": {
     "name": "#%%\n"
    }
   }
  },
  {
   "cell_type": "code",
   "execution_count": 85,
   "outputs": [
    {
     "data": {
      "text/plain": "            Order\ncount  263.000000\nmean   265.536122\nstd    165.318423\nmin      1.000000\n25%     98.500000\n50%    273.000000\n75%    406.000000\nmax    534.000000",
      "text/html": "<div>\n<style scoped>\n    .dataframe tbody tr th:only-of-type {\n        vertical-align: middle;\n    }\n\n    .dataframe tbody tr th {\n        vertical-align: top;\n    }\n\n    .dataframe thead th {\n        text-align: right;\n    }\n</style>\n<table border=\"1\" class=\"dataframe\">\n  <thead>\n    <tr style=\"text-align: right;\">\n      <th></th>\n      <th>Order</th>\n    </tr>\n  </thead>\n  <tbody>\n    <tr>\n      <th>count</th>\n      <td>263.000000</td>\n    </tr>\n    <tr>\n      <th>mean</th>\n      <td>265.536122</td>\n    </tr>\n    <tr>\n      <th>std</th>\n      <td>165.318423</td>\n    </tr>\n    <tr>\n      <th>min</th>\n      <td>1.000000</td>\n    </tr>\n    <tr>\n      <th>25%</th>\n      <td>98.500000</td>\n    </tr>\n    <tr>\n      <th>50%</th>\n      <td>273.000000</td>\n    </tr>\n    <tr>\n      <th>75%</th>\n      <td>406.000000</td>\n    </tr>\n    <tr>\n      <th>max</th>\n      <td>534.000000</td>\n    </tr>\n  </tbody>\n</table>\n</div>"
     },
     "execution_count": 85,
     "metadata": {},
     "output_type": "execute_result"
    }
   ],
   "source": [
    "astro_flights.describe()\n"
   ],
   "metadata": {
    "collapsed": false,
    "pycharm": {
     "name": "#%%\n"
    }
   }
  },
  {
   "cell_type": "code",
   "execution_count": 96,
   "outputs": [],
   "source": [
    "astro_flights['Order'].ffill(inplace=True)#%%\n",
    "astro_flights = astro_flights.sample(frac=1)"
   ],
   "metadata": {
    "collapsed": false,
    "pycharm": {
     "name": "#%%\n"
    }
   }
  },
  {
   "cell_type": "code",
   "execution_count": 105,
   "outputs": [],
   "source": [
    "astro_flights.reset_index(inplace=True)"
   ],
   "metadata": {
    "collapsed": false,
    "pycharm": {
     "name": "#%%\n"
    }
   }
  },
  {
   "cell_type": "code",
   "execution_count": 106,
   "outputs": [
    {
     "name": "stdout",
     "output_type": "stream",
     "text": [
      "   index  Order                      Astronaut         Date         Mission\n",
      "0    264  265.0                    Susan Helms   1993-01-13          STS-54\n",
      "1    426  426.0   Heidemarie Stefanyshyn-Piper   2006-09-09         STS-115\n",
      "2    513  514.0                Michael Hopkins   2013-09-25   Soyuz TMA-10M\n",
      "     index  Order                         Astronaut         Date  \\\n",
      "481    206  207.0                       John Casper   1990-02-28   \n",
      "482    209  210.0                      Thomas Akers   1990-10-06   \n",
      "483    327  327.0               Jean-Jacques Favier   1996-06-20   \n",
      "484     57   58.0                   Vitaly Zholobov   1976-07-06   \n",
      "485    521  521.0                        Kimiya Yui   2015-07-22   \n",
      "486    478  478.0                    Douglas Hurley   2009-07-15   \n",
      "487    348  349.0                  Michael Anderson   1998-01-23   \n",
      "488    269  269.0                  Charles Precourt   1993-04-26   \n",
      "489    339  340.0                  Pavel Vinogradov   1997-08-05   \n",
      "490    305  306.0                   Nikolai Budarin   1995-06-27   \n",
      "491    306  307.0                      Kevin Kregel   1995-07-13   \n",
      "492    223  223.0                  Gregory Harbaugh   1991-04-28   \n",
      "493    299  298.0                     Joseph Tanner   1994-11-03   \n",
      "494    182  183.0                 Anatoli Levchenko   1987-12-21   \n",
      "495    172  171.0                    Bryan O'Connor   1985-11-27   \n",
      "496     94   95.0                       Karol Bobko   1983-04-04   \n",
      "497    417  417.0                    Soichi Noguchi   2005-07-26   \n",
      "498    109  108.0                     Robert Parker   1983-11-28   \n",
      "499    407  407.0                      Laurel Clark   2003-01-16   \n",
      "500    154  154.0                       John Bartoe   1985-07-29   \n",
      "501     24   25.0                         Alan Bean   1969-11-14   \n",
      "502    329  327.0                     Robert Thirsk   1996-06-20   \n",
      "503    346  345.0                   Leonid Kadenyuk   1997-11-19   \n",
      "504    324  323.0                    Scott Horowitz   1996-02-22   \n",
      "505    403  404.0                    Frank De Winne   2002-10-30   \n",
      "506     52   52.0                 Gennadi Sarafanov   1974-08-26   \n",
      "507      7    8.0             Konstantin Feoktistov   1964-10-12   \n",
      "508    480  478.0                  Thomas Marshburn   2009-07-15   \n",
      "509    501  502.0                  Satoshi Furukawa   2011-06-07   \n",
      "510     78   78.0                 Gennadi Strekalov   1980-11-27   \n",
      "511    147  145.0                       Taylor Wang   1985-04-29   \n",
      "512     23   22.0                  Vladislav Volkov   1969-10-12   \n",
      "513    351  349.0                 Saliszan Sharipov   1998-01-23   \n",
      "514    258  259.0                      Curtis Brown   1992-09-12   \n",
      "515    134  134.0                      David Walker   1984-11-08   \n",
      "516    216  216.0                     Ronald Parise   1990-12-02   \n",
      "517    522  523.0                    Aydyn Aimbetov   2015-09-02   \n",
      "518    102  103.0   Aleksandr Pavlovich Aleksandrov   1983-06-27   \n",
      "519    359  359.0                     Janet Kavandi   1998-06-02   \n",
      "520     66   67.0                    Vladimir Remek   1978-03-02   \n",
      "521     22   22.0                   Viktor Gorbatko   1969-10-12   \n",
      "522    167  167.0                   Reinhard Furrer   1985-10-30   \n",
      "523    228  228.0                     Helen Sharman   1991-05-18   \n",
      "524     16   16.0                     Boris Volynov   1969-01-15   \n",
      "525      5    6.0              Valentina Tereshkova   1963-06-16   \n",
      "526     37   38.0                      Ronald Evans   1972-12-07   \n",
      "527     70   71.0                  Vladimir Lyakhov   1979-02-25   \n",
      "528     75   76.0                         Pham Tuan   1980-07-23   \n",
      "529    337  338.0                         Edward Lu   1997-05-15   \n",
      "530      9    8.0                     Boris Yegorov   1964-10-12   \n",
      "531    170  171.0                       Mary Cleave   1985-11-27   \n",
      "532    231  230.0             Millie Hughes-Fulford   1991-06-05   \n",
      "533    108  108.0                       Ulf Merbold   1983-11-28   \n",
      "534    234  235.0                 Kenneth Reightler   1991-09-12   \n",
      "\n",
      "            Mission  \n",
      "481          STS-36  \n",
      "482          STS-41  \n",
      "483          STS-78  \n",
      "484        Soyuz 21  \n",
      "485   Soyuz TMA-17M  \n",
      "486         STS-127  \n",
      "487          STS-89  \n",
      "488          STS-55  \n",
      "489     Soyuz TM-26  \n",
      "490          STS-71  \n",
      "491          STS-70  \n",
      "492          STS-39  \n",
      "493          STS-66  \n",
      "494      Soyuz TM-4  \n",
      "495            61-B  \n",
      "496           STS-6  \n",
      "497         STS-114  \n",
      "498           STS-9  \n",
      "499         STS-107  \n",
      "500            51-F  \n",
      "501       Apollo 12  \n",
      "502          STS-78  \n",
      "503          STS-87  \n",
      "504          STS-75  \n",
      "505     Soyuz TMA-1  \n",
      "506        Soyuz 15  \n",
      "507         Voskhod  \n",
      "508         STS-127  \n",
      "509   Soyuz TMA-02M  \n",
      "510       Soyuz T-3  \n",
      "511            51-B  \n",
      "512         Soyuz 7  \n",
      "513          STS-89  \n",
      "514          STS-47  \n",
      "515            51-A  \n",
      "516          STS-35  \n",
      "517   Soyuz TMA-18M  \n",
      "518       Soyuz T-9  \n",
      "519          STS-91  \n",
      "520        Soyuz 28  \n",
      "521         Soyuz 7  \n",
      "522            61-A  \n",
      "523     Soyuz TM-12  \n",
      "524         Soyuz 5  \n",
      "525        Vostok 6  \n",
      "526       Apollo 17  \n",
      "527        Soyuz 32  \n",
      "528        Soyuz 37  \n",
      "529          STS-84  \n",
      "530         Voskhod  \n",
      "531            61-B  \n",
      "532          STS-40  \n",
      "533           STS-9  \n",
      "534          STS-48  \n"
     ]
    }
   ],
   "source": [
    "# print(len(astro_flights))\n",
    "print(astro_flights.head(3))\n",
    "print(astro_flights.tail(round(len(astro_flights)*0.1)))"
   ],
   "metadata": {
    "collapsed": false,
    "pycharm": {
     "name": "#%%\n"
    }
   }
  },
  {
   "cell_type": "code",
   "execution_count": 84,
   "outputs": [],
   "source": [],
   "metadata": {
    "collapsed": false,
    "pycharm": {
     "name": "#%%\n"
    }
   }
  },
  {
   "cell_type": "code",
   "execution_count": 84,
   "outputs": [],
   "source": [],
   "metadata": {
    "collapsed": false,
    "pycharm": {
     "name": "#%%\n"
    }
   }
  },
  {
   "cell_type": "code",
   "execution_count": null,
   "outputs": [],
   "source": [],
   "metadata": {
    "collapsed": false,
    "pycharm": {
     "name": "#%%\n"
    }
   }
  }
 ],
 "metadata": {
  "kernelspec": {
   "display_name": "Python 3",
   "language": "python",
   "name": "python3"
  },
  "language_info": {
   "codemirror_mode": {
    "name": "ipython",
    "version": 2
   },
   "file_extension": ".py",
   "mimetype": "text/x-python",
   "name": "python",
   "nbconvert_exporter": "python",
   "pygments_lexer": "ipython2",
   "version": "2.7.6"
  }
 },
 "nbformat": 4,
 "nbformat_minor": 0
}
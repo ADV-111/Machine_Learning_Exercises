{
 "cells": [
  {
   "cell_type": "code",
   "execution_count": 5,
   "metadata": {
    "collapsed": true
   },
   "outputs": [],
   "source": [
    "# Warm up\n",
    "# Data cleaning is a key part of data science, but it can be deeply frustrating. Why are some of your text fields\n",
    "# garbled? What should you do about those missing values? Why aren't your dates formatted correctly? How ca you\n",
    "# quickly clean up inconsistent data entry? In this course, you'll learn why you've run into these problems and,\n",
    "# more importantly, how to fix them!\n",
    "\n",
    "# In this course, you'll learn how to tackle some of the most common data cleaning problems so you can get to\n",
    "# actually analyzing your data faster. You'll work through five hands-on exercises with real, messy data and\n",
    "# answer some of your most commonly-asked data cleaning questions\n"
   ]
  },
  {
   "cell_type": "code",
   "execution_count": 1,
   "outputs": [],
   "source": [
    "import pandas as pd\n",
    "import numpy as np\n"
   ],
   "metadata": {
    "collapsed": false,
    "pycharm": {
     "name": "#%%\n"
    }
   }
  },
  {
   "cell_type": "markdown",
   "source": [
    "## 1. Handling Missing Values"
   ],
   "metadata": {
    "collapsed": false,
    "pycharm": {
     "name": "#%% md\n"
    }
   }
  },
  {
   "cell_type": "code",
   "execution_count": null,
   "outputs": [],
   "source": [
    "DATA_URL = '/Users/dravik/Downloads/NFL Play by Play 2009-2017 (v4).csv'\n",
    "nfl_data = pd.read_csv(DATA_URL)"
   ],
   "metadata": {
    "collapsed": false,
    "pycharm": {
     "name": "#%%\n"
    }
   }
  },
  {
   "cell_type": "code",
   "execution_count": 9,
   "outputs": [
    {
     "data": {
      "text/plain": "             GameID          Drive            qtr           down  \\\ncount  4.076880e+05  407688.000000  407688.000000  346534.000000   \nmean   2.013158e+09      12.316158       2.577412       2.002476   \nstd    2.572839e+06       7.149527       1.129750       1.006353   \nmin    2.009091e+09       1.000000       1.000000       1.000000   \n25%    2.011101e+09       6.000000       2.000000       1.000000   \n50%    2.013111e+09      12.000000       3.000000       2.000000   \n75%    2.015121e+09      18.000000       4.000000       3.000000   \nmax    2.017123e+09      35.000000       5.000000       4.000000   \n\n           TimeUnder       TimeSecs   PlayTimeDiff          yrdln  \\\ncount  407688.000000  407464.000000  407244.000000  406848.000000   \nmean        7.374200    1695.268944      20.576762      28.488327   \nstd         4.642388    1062.801012      17.969326      12.946471   \nmin         0.000000    -900.000000       0.000000       1.000000   \n25%         3.000000     778.000000       5.000000      20.000000   \n50%         7.000000    1800.000000      17.000000      30.000000   \n75%        11.000000    2585.000000      37.000000      39.000000   \nmax        15.000000    3600.000000     943.000000      50.000000   \n\n          yrdline100        ydstogo  ...         yacEPA    Home_WP_pre  \\\ncount  406848.000000  407688.000000  ...  159190.000000  382734.000000   \nmean       48.644081       7.309403  ...      -0.386086       0.534488   \nstd        25.070416       4.869987  ...       1.972715       0.285574   \nmin         1.000000       0.000000  ...     -14.000000       0.000000   \n25%        30.000000       3.000000  ...      -0.961115       0.325123   \n50%        49.000000       9.000000  ...       0.000000       0.531274   \n75%        70.000000      10.000000  ...       0.485508       0.769232   \nmax        99.000000      50.000000  ...       9.559834       1.000000   \n\n         Away_WP_pre   Home_WP_post   Away_WP_post       Win_Prob  \\\ncount  382734.000000  381101.000000  381101.000000  382679.000000   \nmean        0.465965       0.534791       0.465613       0.501320   \nstd         0.285629       0.287818       0.287867       0.287445   \nmin         0.000000       0.000000       0.000000       0.000000   \n25%         0.231411       0.321701       0.227694       0.276472   \n50%         0.469052       0.533609       0.466670       0.504470   \n75%         0.675530       0.772882       0.678833       0.725477   \nmax         1.000000       1.000000       1.000000       1.000000   \n\n                 WPA         airWPA         yacWPA         Season  \ncount  402147.000000  159187.000000  158926.000000  407688.000000  \nmean        0.002099       0.015135      -0.010480    2013.018985  \nstd         0.045363       0.056490       0.068139       2.576962  \nmin        -0.997214      -0.999881      -0.986673    2009.000000  \n25%        -0.014728      -0.011518      -0.018683    2011.000000  \n50%         0.000000       0.003441       0.000000    2013.000000  \n75%         0.014684       0.035792       0.011431    2015.000000  \nmax         0.994848       0.994848       1.000000    2017.000000  \n\n[8 rows x 64 columns]",
      "text/html": "<div>\n<style scoped>\n    .dataframe tbody tr th:only-of-type {\n        vertical-align: middle;\n    }\n\n    .dataframe tbody tr th {\n        vertical-align: top;\n    }\n\n    .dataframe thead th {\n        text-align: right;\n    }\n</style>\n<table border=\"1\" class=\"dataframe\">\n  <thead>\n    <tr style=\"text-align: right;\">\n      <th></th>\n      <th>GameID</th>\n      <th>Drive</th>\n      <th>qtr</th>\n      <th>down</th>\n      <th>TimeUnder</th>\n      <th>TimeSecs</th>\n      <th>PlayTimeDiff</th>\n      <th>yrdln</th>\n      <th>yrdline100</th>\n      <th>ydstogo</th>\n      <th>...</th>\n      <th>yacEPA</th>\n      <th>Home_WP_pre</th>\n      <th>Away_WP_pre</th>\n      <th>Home_WP_post</th>\n      <th>Away_WP_post</th>\n      <th>Win_Prob</th>\n      <th>WPA</th>\n      <th>airWPA</th>\n      <th>yacWPA</th>\n      <th>Season</th>\n    </tr>\n  </thead>\n  <tbody>\n    <tr>\n      <th>count</th>\n      <td>4.076880e+05</td>\n      <td>407688.000000</td>\n      <td>407688.000000</td>\n      <td>346534.000000</td>\n      <td>407688.000000</td>\n      <td>407464.000000</td>\n      <td>407244.000000</td>\n      <td>406848.000000</td>\n      <td>406848.000000</td>\n      <td>407688.000000</td>\n      <td>...</td>\n      <td>159190.000000</td>\n      <td>382734.000000</td>\n      <td>382734.000000</td>\n      <td>381101.000000</td>\n      <td>381101.000000</td>\n      <td>382679.000000</td>\n      <td>402147.000000</td>\n      <td>159187.000000</td>\n      <td>158926.000000</td>\n      <td>407688.000000</td>\n    </tr>\n    <tr>\n      <th>mean</th>\n      <td>2.013158e+09</td>\n      <td>12.316158</td>\n      <td>2.577412</td>\n      <td>2.002476</td>\n      <td>7.374200</td>\n      <td>1695.268944</td>\n      <td>20.576762</td>\n      <td>28.488327</td>\n      <td>48.644081</td>\n      <td>7.309403</td>\n      <td>...</td>\n      <td>-0.386086</td>\n      <td>0.534488</td>\n      <td>0.465965</td>\n      <td>0.534791</td>\n      <td>0.465613</td>\n      <td>0.501320</td>\n      <td>0.002099</td>\n      <td>0.015135</td>\n      <td>-0.010480</td>\n      <td>2013.018985</td>\n    </tr>\n    <tr>\n      <th>std</th>\n      <td>2.572839e+06</td>\n      <td>7.149527</td>\n      <td>1.129750</td>\n      <td>1.006353</td>\n      <td>4.642388</td>\n      <td>1062.801012</td>\n      <td>17.969326</td>\n      <td>12.946471</td>\n      <td>25.070416</td>\n      <td>4.869987</td>\n      <td>...</td>\n      <td>1.972715</td>\n      <td>0.285574</td>\n      <td>0.285629</td>\n      <td>0.287818</td>\n      <td>0.287867</td>\n      <td>0.287445</td>\n      <td>0.045363</td>\n      <td>0.056490</td>\n      <td>0.068139</td>\n      <td>2.576962</td>\n    </tr>\n    <tr>\n      <th>min</th>\n      <td>2.009091e+09</td>\n      <td>1.000000</td>\n      <td>1.000000</td>\n      <td>1.000000</td>\n      <td>0.000000</td>\n      <td>-900.000000</td>\n      <td>0.000000</td>\n      <td>1.000000</td>\n      <td>1.000000</td>\n      <td>0.000000</td>\n      <td>...</td>\n      <td>-14.000000</td>\n      <td>0.000000</td>\n      <td>0.000000</td>\n      <td>0.000000</td>\n      <td>0.000000</td>\n      <td>0.000000</td>\n      <td>-0.997214</td>\n      <td>-0.999881</td>\n      <td>-0.986673</td>\n      <td>2009.000000</td>\n    </tr>\n    <tr>\n      <th>25%</th>\n      <td>2.011101e+09</td>\n      <td>6.000000</td>\n      <td>2.000000</td>\n      <td>1.000000</td>\n      <td>3.000000</td>\n      <td>778.000000</td>\n      <td>5.000000</td>\n      <td>20.000000</td>\n      <td>30.000000</td>\n      <td>3.000000</td>\n      <td>...</td>\n      <td>-0.961115</td>\n      <td>0.325123</td>\n      <td>0.231411</td>\n      <td>0.321701</td>\n      <td>0.227694</td>\n      <td>0.276472</td>\n      <td>-0.014728</td>\n      <td>-0.011518</td>\n      <td>-0.018683</td>\n      <td>2011.000000</td>\n    </tr>\n    <tr>\n      <th>50%</th>\n      <td>2.013111e+09</td>\n      <td>12.000000</td>\n      <td>3.000000</td>\n      <td>2.000000</td>\n      <td>7.000000</td>\n      <td>1800.000000</td>\n      <td>17.000000</td>\n      <td>30.000000</td>\n      <td>49.000000</td>\n      <td>9.000000</td>\n      <td>...</td>\n      <td>0.000000</td>\n      <td>0.531274</td>\n      <td>0.469052</td>\n      <td>0.533609</td>\n      <td>0.466670</td>\n      <td>0.504470</td>\n      <td>0.000000</td>\n      <td>0.003441</td>\n      <td>0.000000</td>\n      <td>2013.000000</td>\n    </tr>\n    <tr>\n      <th>75%</th>\n      <td>2.015121e+09</td>\n      <td>18.000000</td>\n      <td>4.000000</td>\n      <td>3.000000</td>\n      <td>11.000000</td>\n      <td>2585.000000</td>\n      <td>37.000000</td>\n      <td>39.000000</td>\n      <td>70.000000</td>\n      <td>10.000000</td>\n      <td>...</td>\n      <td>0.485508</td>\n      <td>0.769232</td>\n      <td>0.675530</td>\n      <td>0.772882</td>\n      <td>0.678833</td>\n      <td>0.725477</td>\n      <td>0.014684</td>\n      <td>0.035792</td>\n      <td>0.011431</td>\n      <td>2015.000000</td>\n    </tr>\n    <tr>\n      <th>max</th>\n      <td>2.017123e+09</td>\n      <td>35.000000</td>\n      <td>5.000000</td>\n      <td>4.000000</td>\n      <td>15.000000</td>\n      <td>3600.000000</td>\n      <td>943.000000</td>\n      <td>50.000000</td>\n      <td>99.000000</td>\n      <td>50.000000</td>\n      <td>...</td>\n      <td>9.559834</td>\n      <td>1.000000</td>\n      <td>1.000000</td>\n      <td>1.000000</td>\n      <td>1.000000</td>\n      <td>1.000000</td>\n      <td>0.994848</td>\n      <td>0.994848</td>\n      <td>1.000000</td>\n      <td>2017.000000</td>\n    </tr>\n  </tbody>\n</table>\n<p>8 rows × 64 columns</p>\n</div>"
     },
     "execution_count": 9,
     "metadata": {},
     "output_type": "execute_result"
    }
   ],
   "source": [
    "nfl_data.describe()"
   ],
   "metadata": {
    "collapsed": false,
    "pycharm": {
     "name": "#%%\n"
    }
   }
  },
  {
   "cell_type": "code",
   "execution_count": 10,
   "outputs": [],
   "source": [
    "np.random.seed(0)\n"
   ],
   "metadata": {
    "collapsed": false,
    "pycharm": {
     "name": "#%%\n"
    }
   }
  },
  {
   "cell_type": "code",
   "execution_count": 11,
   "outputs": [
    {
     "data": {
      "text/plain": "         Date      GameID  Drive  qtr  down   time  TimeUnder  TimeSecs  \\\n0  2009-09-10  2009091000      1    1   NaN  15:00         15    3600.0   \n1  2009-09-10  2009091000      1    1   1.0  14:53         15    3593.0   \n2  2009-09-10  2009091000      1    1   2.0  14:16         15    3556.0   \n3  2009-09-10  2009091000      1    1   3.0  13:35         14    3515.0   \n4  2009-09-10  2009091000      1    1   4.0  13:27         14    3507.0   \n\n   PlayTimeDiff SideofField  ...    yacEPA  Home_WP_pre  Away_WP_pre  \\\n0           0.0         TEN  ...       NaN     0.485675     0.514325   \n1           7.0         PIT  ...  1.146076     0.546433     0.453567   \n2          37.0         PIT  ...       NaN     0.551088     0.448912   \n3          41.0         PIT  ... -5.031425     0.510793     0.489207   \n4           8.0         PIT  ...       NaN     0.461217     0.538783   \n\n   Home_WP_post  Away_WP_post  Win_Prob       WPA    airWPA    yacWPA  Season  \n0      0.546433      0.453567  0.485675  0.060758       NaN       NaN    2009  \n1      0.551088      0.448912  0.546433  0.004655 -0.032244  0.036899    2009  \n2      0.510793      0.489207  0.551088 -0.040295       NaN       NaN    2009  \n3      0.461217      0.538783  0.510793 -0.049576  0.106663 -0.156239    2009  \n4      0.558929      0.441071  0.461217  0.097712       NaN       NaN    2009  \n\n[5 rows x 102 columns]",
      "text/html": "<div>\n<style scoped>\n    .dataframe tbody tr th:only-of-type {\n        vertical-align: middle;\n    }\n\n    .dataframe tbody tr th {\n        vertical-align: top;\n    }\n\n    .dataframe thead th {\n        text-align: right;\n    }\n</style>\n<table border=\"1\" class=\"dataframe\">\n  <thead>\n    <tr style=\"text-align: right;\">\n      <th></th>\n      <th>Date</th>\n      <th>GameID</th>\n      <th>Drive</th>\n      <th>qtr</th>\n      <th>down</th>\n      <th>time</th>\n      <th>TimeUnder</th>\n      <th>TimeSecs</th>\n      <th>PlayTimeDiff</th>\n      <th>SideofField</th>\n      <th>...</th>\n      <th>yacEPA</th>\n      <th>Home_WP_pre</th>\n      <th>Away_WP_pre</th>\n      <th>Home_WP_post</th>\n      <th>Away_WP_post</th>\n      <th>Win_Prob</th>\n      <th>WPA</th>\n      <th>airWPA</th>\n      <th>yacWPA</th>\n      <th>Season</th>\n    </tr>\n  </thead>\n  <tbody>\n    <tr>\n      <th>0</th>\n      <td>2009-09-10</td>\n      <td>2009091000</td>\n      <td>1</td>\n      <td>1</td>\n      <td>NaN</td>\n      <td>15:00</td>\n      <td>15</td>\n      <td>3600.0</td>\n      <td>0.0</td>\n      <td>TEN</td>\n      <td>...</td>\n      <td>NaN</td>\n      <td>0.485675</td>\n      <td>0.514325</td>\n      <td>0.546433</td>\n      <td>0.453567</td>\n      <td>0.485675</td>\n      <td>0.060758</td>\n      <td>NaN</td>\n      <td>NaN</td>\n      <td>2009</td>\n    </tr>\n    <tr>\n      <th>1</th>\n      <td>2009-09-10</td>\n      <td>2009091000</td>\n      <td>1</td>\n      <td>1</td>\n      <td>1.0</td>\n      <td>14:53</td>\n      <td>15</td>\n      <td>3593.0</td>\n      <td>7.0</td>\n      <td>PIT</td>\n      <td>...</td>\n      <td>1.146076</td>\n      <td>0.546433</td>\n      <td>0.453567</td>\n      <td>0.551088</td>\n      <td>0.448912</td>\n      <td>0.546433</td>\n      <td>0.004655</td>\n      <td>-0.032244</td>\n      <td>0.036899</td>\n      <td>2009</td>\n    </tr>\n    <tr>\n      <th>2</th>\n      <td>2009-09-10</td>\n      <td>2009091000</td>\n      <td>1</td>\n      <td>1</td>\n      <td>2.0</td>\n      <td>14:16</td>\n      <td>15</td>\n      <td>3556.0</td>\n      <td>37.0</td>\n      <td>PIT</td>\n      <td>...</td>\n      <td>NaN</td>\n      <td>0.551088</td>\n      <td>0.448912</td>\n      <td>0.510793</td>\n      <td>0.489207</td>\n      <td>0.551088</td>\n      <td>-0.040295</td>\n      <td>NaN</td>\n      <td>NaN</td>\n      <td>2009</td>\n    </tr>\n    <tr>\n      <th>3</th>\n      <td>2009-09-10</td>\n      <td>2009091000</td>\n      <td>1</td>\n      <td>1</td>\n      <td>3.0</td>\n      <td>13:35</td>\n      <td>14</td>\n      <td>3515.0</td>\n      <td>41.0</td>\n      <td>PIT</td>\n      <td>...</td>\n      <td>-5.031425</td>\n      <td>0.510793</td>\n      <td>0.489207</td>\n      <td>0.461217</td>\n      <td>0.538783</td>\n      <td>0.510793</td>\n      <td>-0.049576</td>\n      <td>0.106663</td>\n      <td>-0.156239</td>\n      <td>2009</td>\n    </tr>\n    <tr>\n      <th>4</th>\n      <td>2009-09-10</td>\n      <td>2009091000</td>\n      <td>1</td>\n      <td>1</td>\n      <td>4.0</td>\n      <td>13:27</td>\n      <td>14</td>\n      <td>3507.0</td>\n      <td>8.0</td>\n      <td>PIT</td>\n      <td>...</td>\n      <td>NaN</td>\n      <td>0.461217</td>\n      <td>0.538783</td>\n      <td>0.558929</td>\n      <td>0.441071</td>\n      <td>0.461217</td>\n      <td>0.097712</td>\n      <td>NaN</td>\n      <td>NaN</td>\n      <td>2009</td>\n    </tr>\n  </tbody>\n</table>\n<p>5 rows × 102 columns</p>\n</div>"
     },
     "execution_count": 11,
     "metadata": {},
     "output_type": "execute_result"
    }
   ],
   "source": [
    "nfl_data.head()"
   ],
   "metadata": {
    "collapsed": false,
    "pycharm": {
     "name": "#%%\n"
    }
   }
  },
  {
   "cell_type": "code",
   "execution_count": 12,
   "outputs": [
    {
     "data": {
      "text/plain": "Date                0\nGameID              0\nDrive               0\nqtr                 0\ndown            61154\ntime              224\nTimeUnder           0\nTimeSecs          224\nPlayTimeDiff      444\nSideofField       528\ndtype: int64"
     },
     "execution_count": 12,
     "metadata": {},
     "output_type": "execute_result"
    }
   ],
   "source": [
    "missing_values_count = nfl_data.isnull().sum() # sums only columns\n",
    "missing_values_count[0:10]"
   ],
   "metadata": {
    "collapsed": false,
    "pycharm": {
     "name": "#%%\n"
    }
   }
  },
  {
   "cell_type": "code",
   "execution_count": 13,
   "outputs": [
    {
     "data": {
      "text/plain": "Date             0\nGameID           0\nDrive            0\nqtr              0\ndown         61154\n             ...  \nWin_Prob     25009\nWPA           5541\nairWPA      248501\nyacWPA      248762\nSeason           0\nLength: 102, dtype: int64"
     },
     "execution_count": 13,
     "metadata": {},
     "output_type": "execute_result"
    }
   ],
   "source": [
    "missing_values_count"
   ],
   "metadata": {
    "collapsed": false,
    "pycharm": {
     "name": "#%%\n"
    }
   }
  },
  {
   "cell_type": "code",
   "execution_count": 14,
   "outputs": [],
   "source": [
    "# how many total missing values do we have?\n",
    "total_cells = np.product(nfl_data.shape)\n",
    "total_missing = missing_values_count.sum() # sums all missing values in all columns"
   ],
   "metadata": {
    "collapsed": false,
    "pycharm": {
     "name": "#%%\n"
    }
   }
  },
  {
   "cell_type": "code",
   "execution_count": 15,
   "outputs": [
    {
     "name": "stdout",
     "output_type": "stream",
     "text": [
      "24.87214126835169\n"
     ]
    }
   ],
   "source": [
    "percent_missing = (total_missing / total_cells) * 100\n",
    "print(percent_missing)"
   ],
   "metadata": {
    "collapsed": false,
    "pycharm": {
     "name": "#%%\n"
    }
   }
  },
  {
   "cell_type": "code",
   "execution_count": 16,
   "outputs": [
    {
     "data": {
      "text/plain": "Empty DataFrame\nColumns: [Date, GameID, Drive, qtr, down, time, TimeUnder, TimeSecs, PlayTimeDiff, SideofField, yrdln, yrdline100, ydstogo, ydsnet, GoalToGo, FirstDown, posteam, DefensiveTeam, desc, PlayAttempted, Yards.Gained, sp, Touchdown, ExPointResult, TwoPointConv, DefTwoPoint, Safety, Onsidekick, PuntResult, PlayType, Passer, Passer_ID, PassAttempt, PassOutcome, PassLength, AirYards, YardsAfterCatch, QBHit, PassLocation, InterceptionThrown, Interceptor, Rusher, Rusher_ID, RushAttempt, RunLocation, RunGap, Receiver, Receiver_ID, Reception, ReturnResult, Returner, BlockingPlayer, Tackler1, Tackler2, FieldGoalResult, FieldGoalDistance, Fumble, RecFumbTeam, RecFumbPlayer, Sack, Challenge.Replay, ChalReplayResult, Accepted.Penalty, PenalizedTeam, PenaltyType, PenalizedPlayer, Penalty.Yards, PosTeamScore, DefTeamScore, ScoreDiff, AbsScoreDiff, HomeTeam, AwayTeam, Timeout_Indicator, Timeout_Team, posteam_timeouts_pre, HomeTimeouts_Remaining_Pre, AwayTimeouts_Remaining_Pre, HomeTimeouts_Remaining_Post, AwayTimeouts_Remaining_Post, No_Score_Prob, Opp_Field_Goal_Prob, Opp_Safety_Prob, Opp_Touchdown_Prob, Field_Goal_Prob, Safety_Prob, Touchdown_Prob, ExPoint_Prob, TwoPoint_Prob, ExpPts, EPA, airEPA, yacEPA, Home_WP_pre, Away_WP_pre, Home_WP_post, Away_WP_post, Win_Prob, WPA, airWPA, ...]\nIndex: []\n\n[0 rows x 102 columns]",
      "text/html": "<div>\n<style scoped>\n    .dataframe tbody tr th:only-of-type {\n        vertical-align: middle;\n    }\n\n    .dataframe tbody tr th {\n        vertical-align: top;\n    }\n\n    .dataframe thead th {\n        text-align: right;\n    }\n</style>\n<table border=\"1\" class=\"dataframe\">\n  <thead>\n    <tr style=\"text-align: right;\">\n      <th></th>\n      <th>Date</th>\n      <th>GameID</th>\n      <th>Drive</th>\n      <th>qtr</th>\n      <th>down</th>\n      <th>time</th>\n      <th>TimeUnder</th>\n      <th>TimeSecs</th>\n      <th>PlayTimeDiff</th>\n      <th>SideofField</th>\n      <th>...</th>\n      <th>yacEPA</th>\n      <th>Home_WP_pre</th>\n      <th>Away_WP_pre</th>\n      <th>Home_WP_post</th>\n      <th>Away_WP_post</th>\n      <th>Win_Prob</th>\n      <th>WPA</th>\n      <th>airWPA</th>\n      <th>yacWPA</th>\n      <th>Season</th>\n    </tr>\n  </thead>\n  <tbody>\n  </tbody>\n</table>\n<p>0 rows × 102 columns</p>\n</div>"
     },
     "execution_count": 16,
     "metadata": {},
     "output_type": "execute_result"
    }
   ],
   "source": [
    "nfl_data.dropna()\n"
   ],
   "metadata": {
    "collapsed": false,
    "pycharm": {
     "name": "#%%\n"
    }
   }
  },
  {
   "cell_type": "code",
   "execution_count": 19,
   "outputs": [
    {
     "data": {
      "text/plain": "         Date      GameID  Drive  qtr  TimeUnder  ydstogo  ydsnet  \\\n0  2009-09-10  2009091000      1    1         15        0       0   \n1  2009-09-10  2009091000      1    1         15       10       5   \n2  2009-09-10  2009091000      1    1         15        5       2   \n3  2009-09-10  2009091000      1    1         14        8       2   \n4  2009-09-10  2009091000      1    1         14        8       2   \n\n   PlayAttempted  Yards.Gained  sp  ...  Timeout_Indicator  Timeout_Team  \\\n0              1            39   0  ...                  0          None   \n1              1             5   0  ...                  0          None   \n2              1            -3   0  ...                  0          None   \n3              1             0   0  ...                  0          None   \n4              1             0   0  ...                  0          None   \n\n   posteam_timeouts_pre HomeTimeouts_Remaining_Pre AwayTimeouts_Remaining_Pre  \\\n0                     3                          3                          3   \n1                     3                          3                          3   \n2                     3                          3                          3   \n3                     3                          3                          3   \n4                     3                          3                          3   \n\n   HomeTimeouts_Remaining_Post  AwayTimeouts_Remaining_Post  ExPoint_Prob  \\\n0                            3                            3           0.0   \n1                            3                            3           0.0   \n2                            3                            3           0.0   \n3                            3                            3           0.0   \n4                            3                            3           0.0   \n\n   TwoPoint_Prob  Season  \n0            0.0    2009  \n1            0.0    2009  \n2            0.0    2009  \n3            0.0    2009  \n4            0.0    2009  \n\n[5 rows x 41 columns]",
      "text/html": "<div>\n<style scoped>\n    .dataframe tbody tr th:only-of-type {\n        vertical-align: middle;\n    }\n\n    .dataframe tbody tr th {\n        vertical-align: top;\n    }\n\n    .dataframe thead th {\n        text-align: right;\n    }\n</style>\n<table border=\"1\" class=\"dataframe\">\n  <thead>\n    <tr style=\"text-align: right;\">\n      <th></th>\n      <th>Date</th>\n      <th>GameID</th>\n      <th>Drive</th>\n      <th>qtr</th>\n      <th>TimeUnder</th>\n      <th>ydstogo</th>\n      <th>ydsnet</th>\n      <th>PlayAttempted</th>\n      <th>Yards.Gained</th>\n      <th>sp</th>\n      <th>...</th>\n      <th>Timeout_Indicator</th>\n      <th>Timeout_Team</th>\n      <th>posteam_timeouts_pre</th>\n      <th>HomeTimeouts_Remaining_Pre</th>\n      <th>AwayTimeouts_Remaining_Pre</th>\n      <th>HomeTimeouts_Remaining_Post</th>\n      <th>AwayTimeouts_Remaining_Post</th>\n      <th>ExPoint_Prob</th>\n      <th>TwoPoint_Prob</th>\n      <th>Season</th>\n    </tr>\n  </thead>\n  <tbody>\n    <tr>\n      <th>0</th>\n      <td>2009-09-10</td>\n      <td>2009091000</td>\n      <td>1</td>\n      <td>1</td>\n      <td>15</td>\n      <td>0</td>\n      <td>0</td>\n      <td>1</td>\n      <td>39</td>\n      <td>0</td>\n      <td>...</td>\n      <td>0</td>\n      <td>None</td>\n      <td>3</td>\n      <td>3</td>\n      <td>3</td>\n      <td>3</td>\n      <td>3</td>\n      <td>0.0</td>\n      <td>0.0</td>\n      <td>2009</td>\n    </tr>\n    <tr>\n      <th>1</th>\n      <td>2009-09-10</td>\n      <td>2009091000</td>\n      <td>1</td>\n      <td>1</td>\n      <td>15</td>\n      <td>10</td>\n      <td>5</td>\n      <td>1</td>\n      <td>5</td>\n      <td>0</td>\n      <td>...</td>\n      <td>0</td>\n      <td>None</td>\n      <td>3</td>\n      <td>3</td>\n      <td>3</td>\n      <td>3</td>\n      <td>3</td>\n      <td>0.0</td>\n      <td>0.0</td>\n      <td>2009</td>\n    </tr>\n    <tr>\n      <th>2</th>\n      <td>2009-09-10</td>\n      <td>2009091000</td>\n      <td>1</td>\n      <td>1</td>\n      <td>15</td>\n      <td>5</td>\n      <td>2</td>\n      <td>1</td>\n      <td>-3</td>\n      <td>0</td>\n      <td>...</td>\n      <td>0</td>\n      <td>None</td>\n      <td>3</td>\n      <td>3</td>\n      <td>3</td>\n      <td>3</td>\n      <td>3</td>\n      <td>0.0</td>\n      <td>0.0</td>\n      <td>2009</td>\n    </tr>\n    <tr>\n      <th>3</th>\n      <td>2009-09-10</td>\n      <td>2009091000</td>\n      <td>1</td>\n      <td>1</td>\n      <td>14</td>\n      <td>8</td>\n      <td>2</td>\n      <td>1</td>\n      <td>0</td>\n      <td>0</td>\n      <td>...</td>\n      <td>0</td>\n      <td>None</td>\n      <td>3</td>\n      <td>3</td>\n      <td>3</td>\n      <td>3</td>\n      <td>3</td>\n      <td>0.0</td>\n      <td>0.0</td>\n      <td>2009</td>\n    </tr>\n    <tr>\n      <th>4</th>\n      <td>2009-09-10</td>\n      <td>2009091000</td>\n      <td>1</td>\n      <td>1</td>\n      <td>14</td>\n      <td>8</td>\n      <td>2</td>\n      <td>1</td>\n      <td>0</td>\n      <td>0</td>\n      <td>...</td>\n      <td>0</td>\n      <td>None</td>\n      <td>3</td>\n      <td>3</td>\n      <td>3</td>\n      <td>3</td>\n      <td>3</td>\n      <td>0.0</td>\n      <td>0.0</td>\n      <td>2009</td>\n    </tr>\n  </tbody>\n</table>\n<p>5 rows × 41 columns</p>\n</div>"
     },
     "execution_count": 19,
     "metadata": {},
     "output_type": "execute_result"
    }
   ],
   "source": [
    "# remove all columns with at least one missing value\n",
    "columns_with_na_dropped = nfl_data.dropna(axis=1)\n",
    "columns_with_na_dropped.head()"
   ],
   "metadata": {
    "collapsed": false,
    "pycharm": {
     "name": "#%%\n"
    }
   }
  },
  {
   "cell_type": "code",
   "execution_count": 23,
   "outputs": [
    {
     "data": {
      "text/plain": "        EPA    airEPA    yacEPA  Home_WP_pre  Away_WP_pre  Home_WP_post  \\\n0  2.014474       NaN       NaN     0.485675     0.514325      0.546433   \n1  0.077907 -1.068169  1.146076     0.546433     0.453567      0.551088   \n2 -1.402760       NaN       NaN     0.551088     0.448912      0.510793   \n3 -1.712583  3.318841 -5.031425     0.510793     0.489207      0.461217   \n4  2.097796       NaN       NaN     0.461217     0.538783      0.558929   \n\n   Away_WP_post  Win_Prob       WPA    airWPA    yacWPA  Season  \n0      0.453567  0.485675  0.060758       NaN       NaN    2009  \n1      0.448912  0.546433  0.004655 -0.032244  0.036899    2009  \n2      0.489207  0.551088 -0.040295       NaN       NaN    2009  \n3      0.538783  0.510793 -0.049576  0.106663 -0.156239    2009  \n4      0.441071  0.461217  0.097712       NaN       NaN    2009  ",
      "text/html": "<div>\n<style scoped>\n    .dataframe tbody tr th:only-of-type {\n        vertical-align: middle;\n    }\n\n    .dataframe tbody tr th {\n        vertical-align: top;\n    }\n\n    .dataframe thead th {\n        text-align: right;\n    }\n</style>\n<table border=\"1\" class=\"dataframe\">\n  <thead>\n    <tr style=\"text-align: right;\">\n      <th></th>\n      <th>EPA</th>\n      <th>airEPA</th>\n      <th>yacEPA</th>\n      <th>Home_WP_pre</th>\n      <th>Away_WP_pre</th>\n      <th>Home_WP_post</th>\n      <th>Away_WP_post</th>\n      <th>Win_Prob</th>\n      <th>WPA</th>\n      <th>airWPA</th>\n      <th>yacWPA</th>\n      <th>Season</th>\n    </tr>\n  </thead>\n  <tbody>\n    <tr>\n      <th>0</th>\n      <td>2.014474</td>\n      <td>NaN</td>\n      <td>NaN</td>\n      <td>0.485675</td>\n      <td>0.514325</td>\n      <td>0.546433</td>\n      <td>0.453567</td>\n      <td>0.485675</td>\n      <td>0.060758</td>\n      <td>NaN</td>\n      <td>NaN</td>\n      <td>2009</td>\n    </tr>\n    <tr>\n      <th>1</th>\n      <td>0.077907</td>\n      <td>-1.068169</td>\n      <td>1.146076</td>\n      <td>0.546433</td>\n      <td>0.453567</td>\n      <td>0.551088</td>\n      <td>0.448912</td>\n      <td>0.546433</td>\n      <td>0.004655</td>\n      <td>-0.032244</td>\n      <td>0.036899</td>\n      <td>2009</td>\n    </tr>\n    <tr>\n      <th>2</th>\n      <td>-1.402760</td>\n      <td>NaN</td>\n      <td>NaN</td>\n      <td>0.551088</td>\n      <td>0.448912</td>\n      <td>0.510793</td>\n      <td>0.489207</td>\n      <td>0.551088</td>\n      <td>-0.040295</td>\n      <td>NaN</td>\n      <td>NaN</td>\n      <td>2009</td>\n    </tr>\n    <tr>\n      <th>3</th>\n      <td>-1.712583</td>\n      <td>3.318841</td>\n      <td>-5.031425</td>\n      <td>0.510793</td>\n      <td>0.489207</td>\n      <td>0.461217</td>\n      <td>0.538783</td>\n      <td>0.510793</td>\n      <td>-0.049576</td>\n      <td>0.106663</td>\n      <td>-0.156239</td>\n      <td>2009</td>\n    </tr>\n    <tr>\n      <th>4</th>\n      <td>2.097796</td>\n      <td>NaN</td>\n      <td>NaN</td>\n      <td>0.461217</td>\n      <td>0.538783</td>\n      <td>0.558929</td>\n      <td>0.441071</td>\n      <td>0.461217</td>\n      <td>0.097712</td>\n      <td>NaN</td>\n      <td>NaN</td>\n      <td>2009</td>\n    </tr>\n  </tbody>\n</table>\n</div>"
     },
     "execution_count": 23,
     "metadata": {},
     "output_type": "execute_result"
    }
   ],
   "source": [
    "subset_nfl_data = nfl_data.loc[:, 'EPA':'Season'].head()\n",
    "subset_nfl_data"
   ],
   "metadata": {
    "collapsed": false,
    "pycharm": {
     "name": "#%%\n"
    }
   }
  },
  {
   "cell_type": "code",
   "execution_count": 32,
   "outputs": [
    {
     "name": "stdout",
     "output_type": "stream",
     "text": [
      "0          Date\n",
      "1        GameID\n",
      "2         Drive\n",
      "3           qtr\n",
      "4          down\n",
      "         ...   \n",
      "97     Win_Prob\n",
      "98          WPA\n",
      "99       airWPA\n",
      "100      yacWPA\n",
      "101      Season\n",
      "Length: 102, dtype: object\n"
     ]
    }
   ],
   "source": [
    "from pprint import pprint\n",
    "pprint(pd.Series(nfl_data.columns))"
   ],
   "metadata": {
    "collapsed": false,
    "pycharm": {
     "name": "#%%\n"
    }
   }
  },
  {
   "cell_type": "code",
   "execution_count": 33,
   "outputs": [
    {
     "data": {
      "text/plain": "             WPA    airWPA    yacWPA  Season\n0       0.060758       NaN       NaN    2009\n1       0.004655 -0.032244  0.036899    2009\n2      -0.040295       NaN       NaN    2009\n3      -0.049576  0.106663 -0.156239    2009\n4       0.097712       NaN       NaN    2009\n...          ...       ...       ...     ...\n407683  0.000000       NaN       NaN    2017\n407684 -0.029931 -0.021795 -0.008136    2017\n407685 -0.019597 -0.030603  0.011006    2017\n407686  0.030881       NaN       NaN    2017\n407687  0.000000       NaN       NaN    2017\n\n[407688 rows x 4 columns]",
      "text/html": "<div>\n<style scoped>\n    .dataframe tbody tr th:only-of-type {\n        vertical-align: middle;\n    }\n\n    .dataframe tbody tr th {\n        vertical-align: top;\n    }\n\n    .dataframe thead th {\n        text-align: right;\n    }\n</style>\n<table border=\"1\" class=\"dataframe\">\n  <thead>\n    <tr style=\"text-align: right;\">\n      <th></th>\n      <th>WPA</th>\n      <th>airWPA</th>\n      <th>yacWPA</th>\n      <th>Season</th>\n    </tr>\n  </thead>\n  <tbody>\n    <tr>\n      <th>0</th>\n      <td>0.060758</td>\n      <td>NaN</td>\n      <td>NaN</td>\n      <td>2009</td>\n    </tr>\n    <tr>\n      <th>1</th>\n      <td>0.004655</td>\n      <td>-0.032244</td>\n      <td>0.036899</td>\n      <td>2009</td>\n    </tr>\n    <tr>\n      <th>2</th>\n      <td>-0.040295</td>\n      <td>NaN</td>\n      <td>NaN</td>\n      <td>2009</td>\n    </tr>\n    <tr>\n      <th>3</th>\n      <td>-0.049576</td>\n      <td>0.106663</td>\n      <td>-0.156239</td>\n      <td>2009</td>\n    </tr>\n    <tr>\n      <th>4</th>\n      <td>0.097712</td>\n      <td>NaN</td>\n      <td>NaN</td>\n      <td>2009</td>\n    </tr>\n    <tr>\n      <th>...</th>\n      <td>...</td>\n      <td>...</td>\n      <td>...</td>\n      <td>...</td>\n    </tr>\n    <tr>\n      <th>407683</th>\n      <td>0.000000</td>\n      <td>NaN</td>\n      <td>NaN</td>\n      <td>2017</td>\n    </tr>\n    <tr>\n      <th>407684</th>\n      <td>-0.029931</td>\n      <td>-0.021795</td>\n      <td>-0.008136</td>\n      <td>2017</td>\n    </tr>\n    <tr>\n      <th>407685</th>\n      <td>-0.019597</td>\n      <td>-0.030603</td>\n      <td>0.011006</td>\n      <td>2017</td>\n    </tr>\n    <tr>\n      <th>407686</th>\n      <td>0.030881</td>\n      <td>NaN</td>\n      <td>NaN</td>\n      <td>2017</td>\n    </tr>\n    <tr>\n      <th>407687</th>\n      <td>0.000000</td>\n      <td>NaN</td>\n      <td>NaN</td>\n      <td>2017</td>\n    </tr>\n  </tbody>\n</table>\n<p>407688 rows × 4 columns</p>\n</div>"
     },
     "execution_count": 33,
     "metadata": {},
     "output_type": "execute_result"
    }
   ],
   "source": [
    "nfl_data.iloc[:, 98:]"
   ],
   "metadata": {
    "collapsed": false,
    "pycharm": {
     "name": "#%%\n"
    }
   }
  },
  {
   "cell_type": "code",
   "execution_count": 34,
   "outputs": [
    {
     "data": {
      "text/plain": "90"
     },
     "execution_count": 34,
     "metadata": {},
     "output_type": "execute_result"
    }
   ],
   "source": [
    "nfl_data.columns.get_loc('EPA') # get column index by name"
   ],
   "metadata": {
    "collapsed": false,
    "pycharm": {
     "name": "#%%\n"
    }
   }
  },
  {
   "cell_type": "code",
   "execution_count": 66,
   "outputs": [
    {
     "name": "stdout",
     "output_type": "stream",
     "text": [
      "\n",
      ": boolean\n",
      "    use_inf_as_null had been deprecated and will be removed in a future\n",
      "    version. Use `use_inf_as_na` instead.\n",
      "\n"
     ]
    },
    {
     "name": "stderr",
     "output_type": "stream",
     "text": [
      "/Users/dravik/PycharmProjects/JupyterPycharm/lib/python3.8/site-packages/pandas/_config/config.py:622: FutureWarning: \n",
      ": boolean\n",
      "    use_inf_as_null had been deprecated and will be removed in a future\n",
      "    version. Use `use_inf_as_na` instead.\n",
      "\n",
      "  warnings.warn(d.msg, FutureWarning)\n"
     ]
    },
    {
     "data": {
      "text/plain": "            0\n0        Date\n1      GameID\n2       Drive\n3         qtr\n4        down\n..        ...\n97   Win_Prob\n98        WPA\n99     airWPA\n100    yacWPA\n101    Season\n\n[102 rows x 1 columns]",
      "text/html": "<div>\n<style scoped>\n    .dataframe tbody tr th:only-of-type {\n        vertical-align: middle;\n    }\n\n    .dataframe tbody tr th {\n        vertical-align: top;\n    }\n\n    .dataframe thead th {\n        text-align: right;\n    }\n</style>\n<table border=\"1\" class=\"dataframe\">\n  <thead>\n    <tr style=\"text-align: right;\">\n      <th></th>\n      <th>0</th>\n    </tr>\n  </thead>\n  <tbody>\n    <tr>\n      <th>0</th>\n      <td>Date</td>\n    </tr>\n    <tr>\n      <th>1</th>\n      <td>GameID</td>\n    </tr>\n    <tr>\n      <th>2</th>\n      <td>Drive</td>\n    </tr>\n    <tr>\n      <th>3</th>\n      <td>qtr</td>\n    </tr>\n    <tr>\n      <th>4</th>\n      <td>down</td>\n    </tr>\n    <tr>\n      <th>...</th>\n      <td>...</td>\n    </tr>\n    <tr>\n      <th>97</th>\n      <td>Win_Prob</td>\n    </tr>\n    <tr>\n      <th>98</th>\n      <td>WPA</td>\n    </tr>\n    <tr>\n      <th>99</th>\n      <td>airWPA</td>\n    </tr>\n    <tr>\n      <th>100</th>\n      <td>yacWPA</td>\n    </tr>\n    <tr>\n      <th>101</th>\n      <td>Season</td>\n    </tr>\n  </tbody>\n</table>\n<p>102 rows × 1 columns</p>\n</div>"
     },
     "execution_count": 66,
     "metadata": {},
     "output_type": "execute_result"
    }
   ],
   "source": [
    "# pd.reset_option('all')\n",
    "# pd.options.display.max_columns = 300\n",
    "# pd.options.display.max_rows = 300\n",
    "pd.reset_option('all')\n",
    "pd.DataFrame(nfl_data.columns.values)\n",
    "\n"
   ],
   "metadata": {
    "collapsed": false,
    "pycharm": {
     "name": "#%%\n"
    }
   }
  },
  {
   "cell_type": "code",
   "execution_count": 67,
   "outputs": [
    {
     "data": {
      "text/plain": "        EPA    airEPA    yacEPA  Home_WP_pre  Away_WP_pre  Home_WP_post  \\\n0  2.014474  0.000000  0.000000     0.485675     0.514325      0.546433   \n1  0.077907 -1.068169  1.146076     0.546433     0.453567      0.551088   \n2 -1.402760  0.000000  0.000000     0.551088     0.448912      0.510793   \n3 -1.712583  3.318841 -5.031425     0.510793     0.489207      0.461217   \n4  2.097796  0.000000  0.000000     0.461217     0.538783      0.558929   \n\n   Away_WP_post  Win_Prob       WPA    airWPA    yacWPA  Season  \n0      0.453567  0.485675  0.060758  0.000000  0.000000    2009  \n1      0.448912  0.546433  0.004655 -0.032244  0.036899    2009  \n2      0.489207  0.551088 -0.040295  0.000000  0.000000    2009  \n3      0.538783  0.510793 -0.049576  0.106663 -0.156239    2009  \n4      0.441071  0.461217  0.097712  0.000000  0.000000    2009  ",
      "text/html": "<div>\n<style scoped>\n    .dataframe tbody tr th:only-of-type {\n        vertical-align: middle;\n    }\n\n    .dataframe tbody tr th {\n        vertical-align: top;\n    }\n\n    .dataframe thead th {\n        text-align: right;\n    }\n</style>\n<table border=\"1\" class=\"dataframe\">\n  <thead>\n    <tr style=\"text-align: right;\">\n      <th></th>\n      <th>EPA</th>\n      <th>airEPA</th>\n      <th>yacEPA</th>\n      <th>Home_WP_pre</th>\n      <th>Away_WP_pre</th>\n      <th>Home_WP_post</th>\n      <th>Away_WP_post</th>\n      <th>Win_Prob</th>\n      <th>WPA</th>\n      <th>airWPA</th>\n      <th>yacWPA</th>\n      <th>Season</th>\n    </tr>\n  </thead>\n  <tbody>\n    <tr>\n      <th>0</th>\n      <td>2.014474</td>\n      <td>0.000000</td>\n      <td>0.000000</td>\n      <td>0.485675</td>\n      <td>0.514325</td>\n      <td>0.546433</td>\n      <td>0.453567</td>\n      <td>0.485675</td>\n      <td>0.060758</td>\n      <td>0.000000</td>\n      <td>0.000000</td>\n      <td>2009</td>\n    </tr>\n    <tr>\n      <th>1</th>\n      <td>0.077907</td>\n      <td>-1.068169</td>\n      <td>1.146076</td>\n      <td>0.546433</td>\n      <td>0.453567</td>\n      <td>0.551088</td>\n      <td>0.448912</td>\n      <td>0.546433</td>\n      <td>0.004655</td>\n      <td>-0.032244</td>\n      <td>0.036899</td>\n      <td>2009</td>\n    </tr>\n    <tr>\n      <th>2</th>\n      <td>-1.402760</td>\n      <td>0.000000</td>\n      <td>0.000000</td>\n      <td>0.551088</td>\n      <td>0.448912</td>\n      <td>0.510793</td>\n      <td>0.489207</td>\n      <td>0.551088</td>\n      <td>-0.040295</td>\n      <td>0.000000</td>\n      <td>0.000000</td>\n      <td>2009</td>\n    </tr>\n    <tr>\n      <th>3</th>\n      <td>-1.712583</td>\n      <td>3.318841</td>\n      <td>-5.031425</td>\n      <td>0.510793</td>\n      <td>0.489207</td>\n      <td>0.461217</td>\n      <td>0.538783</td>\n      <td>0.510793</td>\n      <td>-0.049576</td>\n      <td>0.106663</td>\n      <td>-0.156239</td>\n      <td>2009</td>\n    </tr>\n    <tr>\n      <th>4</th>\n      <td>2.097796</td>\n      <td>0.000000</td>\n      <td>0.000000</td>\n      <td>0.461217</td>\n      <td>0.538783</td>\n      <td>0.558929</td>\n      <td>0.441071</td>\n      <td>0.461217</td>\n      <td>0.097712</td>\n      <td>0.000000</td>\n      <td>0.000000</td>\n      <td>2009</td>\n    </tr>\n  </tbody>\n</table>\n</div>"
     },
     "execution_count": 67,
     "metadata": {},
     "output_type": "execute_result"
    }
   ],
   "source": [
    "subset_nfl_data.fillna(0)"
   ],
   "metadata": {
    "collapsed": false,
    "pycharm": {
     "name": "#%%\n"
    }
   }
  },
  {
   "cell_type": "code",
   "execution_count": 1,
   "outputs": [
    {
     "ename": "NameError",
     "evalue": "name 'subset_nfl_data' is not defined",
     "output_type": "error",
     "traceback": [
      "\u001B[0;31m---------------------------------------------------------------------------\u001B[0m",
      "\u001B[0;31mNameError\u001B[0m                                 Traceback (most recent call last)",
      "\u001B[0;32m<ipython-input-1-6b1acb15e1e1>\u001B[0m in \u001B[0;36m<module>\u001B[0;34m\u001B[0m\n\u001B[0;32m----> 1\u001B[0;31m \u001B[0msubset_nfl_data\u001B[0m\u001B[0;34m.\u001B[0m\u001B[0mfillna\u001B[0m\u001B[0;34m(\u001B[0m\u001B[0mmethod\u001B[0m\u001B[0;34m=\u001B[0m\u001B[0;34m'bfill'\u001B[0m\u001B[0;34m,\u001B[0m \u001B[0maxis\u001B[0m\u001B[0;34m=\u001B[0m\u001B[0;36m0\u001B[0m\u001B[0;34m)\u001B[0m\u001B[0;34m.\u001B[0m\u001B[0mfillna\u001B[0m\u001B[0;34m(\u001B[0m\u001B[0;36m0\u001B[0m\u001B[0;34m)\u001B[0m\u001B[0;34m\u001B[0m\u001B[0;34m\u001B[0m\u001B[0m\n\u001B[0m\u001B[1;32m      2\u001B[0m \u001B[0;34m\u001B[0m\u001B[0m\n",
      "\u001B[0;31mNameError\u001B[0m: name 'subset_nfl_data' is not defined"
     ]
    }
   ],
   "source": [
    "subset_nfl_data.fillna(method='bfill', axis=0).fillna(0)"
   ],
   "metadata": {
    "collapsed": false,
    "pycharm": {
     "name": "#%%\n"
    }
   }
  },
  {
   "cell_type": "markdown",
   "source": [
    "### Exercises for Handling Missing Values\n",
    "\n"
   ],
   "metadata": {
    "collapsed": false,
    "pycharm": {
     "name": "#%% md\n"
    }
   }
  },
  {
   "cell_type": "code",
   "execution_count": 6,
   "outputs": [
    {
     "name": "stderr",
     "output_type": "stream",
     "text": [
      "/Users/dravik/PycharmProjects/JupyterPycharm/lib/python3.8/site-packages/IPython/core/interactiveshell.py:3145: DtypeWarning: Columns (22,32) have mixed types.Specify dtype option on import or set low_memory=False.\n",
      "  has_raised = await self.run_ast_nodes(code_ast.body, cell_name,\n"
     ]
    }
   ],
   "source": [
    "# Handling Missing Values\n",
    "DATA_SF_PERMITS_RAW = '/Users/dravik/Downloads/Building_Permits.csv'\n",
    "sf_permits = pd.read_csv(DATA_SF_PERMITS_RAW)"
   ],
   "metadata": {
    "collapsed": false,
    "pycharm": {
     "name": "#%%\n"
    }
   }
  },
  {
   "cell_type": "code",
   "execution_count": 7,
   "outputs": [
    {
     "data": {
      "text/plain": "  Permit Number  Permit Type            Permit Type Definition  \\\n0  201505065519            4                      sign - erect   \n1  201604195146            4                      sign - erect   \n2  201605278609            3  additions alterations or repairs   \n3  201611072166            8            otc alterations permit   \n4  201611283529            6                       demolitions   \n\n  Permit Creation Date Block  Lot  Street Number Street Number Suffix  \\\n0           05/06/2015  0326  023            140                  NaN   \n1           04/19/2016  0306  007            440                  NaN   \n2           05/27/2016  0595  203           1647                  NaN   \n3           11/07/2016  0156  011           1230                  NaN   \n4           11/28/2016  0342  001            950                  NaN   \n\n  Street Name Street Suffix  ...  Existing Construction Type  \\\n0       Ellis            St  ...                         3.0   \n1       Geary            St  ...                         3.0   \n2     Pacific            Av  ...                         1.0   \n3     Pacific            Av  ...                         5.0   \n4      Market            St  ...                         3.0   \n\n  Existing Construction Type Description Proposed Construction Type  \\\n0                          constr type 3                        NaN   \n1                          constr type 3                        NaN   \n2                          constr type 1                        1.0   \n3                         wood frame (5)                        5.0   \n4                          constr type 3                        NaN   \n\n  Proposed Construction Type Description Site Permit Supervisor District  \\\n0                                    NaN         NaN                 3.0   \n1                                    NaN         NaN                 3.0   \n2                          constr type 1         NaN                 3.0   \n3                         wood frame (5)         NaN                 3.0   \n4                                    NaN         NaN                 6.0   \n\n  Neighborhoods - Analysis Boundaries  Zipcode  \\\n0                          Tenderloin  94102.0   \n1                          Tenderloin  94102.0   \n2                        Russian Hill  94109.0   \n3                            Nob Hill  94109.0   \n4                          Tenderloin  94102.0   \n\n                                    Location      Record ID  \n0  (37.785719256680785, -122.40852313194863)  1380611233945  \n1   (37.78733980600732, -122.41063199757738)  1420164406718  \n2    (37.7946573324287, -122.42232562979227)  1424856504716  \n3   (37.79595867909168, -122.41557405519474)  1443574295566  \n4   (37.78315261897309, -122.40950883997789)   144548169992  \n\n[5 rows x 43 columns]",
      "text/html": "<div>\n<style scoped>\n    .dataframe tbody tr th:only-of-type {\n        vertical-align: middle;\n    }\n\n    .dataframe tbody tr th {\n        vertical-align: top;\n    }\n\n    .dataframe thead th {\n        text-align: right;\n    }\n</style>\n<table border=\"1\" class=\"dataframe\">\n  <thead>\n    <tr style=\"text-align: right;\">\n      <th></th>\n      <th>Permit Number</th>\n      <th>Permit Type</th>\n      <th>Permit Type Definition</th>\n      <th>Permit Creation Date</th>\n      <th>Block</th>\n      <th>Lot</th>\n      <th>Street Number</th>\n      <th>Street Number Suffix</th>\n      <th>Street Name</th>\n      <th>Street Suffix</th>\n      <th>...</th>\n      <th>Existing Construction Type</th>\n      <th>Existing Construction Type Description</th>\n      <th>Proposed Construction Type</th>\n      <th>Proposed Construction Type Description</th>\n      <th>Site Permit</th>\n      <th>Supervisor District</th>\n      <th>Neighborhoods - Analysis Boundaries</th>\n      <th>Zipcode</th>\n      <th>Location</th>\n      <th>Record ID</th>\n    </tr>\n  </thead>\n  <tbody>\n    <tr>\n      <th>0</th>\n      <td>201505065519</td>\n      <td>4</td>\n      <td>sign - erect</td>\n      <td>05/06/2015</td>\n      <td>0326</td>\n      <td>023</td>\n      <td>140</td>\n      <td>NaN</td>\n      <td>Ellis</td>\n      <td>St</td>\n      <td>...</td>\n      <td>3.0</td>\n      <td>constr type 3</td>\n      <td>NaN</td>\n      <td>NaN</td>\n      <td>NaN</td>\n      <td>3.0</td>\n      <td>Tenderloin</td>\n      <td>94102.0</td>\n      <td>(37.785719256680785, -122.40852313194863)</td>\n      <td>1380611233945</td>\n    </tr>\n    <tr>\n      <th>1</th>\n      <td>201604195146</td>\n      <td>4</td>\n      <td>sign - erect</td>\n      <td>04/19/2016</td>\n      <td>0306</td>\n      <td>007</td>\n      <td>440</td>\n      <td>NaN</td>\n      <td>Geary</td>\n      <td>St</td>\n      <td>...</td>\n      <td>3.0</td>\n      <td>constr type 3</td>\n      <td>NaN</td>\n      <td>NaN</td>\n      <td>NaN</td>\n      <td>3.0</td>\n      <td>Tenderloin</td>\n      <td>94102.0</td>\n      <td>(37.78733980600732, -122.41063199757738)</td>\n      <td>1420164406718</td>\n    </tr>\n    <tr>\n      <th>2</th>\n      <td>201605278609</td>\n      <td>3</td>\n      <td>additions alterations or repairs</td>\n      <td>05/27/2016</td>\n      <td>0595</td>\n      <td>203</td>\n      <td>1647</td>\n      <td>NaN</td>\n      <td>Pacific</td>\n      <td>Av</td>\n      <td>...</td>\n      <td>1.0</td>\n      <td>constr type 1</td>\n      <td>1.0</td>\n      <td>constr type 1</td>\n      <td>NaN</td>\n      <td>3.0</td>\n      <td>Russian Hill</td>\n      <td>94109.0</td>\n      <td>(37.7946573324287, -122.42232562979227)</td>\n      <td>1424856504716</td>\n    </tr>\n    <tr>\n      <th>3</th>\n      <td>201611072166</td>\n      <td>8</td>\n      <td>otc alterations permit</td>\n      <td>11/07/2016</td>\n      <td>0156</td>\n      <td>011</td>\n      <td>1230</td>\n      <td>NaN</td>\n      <td>Pacific</td>\n      <td>Av</td>\n      <td>...</td>\n      <td>5.0</td>\n      <td>wood frame (5)</td>\n      <td>5.0</td>\n      <td>wood frame (5)</td>\n      <td>NaN</td>\n      <td>3.0</td>\n      <td>Nob Hill</td>\n      <td>94109.0</td>\n      <td>(37.79595867909168, -122.41557405519474)</td>\n      <td>1443574295566</td>\n    </tr>\n    <tr>\n      <th>4</th>\n      <td>201611283529</td>\n      <td>6</td>\n      <td>demolitions</td>\n      <td>11/28/2016</td>\n      <td>0342</td>\n      <td>001</td>\n      <td>950</td>\n      <td>NaN</td>\n      <td>Market</td>\n      <td>St</td>\n      <td>...</td>\n      <td>3.0</td>\n      <td>constr type 3</td>\n      <td>NaN</td>\n      <td>NaN</td>\n      <td>NaN</td>\n      <td>6.0</td>\n      <td>Tenderloin</td>\n      <td>94102.0</td>\n      <td>(37.78315261897309, -122.40950883997789)</td>\n      <td>144548169992</td>\n    </tr>\n  </tbody>\n</table>\n<p>5 rows × 43 columns</p>\n</div>"
     },
     "execution_count": 7,
     "metadata": {},
     "output_type": "execute_result"
    }
   ],
   "source": [
    "sf_permits.head()"
   ],
   "metadata": {
    "collapsed": false,
    "pycharm": {
     "name": "#%%\n"
    }
   }
  },
  {
   "cell_type": "code",
   "execution_count": 15,
   "outputs": [
    {
     "data": {
      "text/plain": "26.26002315058403"
     },
     "execution_count": 15,
     "metadata": {},
     "output_type": "execute_result"
    }
   ],
   "source": [
    "all_nan = sf_permits.isnull().sum().sum()\n",
    "rows, cols = sf_permits.shape\n",
    "all_cells = rows * cols\n",
    "percent_missing_nans = all_nan / all_cells * 100\n",
    "percent_missing_nans"
   ],
   "metadata": {
    "collapsed": false,
    "pycharm": {
     "name": "#%%\n"
    }
   }
  },
  {
   "cell_type": "code",
   "execution_count": 22,
   "outputs": [
    {
     "data": {
      "text/plain": "   Permit Number  Permit Type            Permit Type Definition  \\\n0   201505065519            4                      sign - erect   \n1   201604195146            4                      sign - erect   \n2   201605278609            3  additions alterations or repairs   \n3   201611072166            8            otc alterations permit   \n4   201611283529            6                       demolitions   \n5   201706149344            8            otc alterations permit   \n6   201706300814            8            otc alterations permit   \n7        M803667            8            otc alterations permit   \n8        M804227            8            otc alterations permit   \n9        M804767            8            otc alterations permit   \n10       M805287            8            otc alterations permit   \n11       M805907            8            otc alterations permit   \n12       M806447            8            otc alterations permit   \n13  201707252846            8            otc alterations permit   \n14       M813729            8            otc alterations permit   \n15       M813907            8            otc alterations permit   \n16       M813967            8            otc alterations permit   \n17       M814148            8            otc alterations permit   \n18  201707283165            8            otc alterations permit   \n19       M814368            8            otc alterations permit   \n\n   Permit Creation Date Block   Lot  Street Number Street Number Suffix  \\\n0            05/06/2015  0326   023            140                  NaN   \n1            04/19/2016  0306   007            440                  NaN   \n2            05/27/2016  0595   203           1647                  NaN   \n3            11/07/2016  0156   011           1230                  NaN   \n4            11/28/2016  0342   001            950                  NaN   \n5            06/14/2017  4105   009            800                  NaN   \n6            06/30/2017  1739   020           1291                  NaN   \n7            06/30/2017  4789   014           1465                  NaN   \n8            07/05/2017  1212   054           2094                  NaN   \n9            07/06/2017  1259   016             89                  NaN   \n10           07/06/2017  3541   001            106                  NaN   \n11           07/07/2017  0829   021            675                  NaN   \n12           07/10/2017  6537   023           4082                  NaN   \n13           07/25/2017  6589  002R            681                  NaN   \n14           07/26/2017  1049   027           2761                  NaN   \n15           07/27/2017  0243   043            840                  NaN   \n16           07/27/2017  0268   008            220                  NaN   \n17           07/27/2017  3621   097           3707                  NaN   \n18           07/28/2017  0472   042           1307                  NaN   \n19           07/28/2017  2659   001            263                  NaN   \n\n   Street Name Street Suffix   Unit Unit Suffix  \\\n0        Ellis            St    NaN         NaN   \n1        Geary            St    0.0         NaN   \n2      Pacific            Av    NaN         NaN   \n3      Pacific            Av    0.0         NaN   \n4       Market            St    NaN         NaN   \n5      Indiana            St    NaN         NaN   \n6         11th            Av    0.0         NaN   \n7       Revere            Av    NaN         NaN   \n8         Fell            St    NaN         NaN   \n9       Alpine            Tr    NaN         NaN   \n10     Sanchez            St    NaN         NaN   \n11        Fell            St    NaN         NaN   \n12        25th            St    NaN         NaN   \n13        27th            St    NaN         NaN   \n14        Pine            St    NaN         NaN   \n15      Powell            St  301.0         NaN   \n16  Montgomery            St    NaN         NaN   \n17        21st            St    0.0         NaN   \n18         Bay            St    1.0         NaN   \n19     Corbett            Av    0.0         NaN   \n\n                                          Description Current Status  \\\n0   ground fl facade: to erect illuminated, electr...        expired   \n1             remove (e) awning and associated signs.         issued   \n2                     installation of separating wall      withdrawn   \n3            repair dryrot & stucco at front of bldg.       complete   \n4   demolish retail/office/commercial 3-story buil...         issued   \n5                                           evac maps         issued   \n6                                          re-roofing       complete   \n7                                         streetspace         issued   \n8                                 street space permit         issued   \n9                                        street space         issued   \n10                                       street space         issued   \n11                                       street space         issued   \n12                                       street space         issued   \n13                  remove and replace landscape wall          filed   \n14                                       street space         issued   \n15                                       street space         issued   \n16                                street space permit         issued   \n17                     street space & sidewalk repair         issued   \n18  soft story ordinance sf building code chptr 34...          filed   \n19                                       street space         issued   \n\n   Current Status Date  Filed Date Issued Date Completed Date  \\\n0           12/21/2017  05/06/2015  11/09/2015            NaN   \n1           08/03/2017  04/19/2016  08/03/2017            NaN   \n2           09/26/2017  05/27/2016         NaN            NaN   \n3           07/24/2017  11/07/2016  07/18/2017     07/24/2017   \n4           12/01/2017  11/28/2016  12/01/2017            NaN   \n5           07/06/2017  06/14/2017  07/06/2017            NaN   \n6           07/12/2017  06/30/2017  06/30/2017     07/12/2017   \n7           06/30/2017  06/30/2017  06/30/2017            NaN   \n8           07/05/2017  07/05/2017  07/05/2017            NaN   \n9           07/06/2017  07/06/2017  07/06/2017            NaN   \n10          07/06/2017  07/06/2017  07/06/2017            NaN   \n11          07/07/2017  07/07/2017  07/07/2017            NaN   \n12          07/10/2017  07/10/2017  07/10/2017            NaN   \n13          07/25/2017  07/25/2017         NaN            NaN   \n14          07/26/2017  07/26/2017  07/26/2017            NaN   \n15          07/27/2017  07/27/2017  07/27/2017            NaN   \n16          07/27/2017  07/27/2017  07/27/2017            NaN   \n17          07/27/2017  07/27/2017  07/27/2017            NaN   \n18          07/28/2017  07/28/2017         NaN            NaN   \n19          07/28/2017  07/28/2017  07/28/2017            NaN   \n\n   First Construction Document Date Structural Notification  \\\n0                        11/09/2015                     NaN   \n1                        08/03/2017                     NaN   \n2                               NaN                     NaN   \n3                        07/18/2017                     NaN   \n4                        11/20/2017                     NaN   \n5                        07/06/2017                     NaN   \n6                        06/30/2017                     NaN   \n7                        06/30/2017                     NaN   \n8                        07/05/2017                     NaN   \n9                        07/06/2017                     NaN   \n10                       07/06/2017                     NaN   \n11                       07/07/2017                     NaN   \n12                       07/10/2017                     NaN   \n13                              NaN                     NaN   \n14                       07/26/2017                     NaN   \n15                       07/27/2017                     NaN   \n16                       07/27/2017                     NaN   \n17                       07/27/2017                     NaN   \n18                              NaN                     NaN   \n19                       07/28/2017                     NaN   \n\n    Number of Existing Stories  Number of Proposed Stories  \\\n0                          6.0                         NaN   \n1                          7.0                         NaN   \n2                          6.0                         6.0   \n3                          2.0                         2.0   \n4                          3.0                         NaN   \n5                          5.0                         5.0   \n6                          3.0                         3.0   \n7                          NaN                         NaN   \n8                          NaN                         NaN   \n9                          NaN                         NaN   \n10                         NaN                         NaN   \n11                         NaN                         NaN   \n12                         NaN                         NaN   \n13                         2.0                         2.0   \n14                         NaN                         NaN   \n15                         NaN                         NaN   \n16                         NaN                         NaN   \n17                         NaN                         NaN   \n18                         4.0                         4.0   \n19                         NaN                         NaN   \n\n   Voluntary Soft-Story Retrofit Fire Only Permit Permit Expiration Date  \\\n0                            NaN              NaN             11/03/2016   \n1                            NaN              NaN             12/03/2017   \n2                            NaN              NaN                    NaN   \n3                            NaN              NaN             07/13/2018   \n4                            NaN              NaN             12/01/2018   \n5                            NaN                Y             07/01/2018   \n6                            NaN              NaN             06/25/2018   \n7                            NaN              NaN                    NaN   \n8                            NaN              NaN                    NaN   \n9                            NaN              NaN                    NaN   \n10                           NaN              NaN                    NaN   \n11                           NaN              NaN                    NaN   \n12                           NaN              NaN                    NaN   \n13                           NaN              NaN                    NaN   \n14                           NaN              NaN                    NaN   \n15                           NaN              NaN                    NaN   \n16                           NaN              NaN                    NaN   \n17                           NaN              NaN                    NaN   \n18                           NaN              NaN                    NaN   \n19                           NaN              NaN                    NaN   \n\n    Estimated Cost  Revised Cost         Existing Use  Existing Units  \\\n0           4000.0        4000.0  tourist hotel/motel           143.0   \n1              1.0         500.0  tourist hotel/motel             NaN   \n2          20000.0           NaN         retail sales            39.0   \n3           2000.0        2000.0    1 family dwelling             1.0   \n4         100000.0      100000.0         retail sales             NaN   \n5           4000.0        4000.0           apartments           326.0   \n6          12000.0       12000.0           apartments             5.0   \n7              NaN           0.0                  NaN             NaN   \n8              NaN           1.0                  NaN             NaN   \n9              NaN           0.0                  NaN             NaN   \n10             NaN           1.0                  NaN             NaN   \n11             NaN           1.0                  NaN             NaN   \n12             NaN           1.0                  NaN             NaN   \n13         30000.0           0.0    1 family dwelling             1.0   \n14             NaN           1.0                  NaN             NaN   \n15             NaN           1.0                  NaN             NaN   \n16             NaN           1.0                  NaN             NaN   \n17             NaN           1.0                  NaN             NaN   \n18         75000.0           0.0           apartments             6.0   \n19             NaN           1.0                  NaN             NaN   \n\n         Proposed Use  Proposed Units  Plansets TIDF Compliance  \\\n0                 NaN             NaN       2.0             NaN   \n1                 NaN             NaN       2.0             NaN   \n2        retail sales            39.0       2.0             NaN   \n3   1 family dwelling             1.0       2.0             NaN   \n4                 NaN             NaN       2.0             NaN   \n5          apartments           326.0       2.0             NaN   \n6          apartments             5.0       0.0             NaN   \n7                 NaN             NaN       NaN             NaN   \n8                 NaN             NaN       NaN             NaN   \n9                 NaN             NaN       NaN             NaN   \n10                NaN             NaN       NaN             NaN   \n11                NaN             NaN       NaN             NaN   \n12                NaN             NaN       NaN             NaN   \n13  1 family dwelling             1.0       2.0             NaN   \n14                NaN             NaN       NaN             NaN   \n15                NaN             NaN       NaN             NaN   \n16                NaN             NaN       NaN             NaN   \n17                NaN             NaN       NaN             NaN   \n18         apartments             6.0       2.0             NaN   \n19                NaN             NaN       NaN             NaN   \n\n    Existing Construction Type Existing Construction Type Description  \\\n0                          3.0                          constr type 3   \n1                          3.0                          constr type 3   \n2                          1.0                          constr type 1   \n3                          5.0                         wood frame (5)   \n4                          3.0                          constr type 3   \n5                          1.0                          constr type 1   \n6                          5.0                         wood frame (5)   \n7                          NaN                                    NaN   \n8                          NaN                                    NaN   \n9                          NaN                                    NaN   \n10                         NaN                                    NaN   \n11                         NaN                                    NaN   \n12                         NaN                                    NaN   \n13                         5.0                         wood frame (5)   \n14                         NaN                                    NaN   \n15                         NaN                                    NaN   \n16                         NaN                                    NaN   \n17                         NaN                                    NaN   \n18                         5.0                         wood frame (5)   \n19                         NaN                                    NaN   \n\n    Proposed Construction Type Proposed Construction Type Description  \\\n0                          NaN                                    NaN   \n1                          NaN                                    NaN   \n2                          1.0                          constr type 1   \n3                          5.0                         wood frame (5)   \n4                          NaN                                    NaN   \n5                          1.0                          constr type 1   \n6                          5.0                         wood frame (5)   \n7                          NaN                                    NaN   \n8                          NaN                                    NaN   \n9                          NaN                                    NaN   \n10                         NaN                                    NaN   \n11                         NaN                                    NaN   \n12                         NaN                                    NaN   \n13                         5.0                         wood frame (5)   \n14                         NaN                                    NaN   \n15                         NaN                                    NaN   \n16                         NaN                                    NaN   \n17                         NaN                                    NaN   \n18                         5.0                         wood frame (5)   \n19                         NaN                                    NaN   \n\n   Site Permit  Supervisor District Neighborhoods - Analysis Boundaries  \\\n0          NaN                  3.0                          Tenderloin   \n1          NaN                  3.0                          Tenderloin   \n2          NaN                  3.0                        Russian Hill   \n3          NaN                  3.0                            Nob Hill   \n4          NaN                  6.0                          Tenderloin   \n5          NaN                 10.0                        Potrero Hill   \n6          NaN                  5.0                        Inner Sunset   \n7          NaN                 10.0               Bayview Hunters Point   \n8          NaN                  5.0                   Lone Mountain/USF   \n9          NaN                  8.0                      Haight Ashbury   \n10         NaN                  8.0                 Castro/Upper Market   \n11         NaN                  5.0                        Hayes Valley   \n12         NaN                  8.0                          Noe Valley   \n13         NaN                  8.0                          Noe Valley   \n14         NaN                  2.0                     Pacific Heights   \n15         NaN                  3.0                           Chinatown   \n16         NaN                  3.0      Financial District/South Beach   \n17         NaN                  8.0                          Noe Valley   \n18         NaN                  2.0                              Marina   \n19         NaN                  8.0                 Castro/Upper Market   \n\n    Zipcode                                   Location      Record ID  \n0   94102.0  (37.785719256680785, -122.40852313194863)  1380611233945  \n1   94102.0   (37.78733980600732, -122.41063199757738)  1420164406718  \n2   94109.0    (37.7946573324287, -122.42232562979227)  1424856504716  \n3   94109.0   (37.79595867909168, -122.41557405519474)  1443574295566  \n4   94102.0   (37.78315261897309, -122.40950883997789)   144548169992  \n5   94107.0   (37.75922331346539, -122.39170402628598)  1466911170855  \n6   94122.0  (37.764145640138565, -122.46875112470363)  1468970403692  \n7   94124.0   (37.73005099023611, -122.38784938916618)  1469035175050  \n8   94117.0  (37.772393498502595, -122.45231466824669)  1469198253772  \n9   94117.0    (37.7691724293766, -122.43734859051908)   146932394171  \n10  94114.0  (37.767349757757145, -122.43140682973024)  1469445246849  \n11  94102.0  (37.774914087334544, -122.42886839796792)   146961582526  \n12  94114.0   (37.75006779619502, -122.43127350268124)  1469781206718  \n13  94131.0     (37.7462205625642, -122.4353484860549)  1471799208305  \n14  94115.0   (37.78676200041077, -122.44124093333335)   147203988249  \n15  94108.0    (37.7926690651263, -122.40883941791454)   147208763456  \n16  94104.0   (37.79130641988351, -122.40198579459195)   147211866168  \n17  94114.0   (37.75607840165479, -122.43041143390109)  1472184412108  \n18  94123.0    (37.8035183252307, -122.42863180996076)  1472277302360  \n19  94114.0  (37.761092365437214, -122.44402154957145)  1472295408612  ",
      "text/html": "<div>\n<style scoped>\n    .dataframe tbody tr th:only-of-type {\n        vertical-align: middle;\n    }\n\n    .dataframe tbody tr th {\n        vertical-align: top;\n    }\n\n    .dataframe thead th {\n        text-align: right;\n    }\n</style>\n<table border=\"1\" class=\"dataframe\">\n  <thead>\n    <tr style=\"text-align: right;\">\n      <th></th>\n      <th>Permit Number</th>\n      <th>Permit Type</th>\n      <th>Permit Type Definition</th>\n      <th>Permit Creation Date</th>\n      <th>Block</th>\n      <th>Lot</th>\n      <th>Street Number</th>\n      <th>Street Number Suffix</th>\n      <th>Street Name</th>\n      <th>Street Suffix</th>\n      <th>Unit</th>\n      <th>Unit Suffix</th>\n      <th>Description</th>\n      <th>Current Status</th>\n      <th>Current Status Date</th>\n      <th>Filed Date</th>\n      <th>Issued Date</th>\n      <th>Completed Date</th>\n      <th>First Construction Document Date</th>\n      <th>Structural Notification</th>\n      <th>Number of Existing Stories</th>\n      <th>Number of Proposed Stories</th>\n      <th>Voluntary Soft-Story Retrofit</th>\n      <th>Fire Only Permit</th>\n      <th>Permit Expiration Date</th>\n      <th>Estimated Cost</th>\n      <th>Revised Cost</th>\n      <th>Existing Use</th>\n      <th>Existing Units</th>\n      <th>Proposed Use</th>\n      <th>Proposed Units</th>\n      <th>Plansets</th>\n      <th>TIDF Compliance</th>\n      <th>Existing Construction Type</th>\n      <th>Existing Construction Type Description</th>\n      <th>Proposed Construction Type</th>\n      <th>Proposed Construction Type Description</th>\n      <th>Site Permit</th>\n      <th>Supervisor District</th>\n      <th>Neighborhoods - Analysis Boundaries</th>\n      <th>Zipcode</th>\n      <th>Location</th>\n      <th>Record ID</th>\n    </tr>\n  </thead>\n  <tbody>\n    <tr>\n      <th>0</th>\n      <td>201505065519</td>\n      <td>4</td>\n      <td>sign - erect</td>\n      <td>05/06/2015</td>\n      <td>0326</td>\n      <td>023</td>\n      <td>140</td>\n      <td>NaN</td>\n      <td>Ellis</td>\n      <td>St</td>\n      <td>NaN</td>\n      <td>NaN</td>\n      <td>ground fl facade: to erect illuminated, electr...</td>\n      <td>expired</td>\n      <td>12/21/2017</td>\n      <td>05/06/2015</td>\n      <td>11/09/2015</td>\n      <td>NaN</td>\n      <td>11/09/2015</td>\n      <td>NaN</td>\n      <td>6.0</td>\n      <td>NaN</td>\n      <td>NaN</td>\n      <td>NaN</td>\n      <td>11/03/2016</td>\n      <td>4000.0</td>\n      <td>4000.0</td>\n      <td>tourist hotel/motel</td>\n      <td>143.0</td>\n      <td>NaN</td>\n      <td>NaN</td>\n      <td>2.0</td>\n      <td>NaN</td>\n      <td>3.0</td>\n      <td>constr type 3</td>\n      <td>NaN</td>\n      <td>NaN</td>\n      <td>NaN</td>\n      <td>3.0</td>\n      <td>Tenderloin</td>\n      <td>94102.0</td>\n      <td>(37.785719256680785, -122.40852313194863)</td>\n      <td>1380611233945</td>\n    </tr>\n    <tr>\n      <th>1</th>\n      <td>201604195146</td>\n      <td>4</td>\n      <td>sign - erect</td>\n      <td>04/19/2016</td>\n      <td>0306</td>\n      <td>007</td>\n      <td>440</td>\n      <td>NaN</td>\n      <td>Geary</td>\n      <td>St</td>\n      <td>0.0</td>\n      <td>NaN</td>\n      <td>remove (e) awning and associated signs.</td>\n      <td>issued</td>\n      <td>08/03/2017</td>\n      <td>04/19/2016</td>\n      <td>08/03/2017</td>\n      <td>NaN</td>\n      <td>08/03/2017</td>\n      <td>NaN</td>\n      <td>7.0</td>\n      <td>NaN</td>\n      <td>NaN</td>\n      <td>NaN</td>\n      <td>12/03/2017</td>\n      <td>1.0</td>\n      <td>500.0</td>\n      <td>tourist hotel/motel</td>\n      <td>NaN</td>\n      <td>NaN</td>\n      <td>NaN</td>\n      <td>2.0</td>\n      <td>NaN</td>\n      <td>3.0</td>\n      <td>constr type 3</td>\n      <td>NaN</td>\n      <td>NaN</td>\n      <td>NaN</td>\n      <td>3.0</td>\n      <td>Tenderloin</td>\n      <td>94102.0</td>\n      <td>(37.78733980600732, -122.41063199757738)</td>\n      <td>1420164406718</td>\n    </tr>\n    <tr>\n      <th>2</th>\n      <td>201605278609</td>\n      <td>3</td>\n      <td>additions alterations or repairs</td>\n      <td>05/27/2016</td>\n      <td>0595</td>\n      <td>203</td>\n      <td>1647</td>\n      <td>NaN</td>\n      <td>Pacific</td>\n      <td>Av</td>\n      <td>NaN</td>\n      <td>NaN</td>\n      <td>installation of separating wall</td>\n      <td>withdrawn</td>\n      <td>09/26/2017</td>\n      <td>05/27/2016</td>\n      <td>NaN</td>\n      <td>NaN</td>\n      <td>NaN</td>\n      <td>NaN</td>\n      <td>6.0</td>\n      <td>6.0</td>\n      <td>NaN</td>\n      <td>NaN</td>\n      <td>NaN</td>\n      <td>20000.0</td>\n      <td>NaN</td>\n      <td>retail sales</td>\n      <td>39.0</td>\n      <td>retail sales</td>\n      <td>39.0</td>\n      <td>2.0</td>\n      <td>NaN</td>\n      <td>1.0</td>\n      <td>constr type 1</td>\n      <td>1.0</td>\n      <td>constr type 1</td>\n      <td>NaN</td>\n      <td>3.0</td>\n      <td>Russian Hill</td>\n      <td>94109.0</td>\n      <td>(37.7946573324287, -122.42232562979227)</td>\n      <td>1424856504716</td>\n    </tr>\n    <tr>\n      <th>3</th>\n      <td>201611072166</td>\n      <td>8</td>\n      <td>otc alterations permit</td>\n      <td>11/07/2016</td>\n      <td>0156</td>\n      <td>011</td>\n      <td>1230</td>\n      <td>NaN</td>\n      <td>Pacific</td>\n      <td>Av</td>\n      <td>0.0</td>\n      <td>NaN</td>\n      <td>repair dryrot &amp; stucco at front of bldg.</td>\n      <td>complete</td>\n      <td>07/24/2017</td>\n      <td>11/07/2016</td>\n      <td>07/18/2017</td>\n      <td>07/24/2017</td>\n      <td>07/18/2017</td>\n      <td>NaN</td>\n      <td>2.0</td>\n      <td>2.0</td>\n      <td>NaN</td>\n      <td>NaN</td>\n      <td>07/13/2018</td>\n      <td>2000.0</td>\n      <td>2000.0</td>\n      <td>1 family dwelling</td>\n      <td>1.0</td>\n      <td>1 family dwelling</td>\n      <td>1.0</td>\n      <td>2.0</td>\n      <td>NaN</td>\n      <td>5.0</td>\n      <td>wood frame (5)</td>\n      <td>5.0</td>\n      <td>wood frame (5)</td>\n      <td>NaN</td>\n      <td>3.0</td>\n      <td>Nob Hill</td>\n      <td>94109.0</td>\n      <td>(37.79595867909168, -122.41557405519474)</td>\n      <td>1443574295566</td>\n    </tr>\n    <tr>\n      <th>4</th>\n      <td>201611283529</td>\n      <td>6</td>\n      <td>demolitions</td>\n      <td>11/28/2016</td>\n      <td>0342</td>\n      <td>001</td>\n      <td>950</td>\n      <td>NaN</td>\n      <td>Market</td>\n      <td>St</td>\n      <td>NaN</td>\n      <td>NaN</td>\n      <td>demolish retail/office/commercial 3-story buil...</td>\n      <td>issued</td>\n      <td>12/01/2017</td>\n      <td>11/28/2016</td>\n      <td>12/01/2017</td>\n      <td>NaN</td>\n      <td>11/20/2017</td>\n      <td>NaN</td>\n      <td>3.0</td>\n      <td>NaN</td>\n      <td>NaN</td>\n      <td>NaN</td>\n      <td>12/01/2018</td>\n      <td>100000.0</td>\n      <td>100000.0</td>\n      <td>retail sales</td>\n      <td>NaN</td>\n      <td>NaN</td>\n      <td>NaN</td>\n      <td>2.0</td>\n      <td>NaN</td>\n      <td>3.0</td>\n      <td>constr type 3</td>\n      <td>NaN</td>\n      <td>NaN</td>\n      <td>NaN</td>\n      <td>6.0</td>\n      <td>Tenderloin</td>\n      <td>94102.0</td>\n      <td>(37.78315261897309, -122.40950883997789)</td>\n      <td>144548169992</td>\n    </tr>\n    <tr>\n      <th>5</th>\n      <td>201706149344</td>\n      <td>8</td>\n      <td>otc alterations permit</td>\n      <td>06/14/2017</td>\n      <td>4105</td>\n      <td>009</td>\n      <td>800</td>\n      <td>NaN</td>\n      <td>Indiana</td>\n      <td>St</td>\n      <td>NaN</td>\n      <td>NaN</td>\n      <td>evac maps</td>\n      <td>issued</td>\n      <td>07/06/2017</td>\n      <td>06/14/2017</td>\n      <td>07/06/2017</td>\n      <td>NaN</td>\n      <td>07/06/2017</td>\n      <td>NaN</td>\n      <td>5.0</td>\n      <td>5.0</td>\n      <td>NaN</td>\n      <td>Y</td>\n      <td>07/01/2018</td>\n      <td>4000.0</td>\n      <td>4000.0</td>\n      <td>apartments</td>\n      <td>326.0</td>\n      <td>apartments</td>\n      <td>326.0</td>\n      <td>2.0</td>\n      <td>NaN</td>\n      <td>1.0</td>\n      <td>constr type 1</td>\n      <td>1.0</td>\n      <td>constr type 1</td>\n      <td>NaN</td>\n      <td>10.0</td>\n      <td>Potrero Hill</td>\n      <td>94107.0</td>\n      <td>(37.75922331346539, -122.39170402628598)</td>\n      <td>1466911170855</td>\n    </tr>\n    <tr>\n      <th>6</th>\n      <td>201706300814</td>\n      <td>8</td>\n      <td>otc alterations permit</td>\n      <td>06/30/2017</td>\n      <td>1739</td>\n      <td>020</td>\n      <td>1291</td>\n      <td>NaN</td>\n      <td>11th</td>\n      <td>Av</td>\n      <td>0.0</td>\n      <td>NaN</td>\n      <td>re-roofing</td>\n      <td>complete</td>\n      <td>07/12/2017</td>\n      <td>06/30/2017</td>\n      <td>06/30/2017</td>\n      <td>07/12/2017</td>\n      <td>06/30/2017</td>\n      <td>NaN</td>\n      <td>3.0</td>\n      <td>3.0</td>\n      <td>NaN</td>\n      <td>NaN</td>\n      <td>06/25/2018</td>\n      <td>12000.0</td>\n      <td>12000.0</td>\n      <td>apartments</td>\n      <td>5.0</td>\n      <td>apartments</td>\n      <td>5.0</td>\n      <td>0.0</td>\n      <td>NaN</td>\n      <td>5.0</td>\n      <td>wood frame (5)</td>\n      <td>5.0</td>\n      <td>wood frame (5)</td>\n      <td>NaN</td>\n      <td>5.0</td>\n      <td>Inner Sunset</td>\n      <td>94122.0</td>\n      <td>(37.764145640138565, -122.46875112470363)</td>\n      <td>1468970403692</td>\n    </tr>\n    <tr>\n      <th>7</th>\n      <td>M803667</td>\n      <td>8</td>\n      <td>otc alterations permit</td>\n      <td>06/30/2017</td>\n      <td>4789</td>\n      <td>014</td>\n      <td>1465</td>\n      <td>NaN</td>\n      <td>Revere</td>\n      <td>Av</td>\n      <td>NaN</td>\n      <td>NaN</td>\n      <td>streetspace</td>\n      <td>issued</td>\n      <td>06/30/2017</td>\n      <td>06/30/2017</td>\n      <td>06/30/2017</td>\n      <td>NaN</td>\n      <td>06/30/2017</td>\n      <td>NaN</td>\n      <td>NaN</td>\n      <td>NaN</td>\n      <td>NaN</td>\n      <td>NaN</td>\n      <td>NaN</td>\n      <td>NaN</td>\n      <td>0.0</td>\n      <td>NaN</td>\n      <td>NaN</td>\n      <td>NaN</td>\n      <td>NaN</td>\n      <td>NaN</td>\n      <td>NaN</td>\n      <td>NaN</td>\n      <td>NaN</td>\n      <td>NaN</td>\n      <td>NaN</td>\n      <td>NaN</td>\n      <td>10.0</td>\n      <td>Bayview Hunters Point</td>\n      <td>94124.0</td>\n      <td>(37.73005099023611, -122.38784938916618)</td>\n      <td>1469035175050</td>\n    </tr>\n    <tr>\n      <th>8</th>\n      <td>M804227</td>\n      <td>8</td>\n      <td>otc alterations permit</td>\n      <td>07/05/2017</td>\n      <td>1212</td>\n      <td>054</td>\n      <td>2094</td>\n      <td>NaN</td>\n      <td>Fell</td>\n      <td>St</td>\n      <td>NaN</td>\n      <td>NaN</td>\n      <td>street space permit</td>\n      <td>issued</td>\n      <td>07/05/2017</td>\n      <td>07/05/2017</td>\n      <td>07/05/2017</td>\n      <td>NaN</td>\n      <td>07/05/2017</td>\n      <td>NaN</td>\n      <td>NaN</td>\n      <td>NaN</td>\n      <td>NaN</td>\n      <td>NaN</td>\n      <td>NaN</td>\n      <td>NaN</td>\n      <td>1.0</td>\n      <td>NaN</td>\n      <td>NaN</td>\n      <td>NaN</td>\n      <td>NaN</td>\n      <td>NaN</td>\n      <td>NaN</td>\n      <td>NaN</td>\n      <td>NaN</td>\n      <td>NaN</td>\n      <td>NaN</td>\n      <td>NaN</td>\n      <td>5.0</td>\n      <td>Lone Mountain/USF</td>\n      <td>94117.0</td>\n      <td>(37.772393498502595, -122.45231466824669)</td>\n      <td>1469198253772</td>\n    </tr>\n    <tr>\n      <th>9</th>\n      <td>M804767</td>\n      <td>8</td>\n      <td>otc alterations permit</td>\n      <td>07/06/2017</td>\n      <td>1259</td>\n      <td>016</td>\n      <td>89</td>\n      <td>NaN</td>\n      <td>Alpine</td>\n      <td>Tr</td>\n      <td>NaN</td>\n      <td>NaN</td>\n      <td>street space</td>\n      <td>issued</td>\n      <td>07/06/2017</td>\n      <td>07/06/2017</td>\n      <td>07/06/2017</td>\n      <td>NaN</td>\n      <td>07/06/2017</td>\n      <td>NaN</td>\n      <td>NaN</td>\n      <td>NaN</td>\n      <td>NaN</td>\n      <td>NaN</td>\n      <td>NaN</td>\n      <td>NaN</td>\n      <td>0.0</td>\n      <td>NaN</td>\n      <td>NaN</td>\n      <td>NaN</td>\n      <td>NaN</td>\n      <td>NaN</td>\n      <td>NaN</td>\n      <td>NaN</td>\n      <td>NaN</td>\n      <td>NaN</td>\n      <td>NaN</td>\n      <td>NaN</td>\n      <td>8.0</td>\n      <td>Haight Ashbury</td>\n      <td>94117.0</td>\n      <td>(37.7691724293766, -122.43734859051908)</td>\n      <td>146932394171</td>\n    </tr>\n    <tr>\n      <th>10</th>\n      <td>M805287</td>\n      <td>8</td>\n      <td>otc alterations permit</td>\n      <td>07/06/2017</td>\n      <td>3541</td>\n      <td>001</td>\n      <td>106</td>\n      <td>NaN</td>\n      <td>Sanchez</td>\n      <td>St</td>\n      <td>NaN</td>\n      <td>NaN</td>\n      <td>street space</td>\n      <td>issued</td>\n      <td>07/06/2017</td>\n      <td>07/06/2017</td>\n      <td>07/06/2017</td>\n      <td>NaN</td>\n      <td>07/06/2017</td>\n      <td>NaN</td>\n      <td>NaN</td>\n      <td>NaN</td>\n      <td>NaN</td>\n      <td>NaN</td>\n      <td>NaN</td>\n      <td>NaN</td>\n      <td>1.0</td>\n      <td>NaN</td>\n      <td>NaN</td>\n      <td>NaN</td>\n      <td>NaN</td>\n      <td>NaN</td>\n      <td>NaN</td>\n      <td>NaN</td>\n      <td>NaN</td>\n      <td>NaN</td>\n      <td>NaN</td>\n      <td>NaN</td>\n      <td>8.0</td>\n      <td>Castro/Upper Market</td>\n      <td>94114.0</td>\n      <td>(37.767349757757145, -122.43140682973024)</td>\n      <td>1469445246849</td>\n    </tr>\n    <tr>\n      <th>11</th>\n      <td>M805907</td>\n      <td>8</td>\n      <td>otc alterations permit</td>\n      <td>07/07/2017</td>\n      <td>0829</td>\n      <td>021</td>\n      <td>675</td>\n      <td>NaN</td>\n      <td>Fell</td>\n      <td>St</td>\n      <td>NaN</td>\n      <td>NaN</td>\n      <td>street space</td>\n      <td>issued</td>\n      <td>07/07/2017</td>\n      <td>07/07/2017</td>\n      <td>07/07/2017</td>\n      <td>NaN</td>\n      <td>07/07/2017</td>\n      <td>NaN</td>\n      <td>NaN</td>\n      <td>NaN</td>\n      <td>NaN</td>\n      <td>NaN</td>\n      <td>NaN</td>\n      <td>NaN</td>\n      <td>1.0</td>\n      <td>NaN</td>\n      <td>NaN</td>\n      <td>NaN</td>\n      <td>NaN</td>\n      <td>NaN</td>\n      <td>NaN</td>\n      <td>NaN</td>\n      <td>NaN</td>\n      <td>NaN</td>\n      <td>NaN</td>\n      <td>NaN</td>\n      <td>5.0</td>\n      <td>Hayes Valley</td>\n      <td>94102.0</td>\n      <td>(37.774914087334544, -122.42886839796792)</td>\n      <td>146961582526</td>\n    </tr>\n    <tr>\n      <th>12</th>\n      <td>M806447</td>\n      <td>8</td>\n      <td>otc alterations permit</td>\n      <td>07/10/2017</td>\n      <td>6537</td>\n      <td>023</td>\n      <td>4082</td>\n      <td>NaN</td>\n      <td>25th</td>\n      <td>St</td>\n      <td>NaN</td>\n      <td>NaN</td>\n      <td>street space</td>\n      <td>issued</td>\n      <td>07/10/2017</td>\n      <td>07/10/2017</td>\n      <td>07/10/2017</td>\n      <td>NaN</td>\n      <td>07/10/2017</td>\n      <td>NaN</td>\n      <td>NaN</td>\n      <td>NaN</td>\n      <td>NaN</td>\n      <td>NaN</td>\n      <td>NaN</td>\n      <td>NaN</td>\n      <td>1.0</td>\n      <td>NaN</td>\n      <td>NaN</td>\n      <td>NaN</td>\n      <td>NaN</td>\n      <td>NaN</td>\n      <td>NaN</td>\n      <td>NaN</td>\n      <td>NaN</td>\n      <td>NaN</td>\n      <td>NaN</td>\n      <td>NaN</td>\n      <td>8.0</td>\n      <td>Noe Valley</td>\n      <td>94114.0</td>\n      <td>(37.75006779619502, -122.43127350268124)</td>\n      <td>1469781206718</td>\n    </tr>\n    <tr>\n      <th>13</th>\n      <td>201707252846</td>\n      <td>8</td>\n      <td>otc alterations permit</td>\n      <td>07/25/2017</td>\n      <td>6589</td>\n      <td>002R</td>\n      <td>681</td>\n      <td>NaN</td>\n      <td>27th</td>\n      <td>St</td>\n      <td>NaN</td>\n      <td>NaN</td>\n      <td>remove and replace landscape wall</td>\n      <td>filed</td>\n      <td>07/25/2017</td>\n      <td>07/25/2017</td>\n      <td>NaN</td>\n      <td>NaN</td>\n      <td>NaN</td>\n      <td>NaN</td>\n      <td>2.0</td>\n      <td>2.0</td>\n      <td>NaN</td>\n      <td>NaN</td>\n      <td>NaN</td>\n      <td>30000.0</td>\n      <td>0.0</td>\n      <td>1 family dwelling</td>\n      <td>1.0</td>\n      <td>1 family dwelling</td>\n      <td>1.0</td>\n      <td>2.0</td>\n      <td>NaN</td>\n      <td>5.0</td>\n      <td>wood frame (5)</td>\n      <td>5.0</td>\n      <td>wood frame (5)</td>\n      <td>NaN</td>\n      <td>8.0</td>\n      <td>Noe Valley</td>\n      <td>94131.0</td>\n      <td>(37.7462205625642, -122.4353484860549)</td>\n      <td>1471799208305</td>\n    </tr>\n    <tr>\n      <th>14</th>\n      <td>M813729</td>\n      <td>8</td>\n      <td>otc alterations permit</td>\n      <td>07/26/2017</td>\n      <td>1049</td>\n      <td>027</td>\n      <td>2761</td>\n      <td>NaN</td>\n      <td>Pine</td>\n      <td>St</td>\n      <td>NaN</td>\n      <td>NaN</td>\n      <td>street space</td>\n      <td>issued</td>\n      <td>07/26/2017</td>\n      <td>07/26/2017</td>\n      <td>07/26/2017</td>\n      <td>NaN</td>\n      <td>07/26/2017</td>\n      <td>NaN</td>\n      <td>NaN</td>\n      <td>NaN</td>\n      <td>NaN</td>\n      <td>NaN</td>\n      <td>NaN</td>\n      <td>NaN</td>\n      <td>1.0</td>\n      <td>NaN</td>\n      <td>NaN</td>\n      <td>NaN</td>\n      <td>NaN</td>\n      <td>NaN</td>\n      <td>NaN</td>\n      <td>NaN</td>\n      <td>NaN</td>\n      <td>NaN</td>\n      <td>NaN</td>\n      <td>NaN</td>\n      <td>2.0</td>\n      <td>Pacific Heights</td>\n      <td>94115.0</td>\n      <td>(37.78676200041077, -122.44124093333335)</td>\n      <td>147203988249</td>\n    </tr>\n    <tr>\n      <th>15</th>\n      <td>M813907</td>\n      <td>8</td>\n      <td>otc alterations permit</td>\n      <td>07/27/2017</td>\n      <td>0243</td>\n      <td>043</td>\n      <td>840</td>\n      <td>NaN</td>\n      <td>Powell</td>\n      <td>St</td>\n      <td>301.0</td>\n      <td>NaN</td>\n      <td>street space</td>\n      <td>issued</td>\n      <td>07/27/2017</td>\n      <td>07/27/2017</td>\n      <td>07/27/2017</td>\n      <td>NaN</td>\n      <td>07/27/2017</td>\n      <td>NaN</td>\n      <td>NaN</td>\n      <td>NaN</td>\n      <td>NaN</td>\n      <td>NaN</td>\n      <td>NaN</td>\n      <td>NaN</td>\n      <td>1.0</td>\n      <td>NaN</td>\n      <td>NaN</td>\n      <td>NaN</td>\n      <td>NaN</td>\n      <td>NaN</td>\n      <td>NaN</td>\n      <td>NaN</td>\n      <td>NaN</td>\n      <td>NaN</td>\n      <td>NaN</td>\n      <td>NaN</td>\n      <td>3.0</td>\n      <td>Chinatown</td>\n      <td>94108.0</td>\n      <td>(37.7926690651263, -122.40883941791454)</td>\n      <td>147208763456</td>\n    </tr>\n    <tr>\n      <th>16</th>\n      <td>M813967</td>\n      <td>8</td>\n      <td>otc alterations permit</td>\n      <td>07/27/2017</td>\n      <td>0268</td>\n      <td>008</td>\n      <td>220</td>\n      <td>NaN</td>\n      <td>Montgomery</td>\n      <td>St</td>\n      <td>NaN</td>\n      <td>NaN</td>\n      <td>street space permit</td>\n      <td>issued</td>\n      <td>07/27/2017</td>\n      <td>07/27/2017</td>\n      <td>07/27/2017</td>\n      <td>NaN</td>\n      <td>07/27/2017</td>\n      <td>NaN</td>\n      <td>NaN</td>\n      <td>NaN</td>\n      <td>NaN</td>\n      <td>NaN</td>\n      <td>NaN</td>\n      <td>NaN</td>\n      <td>1.0</td>\n      <td>NaN</td>\n      <td>NaN</td>\n      <td>NaN</td>\n      <td>NaN</td>\n      <td>NaN</td>\n      <td>NaN</td>\n      <td>NaN</td>\n      <td>NaN</td>\n      <td>NaN</td>\n      <td>NaN</td>\n      <td>NaN</td>\n      <td>3.0</td>\n      <td>Financial District/South Beach</td>\n      <td>94104.0</td>\n      <td>(37.79130641988351, -122.40198579459195)</td>\n      <td>147211866168</td>\n    </tr>\n    <tr>\n      <th>17</th>\n      <td>M814148</td>\n      <td>8</td>\n      <td>otc alterations permit</td>\n      <td>07/27/2017</td>\n      <td>3621</td>\n      <td>097</td>\n      <td>3707</td>\n      <td>NaN</td>\n      <td>21st</td>\n      <td>St</td>\n      <td>0.0</td>\n      <td>NaN</td>\n      <td>street space &amp; sidewalk repair</td>\n      <td>issued</td>\n      <td>07/27/2017</td>\n      <td>07/27/2017</td>\n      <td>07/27/2017</td>\n      <td>NaN</td>\n      <td>07/27/2017</td>\n      <td>NaN</td>\n      <td>NaN</td>\n      <td>NaN</td>\n      <td>NaN</td>\n      <td>NaN</td>\n      <td>NaN</td>\n      <td>NaN</td>\n      <td>1.0</td>\n      <td>NaN</td>\n      <td>NaN</td>\n      <td>NaN</td>\n      <td>NaN</td>\n      <td>NaN</td>\n      <td>NaN</td>\n      <td>NaN</td>\n      <td>NaN</td>\n      <td>NaN</td>\n      <td>NaN</td>\n      <td>NaN</td>\n      <td>8.0</td>\n      <td>Noe Valley</td>\n      <td>94114.0</td>\n      <td>(37.75607840165479, -122.43041143390109)</td>\n      <td>1472184412108</td>\n    </tr>\n    <tr>\n      <th>18</th>\n      <td>201707283165</td>\n      <td>8</td>\n      <td>otc alterations permit</td>\n      <td>07/28/2017</td>\n      <td>0472</td>\n      <td>042</td>\n      <td>1307</td>\n      <td>NaN</td>\n      <td>Bay</td>\n      <td>St</td>\n      <td>1.0</td>\n      <td>NaN</td>\n      <td>soft story ordinance sf building code chptr 34...</td>\n      <td>filed</td>\n      <td>07/28/2017</td>\n      <td>07/28/2017</td>\n      <td>NaN</td>\n      <td>NaN</td>\n      <td>NaN</td>\n      <td>NaN</td>\n      <td>4.0</td>\n      <td>4.0</td>\n      <td>NaN</td>\n      <td>NaN</td>\n      <td>NaN</td>\n      <td>75000.0</td>\n      <td>0.0</td>\n      <td>apartments</td>\n      <td>6.0</td>\n      <td>apartments</td>\n      <td>6.0</td>\n      <td>2.0</td>\n      <td>NaN</td>\n      <td>5.0</td>\n      <td>wood frame (5)</td>\n      <td>5.0</td>\n      <td>wood frame (5)</td>\n      <td>NaN</td>\n      <td>2.0</td>\n      <td>Marina</td>\n      <td>94123.0</td>\n      <td>(37.8035183252307, -122.42863180996076)</td>\n      <td>1472277302360</td>\n    </tr>\n    <tr>\n      <th>19</th>\n      <td>M814368</td>\n      <td>8</td>\n      <td>otc alterations permit</td>\n      <td>07/28/2017</td>\n      <td>2659</td>\n      <td>001</td>\n      <td>263</td>\n      <td>NaN</td>\n      <td>Corbett</td>\n      <td>Av</td>\n      <td>0.0</td>\n      <td>NaN</td>\n      <td>street space</td>\n      <td>issued</td>\n      <td>07/28/2017</td>\n      <td>07/28/2017</td>\n      <td>07/28/2017</td>\n      <td>NaN</td>\n      <td>07/28/2017</td>\n      <td>NaN</td>\n      <td>NaN</td>\n      <td>NaN</td>\n      <td>NaN</td>\n      <td>NaN</td>\n      <td>NaN</td>\n      <td>NaN</td>\n      <td>1.0</td>\n      <td>NaN</td>\n      <td>NaN</td>\n      <td>NaN</td>\n      <td>NaN</td>\n      <td>NaN</td>\n      <td>NaN</td>\n      <td>NaN</td>\n      <td>NaN</td>\n      <td>NaN</td>\n      <td>NaN</td>\n      <td>NaN</td>\n      <td>8.0</td>\n      <td>Castro/Upper Market</td>\n      <td>94114.0</td>\n      <td>(37.761092365437214, -122.44402154957145)</td>\n      <td>1472295408612</td>\n    </tr>\n  </tbody>\n</table>\n</div>"
     },
     "execution_count": 22,
     "metadata": {},
     "output_type": "execute_result"
    }
   ],
   "source": [
    "pd.options.display.max_columns = 50\n",
    "sf_permits.head(20)\n"
   ],
   "metadata": {
    "collapsed": false,
    "pycharm": {
     "name": "#%%\n"
    }
   }
  },
  {
   "cell_type": "code",
   "execution_count": 27,
   "outputs": [
    {
     "data": {
      "text/plain": "0         94102\n1         94102\n2         94109\n3         94109\n4         94102\n          ...  \n198895        0\n198896        0\n198897        0\n198898        0\n198899        0\nName: Zipcode, Length: 198900, dtype: int64"
     },
     "execution_count": 27,
     "metadata": {},
     "output_type": "execute_result"
    }
   ],
   "source": [
    "sf_permits['Zipcode'].fillna(value=0).astype(int)"
   ],
   "metadata": {
    "collapsed": false,
    "pycharm": {
     "name": "#%%\n"
    }
   }
  },
  {
   "cell_type": "code",
   "execution_count": 28,
   "outputs": [
    {
     "data": {
      "text/plain": "Empty DataFrame\nColumns: [Permit Number, Permit Type, Permit Type Definition, Permit Creation Date, Block, Lot, Street Number, Street Number Suffix, Street Name, Street Suffix, Unit, Unit Suffix, Description, Current Status, Current Status Date, Filed Date, Issued Date, Completed Date, First Construction Document Date, Structural Notification, Number of Existing Stories, Number of Proposed Stories, Voluntary Soft-Story Retrofit, Fire Only Permit, Permit Expiration Date, Estimated Cost, Revised Cost, Existing Use, Existing Units, Proposed Use, Proposed Units, Plansets, TIDF Compliance, Existing Construction Type, Existing Construction Type Description, Proposed Construction Type, Proposed Construction Type Description, Site Permit, Supervisor District, Neighborhoods - Analysis Boundaries, Zipcode, Location, Record ID]\nIndex: []",
      "text/html": "<div>\n<style scoped>\n    .dataframe tbody tr th:only-of-type {\n        vertical-align: middle;\n    }\n\n    .dataframe tbody tr th {\n        vertical-align: top;\n    }\n\n    .dataframe thead th {\n        text-align: right;\n    }\n</style>\n<table border=\"1\" class=\"dataframe\">\n  <thead>\n    <tr style=\"text-align: right;\">\n      <th></th>\n      <th>Permit Number</th>\n      <th>Permit Type</th>\n      <th>Permit Type Definition</th>\n      <th>Permit Creation Date</th>\n      <th>Block</th>\n      <th>Lot</th>\n      <th>Street Number</th>\n      <th>Street Number Suffix</th>\n      <th>Street Name</th>\n      <th>Street Suffix</th>\n      <th>Unit</th>\n      <th>Unit Suffix</th>\n      <th>Description</th>\n      <th>Current Status</th>\n      <th>Current Status Date</th>\n      <th>Filed Date</th>\n      <th>Issued Date</th>\n      <th>Completed Date</th>\n      <th>First Construction Document Date</th>\n      <th>Structural Notification</th>\n      <th>Number of Existing Stories</th>\n      <th>Number of Proposed Stories</th>\n      <th>Voluntary Soft-Story Retrofit</th>\n      <th>Fire Only Permit</th>\n      <th>Permit Expiration Date</th>\n      <th>Estimated Cost</th>\n      <th>Revised Cost</th>\n      <th>Existing Use</th>\n      <th>Existing Units</th>\n      <th>Proposed Use</th>\n      <th>Proposed Units</th>\n      <th>Plansets</th>\n      <th>TIDF Compliance</th>\n      <th>Existing Construction Type</th>\n      <th>Existing Construction Type Description</th>\n      <th>Proposed Construction Type</th>\n      <th>Proposed Construction Type Description</th>\n      <th>Site Permit</th>\n      <th>Supervisor District</th>\n      <th>Neighborhoods - Analysis Boundaries</th>\n      <th>Zipcode</th>\n      <th>Location</th>\n      <th>Record ID</th>\n    </tr>\n  </thead>\n  <tbody>\n  </tbody>\n</table>\n</div>"
     },
     "execution_count": 28,
     "metadata": {},
     "output_type": "execute_result"
    }
   ],
   "source": [
    "sf_permits.dropna()"
   ],
   "metadata": {
    "collapsed": false,
    "pycharm": {
     "name": "#%%\n"
    }
   }
  },
  {
   "cell_type": "code",
   "execution_count": 32,
   "outputs": [
    {
     "data": {
      "text/plain": "12"
     },
     "execution_count": 32,
     "metadata": {},
     "output_type": "execute_result"
    }
   ],
   "source": [
    "sf_permits_with_na_dropped = sf_permits.dropna(axis=1)\n",
    "columns_left = sf_permits_with_na_dropped.shape[1]\n",
    "columns_org = sf_permits.shape[1]\n",
    "dropped_columns = columns_org - columns_left"
   ],
   "metadata": {
    "collapsed": false,
    "pycharm": {
     "name": "#%%\n"
    }
   }
  },
  {
   "cell_type": "code",
   "execution_count": 33,
   "outputs": [
    {
     "data": {
      "text/plain": "       Permit Number  Permit Type            Permit Type Definition  \\\n0       201505065519            4                      sign - erect   \n1       201604195146            4                      sign - erect   \n2       201605278609            3  additions alterations or repairs   \n3       201611072166            8            otc alterations permit   \n4       201611283529            6                       demolitions   \n...              ...          ...                               ...   \n198895       M862628            8            otc alterations permit   \n198896  201712055595            8            otc alterations permit   \n198897       M863507            8            otc alterations permit   \n198898       M863747            8            otc alterations permit   \n198899       M864287            8            otc alterations permit   \n\n       Permit Creation Date Block   Lot  Street Number Street Number Suffix  \\\n0                05/06/2015  0326   023            140                    A   \n1                04/19/2016  0306   007            440                    A   \n2                05/27/2016  0595   203           1647                    A   \n3                11/07/2016  0156   011           1230                    A   \n4                11/28/2016  0342   001            950                    A   \n...                     ...   ...   ...            ...                  ...   \n198895           12/05/2017  0113  017A           1228                    0   \n198896           12/05/2017  0271   014            580                    0   \n198897           12/06/2017  4318   019           1568                    0   \n198898           12/06/2017  0298   029            795                    0   \n198899           12/07/2017  0160   006            838                    0   \n\n       Street Name Street Suffix  Unit Unit Suffix  \\\n0            Ellis            St   0.0           A   \n1            Geary            St   0.0           A   \n2          Pacific            Av   0.0           A   \n3          Pacific            Av   0.0           A   \n4           Market            St   0.0           A   \n...            ...           ...   ...         ...   \n198895  Montgomery            St   0.0           0   \n198896        Bush            St   0.0           0   \n198897     Indiana            St   0.0           0   \n198898      Sutter            St   0.0           0   \n198899     Pacific            Av   0.0           0   \n\n                                              Description Current Status  \\\n0       ground fl facade: to erect illuminated, electr...        expired   \n1                 remove (e) awning and associated signs.         issued   \n2                         installation of separating wall      withdrawn   \n3                repair dryrot & stucco at front of bldg.       complete   \n4       demolish retail/office/commercial 3-story buil...         issued   \n...                                                   ...            ...   \n198895                                       street space         issued   \n198896                fire alarm upgrade ref 201704123852         issued   \n198897                                       street space         issued   \n198898                                street space permit         issued   \n198899                                street space permit         issued   \n\n       Current Status Date  Filed Date Issued Date Completed Date  \\\n0               12/21/2017  05/06/2015  11/09/2015     07/24/2017   \n1               08/03/2017  04/19/2016  08/03/2017     07/24/2017   \n2               09/26/2017  05/27/2016  07/18/2017     07/24/2017   \n3               07/24/2017  11/07/2016  07/18/2017     07/24/2017   \n4               12/01/2017  11/28/2016  12/01/2017     07/12/2017   \n...                    ...         ...         ...            ...   \n198895          12/05/2017  12/05/2017  12/05/2017              0   \n198896          12/06/2017  12/05/2017  12/06/2017              0   \n198897          12/06/2017  12/06/2017  12/06/2017              0   \n198898          12/06/2017  12/06/2017  12/06/2017              0   \n198899          12/07/2017  12/07/2017  12/07/2017              0   \n\n       First Construction Document Date Structural Notification  \\\n0                            11/09/2015                       Y   \n1                            08/03/2017                       Y   \n2                            07/18/2017                       Y   \n3                            07/18/2017                       Y   \n4                            11/20/2017                       Y   \n...                                 ...                     ...   \n198895                       12/05/2017                       0   \n198896                       12/06/2017                       0   \n198897                       12/06/2017                       0   \n198898                       12/06/2017                       0   \n198899                       12/07/2017                       0   \n\n        Number of Existing Stories  Number of Proposed Stories  \\\n0                              6.0                         6.0   \n1                              7.0                         6.0   \n2                              6.0                         6.0   \n3                              2.0                         2.0   \n4                              3.0                         5.0   \n...                            ...                         ...   \n198895                         4.0                         4.0   \n198896                         4.0                         4.0   \n198897                         0.0                         0.0   \n198898                         0.0                         0.0   \n198899                         0.0                         0.0   \n\n       Voluntary Soft-Story Retrofit Fire Only Permit Permit Expiration Date  \\\n0                                  Y                Y             11/03/2016   \n1                                  Y                Y             12/03/2017   \n2                                  Y                Y             07/13/2018   \n3                                  Y                Y             07/13/2018   \n4                                  Y                Y             12/01/2018   \n...                              ...              ...                    ...   \n198895                             0                Y             04/06/2018   \n198896                             0                Y             04/06/2018   \n198897                             0                0                      0   \n198898                             0                0                      0   \n198899                             0                0                      0   \n\n        Estimated Cost  Revised Cost         Existing Use  Existing Units  \\\n0               4000.0        4000.0  tourist hotel/motel           143.0   \n1                  1.0         500.0  tourist hotel/motel            39.0   \n2              20000.0        2000.0         retail sales            39.0   \n3               2000.0        2000.0    1 family dwelling             1.0   \n4             100000.0      100000.0         retail sales           326.0   \n...                ...           ...                  ...             ...   \n198895          5000.0           1.0           apartments             4.0   \n198896          5000.0        5000.0           apartments             4.0   \n198897             0.0           1.0                    0             0.0   \n198898             0.0           1.0                    0             0.0   \n198899             0.0           1.0                    0             0.0   \n\n             Proposed Use  Proposed Units  Plansets TIDF Compliance  \\\n0            retail sales            39.0       2.0               Y   \n1            retail sales            39.0       2.0               Y   \n2            retail sales            39.0       2.0               Y   \n3       1 family dwelling             1.0       2.0               Y   \n4              apartments           326.0       2.0               Y   \n...                   ...             ...       ...             ...   \n198895         apartments             4.0       2.0               0   \n198896         apartments             4.0       2.0               0   \n198897                  0             0.0       0.0               0   \n198898                  0             0.0       0.0               0   \n198899                  0             0.0       0.0               0   \n\n        Existing Construction Type Existing Construction Type Description  \\\n0                              3.0                          constr type 3   \n1                              3.0                          constr type 3   \n2                              1.0                          constr type 1   \n3                              5.0                         wood frame (5)   \n4                              3.0                          constr type 3   \n...                            ...                                    ...   \n198895                         5.0                         wood frame (5)   \n198896                         5.0                         wood frame (5)   \n198897                         0.0                                      0   \n198898                         0.0                                      0   \n198899                         0.0                                      0   \n\n        Proposed Construction Type Proposed Construction Type Description  \\\n0                              1.0                          constr type 1   \n1                              1.0                          constr type 1   \n2                              1.0                          constr type 1   \n3                              5.0                         wood frame (5)   \n4                              1.0                          constr type 1   \n...                            ...                                    ...   \n198895                         5.0                         wood frame (5)   \n198896                         5.0                         wood frame (5)   \n198897                         0.0                                      0   \n198898                         0.0                                      0   \n198899                         0.0                                      0   \n\n       Site Permit  Supervisor District Neighborhoods - Analysis Boundaries  \\\n0                Y                  3.0                          Tenderloin   \n1                Y                  3.0                          Tenderloin   \n2                Y                  3.0                        Russian Hill   \n3                Y                  3.0                            Nob Hill   \n4                Y                  6.0                          Tenderloin   \n...            ...                  ...                                 ...   \n198895           0                  0.0                                   0   \n198896           0                  0.0                                   0   \n198897           0                  0.0                                   0   \n198898           0                  0.0                                   0   \n198899           0                  0.0                                   0   \n\n        Zipcode                                   Location      Record ID  \n0       94102.0  (37.785719256680785, -122.40852313194863)  1380611233945  \n1       94102.0   (37.78733980600732, -122.41063199757738)  1420164406718  \n2       94109.0    (37.7946573324287, -122.42232562979227)  1424856504716  \n3       94109.0   (37.79595867909168, -122.41557405519474)  1443574295566  \n4       94102.0   (37.78315261897309, -122.40950883997789)   144548169992  \n...         ...                                        ...            ...  \n198895      0.0                                          0  1489337276729  \n198896      0.0                                          0  1489462354993  \n198897      0.0                                          0  1489539379952  \n198898      0.0                                          0  1489608233656  \n198899      0.0                                          0  1489796283803  \n\n[198900 rows x 43 columns]",
      "text/html": "<div>\n<style scoped>\n    .dataframe tbody tr th:only-of-type {\n        vertical-align: middle;\n    }\n\n    .dataframe tbody tr th {\n        vertical-align: top;\n    }\n\n    .dataframe thead th {\n        text-align: right;\n    }\n</style>\n<table border=\"1\" class=\"dataframe\">\n  <thead>\n    <tr style=\"text-align: right;\">\n      <th></th>\n      <th>Permit Number</th>\n      <th>Permit Type</th>\n      <th>Permit Type Definition</th>\n      <th>Permit Creation Date</th>\n      <th>Block</th>\n      <th>Lot</th>\n      <th>Street Number</th>\n      <th>Street Number Suffix</th>\n      <th>Street Name</th>\n      <th>Street Suffix</th>\n      <th>Unit</th>\n      <th>Unit Suffix</th>\n      <th>Description</th>\n      <th>Current Status</th>\n      <th>Current Status Date</th>\n      <th>Filed Date</th>\n      <th>Issued Date</th>\n      <th>Completed Date</th>\n      <th>First Construction Document Date</th>\n      <th>Structural Notification</th>\n      <th>Number of Existing Stories</th>\n      <th>Number of Proposed Stories</th>\n      <th>Voluntary Soft-Story Retrofit</th>\n      <th>Fire Only Permit</th>\n      <th>Permit Expiration Date</th>\n      <th>Estimated Cost</th>\n      <th>Revised Cost</th>\n      <th>Existing Use</th>\n      <th>Existing Units</th>\n      <th>Proposed Use</th>\n      <th>Proposed Units</th>\n      <th>Plansets</th>\n      <th>TIDF Compliance</th>\n      <th>Existing Construction Type</th>\n      <th>Existing Construction Type Description</th>\n      <th>Proposed Construction Type</th>\n      <th>Proposed Construction Type Description</th>\n      <th>Site Permit</th>\n      <th>Supervisor District</th>\n      <th>Neighborhoods - Analysis Boundaries</th>\n      <th>Zipcode</th>\n      <th>Location</th>\n      <th>Record ID</th>\n    </tr>\n  </thead>\n  <tbody>\n    <tr>\n      <th>0</th>\n      <td>201505065519</td>\n      <td>4</td>\n      <td>sign - erect</td>\n      <td>05/06/2015</td>\n      <td>0326</td>\n      <td>023</td>\n      <td>140</td>\n      <td>A</td>\n      <td>Ellis</td>\n      <td>St</td>\n      <td>0.0</td>\n      <td>A</td>\n      <td>ground fl facade: to erect illuminated, electr...</td>\n      <td>expired</td>\n      <td>12/21/2017</td>\n      <td>05/06/2015</td>\n      <td>11/09/2015</td>\n      <td>07/24/2017</td>\n      <td>11/09/2015</td>\n      <td>Y</td>\n      <td>6.0</td>\n      <td>6.0</td>\n      <td>Y</td>\n      <td>Y</td>\n      <td>11/03/2016</td>\n      <td>4000.0</td>\n      <td>4000.0</td>\n      <td>tourist hotel/motel</td>\n      <td>143.0</td>\n      <td>retail sales</td>\n      <td>39.0</td>\n      <td>2.0</td>\n      <td>Y</td>\n      <td>3.0</td>\n      <td>constr type 3</td>\n      <td>1.0</td>\n      <td>constr type 1</td>\n      <td>Y</td>\n      <td>3.0</td>\n      <td>Tenderloin</td>\n      <td>94102.0</td>\n      <td>(37.785719256680785, -122.40852313194863)</td>\n      <td>1380611233945</td>\n    </tr>\n    <tr>\n      <th>1</th>\n      <td>201604195146</td>\n      <td>4</td>\n      <td>sign - erect</td>\n      <td>04/19/2016</td>\n      <td>0306</td>\n      <td>007</td>\n      <td>440</td>\n      <td>A</td>\n      <td>Geary</td>\n      <td>St</td>\n      <td>0.0</td>\n      <td>A</td>\n      <td>remove (e) awning and associated signs.</td>\n      <td>issued</td>\n      <td>08/03/2017</td>\n      <td>04/19/2016</td>\n      <td>08/03/2017</td>\n      <td>07/24/2017</td>\n      <td>08/03/2017</td>\n      <td>Y</td>\n      <td>7.0</td>\n      <td>6.0</td>\n      <td>Y</td>\n      <td>Y</td>\n      <td>12/03/2017</td>\n      <td>1.0</td>\n      <td>500.0</td>\n      <td>tourist hotel/motel</td>\n      <td>39.0</td>\n      <td>retail sales</td>\n      <td>39.0</td>\n      <td>2.0</td>\n      <td>Y</td>\n      <td>3.0</td>\n      <td>constr type 3</td>\n      <td>1.0</td>\n      <td>constr type 1</td>\n      <td>Y</td>\n      <td>3.0</td>\n      <td>Tenderloin</td>\n      <td>94102.0</td>\n      <td>(37.78733980600732, -122.41063199757738)</td>\n      <td>1420164406718</td>\n    </tr>\n    <tr>\n      <th>2</th>\n      <td>201605278609</td>\n      <td>3</td>\n      <td>additions alterations or repairs</td>\n      <td>05/27/2016</td>\n      <td>0595</td>\n      <td>203</td>\n      <td>1647</td>\n      <td>A</td>\n      <td>Pacific</td>\n      <td>Av</td>\n      <td>0.0</td>\n      <td>A</td>\n      <td>installation of separating wall</td>\n      <td>withdrawn</td>\n      <td>09/26/2017</td>\n      <td>05/27/2016</td>\n      <td>07/18/2017</td>\n      <td>07/24/2017</td>\n      <td>07/18/2017</td>\n      <td>Y</td>\n      <td>6.0</td>\n      <td>6.0</td>\n      <td>Y</td>\n      <td>Y</td>\n      <td>07/13/2018</td>\n      <td>20000.0</td>\n      <td>2000.0</td>\n      <td>retail sales</td>\n      <td>39.0</td>\n      <td>retail sales</td>\n      <td>39.0</td>\n      <td>2.0</td>\n      <td>Y</td>\n      <td>1.0</td>\n      <td>constr type 1</td>\n      <td>1.0</td>\n      <td>constr type 1</td>\n      <td>Y</td>\n      <td>3.0</td>\n      <td>Russian Hill</td>\n      <td>94109.0</td>\n      <td>(37.7946573324287, -122.42232562979227)</td>\n      <td>1424856504716</td>\n    </tr>\n    <tr>\n      <th>3</th>\n      <td>201611072166</td>\n      <td>8</td>\n      <td>otc alterations permit</td>\n      <td>11/07/2016</td>\n      <td>0156</td>\n      <td>011</td>\n      <td>1230</td>\n      <td>A</td>\n      <td>Pacific</td>\n      <td>Av</td>\n      <td>0.0</td>\n      <td>A</td>\n      <td>repair dryrot &amp; stucco at front of bldg.</td>\n      <td>complete</td>\n      <td>07/24/2017</td>\n      <td>11/07/2016</td>\n      <td>07/18/2017</td>\n      <td>07/24/2017</td>\n      <td>07/18/2017</td>\n      <td>Y</td>\n      <td>2.0</td>\n      <td>2.0</td>\n      <td>Y</td>\n      <td>Y</td>\n      <td>07/13/2018</td>\n      <td>2000.0</td>\n      <td>2000.0</td>\n      <td>1 family dwelling</td>\n      <td>1.0</td>\n      <td>1 family dwelling</td>\n      <td>1.0</td>\n      <td>2.0</td>\n      <td>Y</td>\n      <td>5.0</td>\n      <td>wood frame (5)</td>\n      <td>5.0</td>\n      <td>wood frame (5)</td>\n      <td>Y</td>\n      <td>3.0</td>\n      <td>Nob Hill</td>\n      <td>94109.0</td>\n      <td>(37.79595867909168, -122.41557405519474)</td>\n      <td>1443574295566</td>\n    </tr>\n    <tr>\n      <th>4</th>\n      <td>201611283529</td>\n      <td>6</td>\n      <td>demolitions</td>\n      <td>11/28/2016</td>\n      <td>0342</td>\n      <td>001</td>\n      <td>950</td>\n      <td>A</td>\n      <td>Market</td>\n      <td>St</td>\n      <td>0.0</td>\n      <td>A</td>\n      <td>demolish retail/office/commercial 3-story buil...</td>\n      <td>issued</td>\n      <td>12/01/2017</td>\n      <td>11/28/2016</td>\n      <td>12/01/2017</td>\n      <td>07/12/2017</td>\n      <td>11/20/2017</td>\n      <td>Y</td>\n      <td>3.0</td>\n      <td>5.0</td>\n      <td>Y</td>\n      <td>Y</td>\n      <td>12/01/2018</td>\n      <td>100000.0</td>\n      <td>100000.0</td>\n      <td>retail sales</td>\n      <td>326.0</td>\n      <td>apartments</td>\n      <td>326.0</td>\n      <td>2.0</td>\n      <td>Y</td>\n      <td>3.0</td>\n      <td>constr type 3</td>\n      <td>1.0</td>\n      <td>constr type 1</td>\n      <td>Y</td>\n      <td>6.0</td>\n      <td>Tenderloin</td>\n      <td>94102.0</td>\n      <td>(37.78315261897309, -122.40950883997789)</td>\n      <td>144548169992</td>\n    </tr>\n    <tr>\n      <th>...</th>\n      <td>...</td>\n      <td>...</td>\n      <td>...</td>\n      <td>...</td>\n      <td>...</td>\n      <td>...</td>\n      <td>...</td>\n      <td>...</td>\n      <td>...</td>\n      <td>...</td>\n      <td>...</td>\n      <td>...</td>\n      <td>...</td>\n      <td>...</td>\n      <td>...</td>\n      <td>...</td>\n      <td>...</td>\n      <td>...</td>\n      <td>...</td>\n      <td>...</td>\n      <td>...</td>\n      <td>...</td>\n      <td>...</td>\n      <td>...</td>\n      <td>...</td>\n      <td>...</td>\n      <td>...</td>\n      <td>...</td>\n      <td>...</td>\n      <td>...</td>\n      <td>...</td>\n      <td>...</td>\n      <td>...</td>\n      <td>...</td>\n      <td>...</td>\n      <td>...</td>\n      <td>...</td>\n      <td>...</td>\n      <td>...</td>\n      <td>...</td>\n      <td>...</td>\n      <td>...</td>\n      <td>...</td>\n    </tr>\n    <tr>\n      <th>198895</th>\n      <td>M862628</td>\n      <td>8</td>\n      <td>otc alterations permit</td>\n      <td>12/05/2017</td>\n      <td>0113</td>\n      <td>017A</td>\n      <td>1228</td>\n      <td>0</td>\n      <td>Montgomery</td>\n      <td>St</td>\n      <td>0.0</td>\n      <td>0</td>\n      <td>street space</td>\n      <td>issued</td>\n      <td>12/05/2017</td>\n      <td>12/05/2017</td>\n      <td>12/05/2017</td>\n      <td>0</td>\n      <td>12/05/2017</td>\n      <td>0</td>\n      <td>4.0</td>\n      <td>4.0</td>\n      <td>0</td>\n      <td>Y</td>\n      <td>04/06/2018</td>\n      <td>5000.0</td>\n      <td>1.0</td>\n      <td>apartments</td>\n      <td>4.0</td>\n      <td>apartments</td>\n      <td>4.0</td>\n      <td>2.0</td>\n      <td>0</td>\n      <td>5.0</td>\n      <td>wood frame (5)</td>\n      <td>5.0</td>\n      <td>wood frame (5)</td>\n      <td>0</td>\n      <td>0.0</td>\n      <td>0</td>\n      <td>0.0</td>\n      <td>0</td>\n      <td>1489337276729</td>\n    </tr>\n    <tr>\n      <th>198896</th>\n      <td>201712055595</td>\n      <td>8</td>\n      <td>otc alterations permit</td>\n      <td>12/05/2017</td>\n      <td>0271</td>\n      <td>014</td>\n      <td>580</td>\n      <td>0</td>\n      <td>Bush</td>\n      <td>St</td>\n      <td>0.0</td>\n      <td>0</td>\n      <td>fire alarm upgrade ref 201704123852</td>\n      <td>issued</td>\n      <td>12/06/2017</td>\n      <td>12/05/2017</td>\n      <td>12/06/2017</td>\n      <td>0</td>\n      <td>12/06/2017</td>\n      <td>0</td>\n      <td>4.0</td>\n      <td>4.0</td>\n      <td>0</td>\n      <td>Y</td>\n      <td>04/06/2018</td>\n      <td>5000.0</td>\n      <td>5000.0</td>\n      <td>apartments</td>\n      <td>4.0</td>\n      <td>apartments</td>\n      <td>4.0</td>\n      <td>2.0</td>\n      <td>0</td>\n      <td>5.0</td>\n      <td>wood frame (5)</td>\n      <td>5.0</td>\n      <td>wood frame (5)</td>\n      <td>0</td>\n      <td>0.0</td>\n      <td>0</td>\n      <td>0.0</td>\n      <td>0</td>\n      <td>1489462354993</td>\n    </tr>\n    <tr>\n      <th>198897</th>\n      <td>M863507</td>\n      <td>8</td>\n      <td>otc alterations permit</td>\n      <td>12/06/2017</td>\n      <td>4318</td>\n      <td>019</td>\n      <td>1568</td>\n      <td>0</td>\n      <td>Indiana</td>\n      <td>St</td>\n      <td>0.0</td>\n      <td>0</td>\n      <td>street space</td>\n      <td>issued</td>\n      <td>12/06/2017</td>\n      <td>12/06/2017</td>\n      <td>12/06/2017</td>\n      <td>0</td>\n      <td>12/06/2017</td>\n      <td>0</td>\n      <td>0.0</td>\n      <td>0.0</td>\n      <td>0</td>\n      <td>0</td>\n      <td>0</td>\n      <td>0.0</td>\n      <td>1.0</td>\n      <td>0</td>\n      <td>0.0</td>\n      <td>0</td>\n      <td>0.0</td>\n      <td>0.0</td>\n      <td>0</td>\n      <td>0.0</td>\n      <td>0</td>\n      <td>0.0</td>\n      <td>0</td>\n      <td>0</td>\n      <td>0.0</td>\n      <td>0</td>\n      <td>0.0</td>\n      <td>0</td>\n      <td>1489539379952</td>\n    </tr>\n    <tr>\n      <th>198898</th>\n      <td>M863747</td>\n      <td>8</td>\n      <td>otc alterations permit</td>\n      <td>12/06/2017</td>\n      <td>0298</td>\n      <td>029</td>\n      <td>795</td>\n      <td>0</td>\n      <td>Sutter</td>\n      <td>St</td>\n      <td>0.0</td>\n      <td>0</td>\n      <td>street space permit</td>\n      <td>issued</td>\n      <td>12/06/2017</td>\n      <td>12/06/2017</td>\n      <td>12/06/2017</td>\n      <td>0</td>\n      <td>12/06/2017</td>\n      <td>0</td>\n      <td>0.0</td>\n      <td>0.0</td>\n      <td>0</td>\n      <td>0</td>\n      <td>0</td>\n      <td>0.0</td>\n      <td>1.0</td>\n      <td>0</td>\n      <td>0.0</td>\n      <td>0</td>\n      <td>0.0</td>\n      <td>0.0</td>\n      <td>0</td>\n      <td>0.0</td>\n      <td>0</td>\n      <td>0.0</td>\n      <td>0</td>\n      <td>0</td>\n      <td>0.0</td>\n      <td>0</td>\n      <td>0.0</td>\n      <td>0</td>\n      <td>1489608233656</td>\n    </tr>\n    <tr>\n      <th>198899</th>\n      <td>M864287</td>\n      <td>8</td>\n      <td>otc alterations permit</td>\n      <td>12/07/2017</td>\n      <td>0160</td>\n      <td>006</td>\n      <td>838</td>\n      <td>0</td>\n      <td>Pacific</td>\n      <td>Av</td>\n      <td>0.0</td>\n      <td>0</td>\n      <td>street space permit</td>\n      <td>issued</td>\n      <td>12/07/2017</td>\n      <td>12/07/2017</td>\n      <td>12/07/2017</td>\n      <td>0</td>\n      <td>12/07/2017</td>\n      <td>0</td>\n      <td>0.0</td>\n      <td>0.0</td>\n      <td>0</td>\n      <td>0</td>\n      <td>0</td>\n      <td>0.0</td>\n      <td>1.0</td>\n      <td>0</td>\n      <td>0.0</td>\n      <td>0</td>\n      <td>0.0</td>\n      <td>0.0</td>\n      <td>0</td>\n      <td>0.0</td>\n      <td>0</td>\n      <td>0.0</td>\n      <td>0</td>\n      <td>0</td>\n      <td>0.0</td>\n      <td>0</td>\n      <td>0.0</td>\n      <td>0</td>\n      <td>1489796283803</td>\n    </tr>\n  </tbody>\n</table>\n<p>198900 rows × 43 columns</p>\n</div>"
     },
     "execution_count": 33,
     "metadata": {},
     "output_type": "execute_result"
    }
   ],
   "source": [
    "sf_permits.fillna(method='bfill', axis=0).fillna(0)\n"
   ],
   "metadata": {
    "collapsed": false,
    "pycharm": {
     "name": "#%%\n"
    }
   }
  },
  {
   "cell_type": "markdown",
   "source": [
    "# 2. Scaling and Normalization\n"
   ],
   "metadata": {
    "collapsed": false,
    "pycharm": {
     "name": "#%% md\n"
    }
   }
  },
  {
   "cell_type": "code",
   "source": [
    "# In this section, we're going to be looking at how to scale and normalize data (and what the difference is\n",
    "# between the two!)"
   ],
   "metadata": {
    "collapsed": false,
    "pycharm": {
     "name": "#%%\n"
    }
   },
   "execution_count": null,
   "outputs": []
  },
  {
   "cell_type": "markdown",
   "source": [
    "## A. Get our environment set up\n",
    "\n",
    "\n"
   ],
   "metadata": {
    "collapsed": false,
    "pycharm": {
     "name": "#%% md\n"
    }
   }
  },
  {
   "cell_type": "code",
   "execution_count": 35,
   "outputs": [],
   "source": [
    "import pandas as pd\n",
    "import numpy as np\n",
    "\n",
    "#for Box-Cox Transformation\n",
    "from scipy import stats\n",
    "\n",
    "#for min_max scaling\n",
    "from mlxtend.preprocessing import minmax_scaling\n",
    "\n",
    "# plotting modules\n",
    "import seaborn as sns\n",
    "import matplotlib.pyplot as plt\n",
    "\n",
    "np.random.seed(0)"
   ],
   "metadata": {
    "collapsed": false,
    "pycharm": {
     "name": "#%%\n"
    }
   }
  },
  {
   "cell_type": "markdown",
   "source": [
    "- in **scaling**, I'm changing the *range* of my data\n",
    "- in **normalization**, I'm changing the *shape of the distribution* of my data\n"
   ],
   "metadata": {
    "collapsed": false,
    "pycharm": {
     "name": "#%% md\n"
    }
   }
  },
  {
   "cell_type": "markdown",
   "source": [
    "#### Scaling\n",
    "fits specific scale like 0-100 or 0-1, to make all variables be comparable on equal footing\n",
    "\n"
   ],
   "metadata": {
    "collapsed": false,
    "pycharm": {
     "name": "#%% md\n"
    }
   }
  },
  {
   "cell_type": "code",
   "execution_count": 36,
   "outputs": [],
   "source": [
    "# generate 1000 data points randomly drawn from an exponential distribution\n",
    "original_data = np.random.exponential(size=1000)\n",
    "\n",
    "# mix-max scale the data between 0 and 1\n",
    "scaled_data = minmax_scaling(original_data, columns=[0])"
   ],
   "metadata": {
    "collapsed": false,
    "pycharm": {
     "name": "#%%\n"
    }
   }
  },
  {
   "cell_type": "code",
   "execution_count": 37,
   "outputs": [
    {
     "data": {
      "text/plain": "array([7.95874508e-01, 1.25593076e+00, 9.23223146e-01, 7.87201152e-01,\n       5.51048491e-01, 1.03815929e+00, 5.75519199e-01, 2.22352441e+00,\n       3.31491218e+00, 4.83602101e-01, 1.56889614e+00, 7.52674110e-01,\n       8.39432847e-01, 2.59825415e+00, 7.36853549e-02, 9.11610291e-02,\n       2.04255867e-02, 1.78748768e+00, 1.50578423e+00, 2.04031428e+00,\n       3.84522184e+00, 1.60523956e+00, 6.18929459e-01, 1.51653598e+00,\n       1.25874412e-01, 1.02143189e+00, 1.54729683e-01, 2.89442045e+00,\n       7.37827278e-01, 5.35565718e-01, 3.07280353e-01, 1.48825484e+00,\n       6.09082416e-01, 8.40334707e-01, 1.89685717e-02, 9.61380929e-01,\n       9.46996678e-01, 9.59547973e-01, 2.87791508e+00, 1.14513896e+00,\n       4.45518493e-01, 5.74532409e-01, 1.19610780e+00, 6.21152959e-02,\n       1.09891248e+00, 1.11059743e+00, 2.36206705e-01, 1.38028688e-01,\n       3.78961966e-01, 4.52102056e-01, 8.44427781e-01, 5.77324311e-01,\n       4.45449738e+00, 1.07635113e-01, 2.34301516e-01, 1.75913553e-01,\n       1.05874272e+00, 2.92080535e-01, 6.27941581e-01, 2.80277014e-01,\n       1.73127453e-01, 1.16955412e-01, 1.06807219e+00, 1.48712271e-01,\n       2.18880603e-01, 4.60013966e-01, 1.72033165e+00, 1.02144887e-01,\n       1.81981892e+00, 1.01034783e-01, 3.74903145e+00, 6.32336603e-01,\n       3.76192717e+00, 9.28478501e-01, 1.34424526e+00, 3.99763025e-02,\n       3.32410245e-01, 1.28056761e-01, 3.51176087e-01, 1.26388642e-01,\n       3.82700958e-01, 5.34884386e-01, 6.62973965e-02, 1.17918953e+00,\n       8.36097545e-01, 3.08414840e-01, 7.40758952e-01, 9.86503137e-02,\n       8.57895642e-01, 2.64925593e+00, 3.83560210e-01, 1.10084592e+00,\n       1.41330714e-01, 1.25993383e+00, 3.41654170e-01, 2.02350437e-01,\n       8.83129046e-01, 2.03124543e-02, 1.76574108e+00, 4.70653457e-03,\n       1.13263413e+00, 3.14721667e-01, 1.32875788e+00, 3.27514318e+00,\n       2.86020978e-01, 8.58392964e-01, 8.96590883e-01, 8.49220822e-01,\n       2.52419995e-01, 3.05228170e+00, 5.92624028e-01, 1.87345992e+00,\n       1.20223856e+00, 3.53020132e-01, 1.68092220e+00, 5.05018751e-01,\n       2.12949936e+00, 8.70535819e-01, 2.13483047e+00, 1.17938293e+00,\n       1.29190926e+00, 6.95799459e-01, 3.12546824e+00, 1.03279702e+00,\n       5.51395998e-01, 9.32402873e-01, 1.93797790e-02, 3.58927217e-01,\n       1.07932020e+00, 3.42599621e-01, 9.62375061e-01, 5.59961074e-01,\n       1.45573973e-01, 3.54224130e-01, 8.43888471e-01, 8.93729074e-01,\n       8.54079719e-01, 1.05900940e+00, 1.05584960e+00, 5.64610503e-01,\n       2.26863397e+00, 4.58172881e-01, 5.72461562e-01, 2.22491463e+00,\n       1.64089756e+00, 1.21701949e+00, 1.05612644e-01, 2.51928214e+00,\n       1.25260753e+00, 6.76539373e+00, 1.61870087e-01, 2.02590879e+00,\n       1.77325579e-01, 9.55966416e-01, 1.32183710e-01, 1.88392890e+00,\n       1.64671909e+00, 8.41880948e-01, 5.22870029e-01, 7.16753899e-02,\n       1.19543857e+00, 6.04299076e-01, 1.28033418e+00, 2.01277274e+00,\n       3.70996030e+00, 1.93657723e+00, 1.17832346e-02, 4.46252829e-01,\n       1.30929837e+00, 1.88294975e-01, 7.36131107e-01, 5.58700553e-02,\n       2.23139207e-01, 1.86954708e-02, 1.57841273e+00, 2.53505712e-01,\n       4.23657105e-01, 2.63221887e+00, 1.21879681e+00, 3.23568104e-02,\n       1.79957342e-01, 9.71482144e-01, 8.60923645e-01, 2.71668079e-01,\n       2.72134820e+00, 9.51829716e-01, 7.67079667e-01, 8.91378574e-01,\n       1.30978538e+00, 3.73886496e-01, 5.07865114e-01, 2.35524567e-01,\n       2.06032049e-01, 2.88907562e+00, 1.34534743e+00, 6.74244583e-01,\n       2.58012762e-01, 2.93507651e-01, 5.97809606e-02, 5.69897559e-01,\n       3.73669802e-01, 1.19185811e+00, 4.74416294e-01, 1.97967735e-01,\n       2.49883529e-02, 6.96176718e-02, 1.13753850e+00, 6.04581228e-01,\n       7.69119806e-01, 2.26984004e+00, 4.63965267e+00, 2.44491026e-01,\n       1.08790443e+00, 3.05604900e-01, 2.08672132e-02, 1.42038346e+00,\n       3.85687703e-01, 4.83638392e-01, 8.87501919e-01, 1.77814332e+00,\n       9.91504278e-01, 2.06082122e+00, 3.19574657e-01, 1.59971946e+00,\n       2.05347770e-01, 3.05318464e+00, 1.16311329e+00, 2.42718493e-01,\n       2.94448020e+00, 1.31250801e+00, 2.92951455e-01, 2.39923523e-01,\n       7.30227671e-01, 2.59977499e-02, 2.32525014e-01, 5.52838377e-01,\n       4.68676479e-01, 6.22829313e-01, 3.25216015e-01, 8.83785659e-01,\n       1.99403924e+00, 1.25032588e-01, 7.28523834e-01, 1.41642031e-01,\n       1.26181268e+00, 5.04279932e-01, 8.33378250e-01, 2.02458760e-01,\n       1.56475767e-01, 6.69540583e-01, 4.39455395e-01, 2.82063584e+00,\n       1.44955478e+00, 1.38096308e+00, 2.34049196e+00, 8.71085840e-02,\n       8.03391759e-01, 8.78215071e-01, 3.26849627e+00, 3.45519578e-01,\n       2.75527941e-01, 1.05687172e-01, 1.65660927e-02, 2.65255850e+00,\n       1.10840977e+00, 1.53782872e+00, 3.30909883e-01, 8.82880536e-01,\n       6.60920110e-02, 6.64807754e-01, 3.79402398e+00, 2.09155660e+00,\n       4.12729860e-01, 3.25892090e+00, 2.63577114e-01, 2.98220069e+00,\n       2.83664019e+00, 1.60545878e+00, 9.95463647e-01, 2.07376144e+00,\n       3.46753304e-01, 1.89010171e+00, 9.62011926e-01, 1.33252458e-02,\n       4.26535822e-01, 1.60334096e-01, 4.00794982e+00, 6.50797343e-01,\n       6.87943474e-01, 1.02018709e+00, 4.59791323e-01, 1.47225035e-01,\n       1.72663337e+00, 2.10533286e-01, 7.16045318e-01, 2.54011385e-01,\n       1.02968362e-01, 1.98189037e+00, 3.60894096e+00, 3.23996306e+00,\n       2.37038759e+00, 1.48742974e+00, 4.05182876e-01, 8.45794891e-02,\n       5.22967660e-01, 2.64270465e-01, 1.42125513e-01, 5.49073771e-02,\n       1.29314784e+00, 1.14932538e-02, 1.47220416e+00, 1.58933184e-01,\n       8.28622684e-02, 9.38745485e-02, 1.11488744e+00, 2.81524019e-01,\n       5.45657723e-01, 8.15018342e-01, 1.97005758e+00, 1.29844563e+00,\n       3.15160031e-01, 1.40967888e-01, 5.69665362e-02, 3.58961319e-01,\n       3.03971561e-01, 6.09064460e-01, 1.14974139e+00, 1.18949625e+00,\n       3.33403336e-01, 4.77917995e-01, 1.99855537e-01, 1.55374549e+00,\n       5.85279027e-02, 1.19401337e+00, 1.50821523e+00, 1.50241281e+00,\n       3.00325079e-01, 4.68106451e-01, 8.85760642e-01, 3.18583855e-01,\n       4.63390026e-01, 2.19468164e-01, 6.15919293e-01, 4.56380536e-02,\n       1.60841786e+00, 8.00788592e-02, 7.31545342e-01, 3.66451291e-01,\n       8.61667491e-01, 3.20480875e+00, 1.03724510e+00, 3.60028293e-02,\n       5.62825202e-01, 7.13384281e-01, 7.68253332e-01, 1.14379537e+00,\n       3.25170875e-01, 1.37953229e-01, 4.98692325e-01, 3.13282939e+00,\n       2.07185181e-01, 2.34323997e+00, 7.84837012e-01, 6.10482845e-01,\n       2.13742165e+00, 6.13604219e-01, 1.28796198e+00, 5.09202478e-01,\n       2.34386962e+00, 1.17126370e+00, 1.20271378e+00, 3.97080956e-01,\n       1.41378332e+00, 1.01076916e+00, 2.74463522e-01, 1.74995048e-01,\n       1.59155612e+00, 3.19825498e+00, 6.12745449e-01, 8.94001408e-01,\n       1.94997692e+00, 6.11057560e-01, 3.03394262e+00, 8.57435114e-01,\n       1.71906932e+00, 2.39517987e+00, 1.69023492e+00, 1.73656563e-01,\n       9.91279505e-01, 5.08219454e-01, 6.47656958e-02, 5.51703613e-01,\n       2.99328384e-01, 1.89072917e+00, 3.38718554e-02, 3.19376188e+00,\n       4.39076984e-01, 4.41154812e-01, 1.64632819e-02, 2.04852268e-01,\n       5.12926998e-01, 2.64918832e+00, 1.04932752e-01, 2.90591960e+00,\n       2.03629417e+00, 6.05433778e-01, 3.95565593e-01, 2.64934934e-01,\n       9.53122538e-01, 3.36339235e-02, 1.57291210e-02, 5.60008379e-01,\n       7.05019460e-02, 2.90273411e-01, 2.49950821e-01, 2.91946075e-01,\n       1.40475713e-01, 1.21092448e-02, 1.22715012e-01, 9.63592685e-01,\n       3.65956196e+00, 4.64027952e+00, 5.26030798e-01, 1.77876761e-01,\n       1.01821759e+00, 6.73943451e-01, 4.54782409e+00, 6.75341579e-02,\n       1.52893887e+00, 3.40237212e-01, 2.76305195e-01, 1.08620331e+00,\n       2.82446714e-01, 1.09619257e+00, 7.28377581e-01, 5.51802124e-01,\n       8.08979689e-01, 3.38346119e-01, 1.22613221e+00, 5.35898794e-01,\n       4.47139904e-01, 1.76408738e+00, 2.58982609e+00, 4.70992710e-02,\n       2.64782276e-01, 4.28507613e-01, 1.68721828e+00, 4.23301561e+00,\n       3.47285574e+00, 2.35333480e+00, 3.51767384e-01, 4.82972015e+00,\n       2.86909093e-01, 1.11944537e-01, 3.01496833e+00, 2.65816549e-01,\n       1.17043573e+00, 6.01283764e-02, 1.31196307e+00, 2.13470238e+00,\n       3.18054542e-01, 4.76515821e-01, 4.68878156e-01, 1.38145910e+00,\n       2.71555793e-01, 1.88564724e-01, 5.96549918e-01, 3.63078844e-01,\n       1.82752628e+00, 2.71469970e-01, 6.97937551e-01, 2.85742530e+00,\n       1.00511566e+00, 2.01958450e+00, 2.81691166e+00, 1.38935850e+00,\n       1.20255734e+00, 3.44094391e+00, 5.18512970e+00, 6.01154648e-01,\n       7.35063758e-02, 3.46433328e-01, 1.65293016e-01, 5.40402703e-01,\n       1.40745153e-01, 9.26638597e-01, 4.82575216e-01, 2.25747679e+00,\n       3.43562337e+00, 7.91609106e-01, 3.21340302e-01, 8.97053016e-01,\n       2.27071012e+00, 5.22111311e-01, 8.03136787e-01, 3.16977377e-01,\n       6.07784770e-01, 5.13685602e-01, 2.85568927e-01, 7.04949320e-01,\n       3.71615755e-01, 4.66864344e-01, 7.44378250e-01, 1.38867729e+00,\n       4.05726341e-01, 2.57911316e+00, 1.98281257e+00, 4.99156080e-02,\n       2.92550604e-01, 5.90835230e-01, 1.10515880e-01, 4.28441028e-01,\n       1.34744882e+00, 1.14104333e+00, 9.73878608e-01, 1.23969810e+00,\n       2.29317178e-01, 4.18091661e-01, 1.12776045e+00, 2.11390681e+00,\n       7.84556696e-01, 3.32260629e-01, 3.07017709e-02, 1.23903651e+00,\n       7.91534738e-03, 4.66297019e-01, 7.56166248e-01, 2.55247647e+00,\n       9.37553887e-02, 5.20778863e-01, 2.46136454e-02, 4.19479327e-01,\n       9.73472537e-01, 3.27210388e-01, 2.35405864e-01, 1.22962564e-01,\n       8.60714701e-01, 1.18832916e+00, 1.11461101e+00, 2.97320827e+00,\n       2.70687417e-03, 1.04184447e+00, 9.17271806e-01, 8.88528713e-01,\n       3.29064898e+00, 1.70156214e-02, 1.19231578e+00, 1.68028241e+00,\n       7.12956489e-01, 4.06412861e-01, 1.56465655e+00, 1.02301782e-01,\n       5.83460186e-01, 7.33869960e-01, 1.18402774e+00, 9.52844854e-02,\n       2.58459251e-01, 5.28143996e-01, 9.76292023e-01, 2.18002045e+00,\n       9.64499757e-01, 1.43248706e-01, 3.94145865e+00, 2.05405247e+00,\n       6.98603562e-01, 2.55551774e+00, 7.79535029e-01, 2.56793269e+00,\n       1.77135331e+00, 3.45100999e+00, 2.52301746e+00, 3.66990653e-02,\n       1.92095572e-01, 4.92878765e-01, 3.03953156e+00, 3.56716258e-01,\n       1.74910261e-01, 2.17423292e+00, 5.91302787e-01, 2.38461538e+00,\n       1.74627789e-01, 1.08210187e+00, 5.80289593e-01, 7.95701525e-02,\n       1.19225224e+00, 2.84219747e-01, 4.04215774e-02, 6.18161483e-02,\n       6.30234423e-02, 2.38306827e+00, 1.34662728e+00, 2.28339400e+00,\n       1.11651859e+00, 7.52769654e-01, 3.63047152e-01, 6.19590967e+00,\n       4.49713370e-01, 6.36103455e-01, 4.75209436e-01, 3.88864488e+00,\n       1.91957900e-01, 3.97479083e-01, 1.14052446e+00, 6.52935990e-02,\n       9.34580408e-01, 6.49410723e-01, 3.34075080e-01, 2.72351234e-01,\n       7.22602239e-01, 4.58751304e-01, 6.09762172e-01, 4.11700581e-01,\n       3.52315126e+00, 1.43223272e-01, 1.01815643e-01, 4.20667677e-01,\n       8.94105897e-01, 1.07639045e+00, 5.06263956e-01, 7.23347700e+00,\n       4.33699467e-01, 1.27800215e+00, 1.01495895e+00, 1.67693474e+00,\n       3.73914858e+00, 2.20540082e+00, 1.44630756e+00, 1.19815137e+00,\n       4.08717646e-01, 1.59799781e-01, 6.46836016e-02, 2.76942224e-01,\n       5.66129549e-01, 7.38136751e-01, 1.48317341e+00, 3.18788414e+00,\n       1.24793089e-01, 1.13173334e-01, 8.90853818e-01, 1.36805403e+00,\n       1.88486459e+00, 2.74625189e+00, 4.09993469e+00, 5.10495165e-01,\n       4.78576566e-01, 1.59944219e-01, 1.15497453e+00, 1.06933107e+00,\n       1.98095529e+00, 1.02318475e-01, 6.88710851e-01, 8.70079914e-01,\n       2.76487684e-01, 1.85156058e-01, 1.96312330e+00, 6.03180237e-02,\n       6.36050476e-01, 1.23110453e-01, 6.10754181e-01, 3.91014109e+00,\n       5.51137945e-01, 1.94578458e+00, 1.24787520e-01, 3.16427391e-01,\n       5.17166922e-01, 5.10512573e-01, 1.11286380e+00, 4.22689796e-01,\n       1.25094865e+00, 1.01939518e+00, 5.09428509e-01, 5.65211639e-01,\n       9.53285943e-01, 7.26160596e-02, 1.72825939e+00, 1.05964496e+00,\n       1.29587782e+00, 7.69861934e-01, 1.17070040e-01, 5.19253730e-01,\n       5.19821941e-01, 3.87197467e-01, 3.04079974e-02, 1.33656842e+00,\n       1.16291664e-01, 9.32186739e-01, 1.21475572e+00, 1.00727268e+00,\n       3.19765881e+00, 1.09031864e-01, 2.01866378e+00, 2.96247463e-02,\n       7.65539083e-01, 5.17923450e-01, 7.42723761e-01, 4.54287579e-01,\n       2.11421171e-01, 1.93081050e-02, 7.30122030e-01, 1.85008923e+00,\n       4.67153225e-01, 2.52139678e-01, 8.39600408e-02, 8.91710781e-02,\n       2.50253280e-01, 1.05376139e-01, 3.07938793e-01, 6.84388772e-02,\n       6.78558758e-02, 1.93986174e+00, 1.76880698e-01, 8.20259007e-01,\n       1.48481408e+00, 6.09559193e-01, 1.66490190e-01, 2.22638856e-01,\n       5.67368121e-01, 7.51272368e-01, 4.29922197e-01, 1.52087591e+00,\n       1.39038933e+00, 2.62020153e+00, 2.93799437e-02, 2.26040042e+00,\n       4.98516342e-01, 2.10679215e+00, 1.17371773e+00, 4.36999981e+00,\n       1.42413103e+00, 4.53413413e-01, 6.95275790e-01, 4.72228751e-01,\n       4.53991449e-01, 3.02328137e-01, 6.85120075e-01, 1.14488645e+00,\n       3.24816806e-01, 7.43135666e-01, 1.24860855e-01, 1.74169222e-01,\n       4.79372005e-02, 3.53124147e+00, 3.86782190e-03, 1.96720690e-01,\n       9.48986338e-01, 8.48714126e-02, 2.13619395e+00, 1.27161002e+00,\n       3.39293079e+00, 7.08536079e-01, 3.57251801e-01, 7.97398473e-01,\n       2.67102493e+00, 7.35556762e-01, 3.10892062e-01, 2.09881838e+00,\n       4.65085740e-01, 1.38430771e-03, 2.84600190e-01, 3.83068069e-01,\n       1.95741839e+00, 6.13418061e-01, 5.88043816e-01, 4.09627157e-01,\n       2.12593059e+00, 2.90090907e+00, 4.81469800e+00, 4.72793545e-01,\n       3.38574082e+00, 1.56963837e+00, 1.12605280e+00, 2.80891156e-01,\n       2.43929670e-01, 1.81579222e-01, 2.56079394e+00, 3.48248634e-01,\n       6.03478787e-01, 6.81135281e-01, 1.50585115e+00, 1.85940657e+00,\n       1.49745216e-01, 5.56702666e-01, 1.85058562e+00, 1.70393161e+00,\n       1.08046072e-01, 1.70057092e-01, 3.62691136e-01, 7.83497996e-02,\n       5.52799328e-01, 1.13860657e-01, 8.39833507e-01, 2.83101831e-01,\n       9.07412920e-01, 1.25025548e-01, 3.72487430e+00, 2.69653482e+00,\n       4.97246470e-01, 2.77307533e-01, 2.88213164e-01, 6.60473884e-01,\n       4.08144965e-02, 1.02083243e+00, 5.24760445e-01, 4.73861578e-01,\n       1.65739452e+00, 1.23455388e+00, 3.08639720e+00, 4.33766193e-01,\n       2.27830978e+00, 1.46953331e+00, 4.42271195e-01, 9.71976386e-01,\n       3.40478190e-01, 2.07465236e+00, 1.19264865e-01, 2.38808561e-01,\n       2.02156934e-01, 5.15881722e-01, 1.36740572e+00, 7.48464242e-01,\n       6.68798673e-01, 5.46113990e-04, 5.54084135e-01, 6.56631798e-02,\n       2.33513701e-01, 2.69405764e+00, 2.42578957e-01, 1.95430879e+00,\n       1.62401044e+00, 1.73337519e-01, 9.30673564e-01, 1.22915792e-01,\n       1.30154211e+00, 1.01462675e+00, 1.67098657e+00, 6.52743608e-01,\n       2.46349459e+00, 5.06082099e-02, 3.46567009e-01, 1.25545067e+00,\n       5.41472498e-01, 1.89891764e-01, 1.13404723e-01, 1.70012391e+00,\n       6.40826074e-01, 2.13947755e+00, 1.32159011e+00, 5.27168791e-01,\n       4.67624085e-01, 7.24923434e-01, 2.19876534e+00, 1.33666105e+00,\n       5.16628658e-03, 1.18468616e+00, 2.51959011e+00, 1.23944718e+00,\n       1.94806103e-01, 6.60715088e-01, 1.51190420e-01, 4.44718456e-01,\n       2.76648009e+00, 2.56792277e+00, 3.32451922e-01, 4.14956576e-01,\n       9.16823044e-01, 3.30218394e+00, 1.59935603e-01, 2.96947052e-01,\n       2.06796230e+00, 6.77061712e-01, 2.29224961e+00, 2.05202825e-01,\n       7.60716610e-01, 3.94925297e-01, 3.80590892e-01, 5.92174814e-01,\n       5.67532579e-01, 4.42150171e-01, 2.46476020e+00, 1.31581422e+00,\n       1.30028913e+00, 3.42368414e-01, 8.62061634e-01, 1.51040482e+00,\n       1.58762930e+00, 4.22403446e-01, 1.47347778e+00, 1.33140435e+00,\n       1.52576153e-01, 2.00950861e+00, 5.82181052e-01, 6.66330871e-01,\n       5.94876259e-01, 8.38973276e-01, 9.70665737e-01, 6.89512924e-01,\n       2.01581751e+00, 9.88148658e-01, 5.13208376e-01, 5.39039514e-01,\n       1.66515474e+00, 4.28005151e-01, 2.37565545e-01, 6.12194359e-02,\n       2.08769025e+00, 2.50772237e+00, 1.27969951e-01, 4.07177185e-01,\n       1.92822988e-01, 1.23183369e-01, 2.30125341e+00, 5.85588448e-02,\n       3.93660588e+00, 1.01424783e-01, 1.99121566e+00, 8.35877570e-01,\n       4.58735336e-01, 4.19070812e-01, 1.41619349e+00, 3.77713708e-01,\n       1.07095505e+00, 7.28413974e-01, 6.63521672e-01, 2.31427486e+00,\n       8.08883694e-01, 1.75366402e+00, 1.29307194e+00, 3.93202540e-02,\n       1.48329019e+00, 2.44456888e-01, 2.33458824e+00, 4.38726750e-02,\n       4.05073237e-01, 1.05063834e-01, 6.45479774e-01, 1.71492308e+00,\n       3.54088805e-01, 1.63619414e-01, 4.00876207e-01, 1.68136441e+00,\n       1.51269452e-01, 2.57945227e-01, 7.13370074e-02, 1.22318975e+00,\n       5.02912422e-01, 3.72281781e-01, 1.26807192e+00, 4.09439308e-01,\n       1.30111266e+00, 1.68847785e+00, 2.45469485e-01, 3.64270974e+00,\n       1.77164415e-01, 3.43675386e-01, 1.98201325e-01, 4.23892336e-01,\n       6.54043566e-01, 7.38512541e-01, 1.92145395e+00, 2.20226846e+00,\n       2.48594523e-01, 9.75229049e-01, 1.18216194e-01, 6.14280290e-01,\n       3.89100056e-01, 3.80529713e-01, 6.58908553e-01, 1.30869514e+00,\n       7.16922173e-02, 2.11339830e+00, 1.32732296e+00, 1.94190987e-01,\n       2.79952275e+00, 7.05851994e-01, 8.56103075e+00, 2.19723748e-01,\n       7.65520470e-01, 3.42839726e-01, 3.62655014e-01, 8.94199991e-01,\n       2.54745122e+00, 1.63610974e+00, 1.28714211e+00, 8.19104545e-01,\n       2.55488076e+00, 6.77985515e-01, 2.07014234e+00, 1.79565692e+00,\n       2.40589026e-01, 1.47501831e+00, 1.22458320e-02, 3.89832247e-01,\n       2.60803162e-01, 7.06968169e-01, 1.33504308e+00, 1.02782029e-01,\n       7.23445993e-01, 2.78728858e+00, 2.59608581e-01, 1.13054003e+00])"
     },
     "execution_count": 37,
     "metadata": {},
     "output_type": "execute_result"
    }
   ],
   "source": [
    "original_data\n"
   ],
   "metadata": {
    "collapsed": false,
    "pycharm": {
     "name": "#%%\n"
    }
   }
  },
  {
   "cell_type": "code",
   "execution_count": 38,
   "outputs": [
    {
     "data": {
      "text/plain": "array([[9.29069355e-02],\n       [1.46648782e-01],\n       [1.07783271e-01],\n       [9.18937503e-02],\n       [6.43073845e-02],\n       [1.21209631e-01],\n       [6.71659502e-02],\n       [2.59679024e-01],\n       [3.87170377e-01],\n       [5.64285794e-02],\n       [1.83208088e-01],\n       [8.78604457e-02],\n       [9.79952384e-02],\n       [3.03453385e-01],\n       [8.54382012e-03],\n       [1.05852553e-02],\n       [2.32223683e-03],\n       [2.08743037e-01],\n       [1.75835619e-01],\n       [2.38277183e-01],\n       [4.49118933e-01],\n       [1.87453574e-01],\n       [7.22369551e-02],\n       [1.77091593e-01],\n       [1.46403274e-02],\n       [1.19255605e-01],\n       [1.80110794e-02],\n       [3.38050292e-01],\n       [8.61261010e-02],\n       [6.24987517e-02],\n       [3.58314105e-02],\n       [1.73787909e-01],\n       [7.10866648e-02],\n       [9.81005899e-02],\n       [2.15203443e-03],\n       [1.12240703e-01],\n       [1.10560395e-01],\n       [1.12026585e-01],\n       [3.36122204e-01],\n       [1.33706547e-01],\n       [5.19798116e-02],\n       [6.70506775e-02],\n       [1.39660514e-01],\n       [7.19225424e-03],\n       [1.28306564e-01],\n       [1.29671551e-01],\n       [2.75288843e-02],\n       [1.60601390e-02],\n       [4.42049566e-02],\n       [5.27488760e-02],\n       [9.85787256e-02],\n       [6.73768158e-02],\n       [5.20291952e-01],\n       [1.25096888e-02],\n       [2.73063280e-02],\n       [2.04856906e-02],\n       [1.23614101e-01],\n       [3.40558313e-02],\n       [7.32897135e-02],\n       [3.26769934e-02],\n       [2.01602299e-02],\n       [1.35984472e-02],\n       [1.24703930e-01],\n       [1.73081506e-02],\n       [2.55049215e-02],\n       [5.36731121e-02],\n       [2.00898151e-01],\n       [1.18683436e-02],\n       [2.12519838e-01],\n       [1.17386659e-02],\n       [4.37882374e-01],\n       [7.38031216e-02],\n       [4.39388798e-01],\n       [1.08397179e-01],\n       [1.56965313e-01],\n       [4.60606965e-03],\n       [3.87669794e-02],\n       [1.48952604e-02],\n       [4.09591265e-02],\n       [1.47003976e-02],\n       [4.46417300e-02],\n       [6.24191614e-02],\n       [7.68078973e-03],\n       [1.37684192e-01],\n       [9.76056224e-02],\n       [3.59639365e-02],\n       [8.64685668e-02],\n       [1.14601222e-02],\n       [1.00151985e-01],\n       [3.09411198e-01],\n       [4.47421043e-02],\n       [1.28532420e-01],\n       [1.64458680e-02],\n       [1.47116404e-01],\n       [3.98468159e-02],\n       [2.35739367e-02],\n       [1.03099646e-01],\n       [2.30902118e-03],\n       [2.06202690e-01],\n       [4.86002926e-04],\n       [1.32245786e-01],\n       [3.67006737e-02],\n       [1.55156141e-01],\n       [3.82524729e-01],\n       [3.33479792e-02],\n       [1.00210080e-01],\n       [1.04672201e-01],\n       [9.91386286e-02],\n       [2.94228530e-02],\n       [3.56490984e-01],\n       [6.91640647e-02],\n       [2.18785955e-01],\n       [1.40376684e-01],\n       [4.11745401e-02],\n       [1.96294505e-01],\n       [5.89303828e-02],\n       [2.48695412e-01],\n       [1.01628557e-01],\n       [2.49318169e-01],\n       [1.37706785e-01],\n       [1.50851640e-01],\n       [8.12165869e-02],\n       [3.65040329e-01],\n       [1.20583232e-01],\n       [6.43479788e-02],\n       [1.08855608e-01],\n       [2.20006995e-03],\n       [4.18645810e-02],\n       [1.26017875e-01],\n       [3.99572596e-02],\n       [1.12356833e-01],\n       [6.53485152e-02],\n       [1.69415478e-02],\n       [4.13151861e-02],\n       [9.85157257e-02],\n       [1.04337896e-01],\n       [9.97062247e-02],\n       [1.23645252e-01],\n       [1.23276138e-01],\n       [6.58916419e-02],\n       [2.64948534e-01],\n       [5.34580443e-02],\n       [6.68087698e-02],\n       [2.59841423e-01],\n       [1.91618993e-01],\n       [1.42103330e-01],\n       [1.22734325e-02],\n       [2.94228205e-01],\n       [1.46260576e-01],\n       [7.90241196e-01],\n       [1.88451915e-02],\n       [2.36594394e-01],\n       [2.06506375e-02],\n       [1.11608202e-01],\n       [1.53773532e-02],\n       [2.20008897e-01],\n       [1.92299040e-01],\n       [9.82812154e-02],\n       [6.10156945e-02],\n       [8.30902442e-03],\n       [1.39582337e-01],\n       [7.05278951e-02],\n       [1.49499488e-01],\n       [2.35059895e-01],\n       [4.33318246e-01],\n       [2.26159055e-01],\n       [1.31267342e-03],\n       [5.20655937e-02],\n       [1.52882963e-01],\n       [2.19320364e-02],\n       [8.59279613e-02],\n       [6.46271136e-03],\n       [2.60023939e-02],\n       [2.12013193e-03],\n       [1.84319776e-01],\n       [2.95496819e-02],\n       [4.94260557e-02],\n       [3.07421001e-01],\n       [1.42310950e-01],\n       [3.71599247e-03],\n       [2.09580690e-02],\n       [1.13420685e-01],\n       [1.00505703e-01],\n       [3.16713336e-02],\n       [3.17832716e-01],\n       [1.11124970e-01],\n       [8.95432426e-02],\n       [1.04063321e-01],\n       [1.52939854e-01],\n       [4.36120614e-02],\n       [5.92628831e-02],\n       [2.74491998e-02],\n       [2.40040072e-02],\n       [3.37425932e-01],\n       [1.57094063e-01],\n       [7.86986365e-02],\n       [3.00761767e-02],\n       [3.42225410e-02],\n       [6.91956696e-03],\n       [6.65092538e-02],\n       [4.35867481e-02],\n       [1.39164084e-01],\n       [5.53555318e-02],\n       [2.30619678e-02],\n       [2.85524009e-03],\n       [8.06865040e-03],\n       [1.32818693e-01],\n       [7.05608548e-02],\n       [8.97815632e-02],\n       [2.65089422e-01],\n       [5.41921019e-01],\n       [2.84966240e-02],\n       [1.27020649e-01],\n       [3.56356911e-02],\n       [2.37382579e-03],\n       [1.65859459e-01],\n       [4.49906291e-02],\n       [5.64328188e-02],\n       [1.03610466e-01],\n       [2.07651469e-01],\n       [1.15759587e-01],\n       [2.40672719e-01],\n       [3.72675796e-02],\n       [1.86808740e-01],\n       [2.39240726e-02],\n       [3.56596461e-01],\n       [1.35806234e-01],\n       [2.82895641e-02],\n       [3.43898063e-01],\n       [1.53257900e-01],\n       [3.41575685e-02],\n       [2.79630674e-02],\n       [8.52383466e-02],\n       [2.97315362e-03],\n       [2.70988046e-02],\n       [6.45164715e-02],\n       [5.46850306e-02],\n       [7.26925197e-02],\n       [3.79265795e-02],\n       [1.03176348e-01],\n       [2.32871526e-01],\n       [1.45419891e-02],\n       [8.50393116e-02],\n       [1.64822347e-02],\n       [1.47335883e-01],\n       [5.88440770e-02],\n       [9.72879657e-02],\n       [2.35865905e-02],\n       [1.82150496e-02],\n       [7.81491349e-02],\n       [5.12715459e-02],\n       [3.29431083e-01],\n       [1.69267130e-01],\n       [1.61254534e-01],\n       [2.73342684e-01],\n       [1.01118656e-02],\n       [9.37850693e-02],\n       [1.02525615e-01],\n       [3.81748265e-01],\n       [4.02983568e-02],\n       [3.21222265e-02],\n       [1.22821384e-02],\n       [1.87138689e-03],\n       [3.09796991e-01],\n       [1.29415997e-01],\n       [1.79578923e-01],\n       [3.85917133e-02],\n       [1.03070616e-01],\n       [7.65679746e-03],\n       [7.75962657e-02],\n       [4.43138213e-01],\n       [2.44263096e-01],\n       [4.81495807e-02],\n       [3.80629710e-01],\n       [3.07261810e-02],\n       [3.48304413e-01],\n       [3.31300644e-01],\n       [1.87479183e-01],\n       [1.16222104e-01],\n       [2.42184340e-01],\n       [4.04424755e-02],\n       [2.20729979e-01],\n       [1.12314414e-01],\n       [1.49280471e-03],\n       [4.97623354e-02],\n       [1.86657635e-02],\n       [4.68128134e-01],\n       [7.59596281e-02],\n       [8.02988837e-02],\n       [1.19110193e-01],\n       [5.36471039e-02],\n       [1.71344178e-02],\n       [2.01634292e-01],\n       [2.45298229e-02],\n       [8.35816235e-02],\n       [2.96087525e-02],\n       [1.19645385e-02],\n       [2.31452346e-01],\n       [4.21517589e-01],\n       [3.78415134e-01],\n       [2.76834967e-01],\n       [1.73691524e-01],\n       [4.72679736e-02],\n       [9.81642730e-03],\n       [6.10270993e-02],\n       [3.08071753e-02],\n       [1.65387131e-02],\n       [6.35025532e-03],\n       [1.50996326e-01],\n       [1.27879907e-03],\n       [1.71912935e-01],\n       [1.85021149e-02],\n       [9.61582876e-03],\n       [1.09022372e-02],\n       [1.30172691e-01],\n       [3.28226633e-02],\n       [6.36776575e-02],\n       [9.51432380e-02],\n       [2.30070090e-01],\n       [1.51615191e-01],\n       [3.67518815e-02],\n       [1.64034842e-02],\n       [6.59079767e-03],\n       [4.18685647e-02],\n       [3.54448912e-02],\n       [7.10845673e-02],\n       [1.34244184e-01],\n       [1.38888180e-01],\n       [3.88829880e-02],\n       [5.57645859e-02],\n       [2.32824929e-02],\n       [1.81438253e-01],\n       [6.77318997e-03],\n       [1.39415852e-01],\n       [1.76119598e-01],\n       [1.75441784e-01],\n       [3.50189244e-02],\n       [5.46184423e-02],\n       [1.03407058e-01],\n       [3.71518383e-02],\n       [5.40674894e-02],\n       [2.55735580e-02],\n       [7.18853202e-02],\n       [5.26745173e-03],\n       [1.87824850e-01],\n       [9.29068255e-03],\n       [8.53922714e-02],\n       [4.27435119e-02],\n       [1.00592597e-01],\n       [3.74308555e-01],\n       [1.21102839e-01],\n       [4.14190514e-03],\n       [6.56830905e-02],\n       [8.32707723e-02],\n       [8.96803452e-02],\n       [1.33549595e-01],\n       [3.79213064e-02],\n       [1.60513243e-02],\n       [5.81913562e-02],\n       [3.65900228e-01],\n       [2.41387112e-02],\n       [2.73663694e-01],\n       [9.16175814e-02],\n       [7.12502570e-02],\n       [2.49620860e-01],\n       [7.16148829e-02],\n       [1.50390535e-01],\n       [5.94191083e-02],\n       [2.73737248e-01],\n       [1.36758330e-01],\n       [1.40432197e-01],\n       [4.63215412e-02],\n       [1.65088457e-01],\n       [1.18010030e-01],\n       [3.19978855e-02],\n       [2.03783946e-02],\n       [1.85855133e-01],\n       [3.73542971e-01],\n       [7.15145650e-02],\n       [1.04369709e-01],\n       [2.27724350e-01],\n       [7.13173928e-02],\n       [3.54348688e-01],\n       [1.00098188e-01],\n       [2.00750691e-01],\n       [2.79731096e-01],\n       [1.97382377e-01],\n       [2.02220383e-02],\n       [1.15733330e-01],\n       [5.93042755e-02],\n       [7.50186286e-03],\n       [6.43839130e-02],\n       [3.49024947e-02],\n       [2.20803277e-01],\n       [3.89297369e-03],\n       [3.73018106e-01],\n       [5.12273415e-02],\n       [5.14700646e-02],\n       [1.85937696e-03],\n       [2.38661901e-02],\n       [5.98541912e-02],\n       [3.09403301e-01],\n       [1.21940103e-02],\n       [3.39393576e-01],\n       [2.37807570e-01],\n       [7.06604461e-02],\n       [4.61445228e-02],\n       [3.08847958e-02],\n       [1.11275992e-01],\n       [3.86517947e-03],\n       [1.77361536e-03],\n       [6.53540411e-02],\n       [8.17194761e-03],\n       [3.38447307e-02],\n       [2.91344144e-02],\n       [3.40401243e-02],\n       [1.63459903e-02],\n       [1.35075656e-03],\n       [1.42712596e-02],\n       [1.12499071e-01],\n       [4.27430922e-01],\n       [5.41994245e-01],\n       [6.13849222e-02],\n       [2.07150242e-02],\n       [1.18880124e-01],\n       [7.86634596e-02],\n       [5.31193988e-01],\n       [7.82526302e-03],\n       [1.78540447e-01],\n       [3.96812928e-02],\n       [3.22130222e-02],\n       [1.26821932e-01],\n       [3.29304487e-02],\n       [1.27988835e-01],\n       [8.50222269e-02],\n       [6.43954207e-02],\n       [9.44378279e-02],\n       [3.94603833e-02],\n       [1.43167840e-01],\n       [6.25376602e-02],\n       [5.21692181e-02],\n       [2.06009513e-01],\n       [3.02468854e-01],\n       [5.43814503e-03],\n       [3.08669629e-02],\n       [4.99926718e-02],\n       [1.97029985e-01],\n       [4.94419378e-01],\n       [4.05620683e-01],\n       [2.74842931e-01],\n       [4.10281994e-02],\n       [5.64123907e-01],\n       [3.34517251e-02],\n       [1.30130977e-02],\n       [3.52132191e-01],\n       [3.09877824e-02],\n       [1.36661610e-01],\n       [6.96015061e-03],\n       [1.53194242e-01],\n       [2.49303206e-01],\n       [3.70900062e-02],\n       [5.56007898e-02],\n       [5.47085897e-02],\n       [1.61312478e-01],\n       [3.16582168e-02],\n       [2.19635474e-02],\n       [6.96226708e-02],\n       [4.23495568e-02],\n       [2.13420179e-01],\n       [3.16481913e-02],\n       [8.14663499e-02],\n       [3.33728673e-01],\n       [1.17349611e-01],\n       [2.35855617e-01],\n       [3.28996040e-01],\n       [1.62235252e-01],\n       [1.40413922e-01],\n       [4.01892877e-01],\n       [6.05641363e-01],\n       [7.01605761e-02],\n       [8.52291253e-03],\n       [4.04050972e-02],\n       [1.92450438e-02],\n       [6.30637880e-02],\n       [1.63774652e-02],\n       [1.08182249e-01],\n       [5.63086230e-02],\n       [2.63645199e-01],\n       [4.01271353e-01],\n       [9.24086690e-02],\n       [3.74738349e-02],\n       [1.04726185e-01],\n       [2.65191062e-01],\n       [6.09270642e-02],\n       [9.37552845e-02],\n       [3.69641762e-02],\n       [7.09350792e-02],\n       [5.99428081e-02],\n       [3.32951725e-02],\n       [8.22854355e-02],\n       [4.33468030e-02],\n       [5.44733447e-02],\n       [8.68913581e-02],\n       [1.62155676e-01],\n       [4.73314589e-02],\n       [3.01217414e-01],\n       [2.31560074e-01],\n       [5.76713774e-03],\n       [3.41107428e-02],\n       [6.89551048e-02],\n       [1.28462080e-02],\n       [4.99848936e-02],\n       [1.57339539e-01],\n       [1.33228113e-01],\n       [1.13700630e-01],\n       [1.44752550e-01],\n       [2.67240785e-02],\n       [4.87759238e-02],\n       [1.31676462e-01],\n       [2.46873954e-01],\n       [9.15848361e-02],\n       [3.87495018e-02],\n       [3.52265768e-03],\n       [1.44675266e-01],\n       [8.60843013e-04],\n       [5.44070721e-02],\n       [8.82683826e-02],\n       [2.98105827e-01],\n       [1.08883175e-02],\n       [6.07714132e-02],\n       [2.81146833e-03],\n       [4.89380252e-02],\n       [1.13653194e-01],\n       [3.81595538e-02],\n       [2.74353334e-02],\n       [1.43001775e-02],\n       [1.00481296e-01],\n       [1.38751846e-01],\n       [1.30140400e-01],\n       [3.47253956e-01],\n       [2.52410964e-04],\n       [1.21640117e-01],\n       [1.07088060e-01],\n       [1.03730412e-01],\n       [3.84336052e-01],\n       [1.92389896e-03],\n       [1.39217546e-01],\n       [1.96219766e-01],\n       [8.32207994e-02],\n       [4.74116554e-02],\n       [1.82712837e-01],\n       [1.18866715e-02],\n       [6.80935830e-02],\n       [8.56638236e-02],\n       [1.38249372e-01],\n       [1.10669402e-02],\n       [3.01283336e-02],\n       [6.16317772e-02],\n       [1.13982555e-01],\n       [2.54597074e-01],\n       [1.12605032e-01],\n       [1.66699197e-02],\n       [4.60360915e-01],\n       [2.39882021e-01],\n       [8.15441505e-02],\n       [2.98461096e-01],\n       [9.09982259e-02],\n       [2.99911358e-01],\n       [2.06858288e-01],\n       [4.03068754e-01],\n       [2.94664549e-01],\n       [4.22323651e-03],\n       [2.23760063e-02],\n       [5.75122404e-02],\n       [3.55001565e-01],\n       [4.16063061e-02],\n       [2.03684902e-02],\n       [2.53920998e-01],\n       [6.90097229e-02],\n       [2.78496997e-01],\n       [2.03354930e-02],\n       [1.26342819e-01],\n       [6.77232077e-02],\n       [9.23125755e-03],\n       [1.39210124e-01],\n       [3.31375670e-02],\n       [4.65808480e-03],\n       [7.15730906e-03],\n       [7.29834010e-03],\n       [2.78316270e-01],\n       [1.57243570e-01],\n       [2.66672739e-01],\n       [1.30363235e-01],\n       [8.78716068e-02],\n       [4.23458547e-02],\n       [7.23716451e-01],\n       [5.24698396e-02],\n       [7.42431495e-02],\n       [5.54481833e-02],\n       [4.54191431e-01],\n       [2.23599240e-02],\n       [4.63680487e-02],\n       [1.33167501e-01],\n       [7.56353031e-03],\n       [1.09109978e-01],\n       [7.57976489e-02],\n       [3.89614583e-02],\n       [3.17511369e-02],\n       [8.43475756e-02],\n       [5.35256132e-02],\n       [7.11660710e-02],\n       [4.80293446e-02],\n       [4.11495995e-01],\n       [1.66669487e-02],\n       [1.18298827e-02],\n       [4.90768433e-02],\n       [1.04381915e-01],\n       [1.25675634e-01],\n       [5.90758425e-02],\n       [8.44920725e-01],\n       [5.05991624e-02],\n       [1.49227070e-01],\n       [1.18499464e-01],\n       [1.95828706e-01],\n       [4.36727898e-01],\n       [2.57561902e-01],\n       [1.68887803e-01],\n       [1.39899236e-01],\n       [4.76808907e-02],\n       [1.86033470e-02],\n       [7.49227296e-03],\n       [3.22874372e-02],\n       [6.60690905e-02],\n       [8.61622522e-02],\n       [1.73194318e-01],\n       [3.72331493e-01],\n       [1.45140118e-02],\n       [1.31566407e-02],\n       [1.04002021e-01],\n       [1.59746553e-01],\n       [2.20118201e-01],\n       [3.20741861e-01],\n       [4.78873423e-01],\n       [5.95701146e-02],\n       [5.58415174e-02],\n       [1.86202198e-02],\n       [1.34855498e-01],\n       [1.24850987e-01],\n       [2.31343114e-01],\n       [1.18886214e-02],\n       [8.03885254e-02],\n       [1.01575301e-01],\n       [3.22343397e-02],\n       [2.15653612e-02],\n       [2.29260056e-01],\n       [6.98230442e-03],\n       [7.42369607e-02],\n       [1.43174533e-02],\n       [7.12819534e-02],\n       [4.56702529e-01],\n       [6.43178341e-02],\n       [2.27234619e-01],\n       [1.45133612e-02],\n       [3.68999292e-02],\n       [6.03494813e-02],\n       [5.95721481e-02],\n       [1.29936298e-01],\n       [4.93130588e-02],\n       [1.46066793e-01],\n       [1.19017685e-01],\n       [5.94455123e-02],\n       [6.59618642e-02],\n       [1.11295081e-01],\n       [8.41890952e-03],\n       [2.01824236e-01],\n       [1.23719496e-01],\n       [1.51315231e-01],\n       [8.98682554e-02],\n       [1.36118375e-02],\n       [6.05932535e-02],\n       [6.06596295e-02],\n       [4.51669934e-02],\n       [3.48834028e-03],\n       [1.56068536e-01],\n       [1.35209108e-02],\n       [1.08830360e-01],\n       [1.41838886e-01],\n       [1.17601585e-01],\n       [3.73473328e-01],\n       [1.26728514e-02],\n       [2.35748062e-01],\n       [3.39684417e-03],\n       [8.93632780e-02],\n       [6.04378558e-02],\n       [8.66980875e-02],\n       [5.30041796e-02],\n       [2.46335419e-02],\n       [2.19169729e-03],\n       [8.52260061e-02],\n       [2.16055888e-01],\n       [5.45070905e-02],\n       [2.93901075e-02],\n       [9.74406594e-03],\n       [1.03527975e-02],\n       [2.91697464e-02],\n       [1.22458049e-02],\n       [3.59083266e-02],\n       [7.93094855e-03],\n       [7.86284477e-03],\n       [2.26542737e-01],\n       [2.05986683e-02],\n       [9.57554307e-02],\n       [1.73385974e-01],\n       [7.11423599e-02],\n       [1.93848927e-02],\n       [2.59439450e-02],\n       [6.62137753e-02],\n       [8.76967001e-02],\n       [5.01579176e-02],\n       [1.77598565e-01],\n       [1.62355670e-01],\n       [3.06017185e-01],\n       [3.36824735e-03],\n       [2.63986726e-01],\n       [5.81707986e-02],\n       [2.46042849e-01],\n       [1.37045000e-01],\n       [5.10421300e-01],\n       [1.66297234e-01],\n       [5.29020631e-02],\n       [8.11554141e-02],\n       [5.50999922e-02],\n       [5.29695869e-02],\n       [3.52529133e-02],\n       [7.99690660e-02],\n       [1.33677050e-01],\n       [3.78799455e-02],\n       [8.67462046e-02],\n       [1.45219280e-02],\n       [2.02819250e-02],\n       [5.53602845e-03],\n       [4.12441060e-01],\n       [3.88028020e-04],\n       [2.29162932e-02],\n       [1.10792819e-01],\n       [9.85052857e-03],\n       [2.49477445e-01],\n       [1.48480367e-01],\n       [3.96284184e-01],\n       [8.27044256e-02],\n       [4.16688659e-02],\n       [9.30849587e-02],\n       [3.11954163e-01],\n       [8.58608688e-02],\n       [3.62533152e-02],\n       [2.45111387e-01],\n       [5.42655755e-02],\n       [9.79142836e-05],\n       [3.31820087e-02],\n       [4.46846143e-02],\n       [2.28593632e-01],\n       [7.15931367e-02],\n       [6.86290236e-02],\n       [4.77871359e-02],\n       [2.48278522e-01],\n       [3.38808265e-01],\n       [5.62369081e-01],\n       [5.51659690e-02],\n       [3.95444283e-01],\n       [1.83294793e-01],\n       [1.31476982e-01],\n       [3.27487348e-02],\n       [2.84310487e-02],\n       [2.11475302e-02],\n       [2.99077439e-01],\n       [4.06171537e-02],\n       [7.04320722e-02],\n       [7.95035790e-02],\n       [1.75843436e-01],\n       [2.17144301e-01],\n       [1.74288149e-02],\n       [6.49678815e-02],\n       [2.16113875e-01],\n       [1.98982367e-01],\n       [1.25576954e-02],\n       [1.98015633e-02],\n       [4.23042663e-02],\n       [9.08870104e-03],\n       [6.45119099e-02],\n       [1.32369308e-02],\n       [9.80420418e-02],\n       [3.30069767e-02],\n       [1.05936386e-01],\n       [1.45411666e-02],\n       [4.35060437e-01],\n       [3.14934121e-01],\n       [5.80224575e-02],\n       [3.23301111e-02],\n       [3.36040612e-02],\n       [7.70900011e-02],\n       [4.70398397e-03],\n       [1.19185579e-01],\n       [6.12365249e-02],\n       [5.52907322e-02],\n       [1.93546099e-01],\n       [1.44151624e-01],\n       [3.60476213e-01],\n       [5.06069571e-02],\n       [2.66078822e-01],\n       [1.71600938e-01],\n       [5.16004759e-02],\n       [1.13478420e-01],\n       [3.97094430e-02],\n       [2.42288414e-01],\n       [1.38682278e-02],\n       [2.78328222e-02],\n       [2.35513325e-02],\n       [6.01993496e-02],\n       [1.59670820e-01],\n       [8.73686665e-02],\n       [7.80624681e-02],\n       [0.00000000e+00],\n       [6.46619957e-02],\n       [7.60670319e-03],\n       [2.72142988e-02],\n       [3.14644747e-01],\n       [2.82732640e-02],\n       [2.28230382e-01],\n       [1.89646310e-01],\n       [2.01847690e-02],\n       [1.08653597e-01],\n       [1.42947138e-02],\n       [1.51976910e-01],\n       [1.18460657e-01],\n       [1.95133865e-01],\n       [7.61869826e-02],\n       [2.87711336e-01],\n       [5.84804460e-03],\n       [4.04207132e-02],\n       [1.46592700e-01],\n       [6.31887570e-02],\n       [2.21185666e-02],\n       [1.31836705e-02],\n       [1.98537568e-01],\n       [7.47948261e-02],\n       [2.49861021e-01],\n       [1.54318832e-01],\n       [6.15178579e-02],\n       [5.45620944e-02],\n       [8.46187278e-02],\n       [2.56786773e-01],\n       [1.56079356e-01],\n       [5.39709231e-04],\n       [1.38326286e-01],\n       [2.94264180e-01],\n       [1.44723239e-01],\n       [2.26926392e-02],\n       [7.71181775e-02],\n       [1.75976376e-02],\n       [5.18863547e-02],\n       [3.23104835e-01],\n       [2.99910200e-01],\n       [3.87718478e-02],\n       [4.84096964e-02],\n       [1.07035637e-01],\n       [3.85683517e-01],\n       [1.86192133e-02],\n       [3.46243175e-02],\n       [2.41506909e-01],\n       [7.90277217e-02],\n       [2.67707214e-01],\n       [2.39071407e-02],\n       [8.87999369e-02],\n       [4.60697261e-02],\n       [4.43952410e-02],\n       [6.91115894e-02],\n       [6.62329867e-02],\n       [5.15863383e-02],\n       [2.87859180e-01],\n       [1.53644117e-01],\n       [1.51830541e-01],\n       [3.99302510e-02],\n       [1.00638639e-01],\n       [1.76375377e-01],\n       [1.85396418e-01],\n       [4.92796086e-02],\n       [1.72061715e-01],\n       [1.55465291e-01],\n       [1.77595131e-02],\n       [2.34678594e-01],\n       [6.79441600e-02],\n       [7.77741898e-02],\n       [6.94271609e-02],\n       [9.79415532e-02],\n       [1.13325315e-01],\n       [8.04822202e-02],\n       [2.35415573e-01],\n       [1.15367597e-01],\n       [5.98870605e-02],\n       [6.29045460e-02],\n       [1.94452615e-01],\n       [4.99339763e-02],\n       [2.76876183e-02],\n       [7.08760362e-03],\n       [2.43811446e-01],\n       [2.92877841e-01],\n       [1.48851196e-02],\n       [4.75009405e-02],\n       [2.24609799e-02],\n       [1.43259710e-02],\n       [2.68759001e-01],\n       [6.77680450e-03],\n       [4.59794034e-01],\n       [1.17842240e-02],\n       [2.32541688e-01],\n       [9.75799259e-02],\n       [5.35237479e-02],\n       [4.88903042e-02],\n       [1.65370004e-01],\n       [4.40591403e-02],\n       [1.25040694e-01],\n       [8.50264782e-02],\n       [7.74460309e-02],\n       [2.70280112e-01],\n       [9.44266141e-02],\n       [2.04791899e-01],\n       [1.50987459e-01],\n       [4.52943281e-03],\n       [1.73207960e-01],\n       [2.84926361e-02],\n       [2.72653036e-01],\n       [5.06122759e-03],\n       [4.72551660e-02],\n       [1.22093228e-02],\n       [7.53384519e-02],\n       [2.00266344e-01],\n       [4.12993780e-02],\n       [1.90495406e-02],\n       [4.67648865e-02],\n       [1.96346162e-01],\n       [1.76068697e-02],\n       [3.00682874e-02],\n       [8.26949599e-03],\n       [1.42824115e-01],\n       [5.86843303e-02],\n       [4.34246054e-02],\n       [1.48067062e-01],\n       [4.77651922e-02],\n       [1.51926742e-01],\n       [1.97177123e-01],\n       [2.86109235e-02],\n       [4.25462317e-01],\n       [2.06318110e-02],\n       [4.00829260e-02],\n       [2.30892547e-02],\n       [4.94535344e-02],\n       [7.63388382e-02],\n       [8.62061505e-02],\n       [2.24392417e-01],\n       [2.57195992e-01],\n       [2.89759773e-02],\n       [1.13858383e-01],\n       [1.37457264e-02],\n       [7.16938587e-02],\n       [4.53892459e-02],\n       [4.43880943e-02],\n       [7.69071456e-02],\n       [1.52812496e-01],\n       [8.31099012e-03],\n       [2.46814553e-01],\n       [1.54988520e-01],\n       [2.26207839e-02],\n       [3.26964741e-01],\n       [8.23908820e-02],\n       [1.00000000e+00],\n       [2.56034142e-02],\n       [8.93611037e-02],\n       [3.99853076e-02],\n       [4.23000467e-02],\n       [1.04392907e-01],\n       [2.97518798e-01],\n       [1.91059700e-01],\n       [1.50294762e-01],\n       [9.56205712e-02],\n       [2.98386687e-01],\n       [7.91356365e-02],\n       [2.41761572e-01],\n       [2.09697334e-01],\n       [2.80408087e-02],\n       [1.72241674e-01],\n       [1.36671211e-03],\n       [4.54747773e-02],\n       [3.04021394e-02],\n       [8.25212689e-02],\n       [1.55890352e-01],\n       [1.19427718e-02],\n       [8.44461393e-02],\n       [3.25535596e-01],\n       [3.02625935e-02],\n       [1.32001162e-01]])"
     },
     "execution_count": 38,
     "metadata": {},
     "output_type": "execute_result"
    }
   ],
   "source": [
    "scaled_data\n"
   ],
   "metadata": {
    "collapsed": false,
    "pycharm": {
     "name": "#%%\n"
    }
   }
  },
  {
   "cell_type": "code",
   "execution_count": 57,
   "outputs": [
    {
     "name": "stderr",
     "output_type": "stream",
     "text": [
      "/Users/dravik/PycharmProjects/JupyterPycharm/lib/python3.8/site-packages/seaborn/distributions.py:2551: FutureWarning: `distplot` is a deprecated function and will be removed in a future version. Please adapt your code to use either `displot` (a figure-level function with similar flexibility) or `histplot` (an axes-level function for histograms).\n",
      "  warnings.warn(msg, FutureWarning)\n",
      "/Users/dravik/PycharmProjects/JupyterPycharm/lib/python3.8/site-packages/seaborn/distributions.py:2551: FutureWarning: `distplot` is a deprecated function and will be removed in a future version. Please adapt your code to use either `displot` (a figure-level function with similar flexibility) or `histplot` (an axes-level function for histograms).\n",
      "  warnings.warn(msg, FutureWarning)\n"
     ]
    },
    {
     "data": {
      "text/plain": "Text(0.5, 1.0, 'Scaled Data')"
     },
     "execution_count": 57,
     "metadata": {},
     "output_type": "execute_result"
    },
    {
     "data": {
      "text/plain": "<Figure size 432x288 with 2 Axes>",
      "image/png": "[encoded data removed]"
     },
     "metadata": {
      "needs_background": "light"
     },
     "output_type": "display_data"
    }
   ],
   "source": [
    "# plot both together to compare\n",
    "fig, ax = plt.subplots(1,2)\n",
    "sns.distplot(original_data, ax=ax[0])\n",
    "ax[0].set_title('Original Data')\n",
    "sns.distplot(scaled_data, ax=ax[1])\n",
    "ax[1].set_title('Scaled Data')"
   ],
   "metadata": {
    "collapsed": false,
    "pycharm": {
     "name": "#%%\n"
    }
   }
  },
  {
   "cell_type": "code",
   "execution_count": 58,
   "outputs": [
    {
     "name": "stderr",
     "output_type": "stream",
     "text": [
      "/Users/dravik/PycharmProjects/JupyterPycharm/lib/python3.8/site-packages/seaborn/distributions.py:2551: FutureWarning: `distplot` is a deprecated function and will be removed in a future version. Please adapt your code to use either `displot` (a figure-level function with similar flexibility) or `histplot` (an axes-level function for histograms).\n",
      "  warnings.warn(msg, FutureWarning)\n",
      "/Users/dravik/PycharmProjects/JupyterPycharm/lib/python3.8/site-packages/seaborn/distributions.py:2551: FutureWarning: `distplot` is a deprecated function and will be removed in a future version. Please adapt your code to use either `displot` (a figure-level function with similar flexibility) or `histplot` (an axes-level function for histograms).\n",
      "  warnings.warn(msg, FutureWarning)\n"
     ]
    },
    {
     "data": {
      "text/plain": "Text(0.5, 1.0, 'Normalized data')"
     },
     "execution_count": 58,
     "metadata": {},
     "output_type": "execute_result"
    },
    {
     "data": {
      "text/plain": "<Figure size 432x288 with 2 Axes>",
      "image/png": "[encoded data removed]"
     },
     "metadata": {
      "needs_background": "light"
     },
     "output_type": "display_data"
    }
   ],
   "source": [
    "# normalize the exponential data with boxcox\n",
    "normalized_data = stats.boxcox(original_data)\n",
    "\n",
    "# plot both together to compare\n",
    "fig, ax = plt.subplots(1,2)\n",
    "sns.distplot(original_data, ax=ax[0])\n",
    "ax[0].set_title(\"Original Data\")\n",
    "sns.distplot(normalized_data[0], ax=ax[1])\n",
    "ax[1].set_title(\"Normalized data\")"
   ],
   "metadata": {
    "collapsed": false,
    "pycharm": {
     "name": "#%%\n"
    }
   }
  },
  {
   "cell_type": "markdown",
   "source": [
    "#### Scaling and Normalization Exercises\n"
   ],
   "metadata": {
    "collapsed": false,
    "pycharm": {
     "name": "#%% md\n"
    }
   }
  },
  {
   "cell_type": "code",
   "execution_count": 2,
   "outputs": [],
   "source": [
    "import pandas as pd\n",
    "import numpy as np\n",
    "\n",
    "from scipy import stats\n",
    "from mlxtend.preprocessing import minmax_scaling\n",
    "\n",
    "import seaborn as sns\n",
    "import matplotlib.pyplot as plt\n",
    "\n",
    "KICKSTARTERS_URL = '/Users/dravik/Downloads/ks-projects-201801.csv'\n",
    "kickstarters_2017 = pd.read_csv(KICKSTARTERS_URL)\n",
    "\n",
    "np.random.seed(0)"
   ],
   "metadata": {
    "collapsed": false,
    "pycharm": {
     "name": "#%%\n"
    }
   }
  },
  {
   "cell_type": "code",
   "execution_count": null,
   "outputs": [],
   "source": [
    "pd.options.display.max_rows = 200 # I want to check all the rows for unique values\n",
    "pd.reset_option('all') # I want reset options, not to see all the rows (comment this if you don't want to reset)\n",
    "pd.Series(kickstarters_2017['category'].value_counts())"
   ],
   "metadata": {
    "collapsed": false,
    "pycharm": {
     "name": "#%%\n"
    }
   }
  },
  {
   "cell_type": "code",
   "execution_count": 92,
   "outputs": [
    {
     "name": "stderr",
     "output_type": "stream",
     "text": [
      "/Users/dravik/PycharmProjects/JupyterPycharm/lib/python3.8/site-packages/seaborn/distributions.py:2551: FutureWarning: `distplot` is a deprecated function and will be removed in a future version. Please adapt your code to use either `displot` (a figure-level function with similar flexibility) or `histplot` (an axes-level function for histograms).\n",
      "  warnings.warn(msg, FutureWarning)\n",
      "/Users/dravik/PycharmProjects/JupyterPycharm/lib/python3.8/site-packages/seaborn/distributions.py:2551: FutureWarning: `distplot` is a deprecated function and will be removed in a future version. Please adapt your code to use either `displot` (a figure-level function with similar flexibility) or `histplot` (an axes-level function for histograms).\n",
      "  warnings.warn(msg, FutureWarning)\n"
     ]
    },
    {
     "data": {
      "text/plain": "Text(0.5, 1.0, 'Scaled Data')"
     },
     "execution_count": 92,
     "metadata": {},
     "output_type": "execute_result"
    },
    {
     "data": {
      "text/plain": "<Figure size 1080x216 with 2 Axes>",
      "image/png": "[encoded data removed]"
     },
     "metadata": {
      "needs_background": "light"
     },
     "output_type": "display_data"
    }
   ],
   "source": [
    "original_data = pd.DataFrame(kickstarters_2017['usd_goal_real'])\n",
    "scaled_data = minmax_scaling(original_data, columns=['usd_goal_real'])\n",
    "\n",
    "fig, ax = plt.subplots(1,2, figsize=(15,3))\n",
    "sns.distplot(kickstarters_2017['usd_goal_real'], ax=ax[0])\n",
    "ax[0].set_title('Original Data')\n",
    "sns.distplot(scaled_data, ax=ax[1])\n",
    "ax[1].set_title('Scaled Data')"
   ],
   "metadata": {
    "collapsed": false,
    "pycharm": {
     "name": "#%%\n"
    }
   }
  },
  {
   "cell_type": "code",
   "execution_count": 94,
   "outputs": [
    {
     "name": "stdout",
     "output_type": "stream",
     "text": [
      "Original data\n",
      "Preview:\n",
      "    usd_goal_real\n",
      "0        1533.95\n",
      "1       30000.00\n",
      "2       45000.00\n",
      "3        5000.00\n",
      "4       19500.00\n",
      "Minimum value: 0.01 \n",
      "Maximum value: 166361390.71\n",
      "------------------------------\n",
      "Scaled data\n",
      "Preview:\n",
      "    usd_goal_real\n",
      "0       0.000009\n",
      "1       0.000180\n",
      "2       0.000270\n",
      "3       0.000030\n",
      "4       0.000117\n",
      "Minimum value: 0.0 \n",
      "Maximum value: 1.0\n"
     ]
    }
   ],
   "source": [
    "print('Original data\\nPreview:\\n', original_data.head())\n",
    "print('Minimum value:', float(original_data.min()),\n",
    "      '\\nMaximum value:', float(original_data.max()))\n",
    "print('-'*30)\n",
    "print('Scaled data\\nPreview:\\n', scaled_data.head())\n",
    "print('Minimum value:', float(scaled_data.min()),\n",
    "      '\\nMaximum value:', float(scaled_data.max()))\n"
   ],
   "metadata": {
    "collapsed": false,
    "pycharm": {
     "name": "#%%\n"
    }
   }
  },
  {
   "cell_type": "markdown",
   "source": [
    "#### Practice Scaling\n",
    "\n",
    "\n"
   ],
   "metadata": {
    "collapsed": false,
    "pycharm": {
     "name": "#%% md\n"
    }
   }
  },
  {
   "cell_type": "code",
   "execution_count": 101,
   "outputs": [
    {
     "data": {
      "text/plain": "pandas.core.frame.DataFrame"
     },
     "execution_count": 101,
     "metadata": {},
     "output_type": "execute_result"
    }
   ],
   "source": [
    "original_goal_data = pd.DataFrame(kickstarters_2017['goal'])\n",
    "scaled_goal_data = minmax_scaling(original_goal_data, columns=['goal'])"
   ],
   "metadata": {
    "collapsed": false,
    "pycharm": {
     "name": "#%%\n"
    }
   }
  },
  {
   "cell_type": "markdown",
   "source": [
    "#### Normalization"
   ],
   "metadata": {
    "collapsed": false,
    "pycharm": {
     "name": "#%% md\n"
    }
   }
  },
  {
   "cell_type": "code",
   "execution_count": 117,
   "outputs": [
    {
     "data": {
      "text/plain": "1         10.165142\n2          6.468598\n3          0.000000\n4          9.129277\n5         15.836853\n            ...    \n378656     3.583165\n378657     5.975764\n378658     3.309679\n378659     6.333349\n378660     7.739753\nName: usd_pledged_real, Length: 326134, dtype: float64"
     },
     "execution_count": 117,
     "metadata": {},
     "output_type": "execute_result"
    }
   ],
   "source": [
    "index_of_positive_pledges = kickstarters_2017['usd_pledged_real'] > 0\n",
    "positive_pledges = kickstarters_2017['usd_pledged_real'].loc[index_of_positive_pledges]\n",
    "normalized_pledges = pd.Series(stats.boxcox(positive_pledges)[0], name='usd_pledged_real', index=positive_pledges.index)\n",
    "normalized_pledges"
   ],
   "metadata": {
    "collapsed": false,
    "pycharm": {
     "name": "#%%\n"
    }
   }
  },
  {
   "cell_type": "code",
   "execution_count": 119,
   "outputs": [
    {
     "name": "stderr",
     "output_type": "stream",
     "text": [
      "/Users/dravik/PycharmProjects/JupyterPycharm/lib/python3.8/site-packages/seaborn/distributions.py:2551: FutureWarning: `distplot` is a deprecated function and will be removed in a future version. Please adapt your code to use either `displot` (a figure-level function with similar flexibility) or `histplot` (an axes-level function for histograms).\n",
      "  warnings.warn(msg, FutureWarning)\n",
      "/Users/dravik/PycharmProjects/JupyterPycharm/lib/python3.8/site-packages/seaborn/distributions.py:2551: FutureWarning: `distplot` is a deprecated function and will be removed in a future version. Please adapt your code to use either `displot` (a figure-level function with similar flexibility) or `histplot` (an axes-level function for histograms).\n",
      "  warnings.warn(msg, FutureWarning)\n"
     ]
    },
    {
     "data": {
      "text/plain": "<Figure size 1080x216 with 2 Axes>",
      "image/png": "[encoded data removed]"
     },
     "metadata": {
      "needs_background": "light"
     },
     "output_type": "display_data"
    }
   ],
   "source": [
    "fig, ax = plt.subplots(1, 2, figsize=(15, 3))\n",
    "sns.distplot(positive_pledges, ax=ax[0])\n",
    "ax[0].set_title('Original Data')\n",
    "sns.distplot(normalized_pledges, ax=ax[1])\n",
    "ax[1].set_title('Normalized Data')\n",
    "plt.show()"
   ],
   "metadata": {
    "collapsed": false,
    "pycharm": {
     "name": "#%%\n"
    }
   }
  },
  {
   "cell_type": "code",
   "execution_count": 120,
   "outputs": [
    {
     "name": "stdout",
     "output_type": "stream",
     "text": [
      "Original data\n",
      "Preview:\n",
      " 1     2421.0\n",
      "2      220.0\n",
      "3        1.0\n",
      "4     1283.0\n",
      "5    52375.0\n",
      "Name: usd_pledged_real, dtype: float64\n",
      "Minimum value: 0.45 \n",
      "Maximum value: 20338986.27\n",
      "______________________________\n",
      "\n",
      "Normalized data\n",
      "Preview:\n",
      " 1    10.165142\n",
      "2     6.468598\n",
      "3     0.000000\n",
      "4     9.129277\n",
      "5    15.836853\n",
      "Name: usd_pledged_real, dtype: float64\n",
      "Minimum value: -0.7779954122762203 \n",
      "Maximum value: 30.69054020451361\n"
     ]
    }
   ],
   "source": [
    "print('Original data\\nPreview:\\n', positive_pledges.head())\n",
    "print('Minimum value:', float(positive_pledges.min()),\n",
    "      '\\nMaximum value:', float(positive_pledges.max()))\n",
    "print('_'*30)\n",
    "\n",
    "print('\\nNormalized data\\nPreview:\\n', normalized_pledges.head())\n",
    "print('Minimum value:', float(normalized_pledges.min()),\n",
    "      '\\nMaximum value:', float(normalized_pledges.max()))\n"
   ],
   "metadata": {
    "collapsed": false,
    "pycharm": {
     "name": "#%%\n"
    }
   }
  },
  {
   "cell_type": "code",
   "execution_count": 3,
   "outputs": [
    {
     "data": {
      "text/plain": "1         10.013887\n2          6.403367\n3          0.000000\n4          9.005193\n5         15.499596\n            ...    \n378656     3.562025\n378657     5.919593\n378658     3.291544\n378659     6.270664\n378660     7.648440\nName: Normalized Pledges, Length: 326134, dtype: float64"
     },
     "execution_count": 3,
     "metadata": {},
     "output_type": "execute_result"
    }
   ],
   "source": [
    "idx_positive_pledges = kickstarters_2017['pledged'] > 0\n",
    "positive_pledges = kickstarters_2017['pledged'].loc[idx_positive_pledges]\n",
    "normalized_pledges = pd.Series(stats.boxcox(positive_pledges)[0], name='Normalized Pledges', index=positive_pledges.index)\n",
    "normalized_pledges\n",
    "fig, ax = plt.subplots(1,2, figsize=(15, 3))\n",
    "sns.distplot(positive_pledges, ax=ax[0])\n",
    "ax[0].set_title('Orignal Data')\n",
    "sns.distplot(normalized_pledges, ax=ax[1])\n",
    "ax[1].set_title('Normalized Data')"
   ],
   "metadata": {
    "collapsed": false,
    "pycharm": {
     "name": "#%%\n"
    }
   }
  },
  {
   "cell_type": "code",
   "execution_count": null,
   "outputs": [],
   "source": [],
   "metadata": {
    "collapsed": false,
    "pycharm": {
     "name": "#%%\n"
    }
   }
  }
 ],
 "metadata": {
  "kernelspec": {
   "display_name": "Python 3",
   "language": "python",
   "name": "python3"
  },
  "language_info": {
   "codemirror_mode": {
    "name": "ipython",
    "version": 2
   },
   "file_extension": ".py",
   "mimetype": "text/x-python",
   "name": "python",
   "nbconvert_exporter": "python",
   "pygments_lexer": "ipython2",
   "version": "2.7.6"
  }
 },
 "nbformat": 4,
 "nbformat_minor": 0
}
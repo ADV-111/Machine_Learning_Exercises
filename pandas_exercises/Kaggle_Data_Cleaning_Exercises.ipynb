{
 "cells": [
  {
   "cell_type": "code",
   "execution_count": 5,
   "metadata": {
    "collapsed": true
   },
   "outputs": [],
   "source": [
    "# Warm up\n",
    "# Data cleaning is a key part of data science, but it can be deeply frustrating. Why are some of your text fields\n",
    "# garbled? What should you do about those missing values? Why aren't your dates formatted correctly? How ca you\n",
    "# quickly clean up inconsistent data entry? In this course, you'll learn why you've run into these problems and,\n",
    "# more importantly, how to fix them!\n",
    "\n",
    "# In this course, you'll learn how to tackle some of the most common data cleaning problems so you can get to\n",
    "# actually analyzing your data faster. You'll work through five hands-on exercises with real, messy data and\n",
    "# answer some of your most commonly-asked data cleaning questions\n"
   ]
  },
  {
   "cell_type": "code",
   "execution_count": 6,
   "outputs": [],
   "source": [
    "import pandas as pd\n",
    "import numpy as np\n"
   ],
   "metadata": {
    "collapsed": false,
    "pycharm": {
     "name": "#%%\n"
    }
   }
  },
  {
   "cell_type": "code",
   "execution_count": 7,
   "outputs": [
    {
     "name": "stderr",
     "output_type": "stream",
     "text": [
      "/Users/dravik/PycharmProjects/JupyterPycharm/lib/python3.8/site-packages/IPython/core/interactiveshell.py:3145: DtypeWarning: Columns (25,51) have mixed types.Specify dtype option on import or set low_memory=False.\n",
      "  has_raised = await self.run_ast_nodes(code_ast.body, cell_name,\n"
     ]
    }
   ],
   "source": [
    "DATA_URL = '/Users/dravik/Downloads/NFL Play by Play 2009-2017 (v4).csv'\n",
    "nfl_data = pd.read_csv(DATA_URL)"
   ],
   "metadata": {
    "collapsed": false,
    "pycharm": {
     "name": "#%%\n"
    }
   }
  },
  {
   "cell_type": "code",
   "execution_count": 8,
   "outputs": [],
   "source": [
    "def dupa(x:int):\n",
    "    x = 1\n",
    "    return x\n",
    "\n",
    "dupa(3)\n",
    "\n",
    "class Chuj():\n",
    "    pass\n",
    "\n",
    "cipa = Chuj()"
   ],
   "metadata": {
    "collapsed": false,
    "pycharm": {
     "name": "#%%\n"
    }
   }
  },
  {
   "cell_type": "code",
   "execution_count": 9,
   "outputs": [
    {
     "data": {
      "text/plain": "             GameID          Drive            qtr           down  \\\ncount  4.076880e+05  407688.000000  407688.000000  346534.000000   \nmean   2.013158e+09      12.316158       2.577412       2.002476   \nstd    2.572839e+06       7.149527       1.129750       1.006353   \nmin    2.009091e+09       1.000000       1.000000       1.000000   \n25%    2.011101e+09       6.000000       2.000000       1.000000   \n50%    2.013111e+09      12.000000       3.000000       2.000000   \n75%    2.015121e+09      18.000000       4.000000       3.000000   \nmax    2.017123e+09      35.000000       5.000000       4.000000   \n\n           TimeUnder       TimeSecs   PlayTimeDiff          yrdln  \\\ncount  407688.000000  407464.000000  407244.000000  406848.000000   \nmean        7.374200    1695.268944      20.576762      28.488327   \nstd         4.642388    1062.801012      17.969326      12.946471   \nmin         0.000000    -900.000000       0.000000       1.000000   \n25%         3.000000     778.000000       5.000000      20.000000   \n50%         7.000000    1800.000000      17.000000      30.000000   \n75%        11.000000    2585.000000      37.000000      39.000000   \nmax        15.000000    3600.000000     943.000000      50.000000   \n\n          yrdline100        ydstogo  ...         yacEPA    Home_WP_pre  \\\ncount  406848.000000  407688.000000  ...  159190.000000  382734.000000   \nmean       48.644081       7.309403  ...      -0.386086       0.534488   \nstd        25.070416       4.869987  ...       1.972715       0.285574   \nmin         1.000000       0.000000  ...     -14.000000       0.000000   \n25%        30.000000       3.000000  ...      -0.961115       0.325123   \n50%        49.000000       9.000000  ...       0.000000       0.531274   \n75%        70.000000      10.000000  ...       0.485508       0.769232   \nmax        99.000000      50.000000  ...       9.559834       1.000000   \n\n         Away_WP_pre   Home_WP_post   Away_WP_post       Win_Prob  \\\ncount  382734.000000  381101.000000  381101.000000  382679.000000   \nmean        0.465965       0.534791       0.465613       0.501320   \nstd         0.285629       0.287818       0.287867       0.287445   \nmin         0.000000       0.000000       0.000000       0.000000   \n25%         0.231411       0.321701       0.227694       0.276472   \n50%         0.469052       0.533609       0.466670       0.504470   \n75%         0.675530       0.772882       0.678833       0.725477   \nmax         1.000000       1.000000       1.000000       1.000000   \n\n                 WPA         airWPA         yacWPA         Season  \ncount  402147.000000  159187.000000  158926.000000  407688.000000  \nmean        0.002099       0.015135      -0.010480    2013.018985  \nstd         0.045363       0.056490       0.068139       2.576962  \nmin        -0.997214      -0.999881      -0.986673    2009.000000  \n25%        -0.014728      -0.011518      -0.018683    2011.000000  \n50%         0.000000       0.003441       0.000000    2013.000000  \n75%         0.014684       0.035792       0.011431    2015.000000  \nmax         0.994848       0.994848       1.000000    2017.000000  \n\n[8 rows x 64 columns]",
      "text/html": "<div>\n<style scoped>\n    .dataframe tbody tr th:only-of-type {\n        vertical-align: middle;\n    }\n\n    .dataframe tbody tr th {\n        vertical-align: top;\n    }\n\n    .dataframe thead th {\n        text-align: right;\n    }\n</style>\n<table border=\"1\" class=\"dataframe\">\n  <thead>\n    <tr style=\"text-align: right;\">\n      <th></th>\n      <th>GameID</th>\n      <th>Drive</th>\n      <th>qtr</th>\n      <th>down</th>\n      <th>TimeUnder</th>\n      <th>TimeSecs</th>\n      <th>PlayTimeDiff</th>\n      <th>yrdln</th>\n      <th>yrdline100</th>\n      <th>ydstogo</th>\n      <th>...</th>\n      <th>yacEPA</th>\n      <th>Home_WP_pre</th>\n      <th>Away_WP_pre</th>\n      <th>Home_WP_post</th>\n      <th>Away_WP_post</th>\n      <th>Win_Prob</th>\n      <th>WPA</th>\n      <th>airWPA</th>\n      <th>yacWPA</th>\n      <th>Season</th>\n    </tr>\n  </thead>\n  <tbody>\n    <tr>\n      <th>count</th>\n      <td>4.076880e+05</td>\n      <td>407688.000000</td>\n      <td>407688.000000</td>\n      <td>346534.000000</td>\n      <td>407688.000000</td>\n      <td>407464.000000</td>\n      <td>407244.000000</td>\n      <td>406848.000000</td>\n      <td>406848.000000</td>\n      <td>407688.000000</td>\n      <td>...</td>\n      <td>159190.000000</td>\n      <td>382734.000000</td>\n      <td>382734.000000</td>\n      <td>381101.000000</td>\n      <td>381101.000000</td>\n      <td>382679.000000</td>\n      <td>402147.000000</td>\n      <td>159187.000000</td>\n      <td>158926.000000</td>\n      <td>407688.000000</td>\n    </tr>\n    <tr>\n      <th>mean</th>\n      <td>2.013158e+09</td>\n      <td>12.316158</td>\n      <td>2.577412</td>\n      <td>2.002476</td>\n      <td>7.374200</td>\n      <td>1695.268944</td>\n      <td>20.576762</td>\n      <td>28.488327</td>\n      <td>48.644081</td>\n      <td>7.309403</td>\n      <td>...</td>\n      <td>-0.386086</td>\n      <td>0.534488</td>\n      <td>0.465965</td>\n      <td>0.534791</td>\n      <td>0.465613</td>\n      <td>0.501320</td>\n      <td>0.002099</td>\n      <td>0.015135</td>\n      <td>-0.010480</td>\n      <td>2013.018985</td>\n    </tr>\n    <tr>\n      <th>std</th>\n      <td>2.572839e+06</td>\n      <td>7.149527</td>\n      <td>1.129750</td>\n      <td>1.006353</td>\n      <td>4.642388</td>\n      <td>1062.801012</td>\n      <td>17.969326</td>\n      <td>12.946471</td>\n      <td>25.070416</td>\n      <td>4.869987</td>\n      <td>...</td>\n      <td>1.972715</td>\n      <td>0.285574</td>\n      <td>0.285629</td>\n      <td>0.287818</td>\n      <td>0.287867</td>\n      <td>0.287445</td>\n      <td>0.045363</td>\n      <td>0.056490</td>\n      <td>0.068139</td>\n      <td>2.576962</td>\n    </tr>\n    <tr>\n      <th>min</th>\n      <td>2.009091e+09</td>\n      <td>1.000000</td>\n      <td>1.000000</td>\n      <td>1.000000</td>\n      <td>0.000000</td>\n      <td>-900.000000</td>\n      <td>0.000000</td>\n      <td>1.000000</td>\n      <td>1.000000</td>\n      <td>0.000000</td>\n      <td>...</td>\n      <td>-14.000000</td>\n      <td>0.000000</td>\n      <td>0.000000</td>\n      <td>0.000000</td>\n      <td>0.000000</td>\n      <td>0.000000</td>\n      <td>-0.997214</td>\n      <td>-0.999881</td>\n      <td>-0.986673</td>\n      <td>2009.000000</td>\n    </tr>\n    <tr>\n      <th>25%</th>\n      <td>2.011101e+09</td>\n      <td>6.000000</td>\n      <td>2.000000</td>\n      <td>1.000000</td>\n      <td>3.000000</td>\n      <td>778.000000</td>\n      <td>5.000000</td>\n      <td>20.000000</td>\n      <td>30.000000</td>\n      <td>3.000000</td>\n      <td>...</td>\n      <td>-0.961115</td>\n      <td>0.325123</td>\n      <td>0.231411</td>\n      <td>0.321701</td>\n      <td>0.227694</td>\n      <td>0.276472</td>\n      <td>-0.014728</td>\n      <td>-0.011518</td>\n      <td>-0.018683</td>\n      <td>2011.000000</td>\n    </tr>\n    <tr>\n      <th>50%</th>\n      <td>2.013111e+09</td>\n      <td>12.000000</td>\n      <td>3.000000</td>\n      <td>2.000000</td>\n      <td>7.000000</td>\n      <td>1800.000000</td>\n      <td>17.000000</td>\n      <td>30.000000</td>\n      <td>49.000000</td>\n      <td>9.000000</td>\n      <td>...</td>\n      <td>0.000000</td>\n      <td>0.531274</td>\n      <td>0.469052</td>\n      <td>0.533609</td>\n      <td>0.466670</td>\n      <td>0.504470</td>\n      <td>0.000000</td>\n      <td>0.003441</td>\n      <td>0.000000</td>\n      <td>2013.000000</td>\n    </tr>\n    <tr>\n      <th>75%</th>\n      <td>2.015121e+09</td>\n      <td>18.000000</td>\n      <td>4.000000</td>\n      <td>3.000000</td>\n      <td>11.000000</td>\n      <td>2585.000000</td>\n      <td>37.000000</td>\n      <td>39.000000</td>\n      <td>70.000000</td>\n      <td>10.000000</td>\n      <td>...</td>\n      <td>0.485508</td>\n      <td>0.769232</td>\n      <td>0.675530</td>\n      <td>0.772882</td>\n      <td>0.678833</td>\n      <td>0.725477</td>\n      <td>0.014684</td>\n      <td>0.035792</td>\n      <td>0.011431</td>\n      <td>2015.000000</td>\n    </tr>\n    <tr>\n      <th>max</th>\n      <td>2.017123e+09</td>\n      <td>35.000000</td>\n      <td>5.000000</td>\n      <td>4.000000</td>\n      <td>15.000000</td>\n      <td>3600.000000</td>\n      <td>943.000000</td>\n      <td>50.000000</td>\n      <td>99.000000</td>\n      <td>50.000000</td>\n      <td>...</td>\n      <td>9.559834</td>\n      <td>1.000000</td>\n      <td>1.000000</td>\n      <td>1.000000</td>\n      <td>1.000000</td>\n      <td>1.000000</td>\n      <td>0.994848</td>\n      <td>0.994848</td>\n      <td>1.000000</td>\n      <td>2017.000000</td>\n    </tr>\n  </tbody>\n</table>\n<p>8 rows × 64 columns</p>\n</div>"
     },
     "execution_count": 9,
     "metadata": {},
     "output_type": "execute_result"
    }
   ],
   "source": [
    "nfl_data.describe()"
   ],
   "metadata": {
    "collapsed": false,
    "pycharm": {
     "name": "#%%\n"
    }
   }
  },
  {
   "cell_type": "code",
   "execution_count": 10,
   "outputs": [],
   "source": [
    "np.random.seed(0)\n"
   ],
   "metadata": {
    "collapsed": false,
    "pycharm": {
     "name": "#%%\n"
    }
   }
  },
  {
   "cell_type": "code",
   "execution_count": 11,
   "outputs": [
    {
     "data": {
      "text/plain": "         Date      GameID  Drive  qtr  down   time  TimeUnder  TimeSecs  \\\n0  2009-09-10  2009091000      1    1   NaN  15:00         15    3600.0   \n1  2009-09-10  2009091000      1    1   1.0  14:53         15    3593.0   \n2  2009-09-10  2009091000      1    1   2.0  14:16         15    3556.0   \n3  2009-09-10  2009091000      1    1   3.0  13:35         14    3515.0   \n4  2009-09-10  2009091000      1    1   4.0  13:27         14    3507.0   \n\n   PlayTimeDiff SideofField  ...    yacEPA  Home_WP_pre  Away_WP_pre  \\\n0           0.0         TEN  ...       NaN     0.485675     0.514325   \n1           7.0         PIT  ...  1.146076     0.546433     0.453567   \n2          37.0         PIT  ...       NaN     0.551088     0.448912   \n3          41.0         PIT  ... -5.031425     0.510793     0.489207   \n4           8.0         PIT  ...       NaN     0.461217     0.538783   \n\n   Home_WP_post  Away_WP_post  Win_Prob       WPA    airWPA    yacWPA  Season  \n0      0.546433      0.453567  0.485675  0.060758       NaN       NaN    2009  \n1      0.551088      0.448912  0.546433  0.004655 -0.032244  0.036899    2009  \n2      0.510793      0.489207  0.551088 -0.040295       NaN       NaN    2009  \n3      0.461217      0.538783  0.510793 -0.049576  0.106663 -0.156239    2009  \n4      0.558929      0.441071  0.461217  0.097712       NaN       NaN    2009  \n\n[5 rows x 102 columns]",
      "text/html": "<div>\n<style scoped>\n    .dataframe tbody tr th:only-of-type {\n        vertical-align: middle;\n    }\n\n    .dataframe tbody tr th {\n        vertical-align: top;\n    }\n\n    .dataframe thead th {\n        text-align: right;\n    }\n</style>\n<table border=\"1\" class=\"dataframe\">\n  <thead>\n    <tr style=\"text-align: right;\">\n      <th></th>\n      <th>Date</th>\n      <th>GameID</th>\n      <th>Drive</th>\n      <th>qtr</th>\n      <th>down</th>\n      <th>time</th>\n      <th>TimeUnder</th>\n      <th>TimeSecs</th>\n      <th>PlayTimeDiff</th>\n      <th>SideofField</th>\n      <th>...</th>\n      <th>yacEPA</th>\n      <th>Home_WP_pre</th>\n      <th>Away_WP_pre</th>\n      <th>Home_WP_post</th>\n      <th>Away_WP_post</th>\n      <th>Win_Prob</th>\n      <th>WPA</th>\n      <th>airWPA</th>\n      <th>yacWPA</th>\n      <th>Season</th>\n    </tr>\n  </thead>\n  <tbody>\n    <tr>\n      <th>0</th>\n      <td>2009-09-10</td>\n      <td>2009091000</td>\n      <td>1</td>\n      <td>1</td>\n      <td>NaN</td>\n      <td>15:00</td>\n      <td>15</td>\n      <td>3600.0</td>\n      <td>0.0</td>\n      <td>TEN</td>\n      <td>...</td>\n      <td>NaN</td>\n      <td>0.485675</td>\n      <td>0.514325</td>\n      <td>0.546433</td>\n      <td>0.453567</td>\n      <td>0.485675</td>\n      <td>0.060758</td>\n      <td>NaN</td>\n      <td>NaN</td>\n      <td>2009</td>\n    </tr>\n    <tr>\n      <th>1</th>\n      <td>2009-09-10</td>\n      <td>2009091000</td>\n      <td>1</td>\n      <td>1</td>\n      <td>1.0</td>\n      <td>14:53</td>\n      <td>15</td>\n      <td>3593.0</td>\n      <td>7.0</td>\n      <td>PIT</td>\n      <td>...</td>\n      <td>1.146076</td>\n      <td>0.546433</td>\n      <td>0.453567</td>\n      <td>0.551088</td>\n      <td>0.448912</td>\n      <td>0.546433</td>\n      <td>0.004655</td>\n      <td>-0.032244</td>\n      <td>0.036899</td>\n      <td>2009</td>\n    </tr>\n    <tr>\n      <th>2</th>\n      <td>2009-09-10</td>\n      <td>2009091000</td>\n      <td>1</td>\n      <td>1</td>\n      <td>2.0</td>\n      <td>14:16</td>\n      <td>15</td>\n      <td>3556.0</td>\n      <td>37.0</td>\n      <td>PIT</td>\n      <td>...</td>\n      <td>NaN</td>\n      <td>0.551088</td>\n      <td>0.448912</td>\n      <td>0.510793</td>\n      <td>0.489207</td>\n      <td>0.551088</td>\n      <td>-0.040295</td>\n      <td>NaN</td>\n      <td>NaN</td>\n      <td>2009</td>\n    </tr>\n    <tr>\n      <th>3</th>\n      <td>2009-09-10</td>\n      <td>2009091000</td>\n      <td>1</td>\n      <td>1</td>\n      <td>3.0</td>\n      <td>13:35</td>\n      <td>14</td>\n      <td>3515.0</td>\n      <td>41.0</td>\n      <td>PIT</td>\n      <td>...</td>\n      <td>-5.031425</td>\n      <td>0.510793</td>\n      <td>0.489207</td>\n      <td>0.461217</td>\n      <td>0.538783</td>\n      <td>0.510793</td>\n      <td>-0.049576</td>\n      <td>0.106663</td>\n      <td>-0.156239</td>\n      <td>2009</td>\n    </tr>\n    <tr>\n      <th>4</th>\n      <td>2009-09-10</td>\n      <td>2009091000</td>\n      <td>1</td>\n      <td>1</td>\n      <td>4.0</td>\n      <td>13:27</td>\n      <td>14</td>\n      <td>3507.0</td>\n      <td>8.0</td>\n      <td>PIT</td>\n      <td>...</td>\n      <td>NaN</td>\n      <td>0.461217</td>\n      <td>0.538783</td>\n      <td>0.558929</td>\n      <td>0.441071</td>\n      <td>0.461217</td>\n      <td>0.097712</td>\n      <td>NaN</td>\n      <td>NaN</td>\n      <td>2009</td>\n    </tr>\n  </tbody>\n</table>\n<p>5 rows × 102 columns</p>\n</div>"
     },
     "execution_count": 11,
     "metadata": {},
     "output_type": "execute_result"
    }
   ],
   "source": [
    "nfl_data.head()"
   ],
   "metadata": {
    "collapsed": false,
    "pycharm": {
     "name": "#%%\n"
    }
   }
  },
  {
   "cell_type": "code",
   "execution_count": 12,
   "outputs": [
    {
     "data": {
      "text/plain": "Date                0\nGameID              0\nDrive               0\nqtr                 0\ndown            61154\ntime              224\nTimeUnder           0\nTimeSecs          224\nPlayTimeDiff      444\nSideofField       528\ndtype: int64"
     },
     "execution_count": 12,
     "metadata": {},
     "output_type": "execute_result"
    }
   ],
   "source": [
    "missing_values_count = nfl_data.isnull().sum() # sums only columns\n",
    "missing_values_count[0:10]"
   ],
   "metadata": {
    "collapsed": false,
    "pycharm": {
     "name": "#%%\n"
    }
   }
  },
  {
   "cell_type": "code",
   "execution_count": 13,
   "outputs": [
    {
     "data": {
      "text/plain": "Date             0\nGameID           0\nDrive            0\nqtr              0\ndown         61154\n             ...  \nWin_Prob     25009\nWPA           5541\nairWPA      248501\nyacWPA      248762\nSeason           0\nLength: 102, dtype: int64"
     },
     "execution_count": 13,
     "metadata": {},
     "output_type": "execute_result"
    }
   ],
   "source": [
    "missing_values_count"
   ],
   "metadata": {
    "collapsed": false,
    "pycharm": {
     "name": "#%%\n"
    }
   }
  },
  {
   "cell_type": "code",
   "execution_count": 14,
   "outputs": [],
   "source": [
    "# how many total missing values do we have?\n",
    "total_cells = np.product(nfl_data.shape)\n",
    "total_missing = missing_values_count.sum() # sums all missing values in all columns"
   ],
   "metadata": {
    "collapsed": false,
    "pycharm": {
     "name": "#%%\n"
    }
   }
  },
  {
   "cell_type": "code",
   "execution_count": 15,
   "outputs": [
    {
     "name": "stdout",
     "output_type": "stream",
     "text": [
      "24.87214126835169\n"
     ]
    }
   ],
   "source": [
    "percent_missing = (total_missing / total_cells) * 100\n",
    "print(percent_missing)"
   ],
   "metadata": {
    "collapsed": false,
    "pycharm": {
     "name": "#%%\n"
    }
   }
  },
  {
   "cell_type": "code",
   "execution_count": 16,
   "outputs": [
    {
     "data": {
      "text/plain": "Empty DataFrame\nColumns: [Date, GameID, Drive, qtr, down, time, TimeUnder, TimeSecs, PlayTimeDiff, SideofField, yrdln, yrdline100, ydstogo, ydsnet, GoalToGo, FirstDown, posteam, DefensiveTeam, desc, PlayAttempted, Yards.Gained, sp, Touchdown, ExPointResult, TwoPointConv, DefTwoPoint, Safety, Onsidekick, PuntResult, PlayType, Passer, Passer_ID, PassAttempt, PassOutcome, PassLength, AirYards, YardsAfterCatch, QBHit, PassLocation, InterceptionThrown, Interceptor, Rusher, Rusher_ID, RushAttempt, RunLocation, RunGap, Receiver, Receiver_ID, Reception, ReturnResult, Returner, BlockingPlayer, Tackler1, Tackler2, FieldGoalResult, FieldGoalDistance, Fumble, RecFumbTeam, RecFumbPlayer, Sack, Challenge.Replay, ChalReplayResult, Accepted.Penalty, PenalizedTeam, PenaltyType, PenalizedPlayer, Penalty.Yards, PosTeamScore, DefTeamScore, ScoreDiff, AbsScoreDiff, HomeTeam, AwayTeam, Timeout_Indicator, Timeout_Team, posteam_timeouts_pre, HomeTimeouts_Remaining_Pre, AwayTimeouts_Remaining_Pre, HomeTimeouts_Remaining_Post, AwayTimeouts_Remaining_Post, No_Score_Prob, Opp_Field_Goal_Prob, Opp_Safety_Prob, Opp_Touchdown_Prob, Field_Goal_Prob, Safety_Prob, Touchdown_Prob, ExPoint_Prob, TwoPoint_Prob, ExpPts, EPA, airEPA, yacEPA, Home_WP_pre, Away_WP_pre, Home_WP_post, Away_WP_post, Win_Prob, WPA, airWPA, ...]\nIndex: []\n\n[0 rows x 102 columns]",
      "text/html": "<div>\n<style scoped>\n    .dataframe tbody tr th:only-of-type {\n        vertical-align: middle;\n    }\n\n    .dataframe tbody tr th {\n        vertical-align: top;\n    }\n\n    .dataframe thead th {\n        text-align: right;\n    }\n</style>\n<table border=\"1\" class=\"dataframe\">\n  <thead>\n    <tr style=\"text-align: right;\">\n      <th></th>\n      <th>Date</th>\n      <th>GameID</th>\n      <th>Drive</th>\n      <th>qtr</th>\n      <th>down</th>\n      <th>time</th>\n      <th>TimeUnder</th>\n      <th>TimeSecs</th>\n      <th>PlayTimeDiff</th>\n      <th>SideofField</th>\n      <th>...</th>\n      <th>yacEPA</th>\n      <th>Home_WP_pre</th>\n      <th>Away_WP_pre</th>\n      <th>Home_WP_post</th>\n      <th>Away_WP_post</th>\n      <th>Win_Prob</th>\n      <th>WPA</th>\n      <th>airWPA</th>\n      <th>yacWPA</th>\n      <th>Season</th>\n    </tr>\n  </thead>\n  <tbody>\n  </tbody>\n</table>\n<p>0 rows × 102 columns</p>\n</div>"
     },
     "execution_count": 16,
     "metadata": {},
     "output_type": "execute_result"
    }
   ],
   "source": [
    "nfl_data.dropna()\n"
   ],
   "metadata": {
    "collapsed": false,
    "pycharm": {
     "name": "#%%\n"
    }
   }
  },
  {
   "cell_type": "code",
   "execution_count": 19,
   "outputs": [
    {
     "data": {
      "text/plain": "         Date      GameID  Drive  qtr  TimeUnder  ydstogo  ydsnet  \\\n0  2009-09-10  2009091000      1    1         15        0       0   \n1  2009-09-10  2009091000      1    1         15       10       5   \n2  2009-09-10  2009091000      1    1         15        5       2   \n3  2009-09-10  2009091000      1    1         14        8       2   \n4  2009-09-10  2009091000      1    1         14        8       2   \n\n   PlayAttempted  Yards.Gained  sp  ...  Timeout_Indicator  Timeout_Team  \\\n0              1            39   0  ...                  0          None   \n1              1             5   0  ...                  0          None   \n2              1            -3   0  ...                  0          None   \n3              1             0   0  ...                  0          None   \n4              1             0   0  ...                  0          None   \n\n   posteam_timeouts_pre HomeTimeouts_Remaining_Pre AwayTimeouts_Remaining_Pre  \\\n0                     3                          3                          3   \n1                     3                          3                          3   \n2                     3                          3                          3   \n3                     3                          3                          3   \n4                     3                          3                          3   \n\n   HomeTimeouts_Remaining_Post  AwayTimeouts_Remaining_Post  ExPoint_Prob  \\\n0                            3                            3           0.0   \n1                            3                            3           0.0   \n2                            3                            3           0.0   \n3                            3                            3           0.0   \n4                            3                            3           0.0   \n\n   TwoPoint_Prob  Season  \n0            0.0    2009  \n1            0.0    2009  \n2            0.0    2009  \n3            0.0    2009  \n4            0.0    2009  \n\n[5 rows x 41 columns]",
      "text/html": "<div>\n<style scoped>\n    .dataframe tbody tr th:only-of-type {\n        vertical-align: middle;\n    }\n\n    .dataframe tbody tr th {\n        vertical-align: top;\n    }\n\n    .dataframe thead th {\n        text-align: right;\n    }\n</style>\n<table border=\"1\" class=\"dataframe\">\n  <thead>\n    <tr style=\"text-align: right;\">\n      <th></th>\n      <th>Date</th>\n      <th>GameID</th>\n      <th>Drive</th>\n      <th>qtr</th>\n      <th>TimeUnder</th>\n      <th>ydstogo</th>\n      <th>ydsnet</th>\n      <th>PlayAttempted</th>\n      <th>Yards.Gained</th>\n      <th>sp</th>\n      <th>...</th>\n      <th>Timeout_Indicator</th>\n      <th>Timeout_Team</th>\n      <th>posteam_timeouts_pre</th>\n      <th>HomeTimeouts_Remaining_Pre</th>\n      <th>AwayTimeouts_Remaining_Pre</th>\n      <th>HomeTimeouts_Remaining_Post</th>\n      <th>AwayTimeouts_Remaining_Post</th>\n      <th>ExPoint_Prob</th>\n      <th>TwoPoint_Prob</th>\n      <th>Season</th>\n    </tr>\n  </thead>\n  <tbody>\n    <tr>\n      <th>0</th>\n      <td>2009-09-10</td>\n      <td>2009091000</td>\n      <td>1</td>\n      <td>1</td>\n      <td>15</td>\n      <td>0</td>\n      <td>0</td>\n      <td>1</td>\n      <td>39</td>\n      <td>0</td>\n      <td>...</td>\n      <td>0</td>\n      <td>None</td>\n      <td>3</td>\n      <td>3</td>\n      <td>3</td>\n      <td>3</td>\n      <td>3</td>\n      <td>0.0</td>\n      <td>0.0</td>\n      <td>2009</td>\n    </tr>\n    <tr>\n      <th>1</th>\n      <td>2009-09-10</td>\n      <td>2009091000</td>\n      <td>1</td>\n      <td>1</td>\n      <td>15</td>\n      <td>10</td>\n      <td>5</td>\n      <td>1</td>\n      <td>5</td>\n      <td>0</td>\n      <td>...</td>\n      <td>0</td>\n      <td>None</td>\n      <td>3</td>\n      <td>3</td>\n      <td>3</td>\n      <td>3</td>\n      <td>3</td>\n      <td>0.0</td>\n      <td>0.0</td>\n      <td>2009</td>\n    </tr>\n    <tr>\n      <th>2</th>\n      <td>2009-09-10</td>\n      <td>2009091000</td>\n      <td>1</td>\n      <td>1</td>\n      <td>15</td>\n      <td>5</td>\n      <td>2</td>\n      <td>1</td>\n      <td>-3</td>\n      <td>0</td>\n      <td>...</td>\n      <td>0</td>\n      <td>None</td>\n      <td>3</td>\n      <td>3</td>\n      <td>3</td>\n      <td>3</td>\n      <td>3</td>\n      <td>0.0</td>\n      <td>0.0</td>\n      <td>2009</td>\n    </tr>\n    <tr>\n      <th>3</th>\n      <td>2009-09-10</td>\n      <td>2009091000</td>\n      <td>1</td>\n      <td>1</td>\n      <td>14</td>\n      <td>8</td>\n      <td>2</td>\n      <td>1</td>\n      <td>0</td>\n      <td>0</td>\n      <td>...</td>\n      <td>0</td>\n      <td>None</td>\n      <td>3</td>\n      <td>3</td>\n      <td>3</td>\n      <td>3</td>\n      <td>3</td>\n      <td>0.0</td>\n      <td>0.0</td>\n      <td>2009</td>\n    </tr>\n    <tr>\n      <th>4</th>\n      <td>2009-09-10</td>\n      <td>2009091000</td>\n      <td>1</td>\n      <td>1</td>\n      <td>14</td>\n      <td>8</td>\n      <td>2</td>\n      <td>1</td>\n      <td>0</td>\n      <td>0</td>\n      <td>...</td>\n      <td>0</td>\n      <td>None</td>\n      <td>3</td>\n      <td>3</td>\n      <td>3</td>\n      <td>3</td>\n      <td>3</td>\n      <td>0.0</td>\n      <td>0.0</td>\n      <td>2009</td>\n    </tr>\n  </tbody>\n</table>\n<p>5 rows × 41 columns</p>\n</div>"
     },
     "execution_count": 19,
     "metadata": {},
     "output_type": "execute_result"
    }
   ],
   "source": [
    "# remove all columns with at least one missing value\n",
    "columns_with_na_dropped = nfl_data.dropna(axis=1)\n",
    "columns_with_na_dropped.head()"
   ],
   "metadata": {
    "collapsed": false,
    "pycharm": {
     "name": "#%%\n"
    }
   }
  },
  {
   "cell_type": "code",
   "execution_count": 23,
   "outputs": [
    {
     "data": {
      "text/plain": "        EPA    airEPA    yacEPA  Home_WP_pre  Away_WP_pre  Home_WP_post  \\\n0  2.014474       NaN       NaN     0.485675     0.514325      0.546433   \n1  0.077907 -1.068169  1.146076     0.546433     0.453567      0.551088   \n2 -1.402760       NaN       NaN     0.551088     0.448912      0.510793   \n3 -1.712583  3.318841 -5.031425     0.510793     0.489207      0.461217   \n4  2.097796       NaN       NaN     0.461217     0.538783      0.558929   \n\n   Away_WP_post  Win_Prob       WPA    airWPA    yacWPA  Season  \n0      0.453567  0.485675  0.060758       NaN       NaN    2009  \n1      0.448912  0.546433  0.004655 -0.032244  0.036899    2009  \n2      0.489207  0.551088 -0.040295       NaN       NaN    2009  \n3      0.538783  0.510793 -0.049576  0.106663 -0.156239    2009  \n4      0.441071  0.461217  0.097712       NaN       NaN    2009  ",
      "text/html": "<div>\n<style scoped>\n    .dataframe tbody tr th:only-of-type {\n        vertical-align: middle;\n    }\n\n    .dataframe tbody tr th {\n        vertical-align: top;\n    }\n\n    .dataframe thead th {\n        text-align: right;\n    }\n</style>\n<table border=\"1\" class=\"dataframe\">\n  <thead>\n    <tr style=\"text-align: right;\">\n      <th></th>\n      <th>EPA</th>\n      <th>airEPA</th>\n      <th>yacEPA</th>\n      <th>Home_WP_pre</th>\n      <th>Away_WP_pre</th>\n      <th>Home_WP_post</th>\n      <th>Away_WP_post</th>\n      <th>Win_Prob</th>\n      <th>WPA</th>\n      <th>airWPA</th>\n      <th>yacWPA</th>\n      <th>Season</th>\n    </tr>\n  </thead>\n  <tbody>\n    <tr>\n      <th>0</th>\n      <td>2.014474</td>\n      <td>NaN</td>\n      <td>NaN</td>\n      <td>0.485675</td>\n      <td>0.514325</td>\n      <td>0.546433</td>\n      <td>0.453567</td>\n      <td>0.485675</td>\n      <td>0.060758</td>\n      <td>NaN</td>\n      <td>NaN</td>\n      <td>2009</td>\n    </tr>\n    <tr>\n      <th>1</th>\n      <td>0.077907</td>\n      <td>-1.068169</td>\n      <td>1.146076</td>\n      <td>0.546433</td>\n      <td>0.453567</td>\n      <td>0.551088</td>\n      <td>0.448912</td>\n      <td>0.546433</td>\n      <td>0.004655</td>\n      <td>-0.032244</td>\n      <td>0.036899</td>\n      <td>2009</td>\n    </tr>\n    <tr>\n      <th>2</th>\n      <td>-1.402760</td>\n      <td>NaN</td>\n      <td>NaN</td>\n      <td>0.551088</td>\n      <td>0.448912</td>\n      <td>0.510793</td>\n      <td>0.489207</td>\n      <td>0.551088</td>\n      <td>-0.040295</td>\n      <td>NaN</td>\n      <td>NaN</td>\n      <td>2009</td>\n    </tr>\n    <tr>\n      <th>3</th>\n      <td>-1.712583</td>\n      <td>3.318841</td>\n      <td>-5.031425</td>\n      <td>0.510793</td>\n      <td>0.489207</td>\n      <td>0.461217</td>\n      <td>0.538783</td>\n      <td>0.510793</td>\n      <td>-0.049576</td>\n      <td>0.106663</td>\n      <td>-0.156239</td>\n      <td>2009</td>\n    </tr>\n    <tr>\n      <th>4</th>\n      <td>2.097796</td>\n      <td>NaN</td>\n      <td>NaN</td>\n      <td>0.461217</td>\n      <td>0.538783</td>\n      <td>0.558929</td>\n      <td>0.441071</td>\n      <td>0.461217</td>\n      <td>0.097712</td>\n      <td>NaN</td>\n      <td>NaN</td>\n      <td>2009</td>\n    </tr>\n  </tbody>\n</table>\n</div>"
     },
     "execution_count": 23,
     "metadata": {},
     "output_type": "execute_result"
    }
   ],
   "source": [
    "subset_nfl_data = nfl_data.loc[:, 'EPA':'Season'].head()\n",
    "subset_nfl_data"
   ],
   "metadata": {
    "collapsed": false,
    "pycharm": {
     "name": "#%%\n"
    }
   }
  },
  {
   "cell_type": "code",
   "execution_count": 32,
   "outputs": [
    {
     "name": "stdout",
     "output_type": "stream",
     "text": [
      "0          Date\n",
      "1        GameID\n",
      "2         Drive\n",
      "3           qtr\n",
      "4          down\n",
      "         ...   \n",
      "97     Win_Prob\n",
      "98          WPA\n",
      "99       airWPA\n",
      "100      yacWPA\n",
      "101      Season\n",
      "Length: 102, dtype: object\n"
     ]
    }
   ],
   "source": [
    "from pprint import pprint\n",
    "pprint(pd.Series(nfl_data.columns))"
   ],
   "metadata": {
    "collapsed": false,
    "pycharm": {
     "name": "#%%\n"
    }
   }
  },
  {
   "cell_type": "code",
   "execution_count": 33,
   "outputs": [
    {
     "data": {
      "text/plain": "             WPA    airWPA    yacWPA  Season\n0       0.060758       NaN       NaN    2009\n1       0.004655 -0.032244  0.036899    2009\n2      -0.040295       NaN       NaN    2009\n3      -0.049576  0.106663 -0.156239    2009\n4       0.097712       NaN       NaN    2009\n...          ...       ...       ...     ...\n407683  0.000000       NaN       NaN    2017\n407684 -0.029931 -0.021795 -0.008136    2017\n407685 -0.019597 -0.030603  0.011006    2017\n407686  0.030881       NaN       NaN    2017\n407687  0.000000       NaN       NaN    2017\n\n[407688 rows x 4 columns]",
      "text/html": "<div>\n<style scoped>\n    .dataframe tbody tr th:only-of-type {\n        vertical-align: middle;\n    }\n\n    .dataframe tbody tr th {\n        vertical-align: top;\n    }\n\n    .dataframe thead th {\n        text-align: right;\n    }\n</style>\n<table border=\"1\" class=\"dataframe\">\n  <thead>\n    <tr style=\"text-align: right;\">\n      <th></th>\n      <th>WPA</th>\n      <th>airWPA</th>\n      <th>yacWPA</th>\n      <th>Season</th>\n    </tr>\n  </thead>\n  <tbody>\n    <tr>\n      <th>0</th>\n      <td>0.060758</td>\n      <td>NaN</td>\n      <td>NaN</td>\n      <td>2009</td>\n    </tr>\n    <tr>\n      <th>1</th>\n      <td>0.004655</td>\n      <td>-0.032244</td>\n      <td>0.036899</td>\n      <td>2009</td>\n    </tr>\n    <tr>\n      <th>2</th>\n      <td>-0.040295</td>\n      <td>NaN</td>\n      <td>NaN</td>\n      <td>2009</td>\n    </tr>\n    <tr>\n      <th>3</th>\n      <td>-0.049576</td>\n      <td>0.106663</td>\n      <td>-0.156239</td>\n      <td>2009</td>\n    </tr>\n    <tr>\n      <th>4</th>\n      <td>0.097712</td>\n      <td>NaN</td>\n      <td>NaN</td>\n      <td>2009</td>\n    </tr>\n    <tr>\n      <th>...</th>\n      <td>...</td>\n      <td>...</td>\n      <td>...</td>\n      <td>...</td>\n    </tr>\n    <tr>\n      <th>407683</th>\n      <td>0.000000</td>\n      <td>NaN</td>\n      <td>NaN</td>\n      <td>2017</td>\n    </tr>\n    <tr>\n      <th>407684</th>\n      <td>-0.029931</td>\n      <td>-0.021795</td>\n      <td>-0.008136</td>\n      <td>2017</td>\n    </tr>\n    <tr>\n      <th>407685</th>\n      <td>-0.019597</td>\n      <td>-0.030603</td>\n      <td>0.011006</td>\n      <td>2017</td>\n    </tr>\n    <tr>\n      <th>407686</th>\n      <td>0.030881</td>\n      <td>NaN</td>\n      <td>NaN</td>\n      <td>2017</td>\n    </tr>\n    <tr>\n      <th>407687</th>\n      <td>0.000000</td>\n      <td>NaN</td>\n      <td>NaN</td>\n      <td>2017</td>\n    </tr>\n  </tbody>\n</table>\n<p>407688 rows × 4 columns</p>\n</div>"
     },
     "execution_count": 33,
     "metadata": {},
     "output_type": "execute_result"
    }
   ],
   "source": [
    "nfl_data.iloc[:, 98:]"
   ],
   "metadata": {
    "collapsed": false,
    "pycharm": {
     "name": "#%%\n"
    }
   }
  },
  {
   "cell_type": "code",
   "execution_count": 34,
   "outputs": [
    {
     "data": {
      "text/plain": "90"
     },
     "execution_count": 34,
     "metadata": {},
     "output_type": "execute_result"
    }
   ],
   "source": [
    "nfl_data.columns.get_loc('EPA') # get column index by name"
   ],
   "metadata": {
    "collapsed": false,
    "pycharm": {
     "name": "#%%\n"
    }
   }
  },
  {
   "cell_type": "code",
   "execution_count": 66,
   "outputs": [
    {
     "name": "stdout",
     "output_type": "stream",
     "text": [
      "\n",
      ": boolean\n",
      "    use_inf_as_null had been deprecated and will be removed in a future\n",
      "    version. Use `use_inf_as_na` instead.\n",
      "\n"
     ]
    },
    {
     "name": "stderr",
     "output_type": "stream",
     "text": [
      "/Users/dravik/PycharmProjects/JupyterPycharm/lib/python3.8/site-packages/pandas/_config/config.py:622: FutureWarning: \n",
      ": boolean\n",
      "    use_inf_as_null had been deprecated and will be removed in a future\n",
      "    version. Use `use_inf_as_na` instead.\n",
      "\n",
      "  warnings.warn(d.msg, FutureWarning)\n"
     ]
    },
    {
     "data": {
      "text/plain": "            0\n0        Date\n1      GameID\n2       Drive\n3         qtr\n4        down\n..        ...\n97   Win_Prob\n98        WPA\n99     airWPA\n100    yacWPA\n101    Season\n\n[102 rows x 1 columns]",
      "text/html": "<div>\n<style scoped>\n    .dataframe tbody tr th:only-of-type {\n        vertical-align: middle;\n    }\n\n    .dataframe tbody tr th {\n        vertical-align: top;\n    }\n\n    .dataframe thead th {\n        text-align: right;\n    }\n</style>\n<table border=\"1\" class=\"dataframe\">\n  <thead>\n    <tr style=\"text-align: right;\">\n      <th></th>\n      <th>0</th>\n    </tr>\n  </thead>\n  <tbody>\n    <tr>\n      <th>0</th>\n      <td>Date</td>\n    </tr>\n    <tr>\n      <th>1</th>\n      <td>GameID</td>\n    </tr>\n    <tr>\n      <th>2</th>\n      <td>Drive</td>\n    </tr>\n    <tr>\n      <th>3</th>\n      <td>qtr</td>\n    </tr>\n    <tr>\n      <th>4</th>\n      <td>down</td>\n    </tr>\n    <tr>\n      <th>...</th>\n      <td>...</td>\n    </tr>\n    <tr>\n      <th>97</th>\n      <td>Win_Prob</td>\n    </tr>\n    <tr>\n      <th>98</th>\n      <td>WPA</td>\n    </tr>\n    <tr>\n      <th>99</th>\n      <td>airWPA</td>\n    </tr>\n    <tr>\n      <th>100</th>\n      <td>yacWPA</td>\n    </tr>\n    <tr>\n      <th>101</th>\n      <td>Season</td>\n    </tr>\n  </tbody>\n</table>\n<p>102 rows × 1 columns</p>\n</div>"
     },
     "execution_count": 66,
     "metadata": {},
     "output_type": "execute_result"
    }
   ],
   "source": [
    "# pd.reset_option('all')\n",
    "# pd.options.display.max_columns = 300\n",
    "# pd.options.display.max_rows = 300\n",
    "pd.reset_option('all')\n",
    "pd.DataFrame(nfl_data.columns.values)\n",
    "\n"
   ],
   "metadata": {
    "collapsed": false,
    "pycharm": {
     "name": "#%%\n"
    }
   }
  },
  {
   "cell_type": "code",
   "execution_count": 67,
   "outputs": [
    {
     "data": {
      "text/plain": "        EPA    airEPA    yacEPA  Home_WP_pre  Away_WP_pre  Home_WP_post  \\\n0  2.014474  0.000000  0.000000     0.485675     0.514325      0.546433   \n1  0.077907 -1.068169  1.146076     0.546433     0.453567      0.551088   \n2 -1.402760  0.000000  0.000000     0.551088     0.448912      0.510793   \n3 -1.712583  3.318841 -5.031425     0.510793     0.489207      0.461217   \n4  2.097796  0.000000  0.000000     0.461217     0.538783      0.558929   \n\n   Away_WP_post  Win_Prob       WPA    airWPA    yacWPA  Season  \n0      0.453567  0.485675  0.060758  0.000000  0.000000    2009  \n1      0.448912  0.546433  0.004655 -0.032244  0.036899    2009  \n2      0.489207  0.551088 -0.040295  0.000000  0.000000    2009  \n3      0.538783  0.510793 -0.049576  0.106663 -0.156239    2009  \n4      0.441071  0.461217  0.097712  0.000000  0.000000    2009  ",
      "text/html": "<div>\n<style scoped>\n    .dataframe tbody tr th:only-of-type {\n        vertical-align: middle;\n    }\n\n    .dataframe tbody tr th {\n        vertical-align: top;\n    }\n\n    .dataframe thead th {\n        text-align: right;\n    }\n</style>\n<table border=\"1\" class=\"dataframe\">\n  <thead>\n    <tr style=\"text-align: right;\">\n      <th></th>\n      <th>EPA</th>\n      <th>airEPA</th>\n      <th>yacEPA</th>\n      <th>Home_WP_pre</th>\n      <th>Away_WP_pre</th>\n      <th>Home_WP_post</th>\n      <th>Away_WP_post</th>\n      <th>Win_Prob</th>\n      <th>WPA</th>\n      <th>airWPA</th>\n      <th>yacWPA</th>\n      <th>Season</th>\n    </tr>\n  </thead>\n  <tbody>\n    <tr>\n      <th>0</th>\n      <td>2.014474</td>\n      <td>0.000000</td>\n      <td>0.000000</td>\n      <td>0.485675</td>\n      <td>0.514325</td>\n      <td>0.546433</td>\n      <td>0.453567</td>\n      <td>0.485675</td>\n      <td>0.060758</td>\n      <td>0.000000</td>\n      <td>0.000000</td>\n      <td>2009</td>\n    </tr>\n    <tr>\n      <th>1</th>\n      <td>0.077907</td>\n      <td>-1.068169</td>\n      <td>1.146076</td>\n      <td>0.546433</td>\n      <td>0.453567</td>\n      <td>0.551088</td>\n      <td>0.448912</td>\n      <td>0.546433</td>\n      <td>0.004655</td>\n      <td>-0.032244</td>\n      <td>0.036899</td>\n      <td>2009</td>\n    </tr>\n    <tr>\n      <th>2</th>\n      <td>-1.402760</td>\n      <td>0.000000</td>\n      <td>0.000000</td>\n      <td>0.551088</td>\n      <td>0.448912</td>\n      <td>0.510793</td>\n      <td>0.489207</td>\n      <td>0.551088</td>\n      <td>-0.040295</td>\n      <td>0.000000</td>\n      <td>0.000000</td>\n      <td>2009</td>\n    </tr>\n    <tr>\n      <th>3</th>\n      <td>-1.712583</td>\n      <td>3.318841</td>\n      <td>-5.031425</td>\n      <td>0.510793</td>\n      <td>0.489207</td>\n      <td>0.461217</td>\n      <td>0.538783</td>\n      <td>0.510793</td>\n      <td>-0.049576</td>\n      <td>0.106663</td>\n      <td>-0.156239</td>\n      <td>2009</td>\n    </tr>\n    <tr>\n      <th>4</th>\n      <td>2.097796</td>\n      <td>0.000000</td>\n      <td>0.000000</td>\n      <td>0.461217</td>\n      <td>0.538783</td>\n      <td>0.558929</td>\n      <td>0.441071</td>\n      <td>0.461217</td>\n      <td>0.097712</td>\n      <td>0.000000</td>\n      <td>0.000000</td>\n      <td>2009</td>\n    </tr>\n  </tbody>\n</table>\n</div>"
     },
     "execution_count": 67,
     "metadata": {},
     "output_type": "execute_result"
    }
   ],
   "source": [
    "subset_nfl_data.fillna(0)"
   ],
   "metadata": {
    "collapsed": false,
    "pycharm": {
     "name": "#%%\n"
    }
   }
  },
  {
   "cell_type": "code",
   "execution_count": 69,
   "outputs": [
    {
     "data": {
      "text/plain": "        EPA    airEPA    yacEPA  Home_WP_pre  Away_WP_pre  Home_WP_post  \\\n0  2.014474 -1.068169  1.146076     0.485675     0.514325      0.546433   \n1  0.077907 -1.068169  1.146076     0.546433     0.453567      0.551088   \n2 -1.402760  3.318841 -5.031425     0.551088     0.448912      0.510793   \n3 -1.712583  3.318841 -5.031425     0.510793     0.489207      0.461217   \n4  2.097796  0.000000  0.000000     0.461217     0.538783      0.558929   \n\n   Away_WP_post  Win_Prob       WPA    airWPA    yacWPA  Season  \n0      0.453567  0.485675  0.060758 -0.032244  0.036899    2009  \n1      0.448912  0.546433  0.004655 -0.032244  0.036899    2009  \n2      0.489207  0.551088 -0.040295  0.106663 -0.156239    2009  \n3      0.538783  0.510793 -0.049576  0.106663 -0.156239    2009  \n4      0.441071  0.461217  0.097712  0.000000  0.000000    2009  ",
      "text/html": "<div>\n<style scoped>\n    .dataframe tbody tr th:only-of-type {\n        vertical-align: middle;\n    }\n\n    .dataframe tbody tr th {\n        vertical-align: top;\n    }\n\n    .dataframe thead th {\n        text-align: right;\n    }\n</style>\n<table border=\"1\" class=\"dataframe\">\n  <thead>\n    <tr style=\"text-align: right;\">\n      <th></th>\n      <th>EPA</th>\n      <th>airEPA</th>\n      <th>yacEPA</th>\n      <th>Home_WP_pre</th>\n      <th>Away_WP_pre</th>\n      <th>Home_WP_post</th>\n      <th>Away_WP_post</th>\n      <th>Win_Prob</th>\n      <th>WPA</th>\n      <th>airWPA</th>\n      <th>yacWPA</th>\n      <th>Season</th>\n    </tr>\n  </thead>\n  <tbody>\n    <tr>\n      <th>0</th>\n      <td>2.014474</td>\n      <td>-1.068169</td>\n      <td>1.146076</td>\n      <td>0.485675</td>\n      <td>0.514325</td>\n      <td>0.546433</td>\n      <td>0.453567</td>\n      <td>0.485675</td>\n      <td>0.060758</td>\n      <td>-0.032244</td>\n      <td>0.036899</td>\n      <td>2009</td>\n    </tr>\n    <tr>\n      <th>1</th>\n      <td>0.077907</td>\n      <td>-1.068169</td>\n      <td>1.146076</td>\n      <td>0.546433</td>\n      <td>0.453567</td>\n      <td>0.551088</td>\n      <td>0.448912</td>\n      <td>0.546433</td>\n      <td>0.004655</td>\n      <td>-0.032244</td>\n      <td>0.036899</td>\n      <td>2009</td>\n    </tr>\n    <tr>\n      <th>2</th>\n      <td>-1.402760</td>\n      <td>3.318841</td>\n      <td>-5.031425</td>\n      <td>0.551088</td>\n      <td>0.448912</td>\n      <td>0.510793</td>\n      <td>0.489207</td>\n      <td>0.551088</td>\n      <td>-0.040295</td>\n      <td>0.106663</td>\n      <td>-0.156239</td>\n      <td>2009</td>\n    </tr>\n    <tr>\n      <th>3</th>\n      <td>-1.712583</td>\n      <td>3.318841</td>\n      <td>-5.031425</td>\n      <td>0.510793</td>\n      <td>0.489207</td>\n      <td>0.461217</td>\n      <td>0.538783</td>\n      <td>0.510793</td>\n      <td>-0.049576</td>\n      <td>0.106663</td>\n      <td>-0.156239</td>\n      <td>2009</td>\n    </tr>\n    <tr>\n      <th>4</th>\n      <td>2.097796</td>\n      <td>0.000000</td>\n      <td>0.000000</td>\n      <td>0.461217</td>\n      <td>0.538783</td>\n      <td>0.558929</td>\n      <td>0.441071</td>\n      <td>0.461217</td>\n      <td>0.097712</td>\n      <td>0.000000</td>\n      <td>0.000000</td>\n      <td>2009</td>\n    </tr>\n  </tbody>\n</table>\n</div>"
     },
     "execution_count": 69,
     "metadata": {},
     "output_type": "execute_result"
    }
   ],
   "source": [
    "subset_nfl_data.fillna(method='bfill', axis=0).fillna(0)"
   ],
   "metadata": {
    "collapsed": false,
    "pycharm": {
     "name": "#%%\n"
    }
   }
  },
  {
   "cell_type": "code",
   "execution_count": null,
   "outputs": [],
   "source": [],
   "metadata": {
    "collapsed": false,
    "pycharm": {
     "name": "#%%\n"
    }
   }
  }
 ],
 "metadata": {
  "kernelspec": {
   "display_name": "Python 3",
   "language": "python",
   "name": "python3"
  },
  "language_info": {
   "codemirror_mode": {
    "name": "ipython",
    "version": 2
   },
   "file_extension": ".py",
   "mimetype": "text/x-python",
   "name": "python",
   "nbconvert_exporter": "python",
   "pygments_lexer": "ipython2",
   "version": "2.7.6"
  }
 },
 "nbformat": 4,
 "nbformat_minor": 0
}
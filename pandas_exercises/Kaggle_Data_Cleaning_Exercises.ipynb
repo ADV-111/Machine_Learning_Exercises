{
 "cells": [
  {
   "cell_type": "code",
   "execution_count": 5,
   "metadata": {
    "collapsed": true
   },
   "outputs": [],
   "source": [
    "# Warm up\n",
    "# Data cleaning is a key part of data science, but it can be deeply frustrating. Why are some of your text fields\n",
    "# garbled? What should you do about those missing values? Why aren't your dates formatted correctly? How ca you\n",
    "# quickly clean up inconsistent data entry? In this course, you'll learn why you've run into these problems and,\n",
    "# more importantly, how to fix them!\n",
    "\n",
    "# In this course, you'll learn how to tackle some of the most common data cleaning problems so you can get to\n",
    "# actually analyzing your data faster. You'll work through five hands-on exercises with real, messy data and\n",
    "# answer some of your most commonly-asked data cleaning questions\n"
   ]
  },
  {
   "cell_type": "code",
   "execution_count": 1,
   "outputs": [],
   "source": [
    "import pandas as pd\n",
    "import numpy as np\n"
   ],
   "metadata": {
    "collapsed": false,
    "pycharm": {
     "name": "#%%\n"
    }
   }
  },
  {
   "cell_type": "code",
   "execution_count": 7,
   "outputs": [
    {
     "name": "stderr",
     "output_type": "stream",
     "text": [
      "/Users/dravik/PycharmProjects/JupyterPycharm/lib/python3.8/site-packages/IPython/core/interactiveshell.py:3145: DtypeWarning: Columns (25,51) have mixed types.Specify dtype option on import or set low_memory=False.\n",
      "  has_raised = await self.run_ast_nodes(code_ast.body, cell_name,\n"
     ]
    }
   ],
   "source": [
    "DATA_URL = '/Users/dravik/Downloads/NFL Play by Play 2009-2017 (v4).csv'\n",
    "nfl_data = pd.read_csv(DATA_URL)"
   ],
   "metadata": {
    "collapsed": false,
    "pycharm": {
     "name": "#%%\n"
    }
   }
  },
  {
   "cell_type": "code",
   "execution_count": 9,
   "outputs": [
    {
     "data": {
      "text/plain": "             GameID          Drive            qtr           down  \\\ncount  4.076880e+05  407688.000000  407688.000000  346534.000000   \nmean   2.013158e+09      12.316158       2.577412       2.002476   \nstd    2.572839e+06       7.149527       1.129750       1.006353   \nmin    2.009091e+09       1.000000       1.000000       1.000000   \n25%    2.011101e+09       6.000000       2.000000       1.000000   \n50%    2.013111e+09      12.000000       3.000000       2.000000   \n75%    2.015121e+09      18.000000       4.000000       3.000000   \nmax    2.017123e+09      35.000000       5.000000       4.000000   \n\n           TimeUnder       TimeSecs   PlayTimeDiff          yrdln  \\\ncount  407688.000000  407464.000000  407244.000000  406848.000000   \nmean        7.374200    1695.268944      20.576762      28.488327   \nstd         4.642388    1062.801012      17.969326      12.946471   \nmin         0.000000    -900.000000       0.000000       1.000000   \n25%         3.000000     778.000000       5.000000      20.000000   \n50%         7.000000    1800.000000      17.000000      30.000000   \n75%        11.000000    2585.000000      37.000000      39.000000   \nmax        15.000000    3600.000000     943.000000      50.000000   \n\n          yrdline100        ydstogo  ...         yacEPA    Home_WP_pre  \\\ncount  406848.000000  407688.000000  ...  159190.000000  382734.000000   \nmean       48.644081       7.309403  ...      -0.386086       0.534488   \nstd        25.070416       4.869987  ...       1.972715       0.285574   \nmin         1.000000       0.000000  ...     -14.000000       0.000000   \n25%        30.000000       3.000000  ...      -0.961115       0.325123   \n50%        49.000000       9.000000  ...       0.000000       0.531274   \n75%        70.000000      10.000000  ...       0.485508       0.769232   \nmax        99.000000      50.000000  ...       9.559834       1.000000   \n\n         Away_WP_pre   Home_WP_post   Away_WP_post       Win_Prob  \\\ncount  382734.000000  381101.000000  381101.000000  382679.000000   \nmean        0.465965       0.534791       0.465613       0.501320   \nstd         0.285629       0.287818       0.287867       0.287445   \nmin         0.000000       0.000000       0.000000       0.000000   \n25%         0.231411       0.321701       0.227694       0.276472   \n50%         0.469052       0.533609       0.466670       0.504470   \n75%         0.675530       0.772882       0.678833       0.725477   \nmax         1.000000       1.000000       1.000000       1.000000   \n\n                 WPA         airWPA         yacWPA         Season  \ncount  402147.000000  159187.000000  158926.000000  407688.000000  \nmean        0.002099       0.015135      -0.010480    2013.018985  \nstd         0.045363       0.056490       0.068139       2.576962  \nmin        -0.997214      -0.999881      -0.986673    2009.000000  \n25%        -0.014728      -0.011518      -0.018683    2011.000000  \n50%         0.000000       0.003441       0.000000    2013.000000  \n75%         0.014684       0.035792       0.011431    2015.000000  \nmax         0.994848       0.994848       1.000000    2017.000000  \n\n[8 rows x 64 columns]",
      "text/html": "<div>\n<style scoped>\n    .dataframe tbody tr th:only-of-type {\n        vertical-align: middle;\n    }\n\n    .dataframe tbody tr th {\n        vertical-align: top;\n    }\n\n    .dataframe thead th {\n        text-align: right;\n    }\n</style>\n<table border=\"1\" class=\"dataframe\">\n  <thead>\n    <tr style=\"text-align: right;\">\n      <th></th>\n      <th>GameID</th>\n      <th>Drive</th>\n      <th>qtr</th>\n      <th>down</th>\n      <th>TimeUnder</th>\n      <th>TimeSecs</th>\n      <th>PlayTimeDiff</th>\n      <th>yrdln</th>\n      <th>yrdline100</th>\n      <th>ydstogo</th>\n      <th>...</th>\n      <th>yacEPA</th>\n      <th>Home_WP_pre</th>\n      <th>Away_WP_pre</th>\n      <th>Home_WP_post</th>\n      <th>Away_WP_post</th>\n      <th>Win_Prob</th>\n      <th>WPA</th>\n      <th>airWPA</th>\n      <th>yacWPA</th>\n      <th>Season</th>\n    </tr>\n  </thead>\n  <tbody>\n    <tr>\n      <th>count</th>\n      <td>4.076880e+05</td>\n      <td>407688.000000</td>\n      <td>407688.000000</td>\n      <td>346534.000000</td>\n      <td>407688.000000</td>\n      <td>407464.000000</td>\n      <td>407244.000000</td>\n      <td>406848.000000</td>\n      <td>406848.000000</td>\n      <td>407688.000000</td>\n      <td>...</td>\n      <td>159190.000000</td>\n      <td>382734.000000</td>\n      <td>382734.000000</td>\n      <td>381101.000000</td>\n      <td>381101.000000</td>\n      <td>382679.000000</td>\n      <td>402147.000000</td>\n      <td>159187.000000</td>\n      <td>158926.000000</td>\n      <td>407688.000000</td>\n    </tr>\n    <tr>\n      <th>mean</th>\n      <td>2.013158e+09</td>\n      <td>12.316158</td>\n      <td>2.577412</td>\n      <td>2.002476</td>\n      <td>7.374200</td>\n      <td>1695.268944</td>\n      <td>20.576762</td>\n      <td>28.488327</td>\n      <td>48.644081</td>\n      <td>7.309403</td>\n      <td>...</td>\n      <td>-0.386086</td>\n      <td>0.534488</td>\n      <td>0.465965</td>\n      <td>0.534791</td>\n      <td>0.465613</td>\n      <td>0.501320</td>\n      <td>0.002099</td>\n      <td>0.015135</td>\n      <td>-0.010480</td>\n      <td>2013.018985</td>\n    </tr>\n    <tr>\n      <th>std</th>\n      <td>2.572839e+06</td>\n      <td>7.149527</td>\n      <td>1.129750</td>\n      <td>1.006353</td>\n      <td>4.642388</td>\n      <td>1062.801012</td>\n      <td>17.969326</td>\n      <td>12.946471</td>\n      <td>25.070416</td>\n      <td>4.869987</td>\n      <td>...</td>\n      <td>1.972715</td>\n      <td>0.285574</td>\n      <td>0.285629</td>\n      <td>0.287818</td>\n      <td>0.287867</td>\n      <td>0.287445</td>\n      <td>0.045363</td>\n      <td>0.056490</td>\n      <td>0.068139</td>\n      <td>2.576962</td>\n    </tr>\n    <tr>\n      <th>min</th>\n      <td>2.009091e+09</td>\n      <td>1.000000</td>\n      <td>1.000000</td>\n      <td>1.000000</td>\n      <td>0.000000</td>\n      <td>-900.000000</td>\n      <td>0.000000</td>\n      <td>1.000000</td>\n      <td>1.000000</td>\n      <td>0.000000</td>\n      <td>...</td>\n      <td>-14.000000</td>\n      <td>0.000000</td>\n      <td>0.000000</td>\n      <td>0.000000</td>\n      <td>0.000000</td>\n      <td>0.000000</td>\n      <td>-0.997214</td>\n      <td>-0.999881</td>\n      <td>-0.986673</td>\n      <td>2009.000000</td>\n    </tr>\n    <tr>\n      <th>25%</th>\n      <td>2.011101e+09</td>\n      <td>6.000000</td>\n      <td>2.000000</td>\n      <td>1.000000</td>\n      <td>3.000000</td>\n      <td>778.000000</td>\n      <td>5.000000</td>\n      <td>20.000000</td>\n      <td>30.000000</td>\n      <td>3.000000</td>\n      <td>...</td>\n      <td>-0.961115</td>\n      <td>0.325123</td>\n      <td>0.231411</td>\n      <td>0.321701</td>\n      <td>0.227694</td>\n      <td>0.276472</td>\n      <td>-0.014728</td>\n      <td>-0.011518</td>\n      <td>-0.018683</td>\n      <td>2011.000000</td>\n    </tr>\n    <tr>\n      <th>50%</th>\n      <td>2.013111e+09</td>\n      <td>12.000000</td>\n      <td>3.000000</td>\n      <td>2.000000</td>\n      <td>7.000000</td>\n      <td>1800.000000</td>\n      <td>17.000000</td>\n      <td>30.000000</td>\n      <td>49.000000</td>\n      <td>9.000000</td>\n      <td>...</td>\n      <td>0.000000</td>\n      <td>0.531274</td>\n      <td>0.469052</td>\n      <td>0.533609</td>\n      <td>0.466670</td>\n      <td>0.504470</td>\n      <td>0.000000</td>\n      <td>0.003441</td>\n      <td>0.000000</td>\n      <td>2013.000000</td>\n    </tr>\n    <tr>\n      <th>75%</th>\n      <td>2.015121e+09</td>\n      <td>18.000000</td>\n      <td>4.000000</td>\n      <td>3.000000</td>\n      <td>11.000000</td>\n      <td>2585.000000</td>\n      <td>37.000000</td>\n      <td>39.000000</td>\n      <td>70.000000</td>\n      <td>10.000000</td>\n      <td>...</td>\n      <td>0.485508</td>\n      <td>0.769232</td>\n      <td>0.675530</td>\n      <td>0.772882</td>\n      <td>0.678833</td>\n      <td>0.725477</td>\n      <td>0.014684</td>\n      <td>0.035792</td>\n      <td>0.011431</td>\n      <td>2015.000000</td>\n    </tr>\n    <tr>\n      <th>max</th>\n      <td>2.017123e+09</td>\n      <td>35.000000</td>\n      <td>5.000000</td>\n      <td>4.000000</td>\n      <td>15.000000</td>\n      <td>3600.000000</td>\n      <td>943.000000</td>\n      <td>50.000000</td>\n      <td>99.000000</td>\n      <td>50.000000</td>\n      <td>...</td>\n      <td>9.559834</td>\n      <td>1.000000</td>\n      <td>1.000000</td>\n      <td>1.000000</td>\n      <td>1.000000</td>\n      <td>1.000000</td>\n      <td>0.994848</td>\n      <td>0.994848</td>\n      <td>1.000000</td>\n      <td>2017.000000</td>\n    </tr>\n  </tbody>\n</table>\n<p>8 rows × 64 columns</p>\n</div>"
     },
     "execution_count": 9,
     "metadata": {},
     "output_type": "execute_result"
    }
   ],
   "source": [
    "nfl_data.describe()"
   ],
   "metadata": {
    "collapsed": false,
    "pycharm": {
     "name": "#%%\n"
    }
   }
  },
  {
   "cell_type": "code",
   "execution_count": 10,
   "outputs": [],
   "source": [
    "np.random.seed(0)\n"
   ],
   "metadata": {
    "collapsed": false,
    "pycharm": {
     "name": "#%%\n"
    }
   }
  },
  {
   "cell_type": "code",
   "execution_count": 11,
   "outputs": [
    {
     "data": {
      "text/plain": "         Date      GameID  Drive  qtr  down   time  TimeUnder  TimeSecs  \\\n0  2009-09-10  2009091000      1    1   NaN  15:00         15    3600.0   \n1  2009-09-10  2009091000      1    1   1.0  14:53         15    3593.0   \n2  2009-09-10  2009091000      1    1   2.0  14:16         15    3556.0   \n3  2009-09-10  2009091000      1    1   3.0  13:35         14    3515.0   \n4  2009-09-10  2009091000      1    1   4.0  13:27         14    3507.0   \n\n   PlayTimeDiff SideofField  ...    yacEPA  Home_WP_pre  Away_WP_pre  \\\n0           0.0         TEN  ...       NaN     0.485675     0.514325   \n1           7.0         PIT  ...  1.146076     0.546433     0.453567   \n2          37.0         PIT  ...       NaN     0.551088     0.448912   \n3          41.0         PIT  ... -5.031425     0.510793     0.489207   \n4           8.0         PIT  ...       NaN     0.461217     0.538783   \n\n   Home_WP_post  Away_WP_post  Win_Prob       WPA    airWPA    yacWPA  Season  \n0      0.546433      0.453567  0.485675  0.060758       NaN       NaN    2009  \n1      0.551088      0.448912  0.546433  0.004655 -0.032244  0.036899    2009  \n2      0.510793      0.489207  0.551088 -0.040295       NaN       NaN    2009  \n3      0.461217      0.538783  0.510793 -0.049576  0.106663 -0.156239    2009  \n4      0.558929      0.441071  0.461217  0.097712       NaN       NaN    2009  \n\n[5 rows x 102 columns]",
      "text/html": "<div>\n<style scoped>\n    .dataframe tbody tr th:only-of-type {\n        vertical-align: middle;\n    }\n\n    .dataframe tbody tr th {\n        vertical-align: top;\n    }\n\n    .dataframe thead th {\n        text-align: right;\n    }\n</style>\n<table border=\"1\" class=\"dataframe\">\n  <thead>\n    <tr style=\"text-align: right;\">\n      <th></th>\n      <th>Date</th>\n      <th>GameID</th>\n      <th>Drive</th>\n      <th>qtr</th>\n      <th>down</th>\n      <th>time</th>\n      <th>TimeUnder</th>\n      <th>TimeSecs</th>\n      <th>PlayTimeDiff</th>\n      <th>SideofField</th>\n      <th>...</th>\n      <th>yacEPA</th>\n      <th>Home_WP_pre</th>\n      <th>Away_WP_pre</th>\n      <th>Home_WP_post</th>\n      <th>Away_WP_post</th>\n      <th>Win_Prob</th>\n      <th>WPA</th>\n      <th>airWPA</th>\n      <th>yacWPA</th>\n      <th>Season</th>\n    </tr>\n  </thead>\n  <tbody>\n    <tr>\n      <th>0</th>\n      <td>2009-09-10</td>\n      <td>2009091000</td>\n      <td>1</td>\n      <td>1</td>\n      <td>NaN</td>\n      <td>15:00</td>\n      <td>15</td>\n      <td>3600.0</td>\n      <td>0.0</td>\n      <td>TEN</td>\n      <td>...</td>\n      <td>NaN</td>\n      <td>0.485675</td>\n      <td>0.514325</td>\n      <td>0.546433</td>\n      <td>0.453567</td>\n      <td>0.485675</td>\n      <td>0.060758</td>\n      <td>NaN</td>\n      <td>NaN</td>\n      <td>2009</td>\n    </tr>\n    <tr>\n      <th>1</th>\n      <td>2009-09-10</td>\n      <td>2009091000</td>\n      <td>1</td>\n      <td>1</td>\n      <td>1.0</td>\n      <td>14:53</td>\n      <td>15</td>\n      <td>3593.0</td>\n      <td>7.0</td>\n      <td>PIT</td>\n      <td>...</td>\n      <td>1.146076</td>\n      <td>0.546433</td>\n      <td>0.453567</td>\n      <td>0.551088</td>\n      <td>0.448912</td>\n      <td>0.546433</td>\n      <td>0.004655</td>\n      <td>-0.032244</td>\n      <td>0.036899</td>\n      <td>2009</td>\n    </tr>\n    <tr>\n      <th>2</th>\n      <td>2009-09-10</td>\n      <td>2009091000</td>\n      <td>1</td>\n      <td>1</td>\n      <td>2.0</td>\n      <td>14:16</td>\n      <td>15</td>\n      <td>3556.0</td>\n      <td>37.0</td>\n      <td>PIT</td>\n      <td>...</td>\n      <td>NaN</td>\n      <td>0.551088</td>\n      <td>0.448912</td>\n      <td>0.510793</td>\n      <td>0.489207</td>\n      <td>0.551088</td>\n      <td>-0.040295</td>\n      <td>NaN</td>\n      <td>NaN</td>\n      <td>2009</td>\n    </tr>\n    <tr>\n      <th>3</th>\n      <td>2009-09-10</td>\n      <td>2009091000</td>\n      <td>1</td>\n      <td>1</td>\n      <td>3.0</td>\n      <td>13:35</td>\n      <td>14</td>\n      <td>3515.0</td>\n      <td>41.0</td>\n      <td>PIT</td>\n      <td>...</td>\n      <td>-5.031425</td>\n      <td>0.510793</td>\n      <td>0.489207</td>\n      <td>0.461217</td>\n      <td>0.538783</td>\n      <td>0.510793</td>\n      <td>-0.049576</td>\n      <td>0.106663</td>\n      <td>-0.156239</td>\n      <td>2009</td>\n    </tr>\n    <tr>\n      <th>4</th>\n      <td>2009-09-10</td>\n      <td>2009091000</td>\n      <td>1</td>\n      <td>1</td>\n      <td>4.0</td>\n      <td>13:27</td>\n      <td>14</td>\n      <td>3507.0</td>\n      <td>8.0</td>\n      <td>PIT</td>\n      <td>...</td>\n      <td>NaN</td>\n      <td>0.461217</td>\n      <td>0.538783</td>\n      <td>0.558929</td>\n      <td>0.441071</td>\n      <td>0.461217</td>\n      <td>0.097712</td>\n      <td>NaN</td>\n      <td>NaN</td>\n      <td>2009</td>\n    </tr>\n  </tbody>\n</table>\n<p>5 rows × 102 columns</p>\n</div>"
     },
     "execution_count": 11,
     "metadata": {},
     "output_type": "execute_result"
    }
   ],
   "source": [
    "nfl_data.head()"
   ],
   "metadata": {
    "collapsed": false,
    "pycharm": {
     "name": "#%%\n"
    }
   }
  },
  {
   "cell_type": "code",
   "execution_count": 12,
   "outputs": [
    {
     "data": {
      "text/plain": "Date                0\nGameID              0\nDrive               0\nqtr                 0\ndown            61154\ntime              224\nTimeUnder           0\nTimeSecs          224\nPlayTimeDiff      444\nSideofField       528\ndtype: int64"
     },
     "execution_count": 12,
     "metadata": {},
     "output_type": "execute_result"
    }
   ],
   "source": [
    "missing_values_count = nfl_data.isnull().sum() # sums only columns\n",
    "missing_values_count[0:10]"
   ],
   "metadata": {
    "collapsed": false,
    "pycharm": {
     "name": "#%%\n"
    }
   }
  },
  {
   "cell_type": "code",
   "execution_count": 13,
   "outputs": [
    {
     "data": {
      "text/plain": "Date             0\nGameID           0\nDrive            0\nqtr              0\ndown         61154\n             ...  \nWin_Prob     25009\nWPA           5541\nairWPA      248501\nyacWPA      248762\nSeason           0\nLength: 102, dtype: int64"
     },
     "execution_count": 13,
     "metadata": {},
     "output_type": "execute_result"
    }
   ],
   "source": [
    "missing_values_count"
   ],
   "metadata": {
    "collapsed": false,
    "pycharm": {
     "name": "#%%\n"
    }
   }
  },
  {
   "cell_type": "code",
   "execution_count": 14,
   "outputs": [],
   "source": [
    "# how many total missing values do we have?\n",
    "total_cells = np.product(nfl_data.shape)\n",
    "total_missing = missing_values_count.sum() # sums all missing values in all columns"
   ],
   "metadata": {
    "collapsed": false,
    "pycharm": {
     "name": "#%%\n"
    }
   }
  },
  {
   "cell_type": "code",
   "execution_count": 15,
   "outputs": [
    {
     "name": "stdout",
     "output_type": "stream",
     "text": [
      "24.87214126835169\n"
     ]
    }
   ],
   "source": [
    "percent_missing = (total_missing / total_cells) * 100\n",
    "print(percent_missing)"
   ],
   "metadata": {
    "collapsed": false,
    "pycharm": {
     "name": "#%%\n"
    }
   }
  },
  {
   "cell_type": "code",
   "execution_count": 16,
   "outputs": [
    {
     "data": {
      "text/plain": "Empty DataFrame\nColumns: [Date, GameID, Drive, qtr, down, time, TimeUnder, TimeSecs, PlayTimeDiff, SideofField, yrdln, yrdline100, ydstogo, ydsnet, GoalToGo, FirstDown, posteam, DefensiveTeam, desc, PlayAttempted, Yards.Gained, sp, Touchdown, ExPointResult, TwoPointConv, DefTwoPoint, Safety, Onsidekick, PuntResult, PlayType, Passer, Passer_ID, PassAttempt, PassOutcome, PassLength, AirYards, YardsAfterCatch, QBHit, PassLocation, InterceptionThrown, Interceptor, Rusher, Rusher_ID, RushAttempt, RunLocation, RunGap, Receiver, Receiver_ID, Reception, ReturnResult, Returner, BlockingPlayer, Tackler1, Tackler2, FieldGoalResult, FieldGoalDistance, Fumble, RecFumbTeam, RecFumbPlayer, Sack, Challenge.Replay, ChalReplayResult, Accepted.Penalty, PenalizedTeam, PenaltyType, PenalizedPlayer, Penalty.Yards, PosTeamScore, DefTeamScore, ScoreDiff, AbsScoreDiff, HomeTeam, AwayTeam, Timeout_Indicator, Timeout_Team, posteam_timeouts_pre, HomeTimeouts_Remaining_Pre, AwayTimeouts_Remaining_Pre, HomeTimeouts_Remaining_Post, AwayTimeouts_Remaining_Post, No_Score_Prob, Opp_Field_Goal_Prob, Opp_Safety_Prob, Opp_Touchdown_Prob, Field_Goal_Prob, Safety_Prob, Touchdown_Prob, ExPoint_Prob, TwoPoint_Prob, ExpPts, EPA, airEPA, yacEPA, Home_WP_pre, Away_WP_pre, Home_WP_post, Away_WP_post, Win_Prob, WPA, airWPA, ...]\nIndex: []\n\n[0 rows x 102 columns]",
      "text/html": "<div>\n<style scoped>\n    .dataframe tbody tr th:only-of-type {\n        vertical-align: middle;\n    }\n\n    .dataframe tbody tr th {\n        vertical-align: top;\n    }\n\n    .dataframe thead th {\n        text-align: right;\n    }\n</style>\n<table border=\"1\" class=\"dataframe\">\n  <thead>\n    <tr style=\"text-align: right;\">\n      <th></th>\n      <th>Date</th>\n      <th>GameID</th>\n      <th>Drive</th>\n      <th>qtr</th>\n      <th>down</th>\n      <th>time</th>\n      <th>TimeUnder</th>\n      <th>TimeSecs</th>\n      <th>PlayTimeDiff</th>\n      <th>SideofField</th>\n      <th>...</th>\n      <th>yacEPA</th>\n      <th>Home_WP_pre</th>\n      <th>Away_WP_pre</th>\n      <th>Home_WP_post</th>\n      <th>Away_WP_post</th>\n      <th>Win_Prob</th>\n      <th>WPA</th>\n      <th>airWPA</th>\n      <th>yacWPA</th>\n      <th>Season</th>\n    </tr>\n  </thead>\n  <tbody>\n  </tbody>\n</table>\n<p>0 rows × 102 columns</p>\n</div>"
     },
     "execution_count": 16,
     "metadata": {},
     "output_type": "execute_result"
    }
   ],
   "source": [
    "nfl_data.dropna()\n"
   ],
   "metadata": {
    "collapsed": false,
    "pycharm": {
     "name": "#%%\n"
    }
   }
  },
  {
   "cell_type": "code",
   "execution_count": 19,
   "outputs": [
    {
     "data": {
      "text/plain": "         Date      GameID  Drive  qtr  TimeUnder  ydstogo  ydsnet  \\\n0  2009-09-10  2009091000      1    1         15        0       0   \n1  2009-09-10  2009091000      1    1         15       10       5   \n2  2009-09-10  2009091000      1    1         15        5       2   \n3  2009-09-10  2009091000      1    1         14        8       2   \n4  2009-09-10  2009091000      1    1         14        8       2   \n\n   PlayAttempted  Yards.Gained  sp  ...  Timeout_Indicator  Timeout_Team  \\\n0              1            39   0  ...                  0          None   \n1              1             5   0  ...                  0          None   \n2              1            -3   0  ...                  0          None   \n3              1             0   0  ...                  0          None   \n4              1             0   0  ...                  0          None   \n\n   posteam_timeouts_pre HomeTimeouts_Remaining_Pre AwayTimeouts_Remaining_Pre  \\\n0                     3                          3                          3   \n1                     3                          3                          3   \n2                     3                          3                          3   \n3                     3                          3                          3   \n4                     3                          3                          3   \n\n   HomeTimeouts_Remaining_Post  AwayTimeouts_Remaining_Post  ExPoint_Prob  \\\n0                            3                            3           0.0   \n1                            3                            3           0.0   \n2                            3                            3           0.0   \n3                            3                            3           0.0   \n4                            3                            3           0.0   \n\n   TwoPoint_Prob  Season  \n0            0.0    2009  \n1            0.0    2009  \n2            0.0    2009  \n3            0.0    2009  \n4            0.0    2009  \n\n[5 rows x 41 columns]",
      "text/html": "<div>\n<style scoped>\n    .dataframe tbody tr th:only-of-type {\n        vertical-align: middle;\n    }\n\n    .dataframe tbody tr th {\n        vertical-align: top;\n    }\n\n    .dataframe thead th {\n        text-align: right;\n    }\n</style>\n<table border=\"1\" class=\"dataframe\">\n  <thead>\n    <tr style=\"text-align: right;\">\n      <th></th>\n      <th>Date</th>\n      <th>GameID</th>\n      <th>Drive</th>\n      <th>qtr</th>\n      <th>TimeUnder</th>\n      <th>ydstogo</th>\n      <th>ydsnet</th>\n      <th>PlayAttempted</th>\n      <th>Yards.Gained</th>\n      <th>sp</th>\n      <th>...</th>\n      <th>Timeout_Indicator</th>\n      <th>Timeout_Team</th>\n      <th>posteam_timeouts_pre</th>\n      <th>HomeTimeouts_Remaining_Pre</th>\n      <th>AwayTimeouts_Remaining_Pre</th>\n      <th>HomeTimeouts_Remaining_Post</th>\n      <th>AwayTimeouts_Remaining_Post</th>\n      <th>ExPoint_Prob</th>\n      <th>TwoPoint_Prob</th>\n      <th>Season</th>\n    </tr>\n  </thead>\n  <tbody>\n    <tr>\n      <th>0</th>\n      <td>2009-09-10</td>\n      <td>2009091000</td>\n      <td>1</td>\n      <td>1</td>\n      <td>15</td>\n      <td>0</td>\n      <td>0</td>\n      <td>1</td>\n      <td>39</td>\n      <td>0</td>\n      <td>...</td>\n      <td>0</td>\n      <td>None</td>\n      <td>3</td>\n      <td>3</td>\n      <td>3</td>\n      <td>3</td>\n      <td>3</td>\n      <td>0.0</td>\n      <td>0.0</td>\n      <td>2009</td>\n    </tr>\n    <tr>\n      <th>1</th>\n      <td>2009-09-10</td>\n      <td>2009091000</td>\n      <td>1</td>\n      <td>1</td>\n      <td>15</td>\n      <td>10</td>\n      <td>5</td>\n      <td>1</td>\n      <td>5</td>\n      <td>0</td>\n      <td>...</td>\n      <td>0</td>\n      <td>None</td>\n      <td>3</td>\n      <td>3</td>\n      <td>3</td>\n      <td>3</td>\n      <td>3</td>\n      <td>0.0</td>\n      <td>0.0</td>\n      <td>2009</td>\n    </tr>\n    <tr>\n      <th>2</th>\n      <td>2009-09-10</td>\n      <td>2009091000</td>\n      <td>1</td>\n      <td>1</td>\n      <td>15</td>\n      <td>5</td>\n      <td>2</td>\n      <td>1</td>\n      <td>-3</td>\n      <td>0</td>\n      <td>...</td>\n      <td>0</td>\n      <td>None</td>\n      <td>3</td>\n      <td>3</td>\n      <td>3</td>\n      <td>3</td>\n      <td>3</td>\n      <td>0.0</td>\n      <td>0.0</td>\n      <td>2009</td>\n    </tr>\n    <tr>\n      <th>3</th>\n      <td>2009-09-10</td>\n      <td>2009091000</td>\n      <td>1</td>\n      <td>1</td>\n      <td>14</td>\n      <td>8</td>\n      <td>2</td>\n      <td>1</td>\n      <td>0</td>\n      <td>0</td>\n      <td>...</td>\n      <td>0</td>\n      <td>None</td>\n      <td>3</td>\n      <td>3</td>\n      <td>3</td>\n      <td>3</td>\n      <td>3</td>\n      <td>0.0</td>\n      <td>0.0</td>\n      <td>2009</td>\n    </tr>\n    <tr>\n      <th>4</th>\n      <td>2009-09-10</td>\n      <td>2009091000</td>\n      <td>1</td>\n      <td>1</td>\n      <td>14</td>\n      <td>8</td>\n      <td>2</td>\n      <td>1</td>\n      <td>0</td>\n      <td>0</td>\n      <td>...</td>\n      <td>0</td>\n      <td>None</td>\n      <td>3</td>\n      <td>3</td>\n      <td>3</td>\n      <td>3</td>\n      <td>3</td>\n      <td>0.0</td>\n      <td>0.0</td>\n      <td>2009</td>\n    </tr>\n  </tbody>\n</table>\n<p>5 rows × 41 columns</p>\n</div>"
     },
     "execution_count": 19,
     "metadata": {},
     "output_type": "execute_result"
    }
   ],
   "source": [
    "# remove all columns with at least one missing value\n",
    "columns_with_na_dropped = nfl_data.dropna(axis=1)\n",
    "columns_with_na_dropped.head()"
   ],
   "metadata": {
    "collapsed": false,
    "pycharm": {
     "name": "#%%\n"
    }
   }
  },
  {
   "cell_type": "code",
   "execution_count": 23,
   "outputs": [
    {
     "data": {
      "text/plain": "        EPA    airEPA    yacEPA  Home_WP_pre  Away_WP_pre  Home_WP_post  \\\n0  2.014474       NaN       NaN     0.485675     0.514325      0.546433   \n1  0.077907 -1.068169  1.146076     0.546433     0.453567      0.551088   \n2 -1.402760       NaN       NaN     0.551088     0.448912      0.510793   \n3 -1.712583  3.318841 -5.031425     0.510793     0.489207      0.461217   \n4  2.097796       NaN       NaN     0.461217     0.538783      0.558929   \n\n   Away_WP_post  Win_Prob       WPA    airWPA    yacWPA  Season  \n0      0.453567  0.485675  0.060758       NaN       NaN    2009  \n1      0.448912  0.546433  0.004655 -0.032244  0.036899    2009  \n2      0.489207  0.551088 -0.040295       NaN       NaN    2009  \n3      0.538783  0.510793 -0.049576  0.106663 -0.156239    2009  \n4      0.441071  0.461217  0.097712       NaN       NaN    2009  ",
      "text/html": "<div>\n<style scoped>\n    .dataframe tbody tr th:only-of-type {\n        vertical-align: middle;\n    }\n\n    .dataframe tbody tr th {\n        vertical-align: top;\n    }\n\n    .dataframe thead th {\n        text-align: right;\n    }\n</style>\n<table border=\"1\" class=\"dataframe\">\n  <thead>\n    <tr style=\"text-align: right;\">\n      <th></th>\n      <th>EPA</th>\n      <th>airEPA</th>\n      <th>yacEPA</th>\n      <th>Home_WP_pre</th>\n      <th>Away_WP_pre</th>\n      <th>Home_WP_post</th>\n      <th>Away_WP_post</th>\n      <th>Win_Prob</th>\n      <th>WPA</th>\n      <th>airWPA</th>\n      <th>yacWPA</th>\n      <th>Season</th>\n    </tr>\n  </thead>\n  <tbody>\n    <tr>\n      <th>0</th>\n      <td>2.014474</td>\n      <td>NaN</td>\n      <td>NaN</td>\n      <td>0.485675</td>\n      <td>0.514325</td>\n      <td>0.546433</td>\n      <td>0.453567</td>\n      <td>0.485675</td>\n      <td>0.060758</td>\n      <td>NaN</td>\n      <td>NaN</td>\n      <td>2009</td>\n    </tr>\n    <tr>\n      <th>1</th>\n      <td>0.077907</td>\n      <td>-1.068169</td>\n      <td>1.146076</td>\n      <td>0.546433</td>\n      <td>0.453567</td>\n      <td>0.551088</td>\n      <td>0.448912</td>\n      <td>0.546433</td>\n      <td>0.004655</td>\n      <td>-0.032244</td>\n      <td>0.036899</td>\n      <td>2009</td>\n    </tr>\n    <tr>\n      <th>2</th>\n      <td>-1.402760</td>\n      <td>NaN</td>\n      <td>NaN</td>\n      <td>0.551088</td>\n      <td>0.448912</td>\n      <td>0.510793</td>\n      <td>0.489207</td>\n      <td>0.551088</td>\n      <td>-0.040295</td>\n      <td>NaN</td>\n      <td>NaN</td>\n      <td>2009</td>\n    </tr>\n    <tr>\n      <th>3</th>\n      <td>-1.712583</td>\n      <td>3.318841</td>\n      <td>-5.031425</td>\n      <td>0.510793</td>\n      <td>0.489207</td>\n      <td>0.461217</td>\n      <td>0.538783</td>\n      <td>0.510793</td>\n      <td>-0.049576</td>\n      <td>0.106663</td>\n      <td>-0.156239</td>\n      <td>2009</td>\n    </tr>\n    <tr>\n      <th>4</th>\n      <td>2.097796</td>\n      <td>NaN</td>\n      <td>NaN</td>\n      <td>0.461217</td>\n      <td>0.538783</td>\n      <td>0.558929</td>\n      <td>0.441071</td>\n      <td>0.461217</td>\n      <td>0.097712</td>\n      <td>NaN</td>\n      <td>NaN</td>\n      <td>2009</td>\n    </tr>\n  </tbody>\n</table>\n</div>"
     },
     "execution_count": 23,
     "metadata": {},
     "output_type": "execute_result"
    }
   ],
   "source": [
    "subset_nfl_data = nfl_data.loc[:, 'EPA':'Season'].head()\n",
    "subset_nfl_data"
   ],
   "metadata": {
    "collapsed": false,
    "pycharm": {
     "name": "#%%\n"
    }
   }
  },
  {
   "cell_type": "code",
   "execution_count": 32,
   "outputs": [
    {
     "name": "stdout",
     "output_type": "stream",
     "text": [
      "0          Date\n",
      "1        GameID\n",
      "2         Drive\n",
      "3           qtr\n",
      "4          down\n",
      "         ...   \n",
      "97     Win_Prob\n",
      "98          WPA\n",
      "99       airWPA\n",
      "100      yacWPA\n",
      "101      Season\n",
      "Length: 102, dtype: object\n"
     ]
    }
   ],
   "source": [
    "from pprint import pprint\n",
    "pprint(pd.Series(nfl_data.columns))"
   ],
   "metadata": {
    "collapsed": false,
    "pycharm": {
     "name": "#%%\n"
    }
   }
  },
  {
   "cell_type": "code",
   "execution_count": 33,
   "outputs": [
    {
     "data": {
      "text/plain": "             WPA    airWPA    yacWPA  Season\n0       0.060758       NaN       NaN    2009\n1       0.004655 -0.032244  0.036899    2009\n2      -0.040295       NaN       NaN    2009\n3      -0.049576  0.106663 -0.156239    2009\n4       0.097712       NaN       NaN    2009\n...          ...       ...       ...     ...\n407683  0.000000       NaN       NaN    2017\n407684 -0.029931 -0.021795 -0.008136    2017\n407685 -0.019597 -0.030603  0.011006    2017\n407686  0.030881       NaN       NaN    2017\n407687  0.000000       NaN       NaN    2017\n\n[407688 rows x 4 columns]",
      "text/html": "<div>\n<style scoped>\n    .dataframe tbody tr th:only-of-type {\n        vertical-align: middle;\n    }\n\n    .dataframe tbody tr th {\n        vertical-align: top;\n    }\n\n    .dataframe thead th {\n        text-align: right;\n    }\n</style>\n<table border=\"1\" class=\"dataframe\">\n  <thead>\n    <tr style=\"text-align: right;\">\n      <th></th>\n      <th>WPA</th>\n      <th>airWPA</th>\n      <th>yacWPA</th>\n      <th>Season</th>\n    </tr>\n  </thead>\n  <tbody>\n    <tr>\n      <th>0</th>\n      <td>0.060758</td>\n      <td>NaN</td>\n      <td>NaN</td>\n      <td>2009</td>\n    </tr>\n    <tr>\n      <th>1</th>\n      <td>0.004655</td>\n      <td>-0.032244</td>\n      <td>0.036899</td>\n      <td>2009</td>\n    </tr>\n    <tr>\n      <th>2</th>\n      <td>-0.040295</td>\n      <td>NaN</td>\n      <td>NaN</td>\n      <td>2009</td>\n    </tr>\n    <tr>\n      <th>3</th>\n      <td>-0.049576</td>\n      <td>0.106663</td>\n      <td>-0.156239</td>\n      <td>2009</td>\n    </tr>\n    <tr>\n      <th>4</th>\n      <td>0.097712</td>\n      <td>NaN</td>\n      <td>NaN</td>\n      <td>2009</td>\n    </tr>\n    <tr>\n      <th>...</th>\n      <td>...</td>\n      <td>...</td>\n      <td>...</td>\n      <td>...</td>\n    </tr>\n    <tr>\n      <th>407683</th>\n      <td>0.000000</td>\n      <td>NaN</td>\n      <td>NaN</td>\n      <td>2017</td>\n    </tr>\n    <tr>\n      <th>407684</th>\n      <td>-0.029931</td>\n      <td>-0.021795</td>\n      <td>-0.008136</td>\n      <td>2017</td>\n    </tr>\n    <tr>\n      <th>407685</th>\n      <td>-0.019597</td>\n      <td>-0.030603</td>\n      <td>0.011006</td>\n      <td>2017</td>\n    </tr>\n    <tr>\n      <th>407686</th>\n      <td>0.030881</td>\n      <td>NaN</td>\n      <td>NaN</td>\n      <td>2017</td>\n    </tr>\n    <tr>\n      <th>407687</th>\n      <td>0.000000</td>\n      <td>NaN</td>\n      <td>NaN</td>\n      <td>2017</td>\n    </tr>\n  </tbody>\n</table>\n<p>407688 rows × 4 columns</p>\n</div>"
     },
     "execution_count": 33,
     "metadata": {},
     "output_type": "execute_result"
    }
   ],
   "source": [
    "nfl_data.iloc[:, 98:]"
   ],
   "metadata": {
    "collapsed": false,
    "pycharm": {
     "name": "#%%\n"
    }
   }
  },
  {
   "cell_type": "code",
   "execution_count": 34,
   "outputs": [
    {
     "data": {
      "text/plain": "90"
     },
     "execution_count": 34,
     "metadata": {},
     "output_type": "execute_result"
    }
   ],
   "source": [
    "nfl_data.columns.get_loc('EPA') # get column index by name"
   ],
   "metadata": {
    "collapsed": false,
    "pycharm": {
     "name": "#%%\n"
    }
   }
  },
  {
   "cell_type": "code",
   "execution_count": 66,
   "outputs": [
    {
     "name": "stdout",
     "output_type": "stream",
     "text": [
      "\n",
      ": boolean\n",
      "    use_inf_as_null had been deprecated and will be removed in a future\n",
      "    version. Use `use_inf_as_na` instead.\n",
      "\n"
     ]
    },
    {
     "name": "stderr",
     "output_type": "stream",
     "text": [
      "/Users/dravik/PycharmProjects/JupyterPycharm/lib/python3.8/site-packages/pandas/_config/config.py:622: FutureWarning: \n",
      ": boolean\n",
      "    use_inf_as_null had been deprecated and will be removed in a future\n",
      "    version. Use `use_inf_as_na` instead.\n",
      "\n",
      "  warnings.warn(d.msg, FutureWarning)\n"
     ]
    },
    {
     "data": {
      "text/plain": "            0\n0        Date\n1      GameID\n2       Drive\n3         qtr\n4        down\n..        ...\n97   Win_Prob\n98        WPA\n99     airWPA\n100    yacWPA\n101    Season\n\n[102 rows x 1 columns]",
      "text/html": "<div>\n<style scoped>\n    .dataframe tbody tr th:only-of-type {\n        vertical-align: middle;\n    }\n\n    .dataframe tbody tr th {\n        vertical-align: top;\n    }\n\n    .dataframe thead th {\n        text-align: right;\n    }\n</style>\n<table border=\"1\" class=\"dataframe\">\n  <thead>\n    <tr style=\"text-align: right;\">\n      <th></th>\n      <th>0</th>\n    </tr>\n  </thead>\n  <tbody>\n    <tr>\n      <th>0</th>\n      <td>Date</td>\n    </tr>\n    <tr>\n      <th>1</th>\n      <td>GameID</td>\n    </tr>\n    <tr>\n      <th>2</th>\n      <td>Drive</td>\n    </tr>\n    <tr>\n      <th>3</th>\n      <td>qtr</td>\n    </tr>\n    <tr>\n      <th>4</th>\n      <td>down</td>\n    </tr>\n    <tr>\n      <th>...</th>\n      <td>...</td>\n    </tr>\n    <tr>\n      <th>97</th>\n      <td>Win_Prob</td>\n    </tr>\n    <tr>\n      <th>98</th>\n      <td>WPA</td>\n    </tr>\n    <tr>\n      <th>99</th>\n      <td>airWPA</td>\n    </tr>\n    <tr>\n      <th>100</th>\n      <td>yacWPA</td>\n    </tr>\n    <tr>\n      <th>101</th>\n      <td>Season</td>\n    </tr>\n  </tbody>\n</table>\n<p>102 rows × 1 columns</p>\n</div>"
     },
     "execution_count": 66,
     "metadata": {},
     "output_type": "execute_result"
    }
   ],
   "source": [
    "# pd.reset_option('all')\n",
    "# pd.options.display.max_columns = 300\n",
    "# pd.options.display.max_rows = 300\n",
    "pd.reset_option('all')\n",
    "pd.DataFrame(nfl_data.columns.values)\n",
    "\n"
   ],
   "metadata": {
    "collapsed": false,
    "pycharm": {
     "name": "#%%\n"
    }
   }
  },
  {
   "cell_type": "code",
   "execution_count": 67,
   "outputs": [
    {
     "data": {
      "text/plain": "        EPA    airEPA    yacEPA  Home_WP_pre  Away_WP_pre  Home_WP_post  \\\n0  2.014474  0.000000  0.000000     0.485675     0.514325      0.546433   \n1  0.077907 -1.068169  1.146076     0.546433     0.453567      0.551088   \n2 -1.402760  0.000000  0.000000     0.551088     0.448912      0.510793   \n3 -1.712583  3.318841 -5.031425     0.510793     0.489207      0.461217   \n4  2.097796  0.000000  0.000000     0.461217     0.538783      0.558929   \n\n   Away_WP_post  Win_Prob       WPA    airWPA    yacWPA  Season  \n0      0.453567  0.485675  0.060758  0.000000  0.000000    2009  \n1      0.448912  0.546433  0.004655 -0.032244  0.036899    2009  \n2      0.489207  0.551088 -0.040295  0.000000  0.000000    2009  \n3      0.538783  0.510793 -0.049576  0.106663 -0.156239    2009  \n4      0.441071  0.461217  0.097712  0.000000  0.000000    2009  ",
      "text/html": "<div>\n<style scoped>\n    .dataframe tbody tr th:only-of-type {\n        vertical-align: middle;\n    }\n\n    .dataframe tbody tr th {\n        vertical-align: top;\n    }\n\n    .dataframe thead th {\n        text-align: right;\n    }\n</style>\n<table border=\"1\" class=\"dataframe\">\n  <thead>\n    <tr style=\"text-align: right;\">\n      <th></th>\n      <th>EPA</th>\n      <th>airEPA</th>\n      <th>yacEPA</th>\n      <th>Home_WP_pre</th>\n      <th>Away_WP_pre</th>\n      <th>Home_WP_post</th>\n      <th>Away_WP_post</th>\n      <th>Win_Prob</th>\n      <th>WPA</th>\n      <th>airWPA</th>\n      <th>yacWPA</th>\n      <th>Season</th>\n    </tr>\n  </thead>\n  <tbody>\n    <tr>\n      <th>0</th>\n      <td>2.014474</td>\n      <td>0.000000</td>\n      <td>0.000000</td>\n      <td>0.485675</td>\n      <td>0.514325</td>\n      <td>0.546433</td>\n      <td>0.453567</td>\n      <td>0.485675</td>\n      <td>0.060758</td>\n      <td>0.000000</td>\n      <td>0.000000</td>\n      <td>2009</td>\n    </tr>\n    <tr>\n      <th>1</th>\n      <td>0.077907</td>\n      <td>-1.068169</td>\n      <td>1.146076</td>\n      <td>0.546433</td>\n      <td>0.453567</td>\n      <td>0.551088</td>\n      <td>0.448912</td>\n      <td>0.546433</td>\n      <td>0.004655</td>\n      <td>-0.032244</td>\n      <td>0.036899</td>\n      <td>2009</td>\n    </tr>\n    <tr>\n      <th>2</th>\n      <td>-1.402760</td>\n      <td>0.000000</td>\n      <td>0.000000</td>\n      <td>0.551088</td>\n      <td>0.448912</td>\n      <td>0.510793</td>\n      <td>0.489207</td>\n      <td>0.551088</td>\n      <td>-0.040295</td>\n      <td>0.000000</td>\n      <td>0.000000</td>\n      <td>2009</td>\n    </tr>\n    <tr>\n      <th>3</th>\n      <td>-1.712583</td>\n      <td>3.318841</td>\n      <td>-5.031425</td>\n      <td>0.510793</td>\n      <td>0.489207</td>\n      <td>0.461217</td>\n      <td>0.538783</td>\n      <td>0.510793</td>\n      <td>-0.049576</td>\n      <td>0.106663</td>\n      <td>-0.156239</td>\n      <td>2009</td>\n    </tr>\n    <tr>\n      <th>4</th>\n      <td>2.097796</td>\n      <td>0.000000</td>\n      <td>0.000000</td>\n      <td>0.461217</td>\n      <td>0.538783</td>\n      <td>0.558929</td>\n      <td>0.441071</td>\n      <td>0.461217</td>\n      <td>0.097712</td>\n      <td>0.000000</td>\n      <td>0.000000</td>\n      <td>2009</td>\n    </tr>\n  </tbody>\n</table>\n</div>"
     },
     "execution_count": 67,
     "metadata": {},
     "output_type": "execute_result"
    }
   ],
   "source": [
    "subset_nfl_data.fillna(0)"
   ],
   "metadata": {
    "collapsed": false,
    "pycharm": {
     "name": "#%%\n"
    }
   }
  },
  {
   "cell_type": "code",
   "execution_count": 1,
   "outputs": [
    {
     "ename": "NameError",
     "evalue": "name 'subset_nfl_data' is not defined",
     "output_type": "error",
     "traceback": [
      "\u001B[0;31m---------------------------------------------------------------------------\u001B[0m",
      "\u001B[0;31mNameError\u001B[0m                                 Traceback (most recent call last)",
      "\u001B[0;32m<ipython-input-1-6b1acb15e1e1>\u001B[0m in \u001B[0;36m<module>\u001B[0;34m\u001B[0m\n\u001B[0;32m----> 1\u001B[0;31m \u001B[0msubset_nfl_data\u001B[0m\u001B[0;34m.\u001B[0m\u001B[0mfillna\u001B[0m\u001B[0;34m(\u001B[0m\u001B[0mmethod\u001B[0m\u001B[0;34m=\u001B[0m\u001B[0;34m'bfill'\u001B[0m\u001B[0;34m,\u001B[0m \u001B[0maxis\u001B[0m\u001B[0;34m=\u001B[0m\u001B[0;36m0\u001B[0m\u001B[0;34m)\u001B[0m\u001B[0;34m.\u001B[0m\u001B[0mfillna\u001B[0m\u001B[0;34m(\u001B[0m\u001B[0;36m0\u001B[0m\u001B[0;34m)\u001B[0m\u001B[0;34m\u001B[0m\u001B[0;34m\u001B[0m\u001B[0m\n\u001B[0m\u001B[1;32m      2\u001B[0m \u001B[0;34m\u001B[0m\u001B[0m\n",
      "\u001B[0;31mNameError\u001B[0m: name 'subset_nfl_data' is not defined"
     ]
    }
   ],
   "source": [
    "subset_nfl_data.fillna(method='bfill', axis=0).fillna(0)"
   ],
   "metadata": {
    "collapsed": false,
    "pycharm": {
     "name": "#%%\n"
    }
   }
  },
  {
   "cell_type": "markdown",
   "source": [
    "### Exercises\n",
    "\n"
   ],
   "metadata": {
    "collapsed": false,
    "pycharm": {
     "name": "#%% md\n"
    }
   }
  },
  {
   "cell_type": "code",
   "execution_count": 6,
   "outputs": [
    {
     "name": "stderr",
     "output_type": "stream",
     "text": [
      "/Users/dravik/PycharmProjects/JupyterPycharm/lib/python3.8/site-packages/IPython/core/interactiveshell.py:3145: DtypeWarning: Columns (22,32) have mixed types.Specify dtype option on import or set low_memory=False.\n",
      "  has_raised = await self.run_ast_nodes(code_ast.body, cell_name,\n"
     ]
    }
   ],
   "source": [
    "# Handling Missing Values\n",
    "DATA_SF_PERMITS_RAW = '/Users/dravik/Downloads/Building_Permits.csv'\n",
    "sf_permits = pd.read_csv(DATA_SF_PERMITS_RAW)"
   ],
   "metadata": {
    "collapsed": false,
    "pycharm": {
     "name": "#%%\n"
    }
   }
  },
  {
   "cell_type": "code",
   "execution_count": 7,
   "outputs": [
    {
     "data": {
      "text/plain": "  Permit Number  Permit Type            Permit Type Definition  \\\n0  201505065519            4                      sign - erect   \n1  201604195146            4                      sign - erect   \n2  201605278609            3  additions alterations or repairs   \n3  201611072166            8            otc alterations permit   \n4  201611283529            6                       demolitions   \n\n  Permit Creation Date Block  Lot  Street Number Street Number Suffix  \\\n0           05/06/2015  0326  023            140                  NaN   \n1           04/19/2016  0306  007            440                  NaN   \n2           05/27/2016  0595  203           1647                  NaN   \n3           11/07/2016  0156  011           1230                  NaN   \n4           11/28/2016  0342  001            950                  NaN   \n\n  Street Name Street Suffix  ...  Existing Construction Type  \\\n0       Ellis            St  ...                         3.0   \n1       Geary            St  ...                         3.0   \n2     Pacific            Av  ...                         1.0   \n3     Pacific            Av  ...                         5.0   \n4      Market            St  ...                         3.0   \n\n  Existing Construction Type Description Proposed Construction Type  \\\n0                          constr type 3                        NaN   \n1                          constr type 3                        NaN   \n2                          constr type 1                        1.0   \n3                         wood frame (5)                        5.0   \n4                          constr type 3                        NaN   \n\n  Proposed Construction Type Description Site Permit Supervisor District  \\\n0                                    NaN         NaN                 3.0   \n1                                    NaN         NaN                 3.0   \n2                          constr type 1         NaN                 3.0   \n3                         wood frame (5)         NaN                 3.0   \n4                                    NaN         NaN                 6.0   \n\n  Neighborhoods - Analysis Boundaries  Zipcode  \\\n0                          Tenderloin  94102.0   \n1                          Tenderloin  94102.0   \n2                        Russian Hill  94109.0   \n3                            Nob Hill  94109.0   \n4                          Tenderloin  94102.0   \n\n                                    Location      Record ID  \n0  (37.785719256680785, -122.40852313194863)  1380611233945  \n1   (37.78733980600732, -122.41063199757738)  1420164406718  \n2    (37.7946573324287, -122.42232562979227)  1424856504716  \n3   (37.79595867909168, -122.41557405519474)  1443574295566  \n4   (37.78315261897309, -122.40950883997789)   144548169992  \n\n[5 rows x 43 columns]",
      "text/html": "<div>\n<style scoped>\n    .dataframe tbody tr th:only-of-type {\n        vertical-align: middle;\n    }\n\n    .dataframe tbody tr th {\n        vertical-align: top;\n    }\n\n    .dataframe thead th {\n        text-align: right;\n    }\n</style>\n<table border=\"1\" class=\"dataframe\">\n  <thead>\n    <tr style=\"text-align: right;\">\n      <th></th>\n      <th>Permit Number</th>\n      <th>Permit Type</th>\n      <th>Permit Type Definition</th>\n      <th>Permit Creation Date</th>\n      <th>Block</th>\n      <th>Lot</th>\n      <th>Street Number</th>\n      <th>Street Number Suffix</th>\n      <th>Street Name</th>\n      <th>Street Suffix</th>\n      <th>...</th>\n      <th>Existing Construction Type</th>\n      <th>Existing Construction Type Description</th>\n      <th>Proposed Construction Type</th>\n      <th>Proposed Construction Type Description</th>\n      <th>Site Permit</th>\n      <th>Supervisor District</th>\n      <th>Neighborhoods - Analysis Boundaries</th>\n      <th>Zipcode</th>\n      <th>Location</th>\n      <th>Record ID</th>\n    </tr>\n  </thead>\n  <tbody>\n    <tr>\n      <th>0</th>\n      <td>201505065519</td>\n      <td>4</td>\n      <td>sign - erect</td>\n      <td>05/06/2015</td>\n      <td>0326</td>\n      <td>023</td>\n      <td>140</td>\n      <td>NaN</td>\n      <td>Ellis</td>\n      <td>St</td>\n      <td>...</td>\n      <td>3.0</td>\n      <td>constr type 3</td>\n      <td>NaN</td>\n      <td>NaN</td>\n      <td>NaN</td>\n      <td>3.0</td>\n      <td>Tenderloin</td>\n      <td>94102.0</td>\n      <td>(37.785719256680785, -122.40852313194863)</td>\n      <td>1380611233945</td>\n    </tr>\n    <tr>\n      <th>1</th>\n      <td>201604195146</td>\n      <td>4</td>\n      <td>sign - erect</td>\n      <td>04/19/2016</td>\n      <td>0306</td>\n      <td>007</td>\n      <td>440</td>\n      <td>NaN</td>\n      <td>Geary</td>\n      <td>St</td>\n      <td>...</td>\n      <td>3.0</td>\n      <td>constr type 3</td>\n      <td>NaN</td>\n      <td>NaN</td>\n      <td>NaN</td>\n      <td>3.0</td>\n      <td>Tenderloin</td>\n      <td>94102.0</td>\n      <td>(37.78733980600732, -122.41063199757738)</td>\n      <td>1420164406718</td>\n    </tr>\n    <tr>\n      <th>2</th>\n      <td>201605278609</td>\n      <td>3</td>\n      <td>additions alterations or repairs</td>\n      <td>05/27/2016</td>\n      <td>0595</td>\n      <td>203</td>\n      <td>1647</td>\n      <td>NaN</td>\n      <td>Pacific</td>\n      <td>Av</td>\n      <td>...</td>\n      <td>1.0</td>\n      <td>constr type 1</td>\n      <td>1.0</td>\n      <td>constr type 1</td>\n      <td>NaN</td>\n      <td>3.0</td>\n      <td>Russian Hill</td>\n      <td>94109.0</td>\n      <td>(37.7946573324287, -122.42232562979227)</td>\n      <td>1424856504716</td>\n    </tr>\n    <tr>\n      <th>3</th>\n      <td>201611072166</td>\n      <td>8</td>\n      <td>otc alterations permit</td>\n      <td>11/07/2016</td>\n      <td>0156</td>\n      <td>011</td>\n      <td>1230</td>\n      <td>NaN</td>\n      <td>Pacific</td>\n      <td>Av</td>\n      <td>...</td>\n      <td>5.0</td>\n      <td>wood frame (5)</td>\n      <td>5.0</td>\n      <td>wood frame (5)</td>\n      <td>NaN</td>\n      <td>3.0</td>\n      <td>Nob Hill</td>\n      <td>94109.0</td>\n      <td>(37.79595867909168, -122.41557405519474)</td>\n      <td>1443574295566</td>\n    </tr>\n    <tr>\n      <th>4</th>\n      <td>201611283529</td>\n      <td>6</td>\n      <td>demolitions</td>\n      <td>11/28/2016</td>\n      <td>0342</td>\n      <td>001</td>\n      <td>950</td>\n      <td>NaN</td>\n      <td>Market</td>\n      <td>St</td>\n      <td>...</td>\n      <td>3.0</td>\n      <td>constr type 3</td>\n      <td>NaN</td>\n      <td>NaN</td>\n      <td>NaN</td>\n      <td>6.0</td>\n      <td>Tenderloin</td>\n      <td>94102.0</td>\n      <td>(37.78315261897309, -122.40950883997789)</td>\n      <td>144548169992</td>\n    </tr>\n  </tbody>\n</table>\n<p>5 rows × 43 columns</p>\n</div>"
     },
     "execution_count": 7,
     "metadata": {},
     "output_type": "execute_result"
    }
   ],
   "source": [
    "sf_permits.head()"
   ],
   "metadata": {
    "collapsed": false,
    "pycharm": {
     "name": "#%%\n"
    }
   }
  },
  {
   "cell_type": "code",
   "execution_count": 15,
   "outputs": [
    {
     "data": {
      "text/plain": "26.26002315058403"
     },
     "execution_count": 15,
     "metadata": {},
     "output_type": "execute_result"
    }
   ],
   "source": [
    "all_nan = sf_permits.isnull().sum().sum()\n",
    "rows, cols = sf_permits.shape\n",
    "all_cells = rows * cols\n",
    "percent_missing_nans = all_nan / all_cells * 100\n",
    "percent_missing_nans"
   ],
   "metadata": {
    "collapsed": false,
    "pycharm": {
     "name": "#%%\n"
    }
   }
  },
  {
   "cell_type": "code",
   "execution_count": 22,
   "outputs": [
    {
     "data": {
      "text/plain": "   Permit Number  Permit Type            Permit Type Definition  \\\n0   201505065519            4                      sign - erect   \n1   201604195146            4                      sign - erect   \n2   201605278609            3  additions alterations or repairs   \n3   201611072166            8            otc alterations permit   \n4   201611283529            6                       demolitions   \n5   201706149344            8            otc alterations permit   \n6   201706300814            8            otc alterations permit   \n7        M803667            8            otc alterations permit   \n8        M804227            8            otc alterations permit   \n9        M804767            8            otc alterations permit   \n10       M805287            8            otc alterations permit   \n11       M805907            8            otc alterations permit   \n12       M806447            8            otc alterations permit   \n13  201707252846            8            otc alterations permit   \n14       M813729            8            otc alterations permit   \n15       M813907            8            otc alterations permit   \n16       M813967            8            otc alterations permit   \n17       M814148            8            otc alterations permit   \n18  201707283165            8            otc alterations permit   \n19       M814368            8            otc alterations permit   \n\n   Permit Creation Date Block   Lot  Street Number Street Number Suffix  \\\n0            05/06/2015  0326   023            140                  NaN   \n1            04/19/2016  0306   007            440                  NaN   \n2            05/27/2016  0595   203           1647                  NaN   \n3            11/07/2016  0156   011           1230                  NaN   \n4            11/28/2016  0342   001            950                  NaN   \n5            06/14/2017  4105   009            800                  NaN   \n6            06/30/2017  1739   020           1291                  NaN   \n7            06/30/2017  4789   014           1465                  NaN   \n8            07/05/2017  1212   054           2094                  NaN   \n9            07/06/2017  1259   016             89                  NaN   \n10           07/06/2017  3541   001            106                  NaN   \n11           07/07/2017  0829   021            675                  NaN   \n12           07/10/2017  6537   023           4082                  NaN   \n13           07/25/2017  6589  002R            681                  NaN   \n14           07/26/2017  1049   027           2761                  NaN   \n15           07/27/2017  0243   043            840                  NaN   \n16           07/27/2017  0268   008            220                  NaN   \n17           07/27/2017  3621   097           3707                  NaN   \n18           07/28/2017  0472   042           1307                  NaN   \n19           07/28/2017  2659   001            263                  NaN   \n\n   Street Name Street Suffix   Unit Unit Suffix  \\\n0        Ellis            St    NaN         NaN   \n1        Geary            St    0.0         NaN   \n2      Pacific            Av    NaN         NaN   \n3      Pacific            Av    0.0         NaN   \n4       Market            St    NaN         NaN   \n5      Indiana            St    NaN         NaN   \n6         11th            Av    0.0         NaN   \n7       Revere            Av    NaN         NaN   \n8         Fell            St    NaN         NaN   \n9       Alpine            Tr    NaN         NaN   \n10     Sanchez            St    NaN         NaN   \n11        Fell            St    NaN         NaN   \n12        25th            St    NaN         NaN   \n13        27th            St    NaN         NaN   \n14        Pine            St    NaN         NaN   \n15      Powell            St  301.0         NaN   \n16  Montgomery            St    NaN         NaN   \n17        21st            St    0.0         NaN   \n18         Bay            St    1.0         NaN   \n19     Corbett            Av    0.0         NaN   \n\n                                          Description Current Status  \\\n0   ground fl facade: to erect illuminated, electr...        expired   \n1             remove (e) awning and associated signs.         issued   \n2                     installation of separating wall      withdrawn   \n3            repair dryrot & stucco at front of bldg.       complete   \n4   demolish retail/office/commercial 3-story buil...         issued   \n5                                           evac maps         issued   \n6                                          re-roofing       complete   \n7                                         streetspace         issued   \n8                                 street space permit         issued   \n9                                        street space         issued   \n10                                       street space         issued   \n11                                       street space         issued   \n12                                       street space         issued   \n13                  remove and replace landscape wall          filed   \n14                                       street space         issued   \n15                                       street space         issued   \n16                                street space permit         issued   \n17                     street space & sidewalk repair         issued   \n18  soft story ordinance sf building code chptr 34...          filed   \n19                                       street space         issued   \n\n   Current Status Date  Filed Date Issued Date Completed Date  \\\n0           12/21/2017  05/06/2015  11/09/2015            NaN   \n1           08/03/2017  04/19/2016  08/03/2017            NaN   \n2           09/26/2017  05/27/2016         NaN            NaN   \n3           07/24/2017  11/07/2016  07/18/2017     07/24/2017   \n4           12/01/2017  11/28/2016  12/01/2017            NaN   \n5           07/06/2017  06/14/2017  07/06/2017            NaN   \n6           07/12/2017  06/30/2017  06/30/2017     07/12/2017   \n7           06/30/2017  06/30/2017  06/30/2017            NaN   \n8           07/05/2017  07/05/2017  07/05/2017            NaN   \n9           07/06/2017  07/06/2017  07/06/2017            NaN   \n10          07/06/2017  07/06/2017  07/06/2017            NaN   \n11          07/07/2017  07/07/2017  07/07/2017            NaN   \n12          07/10/2017  07/10/2017  07/10/2017            NaN   \n13          07/25/2017  07/25/2017         NaN            NaN   \n14          07/26/2017  07/26/2017  07/26/2017            NaN   \n15          07/27/2017  07/27/2017  07/27/2017            NaN   \n16          07/27/2017  07/27/2017  07/27/2017            NaN   \n17          07/27/2017  07/27/2017  07/27/2017            NaN   \n18          07/28/2017  07/28/2017         NaN            NaN   \n19          07/28/2017  07/28/2017  07/28/2017            NaN   \n\n   First Construction Document Date Structural Notification  \\\n0                        11/09/2015                     NaN   \n1                        08/03/2017                     NaN   \n2                               NaN                     NaN   \n3                        07/18/2017                     NaN   \n4                        11/20/2017                     NaN   \n5                        07/06/2017                     NaN   \n6                        06/30/2017                     NaN   \n7                        06/30/2017                     NaN   \n8                        07/05/2017                     NaN   \n9                        07/06/2017                     NaN   \n10                       07/06/2017                     NaN   \n11                       07/07/2017                     NaN   \n12                       07/10/2017                     NaN   \n13                              NaN                     NaN   \n14                       07/26/2017                     NaN   \n15                       07/27/2017                     NaN   \n16                       07/27/2017                     NaN   \n17                       07/27/2017                     NaN   \n18                              NaN                     NaN   \n19                       07/28/2017                     NaN   \n\n    Number of Existing Stories  Number of Proposed Stories  \\\n0                          6.0                         NaN   \n1                          7.0                         NaN   \n2                          6.0                         6.0   \n3                          2.0                         2.0   \n4                          3.0                         NaN   \n5                          5.0                         5.0   \n6                          3.0                         3.0   \n7                          NaN                         NaN   \n8                          NaN                         NaN   \n9                          NaN                         NaN   \n10                         NaN                         NaN   \n11                         NaN                         NaN   \n12                         NaN                         NaN   \n13                         2.0                         2.0   \n14                         NaN                         NaN   \n15                         NaN                         NaN   \n16                         NaN                         NaN   \n17                         NaN                         NaN   \n18                         4.0                         4.0   \n19                         NaN                         NaN   \n\n   Voluntary Soft-Story Retrofit Fire Only Permit Permit Expiration Date  \\\n0                            NaN              NaN             11/03/2016   \n1                            NaN              NaN             12/03/2017   \n2                            NaN              NaN                    NaN   \n3                            NaN              NaN             07/13/2018   \n4                            NaN              NaN             12/01/2018   \n5                            NaN                Y             07/01/2018   \n6                            NaN              NaN             06/25/2018   \n7                            NaN              NaN                    NaN   \n8                            NaN              NaN                    NaN   \n9                            NaN              NaN                    NaN   \n10                           NaN              NaN                    NaN   \n11                           NaN              NaN                    NaN   \n12                           NaN              NaN                    NaN   \n13                           NaN              NaN                    NaN   \n14                           NaN              NaN                    NaN   \n15                           NaN              NaN                    NaN   \n16                           NaN              NaN                    NaN   \n17                           NaN              NaN                    NaN   \n18                           NaN              NaN                    NaN   \n19                           NaN              NaN                    NaN   \n\n    Estimated Cost  Revised Cost         Existing Use  Existing Units  \\\n0           4000.0        4000.0  tourist hotel/motel           143.0   \n1              1.0         500.0  tourist hotel/motel             NaN   \n2          20000.0           NaN         retail sales            39.0   \n3           2000.0        2000.0    1 family dwelling             1.0   \n4         100000.0      100000.0         retail sales             NaN   \n5           4000.0        4000.0           apartments           326.0   \n6          12000.0       12000.0           apartments             5.0   \n7              NaN           0.0                  NaN             NaN   \n8              NaN           1.0                  NaN             NaN   \n9              NaN           0.0                  NaN             NaN   \n10             NaN           1.0                  NaN             NaN   \n11             NaN           1.0                  NaN             NaN   \n12             NaN           1.0                  NaN             NaN   \n13         30000.0           0.0    1 family dwelling             1.0   \n14             NaN           1.0                  NaN             NaN   \n15             NaN           1.0                  NaN             NaN   \n16             NaN           1.0                  NaN             NaN   \n17             NaN           1.0                  NaN             NaN   \n18         75000.0           0.0           apartments             6.0   \n19             NaN           1.0                  NaN             NaN   \n\n         Proposed Use  Proposed Units  Plansets TIDF Compliance  \\\n0                 NaN             NaN       2.0             NaN   \n1                 NaN             NaN       2.0             NaN   \n2        retail sales            39.0       2.0             NaN   \n3   1 family dwelling             1.0       2.0             NaN   \n4                 NaN             NaN       2.0             NaN   \n5          apartments           326.0       2.0             NaN   \n6          apartments             5.0       0.0             NaN   \n7                 NaN             NaN       NaN             NaN   \n8                 NaN             NaN       NaN             NaN   \n9                 NaN             NaN       NaN             NaN   \n10                NaN             NaN       NaN             NaN   \n11                NaN             NaN       NaN             NaN   \n12                NaN             NaN       NaN             NaN   \n13  1 family dwelling             1.0       2.0             NaN   \n14                NaN             NaN       NaN             NaN   \n15                NaN             NaN       NaN             NaN   \n16                NaN             NaN       NaN             NaN   \n17                NaN             NaN       NaN             NaN   \n18         apartments             6.0       2.0             NaN   \n19                NaN             NaN       NaN             NaN   \n\n    Existing Construction Type Existing Construction Type Description  \\\n0                          3.0                          constr type 3   \n1                          3.0                          constr type 3   \n2                          1.0                          constr type 1   \n3                          5.0                         wood frame (5)   \n4                          3.0                          constr type 3   \n5                          1.0                          constr type 1   \n6                          5.0                         wood frame (5)   \n7                          NaN                                    NaN   \n8                          NaN                                    NaN   \n9                          NaN                                    NaN   \n10                         NaN                                    NaN   \n11                         NaN                                    NaN   \n12                         NaN                                    NaN   \n13                         5.0                         wood frame (5)   \n14                         NaN                                    NaN   \n15                         NaN                                    NaN   \n16                         NaN                                    NaN   \n17                         NaN                                    NaN   \n18                         5.0                         wood frame (5)   \n19                         NaN                                    NaN   \n\n    Proposed Construction Type Proposed Construction Type Description  \\\n0                          NaN                                    NaN   \n1                          NaN                                    NaN   \n2                          1.0                          constr type 1   \n3                          5.0                         wood frame (5)   \n4                          NaN                                    NaN   \n5                          1.0                          constr type 1   \n6                          5.0                         wood frame (5)   \n7                          NaN                                    NaN   \n8                          NaN                                    NaN   \n9                          NaN                                    NaN   \n10                         NaN                                    NaN   \n11                         NaN                                    NaN   \n12                         NaN                                    NaN   \n13                         5.0                         wood frame (5)   \n14                         NaN                                    NaN   \n15                         NaN                                    NaN   \n16                         NaN                                    NaN   \n17                         NaN                                    NaN   \n18                         5.0                         wood frame (5)   \n19                         NaN                                    NaN   \n\n   Site Permit  Supervisor District Neighborhoods - Analysis Boundaries  \\\n0          NaN                  3.0                          Tenderloin   \n1          NaN                  3.0                          Tenderloin   \n2          NaN                  3.0                        Russian Hill   \n3          NaN                  3.0                            Nob Hill   \n4          NaN                  6.0                          Tenderloin   \n5          NaN                 10.0                        Potrero Hill   \n6          NaN                  5.0                        Inner Sunset   \n7          NaN                 10.0               Bayview Hunters Point   \n8          NaN                  5.0                   Lone Mountain/USF   \n9          NaN                  8.0                      Haight Ashbury   \n10         NaN                  8.0                 Castro/Upper Market   \n11         NaN                  5.0                        Hayes Valley   \n12         NaN                  8.0                          Noe Valley   \n13         NaN                  8.0                          Noe Valley   \n14         NaN                  2.0                     Pacific Heights   \n15         NaN                  3.0                           Chinatown   \n16         NaN                  3.0      Financial District/South Beach   \n17         NaN                  8.0                          Noe Valley   \n18         NaN                  2.0                              Marina   \n19         NaN                  8.0                 Castro/Upper Market   \n\n    Zipcode                                   Location      Record ID  \n0   94102.0  (37.785719256680785, -122.40852313194863)  1380611233945  \n1   94102.0   (37.78733980600732, -122.41063199757738)  1420164406718  \n2   94109.0    (37.7946573324287, -122.42232562979227)  1424856504716  \n3   94109.0   (37.79595867909168, -122.41557405519474)  1443574295566  \n4   94102.0   (37.78315261897309, -122.40950883997789)   144548169992  \n5   94107.0   (37.75922331346539, -122.39170402628598)  1466911170855  \n6   94122.0  (37.764145640138565, -122.46875112470363)  1468970403692  \n7   94124.0   (37.73005099023611, -122.38784938916618)  1469035175050  \n8   94117.0  (37.772393498502595, -122.45231466824669)  1469198253772  \n9   94117.0    (37.7691724293766, -122.43734859051908)   146932394171  \n10  94114.0  (37.767349757757145, -122.43140682973024)  1469445246849  \n11  94102.0  (37.774914087334544, -122.42886839796792)   146961582526  \n12  94114.0   (37.75006779619502, -122.43127350268124)  1469781206718  \n13  94131.0     (37.7462205625642, -122.4353484860549)  1471799208305  \n14  94115.0   (37.78676200041077, -122.44124093333335)   147203988249  \n15  94108.0    (37.7926690651263, -122.40883941791454)   147208763456  \n16  94104.0   (37.79130641988351, -122.40198579459195)   147211866168  \n17  94114.0   (37.75607840165479, -122.43041143390109)  1472184412108  \n18  94123.0    (37.8035183252307, -122.42863180996076)  1472277302360  \n19  94114.0  (37.761092365437214, -122.44402154957145)  1472295408612  ",
      "text/html": "<div>\n<style scoped>\n    .dataframe tbody tr th:only-of-type {\n        vertical-align: middle;\n    }\n\n    .dataframe tbody tr th {\n        vertical-align: top;\n    }\n\n    .dataframe thead th {\n        text-align: right;\n    }\n</style>\n<table border=\"1\" class=\"dataframe\">\n  <thead>\n    <tr style=\"text-align: right;\">\n      <th></th>\n      <th>Permit Number</th>\n      <th>Permit Type</th>\n      <th>Permit Type Definition</th>\n      <th>Permit Creation Date</th>\n      <th>Block</th>\n      <th>Lot</th>\n      <th>Street Number</th>\n      <th>Street Number Suffix</th>\n      <th>Street Name</th>\n      <th>Street Suffix</th>\n      <th>Unit</th>\n      <th>Unit Suffix</th>\n      <th>Description</th>\n      <th>Current Status</th>\n      <th>Current Status Date</th>\n      <th>Filed Date</th>\n      <th>Issued Date</th>\n      <th>Completed Date</th>\n      <th>First Construction Document Date</th>\n      <th>Structural Notification</th>\n      <th>Number of Existing Stories</th>\n      <th>Number of Proposed Stories</th>\n      <th>Voluntary Soft-Story Retrofit</th>\n      <th>Fire Only Permit</th>\n      <th>Permit Expiration Date</th>\n      <th>Estimated Cost</th>\n      <th>Revised Cost</th>\n      <th>Existing Use</th>\n      <th>Existing Units</th>\n      <th>Proposed Use</th>\n      <th>Proposed Units</th>\n      <th>Plansets</th>\n      <th>TIDF Compliance</th>\n      <th>Existing Construction Type</th>\n      <th>Existing Construction Type Description</th>\n      <th>Proposed Construction Type</th>\n      <th>Proposed Construction Type Description</th>\n      <th>Site Permit</th>\n      <th>Supervisor District</th>\n      <th>Neighborhoods - Analysis Boundaries</th>\n      <th>Zipcode</th>\n      <th>Location</th>\n      <th>Record ID</th>\n    </tr>\n  </thead>\n  <tbody>\n    <tr>\n      <th>0</th>\n      <td>201505065519</td>\n      <td>4</td>\n      <td>sign - erect</td>\n      <td>05/06/2015</td>\n      <td>0326</td>\n      <td>023</td>\n      <td>140</td>\n      <td>NaN</td>\n      <td>Ellis</td>\n      <td>St</td>\n      <td>NaN</td>\n      <td>NaN</td>\n      <td>ground fl facade: to erect illuminated, electr...</td>\n      <td>expired</td>\n      <td>12/21/2017</td>\n      <td>05/06/2015</td>\n      <td>11/09/2015</td>\n      <td>NaN</td>\n      <td>11/09/2015</td>\n      <td>NaN</td>\n      <td>6.0</td>\n      <td>NaN</td>\n      <td>NaN</td>\n      <td>NaN</td>\n      <td>11/03/2016</td>\n      <td>4000.0</td>\n      <td>4000.0</td>\n      <td>tourist hotel/motel</td>\n      <td>143.0</td>\n      <td>NaN</td>\n      <td>NaN</td>\n      <td>2.0</td>\n      <td>NaN</td>\n      <td>3.0</td>\n      <td>constr type 3</td>\n      <td>NaN</td>\n      <td>NaN</td>\n      <td>NaN</td>\n      <td>3.0</td>\n      <td>Tenderloin</td>\n      <td>94102.0</td>\n      <td>(37.785719256680785, -122.40852313194863)</td>\n      <td>1380611233945</td>\n    </tr>\n    <tr>\n      <th>1</th>\n      <td>201604195146</td>\n      <td>4</td>\n      <td>sign - erect</td>\n      <td>04/19/2016</td>\n      <td>0306</td>\n      <td>007</td>\n      <td>440</td>\n      <td>NaN</td>\n      <td>Geary</td>\n      <td>St</td>\n      <td>0.0</td>\n      <td>NaN</td>\n      <td>remove (e) awning and associated signs.</td>\n      <td>issued</td>\n      <td>08/03/2017</td>\n      <td>04/19/2016</td>\n      <td>08/03/2017</td>\n      <td>NaN</td>\n      <td>08/03/2017</td>\n      <td>NaN</td>\n      <td>7.0</td>\n      <td>NaN</td>\n      <td>NaN</td>\n      <td>NaN</td>\n      <td>12/03/2017</td>\n      <td>1.0</td>\n      <td>500.0</td>\n      <td>tourist hotel/motel</td>\n      <td>NaN</td>\n      <td>NaN</td>\n      <td>NaN</td>\n      <td>2.0</td>\n      <td>NaN</td>\n      <td>3.0</td>\n      <td>constr type 3</td>\n      <td>NaN</td>\n      <td>NaN</td>\n      <td>NaN</td>\n      <td>3.0</td>\n      <td>Tenderloin</td>\n      <td>94102.0</td>\n      <td>(37.78733980600732, -122.41063199757738)</td>\n      <td>1420164406718</td>\n    </tr>\n    <tr>\n      <th>2</th>\n      <td>201605278609</td>\n      <td>3</td>\n      <td>additions alterations or repairs</td>\n      <td>05/27/2016</td>\n      <td>0595</td>\n      <td>203</td>\n      <td>1647</td>\n      <td>NaN</td>\n      <td>Pacific</td>\n      <td>Av</td>\n      <td>NaN</td>\n      <td>NaN</td>\n      <td>installation of separating wall</td>\n      <td>withdrawn</td>\n      <td>09/26/2017</td>\n      <td>05/27/2016</td>\n      <td>NaN</td>\n      <td>NaN</td>\n      <td>NaN</td>\n      <td>NaN</td>\n      <td>6.0</td>\n      <td>6.0</td>\n      <td>NaN</td>\n      <td>NaN</td>\n      <td>NaN</td>\n      <td>20000.0</td>\n      <td>NaN</td>\n      <td>retail sales</td>\n      <td>39.0</td>\n      <td>retail sales</td>\n      <td>39.0</td>\n      <td>2.0</td>\n      <td>NaN</td>\n      <td>1.0</td>\n      <td>constr type 1</td>\n      <td>1.0</td>\n      <td>constr type 1</td>\n      <td>NaN</td>\n      <td>3.0</td>\n      <td>Russian Hill</td>\n      <td>94109.0</td>\n      <td>(37.7946573324287, -122.42232562979227)</td>\n      <td>1424856504716</td>\n    </tr>\n    <tr>\n      <th>3</th>\n      <td>201611072166</td>\n      <td>8</td>\n      <td>otc alterations permit</td>\n      <td>11/07/2016</td>\n      <td>0156</td>\n      <td>011</td>\n      <td>1230</td>\n      <td>NaN</td>\n      <td>Pacific</td>\n      <td>Av</td>\n      <td>0.0</td>\n      <td>NaN</td>\n      <td>repair dryrot &amp; stucco at front of bldg.</td>\n      <td>complete</td>\n      <td>07/24/2017</td>\n      <td>11/07/2016</td>\n      <td>07/18/2017</td>\n      <td>07/24/2017</td>\n      <td>07/18/2017</td>\n      <td>NaN</td>\n      <td>2.0</td>\n      <td>2.0</td>\n      <td>NaN</td>\n      <td>NaN</td>\n      <td>07/13/2018</td>\n      <td>2000.0</td>\n      <td>2000.0</td>\n      <td>1 family dwelling</td>\n      <td>1.0</td>\n      <td>1 family dwelling</td>\n      <td>1.0</td>\n      <td>2.0</td>\n      <td>NaN</td>\n      <td>5.0</td>\n      <td>wood frame (5)</td>\n      <td>5.0</td>\n      <td>wood frame (5)</td>\n      <td>NaN</td>\n      <td>3.0</td>\n      <td>Nob Hill</td>\n      <td>94109.0</td>\n      <td>(37.79595867909168, -122.41557405519474)</td>\n      <td>1443574295566</td>\n    </tr>\n    <tr>\n      <th>4</th>\n      <td>201611283529</td>\n      <td>6</td>\n      <td>demolitions</td>\n      <td>11/28/2016</td>\n      <td>0342</td>\n      <td>001</td>\n      <td>950</td>\n      <td>NaN</td>\n      <td>Market</td>\n      <td>St</td>\n      <td>NaN</td>\n      <td>NaN</td>\n      <td>demolish retail/office/commercial 3-story buil...</td>\n      <td>issued</td>\n      <td>12/01/2017</td>\n      <td>11/28/2016</td>\n      <td>12/01/2017</td>\n      <td>NaN</td>\n      <td>11/20/2017</td>\n      <td>NaN</td>\n      <td>3.0</td>\n      <td>NaN</td>\n      <td>NaN</td>\n      <td>NaN</td>\n      <td>12/01/2018</td>\n      <td>100000.0</td>\n      <td>100000.0</td>\n      <td>retail sales</td>\n      <td>NaN</td>\n      <td>NaN</td>\n      <td>NaN</td>\n      <td>2.0</td>\n      <td>NaN</td>\n      <td>3.0</td>\n      <td>constr type 3</td>\n      <td>NaN</td>\n      <td>NaN</td>\n      <td>NaN</td>\n      <td>6.0</td>\n      <td>Tenderloin</td>\n      <td>94102.0</td>\n      <td>(37.78315261897309, -122.40950883997789)</td>\n      <td>144548169992</td>\n    </tr>\n    <tr>\n      <th>5</th>\n      <td>201706149344</td>\n      <td>8</td>\n      <td>otc alterations permit</td>\n      <td>06/14/2017</td>\n      <td>4105</td>\n      <td>009</td>\n      <td>800</td>\n      <td>NaN</td>\n      <td>Indiana</td>\n      <td>St</td>\n      <td>NaN</td>\n      <td>NaN</td>\n      <td>evac maps</td>\n      <td>issued</td>\n      <td>07/06/2017</td>\n      <td>06/14/2017</td>\n      <td>07/06/2017</td>\n      <td>NaN</td>\n      <td>07/06/2017</td>\n      <td>NaN</td>\n      <td>5.0</td>\n      <td>5.0</td>\n      <td>NaN</td>\n      <td>Y</td>\n      <td>07/01/2018</td>\n      <td>4000.0</td>\n      <td>4000.0</td>\n      <td>apartments</td>\n      <td>326.0</td>\n      <td>apartments</td>\n      <td>326.0</td>\n      <td>2.0</td>\n      <td>NaN</td>\n      <td>1.0</td>\n      <td>constr type 1</td>\n      <td>1.0</td>\n      <td>constr type 1</td>\n      <td>NaN</td>\n      <td>10.0</td>\n      <td>Potrero Hill</td>\n      <td>94107.0</td>\n      <td>(37.75922331346539, -122.39170402628598)</td>\n      <td>1466911170855</td>\n    </tr>\n    <tr>\n      <th>6</th>\n      <td>201706300814</td>\n      <td>8</td>\n      <td>otc alterations permit</td>\n      <td>06/30/2017</td>\n      <td>1739</td>\n      <td>020</td>\n      <td>1291</td>\n      <td>NaN</td>\n      <td>11th</td>\n      <td>Av</td>\n      <td>0.0</td>\n      <td>NaN</td>\n      <td>re-roofing</td>\n      <td>complete</td>\n      <td>07/12/2017</td>\n      <td>06/30/2017</td>\n      <td>06/30/2017</td>\n      <td>07/12/2017</td>\n      <td>06/30/2017</td>\n      <td>NaN</td>\n      <td>3.0</td>\n      <td>3.0</td>\n      <td>NaN</td>\n      <td>NaN</td>\n      <td>06/25/2018</td>\n      <td>12000.0</td>\n      <td>12000.0</td>\n      <td>apartments</td>\n      <td>5.0</td>\n      <td>apartments</td>\n      <td>5.0</td>\n      <td>0.0</td>\n      <td>NaN</td>\n      <td>5.0</td>\n      <td>wood frame (5)</td>\n      <td>5.0</td>\n      <td>wood frame (5)</td>\n      <td>NaN</td>\n      <td>5.0</td>\n      <td>Inner Sunset</td>\n      <td>94122.0</td>\n      <td>(37.764145640138565, -122.46875112470363)</td>\n      <td>1468970403692</td>\n    </tr>\n    <tr>\n      <th>7</th>\n      <td>M803667</td>\n      <td>8</td>\n      <td>otc alterations permit</td>\n      <td>06/30/2017</td>\n      <td>4789</td>\n      <td>014</td>\n      <td>1465</td>\n      <td>NaN</td>\n      <td>Revere</td>\n      <td>Av</td>\n      <td>NaN</td>\n      <td>NaN</td>\n      <td>streetspace</td>\n      <td>issued</td>\n      <td>06/30/2017</td>\n      <td>06/30/2017</td>\n      <td>06/30/2017</td>\n      <td>NaN</td>\n      <td>06/30/2017</td>\n      <td>NaN</td>\n      <td>NaN</td>\n      <td>NaN</td>\n      <td>NaN</td>\n      <td>NaN</td>\n      <td>NaN</td>\n      <td>NaN</td>\n      <td>0.0</td>\n      <td>NaN</td>\n      <td>NaN</td>\n      <td>NaN</td>\n      <td>NaN</td>\n      <td>NaN</td>\n      <td>NaN</td>\n      <td>NaN</td>\n      <td>NaN</td>\n      <td>NaN</td>\n      <td>NaN</td>\n      <td>NaN</td>\n      <td>10.0</td>\n      <td>Bayview Hunters Point</td>\n      <td>94124.0</td>\n      <td>(37.73005099023611, -122.38784938916618)</td>\n      <td>1469035175050</td>\n    </tr>\n    <tr>\n      <th>8</th>\n      <td>M804227</td>\n      <td>8</td>\n      <td>otc alterations permit</td>\n      <td>07/05/2017</td>\n      <td>1212</td>\n      <td>054</td>\n      <td>2094</td>\n      <td>NaN</td>\n      <td>Fell</td>\n      <td>St</td>\n      <td>NaN</td>\n      <td>NaN</td>\n      <td>street space permit</td>\n      <td>issued</td>\n      <td>07/05/2017</td>\n      <td>07/05/2017</td>\n      <td>07/05/2017</td>\n      <td>NaN</td>\n      <td>07/05/2017</td>\n      <td>NaN</td>\n      <td>NaN</td>\n      <td>NaN</td>\n      <td>NaN</td>\n      <td>NaN</td>\n      <td>NaN</td>\n      <td>NaN</td>\n      <td>1.0</td>\n      <td>NaN</td>\n      <td>NaN</td>\n      <td>NaN</td>\n      <td>NaN</td>\n      <td>NaN</td>\n      <td>NaN</td>\n      <td>NaN</td>\n      <td>NaN</td>\n      <td>NaN</td>\n      <td>NaN</td>\n      <td>NaN</td>\n      <td>5.0</td>\n      <td>Lone Mountain/USF</td>\n      <td>94117.0</td>\n      <td>(37.772393498502595, -122.45231466824669)</td>\n      <td>1469198253772</td>\n    </tr>\n    <tr>\n      <th>9</th>\n      <td>M804767</td>\n      <td>8</td>\n      <td>otc alterations permit</td>\n      <td>07/06/2017</td>\n      <td>1259</td>\n      <td>016</td>\n      <td>89</td>\n      <td>NaN</td>\n      <td>Alpine</td>\n      <td>Tr</td>\n      <td>NaN</td>\n      <td>NaN</td>\n      <td>street space</td>\n      <td>issued</td>\n      <td>07/06/2017</td>\n      <td>07/06/2017</td>\n      <td>07/06/2017</td>\n      <td>NaN</td>\n      <td>07/06/2017</td>\n      <td>NaN</td>\n      <td>NaN</td>\n      <td>NaN</td>\n      <td>NaN</td>\n      <td>NaN</td>\n      <td>NaN</td>\n      <td>NaN</td>\n      <td>0.0</td>\n      <td>NaN</td>\n      <td>NaN</td>\n      <td>NaN</td>\n      <td>NaN</td>\n      <td>NaN</td>\n      <td>NaN</td>\n      <td>NaN</td>\n      <td>NaN</td>\n      <td>NaN</td>\n      <td>NaN</td>\n      <td>NaN</td>\n      <td>8.0</td>\n      <td>Haight Ashbury</td>\n      <td>94117.0</td>\n      <td>(37.7691724293766, -122.43734859051908)</td>\n      <td>146932394171</td>\n    </tr>\n    <tr>\n      <th>10</th>\n      <td>M805287</td>\n      <td>8</td>\n      <td>otc alterations permit</td>\n      <td>07/06/2017</td>\n      <td>3541</td>\n      <td>001</td>\n      <td>106</td>\n      <td>NaN</td>\n      <td>Sanchez</td>\n      <td>St</td>\n      <td>NaN</td>\n      <td>NaN</td>\n      <td>street space</td>\n      <td>issued</td>\n      <td>07/06/2017</td>\n      <td>07/06/2017</td>\n      <td>07/06/2017</td>\n      <td>NaN</td>\n      <td>07/06/2017</td>\n      <td>NaN</td>\n      <td>NaN</td>\n      <td>NaN</td>\n      <td>NaN</td>\n      <td>NaN</td>\n      <td>NaN</td>\n      <td>NaN</td>\n      <td>1.0</td>\n      <td>NaN</td>\n      <td>NaN</td>\n      <td>NaN</td>\n      <td>NaN</td>\n      <td>NaN</td>\n      <td>NaN</td>\n      <td>NaN</td>\n      <td>NaN</td>\n      <td>NaN</td>\n      <td>NaN</td>\n      <td>NaN</td>\n      <td>8.0</td>\n      <td>Castro/Upper Market</td>\n      <td>94114.0</td>\n      <td>(37.767349757757145, -122.43140682973024)</td>\n      <td>1469445246849</td>\n    </tr>\n    <tr>\n      <th>11</th>\n      <td>M805907</td>\n      <td>8</td>\n      <td>otc alterations permit</td>\n      <td>07/07/2017</td>\n      <td>0829</td>\n      <td>021</td>\n      <td>675</td>\n      <td>NaN</td>\n      <td>Fell</td>\n      <td>St</td>\n      <td>NaN</td>\n      <td>NaN</td>\n      <td>street space</td>\n      <td>issued</td>\n      <td>07/07/2017</td>\n      <td>07/07/2017</td>\n      <td>07/07/2017</td>\n      <td>NaN</td>\n      <td>07/07/2017</td>\n      <td>NaN</td>\n      <td>NaN</td>\n      <td>NaN</td>\n      <td>NaN</td>\n      <td>NaN</td>\n      <td>NaN</td>\n      <td>NaN</td>\n      <td>1.0</td>\n      <td>NaN</td>\n      <td>NaN</td>\n      <td>NaN</td>\n      <td>NaN</td>\n      <td>NaN</td>\n      <td>NaN</td>\n      <td>NaN</td>\n      <td>NaN</td>\n      <td>NaN</td>\n      <td>NaN</td>\n      <td>NaN</td>\n      <td>5.0</td>\n      <td>Hayes Valley</td>\n      <td>94102.0</td>\n      <td>(37.774914087334544, -122.42886839796792)</td>\n      <td>146961582526</td>\n    </tr>\n    <tr>\n      <th>12</th>\n      <td>M806447</td>\n      <td>8</td>\n      <td>otc alterations permit</td>\n      <td>07/10/2017</td>\n      <td>6537</td>\n      <td>023</td>\n      <td>4082</td>\n      <td>NaN</td>\n      <td>25th</td>\n      <td>St</td>\n      <td>NaN</td>\n      <td>NaN</td>\n      <td>street space</td>\n      <td>issued</td>\n      <td>07/10/2017</td>\n      <td>07/10/2017</td>\n      <td>07/10/2017</td>\n      <td>NaN</td>\n      <td>07/10/2017</td>\n      <td>NaN</td>\n      <td>NaN</td>\n      <td>NaN</td>\n      <td>NaN</td>\n      <td>NaN</td>\n      <td>NaN</td>\n      <td>NaN</td>\n      <td>1.0</td>\n      <td>NaN</td>\n      <td>NaN</td>\n      <td>NaN</td>\n      <td>NaN</td>\n      <td>NaN</td>\n      <td>NaN</td>\n      <td>NaN</td>\n      <td>NaN</td>\n      <td>NaN</td>\n      <td>NaN</td>\n      <td>NaN</td>\n      <td>8.0</td>\n      <td>Noe Valley</td>\n      <td>94114.0</td>\n      <td>(37.75006779619502, -122.43127350268124)</td>\n      <td>1469781206718</td>\n    </tr>\n    <tr>\n      <th>13</th>\n      <td>201707252846</td>\n      <td>8</td>\n      <td>otc alterations permit</td>\n      <td>07/25/2017</td>\n      <td>6589</td>\n      <td>002R</td>\n      <td>681</td>\n      <td>NaN</td>\n      <td>27th</td>\n      <td>St</td>\n      <td>NaN</td>\n      <td>NaN</td>\n      <td>remove and replace landscape wall</td>\n      <td>filed</td>\n      <td>07/25/2017</td>\n      <td>07/25/2017</td>\n      <td>NaN</td>\n      <td>NaN</td>\n      <td>NaN</td>\n      <td>NaN</td>\n      <td>2.0</td>\n      <td>2.0</td>\n      <td>NaN</td>\n      <td>NaN</td>\n      <td>NaN</td>\n      <td>30000.0</td>\n      <td>0.0</td>\n      <td>1 family dwelling</td>\n      <td>1.0</td>\n      <td>1 family dwelling</td>\n      <td>1.0</td>\n      <td>2.0</td>\n      <td>NaN</td>\n      <td>5.0</td>\n      <td>wood frame (5)</td>\n      <td>5.0</td>\n      <td>wood frame (5)</td>\n      <td>NaN</td>\n      <td>8.0</td>\n      <td>Noe Valley</td>\n      <td>94131.0</td>\n      <td>(37.7462205625642, -122.4353484860549)</td>\n      <td>1471799208305</td>\n    </tr>\n    <tr>\n      <th>14</th>\n      <td>M813729</td>\n      <td>8</td>\n      <td>otc alterations permit</td>\n      <td>07/26/2017</td>\n      <td>1049</td>\n      <td>027</td>\n      <td>2761</td>\n      <td>NaN</td>\n      <td>Pine</td>\n      <td>St</td>\n      <td>NaN</td>\n      <td>NaN</td>\n      <td>street space</td>\n      <td>issued</td>\n      <td>07/26/2017</td>\n      <td>07/26/2017</td>\n      <td>07/26/2017</td>\n      <td>NaN</td>\n      <td>07/26/2017</td>\n      <td>NaN</td>\n      <td>NaN</td>\n      <td>NaN</td>\n      <td>NaN</td>\n      <td>NaN</td>\n      <td>NaN</td>\n      <td>NaN</td>\n      <td>1.0</td>\n      <td>NaN</td>\n      <td>NaN</td>\n      <td>NaN</td>\n      <td>NaN</td>\n      <td>NaN</td>\n      <td>NaN</td>\n      <td>NaN</td>\n      <td>NaN</td>\n      <td>NaN</td>\n      <td>NaN</td>\n      <td>NaN</td>\n      <td>2.0</td>\n      <td>Pacific Heights</td>\n      <td>94115.0</td>\n      <td>(37.78676200041077, -122.44124093333335)</td>\n      <td>147203988249</td>\n    </tr>\n    <tr>\n      <th>15</th>\n      <td>M813907</td>\n      <td>8</td>\n      <td>otc alterations permit</td>\n      <td>07/27/2017</td>\n      <td>0243</td>\n      <td>043</td>\n      <td>840</td>\n      <td>NaN</td>\n      <td>Powell</td>\n      <td>St</td>\n      <td>301.0</td>\n      <td>NaN</td>\n      <td>street space</td>\n      <td>issued</td>\n      <td>07/27/2017</td>\n      <td>07/27/2017</td>\n      <td>07/27/2017</td>\n      <td>NaN</td>\n      <td>07/27/2017</td>\n      <td>NaN</td>\n      <td>NaN</td>\n      <td>NaN</td>\n      <td>NaN</td>\n      <td>NaN</td>\n      <td>NaN</td>\n      <td>NaN</td>\n      <td>1.0</td>\n      <td>NaN</td>\n      <td>NaN</td>\n      <td>NaN</td>\n      <td>NaN</td>\n      <td>NaN</td>\n      <td>NaN</td>\n      <td>NaN</td>\n      <td>NaN</td>\n      <td>NaN</td>\n      <td>NaN</td>\n      <td>NaN</td>\n      <td>3.0</td>\n      <td>Chinatown</td>\n      <td>94108.0</td>\n      <td>(37.7926690651263, -122.40883941791454)</td>\n      <td>147208763456</td>\n    </tr>\n    <tr>\n      <th>16</th>\n      <td>M813967</td>\n      <td>8</td>\n      <td>otc alterations permit</td>\n      <td>07/27/2017</td>\n      <td>0268</td>\n      <td>008</td>\n      <td>220</td>\n      <td>NaN</td>\n      <td>Montgomery</td>\n      <td>St</td>\n      <td>NaN</td>\n      <td>NaN</td>\n      <td>street space permit</td>\n      <td>issued</td>\n      <td>07/27/2017</td>\n      <td>07/27/2017</td>\n      <td>07/27/2017</td>\n      <td>NaN</td>\n      <td>07/27/2017</td>\n      <td>NaN</td>\n      <td>NaN</td>\n      <td>NaN</td>\n      <td>NaN</td>\n      <td>NaN</td>\n      <td>NaN</td>\n      <td>NaN</td>\n      <td>1.0</td>\n      <td>NaN</td>\n      <td>NaN</td>\n      <td>NaN</td>\n      <td>NaN</td>\n      <td>NaN</td>\n      <td>NaN</td>\n      <td>NaN</td>\n      <td>NaN</td>\n      <td>NaN</td>\n      <td>NaN</td>\n      <td>NaN</td>\n      <td>3.0</td>\n      <td>Financial District/South Beach</td>\n      <td>94104.0</td>\n      <td>(37.79130641988351, -122.40198579459195)</td>\n      <td>147211866168</td>\n    </tr>\n    <tr>\n      <th>17</th>\n      <td>M814148</td>\n      <td>8</td>\n      <td>otc alterations permit</td>\n      <td>07/27/2017</td>\n      <td>3621</td>\n      <td>097</td>\n      <td>3707</td>\n      <td>NaN</td>\n      <td>21st</td>\n      <td>St</td>\n      <td>0.0</td>\n      <td>NaN</td>\n      <td>street space &amp; sidewalk repair</td>\n      <td>issued</td>\n      <td>07/27/2017</td>\n      <td>07/27/2017</td>\n      <td>07/27/2017</td>\n      <td>NaN</td>\n      <td>07/27/2017</td>\n      <td>NaN</td>\n      <td>NaN</td>\n      <td>NaN</td>\n      <td>NaN</td>\n      <td>NaN</td>\n      <td>NaN</td>\n      <td>NaN</td>\n      <td>1.0</td>\n      <td>NaN</td>\n      <td>NaN</td>\n      <td>NaN</td>\n      <td>NaN</td>\n      <td>NaN</td>\n      <td>NaN</td>\n      <td>NaN</td>\n      <td>NaN</td>\n      <td>NaN</td>\n      <td>NaN</td>\n      <td>NaN</td>\n      <td>8.0</td>\n      <td>Noe Valley</td>\n      <td>94114.0</td>\n      <td>(37.75607840165479, -122.43041143390109)</td>\n      <td>1472184412108</td>\n    </tr>\n    <tr>\n      <th>18</th>\n      <td>201707283165</td>\n      <td>8</td>\n      <td>otc alterations permit</td>\n      <td>07/28/2017</td>\n      <td>0472</td>\n      <td>042</td>\n      <td>1307</td>\n      <td>NaN</td>\n      <td>Bay</td>\n      <td>St</td>\n      <td>1.0</td>\n      <td>NaN</td>\n      <td>soft story ordinance sf building code chptr 34...</td>\n      <td>filed</td>\n      <td>07/28/2017</td>\n      <td>07/28/2017</td>\n      <td>NaN</td>\n      <td>NaN</td>\n      <td>NaN</td>\n      <td>NaN</td>\n      <td>4.0</td>\n      <td>4.0</td>\n      <td>NaN</td>\n      <td>NaN</td>\n      <td>NaN</td>\n      <td>75000.0</td>\n      <td>0.0</td>\n      <td>apartments</td>\n      <td>6.0</td>\n      <td>apartments</td>\n      <td>6.0</td>\n      <td>2.0</td>\n      <td>NaN</td>\n      <td>5.0</td>\n      <td>wood frame (5)</td>\n      <td>5.0</td>\n      <td>wood frame (5)</td>\n      <td>NaN</td>\n      <td>2.0</td>\n      <td>Marina</td>\n      <td>94123.0</td>\n      <td>(37.8035183252307, -122.42863180996076)</td>\n      <td>1472277302360</td>\n    </tr>\n    <tr>\n      <th>19</th>\n      <td>M814368</td>\n      <td>8</td>\n      <td>otc alterations permit</td>\n      <td>07/28/2017</td>\n      <td>2659</td>\n      <td>001</td>\n      <td>263</td>\n      <td>NaN</td>\n      <td>Corbett</td>\n      <td>Av</td>\n      <td>0.0</td>\n      <td>NaN</td>\n      <td>street space</td>\n      <td>issued</td>\n      <td>07/28/2017</td>\n      <td>07/28/2017</td>\n      <td>07/28/2017</td>\n      <td>NaN</td>\n      <td>07/28/2017</td>\n      <td>NaN</td>\n      <td>NaN</td>\n      <td>NaN</td>\n      <td>NaN</td>\n      <td>NaN</td>\n      <td>NaN</td>\n      <td>NaN</td>\n      <td>1.0</td>\n      <td>NaN</td>\n      <td>NaN</td>\n      <td>NaN</td>\n      <td>NaN</td>\n      <td>NaN</td>\n      <td>NaN</td>\n      <td>NaN</td>\n      <td>NaN</td>\n      <td>NaN</td>\n      <td>NaN</td>\n      <td>NaN</td>\n      <td>8.0</td>\n      <td>Castro/Upper Market</td>\n      <td>94114.0</td>\n      <td>(37.761092365437214, -122.44402154957145)</td>\n      <td>1472295408612</td>\n    </tr>\n  </tbody>\n</table>\n</div>"
     },
     "execution_count": 22,
     "metadata": {},
     "output_type": "execute_result"
    }
   ],
   "source": [
    "pd.options.display.max_columns = 50\n",
    "sf_permits.head(20)\n"
   ],
   "metadata": {
    "collapsed": false,
    "pycharm": {
     "name": "#%%\n"
    }
   }
  },
  {
   "cell_type": "code",
   "execution_count": 27,
   "outputs": [
    {
     "data": {
      "text/plain": "0         94102\n1         94102\n2         94109\n3         94109\n4         94102\n          ...  \n198895        0\n198896        0\n198897        0\n198898        0\n198899        0\nName: Zipcode, Length: 198900, dtype: int64"
     },
     "execution_count": 27,
     "metadata": {},
     "output_type": "execute_result"
    }
   ],
   "source": [
    "sf_permits['Zipcode'].fillna(value=0).astype(int)"
   ],
   "metadata": {
    "collapsed": false,
    "pycharm": {
     "name": "#%%\n"
    }
   }
  },
  {
   "cell_type": "code",
   "execution_count": 28,
   "outputs": [
    {
     "data": {
      "text/plain": "Empty DataFrame\nColumns: [Permit Number, Permit Type, Permit Type Definition, Permit Creation Date, Block, Lot, Street Number, Street Number Suffix, Street Name, Street Suffix, Unit, Unit Suffix, Description, Current Status, Current Status Date, Filed Date, Issued Date, Completed Date, First Construction Document Date, Structural Notification, Number of Existing Stories, Number of Proposed Stories, Voluntary Soft-Story Retrofit, Fire Only Permit, Permit Expiration Date, Estimated Cost, Revised Cost, Existing Use, Existing Units, Proposed Use, Proposed Units, Plansets, TIDF Compliance, Existing Construction Type, Existing Construction Type Description, Proposed Construction Type, Proposed Construction Type Description, Site Permit, Supervisor District, Neighborhoods - Analysis Boundaries, Zipcode, Location, Record ID]\nIndex: []",
      "text/html": "<div>\n<style scoped>\n    .dataframe tbody tr th:only-of-type {\n        vertical-align: middle;\n    }\n\n    .dataframe tbody tr th {\n        vertical-align: top;\n    }\n\n    .dataframe thead th {\n        text-align: right;\n    }\n</style>\n<table border=\"1\" class=\"dataframe\">\n  <thead>\n    <tr style=\"text-align: right;\">\n      <th></th>\n      <th>Permit Number</th>\n      <th>Permit Type</th>\n      <th>Permit Type Definition</th>\n      <th>Permit Creation Date</th>\n      <th>Block</th>\n      <th>Lot</th>\n      <th>Street Number</th>\n      <th>Street Number Suffix</th>\n      <th>Street Name</th>\n      <th>Street Suffix</th>\n      <th>Unit</th>\n      <th>Unit Suffix</th>\n      <th>Description</th>\n      <th>Current Status</th>\n      <th>Current Status Date</th>\n      <th>Filed Date</th>\n      <th>Issued Date</th>\n      <th>Completed Date</th>\n      <th>First Construction Document Date</th>\n      <th>Structural Notification</th>\n      <th>Number of Existing Stories</th>\n      <th>Number of Proposed Stories</th>\n      <th>Voluntary Soft-Story Retrofit</th>\n      <th>Fire Only Permit</th>\n      <th>Permit Expiration Date</th>\n      <th>Estimated Cost</th>\n      <th>Revised Cost</th>\n      <th>Existing Use</th>\n      <th>Existing Units</th>\n      <th>Proposed Use</th>\n      <th>Proposed Units</th>\n      <th>Plansets</th>\n      <th>TIDF Compliance</th>\n      <th>Existing Construction Type</th>\n      <th>Existing Construction Type Description</th>\n      <th>Proposed Construction Type</th>\n      <th>Proposed Construction Type Description</th>\n      <th>Site Permit</th>\n      <th>Supervisor District</th>\n      <th>Neighborhoods - Analysis Boundaries</th>\n      <th>Zipcode</th>\n      <th>Location</th>\n      <th>Record ID</th>\n    </tr>\n  </thead>\n  <tbody>\n  </tbody>\n</table>\n</div>"
     },
     "execution_count": 28,
     "metadata": {},
     "output_type": "execute_result"
    }
   ],
   "source": [
    "sf_permits.dropna()"
   ],
   "metadata": {
    "collapsed": false,
    "pycharm": {
     "name": "#%%\n"
    }
   }
  },
  {
   "cell_type": "code",
   "execution_count": 32,
   "outputs": [
    {
     "data": {
      "text/plain": "12"
     },
     "execution_count": 32,
     "metadata": {},
     "output_type": "execute_result"
    }
   ],
   "source": [
    "sf_permits_with_na_dropped = sf_permits.dropna(axis=1)\n",
    "columns_left = sf_permits_with_na_dropped.shape[1]\n",
    "columns_org = sf_permits.shape[1]\n",
    "dropped_columns = columns_org - columns_left"
   ],
   "metadata": {
    "collapsed": false,
    "pycharm": {
     "name": "#%%\n"
    }
   }
  },
  {
   "cell_type": "code",
   "execution_count": 33,
   "outputs": [
    {
     "data": {
      "text/plain": "       Permit Number  Permit Type            Permit Type Definition  \\\n0       201505065519            4                      sign - erect   \n1       201604195146            4                      sign - erect   \n2       201605278609            3  additions alterations or repairs   \n3       201611072166            8            otc alterations permit   \n4       201611283529            6                       demolitions   \n...              ...          ...                               ...   \n198895       M862628            8            otc alterations permit   \n198896  201712055595            8            otc alterations permit   \n198897       M863507            8            otc alterations permit   \n198898       M863747            8            otc alterations permit   \n198899       M864287            8            otc alterations permit   \n\n       Permit Creation Date Block   Lot  Street Number Street Number Suffix  \\\n0                05/06/2015  0326   023            140                    A   \n1                04/19/2016  0306   007            440                    A   \n2                05/27/2016  0595   203           1647                    A   \n3                11/07/2016  0156   011           1230                    A   \n4                11/28/2016  0342   001            950                    A   \n...                     ...   ...   ...            ...                  ...   \n198895           12/05/2017  0113  017A           1228                    0   \n198896           12/05/2017  0271   014            580                    0   \n198897           12/06/2017  4318   019           1568                    0   \n198898           12/06/2017  0298   029            795                    0   \n198899           12/07/2017  0160   006            838                    0   \n\n       Street Name Street Suffix  Unit Unit Suffix  \\\n0            Ellis            St   0.0           A   \n1            Geary            St   0.0           A   \n2          Pacific            Av   0.0           A   \n3          Pacific            Av   0.0           A   \n4           Market            St   0.0           A   \n...            ...           ...   ...         ...   \n198895  Montgomery            St   0.0           0   \n198896        Bush            St   0.0           0   \n198897     Indiana            St   0.0           0   \n198898      Sutter            St   0.0           0   \n198899     Pacific            Av   0.0           0   \n\n                                              Description Current Status  \\\n0       ground fl facade: to erect illuminated, electr...        expired   \n1                 remove (e) awning and associated signs.         issued   \n2                         installation of separating wall      withdrawn   \n3                repair dryrot & stucco at front of bldg.       complete   \n4       demolish retail/office/commercial 3-story buil...         issued   \n...                                                   ...            ...   \n198895                                       street space         issued   \n198896                fire alarm upgrade ref 201704123852         issued   \n198897                                       street space         issued   \n198898                                street space permit         issued   \n198899                                street space permit         issued   \n\n       Current Status Date  Filed Date Issued Date Completed Date  \\\n0               12/21/2017  05/06/2015  11/09/2015     07/24/2017   \n1               08/03/2017  04/19/2016  08/03/2017     07/24/2017   \n2               09/26/2017  05/27/2016  07/18/2017     07/24/2017   \n3               07/24/2017  11/07/2016  07/18/2017     07/24/2017   \n4               12/01/2017  11/28/2016  12/01/2017     07/12/2017   \n...                    ...         ...         ...            ...   \n198895          12/05/2017  12/05/2017  12/05/2017              0   \n198896          12/06/2017  12/05/2017  12/06/2017              0   \n198897          12/06/2017  12/06/2017  12/06/2017              0   \n198898          12/06/2017  12/06/2017  12/06/2017              0   \n198899          12/07/2017  12/07/2017  12/07/2017              0   \n\n       First Construction Document Date Structural Notification  \\\n0                            11/09/2015                       Y   \n1                            08/03/2017                       Y   \n2                            07/18/2017                       Y   \n3                            07/18/2017                       Y   \n4                            11/20/2017                       Y   \n...                                 ...                     ...   \n198895                       12/05/2017                       0   \n198896                       12/06/2017                       0   \n198897                       12/06/2017                       0   \n198898                       12/06/2017                       0   \n198899                       12/07/2017                       0   \n\n        Number of Existing Stories  Number of Proposed Stories  \\\n0                              6.0                         6.0   \n1                              7.0                         6.0   \n2                              6.0                         6.0   \n3                              2.0                         2.0   \n4                              3.0                         5.0   \n...                            ...                         ...   \n198895                         4.0                         4.0   \n198896                         4.0                         4.0   \n198897                         0.0                         0.0   \n198898                         0.0                         0.0   \n198899                         0.0                         0.0   \n\n       Voluntary Soft-Story Retrofit Fire Only Permit Permit Expiration Date  \\\n0                                  Y                Y             11/03/2016   \n1                                  Y                Y             12/03/2017   \n2                                  Y                Y             07/13/2018   \n3                                  Y                Y             07/13/2018   \n4                                  Y                Y             12/01/2018   \n...                              ...              ...                    ...   \n198895                             0                Y             04/06/2018   \n198896                             0                Y             04/06/2018   \n198897                             0                0                      0   \n198898                             0                0                      0   \n198899                             0                0                      0   \n\n        Estimated Cost  Revised Cost         Existing Use  Existing Units  \\\n0               4000.0        4000.0  tourist hotel/motel           143.0   \n1                  1.0         500.0  tourist hotel/motel            39.0   \n2              20000.0        2000.0         retail sales            39.0   \n3               2000.0        2000.0    1 family dwelling             1.0   \n4             100000.0      100000.0         retail sales           326.0   \n...                ...           ...                  ...             ...   \n198895          5000.0           1.0           apartments             4.0   \n198896          5000.0        5000.0           apartments             4.0   \n198897             0.0           1.0                    0             0.0   \n198898             0.0           1.0                    0             0.0   \n198899             0.0           1.0                    0             0.0   \n\n             Proposed Use  Proposed Units  Plansets TIDF Compliance  \\\n0            retail sales            39.0       2.0               Y   \n1            retail sales            39.0       2.0               Y   \n2            retail sales            39.0       2.0               Y   \n3       1 family dwelling             1.0       2.0               Y   \n4              apartments           326.0       2.0               Y   \n...                   ...             ...       ...             ...   \n198895         apartments             4.0       2.0               0   \n198896         apartments             4.0       2.0               0   \n198897                  0             0.0       0.0               0   \n198898                  0             0.0       0.0               0   \n198899                  0             0.0       0.0               0   \n\n        Existing Construction Type Existing Construction Type Description  \\\n0                              3.0                          constr type 3   \n1                              3.0                          constr type 3   \n2                              1.0                          constr type 1   \n3                              5.0                         wood frame (5)   \n4                              3.0                          constr type 3   \n...                            ...                                    ...   \n198895                         5.0                         wood frame (5)   \n198896                         5.0                         wood frame (5)   \n198897                         0.0                                      0   \n198898                         0.0                                      0   \n198899                         0.0                                      0   \n\n        Proposed Construction Type Proposed Construction Type Description  \\\n0                              1.0                          constr type 1   \n1                              1.0                          constr type 1   \n2                              1.0                          constr type 1   \n3                              5.0                         wood frame (5)   \n4                              1.0                          constr type 1   \n...                            ...                                    ...   \n198895                         5.0                         wood frame (5)   \n198896                         5.0                         wood frame (5)   \n198897                         0.0                                      0   \n198898                         0.0                                      0   \n198899                         0.0                                      0   \n\n       Site Permit  Supervisor District Neighborhoods - Analysis Boundaries  \\\n0                Y                  3.0                          Tenderloin   \n1                Y                  3.0                          Tenderloin   \n2                Y                  3.0                        Russian Hill   \n3                Y                  3.0                            Nob Hill   \n4                Y                  6.0                          Tenderloin   \n...            ...                  ...                                 ...   \n198895           0                  0.0                                   0   \n198896           0                  0.0                                   0   \n198897           0                  0.0                                   0   \n198898           0                  0.0                                   0   \n198899           0                  0.0                                   0   \n\n        Zipcode                                   Location      Record ID  \n0       94102.0  (37.785719256680785, -122.40852313194863)  1380611233945  \n1       94102.0   (37.78733980600732, -122.41063199757738)  1420164406718  \n2       94109.0    (37.7946573324287, -122.42232562979227)  1424856504716  \n3       94109.0   (37.79595867909168, -122.41557405519474)  1443574295566  \n4       94102.0   (37.78315261897309, -122.40950883997789)   144548169992  \n...         ...                                        ...            ...  \n198895      0.0                                          0  1489337276729  \n198896      0.0                                          0  1489462354993  \n198897      0.0                                          0  1489539379952  \n198898      0.0                                          0  1489608233656  \n198899      0.0                                          0  1489796283803  \n\n[198900 rows x 43 columns]",
      "text/html": "<div>\n<style scoped>\n    .dataframe tbody tr th:only-of-type {\n        vertical-align: middle;\n    }\n\n    .dataframe tbody tr th {\n        vertical-align: top;\n    }\n\n    .dataframe thead th {\n        text-align: right;\n    }\n</style>\n<table border=\"1\" class=\"dataframe\">\n  <thead>\n    <tr style=\"text-align: right;\">\n      <th></th>\n      <th>Permit Number</th>\n      <th>Permit Type</th>\n      <th>Permit Type Definition</th>\n      <th>Permit Creation Date</th>\n      <th>Block</th>\n      <th>Lot</th>\n      <th>Street Number</th>\n      <th>Street Number Suffix</th>\n      <th>Street Name</th>\n      <th>Street Suffix</th>\n      <th>Unit</th>\n      <th>Unit Suffix</th>\n      <th>Description</th>\n      <th>Current Status</th>\n      <th>Current Status Date</th>\n      <th>Filed Date</th>\n      <th>Issued Date</th>\n      <th>Completed Date</th>\n      <th>First Construction Document Date</th>\n      <th>Structural Notification</th>\n      <th>Number of Existing Stories</th>\n      <th>Number of Proposed Stories</th>\n      <th>Voluntary Soft-Story Retrofit</th>\n      <th>Fire Only Permit</th>\n      <th>Permit Expiration Date</th>\n      <th>Estimated Cost</th>\n      <th>Revised Cost</th>\n      <th>Existing Use</th>\n      <th>Existing Units</th>\n      <th>Proposed Use</th>\n      <th>Proposed Units</th>\n      <th>Plansets</th>\n      <th>TIDF Compliance</th>\n      <th>Existing Construction Type</th>\n      <th>Existing Construction Type Description</th>\n      <th>Proposed Construction Type</th>\n      <th>Proposed Construction Type Description</th>\n      <th>Site Permit</th>\n      <th>Supervisor District</th>\n      <th>Neighborhoods - Analysis Boundaries</th>\n      <th>Zipcode</th>\n      <th>Location</th>\n      <th>Record ID</th>\n    </tr>\n  </thead>\n  <tbody>\n    <tr>\n      <th>0</th>\n      <td>201505065519</td>\n      <td>4</td>\n      <td>sign - erect</td>\n      <td>05/06/2015</td>\n      <td>0326</td>\n      <td>023</td>\n      <td>140</td>\n      <td>A</td>\n      <td>Ellis</td>\n      <td>St</td>\n      <td>0.0</td>\n      <td>A</td>\n      <td>ground fl facade: to erect illuminated, electr...</td>\n      <td>expired</td>\n      <td>12/21/2017</td>\n      <td>05/06/2015</td>\n      <td>11/09/2015</td>\n      <td>07/24/2017</td>\n      <td>11/09/2015</td>\n      <td>Y</td>\n      <td>6.0</td>\n      <td>6.0</td>\n      <td>Y</td>\n      <td>Y</td>\n      <td>11/03/2016</td>\n      <td>4000.0</td>\n      <td>4000.0</td>\n      <td>tourist hotel/motel</td>\n      <td>143.0</td>\n      <td>retail sales</td>\n      <td>39.0</td>\n      <td>2.0</td>\n      <td>Y</td>\n      <td>3.0</td>\n      <td>constr type 3</td>\n      <td>1.0</td>\n      <td>constr type 1</td>\n      <td>Y</td>\n      <td>3.0</td>\n      <td>Tenderloin</td>\n      <td>94102.0</td>\n      <td>(37.785719256680785, -122.40852313194863)</td>\n      <td>1380611233945</td>\n    </tr>\n    <tr>\n      <th>1</th>\n      <td>201604195146</td>\n      <td>4</td>\n      <td>sign - erect</td>\n      <td>04/19/2016</td>\n      <td>0306</td>\n      <td>007</td>\n      <td>440</td>\n      <td>A</td>\n      <td>Geary</td>\n      <td>St</td>\n      <td>0.0</td>\n      <td>A</td>\n      <td>remove (e) awning and associated signs.</td>\n      <td>issued</td>\n      <td>08/03/2017</td>\n      <td>04/19/2016</td>\n      <td>08/03/2017</td>\n      <td>07/24/2017</td>\n      <td>08/03/2017</td>\n      <td>Y</td>\n      <td>7.0</td>\n      <td>6.0</td>\n      <td>Y</td>\n      <td>Y</td>\n      <td>12/03/2017</td>\n      <td>1.0</td>\n      <td>500.0</td>\n      <td>tourist hotel/motel</td>\n      <td>39.0</td>\n      <td>retail sales</td>\n      <td>39.0</td>\n      <td>2.0</td>\n      <td>Y</td>\n      <td>3.0</td>\n      <td>constr type 3</td>\n      <td>1.0</td>\n      <td>constr type 1</td>\n      <td>Y</td>\n      <td>3.0</td>\n      <td>Tenderloin</td>\n      <td>94102.0</td>\n      <td>(37.78733980600732, -122.41063199757738)</td>\n      <td>1420164406718</td>\n    </tr>\n    <tr>\n      <th>2</th>\n      <td>201605278609</td>\n      <td>3</td>\n      <td>additions alterations or repairs</td>\n      <td>05/27/2016</td>\n      <td>0595</td>\n      <td>203</td>\n      <td>1647</td>\n      <td>A</td>\n      <td>Pacific</td>\n      <td>Av</td>\n      <td>0.0</td>\n      <td>A</td>\n      <td>installation of separating wall</td>\n      <td>withdrawn</td>\n      <td>09/26/2017</td>\n      <td>05/27/2016</td>\n      <td>07/18/2017</td>\n      <td>07/24/2017</td>\n      <td>07/18/2017</td>\n      <td>Y</td>\n      <td>6.0</td>\n      <td>6.0</td>\n      <td>Y</td>\n      <td>Y</td>\n      <td>07/13/2018</td>\n      <td>20000.0</td>\n      <td>2000.0</td>\n      <td>retail sales</td>\n      <td>39.0</td>\n      <td>retail sales</td>\n      <td>39.0</td>\n      <td>2.0</td>\n      <td>Y</td>\n      <td>1.0</td>\n      <td>constr type 1</td>\n      <td>1.0</td>\n      <td>constr type 1</td>\n      <td>Y</td>\n      <td>3.0</td>\n      <td>Russian Hill</td>\n      <td>94109.0</td>\n      <td>(37.7946573324287, -122.42232562979227)</td>\n      <td>1424856504716</td>\n    </tr>\n    <tr>\n      <th>3</th>\n      <td>201611072166</td>\n      <td>8</td>\n      <td>otc alterations permit</td>\n      <td>11/07/2016</td>\n      <td>0156</td>\n      <td>011</td>\n      <td>1230</td>\n      <td>A</td>\n      <td>Pacific</td>\n      <td>Av</td>\n      <td>0.0</td>\n      <td>A</td>\n      <td>repair dryrot &amp; stucco at front of bldg.</td>\n      <td>complete</td>\n      <td>07/24/2017</td>\n      <td>11/07/2016</td>\n      <td>07/18/2017</td>\n      <td>07/24/2017</td>\n      <td>07/18/2017</td>\n      <td>Y</td>\n      <td>2.0</td>\n      <td>2.0</td>\n      <td>Y</td>\n      <td>Y</td>\n      <td>07/13/2018</td>\n      <td>2000.0</td>\n      <td>2000.0</td>\n      <td>1 family dwelling</td>\n      <td>1.0</td>\n      <td>1 family dwelling</td>\n      <td>1.0</td>\n      <td>2.0</td>\n      <td>Y</td>\n      <td>5.0</td>\n      <td>wood frame (5)</td>\n      <td>5.0</td>\n      <td>wood frame (5)</td>\n      <td>Y</td>\n      <td>3.0</td>\n      <td>Nob Hill</td>\n      <td>94109.0</td>\n      <td>(37.79595867909168, -122.41557405519474)</td>\n      <td>1443574295566</td>\n    </tr>\n    <tr>\n      <th>4</th>\n      <td>201611283529</td>\n      <td>6</td>\n      <td>demolitions</td>\n      <td>11/28/2016</td>\n      <td>0342</td>\n      <td>001</td>\n      <td>950</td>\n      <td>A</td>\n      <td>Market</td>\n      <td>St</td>\n      <td>0.0</td>\n      <td>A</td>\n      <td>demolish retail/office/commercial 3-story buil...</td>\n      <td>issued</td>\n      <td>12/01/2017</td>\n      <td>11/28/2016</td>\n      <td>12/01/2017</td>\n      <td>07/12/2017</td>\n      <td>11/20/2017</td>\n      <td>Y</td>\n      <td>3.0</td>\n      <td>5.0</td>\n      <td>Y</td>\n      <td>Y</td>\n      <td>12/01/2018</td>\n      <td>100000.0</td>\n      <td>100000.0</td>\n      <td>retail sales</td>\n      <td>326.0</td>\n      <td>apartments</td>\n      <td>326.0</td>\n      <td>2.0</td>\n      <td>Y</td>\n      <td>3.0</td>\n      <td>constr type 3</td>\n      <td>1.0</td>\n      <td>constr type 1</td>\n      <td>Y</td>\n      <td>6.0</td>\n      <td>Tenderloin</td>\n      <td>94102.0</td>\n      <td>(37.78315261897309, -122.40950883997789)</td>\n      <td>144548169992</td>\n    </tr>\n    <tr>\n      <th>...</th>\n      <td>...</td>\n      <td>...</td>\n      <td>...</td>\n      <td>...</td>\n      <td>...</td>\n      <td>...</td>\n      <td>...</td>\n      <td>...</td>\n      <td>...</td>\n      <td>...</td>\n      <td>...</td>\n      <td>...</td>\n      <td>...</td>\n      <td>...</td>\n      <td>...</td>\n      <td>...</td>\n      <td>...</td>\n      <td>...</td>\n      <td>...</td>\n      <td>...</td>\n      <td>...</td>\n      <td>...</td>\n      <td>...</td>\n      <td>...</td>\n      <td>...</td>\n      <td>...</td>\n      <td>...</td>\n      <td>...</td>\n      <td>...</td>\n      <td>...</td>\n      <td>...</td>\n      <td>...</td>\n      <td>...</td>\n      <td>...</td>\n      <td>...</td>\n      <td>...</td>\n      <td>...</td>\n      <td>...</td>\n      <td>...</td>\n      <td>...</td>\n      <td>...</td>\n      <td>...</td>\n      <td>...</td>\n    </tr>\n    <tr>\n      <th>198895</th>\n      <td>M862628</td>\n      <td>8</td>\n      <td>otc alterations permit</td>\n      <td>12/05/2017</td>\n      <td>0113</td>\n      <td>017A</td>\n      <td>1228</td>\n      <td>0</td>\n      <td>Montgomery</td>\n      <td>St</td>\n      <td>0.0</td>\n      <td>0</td>\n      <td>street space</td>\n      <td>issued</td>\n      <td>12/05/2017</td>\n      <td>12/05/2017</td>\n      <td>12/05/2017</td>\n      <td>0</td>\n      <td>12/05/2017</td>\n      <td>0</td>\n      <td>4.0</td>\n      <td>4.0</td>\n      <td>0</td>\n      <td>Y</td>\n      <td>04/06/2018</td>\n      <td>5000.0</td>\n      <td>1.0</td>\n      <td>apartments</td>\n      <td>4.0</td>\n      <td>apartments</td>\n      <td>4.0</td>\n      <td>2.0</td>\n      <td>0</td>\n      <td>5.0</td>\n      <td>wood frame (5)</td>\n      <td>5.0</td>\n      <td>wood frame (5)</td>\n      <td>0</td>\n      <td>0.0</td>\n      <td>0</td>\n      <td>0.0</td>\n      <td>0</td>\n      <td>1489337276729</td>\n    </tr>\n    <tr>\n      <th>198896</th>\n      <td>201712055595</td>\n      <td>8</td>\n      <td>otc alterations permit</td>\n      <td>12/05/2017</td>\n      <td>0271</td>\n      <td>014</td>\n      <td>580</td>\n      <td>0</td>\n      <td>Bush</td>\n      <td>St</td>\n      <td>0.0</td>\n      <td>0</td>\n      <td>fire alarm upgrade ref 201704123852</td>\n      <td>issued</td>\n      <td>12/06/2017</td>\n      <td>12/05/2017</td>\n      <td>12/06/2017</td>\n      <td>0</td>\n      <td>12/06/2017</td>\n      <td>0</td>\n      <td>4.0</td>\n      <td>4.0</td>\n      <td>0</td>\n      <td>Y</td>\n      <td>04/06/2018</td>\n      <td>5000.0</td>\n      <td>5000.0</td>\n      <td>apartments</td>\n      <td>4.0</td>\n      <td>apartments</td>\n      <td>4.0</td>\n      <td>2.0</td>\n      <td>0</td>\n      <td>5.0</td>\n      <td>wood frame (5)</td>\n      <td>5.0</td>\n      <td>wood frame (5)</td>\n      <td>0</td>\n      <td>0.0</td>\n      <td>0</td>\n      <td>0.0</td>\n      <td>0</td>\n      <td>1489462354993</td>\n    </tr>\n    <tr>\n      <th>198897</th>\n      <td>M863507</td>\n      <td>8</td>\n      <td>otc alterations permit</td>\n      <td>12/06/2017</td>\n      <td>4318</td>\n      <td>019</td>\n      <td>1568</td>\n      <td>0</td>\n      <td>Indiana</td>\n      <td>St</td>\n      <td>0.0</td>\n      <td>0</td>\n      <td>street space</td>\n      <td>issued</td>\n      <td>12/06/2017</td>\n      <td>12/06/2017</td>\n      <td>12/06/2017</td>\n      <td>0</td>\n      <td>12/06/2017</td>\n      <td>0</td>\n      <td>0.0</td>\n      <td>0.0</td>\n      <td>0</td>\n      <td>0</td>\n      <td>0</td>\n      <td>0.0</td>\n      <td>1.0</td>\n      <td>0</td>\n      <td>0.0</td>\n      <td>0</td>\n      <td>0.0</td>\n      <td>0.0</td>\n      <td>0</td>\n      <td>0.0</td>\n      <td>0</td>\n      <td>0.0</td>\n      <td>0</td>\n      <td>0</td>\n      <td>0.0</td>\n      <td>0</td>\n      <td>0.0</td>\n      <td>0</td>\n      <td>1489539379952</td>\n    </tr>\n    <tr>\n      <th>198898</th>\n      <td>M863747</td>\n      <td>8</td>\n      <td>otc alterations permit</td>\n      <td>12/06/2017</td>\n      <td>0298</td>\n      <td>029</td>\n      <td>795</td>\n      <td>0</td>\n      <td>Sutter</td>\n      <td>St</td>\n      <td>0.0</td>\n      <td>0</td>\n      <td>street space permit</td>\n      <td>issued</td>\n      <td>12/06/2017</td>\n      <td>12/06/2017</td>\n      <td>12/06/2017</td>\n      <td>0</td>\n      <td>12/06/2017</td>\n      <td>0</td>\n      <td>0.0</td>\n      <td>0.0</td>\n      <td>0</td>\n      <td>0</td>\n      <td>0</td>\n      <td>0.0</td>\n      <td>1.0</td>\n      <td>0</td>\n      <td>0.0</td>\n      <td>0</td>\n      <td>0.0</td>\n      <td>0.0</td>\n      <td>0</td>\n      <td>0.0</td>\n      <td>0</td>\n      <td>0.0</td>\n      <td>0</td>\n      <td>0</td>\n      <td>0.0</td>\n      <td>0</td>\n      <td>0.0</td>\n      <td>0</td>\n      <td>1489608233656</td>\n    </tr>\n    <tr>\n      <th>198899</th>\n      <td>M864287</td>\n      <td>8</td>\n      <td>otc alterations permit</td>\n      <td>12/07/2017</td>\n      <td>0160</td>\n      <td>006</td>\n      <td>838</td>\n      <td>0</td>\n      <td>Pacific</td>\n      <td>Av</td>\n      <td>0.0</td>\n      <td>0</td>\n      <td>street space permit</td>\n      <td>issued</td>\n      <td>12/07/2017</td>\n      <td>12/07/2017</td>\n      <td>12/07/2017</td>\n      <td>0</td>\n      <td>12/07/2017</td>\n      <td>0</td>\n      <td>0.0</td>\n      <td>0.0</td>\n      <td>0</td>\n      <td>0</td>\n      <td>0</td>\n      <td>0.0</td>\n      <td>1.0</td>\n      <td>0</td>\n      <td>0.0</td>\n      <td>0</td>\n      <td>0.0</td>\n      <td>0.0</td>\n      <td>0</td>\n      <td>0.0</td>\n      <td>0</td>\n      <td>0.0</td>\n      <td>0</td>\n      <td>0</td>\n      <td>0.0</td>\n      <td>0</td>\n      <td>0.0</td>\n      <td>0</td>\n      <td>1489796283803</td>\n    </tr>\n  </tbody>\n</table>\n<p>198900 rows × 43 columns</p>\n</div>"
     },
     "execution_count": 33,
     "metadata": {},
     "output_type": "execute_result"
    }
   ],
   "source": [
    "sf_permits.fillna(method='bfill', axis=0).fillna(0)\n"
   ],
   "metadata": {
    "collapsed": false,
    "pycharm": {
     "name": "#%%\n"
    }
   }
  },
  {
   "cell_type": "code",
   "execution_count": null,
   "outputs": [],
   "source": [],
   "metadata": {
    "collapsed": false,
    "pycharm": {
     "name": "#%%\n"
    }
   }
  }
 ],
 "metadata": {
  "kernelspec": {
   "display_name": "Python 3",
   "language": "python",
   "name": "python3"
  },
  "language_info": {
   "codemirror_mode": {
    "name": "ipython",
    "version": 2
   },
   "file_extension": ".py",
   "mimetype": "text/x-python",
   "name": "python",
   "nbconvert_exporter": "python",
   "pygments_lexer": "ipython2",
   "version": "2.7.6"
  }
 },
 "nbformat": 4,
 "nbformat_minor": 0
}
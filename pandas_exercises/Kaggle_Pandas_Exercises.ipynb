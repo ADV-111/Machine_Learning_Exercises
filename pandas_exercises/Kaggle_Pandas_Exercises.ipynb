{
 "cells": [
  {
   "cell_type": "code",
   "execution_count": 10,
   "metadata": {
    "collapsed": true
   },
   "outputs": [],
   "source": [
    "import numpy as np\n",
    "import pandas as pd\n",
    "import timeit"
   ]
  },
  {
   "cell_type": "code",
   "execution_count": 3,
   "outputs": [],
   "source": [
    "# Connecting to 'wine-review-dataset'\n",
    "DATA = '/Users/dravik/Downloads/winemag-data-130k-v2.csv'\n",
    "\n",
    "reviews = pd.read_csv(DATA)"
   ],
   "metadata": {
    "collapsed": false,
    "pycharm": {
     "name": "#%%\n"
    }
   }
  },
  {
   "cell_type": "code",
   "execution_count": 4,
   "outputs": [
    {
     "data": {
      "text/plain": "        Unnamed: 0   country  \\\n0                0     Italy   \n1                1  Portugal   \n2                2        US   \n3                3        US   \n4                4        US   \n...            ...       ...   \n129966      129966   Germany   \n129967      129967        US   \n129968      129968    France   \n129969      129969    France   \n129970      129970    France   \n\n                                              description  \\\n0       Aromas include tropical fruit, broom, brimston...   \n1       This is ripe and fruity, a wine that is smooth...   \n2       Tart and snappy, the flavors of lime flesh and...   \n3       Pineapple rind, lemon pith and orange blossom ...   \n4       Much like the regular bottling from 2012, this...   \n...                                                   ...   \n129966  Notes of honeysuckle and cantaloupe sweeten th...   \n129967  Citation is given as much as a decade of bottl...   \n129968  Well-drained gravel soil gives this wine its c...   \n129969  A dry style of Pinot Gris, this is crisp with ...   \n129970  Big, rich and off-dry, this is powered by inte...   \n\n                                   designation  points  price  \\\n0                                 Vulkà Bianco      87    NaN   \n1                                     Avidagos      87   15.0   \n2                                          NaN      87   14.0   \n3                         Reserve Late Harvest      87   13.0   \n4           Vintner's Reserve Wild Child Block      87   65.0   \n...                                        ...     ...    ...   \n129966  Brauneberger Juffer-Sonnenuhr Spätlese      90   28.0   \n129967                                     NaN      90   75.0   \n129968                                   Kritt      90   30.0   \n129969                                     NaN      90   32.0   \n129970           Lieu-dit Harth Cuvée Caroline      90   21.0   \n\n                 province             region_1           region_2  \\\n0       Sicily & Sardinia                 Etna                NaN   \n1                   Douro                  NaN                NaN   \n2                  Oregon    Willamette Valley  Willamette Valley   \n3                Michigan  Lake Michigan Shore                NaN   \n4                  Oregon    Willamette Valley  Willamette Valley   \n...                   ...                  ...                ...   \n129966              Mosel                  NaN                NaN   \n129967             Oregon               Oregon       Oregon Other   \n129968             Alsace               Alsace                NaN   \n129969             Alsace               Alsace                NaN   \n129970             Alsace               Alsace                NaN   \n\n               taster_name taster_twitter_handle  \\\n0            Kerin O’Keefe          @kerinokeefe   \n1               Roger Voss            @vossroger   \n2             Paul Gregutt           @paulgwine    \n3       Alexander Peartree                   NaN   \n4             Paul Gregutt           @paulgwine    \n...                    ...                   ...   \n129966  Anna Lee C. Iijima                   NaN   \n129967        Paul Gregutt           @paulgwine    \n129968          Roger Voss            @vossroger   \n129969          Roger Voss            @vossroger   \n129970          Roger Voss            @vossroger   \n\n                                                    title         variety  \\\n0                       Nicosia 2013 Vulkà Bianco  (Etna)     White Blend   \n1           Quinta dos Avidagos 2011 Avidagos Red (Douro)  Portuguese Red   \n2           Rainstorm 2013 Pinot Gris (Willamette Valley)      Pinot Gris   \n3       St. Julian 2013 Reserve Late Harvest Riesling ...        Riesling   \n4       Sweet Cheeks 2012 Vintner's Reserve Wild Child...      Pinot Noir   \n...                                                   ...             ...   \n129966  Dr. H. Thanisch (Erben Müller-Burggraef) 2013 ...        Riesling   \n129967                  Citation 2004 Pinot Noir (Oregon)      Pinot Noir   \n129968  Domaine Gresser 2013 Kritt Gewurztraminer (Als...  Gewürztraminer   \n129969      Domaine Marcel Deiss 2012 Pinot Gris (Alsace)      Pinot Gris   \n129970  Domaine Schoffit 2012 Lieu-dit Harth Cuvée Car...  Gewürztraminer   \n\n                                          winery  \n0                                        Nicosia  \n1                            Quinta dos Avidagos  \n2                                      Rainstorm  \n3                                     St. Julian  \n4                                   Sweet Cheeks  \n...                                          ...  \n129966  Dr. H. Thanisch (Erben Müller-Burggraef)  \n129967                                  Citation  \n129968                           Domaine Gresser  \n129969                      Domaine Marcel Deiss  \n129970                          Domaine Schoffit  \n\n[129971 rows x 14 columns]",
      "text/html": "<div>\n<style scoped>\n    .dataframe tbody tr th:only-of-type {\n        vertical-align: middle;\n    }\n\n    .dataframe tbody tr th {\n        vertical-align: top;\n    }\n\n    .dataframe thead th {\n        text-align: right;\n    }\n</style>\n<table border=\"1\" class=\"dataframe\">\n  <thead>\n    <tr style=\"text-align: right;\">\n      <th></th>\n      <th>Unnamed: 0</th>\n      <th>country</th>\n      <th>description</th>\n      <th>designation</th>\n      <th>points</th>\n      <th>price</th>\n      <th>province</th>\n      <th>region_1</th>\n      <th>region_2</th>\n      <th>taster_name</th>\n      <th>taster_twitter_handle</th>\n      <th>title</th>\n      <th>variety</th>\n      <th>winery</th>\n    </tr>\n  </thead>\n  <tbody>\n    <tr>\n      <th>0</th>\n      <td>0</td>\n      <td>Italy</td>\n      <td>Aromas include tropical fruit, broom, brimston...</td>\n      <td>Vulkà Bianco</td>\n      <td>87</td>\n      <td>NaN</td>\n      <td>Sicily &amp; Sardinia</td>\n      <td>Etna</td>\n      <td>NaN</td>\n      <td>Kerin O’Keefe</td>\n      <td>@kerinokeefe</td>\n      <td>Nicosia 2013 Vulkà Bianco  (Etna)</td>\n      <td>White Blend</td>\n      <td>Nicosia</td>\n    </tr>\n    <tr>\n      <th>1</th>\n      <td>1</td>\n      <td>Portugal</td>\n      <td>This is ripe and fruity, a wine that is smooth...</td>\n      <td>Avidagos</td>\n      <td>87</td>\n      <td>15.0</td>\n      <td>Douro</td>\n      <td>NaN</td>\n      <td>NaN</td>\n      <td>Roger Voss</td>\n      <td>@vossroger</td>\n      <td>Quinta dos Avidagos 2011 Avidagos Red (Douro)</td>\n      <td>Portuguese Red</td>\n      <td>Quinta dos Avidagos</td>\n    </tr>\n    <tr>\n      <th>2</th>\n      <td>2</td>\n      <td>US</td>\n      <td>Tart and snappy, the flavors of lime flesh and...</td>\n      <td>NaN</td>\n      <td>87</td>\n      <td>14.0</td>\n      <td>Oregon</td>\n      <td>Willamette Valley</td>\n      <td>Willamette Valley</td>\n      <td>Paul Gregutt</td>\n      <td>@paulgwine</td>\n      <td>Rainstorm 2013 Pinot Gris (Willamette Valley)</td>\n      <td>Pinot Gris</td>\n      <td>Rainstorm</td>\n    </tr>\n    <tr>\n      <th>3</th>\n      <td>3</td>\n      <td>US</td>\n      <td>Pineapple rind, lemon pith and orange blossom ...</td>\n      <td>Reserve Late Harvest</td>\n      <td>87</td>\n      <td>13.0</td>\n      <td>Michigan</td>\n      <td>Lake Michigan Shore</td>\n      <td>NaN</td>\n      <td>Alexander Peartree</td>\n      <td>NaN</td>\n      <td>St. Julian 2013 Reserve Late Harvest Riesling ...</td>\n      <td>Riesling</td>\n      <td>St. Julian</td>\n    </tr>\n    <tr>\n      <th>4</th>\n      <td>4</td>\n      <td>US</td>\n      <td>Much like the regular bottling from 2012, this...</td>\n      <td>Vintner's Reserve Wild Child Block</td>\n      <td>87</td>\n      <td>65.0</td>\n      <td>Oregon</td>\n      <td>Willamette Valley</td>\n      <td>Willamette Valley</td>\n      <td>Paul Gregutt</td>\n      <td>@paulgwine</td>\n      <td>Sweet Cheeks 2012 Vintner's Reserve Wild Child...</td>\n      <td>Pinot Noir</td>\n      <td>Sweet Cheeks</td>\n    </tr>\n    <tr>\n      <th>...</th>\n      <td>...</td>\n      <td>...</td>\n      <td>...</td>\n      <td>...</td>\n      <td>...</td>\n      <td>...</td>\n      <td>...</td>\n      <td>...</td>\n      <td>...</td>\n      <td>...</td>\n      <td>...</td>\n      <td>...</td>\n      <td>...</td>\n      <td>...</td>\n    </tr>\n    <tr>\n      <th>129966</th>\n      <td>129966</td>\n      <td>Germany</td>\n      <td>Notes of honeysuckle and cantaloupe sweeten th...</td>\n      <td>Brauneberger Juffer-Sonnenuhr Spätlese</td>\n      <td>90</td>\n      <td>28.0</td>\n      <td>Mosel</td>\n      <td>NaN</td>\n      <td>NaN</td>\n      <td>Anna Lee C. Iijima</td>\n      <td>NaN</td>\n      <td>Dr. H. Thanisch (Erben Müller-Burggraef) 2013 ...</td>\n      <td>Riesling</td>\n      <td>Dr. H. Thanisch (Erben Müller-Burggraef)</td>\n    </tr>\n    <tr>\n      <th>129967</th>\n      <td>129967</td>\n      <td>US</td>\n      <td>Citation is given as much as a decade of bottl...</td>\n      <td>NaN</td>\n      <td>90</td>\n      <td>75.0</td>\n      <td>Oregon</td>\n      <td>Oregon</td>\n      <td>Oregon Other</td>\n      <td>Paul Gregutt</td>\n      <td>@paulgwine</td>\n      <td>Citation 2004 Pinot Noir (Oregon)</td>\n      <td>Pinot Noir</td>\n      <td>Citation</td>\n    </tr>\n    <tr>\n      <th>129968</th>\n      <td>129968</td>\n      <td>France</td>\n      <td>Well-drained gravel soil gives this wine its c...</td>\n      <td>Kritt</td>\n      <td>90</td>\n      <td>30.0</td>\n      <td>Alsace</td>\n      <td>Alsace</td>\n      <td>NaN</td>\n      <td>Roger Voss</td>\n      <td>@vossroger</td>\n      <td>Domaine Gresser 2013 Kritt Gewurztraminer (Als...</td>\n      <td>Gewürztraminer</td>\n      <td>Domaine Gresser</td>\n    </tr>\n    <tr>\n      <th>129969</th>\n      <td>129969</td>\n      <td>France</td>\n      <td>A dry style of Pinot Gris, this is crisp with ...</td>\n      <td>NaN</td>\n      <td>90</td>\n      <td>32.0</td>\n      <td>Alsace</td>\n      <td>Alsace</td>\n      <td>NaN</td>\n      <td>Roger Voss</td>\n      <td>@vossroger</td>\n      <td>Domaine Marcel Deiss 2012 Pinot Gris (Alsace)</td>\n      <td>Pinot Gris</td>\n      <td>Domaine Marcel Deiss</td>\n    </tr>\n    <tr>\n      <th>129970</th>\n      <td>129970</td>\n      <td>France</td>\n      <td>Big, rich and off-dry, this is powered by inte...</td>\n      <td>Lieu-dit Harth Cuvée Caroline</td>\n      <td>90</td>\n      <td>21.0</td>\n      <td>Alsace</td>\n      <td>Alsace</td>\n      <td>NaN</td>\n      <td>Roger Voss</td>\n      <td>@vossroger</td>\n      <td>Domaine Schoffit 2012 Lieu-dit Harth Cuvée Car...</td>\n      <td>Gewürztraminer</td>\n      <td>Domaine Schoffit</td>\n    </tr>\n  </tbody>\n</table>\n<p>129971 rows × 14 columns</p>\n</div>"
     },
     "execution_count": 4,
     "metadata": {},
     "output_type": "execute_result"
    }
   ],
   "source": [
    "reviews\n"
   ],
   "metadata": {
    "collapsed": false,
    "pycharm": {
     "name": "#%%\n"
    }
   }
  },
  {
   "cell_type": "code",
   "execution_count": 5,
   "outputs": [
    {
     "data": {
      "text/plain": "count    129971.000000\nmean         88.447138\nstd           3.039730\nmin          80.000000\n25%          86.000000\n50%          88.000000\n75%          91.000000\nmax         100.000000\nName: points, dtype: float64"
     },
     "execution_count": 5,
     "metadata": {},
     "output_type": "execute_result"
    }
   ],
   "source": [
    "# summary for numerical data\n",
    "reviews.points.describe()"
   ],
   "metadata": {
    "collapsed": false,
    "pycharm": {
     "name": "#%%\n"
    }
   }
  },
  {
   "cell_type": "code",
   "execution_count": 17,
   "outputs": [
    {
     "data": {
      "text/plain": "count         103727\nunique            19\ntop       Roger Voss\nfreq           25514\nName: taster_name, dtype: object"
     },
     "execution_count": 17,
     "metadata": {},
     "output_type": "execute_result"
    }
   ],
   "source": [
    "# summary for categorical data\n",
    "reviews.taster_name.describe()"
   ],
   "metadata": {
    "collapsed": false,
    "pycharm": {
     "name": "#%%\n"
    }
   }
  },
  {
   "cell_type": "code",
   "execution_count": 18,
   "outputs": [
    {
     "data": {
      "text/plain": "count         103727\nunique            19\ntop       Roger Voss\nfreq           25514\nName: taster_name, dtype: object"
     },
     "execution_count": 18,
     "metadata": {},
     "output_type": "execute_result"
    }
   ],
   "source": [
    "reviews['taster_name'].describe()"
   ],
   "metadata": {
    "collapsed": false,
    "pycharm": {
     "name": "#%%\n"
    }
   }
  },
  {
   "cell_type": "code",
   "execution_count": 19,
   "outputs": [
    {
     "data": {
      "text/plain": "88.44713820775404"
     },
     "execution_count": 19,
     "metadata": {},
     "output_type": "execute_result"
    }
   ],
   "source": [
    "reviews['points'].mean()\n"
   ],
   "metadata": {
    "collapsed": false,
    "pycharm": {
     "name": "#%%\n"
    }
   }
  },
  {
   "cell_type": "code",
   "execution_count": 20,
   "outputs": [
    {
     "data": {
      "text/plain": "array(['Kerin O’Keefe', 'Roger Voss', 'Paul Gregutt',\n       'Alexander Peartree', 'Michael Schachner', 'Anna Lee C. Iijima',\n       'Virginie Boone', 'Matt Kettmann', nan, 'Sean P. Sullivan',\n       'Jim Gordon', 'Joe Czerwinski', 'Anne Krebiehl\\xa0MW',\n       'Lauren Buzzeo', 'Mike DeSimone', 'Jeff Jenssen',\n       'Susan Kostrzewa', 'Carrie Dykes', 'Fiona Adams',\n       'Christina Pickard'], dtype=object)"
     },
     "execution_count": 20,
     "metadata": {},
     "output_type": "execute_result"
    }
   ],
   "source": [
    "reviews.taster_name.unique()\n"
   ],
   "metadata": {
    "collapsed": false,
    "pycharm": {
     "name": "#%%\n"
    }
   }
  },
  {
   "cell_type": "code",
   "execution_count": 21,
   "outputs": [
    {
     "data": {
      "text/plain": "array(['Kerin O’Keefe', 'Roger Voss', 'Paul Gregutt',\n       'Alexander Peartree', 'Michael Schachner', 'Anna Lee C. Iijima',\n       'Virginie Boone', 'Matt Kettmann', nan, 'Sean P. Sullivan',\n       'Jim Gordon', 'Joe Czerwinski', 'Anne Krebiehl\\xa0MW',\n       'Lauren Buzzeo', 'Mike DeSimone', 'Jeff Jenssen',\n       'Susan Kostrzewa', 'Carrie Dykes', 'Fiona Adams',\n       'Christina Pickard'], dtype=object)"
     },
     "execution_count": 21,
     "metadata": {},
     "output_type": "execute_result"
    }
   ],
   "source": [
    "reviews['taster_name'].unique()\n"
   ],
   "metadata": {
    "collapsed": false,
    "pycharm": {
     "name": "#%%\n"
    }
   }
  },
  {
   "cell_type": "code",
   "execution_count": 31,
   "outputs": [
    {
     "data": {
      "text/plain": "                    taster_name\nRoger Voss                25514\nMichael Schachner         15134\nKerin O’Keefe             10776\nVirginie Boone             9537\nPaul Gregutt               9532\nMatt Kettmann              6332\nJoe Czerwinski             5147\nSean P. Sullivan           4966\nAnna Lee C. Iijima         4415\nJim Gordon                 4177\nAnne Krebiehl MW           3685\nLauren Buzzeo              1835\nSusan Kostrzewa            1085\nMike DeSimone               514\nJeff Jenssen                491\nAlexander Peartree          415\nCarrie Dykes                139\nFiona Adams                  27\nChristina Pickard             6",
      "text/html": "<div>\n<style scoped>\n    .dataframe tbody tr th:only-of-type {\n        vertical-align: middle;\n    }\n\n    .dataframe tbody tr th {\n        vertical-align: top;\n    }\n\n    .dataframe thead th {\n        text-align: right;\n    }\n</style>\n<table border=\"1\" class=\"dataframe\">\n  <thead>\n    <tr style=\"text-align: right;\">\n      <th></th>\n      <th>taster_name</th>\n    </tr>\n  </thead>\n  <tbody>\n    <tr>\n      <th>Roger Voss</th>\n      <td>25514</td>\n    </tr>\n    <tr>\n      <th>Michael Schachner</th>\n      <td>15134</td>\n    </tr>\n    <tr>\n      <th>Kerin O’Keefe</th>\n      <td>10776</td>\n    </tr>\n    <tr>\n      <th>Virginie Boone</th>\n      <td>9537</td>\n    </tr>\n    <tr>\n      <th>Paul Gregutt</th>\n      <td>9532</td>\n    </tr>\n    <tr>\n      <th>Matt Kettmann</th>\n      <td>6332</td>\n    </tr>\n    <tr>\n      <th>Joe Czerwinski</th>\n      <td>5147</td>\n    </tr>\n    <tr>\n      <th>Sean P. Sullivan</th>\n      <td>4966</td>\n    </tr>\n    <tr>\n      <th>Anna Lee C. Iijima</th>\n      <td>4415</td>\n    </tr>\n    <tr>\n      <th>Jim Gordon</th>\n      <td>4177</td>\n    </tr>\n    <tr>\n      <th>Anne Krebiehl MW</th>\n      <td>3685</td>\n    </tr>\n    <tr>\n      <th>Lauren Buzzeo</th>\n      <td>1835</td>\n    </tr>\n    <tr>\n      <th>Susan Kostrzewa</th>\n      <td>1085</td>\n    </tr>\n    <tr>\n      <th>Mike DeSimone</th>\n      <td>514</td>\n    </tr>\n    <tr>\n      <th>Jeff Jenssen</th>\n      <td>491</td>\n    </tr>\n    <tr>\n      <th>Alexander Peartree</th>\n      <td>415</td>\n    </tr>\n    <tr>\n      <th>Carrie Dykes</th>\n      <td>139</td>\n    </tr>\n    <tr>\n      <th>Fiona Adams</th>\n      <td>27</td>\n    </tr>\n    <tr>\n      <th>Christina Pickard</th>\n      <td>6</td>\n    </tr>\n  </tbody>\n</table>\n</div>"
     },
     "execution_count": 31,
     "metadata": {},
     "output_type": "execute_result"
    }
   ],
   "source": [
    "df = pd.DataFrame(reviews['taster_name'].value_counts())\n",
    "df['mean'] = df.taster_name.mean()\n",
    "df = df.drop(columns='mean')\n",
    "df"
   ],
   "metadata": {
    "collapsed": false,
    "pycharm": {
     "name": "#%%\n"
    }
   }
  },
  {
   "cell_type": "code",
   "execution_count": 33,
   "outputs": [
    {
     "data": {
      "text/plain": "                    taster_name\nRoger Voss                25514\nMichael Schachner         15134\nKerin O’Keefe             10776\nVirginie Boone             9537\nPaul Gregutt               9532\nMatt Kettmann              6332\nJoe Czerwinski             5147\nSean P. Sullivan           4966\nAnna Lee C. Iijima         4415\nAnne Krebiehl MW           3685\nSusan Kostrzewa            1085\nMike DeSimone               514\nAlexander Peartree          415\nCarrie Dykes                139\nChristina Pickard             6",
      "text/html": "<div>\n<style scoped>\n    .dataframe tbody tr th:only-of-type {\n        vertical-align: middle;\n    }\n\n    .dataframe tbody tr th {\n        vertical-align: top;\n    }\n\n    .dataframe thead th {\n        text-align: right;\n    }\n</style>\n<table border=\"1\" class=\"dataframe\">\n  <thead>\n    <tr style=\"text-align: right;\">\n      <th></th>\n      <th>taster_name</th>\n    </tr>\n  </thead>\n  <tbody>\n    <tr>\n      <th>Roger Voss</th>\n      <td>25514</td>\n    </tr>\n    <tr>\n      <th>Michael Schachner</th>\n      <td>15134</td>\n    </tr>\n    <tr>\n      <th>Kerin O’Keefe</th>\n      <td>10776</td>\n    </tr>\n    <tr>\n      <th>Virginie Boone</th>\n      <td>9537</td>\n    </tr>\n    <tr>\n      <th>Paul Gregutt</th>\n      <td>9532</td>\n    </tr>\n    <tr>\n      <th>Matt Kettmann</th>\n      <td>6332</td>\n    </tr>\n    <tr>\n      <th>Joe Czerwinski</th>\n      <td>5147</td>\n    </tr>\n    <tr>\n      <th>Sean P. Sullivan</th>\n      <td>4966</td>\n    </tr>\n    <tr>\n      <th>Anna Lee C. Iijima</th>\n      <td>4415</td>\n    </tr>\n    <tr>\n      <th>Anne Krebiehl MW</th>\n      <td>3685</td>\n    </tr>\n    <tr>\n      <th>Susan Kostrzewa</th>\n      <td>1085</td>\n    </tr>\n    <tr>\n      <th>Mike DeSimone</th>\n      <td>514</td>\n    </tr>\n    <tr>\n      <th>Alexander Peartree</th>\n      <td>415</td>\n    </tr>\n    <tr>\n      <th>Carrie Dykes</th>\n      <td>139</td>\n    </tr>\n    <tr>\n      <th>Christina Pickard</th>\n      <td>6</td>\n    </tr>\n  </tbody>\n</table>\n</div>"
     },
     "execution_count": 33,
     "metadata": {},
     "output_type": "execute_result"
    }
   ],
   "source": [
    "df.drop(index=['Fiona Adams', 'Lauren Buzzeo', 'Jim Gordon', 'Jeff Jenssen'])"
   ],
   "metadata": {
    "collapsed": false,
    "pycharm": {
     "name": "#%%\n"
    }
   }
  },
  {
   "cell_type": "code",
   "execution_count": 39,
   "outputs": [
    {
     "data": {
      "text/plain": "region_1                       California\ntitle       Bandit NV Merlot (California)\nName: 64590, dtype: object"
     },
     "execution_count": 39,
     "metadata": {},
     "output_type": "execute_result"
    }
   ],
   "source": [
    "# tasks from Kaggle\n",
    "bargain_idx = (reviews.points / reviews.price).idxmax()\n",
    "bargain_wine = reviews.loc[bargain_idx, ['region_1', 'title']]\n",
    "bargain_wine"
   ],
   "metadata": {
    "collapsed": false,
    "pycharm": {
     "name": "#%%\n"
    }
   }
  },
  {
   "cell_type": "code",
   "execution_count": 44,
   "outputs": [
    {
     "data": {
      "text/plain": "tropical    3607\nfruity      9090\ndtype: int64"
     },
     "execution_count": 44,
     "metadata": {},
     "output_type": "execute_result"
    }
   ],
   "source": [
    "n_trop = reviews['description'].map(lambda desc: 'tropical' in desc).sum()\n",
    "n_fruit = reviews['description'].map(lambda desc: 'fruity' in desc).sum()\n",
    "descriptor_counts = pd.Series([n_trop, n_fruit], index=['tropical', 'fruity'])\n",
    "descriptor_counts"
   ],
   "metadata": {
    "collapsed": false,
    "pycharm": {
     "name": "#%%\n"
    }
   }
  },
  {
   "cell_type": "code",
   "execution_count": 34,
   "outputs": [],
   "source": [
    "# Exercise: Summary Functions and Maps - task no. 7\n",
    "# We'd like to host these wine reviews on our website, but a rating system ranging from 80 to 100 points is too hard to understand - we'd like to translate them into simple star ratings. A score of 95 or higher counts as 3 stars, a score of at least 85 but less than 95 is 2 stars. Any other score is 1 star.\n",
    "# Also, the Canadian Vintners Association bought a lot of ads on the site, so any wines from Canada should automatically get 3 stars, regardless of points.\n",
    "# Create a series star_ratings with the number of stars corresponding to each review in the dataset."
   ],
   "metadata": {
    "collapsed": false,
    "pycharm": {
     "name": "#%%\n"
    }
   }
  },
  {
   "cell_type": "code",
   "execution_count": 52,
   "outputs": [
    {
     "data": {
      "text/plain": "        Unnamed: 0   country  \\\n0                0     Italy   \n1                1  Portugal   \n2                2        US   \n3                3        US   \n4                4        US   \n...            ...       ...   \n129966      129966   Germany   \n129967      129967        US   \n129968      129968    France   \n129969      129969    France   \n129970      129970    France   \n\n                                              description  \\\n0       Aromas include tropical fruit, broom, brimston...   \n1       This is ripe and fruity, a wine that is smooth...   \n2       Tart and snappy, the flavors of lime flesh and...   \n3       Pineapple rind, lemon pith and orange blossom ...   \n4       Much like the regular bottling from 2012, this...   \n...                                                   ...   \n129966  Notes of honeysuckle and cantaloupe sweeten th...   \n129967  Citation is given as much as a decade of bottl...   \n129968  Well-drained gravel soil gives this wine its c...   \n129969  A dry style of Pinot Gris, this is crisp with ...   \n129970  Big, rich and off-dry, this is powered by inte...   \n\n                                   designation  points  price  \\\n0                                 Vulkà Bianco      87    NaN   \n1                                     Avidagos      87   15.0   \n2                                          NaN      87   14.0   \n3                         Reserve Late Harvest      87   13.0   \n4           Vintner's Reserve Wild Child Block      87   65.0   \n...                                        ...     ...    ...   \n129966  Brauneberger Juffer-Sonnenuhr Spätlese      90   28.0   \n129967                                     NaN      90   75.0   \n129968                                   Kritt      90   30.0   \n129969                                     NaN      90   32.0   \n129970           Lieu-dit Harth Cuvée Caroline      90   21.0   \n\n                 province             region_1           region_2  \\\n0       Sicily & Sardinia                 Etna                NaN   \n1                   Douro                  NaN                NaN   \n2                  Oregon    Willamette Valley  Willamette Valley   \n3                Michigan  Lake Michigan Shore                NaN   \n4                  Oregon    Willamette Valley  Willamette Valley   \n...                   ...                  ...                ...   \n129966              Mosel                  NaN                NaN   \n129967             Oregon               Oregon       Oregon Other   \n129968             Alsace               Alsace                NaN   \n129969             Alsace               Alsace                NaN   \n129970             Alsace               Alsace                NaN   \n\n               taster_name taster_twitter_handle  \\\n0            Kerin O’Keefe          @kerinokeefe   \n1               Roger Voss            @vossroger   \n2             Paul Gregutt           @paulgwine    \n3       Alexander Peartree                   NaN   \n4             Paul Gregutt           @paulgwine    \n...                    ...                   ...   \n129966  Anna Lee C. Iijima                   NaN   \n129967        Paul Gregutt           @paulgwine    \n129968          Roger Voss            @vossroger   \n129969          Roger Voss            @vossroger   \n129970          Roger Voss            @vossroger   \n\n                                                    title         variety  \\\n0                       Nicosia 2013 Vulkà Bianco  (Etna)     White Blend   \n1           Quinta dos Avidagos 2011 Avidagos Red (Douro)  Portuguese Red   \n2           Rainstorm 2013 Pinot Gris (Willamette Valley)      Pinot Gris   \n3       St. Julian 2013 Reserve Late Harvest Riesling ...        Riesling   \n4       Sweet Cheeks 2012 Vintner's Reserve Wild Child...      Pinot Noir   \n...                                                   ...             ...   \n129966  Dr. H. Thanisch (Erben Müller-Burggraef) 2013 ...        Riesling   \n129967                  Citation 2004 Pinot Noir (Oregon)      Pinot Noir   \n129968  Domaine Gresser 2013 Kritt Gewurztraminer (Als...  Gewürztraminer   \n129969      Domaine Marcel Deiss 2012 Pinot Gris (Alsace)      Pinot Gris   \n129970  Domaine Schoffit 2012 Lieu-dit Harth Cuvée Car...  Gewürztraminer   \n\n                                          winery  star_ratings  \n0                                        Nicosia             2  \n1                            Quinta dos Avidagos             2  \n2                                      Rainstorm             2  \n3                                     St. Julian             2  \n4                                   Sweet Cheeks             2  \n...                                          ...           ...  \n129966  Dr. H. Thanisch (Erben Müller-Burggraef)             2  \n129967                                  Citation             2  \n129968                           Domaine Gresser             2  \n129969                      Domaine Marcel Deiss             2  \n129970                          Domaine Schoffit             2  \n\n[129971 rows x 15 columns]",
      "text/html": "<div>\n<style scoped>\n    .dataframe tbody tr th:only-of-type {\n        vertical-align: middle;\n    }\n\n    .dataframe tbody tr th {\n        vertical-align: top;\n    }\n\n    .dataframe thead th {\n        text-align: right;\n    }\n</style>\n<table border=\"1\" class=\"dataframe\">\n  <thead>\n    <tr style=\"text-align: right;\">\n      <th></th>\n      <th>Unnamed: 0</th>\n      <th>country</th>\n      <th>description</th>\n      <th>designation</th>\n      <th>points</th>\n      <th>price</th>\n      <th>province</th>\n      <th>region_1</th>\n      <th>region_2</th>\n      <th>taster_name</th>\n      <th>taster_twitter_handle</th>\n      <th>title</th>\n      <th>variety</th>\n      <th>winery</th>\n      <th>star_ratings</th>\n    </tr>\n  </thead>\n  <tbody>\n    <tr>\n      <th>0</th>\n      <td>0</td>\n      <td>Italy</td>\n      <td>Aromas include tropical fruit, broom, brimston...</td>\n      <td>Vulkà Bianco</td>\n      <td>87</td>\n      <td>NaN</td>\n      <td>Sicily &amp; Sardinia</td>\n      <td>Etna</td>\n      <td>NaN</td>\n      <td>Kerin O’Keefe</td>\n      <td>@kerinokeefe</td>\n      <td>Nicosia 2013 Vulkà Bianco  (Etna)</td>\n      <td>White Blend</td>\n      <td>Nicosia</td>\n      <td>2</td>\n    </tr>\n    <tr>\n      <th>1</th>\n      <td>1</td>\n      <td>Portugal</td>\n      <td>This is ripe and fruity, a wine that is smooth...</td>\n      <td>Avidagos</td>\n      <td>87</td>\n      <td>15.0</td>\n      <td>Douro</td>\n      <td>NaN</td>\n      <td>NaN</td>\n      <td>Roger Voss</td>\n      <td>@vossroger</td>\n      <td>Quinta dos Avidagos 2011 Avidagos Red (Douro)</td>\n      <td>Portuguese Red</td>\n      <td>Quinta dos Avidagos</td>\n      <td>2</td>\n    </tr>\n    <tr>\n      <th>2</th>\n      <td>2</td>\n      <td>US</td>\n      <td>Tart and snappy, the flavors of lime flesh and...</td>\n      <td>NaN</td>\n      <td>87</td>\n      <td>14.0</td>\n      <td>Oregon</td>\n      <td>Willamette Valley</td>\n      <td>Willamette Valley</td>\n      <td>Paul Gregutt</td>\n      <td>@paulgwine</td>\n      <td>Rainstorm 2013 Pinot Gris (Willamette Valley)</td>\n      <td>Pinot Gris</td>\n      <td>Rainstorm</td>\n      <td>2</td>\n    </tr>\n    <tr>\n      <th>3</th>\n      <td>3</td>\n      <td>US</td>\n      <td>Pineapple rind, lemon pith and orange blossom ...</td>\n      <td>Reserve Late Harvest</td>\n      <td>87</td>\n      <td>13.0</td>\n      <td>Michigan</td>\n      <td>Lake Michigan Shore</td>\n      <td>NaN</td>\n      <td>Alexander Peartree</td>\n      <td>NaN</td>\n      <td>St. Julian 2013 Reserve Late Harvest Riesling ...</td>\n      <td>Riesling</td>\n      <td>St. Julian</td>\n      <td>2</td>\n    </tr>\n    <tr>\n      <th>4</th>\n      <td>4</td>\n      <td>US</td>\n      <td>Much like the regular bottling from 2012, this...</td>\n      <td>Vintner's Reserve Wild Child Block</td>\n      <td>87</td>\n      <td>65.0</td>\n      <td>Oregon</td>\n      <td>Willamette Valley</td>\n      <td>Willamette Valley</td>\n      <td>Paul Gregutt</td>\n      <td>@paulgwine</td>\n      <td>Sweet Cheeks 2012 Vintner's Reserve Wild Child...</td>\n      <td>Pinot Noir</td>\n      <td>Sweet Cheeks</td>\n      <td>2</td>\n    </tr>\n    <tr>\n      <th>...</th>\n      <td>...</td>\n      <td>...</td>\n      <td>...</td>\n      <td>...</td>\n      <td>...</td>\n      <td>...</td>\n      <td>...</td>\n      <td>...</td>\n      <td>...</td>\n      <td>...</td>\n      <td>...</td>\n      <td>...</td>\n      <td>...</td>\n      <td>...</td>\n      <td>...</td>\n    </tr>\n    <tr>\n      <th>129966</th>\n      <td>129966</td>\n      <td>Germany</td>\n      <td>Notes of honeysuckle and cantaloupe sweeten th...</td>\n      <td>Brauneberger Juffer-Sonnenuhr Spätlese</td>\n      <td>90</td>\n      <td>28.0</td>\n      <td>Mosel</td>\n      <td>NaN</td>\n      <td>NaN</td>\n      <td>Anna Lee C. Iijima</td>\n      <td>NaN</td>\n      <td>Dr. H. Thanisch (Erben Müller-Burggraef) 2013 ...</td>\n      <td>Riesling</td>\n      <td>Dr. H. Thanisch (Erben Müller-Burggraef)</td>\n      <td>2</td>\n    </tr>\n    <tr>\n      <th>129967</th>\n      <td>129967</td>\n      <td>US</td>\n      <td>Citation is given as much as a decade of bottl...</td>\n      <td>NaN</td>\n      <td>90</td>\n      <td>75.0</td>\n      <td>Oregon</td>\n      <td>Oregon</td>\n      <td>Oregon Other</td>\n      <td>Paul Gregutt</td>\n      <td>@paulgwine</td>\n      <td>Citation 2004 Pinot Noir (Oregon)</td>\n      <td>Pinot Noir</td>\n      <td>Citation</td>\n      <td>2</td>\n    </tr>\n    <tr>\n      <th>129968</th>\n      <td>129968</td>\n      <td>France</td>\n      <td>Well-drained gravel soil gives this wine its c...</td>\n      <td>Kritt</td>\n      <td>90</td>\n      <td>30.0</td>\n      <td>Alsace</td>\n      <td>Alsace</td>\n      <td>NaN</td>\n      <td>Roger Voss</td>\n      <td>@vossroger</td>\n      <td>Domaine Gresser 2013 Kritt Gewurztraminer (Als...</td>\n      <td>Gewürztraminer</td>\n      <td>Domaine Gresser</td>\n      <td>2</td>\n    </tr>\n    <tr>\n      <th>129969</th>\n      <td>129969</td>\n      <td>France</td>\n      <td>A dry style of Pinot Gris, this is crisp with ...</td>\n      <td>NaN</td>\n      <td>90</td>\n      <td>32.0</td>\n      <td>Alsace</td>\n      <td>Alsace</td>\n      <td>NaN</td>\n      <td>Roger Voss</td>\n      <td>@vossroger</td>\n      <td>Domaine Marcel Deiss 2012 Pinot Gris (Alsace)</td>\n      <td>Pinot Gris</td>\n      <td>Domaine Marcel Deiss</td>\n      <td>2</td>\n    </tr>\n    <tr>\n      <th>129970</th>\n      <td>129970</td>\n      <td>France</td>\n      <td>Big, rich and off-dry, this is powered by inte...</td>\n      <td>Lieu-dit Harth Cuvée Caroline</td>\n      <td>90</td>\n      <td>21.0</td>\n      <td>Alsace</td>\n      <td>Alsace</td>\n      <td>NaN</td>\n      <td>Roger Voss</td>\n      <td>@vossroger</td>\n      <td>Domaine Schoffit 2012 Lieu-dit Harth Cuvée Car...</td>\n      <td>Gewürztraminer</td>\n      <td>Domaine Schoffit</td>\n      <td>2</td>\n    </tr>\n  </tbody>\n</table>\n<p>129971 rows × 15 columns</p>\n</div>"
     },
     "execution_count": 52,
     "metadata": {},
     "output_type": "execute_result"
    }
   ],
   "source": [
    "def stars(row):\n",
    "    if row.country == 'Canada':\n",
    "        return 3\n",
    "    elif row.points >= 95:\n",
    "        return 3\n",
    "    elif row.points >= 85:\n",
    "        return 2\n",
    "    else:\n",
    "        return 1\n",
    "\n",
    "star_ratings = reviews.apply(stars, axis='columns')\n",
    "reviews['star_ratings'] = star_ratings\n"
   ],
   "metadata": {
    "collapsed": false,
    "pycharm": {
     "name": "#%%\n"
    }
   }
  },
  {
   "cell_type": "code",
   "execution_count": 80,
   "outputs": [
    {
     "data": {
      "text/plain": "3    2673\nName: star_ratings, dtype: int64"
     },
     "execution_count": 80,
     "metadata": {},
     "output_type": "execute_result"
    }
   ],
   "source": [
    "three_stars_wines = reviews.loc[reviews['star_ratings'] == 3]\n",
    "three_stars_wines.star_ratings.value_counts()"
   ],
   "metadata": {
    "collapsed": false,
    "pycharm": {
     "name": "#%%\n"
    }
   }
  },
  {
   "cell_type": "markdown",
   "source": [
    "### Grouping and Sorting"
   ],
   "metadata": {
    "collapsed": false,
    "pycharm": {
     "name": "#%% md\n"
    }
   }
  },
  {
   "cell_type": "code",
   "execution_count": 89,
   "outputs": [
    {
     "data": {
      "text/plain": "100       19\n99        33\n98        77\n97       229\n80       397\n96       523\n81       692\n95      1535\n82      1836\n83      3025\n94      3758\n84      6480\n93      6489\n85      9530\n92      9613\n91     11359\n89     12226\n86     12600\n90     15410\n87     16933\n88     17207\nName: points, dtype: int64"
     },
     "execution_count": 89,
     "metadata": {},
     "output_type": "execute_result"
    }
   ],
   "source": [
    "reviews['points'].value_counts(sort=True, ascending=True )"
   ],
   "metadata": {
    "collapsed": false,
    "pycharm": {
     "name": "#%%\n"
    }
   }
  },
  {
   "cell_type": "code",
   "execution_count": 79,
   "outputs": [
    {
     "data": {
      "text/plain": "points\n80       397\n81       692\n82      1836\n83      3025\n84      6480\n85      9530\n86     12600\n87     16933\n88     17207\n89     12226\n90     15410\n91     11359\n92      9613\n93      6489\n94      3758\n95      1535\n96       523\n97       229\n98        77\n99        33\n100       19\nName: points, dtype: int64"
     },
     "execution_count": 79,
     "metadata": {},
     "output_type": "execute_result"
    }
   ],
   "source": [
    "reviews.groupby('points', sort=True).points.count()\n"
   ],
   "metadata": {
    "collapsed": false,
    "pycharm": {
     "name": "#%%\n"
    }
   }
  },
  {
   "cell_type": "code",
   "execution_count": 99,
   "outputs": [
    {
     "data": {
      "text/plain": "points\n88     3300.0\n96     2500.0\n91     2013.0\n97     2000.0\n98     1900.0\n100    1500.0\n94     1125.0\n95      973.0\n99      850.0\n87      800.0\n93      770.0\n92      750.0\n90      510.0\n89      500.0\n85      320.0\n84      225.0\n83      225.0\n86      170.0\n82      150.0\n81      130.0\n80       69.0\nName: price, dtype: float64"
     },
     "execution_count": 99,
     "metadata": {},
     "output_type": "execute_result"
    }
   ],
   "source": [
    "reviews.groupby('points').price.max().sort_values(ascending=False)\n"
   ],
   "metadata": {
    "collapsed": false,
    "pycharm": {
     "name": "#%%\n"
    }
   }
  },
  {
   "cell_type": "code",
   "execution_count": 103,
   "outputs": [
    {
     "data": {
      "text/plain": "Index(['Unnamed: 0', 'country', 'description', 'designation', 'points',\n       'price', 'province', 'region_1', 'region_2', 'taster_name',\n       'taster_twitter_handle', 'title', 'variety', 'winery', 'star_ratings'],\n      dtype='object')"
     },
     "execution_count": 103,
     "metadata": {},
     "output_type": "execute_result"
    }
   ],
   "source": [
    "reviews.columns"
   ],
   "metadata": {
    "collapsed": false,
    "pycharm": {
     "name": "#%%\n"
    }
   }
  },
  {
   "cell_type": "code",
   "execution_count": 104,
   "outputs": [
    {
     "data": {
      "text/plain": "points\n80       69.0\n81      130.0\n82      150.0\n83      225.0\n84      225.0\n85      320.0\n86      170.0\n87      800.0\n88     3300.0\n89      500.0\n90      510.0\n91     2013.0\n92      750.0\n93      770.0\n94     1125.0\n95      973.0\n96     2500.0\n97     2000.0\n98     1900.0\n99      850.0\n100    1500.0\nName: price, dtype: float64"
     },
     "execution_count": 104,
     "metadata": {},
     "output_type": "execute_result"
    }
   ],
   "source": [
    "reviews.groupby('points').price.max()\n"
   ],
   "metadata": {
    "collapsed": false,
    "pycharm": {
     "name": "#%%\n"
    }
   }
  },
  {
   "cell_type": "code",
   "execution_count": 105,
   "outputs": [
    {
     "data": {
      "text/plain": "winery\n1+1=3                                     1+1=3 NV Rosé Sparkling (Cava)\n10 Knots                            10 Knots 2010 Viognier (Paso Robles)\n100 Percent Wine              100 Percent Wine 2015 Moscato (California)\n1000 Stories           1000 Stories 2013 Bourbon Barrel Aged Zinfande...\n1070 Green                  1070 Green 2011 Sauvignon Blanc (Rutherford)\n                                             ...                        \nÓrale                       Órale 2011 Cabronita Red (Santa Ynez Valley)\nÖko                    Öko 2013 Made With Organically Grown Grapes Ma...\nÖkonomierat Rebholz    Ökonomierat Rebholz 2007 Von Rotliegenden Spät...\nàMaurice               àMaurice 2013 Fred Estate Syrah (Walla Walla V...\nŠtoka                                    Štoka 2009 Izbrani Teran (Kras)\nLength: 16757, dtype: object"
     },
     "execution_count": 105,
     "metadata": {},
     "output_type": "execute_result"
    }
   ],
   "source": [
    "reviews.groupby('winery').apply(lambda df: df.title.iloc[0])\n"
   ],
   "metadata": {
    "collapsed": false,
    "pycharm": {
     "name": "#%%\n"
    }
   }
  },
  {
   "cell_type": "code",
   "execution_count": 109,
   "outputs": [
    {
     "data": {
      "text/plain": "                            Unnamed: 0    country  \\\ncountry   province                                  \nArgentina Mendoza Province       82754  Argentina   \n          Other                  78303  Argentina   \nArmenia   Armenia                66146    Armenia   \nAustralia Australia Other        37882  Australia   \n          New South Wales        85337  Australia   \n...                                ...        ...   \nUruguay   Juanico                 9133    Uruguay   \n          Montevideo             15750    Uruguay   \n          Progreso               93103    Uruguay   \n          San Jose               39898    Uruguay   \n          Uruguay                39361    Uruguay   \n\n                                                                  description  \\\ncountry   province                                                              \nArgentina Mendoza Province  If the color doesn't tell the full story, the ...   \n          Other             Take note, this could be the best wine Colomé ...   \nArmenia   Armenia           Deep salmon in color, this wine offers a bouqu...   \nAustralia Australia Other   Writes the book on how to make a wine filled w...   \n          New South Wales   De Bortoli's Noble One is as good as ever in 2...   \n...                                                                       ...   \nUruguay   Juanico           This mature Bordeaux-style blend is earthy on ...   \n          Montevideo        A rich, heady bouquet offers aromas of blackbe...   \n          Progreso          Rusty in color but deep and complex in nature,...   \n          San Jose          Baked, sweet, heavy aromas turn earthy with ti...   \n          Uruguay           Cherry and berry aromas are ripe, healthy and ...   \n\n                                                        designation  points  \\\ncountry   province                                                            \nArgentina Mendoza Province                         Nicasia Vineyard      97   \n          Other                                             Reserva      95   \nArmenia   Armenia                                    Estate Bottled      88   \nAustralia Australia Other                             Sarah's Blend      93   \n          New South Wales                        Noble One Bortytis      94   \n...                                                             ...     ...   \nUruguay   Juanico                  Preludio Barrel Select Lote N 77      90   \n          Montevideo        Monte Vide Eu Tannat-Merlot-Tempranillo      91   \n          Progreso                   Etxe Oneko Fortified Sweet Red      90   \n          San Jose                         El Preciado Gran Reserva      87   \n          Uruguay                         Blend 002 Limited Edition      91   \n\n                            price          province                 region_1  \\\ncountry   province                                                             \nArgentina Mendoza Province  120.0  Mendoza Province                  Mendoza   \n          Other              90.0             Other                    Salta   \nArmenia   Armenia            15.0           Armenia                      NaN   \nAustralia Australia Other    15.0   Australia Other  South Eastern Australia   \n          New South Wales    32.0   New South Wales          New South Wales   \n...                           ...               ...                      ...   \nUruguay   Juanico            45.0           Juanico                      NaN   \n          Montevideo         60.0        Montevideo                      NaN   \n          Progreso           46.0          Progreso                      NaN   \n          San Jose           50.0          San Jose                      NaN   \n          Uruguay            22.0           Uruguay                      NaN   \n\n                           region_2        taster_name taster_twitter_handle  \\\ncountry   province                                                             \nArgentina Mendoza Province      NaN  Michael Schachner           @wineschach   \n          Other                 NaN  Michael Schachner           @wineschach   \nArmenia   Armenia               NaN      Mike DeSimone        @worldwineguys   \nAustralia Australia Other       NaN                NaN                   NaN   \n          New South Wales       NaN     Joe Czerwinski                @JoeCz   \n...                             ...                ...                   ...   \nUruguay   Juanico               NaN  Michael Schachner           @wineschach   \n          Montevideo            NaN  Michael Schachner           @wineschach   \n          Progreso              NaN  Michael Schachner           @wineschach   \n          San Jose              NaN  Michael Schachner           @wineschach   \n          Uruguay               NaN  Michael Schachner           @wineschach   \n\n                                                                        title  \\\ncountry   province                                                              \nArgentina Mendoza Province  Bodega Catena Zapata 2006 Nicasia Vineyard Mal...   \n          Other                            Colomé 2010 Reserva Malbec (Salta)   \nArmenia   Armenia                 Van Ardi 2015 Estate Bottled Rosé (Armenia)   \nAustralia Australia Other   Marquis Philips 2000 Sarah's Blend Red (South ...   \n          New South Wales   De Bortoli 2007 Noble One Bortytis Semillon (N...   \n...                                                                       ...   \nUruguay   Juanico           Familia Deicas 2004 Preludio Barrel Select Lot...   \n          Montevideo        Bouza 2015 Monte Vide Eu Tannat-Merlot-Tempran...   \n          Progreso          Pisano 2007 Etxe Oneko Fortified Sweet Red Tan...   \n          San Jose          Castillo Viejo 2005 El Preciado Gran Reserva R...   \n          Uruguay           Narbona NV Blend 002 Limited Edition Tannat-Ca...   \n\n                                          variety                winery  \\\ncountry   province                                                        \nArgentina Mendoza Province                 Malbec  Bodega Catena Zapata   \n          Other                            Malbec                Colomé   \nArmenia   Armenia                            Rosé              Van Ardi   \nAustralia Australia Other               Red Blend       Marquis Philips   \n          New South Wales                Sémillon            De Bortoli   \n...                                           ...                   ...   \nUruguay   Juanico                       Red Blend        Familia Deicas   \n          Montevideo                    Red Blend                 Bouza   \n          Progreso                         Tannat                Pisano   \n          San Jose                      Red Blend        Castillo Viejo   \n          Uruguay           Tannat-Cabernet Franc               Narbona   \n\n                            star_ratings  \ncountry   province                        \nArgentina Mendoza Province             3  \n          Other                        3  \nArmenia   Armenia                      2  \nAustralia Australia Other              2  \n          New South Wales              2  \n...                                  ...  \nUruguay   Juanico                      2  \n          Montevideo                   2  \n          Progreso                     2  \n          San Jose                     2  \n          Uruguay                      2  \n\n[425 rows x 15 columns]",
      "text/html": "<div>\n<style scoped>\n    .dataframe tbody tr th:only-of-type {\n        vertical-align: middle;\n    }\n\n    .dataframe tbody tr th {\n        vertical-align: top;\n    }\n\n    .dataframe thead th {\n        text-align: right;\n    }\n</style>\n<table border=\"1\" class=\"dataframe\">\n  <thead>\n    <tr style=\"text-align: right;\">\n      <th></th>\n      <th></th>\n      <th>Unnamed: 0</th>\n      <th>country</th>\n      <th>description</th>\n      <th>designation</th>\n      <th>points</th>\n      <th>price</th>\n      <th>province</th>\n      <th>region_1</th>\n      <th>region_2</th>\n      <th>taster_name</th>\n      <th>taster_twitter_handle</th>\n      <th>title</th>\n      <th>variety</th>\n      <th>winery</th>\n      <th>star_ratings</th>\n    </tr>\n    <tr>\n      <th>country</th>\n      <th>province</th>\n      <th></th>\n      <th></th>\n      <th></th>\n      <th></th>\n      <th></th>\n      <th></th>\n      <th></th>\n      <th></th>\n      <th></th>\n      <th></th>\n      <th></th>\n      <th></th>\n      <th></th>\n      <th></th>\n      <th></th>\n    </tr>\n  </thead>\n  <tbody>\n    <tr>\n      <th rowspan=\"2\" valign=\"top\">Argentina</th>\n      <th>Mendoza Province</th>\n      <td>82754</td>\n      <td>Argentina</td>\n      <td>If the color doesn't tell the full story, the ...</td>\n      <td>Nicasia Vineyard</td>\n      <td>97</td>\n      <td>120.0</td>\n      <td>Mendoza Province</td>\n      <td>Mendoza</td>\n      <td>NaN</td>\n      <td>Michael Schachner</td>\n      <td>@wineschach</td>\n      <td>Bodega Catena Zapata 2006 Nicasia Vineyard Mal...</td>\n      <td>Malbec</td>\n      <td>Bodega Catena Zapata</td>\n      <td>3</td>\n    </tr>\n    <tr>\n      <th>Other</th>\n      <td>78303</td>\n      <td>Argentina</td>\n      <td>Take note, this could be the best wine Colomé ...</td>\n      <td>Reserva</td>\n      <td>95</td>\n      <td>90.0</td>\n      <td>Other</td>\n      <td>Salta</td>\n      <td>NaN</td>\n      <td>Michael Schachner</td>\n      <td>@wineschach</td>\n      <td>Colomé 2010 Reserva Malbec (Salta)</td>\n      <td>Malbec</td>\n      <td>Colomé</td>\n      <td>3</td>\n    </tr>\n    <tr>\n      <th>Armenia</th>\n      <th>Armenia</th>\n      <td>66146</td>\n      <td>Armenia</td>\n      <td>Deep salmon in color, this wine offers a bouqu...</td>\n      <td>Estate Bottled</td>\n      <td>88</td>\n      <td>15.0</td>\n      <td>Armenia</td>\n      <td>NaN</td>\n      <td>NaN</td>\n      <td>Mike DeSimone</td>\n      <td>@worldwineguys</td>\n      <td>Van Ardi 2015 Estate Bottled Rosé (Armenia)</td>\n      <td>Rosé</td>\n      <td>Van Ardi</td>\n      <td>2</td>\n    </tr>\n    <tr>\n      <th rowspan=\"2\" valign=\"top\">Australia</th>\n      <th>Australia Other</th>\n      <td>37882</td>\n      <td>Australia</td>\n      <td>Writes the book on how to make a wine filled w...</td>\n      <td>Sarah's Blend</td>\n      <td>93</td>\n      <td>15.0</td>\n      <td>Australia Other</td>\n      <td>South Eastern Australia</td>\n      <td>NaN</td>\n      <td>NaN</td>\n      <td>NaN</td>\n      <td>Marquis Philips 2000 Sarah's Blend Red (South ...</td>\n      <td>Red Blend</td>\n      <td>Marquis Philips</td>\n      <td>2</td>\n    </tr>\n    <tr>\n      <th>New South Wales</th>\n      <td>85337</td>\n      <td>Australia</td>\n      <td>De Bortoli's Noble One is as good as ever in 2...</td>\n      <td>Noble One Bortytis</td>\n      <td>94</td>\n      <td>32.0</td>\n      <td>New South Wales</td>\n      <td>New South Wales</td>\n      <td>NaN</td>\n      <td>Joe Czerwinski</td>\n      <td>@JoeCz</td>\n      <td>De Bortoli 2007 Noble One Bortytis Semillon (N...</td>\n      <td>Sémillon</td>\n      <td>De Bortoli</td>\n      <td>2</td>\n    </tr>\n    <tr>\n      <th>...</th>\n      <th>...</th>\n      <td>...</td>\n      <td>...</td>\n      <td>...</td>\n      <td>...</td>\n      <td>...</td>\n      <td>...</td>\n      <td>...</td>\n      <td>...</td>\n      <td>...</td>\n      <td>...</td>\n      <td>...</td>\n      <td>...</td>\n      <td>...</td>\n      <td>...</td>\n      <td>...</td>\n    </tr>\n    <tr>\n      <th rowspan=\"5\" valign=\"top\">Uruguay</th>\n      <th>Juanico</th>\n      <td>9133</td>\n      <td>Uruguay</td>\n      <td>This mature Bordeaux-style blend is earthy on ...</td>\n      <td>Preludio Barrel Select Lote N 77</td>\n      <td>90</td>\n      <td>45.0</td>\n      <td>Juanico</td>\n      <td>NaN</td>\n      <td>NaN</td>\n      <td>Michael Schachner</td>\n      <td>@wineschach</td>\n      <td>Familia Deicas 2004 Preludio Barrel Select Lot...</td>\n      <td>Red Blend</td>\n      <td>Familia Deicas</td>\n      <td>2</td>\n    </tr>\n    <tr>\n      <th>Montevideo</th>\n      <td>15750</td>\n      <td>Uruguay</td>\n      <td>A rich, heady bouquet offers aromas of blackbe...</td>\n      <td>Monte Vide Eu Tannat-Merlot-Tempranillo</td>\n      <td>91</td>\n      <td>60.0</td>\n      <td>Montevideo</td>\n      <td>NaN</td>\n      <td>NaN</td>\n      <td>Michael Schachner</td>\n      <td>@wineschach</td>\n      <td>Bouza 2015 Monte Vide Eu Tannat-Merlot-Tempran...</td>\n      <td>Red Blend</td>\n      <td>Bouza</td>\n      <td>2</td>\n    </tr>\n    <tr>\n      <th>Progreso</th>\n      <td>93103</td>\n      <td>Uruguay</td>\n      <td>Rusty in color but deep and complex in nature,...</td>\n      <td>Etxe Oneko Fortified Sweet Red</td>\n      <td>90</td>\n      <td>46.0</td>\n      <td>Progreso</td>\n      <td>NaN</td>\n      <td>NaN</td>\n      <td>Michael Schachner</td>\n      <td>@wineschach</td>\n      <td>Pisano 2007 Etxe Oneko Fortified Sweet Red Tan...</td>\n      <td>Tannat</td>\n      <td>Pisano</td>\n      <td>2</td>\n    </tr>\n    <tr>\n      <th>San Jose</th>\n      <td>39898</td>\n      <td>Uruguay</td>\n      <td>Baked, sweet, heavy aromas turn earthy with ti...</td>\n      <td>El Preciado Gran Reserva</td>\n      <td>87</td>\n      <td>50.0</td>\n      <td>San Jose</td>\n      <td>NaN</td>\n      <td>NaN</td>\n      <td>Michael Schachner</td>\n      <td>@wineschach</td>\n      <td>Castillo Viejo 2005 El Preciado Gran Reserva R...</td>\n      <td>Red Blend</td>\n      <td>Castillo Viejo</td>\n      <td>2</td>\n    </tr>\n    <tr>\n      <th>Uruguay</th>\n      <td>39361</td>\n      <td>Uruguay</td>\n      <td>Cherry and berry aromas are ripe, healthy and ...</td>\n      <td>Blend 002 Limited Edition</td>\n      <td>91</td>\n      <td>22.0</td>\n      <td>Uruguay</td>\n      <td>NaN</td>\n      <td>NaN</td>\n      <td>Michael Schachner</td>\n      <td>@wineschach</td>\n      <td>Narbona NV Blend 002 Limited Edition Tannat-Ca...</td>\n      <td>Tannat-Cabernet Franc</td>\n      <td>Narbona</td>\n      <td>2</td>\n    </tr>\n  </tbody>\n</table>\n<p>425 rows × 15 columns</p>\n</div>"
     },
     "execution_count": 109,
     "metadata": {},
     "output_type": "execute_result"
    }
   ],
   "source": [
    "reviews.groupby(['country', 'province']).apply(lambda df: df.loc[df.points.idxmax()])"
   ],
   "metadata": {
    "collapsed": false,
    "pycharm": {
     "name": "#%%\n"
    }
   }
  },
  {
   "cell_type": "code",
   "execution_count": 110,
   "outputs": [
    {
     "data": {
      "text/plain": "                            len   min     max\ncountry                                      \nArgentina                3800.0   4.0   230.0\nArmenia                     2.0  14.0    15.0\nAustralia                2329.0   5.0   850.0\nAustria                  3345.0   7.0  1100.0\nBosnia and Herzegovina      2.0  12.0    13.0\nBrazil                     52.0  10.0    60.0\nBulgaria                  141.0   8.0   100.0\nCanada                    257.0  12.0   120.0\nChile                    4472.0   5.0   400.0\nChina                       1.0  18.0    18.0\nCroatia                    73.0  12.0    65.0\nCyprus                     11.0  11.0    21.0\nCzech Republic             12.0  15.0    45.0\nEgypt                       1.0   NaN     NaN\nEngland                    74.0  25.0    95.0\nFrance                  22093.0   5.0  3300.0\nGeorgia                    86.0   9.0    40.0\nGermany                  2165.0   5.0   775.0\nGreece                    466.0   8.0    79.0\nHungary                   146.0  10.0   764.0\nIndia                       9.0  10.0    20.0\nIsrael                    505.0   8.0   150.0\nItaly                   19540.0   5.0   900.0\nLebanon                    35.0  13.0    75.0\nLuxembourg                  6.0  16.0    30.0\nMacedonia                  12.0  15.0    20.0\nMexico                     70.0   8.0   108.0\nMoldova                    59.0   8.0    42.0\nMorocco                    28.0  14.0    40.0\nNew Zealand              1419.0   7.0   130.0\nPeru                       16.0  10.0    68.0\nPortugal                 5691.0   5.0  1000.0\nRomania                   120.0   4.0   320.0\nSerbia                     12.0  15.0    42.0\nSlovakia                    1.0  16.0    16.0\nSlovenia                   87.0   7.0    90.0\nSouth Africa             1401.0   5.0   330.0\nSpain                    6645.0   4.0   770.0\nSwitzerland                 7.0  21.0   160.0\nTurkey                     90.0  14.0   120.0\nUS                      54504.0   4.0  2013.0\nUkraine                    14.0   6.0    13.0\nUruguay                   109.0  10.0   130.0",
      "text/html": "<div>\n<style scoped>\n    .dataframe tbody tr th:only-of-type {\n        vertical-align: middle;\n    }\n\n    .dataframe tbody tr th {\n        vertical-align: top;\n    }\n\n    .dataframe thead th {\n        text-align: right;\n    }\n</style>\n<table border=\"1\" class=\"dataframe\">\n  <thead>\n    <tr style=\"text-align: right;\">\n      <th></th>\n      <th>len</th>\n      <th>min</th>\n      <th>max</th>\n    </tr>\n    <tr>\n      <th>country</th>\n      <th></th>\n      <th></th>\n      <th></th>\n    </tr>\n  </thead>\n  <tbody>\n    <tr>\n      <th>Argentina</th>\n      <td>3800.0</td>\n      <td>4.0</td>\n      <td>230.0</td>\n    </tr>\n    <tr>\n      <th>Armenia</th>\n      <td>2.0</td>\n      <td>14.0</td>\n      <td>15.0</td>\n    </tr>\n    <tr>\n      <th>Australia</th>\n      <td>2329.0</td>\n      <td>5.0</td>\n      <td>850.0</td>\n    </tr>\n    <tr>\n      <th>Austria</th>\n      <td>3345.0</td>\n      <td>7.0</td>\n      <td>1100.0</td>\n    </tr>\n    <tr>\n      <th>Bosnia and Herzegovina</th>\n      <td>2.0</td>\n      <td>12.0</td>\n      <td>13.0</td>\n    </tr>\n    <tr>\n      <th>Brazil</th>\n      <td>52.0</td>\n      <td>10.0</td>\n      <td>60.0</td>\n    </tr>\n    <tr>\n      <th>Bulgaria</th>\n      <td>141.0</td>\n      <td>8.0</td>\n      <td>100.0</td>\n    </tr>\n    <tr>\n      <th>Canada</th>\n      <td>257.0</td>\n      <td>12.0</td>\n      <td>120.0</td>\n    </tr>\n    <tr>\n      <th>Chile</th>\n      <td>4472.0</td>\n      <td>5.0</td>\n      <td>400.0</td>\n    </tr>\n    <tr>\n      <th>China</th>\n      <td>1.0</td>\n      <td>18.0</td>\n      <td>18.0</td>\n    </tr>\n    <tr>\n      <th>Croatia</th>\n      <td>73.0</td>\n      <td>12.0</td>\n      <td>65.0</td>\n    </tr>\n    <tr>\n      <th>Cyprus</th>\n      <td>11.0</td>\n      <td>11.0</td>\n      <td>21.0</td>\n    </tr>\n    <tr>\n      <th>Czech Republic</th>\n      <td>12.0</td>\n      <td>15.0</td>\n      <td>45.0</td>\n    </tr>\n    <tr>\n      <th>Egypt</th>\n      <td>1.0</td>\n      <td>NaN</td>\n      <td>NaN</td>\n    </tr>\n    <tr>\n      <th>England</th>\n      <td>74.0</td>\n      <td>25.0</td>\n      <td>95.0</td>\n    </tr>\n    <tr>\n      <th>France</th>\n      <td>22093.0</td>\n      <td>5.0</td>\n      <td>3300.0</td>\n    </tr>\n    <tr>\n      <th>Georgia</th>\n      <td>86.0</td>\n      <td>9.0</td>\n      <td>40.0</td>\n    </tr>\n    <tr>\n      <th>Germany</th>\n      <td>2165.0</td>\n      <td>5.0</td>\n      <td>775.0</td>\n    </tr>\n    <tr>\n      <th>Greece</th>\n      <td>466.0</td>\n      <td>8.0</td>\n      <td>79.0</td>\n    </tr>\n    <tr>\n      <th>Hungary</th>\n      <td>146.0</td>\n      <td>10.0</td>\n      <td>764.0</td>\n    </tr>\n    <tr>\n      <th>India</th>\n      <td>9.0</td>\n      <td>10.0</td>\n      <td>20.0</td>\n    </tr>\n    <tr>\n      <th>Israel</th>\n      <td>505.0</td>\n      <td>8.0</td>\n      <td>150.0</td>\n    </tr>\n    <tr>\n      <th>Italy</th>\n      <td>19540.0</td>\n      <td>5.0</td>\n      <td>900.0</td>\n    </tr>\n    <tr>\n      <th>Lebanon</th>\n      <td>35.0</td>\n      <td>13.0</td>\n      <td>75.0</td>\n    </tr>\n    <tr>\n      <th>Luxembourg</th>\n      <td>6.0</td>\n      <td>16.0</td>\n      <td>30.0</td>\n    </tr>\n    <tr>\n      <th>Macedonia</th>\n      <td>12.0</td>\n      <td>15.0</td>\n      <td>20.0</td>\n    </tr>\n    <tr>\n      <th>Mexico</th>\n      <td>70.0</td>\n      <td>8.0</td>\n      <td>108.0</td>\n    </tr>\n    <tr>\n      <th>Moldova</th>\n      <td>59.0</td>\n      <td>8.0</td>\n      <td>42.0</td>\n    </tr>\n    <tr>\n      <th>Morocco</th>\n      <td>28.0</td>\n      <td>14.0</td>\n      <td>40.0</td>\n    </tr>\n    <tr>\n      <th>New Zealand</th>\n      <td>1419.0</td>\n      <td>7.0</td>\n      <td>130.0</td>\n    </tr>\n    <tr>\n      <th>Peru</th>\n      <td>16.0</td>\n      <td>10.0</td>\n      <td>68.0</td>\n    </tr>\n    <tr>\n      <th>Portugal</th>\n      <td>5691.0</td>\n      <td>5.0</td>\n      <td>1000.0</td>\n    </tr>\n    <tr>\n      <th>Romania</th>\n      <td>120.0</td>\n      <td>4.0</td>\n      <td>320.0</td>\n    </tr>\n    <tr>\n      <th>Serbia</th>\n      <td>12.0</td>\n      <td>15.0</td>\n      <td>42.0</td>\n    </tr>\n    <tr>\n      <th>Slovakia</th>\n      <td>1.0</td>\n      <td>16.0</td>\n      <td>16.0</td>\n    </tr>\n    <tr>\n      <th>Slovenia</th>\n      <td>87.0</td>\n      <td>7.0</td>\n      <td>90.0</td>\n    </tr>\n    <tr>\n      <th>South Africa</th>\n      <td>1401.0</td>\n      <td>5.0</td>\n      <td>330.0</td>\n    </tr>\n    <tr>\n      <th>Spain</th>\n      <td>6645.0</td>\n      <td>4.0</td>\n      <td>770.0</td>\n    </tr>\n    <tr>\n      <th>Switzerland</th>\n      <td>7.0</td>\n      <td>21.0</td>\n      <td>160.0</td>\n    </tr>\n    <tr>\n      <th>Turkey</th>\n      <td>90.0</td>\n      <td>14.0</td>\n      <td>120.0</td>\n    </tr>\n    <tr>\n      <th>US</th>\n      <td>54504.0</td>\n      <td>4.0</td>\n      <td>2013.0</td>\n    </tr>\n    <tr>\n      <th>Ukraine</th>\n      <td>14.0</td>\n      <td>6.0</td>\n      <td>13.0</td>\n    </tr>\n    <tr>\n      <th>Uruguay</th>\n      <td>109.0</td>\n      <td>10.0</td>\n      <td>130.0</td>\n    </tr>\n  </tbody>\n</table>\n</div>"
     },
     "execution_count": 110,
     "metadata": {},
     "output_type": "execute_result"
    }
   ],
   "source": [
    "reviews.groupby(['country']).price.agg([len, min, max])\n",
    "\n"
   ],
   "metadata": {
    "collapsed": false,
    "pycharm": {
     "name": "#%%\n"
    }
   }
  },
  {
   "cell_type": "markdown",
   "source": [
    "### Exercises: Grouping and Sorting\n"
   ],
   "metadata": {
    "collapsed": false,
    "pycharm": {
     "name": "#%% md\n"
    }
   }
  },
  {
   "cell_type": "code",
   "execution_count": 114,
   "outputs": [
    {
     "data": {
      "text/plain": "@vossroger          25514\n@wineschach         15134\n@kerinokeefe        10776\n@vboone              9537\n@paulgwine           9532\n@mattkettmann        6332\n@JoeCz               5147\n@wawinereport        4966\n@gordone_cellars     4177\n@AnneInVino          3685\n@laurbuzz            1835\n@suskostrzewa        1085\n@worldwineguys       1005\n@bkfiona               27\n@winewchristina         6\nName: taster_twitter_handle, dtype: int64"
     },
     "execution_count": 114,
     "metadata": {},
     "output_type": "execute_result"
    }
   ],
   "source": [
    "reviews['taster_twitter_handle'].value_counts()"
   ],
   "metadata": {
    "collapsed": false,
    "pycharm": {
     "name": "#%%\n"
    }
   }
  },
  {
   "cell_type": "code",
   "execution_count": 115,
   "outputs": [
    {
     "data": {
      "text/plain": "Index(['Unnamed: 0', 'country', 'description', 'designation', 'points',\n       'price', 'province', 'region_1', 'region_2', 'taster_name',\n       'taster_twitter_handle', 'title', 'variety', 'winery', 'star_ratings'],\n      dtype='object')"
     },
     "execution_count": 115,
     "metadata": {},
     "output_type": "execute_result"
    }
   ],
   "source": [
    "reviews.columns"
   ],
   "metadata": {
    "collapsed": false,
    "pycharm": {
     "name": "#%%\n"
    }
   }
  },
  {
   "cell_type": "code",
   "execution_count": 126,
   "outputs": [
    {
     "data": {
      "text/plain": "taster_twitter_handle\n@vossroger          25514\n@wineschach         15134\n@kerinokeefe        10776\n@vboone              9537\n@paulgwine           9532\n@mattkettmann        6332\n@JoeCz               5147\n@wawinereport        4966\n@gordone_cellars     4177\n@AnneInVino          3685\n@laurbuzz            1835\n@suskostrzewa        1085\n@worldwineguys       1005\n@bkfiona               27\n@winewchristina         6\nName: taster_twitter_handle, dtype: int64"
     },
     "execution_count": 126,
     "metadata": {},
     "output_type": "execute_result"
    }
   ],
   "source": [
    "reviews_written = reviews.groupby('taster_twitter_handle')['taster_twitter_handle'].count().sort_values(ascending=False)\n",
    "reviews_written"
   ],
   "metadata": {
    "collapsed": false,
    "pycharm": {
     "name": "#%%\n"
    }
   }
  },
  {
   "cell_type": "code",
   "execution_count": 127,
   "outputs": [],
   "source": [
    "reviews_written = reviews.groupby('taster_twitter_handle')['taster_twitter_handle'].size().sort_values(ascending=False)"
   ],
   "metadata": {
    "collapsed": false,
    "pycharm": {
     "name": "#%%\n"
    }
   }
  },
  {
   "cell_type": "code",
   "execution_count": 128,
   "outputs": [
    {
     "data": {
      "text/plain": "taster_twitter_handle\n@vossroger          25514\n@wineschach         15134\n@kerinokeefe        10776\n@vboone              9537\n@paulgwine           9532\n@mattkettmann        6332\n@JoeCz               5147\n@wawinereport        4966\n@gordone_cellars     4177\n@AnneInVino          3685\n@laurbuzz            1835\n@suskostrzewa        1085\n@worldwineguys       1005\n@bkfiona               27\n@winewchristina         6\nName: taster_twitter_handle, dtype: int64"
     },
     "execution_count": 128,
     "metadata": {},
     "output_type": "execute_result"
    }
   ],
   "source": [
    "reviews_written\n"
   ],
   "metadata": {
    "collapsed": false,
    "pycharm": {
     "name": "#%%\n"
    }
   }
  },
  {
   "cell_type": "code",
   "execution_count": 133,
   "outputs": [
    {
     "data": {
      "text/plain": "price\n4.0       86\n5.0       87\n6.0       88\n7.0       91\n8.0       91\n          ..\n1900.0    98\n2000.0    97\n2013.0    91\n2500.0    96\n3300.0    88\nName: points, Length: 390, dtype: int64"
     },
     "execution_count": 133,
     "metadata": {},
     "output_type": "execute_result"
    }
   ],
   "source": [
    "reviews.groupby('price')['points'].max().sort_index(ascending=True)"
   ],
   "metadata": {
    "collapsed": false,
    "pycharm": {
     "name": "#%%\n"
    }
   }
  },
  {
   "cell_type": "code",
   "execution_count": 141,
   "outputs": [],
   "source": [
    "price_extremes = reviews.groupby('variety')['price'].agg([min, max])"
   ],
   "metadata": {
    "collapsed": false,
    "pycharm": {
     "name": "#%%\n"
    }
   }
  },
  {
   "cell_type": "code",
   "execution_count": 148,
   "outputs": [
    {
     "data": {
      "text/plain": "                                  min    max\nvariety                                     \nRamisco                         495.0  495.0\nTerrantez                       236.0  236.0\nFrancisa                        160.0  160.0\nRosenmuskateller                150.0  150.0\nTinta Negra Mole                112.0  112.0\n...                               ...    ...\nRoscetto                          NaN    NaN\nSauvignon Blanc-Sauvignon Gris    NaN    NaN\nTempranillo-Malbec                NaN    NaN\nVital                             NaN    NaN\nZelen                             NaN    NaN\n\n[707 rows x 2 columns]",
      "text/html": "<div>\n<style scoped>\n    .dataframe tbody tr th:only-of-type {\n        vertical-align: middle;\n    }\n\n    .dataframe tbody tr th {\n        vertical-align: top;\n    }\n\n    .dataframe thead th {\n        text-align: right;\n    }\n</style>\n<table border=\"1\" class=\"dataframe\">\n  <thead>\n    <tr style=\"text-align: right;\">\n      <th></th>\n      <th>min</th>\n      <th>max</th>\n    </tr>\n    <tr>\n      <th>variety</th>\n      <th></th>\n      <th></th>\n    </tr>\n  </thead>\n  <tbody>\n    <tr>\n      <th>Ramisco</th>\n      <td>495.0</td>\n      <td>495.0</td>\n    </tr>\n    <tr>\n      <th>Terrantez</th>\n      <td>236.0</td>\n      <td>236.0</td>\n    </tr>\n    <tr>\n      <th>Francisa</th>\n      <td>160.0</td>\n      <td>160.0</td>\n    </tr>\n    <tr>\n      <th>Rosenmuskateller</th>\n      <td>150.0</td>\n      <td>150.0</td>\n    </tr>\n    <tr>\n      <th>Tinta Negra Mole</th>\n      <td>112.0</td>\n      <td>112.0</td>\n    </tr>\n    <tr>\n      <th>...</th>\n      <td>...</td>\n      <td>...</td>\n    </tr>\n    <tr>\n      <th>Roscetto</th>\n      <td>NaN</td>\n      <td>NaN</td>\n    </tr>\n    <tr>\n      <th>Sauvignon Blanc-Sauvignon Gris</th>\n      <td>NaN</td>\n      <td>NaN</td>\n    </tr>\n    <tr>\n      <th>Tempranillo-Malbec</th>\n      <td>NaN</td>\n      <td>NaN</td>\n    </tr>\n    <tr>\n      <th>Vital</th>\n      <td>NaN</td>\n      <td>NaN</td>\n    </tr>\n    <tr>\n      <th>Zelen</th>\n      <td>NaN</td>\n      <td>NaN</td>\n    </tr>\n  </tbody>\n</table>\n<p>707 rows × 2 columns</p>\n</div>"
     },
     "execution_count": 148,
     "metadata": {},
     "output_type": "execute_result"
    }
   ],
   "source": [
    "price_extremes.sort_values(by=['min', 'max'], ascending=False)"
   ],
   "metadata": {
    "collapsed": false,
    "pycharm": {
     "name": "#%%\n"
    }
   }
  },
  {
   "cell_type": "code",
   "execution_count": 149,
   "outputs": [
    {
     "data": {
      "text/plain": "Index(['Unnamed: 0', 'country', 'description', 'designation', 'points',\n       'price', 'province', 'region_1', 'region_2', 'taster_name',\n       'taster_twitter_handle', 'title', 'variety', 'winery', 'star_ratings'],\n      dtype='object')"
     },
     "execution_count": 149,
     "metadata": {},
     "output_type": "execute_result"
    }
   ],
   "source": [
    "reviews.columns"
   ],
   "metadata": {
    "collapsed": false,
    "pycharm": {
     "name": "#%%\n"
    }
   }
  },
  {
   "cell_type": "code",
   "execution_count": 154,
   "outputs": [],
   "source": [
    "reviewer_mean_ratings = reviews.groupby('taster_name')['points'].mean()"
   ],
   "metadata": {
    "collapsed": false,
    "pycharm": {
     "name": "#%%\n"
    }
   }
  },
  {
   "cell_type": "code",
   "execution_count": 153,
   "outputs": [
    {
     "data": {
      "text/plain": "taster_name\nAlexander Peartree    85.855422\nAnna Lee C. Iijima    88.415629\nAnne Krebiehl MW      90.562551\nCarrie Dykes          86.395683\nChristina Pickard     87.833333\nFiona Adams           86.888889\nJeff Jenssen          88.319756\nJim Gordon            88.626287\nJoe Czerwinski        88.536235\nKerin O’Keefe         88.867947\nLauren Buzzeo         87.739510\nMatt Kettmann         90.008686\nMichael Schachner     86.907493\nMike DeSimone         89.101167\nPaul Gregutt          89.082564\nRoger Voss            88.708003\nSean P. Sullivan      88.755739\nSusan Kostrzewa       86.609217\nVirginie Boone        89.213379\nName: points, dtype: float64"
     },
     "execution_count": 153,
     "metadata": {},
     "output_type": "execute_result"
    }
   ],
   "source": [
    "reviews.groupby('taster_name')['points'].agg(np.mean)"
   ],
   "metadata": {
    "collapsed": false,
    "pycharm": {
     "name": "#%%\n"
    }
   }
  },
  {
   "cell_type": "code",
   "execution_count": 155,
   "outputs": [
    {
     "data": {
      "text/plain": "count    19.000000\nmean     88.233026\nstd       1.243610\nmin      85.855422\n25%      87.323501\n50%      88.536235\n75%      88.975256\nmax      90.562551\nName: points, dtype: float64"
     },
     "execution_count": 155,
     "metadata": {},
     "output_type": "execute_result"
    }
   ],
   "source": [
    "reviewer_mean_ratings.describe()\n"
   ],
   "metadata": {
    "collapsed": false,
    "pycharm": {
     "name": "#%%\n"
    }
   }
  },
  {
   "cell_type": "code",
   "execution_count": 157,
   "outputs": [
    {
     "data": {
      "text/plain": "country    variety                 \nUS         Pinot Noir                  9885\n           Cabernet Sauvignon          7315\n           Chardonnay                  6801\nFrance     Bordeaux-style Red Blend    4725\nItaly      Red Blend                   3624\n                                       ... \nUruguay    Tempranillo-Tannat             1\nItaly      Pignolo                        1\n           Muscat                         1\n           Moscato di Noto                1\nArgentina  Barbera                        1\nLength: 1612, dtype: int64"
     },
     "execution_count": 157,
     "metadata": {},
     "output_type": "execute_result"
    }
   ],
   "source": [
    "reviews.groupby(['country', 'variety']).size().sort_values(ascending=False)"
   ],
   "metadata": {
    "collapsed": false,
    "pycharm": {
     "name": "#%%\n"
    }
   }
  },
  {
   "cell_type": "code",
   "execution_count": null,
   "outputs": [],
   "source": [],
   "metadata": {
    "collapsed": false,
    "pycharm": {
     "name": "#%%\n"
    }
   }
  }
 ],
 "metadata": {
  "kernelspec": {
   "display_name": "Python 3",
   "language": "python",
   "name": "python3"
  },
  "language_info": {
   "codemirror_mode": {
    "name": "ipython",
    "version": 2
   },
   "file_extension": ".py",
   "mimetype": "text/x-python",
   "name": "python",
   "nbconvert_exporter": "python",
   "pygments_lexer": "ipython2",
   "version": "2.7.6"
  }
 },
 "nbformat": 4,
 "nbformat_minor": 0
}